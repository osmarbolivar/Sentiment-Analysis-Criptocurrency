{
 "cells": [
  {
   "cell_type": "code",
   "execution_count": null,
   "metadata": {},
   "outputs": [
    {
     "name": "stdout",
     "output_type": "stream",
     "text": [
      "Note: you may need to restart the kernel to use updated packages.Collecting kagglehub\n",
      "  Downloading kagglehub-0.3.11-py3-none-any.whl.metadata (32 kB)\n",
      "Requirement already satisfied: packaging in c:\\users\\osmar.bolivar\\appdata\\local\\programs\\python\\python310\\lib\\site-packages (from kagglehub) (23.2)\n",
      "Requirement already satisfied: pyyaml in c:\\users\\osmar.bolivar\\appdata\\roaming\\python\\python310\\site-packages (from kagglehub) (6.0.2)\n",
      "Requirement already satisfied: requests in c:\\users\\osmar.bolivar\\appdata\\roaming\\python\\python310\\site-packages (from kagglehub) (2.32.3)\n",
      "Requirement already satisfied: tqdm in c:\\users\\osmar.bolivar\\appdata\\local\\programs\\python\\python310\\lib\\site-packages (from kagglehub) (4.67.1)\n",
      "Requirement already satisfied: charset-normalizer<4,>=2 in c:\\users\\osmar.bolivar\\appdata\\roaming\\python\\python310\\site-packages (from requests->kagglehub) (3.4.1)\n",
      "Requirement already satisfied: idna<4,>=2.5 in c:\\users\\osmar.bolivar\\appdata\\roaming\\python\\python310\\site-packages (from requests->kagglehub) (3.10)\n",
      "Requirement already satisfied: urllib3<3,>=1.21.1 in c:\\users\\osmar.bolivar\\appdata\\local\\programs\\python\\python310\\lib\\site-packages (from requests->kagglehub) (2.3.0)\n",
      "Requirement already satisfied: certifi>=2017.4.17 in c:\\users\\osmar.bolivar\\appdata\\roaming\\python\\python310\\site-packages (from requests->kagglehub) (2025.1.31)\n",
      "Requirement already satisfied: colorama in c:\\users\\osmar.bolivar\\appdata\\roaming\\python\\python310\\site-packages (from tqdm->kagglehub) (0.4.6)\n",
      "Downloading kagglehub-0.3.11-py3-none-any.whl (63 kB)\n",
      "Installing collected packages: kagglehub\n",
      "Successfully installed kagglehub-0.3.11\n",
      "\n"
     ]
    },
    {
     "name": "stderr",
     "output_type": "stream",
     "text": [
      "\n",
      "[notice] A new release of pip is available: 25.0 -> 25.0.1\n",
      "[notice] To update, run: python.exe -m pip install --upgrade pip\n"
     ]
    }
   ],
   "source": [
    "#%pip install kagglehub"
   ]
  },
  {
   "cell_type": "code",
   "execution_count": null,
   "metadata": {},
   "outputs": [
    {
     "name": "stderr",
     "output_type": "stream",
     "text": [
      "c:\\Users\\osmar.bolivar\\AppData\\Local\\Programs\\Python\\Python310\\lib\\site-packages\\tqdm\\auto.py:21: TqdmWarning: IProgress not found. Please update jupyter and ipywidgets. See https://ipywidgets.readthedocs.io/en/stable/user_install.html\n",
      "  from .autonotebook import tqdm as notebook_tqdm\n"
     ]
    }
   ],
   "source": [
    "import numpy as np\n",
    "import pandas as pd\n",
    "import matplotlib.pyplot as plt\n",
    "import seaborn as sns\n",
    "import statsmodels.api as sm\n",
    "import plotly.express as px\n",
    "import plotly.graph_objects as go\n",
    "import kagglehub\n",
    "from kagglehub import KaggleDatasetAdapter\n",
    "from statsmodels.tsa.seasonal import STL\n"
   ]
  },
  {
   "cell_type": "markdown",
   "metadata": {},
   "source": [
    "## 1. Data"
   ]
  },
  {
   "cell_type": "code",
   "execution_count": 2,
   "metadata": {},
   "outputs": [],
   "source": [
    "dolarbo = pd.read_excel('./DATA/dolarbo_time_series.xlsx', index_col=0)\n",
    "dolarbo.index = pd.to_datetime(dolarbo.index)"
   ]
  },
  {
   "cell_type": "code",
   "execution_count": 3,
   "metadata": {},
   "outputs": [
    {
     "data": {
      "text/html": [
       "<div>\n",
       "<style scoped>\n",
       "    .dataframe tbody tr th:only-of-type {\n",
       "        vertical-align: middle;\n",
       "    }\n",
       "\n",
       "    .dataframe tbody tr th {\n",
       "        vertical-align: top;\n",
       "    }\n",
       "\n",
       "    .dataframe thead th {\n",
       "        text-align: right;\n",
       "    }\n",
       "</style>\n",
       "<table border=\"1\" class=\"dataframe\">\n",
       "  <thead>\n",
       "    <tr style=\"text-align: right;\">\n",
       "      <th></th>\n",
       "      <th>Compra</th>\n",
       "      <th>Venta</th>\n",
       "    </tr>\n",
       "    <tr>\n",
       "      <th>timestamp</th>\n",
       "      <th></th>\n",
       "      <th></th>\n",
       "    </tr>\n",
       "  </thead>\n",
       "  <tbody>\n",
       "    <tr>\n",
       "      <th>2023-09-21 18:00:00</th>\n",
       "      <td>7.40</td>\n",
       "      <td>7.55</td>\n",
       "    </tr>\n",
       "    <tr>\n",
       "      <th>2023-09-22 18:00:00</th>\n",
       "      <td>7.40</td>\n",
       "      <td>7.55</td>\n",
       "    </tr>\n",
       "    <tr>\n",
       "      <th>2023-11-18 10:00:00</th>\n",
       "      <td>7.41</td>\n",
       "      <td>7.56</td>\n",
       "    </tr>\n",
       "    <tr>\n",
       "      <th>2023-12-12 17:00:00</th>\n",
       "      <td>7.55</td>\n",
       "      <td>7.65</td>\n",
       "    </tr>\n",
       "    <tr>\n",
       "      <th>2024-02-22 09:47:00</th>\n",
       "      <td>8.12</td>\n",
       "      <td>8.40</td>\n",
       "    </tr>\n",
       "    <tr>\n",
       "      <th>...</th>\n",
       "      <td>...</td>\n",
       "      <td>...</td>\n",
       "    </tr>\n",
       "    <tr>\n",
       "      <th>2025-03-11 16:56:00</th>\n",
       "      <td>11.10</td>\n",
       "      <td>11.60</td>\n",
       "    </tr>\n",
       "    <tr>\n",
       "      <th>2025-03-12 12:34:00</th>\n",
       "      <td>11.20</td>\n",
       "      <td>11.70</td>\n",
       "    </tr>\n",
       "    <tr>\n",
       "      <th>2025-03-12 18:26:00</th>\n",
       "      <td>11.50</td>\n",
       "      <td>12.00</td>\n",
       "    </tr>\n",
       "    <tr>\n",
       "      <th>2025-03-12 23:11:00</th>\n",
       "      <td>11.60</td>\n",
       "      <td>12.20</td>\n",
       "    </tr>\n",
       "    <tr>\n",
       "      <th>2025-03-13 11:43:00</th>\n",
       "      <td>11.80</td>\n",
       "      <td>12.30</td>\n",
       "    </tr>\n",
       "  </tbody>\n",
       "</table>\n",
       "<p>479 rows × 2 columns</p>\n",
       "</div>"
      ],
      "text/plain": [
       "                     Compra  Venta\n",
       "timestamp                         \n",
       "2023-09-21 18:00:00    7.40   7.55\n",
       "2023-09-22 18:00:00    7.40   7.55\n",
       "2023-11-18 10:00:00    7.41   7.56\n",
       "2023-12-12 17:00:00    7.55   7.65\n",
       "2024-02-22 09:47:00    8.12   8.40\n",
       "...                     ...    ...\n",
       "2025-03-11 16:56:00   11.10  11.60\n",
       "2025-03-12 12:34:00   11.20  11.70\n",
       "2025-03-12 18:26:00   11.50  12.00\n",
       "2025-03-12 23:11:00   11.60  12.20\n",
       "2025-03-13 11:43:00   11.80  12.30\n",
       "\n",
       "[479 rows x 2 columns]"
      ]
     },
     "execution_count": 3,
     "metadata": {},
     "output_type": "execute_result"
    }
   ],
   "source": [
    "usdt_luis = pd.read_excel('./DATA/usdt_lucho.xlsx')\n",
    "# Ensure column names are stripped of extra spaces\n",
    "usdt_luis.columns = usdt_luis.columns.str.strip()\n",
    "# Combine 'Fecha' and 'hora' columns to create a 'timestamp' column\n",
    "usdt_luis['timestamp'] = pd.to_datetime(usdt_luis['Fecha'].astype(str) + \" \" + usdt_luis['hora'].astype(str))\n",
    "usdt_luis.index = usdt_luis['timestamp']\n",
    "usdt_luis = usdt_luis.drop(['Fecha', 'hora', 'timestamp'], axis=1)\n",
    "usdt_luis"
   ]
  },
  {
   "cell_type": "code",
   "execution_count": 4,
   "metadata": {},
   "outputs": [
    {
     "data": {
      "text/html": [
       "<div>\n",
       "<style scoped>\n",
       "    .dataframe tbody tr th:only-of-type {\n",
       "        vertical-align: middle;\n",
       "    }\n",
       "\n",
       "    .dataframe tbody tr th {\n",
       "        vertical-align: top;\n",
       "    }\n",
       "\n",
       "    .dataframe thead th {\n",
       "        text-align: right;\n",
       "    }\n",
       "</style>\n",
       "<table border=\"1\" class=\"dataframe\">\n",
       "  <thead>\n",
       "    <tr style=\"text-align: right;\">\n",
       "      <th></th>\n",
       "      <th>Bs</th>\n",
       "    </tr>\n",
       "    <tr>\n",
       "      <th>timestamp</th>\n",
       "      <th></th>\n",
       "    </tr>\n",
       "  </thead>\n",
       "  <tbody>\n",
       "    <tr>\n",
       "      <th>2024-08-06</th>\n",
       "      <td>12.89</td>\n",
       "    </tr>\n",
       "    <tr>\n",
       "      <th>2024-08-06</th>\n",
       "      <td>12.86</td>\n",
       "    </tr>\n",
       "    <tr>\n",
       "      <th>2024-08-06</th>\n",
       "      <td>12.82</td>\n",
       "    </tr>\n",
       "    <tr>\n",
       "      <th>2024-08-06</th>\n",
       "      <td>12.72</td>\n",
       "    </tr>\n",
       "    <tr>\n",
       "      <th>2024-08-06</th>\n",
       "      <td>12.44</td>\n",
       "    </tr>\n",
       "    <tr>\n",
       "      <th>...</th>\n",
       "      <td>...</td>\n",
       "    </tr>\n",
       "    <tr>\n",
       "      <th>2025-04-14</th>\n",
       "      <td>13.43</td>\n",
       "    </tr>\n",
       "    <tr>\n",
       "      <th>2025-04-14</th>\n",
       "      <td>13.42</td>\n",
       "    </tr>\n",
       "    <tr>\n",
       "      <th>2025-04-14</th>\n",
       "      <td>13.41</td>\n",
       "    </tr>\n",
       "    <tr>\n",
       "      <th>2025-04-14</th>\n",
       "      <td>13.43</td>\n",
       "    </tr>\n",
       "    <tr>\n",
       "      <th>2025-04-14</th>\n",
       "      <td>13.44</td>\n",
       "    </tr>\n",
       "  </tbody>\n",
       "</table>\n",
       "<p>1191 rows × 1 columns</p>\n",
       "</div>"
      ],
      "text/plain": [
       "               Bs\n",
       "timestamp        \n",
       "2024-08-06  12.89\n",
       "2024-08-06  12.86\n",
       "2024-08-06  12.82\n",
       "2024-08-06  12.72\n",
       "2024-08-06  12.44\n",
       "...           ...\n",
       "2025-04-14  13.43\n",
       "2025-04-14  13.42\n",
       "2025-04-14  13.41\n",
       "2025-04-14  13.43\n",
       "2025-04-14  13.44\n",
       "\n",
       "[1191 rows x 1 columns]"
      ]
     },
     "execution_count": 4,
     "metadata": {},
     "output_type": "execute_result"
    }
   ],
   "source": [
    "usdtbol = pd.read_excel('./DATA/usdtbol_time_series.xlsx')\n",
    "usdtbol['timestamp'] = pd.to_datetime(usdtbol['category'], format='%a %b %d %Y')\n",
    "usdtbol.index = usdtbol['timestamp']\n",
    "usdtbol = usdtbol.drop(['category', 'timestamp'], axis=1)\n",
    "#usdtbol['aux'] = 1\n",
    "#usdtbol['within_day'] = usdtbol.resample('D')['aux'].transform('sum')\n",
    "usdtbol"
   ]
  },
  {
   "cell_type": "code",
   "execution_count": 5,
   "metadata": {},
   "outputs": [],
   "source": [
    "usdtbol_day = usdtbol.resample('D').mean()"
   ]
  },
  {
   "cell_type": "code",
   "execution_count": 6,
   "metadata": {},
   "outputs": [
    {
     "data": {
      "application/vnd.plotly.v1+json": {
       "config": {
        "plotlyServerURL": "https://plot.ly"
       },
       "data": [
        {
         "line": {
          "color": "blue"
         },
         "mode": "lines",
         "name": "Buy",
         "type": "scatter",
         "x": [
          "2023-09-21T18:00:00.000000000",
          "2023-09-22T18:00:00.000000000",
          "2023-11-18T10:00:00.000000000",
          "2023-12-12T17:00:00.000000000",
          "2024-02-22T09:47:00.000000000",
          "2024-02-26T12:59:00.000000000",
          "2024-03-01T11:38:00.000000000",
          "2024-03-13T11:44:00.000000000",
          "2024-03-25T08:49:00.000000000",
          "2024-05-06T13:09:00.000000000",
          "2024-05-22T09:37:00.000000000",
          "2024-05-23T17:41:00.000000000",
          "2024-06-14T12:35:00.000000000",
          "2024-06-17T08:40:00.000000000",
          "2024-06-18T11:53:00.000000000",
          "2024-06-19T11:58:00.000000000",
          "2024-06-20T12:35:00.000000000",
          "2024-06-21T10:38:00.000000000",
          "2024-06-22T10:36:00.000000000",
          "2024-06-23T14:56:00.000000000",
          "2024-06-24T11:07:00.000000000",
          "2024-06-25T11:34:00.000000000",
          "2024-06-26T11:15:00.000000000",
          "2024-06-26T22:24:00.000000000",
          "2024-06-27T00:21:00.000000000",
          "2024-06-27T10:33:00.000000000",
          "2024-06-27T17:57:00.000000000",
          "2024-06-28T11:35:00.000000000",
          "2024-06-29T12:24:00.000000000",
          "2024-06-30T10:15:00.000000000",
          "2024-07-01T12:30:00.000000000",
          "2024-07-02T13:13:00.000000000",
          "2024-07-03T12:08:00.000000000",
          "2024-07-04T09:46:00.000000000",
          "2024-07-05T16:17:00.000000000",
          "2024-07-05T17:08:00.000000000",
          "2024-07-06T11:00:00.000000000",
          "2024-07-07T17:04:00.000000000",
          "2024-07-08T10:01:00.000000000",
          "2024-07-09T15:42:00.000000000",
          "2024-07-10T10:19:00.000000000",
          "2024-07-11T09:45:00.000000000",
          "2024-07-12T12:59:00.000000000",
          "2024-07-13T13:00:00.000000000",
          "2024-07-14T12:59:00.000000000",
          "2024-07-15T10:15:00.000000000",
          "2024-07-16T09:21:00.000000000",
          "2024-07-17T12:46:00.000000000",
          "2024-07-18T10:28:00.000000000",
          "2024-07-18T19:16:00.000000000",
          "2024-07-19T12:49:00.000000000",
          "2024-07-20T12:22:00.000000000",
          "2024-07-21T11:19:00.000000000",
          "2024-07-22T09:28:00.000000000",
          "2024-07-23T09:56:00.000000000",
          "2024-07-24T13:02:00.000000000",
          "2024-07-25T08:44:00.000000000",
          "2024-07-26T12:59:00.000000000",
          "2024-07-28T12:59:00.000000000",
          "2024-07-29T11:12:00.000000000",
          "2024-07-30T00:00:00.000000000",
          "2024-07-30T10:29:00.000000000",
          "2024-07-31T17:41:00.000000000",
          "2024-07-31T22:41:00.000000000",
          "2024-08-01T10:19:00.000000000",
          "2024-08-01T13:21:00.000000000",
          "2024-08-01T16:55:00.000000000",
          "2024-08-02T11:11:00.000000000",
          "2024-08-02T18:08:00.000000000",
          "2024-08-03T14:42:00.000000000",
          "2024-08-04T13:15:00.000000000",
          "2024-08-04T16:58:00.000000000",
          "2024-08-05T16:59:00.000000000",
          "2024-08-05T23:24:00.000000000",
          "2024-08-06T12:33:00.000000000",
          "2024-08-06T17:12:00.000000000",
          "2024-08-07T12:14:00.000000000",
          "2024-08-07T17:01:00.000000000",
          "2024-08-08T11:56:00.000000000",
          "2024-08-08T17:00:00.000000000",
          "2024-08-08T17:21:00.000000000",
          "2024-08-09T12:45:00.000000000",
          "2024-08-09T16:38:00.000000000",
          "2024-08-09T21:29:00.000000000",
          "2024-08-10T12:06:00.000000000",
          "2024-08-10T16:46:00.000000000",
          "2024-08-10T21:04:00.000000000",
          "2024-08-11T23:01:00.000000000",
          "2024-08-12T12:00:00.000000000",
          "2024-08-12T17:34:00.000000000",
          "2024-08-12T21:35:00.000000000",
          "2024-08-13T12:11:00.000000000",
          "2024-08-13T18:19:00.000000000",
          "2024-08-13T22:13:00.000000000",
          "2024-08-14T14:26:00.000000000",
          "2024-08-14T16:59:00.000000000",
          "2024-08-14T22:33:00.000000000",
          "2024-08-15T11:37:00.000000000",
          "2024-08-15T18:19:00.000000000",
          "2024-08-15T22:13:00.000000000",
          "2024-08-16T12:16:00.000000000",
          "2024-08-16T16:59:00.000000000",
          "2024-08-16T22:45:00.000000000",
          "2024-08-17T11:58:00.000000000",
          "2024-08-17T17:00:00.000000000",
          "2024-08-18T13:43:00.000000000",
          "2024-08-18T17:07:00.000000000",
          "2024-08-19T12:16:00.000000000",
          "2024-08-19T19:58:00.000000000",
          "2024-08-20T12:19:00.000000000",
          "2024-08-20T17:57:00.000000000",
          "2024-08-20T22:31:00.000000000",
          "2024-08-21T13:09:00.000000000",
          "2024-08-21T23:04:00.000000000",
          "2024-08-22T11:59:00.000000000",
          "2024-08-22T17:24:00.000000000",
          "2024-08-23T11:59:00.000000000",
          "2024-08-23T17:22:00.000000000",
          "2024-08-24T12:35:00.000000000",
          "2024-08-24T18:54:00.000000000",
          "2024-08-24T22:41:00.000000000",
          "2024-08-25T13:38:00.000000000",
          "2024-08-25T17:22:00.000000000",
          "2024-08-26T14:01:00.000000000",
          "2024-08-26T16:35:00.000000000",
          "2024-08-26T20:05:00.000000000",
          "2024-08-27T12:20:00.000000000",
          "2024-08-27T16:59:00.000000000",
          "2024-08-27T21:48:00.000000000",
          "2024-08-28T13:13:00.000000000",
          "2024-08-28T18:52:00.000000000",
          "2024-08-28T22:46:00.000000000",
          "2024-08-29T12:37:00.000000000",
          "2024-08-29T17:00:00.000000000",
          "2024-08-30T12:50:00.000000000",
          "2024-08-30T17:08:00.000000000",
          "2024-08-31T12:39:00.000000000",
          "2024-08-31T17:16:00.000000000",
          "2024-09-01T15:28:00.000000000",
          "2024-09-01T23:18:00.000000000",
          "2024-09-02T12:25:00.000000000",
          "2024-09-02T17:32:00.000000000",
          "2024-09-03T12:27:00.000000000",
          "2024-09-03T18:04:00.000000000",
          "2024-09-04T12:36:00.000000000",
          "2024-09-04T19:25:00.000000000",
          "2024-09-05T15:05:00.000000000",
          "2024-09-05T16:59:00.000000000",
          "2024-09-06T11:59:00.000000000",
          "2024-09-06T12:02:00.000000000",
          "2024-09-06T17:20:00.000000000",
          "2024-09-06T21:41:00.000000000",
          "2024-09-07T15:07:00.000000000",
          "2024-09-07T20:55:00.000000000",
          "2024-09-08T18:03:00.000000000",
          "2024-09-09T12:59:00.000000000",
          "2024-09-09T22:11:00.000000000",
          "2024-09-10T12:34:00.000000000",
          "2024-09-10T17:58:00.000000000",
          "2024-09-10T22:55:00.000000000",
          "2024-09-11T12:59:00.000000000",
          "2024-09-11T18:52:00.000000000",
          "2024-09-12T12:59:00.000000000",
          "2024-09-12T17:40:00.000000000",
          "2024-09-12T22:23:00.000000000",
          "2024-09-13T12:46:00.000000000",
          "2024-09-13T17:00:00.000000000",
          "2024-09-13T22:26:00.000000000",
          "2024-09-14T14:10:00.000000000",
          "2024-09-14T17:43:00.000000000",
          "2024-09-15T12:48:00.000000000",
          "2024-09-15T19:12:00.000000000",
          "2024-09-16T11:36:00.000000000",
          "2024-09-16T21:45:00.000000000",
          "2024-09-17T12:01:00.000000000",
          "2024-09-17T16:49:00.000000000",
          "2024-09-17T22:09:00.000000000",
          "2024-09-18T11:59:00.000000000",
          "2024-09-18T23:00:00.000000000",
          "2024-09-19T11:53:00.000000000",
          "2024-09-19T17:00:00.000000000",
          "2024-09-19T23:50:00.000000000",
          "2024-09-20T12:00:00.000000000",
          "2024-09-20T17:20:00.000000000",
          "2024-09-21T13:38:00.000000000",
          "2024-09-21T17:02:00.000000000",
          "2024-09-22T12:02:00.000000000",
          "2024-09-22T17:02:00.000000000",
          "2024-09-23T12:05:00.000000000",
          "2024-09-23T17:39:00.000000000",
          "2024-09-24T11:59:00.000000000",
          "2024-09-24T18:42:00.000000000",
          "2024-09-25T11:59:00.000000000",
          "2024-09-25T16:58:00.000000000",
          "2024-09-26T11:59:00.000000000",
          "2024-09-26T17:25:00.000000000",
          "2024-09-27T12:05:00.000000000",
          "2024-09-27T19:22:00.000000000",
          "2024-09-28T17:13:00.000000000",
          "2024-09-29T12:59:00.000000000",
          "2024-09-29T22:25:00.000000000",
          "2024-09-30T12:00:00.000000000",
          "2024-09-30T17:31:00.000000000",
          "2024-09-30T22:21:00.000000000",
          "2024-10-01T11:59:00.000000000",
          "2024-10-01T16:59:00.000000000",
          "2024-10-02T11:59:00.000000000",
          "2024-10-02T17:00:00.000000000",
          "2024-10-03T11:59:00.000000000",
          "2024-10-03T18:34:00.000000000",
          "2024-10-04T12:07:00.000000000",
          "2024-10-04T16:58:00.000000000",
          "2024-10-05T14:16:00.000000000",
          "2024-10-06T10:44:00.000000000",
          "2024-10-07T12:02:00.000000000",
          "2024-10-07T16:58:00.000000000",
          "2024-10-08T13:12:00.000000000",
          "2024-10-09T12:47:00.000000000",
          "2024-10-09T16:44:00.000000000",
          "2024-10-10T13:23:00.000000000",
          "2024-10-10T18:10:00.000000000",
          "2024-10-10T22:15:00.000000000",
          "2024-10-11T11:59:00.000000000",
          "2024-10-11T18:17:00.000000000",
          "2024-10-11T22:40:00.000000000",
          "2024-10-12T13:04:00.000000000",
          "2024-10-12T19:19:00.000000000",
          "2024-10-13T11:59:00.000000000",
          "2024-10-13T17:25:00.000000000",
          "2024-10-14T13:05:00.000000000",
          "2024-10-14T20:11:00.000000000",
          "2024-10-15T11:39:00.000000000",
          "2024-10-15T18:42:00.000000000",
          "2024-10-16T12:04:00.000000000",
          "2024-10-16T17:00:00.000000000",
          "2024-10-17T12:18:00.000000000",
          "2024-10-17T18:58:00.000000000",
          "2024-10-18T12:59:00.000000000",
          "2024-10-19T13:47:00.000000000",
          "2024-10-19T17:21:00.000000000",
          "2024-10-19T21:31:00.000000000",
          "2024-10-20T21:23:00.000000000",
          "2024-10-21T11:58:00.000000000",
          "2024-10-21T17:31:00.000000000",
          "2024-10-22T11:59:00.000000000",
          "2024-10-22T17:54:00.000000000",
          "2024-10-23T15:21:00.000000000",
          "2024-10-24T11:59:00.000000000",
          "2024-10-24T19:24:00.000000000",
          "2024-10-25T13:01:00.000000000",
          "2024-10-26T15:18:00.000000000",
          "2024-10-26T17:48:00.000000000",
          "2024-10-27T11:59:00.000000000",
          "2024-10-28T12:14:00.000000000",
          "2024-10-28T17:30:00.000000000",
          "2024-10-29T12:01:00.000000000",
          "2024-10-29T17:24:00.000000000",
          "2024-10-30T12:22:00.000000000",
          "2024-10-30T17:10:00.000000000",
          "2024-10-31T12:00:00.000000000",
          "2024-10-31T21:21:00.000000000",
          "2024-11-01T11:59:00.000000000",
          "2024-11-01T23:22:00.000000000",
          "2024-11-02T13:03:00.000000000",
          "2024-11-02T16:59:00.000000000",
          "2024-11-03T17:01:00.000000000",
          "2024-11-04T13:35:00.000000000",
          "2024-11-04T17:50:00.000000000",
          "2024-11-05T16:04:00.000000000",
          "2024-11-06T17:11:00.000000000",
          "2024-11-07T12:27:00.000000000",
          "2024-11-07T17:34:00.000000000",
          "2024-11-08T11:59:00.000000000",
          "2024-11-08T17:05:00.000000000",
          "2024-11-09T11:58:00.000000000",
          "2024-11-09T22:02:00.000000000",
          "2024-11-10T18:28:00.000000000",
          "2024-11-11T13:13:00.000000000",
          "2024-11-11T19:19:00.000000000",
          "2024-11-12T12:09:00.000000000",
          "2024-11-12T22:18:00.000000000",
          "2024-11-13T12:00:00.000000000",
          "2024-11-14T11:52:00.000000000",
          "2024-11-14T21:00:00.000000000",
          "2024-11-15T12:26:00.000000000",
          "2024-11-15T17:27:00.000000000",
          "2024-11-16T13:37:00.000000000",
          "2024-11-16T18:40:00.000000000",
          "2024-11-17T17:52:00.000000000",
          "2024-11-18T12:49:00.000000000",
          "2024-11-18T20:21:00.000000000",
          "2024-11-19T12:30:00.000000000",
          "2024-11-19T18:48:00.000000000",
          "2024-11-20T12:21:00.000000000",
          "2024-11-20T19:02:00.000000000",
          "2024-11-20T22:28:00.000000000",
          "2024-11-21T11:59:00.000000000",
          "2024-11-21T20:51:00.000000000",
          "2024-11-22T11:59:00.000000000",
          "2024-11-22T17:15:00.000000000",
          "2024-11-22T23:27:00.000000000",
          "2024-11-23T11:58:00.000000000",
          "2024-11-23T19:18:00.000000000",
          "2024-11-23T22:24:00.000000000",
          "2024-11-25T11:54:00.000000000",
          "2024-11-25T16:58:00.000000000",
          "2024-11-25T23:08:00.000000000",
          "2024-11-26T11:59:00.000000000",
          "2024-11-26T18:20:00.000000000",
          "2024-11-26T22:02:00.000000000",
          "2024-11-27T13:23:00.000000000",
          "2024-11-27T18:31:00.000000000",
          "2024-11-28T14:46:00.000000000",
          "2024-11-28T23:32:00.000000000",
          "2024-11-29T13:35:00.000000000",
          "2024-11-29T16:58:00.000000000",
          "2024-11-30T14:11:00.000000000",
          "2024-11-30T17:00:00.000000000",
          "2024-12-01T13:58:00.000000000",
          "2024-12-02T11:32:00.000000000",
          "2024-12-02T18:46:00.000000000",
          "2024-12-03T12:08:00.000000000",
          "2024-12-03T18:21:00.000000000",
          "2024-12-04T12:15:00.000000000",
          "2024-12-04T17:42:00.000000000",
          "2024-12-05T12:37:00.000000000",
          "2024-12-05T20:15:00.000000000",
          "2024-12-06T12:00:00.000000000",
          "2024-12-06T17:06:00.000000000",
          "2024-12-07T12:28:00.000000000",
          "2024-12-08T11:59:00.000000000",
          "2024-12-09T11:59:00.000000000",
          "2024-12-09T17:50:00.000000000",
          "2024-12-10T12:31:00.000000000",
          "2024-12-10T19:05:00.000000000",
          "2024-12-11T12:00:00.000000000",
          "2024-12-11T18:24:00.000000000",
          "2024-12-12T12:01:00.000000000",
          "2024-12-12T18:02:00.000000000",
          "2024-12-13T11:59:00.000000000",
          "2024-12-13T19:24:00.000000000",
          "2024-12-14T11:59:00.000000000",
          "2024-12-16T14:01:00.000000000",
          "2024-12-16T17:51:00.000000000",
          "2024-12-17T11:59:00.000000000",
          "2024-12-17T18:08:00.000000000",
          "2024-12-18T12:00:00.000000000",
          "2024-12-18T17:19:00.000000000",
          "2024-12-19T12:07:00.000000000",
          "2024-12-19T17:03:00.000000000",
          "2024-12-20T12:06:00.000000000",
          "2024-12-20T19:40:00.000000000",
          "2024-12-21T16:59:00.000000000",
          "2024-12-22T16:05:00.000000000",
          "2024-12-23T12:05:00.000000000",
          "2024-12-23T17:22:00.000000000",
          "2024-12-24T12:02:00.000000000",
          "2024-12-24T17:53:00.000000000",
          "2024-12-25T11:59:00.000000000",
          "2024-12-25T17:11:00.000000000",
          "2024-12-26T12:42:00.000000000",
          "2024-12-26T17:08:00.000000000",
          "2024-12-27T21:27:00.000000000",
          "2024-12-28T14:31:00.000000000",
          "2024-12-30T12:25:00.000000000",
          "2024-12-30T17:34:00.000000000",
          "2024-12-31T14:48:00.000000000",
          "2024-12-31T16:58:00.000000000",
          "2025-01-01T14:22:00.000000000",
          "2025-01-01T17:30:00.000000000",
          "2025-01-02T17:20:00.000000000",
          "2025-01-03T11:44:00.000000000",
          "2025-01-04T17:12:00.000000000",
          "2025-01-05T11:59:00.000000000",
          "2025-01-05T16:58:00.000000000",
          "2025-01-06T17:51:00.000000000",
          "2025-01-07T23:39:00.000000000",
          "2025-01-08T11:10:00.000000000",
          "2025-01-08T17:16:00.000000000",
          "2025-01-09T12:07:00.000000000",
          "2025-01-09T16:54:00.000000000",
          "2025-01-10T15:18:00.000000000",
          "2025-01-10T17:18:00.000000000",
          "2025-01-11T11:59:00.000000000",
          "2025-01-12T11:59:00.000000000",
          "2025-01-13T17:42:00.000000000",
          "2025-01-14T11:59:00.000000000",
          "2025-01-14T18:26:00.000000000",
          "2025-01-15T11:59:00.000000000",
          "2025-01-15T19:28:00.000000000",
          "2025-01-16T12:58:00.000000000",
          "2025-01-16T20:52:00.000000000",
          "2025-01-17T11:55:00.000000000",
          "2025-01-17T18:28:00.000000000",
          "2025-01-18T16:26:00.000000000",
          "2025-01-19T21:49:00.000000000",
          "2025-01-20T11:59:00.000000000",
          "2025-01-20T18:05:00.000000000",
          "2025-01-21T15:36:00.000000000",
          "2025-01-22T11:58:00.000000000",
          "2025-01-22T16:58:00.000000000",
          "2025-01-23T12:22:00.000000000",
          "2025-01-23T16:47:00.000000000",
          "2025-01-24T11:44:00.000000000",
          "2025-01-25T13:32:00.000000000",
          "2025-01-25T17:13:00.000000000",
          "2025-01-26T16:25:00.000000000",
          "2025-01-27T13:08:00.000000000",
          "2025-01-27T18:20:00.000000000",
          "2025-01-28T12:03:00.000000000",
          "2025-01-29T13:37:00.000000000",
          "2025-01-29T21:59:00.000000000",
          "2025-01-30T12:56:00.000000000",
          "2025-01-30T18:59:00.000000000",
          "2025-01-31T14:44:00.000000000",
          "2025-01-31T20:01:00.000000000",
          "2025-02-01T16:06:00.000000000",
          "2025-02-01T19:26:00.000000000",
          "2025-02-03T12:05:00.000000000",
          "2025-02-03T18:34:00.000000000",
          "2025-02-04T12:16:00.000000000",
          "2025-02-05T13:09:00.000000000",
          "2025-02-05T21:08:00.000000000",
          "2025-02-06T12:03:00.000000000",
          "2025-02-06T16:30:00.000000000",
          "2025-02-07T12:00:00.000000000",
          "2025-02-08T15:20:00.000000000",
          "2025-02-08T17:44:00.000000000",
          "2025-02-09T11:59:00.000000000",
          "2025-02-10T12:25:00.000000000",
          "2025-02-10T16:59:00.000000000",
          "2025-02-11T11:59:00.000000000",
          "2025-02-11T17:00:00.000000000",
          "2025-02-12T11:42:00.000000000",
          "2025-02-13T12:40:00.000000000",
          "2025-02-13T17:00:00.000000000",
          "2025-02-14T13:08:00.000000000",
          "2025-02-14T17:20:00.000000000",
          "2025-02-15T14:14:00.000000000",
          "2025-02-15T16:59:00.000000000",
          "2025-02-16T15:11:00.000000000",
          "2025-02-17T14:52:00.000000000",
          "2025-02-17T17:47:00.000000000",
          "2025-02-18T12:40:00.000000000",
          "2025-02-18T18:53:00.000000000",
          "2025-02-19T12:11:00.000000000",
          "2025-02-19T19:29:00.000000000",
          "2025-02-20T12:28:00.000000000",
          "2025-02-20T17:12:00.000000000",
          "2025-02-21T12:01:00.000000000",
          "2025-02-21T17:06:00.000000000",
          "2025-02-22T13:08:00.000000000",
          "2025-02-22T17:23:00.000000000",
          "2025-02-23T17:56:00.000000000",
          "2025-02-24T12:26:00.000000000",
          "2025-02-25T11:53:00.000000000",
          "2025-02-25T19:29:00.000000000",
          "2025-02-26T11:59:00.000000000",
          "2025-02-26T20:34:00.000000000",
          "2025-02-27T13:37:00.000000000",
          "2025-02-27T17:39:00.000000000",
          "2025-02-28T11:44:00.000000000",
          "2025-02-28T16:50:00.000000000",
          "2025-03-01T13:57:00.000000000",
          "2025-03-01T18:35:00.000000000",
          "2025-03-02T13:30:00.000000000",
          "2025-03-04T13:01:00.000000000",
          "2025-03-05T12:53:00.000000000",
          "2025-03-05T20:07:00.000000000",
          "2025-03-06T17:10:00.000000000",
          "2025-03-07T12:38:00.000000000",
          "2025-03-08T11:59:00.000000000",
          "2025-03-10T12:02:00.000000000",
          "2025-03-10T19:55:00.000000000",
          "2025-03-11T16:56:00.000000000",
          "2025-03-12T12:34:00.000000000",
          "2025-03-12T18:26:00.000000000",
          "2025-03-12T23:11:00.000000000",
          "2025-03-13T11:43:00.000000000",
          "2025-03-13T19:39:00.000000000",
          "2025-03-13T22:43:00.000000000",
          "2025-03-14T11:59:00.000000000",
          "2025-03-14T16:59:00.000000000",
          "2025-03-15T13:59:00.000000000",
          "2025-03-15T16:58:00.000000000",
          "2025-03-16T16:59:00.000000000",
          "2025-03-17T11:55:00.000000000",
          "2025-03-17T21:07:00.000000000",
          "2025-03-18T12:08:00.000000000",
          "2025-03-18T18:52:00.000000000",
          "2025-03-19T13:13:00.000000000",
          "2025-03-19T18:04:00.000000000",
          "2025-03-20T12:00:00.000000000",
          "2025-03-21T11:59:00.000000000",
          "2025-03-21T19:15:00.000000000",
          "2025-03-22T16:42:00.000000000",
          "2025-03-24T12:04:00.000000000",
          "2025-03-24T16:56:00.000000000",
          "2025-03-25T12:07:00.000000000",
          "2025-03-25T17:27:00.000000000",
          "2025-03-26T11:59:00.000000000",
          "2025-03-26T16:52:00.000000000",
          "2025-03-27T12:03:00.000000000",
          "2025-03-27T19:32:00.000000000",
          "2025-03-28T12:24:00.000000000",
          "2025-03-28T17:10:00.000000000",
          "2025-03-29T13:38:00.000000000",
          "2025-03-29T16:58:00.000000000",
          "2025-03-30T11:58:00.000000000",
          "2025-03-30T15:59:00.000000000",
          "2025-03-31T12:08:00.000000000",
          "2025-03-31T16:59:00.000000000",
          "2025-04-01T12:00:00.000000000",
          "2025-04-01T20:13:00.000000000",
          "2025-04-02T13:10:00.000000000",
          "2025-04-02T18:32:00.000000000",
          "2025-04-03T15:08:00.000000000",
          "2025-04-03T19:08:00.000000000",
          "2025-04-04T11:59:00.000000000",
          "2025-04-04T18:16:00.000000000",
          "2025-04-05T13:25:00.000000000",
          "2025-04-05T17:01:00.000000000",
          "2025-04-06T13:01:00.000000000",
          "2025-04-07T12:11:00.000000000",
          "2025-04-07T18:00:00.000000000",
          "2025-04-08T12:13:00.000000000",
          "2025-04-08T17:37:00.000000000",
          "2025-04-09T12:29:00.000000000",
          "2025-04-09T20:45:00.000000000",
          "2025-04-10T12:15:00.000000000",
          "2025-04-10T18:39:00.000000000",
          "2025-04-11T14:54:00.000000000",
          "2025-04-11T17:00:00.000000000",
          "2025-04-12T12:14:00.000000000",
          "2025-04-12T17:16:00.000000000",
          "2025-04-13T12:00:00.000000000",
          "2025-04-13T17:03:00.000000000",
          "2025-04-14T12:06:00.000000000"
         ],
         "y": {
          "bdata": "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",
          "dtype": "f8"
         }
        },
        {
         "line": {
          "color": "red"
         },
         "mode": "lines",
         "name": "Sell",
         "type": "scatter",
         "x": [
          "2023-09-21T18:00:00.000000000",
          "2023-09-22T18:00:00.000000000",
          "2023-11-18T10:00:00.000000000",
          "2023-12-12T17:00:00.000000000",
          "2024-02-22T09:47:00.000000000",
          "2024-02-26T12:59:00.000000000",
          "2024-03-01T11:38:00.000000000",
          "2024-03-13T11:44:00.000000000",
          "2024-03-25T08:49:00.000000000",
          "2024-05-06T13:09:00.000000000",
          "2024-05-22T09:37:00.000000000",
          "2024-05-23T17:41:00.000000000",
          "2024-06-14T12:35:00.000000000",
          "2024-06-17T08:40:00.000000000",
          "2024-06-18T11:53:00.000000000",
          "2024-06-19T11:58:00.000000000",
          "2024-06-20T12:35:00.000000000",
          "2024-06-21T10:38:00.000000000",
          "2024-06-22T10:36:00.000000000",
          "2024-06-23T14:56:00.000000000",
          "2024-06-24T11:07:00.000000000",
          "2024-06-25T11:34:00.000000000",
          "2024-06-26T11:15:00.000000000",
          "2024-06-26T22:24:00.000000000",
          "2024-06-27T00:21:00.000000000",
          "2024-06-27T10:33:00.000000000",
          "2024-06-27T17:57:00.000000000",
          "2024-06-28T11:35:00.000000000",
          "2024-06-29T12:24:00.000000000",
          "2024-06-30T10:15:00.000000000",
          "2024-07-01T12:30:00.000000000",
          "2024-07-02T13:13:00.000000000",
          "2024-07-03T12:08:00.000000000",
          "2024-07-04T09:46:00.000000000",
          "2024-07-05T16:17:00.000000000",
          "2024-07-05T17:08:00.000000000",
          "2024-07-06T11:00:00.000000000",
          "2024-07-07T17:04:00.000000000",
          "2024-07-08T10:01:00.000000000",
          "2024-07-09T15:42:00.000000000",
          "2024-07-10T10:19:00.000000000",
          "2024-07-11T09:45:00.000000000",
          "2024-07-12T12:59:00.000000000",
          "2024-07-13T13:00:00.000000000",
          "2024-07-14T12:59:00.000000000",
          "2024-07-15T10:15:00.000000000",
          "2024-07-16T09:21:00.000000000",
          "2024-07-17T12:46:00.000000000",
          "2024-07-18T10:28:00.000000000",
          "2024-07-18T19:16:00.000000000",
          "2024-07-19T12:49:00.000000000",
          "2024-07-20T12:22:00.000000000",
          "2024-07-21T11:19:00.000000000",
          "2024-07-22T09:28:00.000000000",
          "2024-07-23T09:56:00.000000000",
          "2024-07-24T13:02:00.000000000",
          "2024-07-25T08:44:00.000000000",
          "2024-07-26T12:59:00.000000000",
          "2024-07-28T12:59:00.000000000",
          "2024-07-29T11:12:00.000000000",
          "2024-07-30T00:00:00.000000000",
          "2024-07-30T10:29:00.000000000",
          "2024-07-31T17:41:00.000000000",
          "2024-07-31T22:41:00.000000000",
          "2024-08-01T10:19:00.000000000",
          "2024-08-01T13:21:00.000000000",
          "2024-08-01T16:55:00.000000000",
          "2024-08-02T11:11:00.000000000",
          "2024-08-02T18:08:00.000000000",
          "2024-08-03T14:42:00.000000000",
          "2024-08-04T13:15:00.000000000",
          "2024-08-04T16:58:00.000000000",
          "2024-08-05T16:59:00.000000000",
          "2024-08-05T23:24:00.000000000",
          "2024-08-06T12:33:00.000000000",
          "2024-08-06T17:12:00.000000000",
          "2024-08-07T12:14:00.000000000",
          "2024-08-07T17:01:00.000000000",
          "2024-08-08T11:56:00.000000000",
          "2024-08-08T17:00:00.000000000",
          "2024-08-08T17:21:00.000000000",
          "2024-08-09T12:45:00.000000000",
          "2024-08-09T16:38:00.000000000",
          "2024-08-09T21:29:00.000000000",
          "2024-08-10T12:06:00.000000000",
          "2024-08-10T16:46:00.000000000",
          "2024-08-10T21:04:00.000000000",
          "2024-08-11T23:01:00.000000000",
          "2024-08-12T12:00:00.000000000",
          "2024-08-12T17:34:00.000000000",
          "2024-08-12T21:35:00.000000000",
          "2024-08-13T12:11:00.000000000",
          "2024-08-13T18:19:00.000000000",
          "2024-08-13T22:13:00.000000000",
          "2024-08-14T14:26:00.000000000",
          "2024-08-14T16:59:00.000000000",
          "2024-08-14T22:33:00.000000000",
          "2024-08-15T11:37:00.000000000",
          "2024-08-15T18:19:00.000000000",
          "2024-08-15T22:13:00.000000000",
          "2024-08-16T12:16:00.000000000",
          "2024-08-16T16:59:00.000000000",
          "2024-08-16T22:45:00.000000000",
          "2024-08-17T11:58:00.000000000",
          "2024-08-17T17:00:00.000000000",
          "2024-08-18T13:43:00.000000000",
          "2024-08-18T17:07:00.000000000",
          "2024-08-19T12:16:00.000000000",
          "2024-08-19T19:58:00.000000000",
          "2024-08-20T12:19:00.000000000",
          "2024-08-20T17:57:00.000000000",
          "2024-08-20T22:31:00.000000000",
          "2024-08-21T13:09:00.000000000",
          "2024-08-21T23:04:00.000000000",
          "2024-08-22T11:59:00.000000000",
          "2024-08-22T17:24:00.000000000",
          "2024-08-23T11:59:00.000000000",
          "2024-08-23T17:22:00.000000000",
          "2024-08-24T12:35:00.000000000",
          "2024-08-24T18:54:00.000000000",
          "2024-08-24T22:41:00.000000000",
          "2024-08-25T13:38:00.000000000",
          "2024-08-25T17:22:00.000000000",
          "2024-08-26T14:01:00.000000000",
          "2024-08-26T16:35:00.000000000",
          "2024-08-26T20:05:00.000000000",
          "2024-08-27T12:20:00.000000000",
          "2024-08-27T16:59:00.000000000",
          "2024-08-27T21:48:00.000000000",
          "2024-08-28T13:13:00.000000000",
          "2024-08-28T18:52:00.000000000",
          "2024-08-28T22:46:00.000000000",
          "2024-08-29T12:37:00.000000000",
          "2024-08-29T17:00:00.000000000",
          "2024-08-30T12:50:00.000000000",
          "2024-08-30T17:08:00.000000000",
          "2024-08-31T12:39:00.000000000",
          "2024-08-31T17:16:00.000000000",
          "2024-09-01T15:28:00.000000000",
          "2024-09-01T23:18:00.000000000",
          "2024-09-02T12:25:00.000000000",
          "2024-09-02T17:32:00.000000000",
          "2024-09-03T12:27:00.000000000",
          "2024-09-03T18:04:00.000000000",
          "2024-09-04T12:36:00.000000000",
          "2024-09-04T19:25:00.000000000",
          "2024-09-05T15:05:00.000000000",
          "2024-09-05T16:59:00.000000000",
          "2024-09-06T11:59:00.000000000",
          "2024-09-06T12:02:00.000000000",
          "2024-09-06T17:20:00.000000000",
          "2024-09-06T21:41:00.000000000",
          "2024-09-07T15:07:00.000000000",
          "2024-09-07T20:55:00.000000000",
          "2024-09-08T18:03:00.000000000",
          "2024-09-09T12:59:00.000000000",
          "2024-09-09T22:11:00.000000000",
          "2024-09-10T12:34:00.000000000",
          "2024-09-10T17:58:00.000000000",
          "2024-09-10T22:55:00.000000000",
          "2024-09-11T12:59:00.000000000",
          "2024-09-11T18:52:00.000000000",
          "2024-09-12T12:59:00.000000000",
          "2024-09-12T17:40:00.000000000",
          "2024-09-12T22:23:00.000000000",
          "2024-09-13T12:46:00.000000000",
          "2024-09-13T17:00:00.000000000",
          "2024-09-13T22:26:00.000000000",
          "2024-09-14T14:10:00.000000000",
          "2024-09-14T17:43:00.000000000",
          "2024-09-15T12:48:00.000000000",
          "2024-09-15T19:12:00.000000000",
          "2024-09-16T11:36:00.000000000",
          "2024-09-16T21:45:00.000000000",
          "2024-09-17T12:01:00.000000000",
          "2024-09-17T16:49:00.000000000",
          "2024-09-17T22:09:00.000000000",
          "2024-09-18T11:59:00.000000000",
          "2024-09-18T23:00:00.000000000",
          "2024-09-19T11:53:00.000000000",
          "2024-09-19T17:00:00.000000000",
          "2024-09-19T23:50:00.000000000",
          "2024-09-20T12:00:00.000000000",
          "2024-09-20T17:20:00.000000000",
          "2024-09-21T13:38:00.000000000",
          "2024-09-21T17:02:00.000000000",
          "2024-09-22T12:02:00.000000000",
          "2024-09-22T17:02:00.000000000",
          "2024-09-23T12:05:00.000000000",
          "2024-09-23T17:39:00.000000000",
          "2024-09-24T11:59:00.000000000",
          "2024-09-24T18:42:00.000000000",
          "2024-09-25T11:59:00.000000000",
          "2024-09-25T16:58:00.000000000",
          "2024-09-26T11:59:00.000000000",
          "2024-09-26T17:25:00.000000000",
          "2024-09-27T12:05:00.000000000",
          "2024-09-27T19:22:00.000000000",
          "2024-09-28T17:13:00.000000000",
          "2024-09-29T12:59:00.000000000",
          "2024-09-29T22:25:00.000000000",
          "2024-09-30T12:00:00.000000000",
          "2024-09-30T17:31:00.000000000",
          "2024-09-30T22:21:00.000000000",
          "2024-10-01T11:59:00.000000000",
          "2024-10-01T16:59:00.000000000",
          "2024-10-02T11:59:00.000000000",
          "2024-10-02T17:00:00.000000000",
          "2024-10-03T11:59:00.000000000",
          "2024-10-03T18:34:00.000000000",
          "2024-10-04T12:07:00.000000000",
          "2024-10-04T16:58:00.000000000",
          "2024-10-05T14:16:00.000000000",
          "2024-10-06T10:44:00.000000000",
          "2024-10-07T12:02:00.000000000",
          "2024-10-07T16:58:00.000000000",
          "2024-10-08T13:12:00.000000000",
          "2024-10-09T12:47:00.000000000",
          "2024-10-09T16:44:00.000000000",
          "2024-10-10T13:23:00.000000000",
          "2024-10-10T18:10:00.000000000",
          "2024-10-10T22:15:00.000000000",
          "2024-10-11T11:59:00.000000000",
          "2024-10-11T18:17:00.000000000",
          "2024-10-11T22:40:00.000000000",
          "2024-10-12T13:04:00.000000000",
          "2024-10-12T19:19:00.000000000",
          "2024-10-13T11:59:00.000000000",
          "2024-10-13T17:25:00.000000000",
          "2024-10-14T13:05:00.000000000",
          "2024-10-14T20:11:00.000000000",
          "2024-10-15T11:39:00.000000000",
          "2024-10-15T18:42:00.000000000",
          "2024-10-16T12:04:00.000000000",
          "2024-10-16T17:00:00.000000000",
          "2024-10-17T12:18:00.000000000",
          "2024-10-17T18:58:00.000000000",
          "2024-10-18T12:59:00.000000000",
          "2024-10-19T13:47:00.000000000",
          "2024-10-19T17:21:00.000000000",
          "2024-10-19T21:31:00.000000000",
          "2024-10-20T21:23:00.000000000",
          "2024-10-21T11:58:00.000000000",
          "2024-10-21T17:31:00.000000000",
          "2024-10-22T11:59:00.000000000",
          "2024-10-22T17:54:00.000000000",
          "2024-10-23T15:21:00.000000000",
          "2024-10-24T11:59:00.000000000",
          "2024-10-24T19:24:00.000000000",
          "2024-10-25T13:01:00.000000000",
          "2024-10-26T15:18:00.000000000",
          "2024-10-26T17:48:00.000000000",
          "2024-10-27T11:59:00.000000000",
          "2024-10-28T12:14:00.000000000",
          "2024-10-28T17:30:00.000000000",
          "2024-10-29T12:01:00.000000000",
          "2024-10-29T17:24:00.000000000",
          "2024-10-30T12:22:00.000000000",
          "2024-10-30T17:10:00.000000000",
          "2024-10-31T12:00:00.000000000",
          "2024-10-31T21:21:00.000000000",
          "2024-11-01T11:59:00.000000000",
          "2024-11-01T23:22:00.000000000",
          "2024-11-02T13:03:00.000000000",
          "2024-11-02T16:59:00.000000000",
          "2024-11-03T17:01:00.000000000",
          "2024-11-04T13:35:00.000000000",
          "2024-11-04T17:50:00.000000000",
          "2024-11-05T16:04:00.000000000",
          "2024-11-06T17:11:00.000000000",
          "2024-11-07T12:27:00.000000000",
          "2024-11-07T17:34:00.000000000",
          "2024-11-08T11:59:00.000000000",
          "2024-11-08T17:05:00.000000000",
          "2024-11-09T11:58:00.000000000",
          "2024-11-09T22:02:00.000000000",
          "2024-11-10T18:28:00.000000000",
          "2024-11-11T13:13:00.000000000",
          "2024-11-11T19:19:00.000000000",
          "2024-11-12T12:09:00.000000000",
          "2024-11-12T22:18:00.000000000",
          "2024-11-13T12:00:00.000000000",
          "2024-11-14T11:52:00.000000000",
          "2024-11-14T21:00:00.000000000",
          "2024-11-15T12:26:00.000000000",
          "2024-11-15T17:27:00.000000000",
          "2024-11-16T13:37:00.000000000",
          "2024-11-16T18:40:00.000000000",
          "2024-11-17T17:52:00.000000000",
          "2024-11-18T12:49:00.000000000",
          "2024-11-18T20:21:00.000000000",
          "2024-11-19T12:30:00.000000000",
          "2024-11-19T18:48:00.000000000",
          "2024-11-20T12:21:00.000000000",
          "2024-11-20T19:02:00.000000000",
          "2024-11-20T22:28:00.000000000",
          "2024-11-21T11:59:00.000000000",
          "2024-11-21T20:51:00.000000000",
          "2024-11-22T11:59:00.000000000",
          "2024-11-22T17:15:00.000000000",
          "2024-11-22T23:27:00.000000000",
          "2024-11-23T11:58:00.000000000",
          "2024-11-23T19:18:00.000000000",
          "2024-11-23T22:24:00.000000000",
          "2024-11-25T11:54:00.000000000",
          "2024-11-25T16:58:00.000000000",
          "2024-11-25T23:08:00.000000000",
          "2024-11-26T11:59:00.000000000",
          "2024-11-26T18:20:00.000000000",
          "2024-11-26T22:02:00.000000000",
          "2024-11-27T13:23:00.000000000",
          "2024-11-27T18:31:00.000000000",
          "2024-11-28T14:46:00.000000000",
          "2024-11-28T23:32:00.000000000",
          "2024-11-29T13:35:00.000000000",
          "2024-11-29T16:58:00.000000000",
          "2024-11-30T14:11:00.000000000",
          "2024-11-30T17:00:00.000000000",
          "2024-12-01T13:58:00.000000000",
          "2024-12-02T11:32:00.000000000",
          "2024-12-02T18:46:00.000000000",
          "2024-12-03T12:08:00.000000000",
          "2024-12-03T18:21:00.000000000",
          "2024-12-04T12:15:00.000000000",
          "2024-12-04T17:42:00.000000000",
          "2024-12-05T12:37:00.000000000",
          "2024-12-05T20:15:00.000000000",
          "2024-12-06T12:00:00.000000000",
          "2024-12-06T17:06:00.000000000",
          "2024-12-07T12:28:00.000000000",
          "2024-12-08T11:59:00.000000000",
          "2024-12-09T11:59:00.000000000",
          "2024-12-09T17:50:00.000000000",
          "2024-12-10T12:31:00.000000000",
          "2024-12-10T19:05:00.000000000",
          "2024-12-11T12:00:00.000000000",
          "2024-12-11T18:24:00.000000000",
          "2024-12-12T12:01:00.000000000",
          "2024-12-12T18:02:00.000000000",
          "2024-12-13T11:59:00.000000000",
          "2024-12-13T19:24:00.000000000",
          "2024-12-14T11:59:00.000000000",
          "2024-12-16T14:01:00.000000000",
          "2024-12-16T17:51:00.000000000",
          "2024-12-17T11:59:00.000000000",
          "2024-12-17T18:08:00.000000000",
          "2024-12-18T12:00:00.000000000",
          "2024-12-18T17:19:00.000000000",
          "2024-12-19T12:07:00.000000000",
          "2024-12-19T17:03:00.000000000",
          "2024-12-20T12:06:00.000000000",
          "2024-12-20T19:40:00.000000000",
          "2024-12-21T16:59:00.000000000",
          "2024-12-22T16:05:00.000000000",
          "2024-12-23T12:05:00.000000000",
          "2024-12-23T17:22:00.000000000",
          "2024-12-24T12:02:00.000000000",
          "2024-12-24T17:53:00.000000000",
          "2024-12-25T11:59:00.000000000",
          "2024-12-25T17:11:00.000000000",
          "2024-12-26T12:42:00.000000000",
          "2024-12-26T17:08:00.000000000",
          "2024-12-27T21:27:00.000000000",
          "2024-12-28T14:31:00.000000000",
          "2024-12-30T12:25:00.000000000",
          "2024-12-30T17:34:00.000000000",
          "2024-12-31T14:48:00.000000000",
          "2024-12-31T16:58:00.000000000",
          "2025-01-01T14:22:00.000000000",
          "2025-01-01T17:30:00.000000000",
          "2025-01-02T17:20:00.000000000",
          "2025-01-03T11:44:00.000000000",
          "2025-01-04T17:12:00.000000000",
          "2025-01-05T11:59:00.000000000",
          "2025-01-05T16:58:00.000000000",
          "2025-01-06T17:51:00.000000000",
          "2025-01-07T23:39:00.000000000",
          "2025-01-08T11:10:00.000000000",
          "2025-01-08T17:16:00.000000000",
          "2025-01-09T12:07:00.000000000",
          "2025-01-09T16:54:00.000000000",
          "2025-01-10T15:18:00.000000000",
          "2025-01-10T17:18:00.000000000",
          "2025-01-11T11:59:00.000000000",
          "2025-01-12T11:59:00.000000000",
          "2025-01-13T17:42:00.000000000",
          "2025-01-14T11:59:00.000000000",
          "2025-01-14T18:26:00.000000000",
          "2025-01-15T11:59:00.000000000",
          "2025-01-15T19:28:00.000000000",
          "2025-01-16T12:58:00.000000000",
          "2025-01-16T20:52:00.000000000",
          "2025-01-17T11:55:00.000000000",
          "2025-01-17T18:28:00.000000000",
          "2025-01-18T16:26:00.000000000",
          "2025-01-19T21:49:00.000000000",
          "2025-01-20T11:59:00.000000000",
          "2025-01-20T18:05:00.000000000",
          "2025-01-21T15:36:00.000000000",
          "2025-01-22T11:58:00.000000000",
          "2025-01-22T16:58:00.000000000",
          "2025-01-23T12:22:00.000000000",
          "2025-01-23T16:47:00.000000000",
          "2025-01-24T11:44:00.000000000",
          "2025-01-25T13:32:00.000000000",
          "2025-01-25T17:13:00.000000000",
          "2025-01-26T16:25:00.000000000",
          "2025-01-27T13:08:00.000000000",
          "2025-01-27T18:20:00.000000000",
          "2025-01-28T12:03:00.000000000",
          "2025-01-29T13:37:00.000000000",
          "2025-01-29T21:59:00.000000000",
          "2025-01-30T12:56:00.000000000",
          "2025-01-30T18:59:00.000000000",
          "2025-01-31T14:44:00.000000000",
          "2025-01-31T20:01:00.000000000",
          "2025-02-01T16:06:00.000000000",
          "2025-02-01T19:26:00.000000000",
          "2025-02-03T12:05:00.000000000",
          "2025-02-03T18:34:00.000000000",
          "2025-02-04T12:16:00.000000000",
          "2025-02-05T13:09:00.000000000",
          "2025-02-05T21:08:00.000000000",
          "2025-02-06T12:03:00.000000000",
          "2025-02-06T16:30:00.000000000",
          "2025-02-07T12:00:00.000000000",
          "2025-02-08T15:20:00.000000000",
          "2025-02-08T17:44:00.000000000",
          "2025-02-09T11:59:00.000000000",
          "2025-02-10T12:25:00.000000000",
          "2025-02-10T16:59:00.000000000",
          "2025-02-11T11:59:00.000000000",
          "2025-02-11T17:00:00.000000000",
          "2025-02-12T11:42:00.000000000",
          "2025-02-13T12:40:00.000000000",
          "2025-02-13T17:00:00.000000000",
          "2025-02-14T13:08:00.000000000",
          "2025-02-14T17:20:00.000000000",
          "2025-02-15T14:14:00.000000000",
          "2025-02-15T16:59:00.000000000",
          "2025-02-16T15:11:00.000000000",
          "2025-02-17T14:52:00.000000000",
          "2025-02-17T17:47:00.000000000",
          "2025-02-18T12:40:00.000000000",
          "2025-02-18T18:53:00.000000000",
          "2025-02-19T12:11:00.000000000",
          "2025-02-19T19:29:00.000000000",
          "2025-02-20T12:28:00.000000000",
          "2025-02-20T17:12:00.000000000",
          "2025-02-21T12:01:00.000000000",
          "2025-02-21T17:06:00.000000000",
          "2025-02-22T13:08:00.000000000",
          "2025-02-22T17:23:00.000000000",
          "2025-02-23T17:56:00.000000000",
          "2025-02-24T12:26:00.000000000",
          "2025-02-25T11:53:00.000000000",
          "2025-02-25T19:29:00.000000000",
          "2025-02-26T11:59:00.000000000",
          "2025-02-26T20:34:00.000000000",
          "2025-02-27T13:37:00.000000000",
          "2025-02-27T17:39:00.000000000",
          "2025-02-28T11:44:00.000000000",
          "2025-02-28T16:50:00.000000000",
          "2025-03-01T13:57:00.000000000",
          "2025-03-01T18:35:00.000000000",
          "2025-03-02T13:30:00.000000000",
          "2025-03-04T13:01:00.000000000",
          "2025-03-05T12:53:00.000000000",
          "2025-03-05T20:07:00.000000000",
          "2025-03-06T17:10:00.000000000",
          "2025-03-07T12:38:00.000000000",
          "2025-03-08T11:59:00.000000000",
          "2025-03-10T12:02:00.000000000",
          "2025-03-10T19:55:00.000000000",
          "2025-03-11T16:56:00.000000000",
          "2025-03-12T12:34:00.000000000",
          "2025-03-12T18:26:00.000000000",
          "2025-03-12T23:11:00.000000000",
          "2025-03-13T11:43:00.000000000",
          "2025-03-13T19:39:00.000000000",
          "2025-03-13T22:43:00.000000000",
          "2025-03-14T11:59:00.000000000",
          "2025-03-14T16:59:00.000000000",
          "2025-03-15T13:59:00.000000000",
          "2025-03-15T16:58:00.000000000",
          "2025-03-16T16:59:00.000000000",
          "2025-03-17T11:55:00.000000000",
          "2025-03-17T21:07:00.000000000",
          "2025-03-18T12:08:00.000000000",
          "2025-03-18T18:52:00.000000000",
          "2025-03-19T13:13:00.000000000",
          "2025-03-19T18:04:00.000000000",
          "2025-03-20T12:00:00.000000000",
          "2025-03-21T11:59:00.000000000",
          "2025-03-21T19:15:00.000000000",
          "2025-03-22T16:42:00.000000000",
          "2025-03-24T12:04:00.000000000",
          "2025-03-24T16:56:00.000000000",
          "2025-03-25T12:07:00.000000000",
          "2025-03-25T17:27:00.000000000",
          "2025-03-26T11:59:00.000000000",
          "2025-03-26T16:52:00.000000000",
          "2025-03-27T12:03:00.000000000",
          "2025-03-27T19:32:00.000000000",
          "2025-03-28T12:24:00.000000000",
          "2025-03-28T17:10:00.000000000",
          "2025-03-29T13:38:00.000000000",
          "2025-03-29T16:58:00.000000000",
          "2025-03-30T11:58:00.000000000",
          "2025-03-30T15:59:00.000000000",
          "2025-03-31T12:08:00.000000000",
          "2025-03-31T16:59:00.000000000",
          "2025-04-01T12:00:00.000000000",
          "2025-04-01T20:13:00.000000000",
          "2025-04-02T13:10:00.000000000",
          "2025-04-02T18:32:00.000000000",
          "2025-04-03T15:08:00.000000000",
          "2025-04-03T19:08:00.000000000",
          "2025-04-04T11:59:00.000000000",
          "2025-04-04T18:16:00.000000000",
          "2025-04-05T13:25:00.000000000",
          "2025-04-05T17:01:00.000000000",
          "2025-04-06T13:01:00.000000000",
          "2025-04-07T12:11:00.000000000",
          "2025-04-07T18:00:00.000000000",
          "2025-04-08T12:13:00.000000000",
          "2025-04-08T17:37:00.000000000",
          "2025-04-09T12:29:00.000000000",
          "2025-04-09T20:45:00.000000000",
          "2025-04-10T12:15:00.000000000",
          "2025-04-10T18:39:00.000000000",
          "2025-04-11T14:54:00.000000000",
          "2025-04-11T17:00:00.000000000",
          "2025-04-12T12:14:00.000000000",
          "2025-04-12T17:16:00.000000000",
          "2025-04-13T12:00:00.000000000",
          "2025-04-13T17:03:00.000000000",
          "2025-04-14T12:06:00.000000000"
         ],
         "y": {
          "bdata": "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",
          "dtype": "f8"
         }
        },
        {
         "line": {
          "color": "green"
         },
         "mode": "lines",
         "name": "usdtbol.com",
         "type": "scatter",
         "x": [
          "2024-08-06T00:00:00.000000000",
          "2024-08-07T00:00:00.000000000",
          "2024-08-08T00:00:00.000000000",
          "2024-08-09T00:00:00.000000000",
          "2024-08-10T00:00:00.000000000",
          "2024-08-11T00:00:00.000000000",
          "2024-08-12T00:00:00.000000000",
          "2024-08-13T00:00:00.000000000",
          "2024-08-14T00:00:00.000000000",
          "2024-08-15T00:00:00.000000000",
          "2024-08-16T00:00:00.000000000",
          "2024-08-17T00:00:00.000000000",
          "2024-08-18T00:00:00.000000000",
          "2024-08-19T00:00:00.000000000",
          "2024-08-20T00:00:00.000000000",
          "2024-08-21T00:00:00.000000000",
          "2024-08-22T00:00:00.000000000",
          "2024-08-23T00:00:00.000000000",
          "2024-08-24T00:00:00.000000000",
          "2024-08-25T00:00:00.000000000",
          "2024-08-26T00:00:00.000000000",
          "2024-08-27T00:00:00.000000000",
          "2024-08-28T00:00:00.000000000",
          "2024-08-29T00:00:00.000000000",
          "2024-08-30T00:00:00.000000000",
          "2024-08-31T00:00:00.000000000",
          "2024-09-01T00:00:00.000000000",
          "2024-09-02T00:00:00.000000000",
          "2024-09-03T00:00:00.000000000",
          "2024-09-04T00:00:00.000000000",
          "2024-09-05T00:00:00.000000000",
          "2024-09-06T00:00:00.000000000",
          "2024-09-07T00:00:00.000000000",
          "2024-09-08T00:00:00.000000000",
          "2024-09-09T00:00:00.000000000",
          "2024-09-10T00:00:00.000000000",
          "2024-09-11T00:00:00.000000000",
          "2024-09-12T00:00:00.000000000",
          "2024-09-13T00:00:00.000000000",
          "2024-09-14T00:00:00.000000000",
          "2024-09-15T00:00:00.000000000",
          "2024-09-16T00:00:00.000000000",
          "2024-09-17T00:00:00.000000000",
          "2024-09-18T00:00:00.000000000",
          "2024-09-19T00:00:00.000000000",
          "2024-09-20T00:00:00.000000000",
          "2024-09-21T00:00:00.000000000",
          "2024-09-22T00:00:00.000000000",
          "2024-09-23T00:00:00.000000000",
          "2024-09-24T00:00:00.000000000",
          "2024-09-25T00:00:00.000000000",
          "2024-09-26T00:00:00.000000000",
          "2024-09-27T00:00:00.000000000",
          "2024-09-28T00:00:00.000000000",
          "2024-09-29T00:00:00.000000000",
          "2024-09-30T00:00:00.000000000",
          "2024-10-01T00:00:00.000000000",
          "2024-10-02T00:00:00.000000000",
          "2024-10-03T00:00:00.000000000",
          "2024-10-04T00:00:00.000000000",
          "2024-10-05T00:00:00.000000000",
          "2024-10-06T00:00:00.000000000",
          "2024-10-07T00:00:00.000000000",
          "2024-10-08T00:00:00.000000000",
          "2024-10-09T00:00:00.000000000",
          "2024-10-10T00:00:00.000000000",
          "2024-10-11T00:00:00.000000000",
          "2024-10-12T00:00:00.000000000",
          "2024-10-13T00:00:00.000000000",
          "2024-10-14T00:00:00.000000000",
          "2024-10-15T00:00:00.000000000",
          "2024-10-16T00:00:00.000000000",
          "2024-10-17T00:00:00.000000000",
          "2024-10-18T00:00:00.000000000",
          "2024-10-19T00:00:00.000000000",
          "2024-10-20T00:00:00.000000000",
          "2024-10-21T00:00:00.000000000",
          "2024-10-22T00:00:00.000000000",
          "2024-10-23T00:00:00.000000000",
          "2024-10-24T00:00:00.000000000",
          "2024-10-25T00:00:00.000000000",
          "2024-10-26T00:00:00.000000000",
          "2024-10-27T00:00:00.000000000",
          "2024-10-28T00:00:00.000000000",
          "2024-10-29T00:00:00.000000000",
          "2024-10-30T00:00:00.000000000",
          "2024-10-31T00:00:00.000000000",
          "2024-11-01T00:00:00.000000000",
          "2024-11-02T00:00:00.000000000",
          "2024-11-03T00:00:00.000000000",
          "2024-11-04T00:00:00.000000000",
          "2024-11-05T00:00:00.000000000",
          "2024-11-06T00:00:00.000000000",
          "2024-11-07T00:00:00.000000000",
          "2024-11-08T00:00:00.000000000",
          "2024-11-09T00:00:00.000000000",
          "2024-11-10T00:00:00.000000000",
          "2024-11-11T00:00:00.000000000",
          "2024-11-12T00:00:00.000000000",
          "2024-11-13T00:00:00.000000000",
          "2024-11-14T00:00:00.000000000",
          "2024-11-15T00:00:00.000000000",
          "2024-11-16T00:00:00.000000000",
          "2024-11-17T00:00:00.000000000",
          "2024-11-18T00:00:00.000000000",
          "2024-11-19T00:00:00.000000000",
          "2024-11-20T00:00:00.000000000",
          "2024-11-21T00:00:00.000000000",
          "2024-11-22T00:00:00.000000000",
          "2024-11-23T00:00:00.000000000",
          "2024-11-24T00:00:00.000000000",
          "2024-11-25T00:00:00.000000000",
          "2024-11-26T00:00:00.000000000",
          "2024-11-27T00:00:00.000000000",
          "2024-11-28T00:00:00.000000000",
          "2024-11-29T00:00:00.000000000",
          "2024-11-30T00:00:00.000000000",
          "2024-12-01T00:00:00.000000000",
          "2024-12-02T00:00:00.000000000",
          "2024-12-03T00:00:00.000000000",
          "2024-12-04T00:00:00.000000000",
          "2024-12-05T00:00:00.000000000",
          "2024-12-06T00:00:00.000000000",
          "2024-12-07T00:00:00.000000000",
          "2024-12-08T00:00:00.000000000",
          "2024-12-09T00:00:00.000000000",
          "2024-12-10T00:00:00.000000000",
          "2024-12-11T00:00:00.000000000",
          "2024-12-12T00:00:00.000000000",
          "2024-12-13T00:00:00.000000000",
          "2024-12-14T00:00:00.000000000",
          "2024-12-15T00:00:00.000000000",
          "2024-12-16T00:00:00.000000000",
          "2024-12-17T00:00:00.000000000",
          "2024-12-18T00:00:00.000000000",
          "2024-12-19T00:00:00.000000000",
          "2024-12-20T00:00:00.000000000",
          "2024-12-21T00:00:00.000000000",
          "2024-12-22T00:00:00.000000000",
          "2024-12-23T00:00:00.000000000",
          "2024-12-24T00:00:00.000000000",
          "2024-12-25T00:00:00.000000000",
          "2024-12-26T00:00:00.000000000",
          "2024-12-27T00:00:00.000000000",
          "2024-12-28T00:00:00.000000000",
          "2024-12-29T00:00:00.000000000",
          "2024-12-30T00:00:00.000000000",
          "2024-12-31T00:00:00.000000000",
          "2025-01-01T00:00:00.000000000",
          "2025-01-02T00:00:00.000000000",
          "2025-01-03T00:00:00.000000000",
          "2025-01-04T00:00:00.000000000",
          "2025-01-05T00:00:00.000000000",
          "2025-01-06T00:00:00.000000000",
          "2025-01-07T00:00:00.000000000",
          "2025-01-08T00:00:00.000000000",
          "2025-01-09T00:00:00.000000000",
          "2025-01-10T00:00:00.000000000",
          "2025-01-11T00:00:00.000000000",
          "2025-01-12T00:00:00.000000000",
          "2025-01-13T00:00:00.000000000",
          "2025-01-14T00:00:00.000000000",
          "2025-01-15T00:00:00.000000000",
          "2025-01-16T00:00:00.000000000",
          "2025-01-17T00:00:00.000000000",
          "2025-01-18T00:00:00.000000000",
          "2025-01-19T00:00:00.000000000",
          "2025-01-20T00:00:00.000000000",
          "2025-01-21T00:00:00.000000000",
          "2025-01-22T00:00:00.000000000",
          "2025-01-23T00:00:00.000000000",
          "2025-01-24T00:00:00.000000000",
          "2025-01-25T00:00:00.000000000",
          "2025-01-26T00:00:00.000000000",
          "2025-01-27T00:00:00.000000000",
          "2025-01-28T00:00:00.000000000",
          "2025-01-29T00:00:00.000000000",
          "2025-01-30T00:00:00.000000000",
          "2025-01-31T00:00:00.000000000",
          "2025-02-01T00:00:00.000000000",
          "2025-02-02T00:00:00.000000000",
          "2025-02-03T00:00:00.000000000",
          "2025-02-04T00:00:00.000000000",
          "2025-02-05T00:00:00.000000000",
          "2025-02-06T00:00:00.000000000",
          "2025-02-07T00:00:00.000000000",
          "2025-02-08T00:00:00.000000000",
          "2025-02-09T00:00:00.000000000",
          "2025-02-10T00:00:00.000000000",
          "2025-02-11T00:00:00.000000000",
          "2025-02-12T00:00:00.000000000",
          "2025-02-13T00:00:00.000000000",
          "2025-02-14T00:00:00.000000000",
          "2025-02-15T00:00:00.000000000",
          "2025-02-16T00:00:00.000000000",
          "2025-02-17T00:00:00.000000000",
          "2025-02-18T00:00:00.000000000",
          "2025-02-19T00:00:00.000000000",
          "2025-02-20T00:00:00.000000000",
          "2025-02-21T00:00:00.000000000",
          "2025-02-22T00:00:00.000000000",
          "2025-02-23T00:00:00.000000000",
          "2025-02-24T00:00:00.000000000",
          "2025-02-25T00:00:00.000000000",
          "2025-02-26T00:00:00.000000000",
          "2025-02-27T00:00:00.000000000",
          "2025-02-28T00:00:00.000000000",
          "2025-03-01T00:00:00.000000000",
          "2025-03-02T00:00:00.000000000",
          "2025-03-03T00:00:00.000000000",
          "2025-03-04T00:00:00.000000000",
          "2025-03-05T00:00:00.000000000",
          "2025-03-06T00:00:00.000000000",
          "2025-03-07T00:00:00.000000000",
          "2025-03-08T00:00:00.000000000",
          "2025-03-09T00:00:00.000000000",
          "2025-03-10T00:00:00.000000000",
          "2025-03-11T00:00:00.000000000",
          "2025-03-12T00:00:00.000000000",
          "2025-03-13T00:00:00.000000000",
          "2025-03-14T00:00:00.000000000",
          "2025-03-15T00:00:00.000000000",
          "2025-03-16T00:00:00.000000000",
          "2025-03-17T00:00:00.000000000",
          "2025-03-18T00:00:00.000000000",
          "2025-03-19T00:00:00.000000000",
          "2025-03-20T00:00:00.000000000",
          "2025-03-21T00:00:00.000000000",
          "2025-03-22T00:00:00.000000000",
          "2025-03-23T00:00:00.000000000",
          "2025-03-24T00:00:00.000000000",
          "2025-03-25T00:00:00.000000000",
          "2025-03-26T00:00:00.000000000",
          "2025-03-27T00:00:00.000000000",
          "2025-03-28T00:00:00.000000000",
          "2025-03-29T00:00:00.000000000",
          "2025-03-30T00:00:00.000000000",
          "2025-03-31T00:00:00.000000000",
          "2025-04-01T00:00:00.000000000",
          "2025-04-02T00:00:00.000000000",
          "2025-04-03T00:00:00.000000000",
          "2025-04-04T00:00:00.000000000",
          "2025-04-05T00:00:00.000000000",
          "2025-04-06T00:00:00.000000000",
          "2025-04-07T00:00:00.000000000",
          "2025-04-08T00:00:00.000000000",
          "2025-04-09T00:00:00.000000000",
          "2025-04-10T00:00:00.000000000",
          "2025-04-11T00:00:00.000000000",
          "2025-04-12T00:00:00.000000000",
          "2025-04-13T00:00:00.000000000",
          "2025-04-14T00:00:00.000000000"
         ],
         "y": {
          "bdata": "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",
          "dtype": "f8"
         }
        }
       ],
       "layout": {
        "legend": {
         "title": {
          "text": "Type"
         }
        },
        "template": {
         "data": {
          "bar": [
           {
            "error_x": {
             "color": "#2a3f5f"
            },
            "error_y": {
             "color": "#2a3f5f"
            },
            "marker": {
             "line": {
              "color": "white",
              "width": 0.5
             },
             "pattern": {
              "fillmode": "overlay",
              "size": 10,
              "solidity": 0.2
             }
            },
            "type": "bar"
           }
          ],
          "barpolar": [
           {
            "marker": {
             "line": {
              "color": "white",
              "width": 0.5
             },
             "pattern": {
              "fillmode": "overlay",
              "size": 10,
              "solidity": 0.2
             }
            },
            "type": "barpolar"
           }
          ],
          "carpet": [
           {
            "aaxis": {
             "endlinecolor": "#2a3f5f",
             "gridcolor": "#C8D4E3",
             "linecolor": "#C8D4E3",
             "minorgridcolor": "#C8D4E3",
             "startlinecolor": "#2a3f5f"
            },
            "baxis": {
             "endlinecolor": "#2a3f5f",
             "gridcolor": "#C8D4E3",
             "linecolor": "#C8D4E3",
             "minorgridcolor": "#C8D4E3",
             "startlinecolor": "#2a3f5f"
            },
            "type": "carpet"
           }
          ],
          "choropleth": [
           {
            "colorbar": {
             "outlinewidth": 0,
             "ticks": ""
            },
            "type": "choropleth"
           }
          ],
          "contour": [
           {
            "colorbar": {
             "outlinewidth": 0,
             "ticks": ""
            },
            "colorscale": [
             [
              0,
              "#0d0887"
             ],
             [
              0.1111111111111111,
              "#46039f"
             ],
             [
              0.2222222222222222,
              "#7201a8"
             ],
             [
              0.3333333333333333,
              "#9c179e"
             ],
             [
              0.4444444444444444,
              "#bd3786"
             ],
             [
              0.5555555555555556,
              "#d8576b"
             ],
             [
              0.6666666666666666,
              "#ed7953"
             ],
             [
              0.7777777777777778,
              "#fb9f3a"
             ],
             [
              0.8888888888888888,
              "#fdca26"
             ],
             [
              1,
              "#f0f921"
             ]
            ],
            "type": "contour"
           }
          ],
          "contourcarpet": [
           {
            "colorbar": {
             "outlinewidth": 0,
             "ticks": ""
            },
            "type": "contourcarpet"
           }
          ],
          "heatmap": [
           {
            "colorbar": {
             "outlinewidth": 0,
             "ticks": ""
            },
            "colorscale": [
             [
              0,
              "#0d0887"
             ],
             [
              0.1111111111111111,
              "#46039f"
             ],
             [
              0.2222222222222222,
              "#7201a8"
             ],
             [
              0.3333333333333333,
              "#9c179e"
             ],
             [
              0.4444444444444444,
              "#bd3786"
             ],
             [
              0.5555555555555556,
              "#d8576b"
             ],
             [
              0.6666666666666666,
              "#ed7953"
             ],
             [
              0.7777777777777778,
              "#fb9f3a"
             ],
             [
              0.8888888888888888,
              "#fdca26"
             ],
             [
              1,
              "#f0f921"
             ]
            ],
            "type": "heatmap"
           }
          ],
          "histogram": [
           {
            "marker": {
             "pattern": {
              "fillmode": "overlay",
              "size": 10,
              "solidity": 0.2
             }
            },
            "type": "histogram"
           }
          ],
          "histogram2d": [
           {
            "colorbar": {
             "outlinewidth": 0,
             "ticks": ""
            },
            "colorscale": [
             [
              0,
              "#0d0887"
             ],
             [
              0.1111111111111111,
              "#46039f"
             ],
             [
              0.2222222222222222,
              "#7201a8"
             ],
             [
              0.3333333333333333,
              "#9c179e"
             ],
             [
              0.4444444444444444,
              "#bd3786"
             ],
             [
              0.5555555555555556,
              "#d8576b"
             ],
             [
              0.6666666666666666,
              "#ed7953"
             ],
             [
              0.7777777777777778,
              "#fb9f3a"
             ],
             [
              0.8888888888888888,
              "#fdca26"
             ],
             [
              1,
              "#f0f921"
             ]
            ],
            "type": "histogram2d"
           }
          ],
          "histogram2dcontour": [
           {
            "colorbar": {
             "outlinewidth": 0,
             "ticks": ""
            },
            "colorscale": [
             [
              0,
              "#0d0887"
             ],
             [
              0.1111111111111111,
              "#46039f"
             ],
             [
              0.2222222222222222,
              "#7201a8"
             ],
             [
              0.3333333333333333,
              "#9c179e"
             ],
             [
              0.4444444444444444,
              "#bd3786"
             ],
             [
              0.5555555555555556,
              "#d8576b"
             ],
             [
              0.6666666666666666,
              "#ed7953"
             ],
             [
              0.7777777777777778,
              "#fb9f3a"
             ],
             [
              0.8888888888888888,
              "#fdca26"
             ],
             [
              1,
              "#f0f921"
             ]
            ],
            "type": "histogram2dcontour"
           }
          ],
          "mesh3d": [
           {
            "colorbar": {
             "outlinewidth": 0,
             "ticks": ""
            },
            "type": "mesh3d"
           }
          ],
          "parcoords": [
           {
            "line": {
             "colorbar": {
              "outlinewidth": 0,
              "ticks": ""
             }
            },
            "type": "parcoords"
           }
          ],
          "pie": [
           {
            "automargin": true,
            "type": "pie"
           }
          ],
          "scatter": [
           {
            "fillpattern": {
             "fillmode": "overlay",
             "size": 10,
             "solidity": 0.2
            },
            "type": "scatter"
           }
          ],
          "scatter3d": [
           {
            "line": {
             "colorbar": {
              "outlinewidth": 0,
              "ticks": ""
             }
            },
            "marker": {
             "colorbar": {
              "outlinewidth": 0,
              "ticks": ""
             }
            },
            "type": "scatter3d"
           }
          ],
          "scattercarpet": [
           {
            "marker": {
             "colorbar": {
              "outlinewidth": 0,
              "ticks": ""
             }
            },
            "type": "scattercarpet"
           }
          ],
          "scattergeo": [
           {
            "marker": {
             "colorbar": {
              "outlinewidth": 0,
              "ticks": ""
             }
            },
            "type": "scattergeo"
           }
          ],
          "scattergl": [
           {
            "marker": {
             "colorbar": {
              "outlinewidth": 0,
              "ticks": ""
             }
            },
            "type": "scattergl"
           }
          ],
          "scattermap": [
           {
            "marker": {
             "colorbar": {
              "outlinewidth": 0,
              "ticks": ""
             }
            },
            "type": "scattermap"
           }
          ],
          "scattermapbox": [
           {
            "marker": {
             "colorbar": {
              "outlinewidth": 0,
              "ticks": ""
             }
            },
            "type": "scattermapbox"
           }
          ],
          "scatterpolar": [
           {
            "marker": {
             "colorbar": {
              "outlinewidth": 0,
              "ticks": ""
             }
            },
            "type": "scatterpolar"
           }
          ],
          "scatterpolargl": [
           {
            "marker": {
             "colorbar": {
              "outlinewidth": 0,
              "ticks": ""
             }
            },
            "type": "scatterpolargl"
           }
          ],
          "scatterternary": [
           {
            "marker": {
             "colorbar": {
              "outlinewidth": 0,
              "ticks": ""
             }
            },
            "type": "scatterternary"
           }
          ],
          "surface": [
           {
            "colorbar": {
             "outlinewidth": 0,
             "ticks": ""
            },
            "colorscale": [
             [
              0,
              "#0d0887"
             ],
             [
              0.1111111111111111,
              "#46039f"
             ],
             [
              0.2222222222222222,
              "#7201a8"
             ],
             [
              0.3333333333333333,
              "#9c179e"
             ],
             [
              0.4444444444444444,
              "#bd3786"
             ],
             [
              0.5555555555555556,
              "#d8576b"
             ],
             [
              0.6666666666666666,
              "#ed7953"
             ],
             [
              0.7777777777777778,
              "#fb9f3a"
             ],
             [
              0.8888888888888888,
              "#fdca26"
             ],
             [
              1,
              "#f0f921"
             ]
            ],
            "type": "surface"
           }
          ],
          "table": [
           {
            "cells": {
             "fill": {
              "color": "#EBF0F8"
             },
             "line": {
              "color": "white"
             }
            },
            "header": {
             "fill": {
              "color": "#C8D4E3"
             },
             "line": {
              "color": "white"
             }
            },
            "type": "table"
           }
          ]
         },
         "layout": {
          "annotationdefaults": {
           "arrowcolor": "#2a3f5f",
           "arrowhead": 0,
           "arrowwidth": 1
          },
          "autotypenumbers": "strict",
          "coloraxis": {
           "colorbar": {
            "outlinewidth": 0,
            "ticks": ""
           }
          },
          "colorscale": {
           "diverging": [
            [
             0,
             "#8e0152"
            ],
            [
             0.1,
             "#c51b7d"
            ],
            [
             0.2,
             "#de77ae"
            ],
            [
             0.3,
             "#f1b6da"
            ],
            [
             0.4,
             "#fde0ef"
            ],
            [
             0.5,
             "#f7f7f7"
            ],
            [
             0.6,
             "#e6f5d0"
            ],
            [
             0.7,
             "#b8e186"
            ],
            [
             0.8,
             "#7fbc41"
            ],
            [
             0.9,
             "#4d9221"
            ],
            [
             1,
             "#276419"
            ]
           ],
           "sequential": [
            [
             0,
             "#0d0887"
            ],
            [
             0.1111111111111111,
             "#46039f"
            ],
            [
             0.2222222222222222,
             "#7201a8"
            ],
            [
             0.3333333333333333,
             "#9c179e"
            ],
            [
             0.4444444444444444,
             "#bd3786"
            ],
            [
             0.5555555555555556,
             "#d8576b"
            ],
            [
             0.6666666666666666,
             "#ed7953"
            ],
            [
             0.7777777777777778,
             "#fb9f3a"
            ],
            [
             0.8888888888888888,
             "#fdca26"
            ],
            [
             1,
             "#f0f921"
            ]
           ],
           "sequentialminus": [
            [
             0,
             "#0d0887"
            ],
            [
             0.1111111111111111,
             "#46039f"
            ],
            [
             0.2222222222222222,
             "#7201a8"
            ],
            [
             0.3333333333333333,
             "#9c179e"
            ],
            [
             0.4444444444444444,
             "#bd3786"
            ],
            [
             0.5555555555555556,
             "#d8576b"
            ],
            [
             0.6666666666666666,
             "#ed7953"
            ],
            [
             0.7777777777777778,
             "#fb9f3a"
            ],
            [
             0.8888888888888888,
             "#fdca26"
            ],
            [
             1,
             "#f0f921"
            ]
           ]
          },
          "colorway": [
           "#636efa",
           "#EF553B",
           "#00cc96",
           "#ab63fa",
           "#FFA15A",
           "#19d3f3",
           "#FF6692",
           "#B6E880",
           "#FF97FF",
           "#FECB52"
          ],
          "font": {
           "color": "#2a3f5f"
          },
          "geo": {
           "bgcolor": "white",
           "lakecolor": "white",
           "landcolor": "white",
           "showlakes": true,
           "showland": true,
           "subunitcolor": "#C8D4E3"
          },
          "hoverlabel": {
           "align": "left"
          },
          "hovermode": "closest",
          "mapbox": {
           "style": "light"
          },
          "paper_bgcolor": "white",
          "plot_bgcolor": "white",
          "polar": {
           "angularaxis": {
            "gridcolor": "#EBF0F8",
            "linecolor": "#EBF0F8",
            "ticks": ""
           },
           "bgcolor": "white",
           "radialaxis": {
            "gridcolor": "#EBF0F8",
            "linecolor": "#EBF0F8",
            "ticks": ""
           }
          },
          "scene": {
           "xaxis": {
            "backgroundcolor": "white",
            "gridcolor": "#DFE8F3",
            "gridwidth": 2,
            "linecolor": "#EBF0F8",
            "showbackground": true,
            "ticks": "",
            "zerolinecolor": "#EBF0F8"
           },
           "yaxis": {
            "backgroundcolor": "white",
            "gridcolor": "#DFE8F3",
            "gridwidth": 2,
            "linecolor": "#EBF0F8",
            "showbackground": true,
            "ticks": "",
            "zerolinecolor": "#EBF0F8"
           },
           "zaxis": {
            "backgroundcolor": "white",
            "gridcolor": "#DFE8F3",
            "gridwidth": 2,
            "linecolor": "#EBF0F8",
            "showbackground": true,
            "ticks": "",
            "zerolinecolor": "#EBF0F8"
           }
          },
          "shapedefaults": {
           "line": {
            "color": "#2a3f5f"
           }
          },
          "ternary": {
           "aaxis": {
            "gridcolor": "#DFE8F3",
            "linecolor": "#A2B1C6",
            "ticks": ""
           },
           "baxis": {
            "gridcolor": "#DFE8F3",
            "linecolor": "#A2B1C6",
            "ticks": ""
           },
           "bgcolor": "white",
           "caxis": {
            "gridcolor": "#DFE8F3",
            "linecolor": "#A2B1C6",
            "ticks": ""
           }
          },
          "title": {
           "x": 0.05
          },
          "xaxis": {
           "automargin": true,
           "gridcolor": "#EBF0F8",
           "linecolor": "#EBF0F8",
           "ticks": "",
           "title": {
            "standoff": 15
           },
           "zerolinecolor": "#EBF0F8",
           "zerolinewidth": 2
          },
          "yaxis": {
           "automargin": true,
           "gridcolor": "#EBF0F8",
           "linecolor": "#EBF0F8",
           "ticks": "",
           "title": {
            "standoff": 15
           },
           "zerolinecolor": "#EBF0F8",
           "zerolinewidth": 2
          }
         }
        },
        "title": {
         "text": "BOB/USDT"
        },
        "xaxis": {
         "title": {
          "text": "Timestamp"
         }
        },
        "yaxis": {
         "title": {
          "text": "Price"
         }
        }
       }
      }
     },
     "metadata": {},
     "output_type": "display_data"
    }
   ],
   "source": [
    "fig = go.Figure()\n",
    "fig.add_trace(go.Scatter(x=dolarbo.index, y=dolarbo['compra'], mode='lines', name='Buy', line=dict(color='blue')))\n",
    "fig.add_trace(go.Scatter(x=dolarbo.index, y=dolarbo['venta'], mode='lines', name='Sell', line=dict(color='red')))\n",
    "#fig.add_trace(go.Scatter(x=usdt_luis.index, y=usdt_luis['Compra'], mode='lines', name='Sell', line=dict(color='cyan')))\n",
    "#fig.add_trace(go.Scatter(x=usdt_luis.index, y=usdt_luis['Venta'], mode='lines', name='Sell', line=dict(color='green')))\n",
    "fig.add_trace(go.Scatter(x=usdtbol_day.index, y=usdtbol_day['Bs'], mode='lines', name='usdtbol.com', line=dict(color='green')))\n",
    "fig.update_layout(\n",
    "    title='BOB/USDT',\n",
    "    xaxis_title='Timestamp',\n",
    "    yaxis_title='Price',\n",
    "    legend_title='Type',\n",
    "    template='plotly_white'\n",
    ")\n",
    "\n",
    "fig.show()"
   ]
  },
  {
   "cell_type": "markdown",
   "metadata": {},
   "source": [
    "## 2. Ultra-High Frequency Data\n",
    "\n",
    "History Exchange Rate USDT/BOB with hourly frequency [(More info)](https://www.kaggle.com/datasets/darlynbravo/history-exchange-rate-usdtbob).\n",
    "\n",
    "- **price:** exchange rate\n",
    "- **available:** amount available\n",
    "- **advertisers_qty:** quantity of advertisers\n",
    "- **type:** bid (the highest price a buyer will pay) or ask (the lowest price a seller will accept)\n",
    "- **timestamp:** captured datetime\n",
    "- **curr_from:** Currency from\n",
    "- **curr_to:** Currency to\n",
    "- **source:** source of data\n",
    "\n",
    "|                              | Bid                                     | Ask                                      |\n",
    "|------------------------------|-----------------------------------------|------------------------------------------|\n",
    "| Definition                   | Price to sell an asset                  | Price to buy an asset                    |\n",
    "| Relationship to market price | Always slightly lower than market price | Always slightly higher than market price |\n",
    "\n",
    "Factors that affect bid and ask prices: \n",
    "- Market liquidity\n",
    "- Trading volume\n",
    "- Supply and demand of currencies\n",
    "- Overall market volatility\n",
    "- Economic releases\n",
    "- Bank holidays   \n",
    "\n",
    "\n",
    "Measuring the bid-ask spread: The smallest whole unit measurement of the bid-ask spread is called a pip. One pip equals 1/100 of 1%, or 0.0001. "
   ]
  },
  {
   "cell_type": "code",
   "execution_count": 7,
   "metadata": {},
   "outputs": [],
   "source": [
    "#kaggle_df = pd.read_csv('./kaggle_currency_exchange_rates.csv')\n",
    "kaggle_df = pd.read_excel('./DATA/kaggle_currency_exchange_rates.xlsx')\n",
    "kaggle_df.index = kaggle_df['timestamp']\n",
    "kaggle_df.index = pd.to_datetime(kaggle_df.index)\n",
    "\n",
    "kaggle_bid = kaggle_df[kaggle_df['type']==\"bid\"]\n",
    "kaggle_ask = kaggle_df[kaggle_df['type']==\"ask\"]"
   ]
  },
  {
   "cell_type": "code",
   "execution_count": 8,
   "metadata": {},
   "outputs": [],
   "source": [
    "hourly_minute_bid = kaggle_bid['price'].copy().resample('T').mean()\n",
    "hourly_minute_bid.dropna(axis=0, inplace=True)\n",
    "\n",
    "hourly_minute_ask = kaggle_ask['price'].copy().resample('T').mean()\n",
    "hourly_minute_ask.dropna(axis=0, inplace=True)"
   ]
  },
  {
   "cell_type": "code",
   "execution_count": 9,
   "metadata": {},
   "outputs": [],
   "source": [
    "seconds_bid = kaggle_bid['price'].copy().resample('S').mean()\n",
    "seconds_bid.dropna(axis=0, inplace=True)\n",
    "seconds_ask = kaggle_ask['price'].copy().resample('S').mean()\n",
    "seconds_ask.dropna(axis=0, inplace=True)"
   ]
  },
  {
   "cell_type": "code",
   "execution_count": 10,
   "metadata": {},
   "outputs": [
    {
     "name": "stdout",
     "output_type": "stream",
     "text": [
      "<class 'pandas.core.series.Series'>\n",
      "DatetimeIndex: 634 entries, 2024-07-09 17:43:37 to 2024-09-02 13:30:03\n",
      "Series name: price\n",
      "Non-Null Count  Dtype  \n",
      "--------------  -----  \n",
      "634 non-null    float64\n",
      "dtypes: float64(1)\n",
      "memory usage: 9.9 KB\n"
     ]
    }
   ],
   "source": [
    "seconds_bid.info()"
   ]
  },
  {
   "cell_type": "code",
   "execution_count": 11,
   "metadata": {},
   "outputs": [
    {
     "data": {
      "application/vnd.plotly.v1+json": {
       "config": {
        "plotlyServerURL": "https://plot.ly"
       },
       "data": [
        {
         "line": {
          "color": "blue"
         },
         "mode": "lines",
         "name": "Bid Price",
         "type": "scatter",
         "x": [
          "2024-07-09T17:43:37.000000000",
          "2024-07-09T17:54:12.000000000",
          "2024-07-10T13:28:13.000000000",
          "2024-07-11T16:29:58.000000000",
          "2024-07-12T13:29:47.000000000",
          "2024-07-12T20:30:42.000000000",
          "2024-07-13T17:53:47.000000000",
          "2024-07-14T16:20:22.000000000",
          "2024-07-15T16:38:27.000000000",
          "2024-07-16T01:11:52.000000000",
          "2024-07-16T14:41:29.000000000",
          "2024-07-17T11:52:58.000000000",
          "2024-07-18T16:21:21.000000000",
          "2024-07-19T18:08:38.000000000",
          "2024-07-20T18:41:23.000000000",
          "2024-07-21T16:06:49.000000000",
          "2024-07-22T22:27:17.000000000",
          "2024-07-23T13:09:00.000000000",
          "2024-07-24T12:24:28.000000000",
          "2024-07-25T12:04:51.000000000",
          "2024-07-26T13:38:15.000000000",
          "2024-07-27T01:19:23.000000000",
          "2024-07-29T14:33:00.000000000",
          "2024-07-30T15:02:57.000000000",
          "2024-07-31T13:25:08.000000000",
          "2024-08-01T12:32:25.000000000",
          "2024-08-04T13:31:23.000000000",
          "2024-08-05T14:32:25.000000000",
          "2024-08-06T14:30:54.000000000",
          "2024-08-07T15:37:28.000000000",
          "2024-08-08T13:50:05.000000000",
          "2024-08-08T21:58:20.000000000",
          "2024-08-08T23:22:52.000000000",
          "2024-08-08T23:25:47.000000000",
          "2024-08-08T23:28:46.000000000",
          "2024-08-08T23:31:47.000000000",
          "2024-08-08T23:34:46.000000000",
          "2024-08-08T23:37:46.000000000",
          "2024-08-08T23:40:46.000000000",
          "2024-08-08T23:43:47.000000000",
          "2024-08-08T23:46:47.000000000",
          "2024-08-08T23:49:46.000000000",
          "2024-08-08T23:52:46.000000000",
          "2024-08-08T23:55:47.000000000",
          "2024-08-08T23:58:46.000000000",
          "2024-08-09T00:01:47.000000000",
          "2024-08-09T00:04:46.000000000",
          "2024-08-09T00:07:46.000000000",
          "2024-08-09T00:10:46.000000000",
          "2024-08-09T00:13:46.000000000",
          "2024-08-09T00:16:47.000000000",
          "2024-08-09T00:19:46.000000000",
          "2024-08-09T00:22:46.000000000",
          "2024-08-09T00:24:05.000000000",
          "2024-08-09T01:24:12.000000000",
          "2024-08-09T02:24:10.000000000",
          "2024-08-09T03:24:10.000000000",
          "2024-08-09T04:24:09.000000000",
          "2024-08-09T05:24:08.000000000",
          "2024-08-09T06:24:10.000000000",
          "2024-08-09T07:24:09.000000000",
          "2024-08-09T08:24:12.000000000",
          "2024-08-09T09:24:09.000000000",
          "2024-08-09T10:24:09.000000000",
          "2024-08-09T11:24:09.000000000",
          "2024-08-09T12:24:11.000000000",
          "2024-08-09T13:24:09.000000000",
          "2024-08-09T14:24:09.000000000",
          "2024-08-09T15:24:10.000000000",
          "2024-08-09T16:24:10.000000000",
          "2024-08-09T17:24:09.000000000",
          "2024-08-09T18:24:10.000000000",
          "2024-08-09T19:24:10.000000000",
          "2024-08-09T20:24:10.000000000",
          "2024-08-09T21:24:09.000000000",
          "2024-08-09T22:24:09.000000000",
          "2024-08-09T23:24:08.000000000",
          "2024-08-10T00:24:10.000000000",
          "2024-08-10T01:24:09.000000000",
          "2024-08-10T02:24:09.000000000",
          "2024-08-10T03:24:10.000000000",
          "2024-08-10T04:24:09.000000000",
          "2024-08-10T05:24:08.000000000",
          "2024-08-10T06:24:08.000000000",
          "2024-08-10T07:24:08.000000000",
          "2024-08-10T08:24:08.000000000",
          "2024-08-10T09:24:08.000000000",
          "2024-08-10T10:24:08.000000000",
          "2024-08-10T11:24:08.000000000",
          "2024-08-10T12:24:07.000000000",
          "2024-08-10T13:24:08.000000000",
          "2024-08-10T14:24:09.000000000",
          "2024-08-10T15:24:08.000000000",
          "2024-08-10T16:24:10.000000000",
          "2024-08-10T17:24:09.000000000",
          "2024-08-10T18:24:08.000000000",
          "2024-08-10T19:24:09.000000000",
          "2024-08-10T20:24:09.000000000",
          "2024-08-10T21:24:10.000000000",
          "2024-08-10T22:24:09.000000000",
          "2024-08-10T23:24:09.000000000",
          "2024-08-11T00:24:08.000000000",
          "2024-08-11T01:24:09.000000000",
          "2024-08-11T02:24:07.000000000",
          "2024-08-11T03:24:08.000000000",
          "2024-08-11T04:24:07.000000000",
          "2024-08-11T05:24:08.000000000",
          "2024-08-11T06:24:07.000000000",
          "2024-08-11T07:24:08.000000000",
          "2024-08-11T08:24:08.000000000",
          "2024-08-11T09:24:08.000000000",
          "2024-08-11T10:24:08.000000000",
          "2024-08-11T11:24:10.000000000",
          "2024-08-11T12:24:08.000000000",
          "2024-08-11T13:24:09.000000000",
          "2024-08-11T14:24:09.000000000",
          "2024-08-11T15:24:09.000000000",
          "2024-08-11T16:24:09.000000000",
          "2024-08-11T17:24:09.000000000",
          "2024-08-11T18:24:08.000000000",
          "2024-08-11T19:24:09.000000000",
          "2024-08-11T20:24:09.000000000",
          "2024-08-11T21:24:08.000000000",
          "2024-08-11T22:24:08.000000000",
          "2024-08-11T23:24:10.000000000",
          "2024-08-12T00:24:10.000000000",
          "2024-08-12T01:24:08.000000000",
          "2024-08-12T02:24:09.000000000",
          "2024-08-12T03:24:08.000000000",
          "2024-08-12T04:24:10.000000000",
          "2024-08-12T05:24:08.000000000",
          "2024-08-12T06:24:08.000000000",
          "2024-08-12T07:24:07.000000000",
          "2024-08-12T08:24:08.000000000",
          "2024-08-12T09:24:09.000000000",
          "2024-08-12T10:24:08.000000000",
          "2024-08-12T11:24:08.000000000",
          "2024-08-12T12:24:09.000000000",
          "2024-08-12T13:24:08.000000000",
          "2024-08-12T14:24:10.000000000",
          "2024-08-12T15:24:09.000000000",
          "2024-08-12T16:24:09.000000000",
          "2024-08-12T17:24:08.000000000",
          "2024-08-12T18:24:09.000000000",
          "2024-08-12T19:24:09.000000000",
          "2024-08-12T20:24:09.000000000",
          "2024-08-12T21:24:09.000000000",
          "2024-08-12T22:24:09.000000000",
          "2024-08-12T23:24:09.000000000",
          "2024-08-13T00:24:09.000000000",
          "2024-08-13T01:24:08.000000000",
          "2024-08-13T02:24:08.000000000",
          "2024-08-13T03:24:08.000000000",
          "2024-08-13T04:24:08.000000000",
          "2024-08-13T05:24:09.000000000",
          "2024-08-13T06:24:08.000000000",
          "2024-08-13T07:24:09.000000000",
          "2024-08-13T08:24:08.000000000",
          "2024-08-13T09:24:08.000000000",
          "2024-08-13T10:24:09.000000000",
          "2024-08-13T11:24:09.000000000",
          "2024-08-13T12:24:09.000000000",
          "2024-08-13T13:24:09.000000000",
          "2024-08-13T14:24:10.000000000",
          "2024-08-13T15:24:09.000000000",
          "2024-08-13T16:24:10.000000000",
          "2024-08-13T17:24:09.000000000",
          "2024-08-13T18:24:09.000000000",
          "2024-08-13T19:24:09.000000000",
          "2024-08-13T20:24:10.000000000",
          "2024-08-13T21:24:09.000000000",
          "2024-08-13T22:24:09.000000000",
          "2024-08-13T23:24:09.000000000",
          "2024-08-14T00:24:09.000000000",
          "2024-08-14T01:24:10.000000000",
          "2024-08-14T02:24:09.000000000",
          "2024-08-14T03:24:08.000000000",
          "2024-08-14T04:24:09.000000000",
          "2024-08-14T05:24:08.000000000",
          "2024-08-14T06:24:08.000000000",
          "2024-08-14T07:24:10.000000000",
          "2024-08-14T08:24:08.000000000",
          "2024-08-14T09:24:09.000000000",
          "2024-08-14T10:24:09.000000000",
          "2024-08-14T11:24:09.000000000",
          "2024-08-14T12:24:09.000000000",
          "2024-08-14T13:24:09.000000000",
          "2024-08-14T14:24:10.000000000",
          "2024-08-14T15:24:12.000000000",
          "2024-08-14T16:24:09.000000000",
          "2024-08-14T17:24:09.000000000",
          "2024-08-14T18:24:10.000000000",
          "2024-08-14T19:24:09.000000000",
          "2024-08-14T20:24:09.000000000",
          "2024-08-14T21:24:08.000000000",
          "2024-08-14T22:24:09.000000000",
          "2024-08-14T23:24:09.000000000",
          "2024-08-15T00:24:10.000000000",
          "2024-08-15T01:24:09.000000000",
          "2024-08-15T02:24:09.000000000",
          "2024-08-15T03:24:09.000000000",
          "2024-08-15T04:24:09.000000000",
          "2024-08-15T05:24:08.000000000",
          "2024-08-15T06:24:09.000000000",
          "2024-08-15T07:24:09.000000000",
          "2024-08-15T08:24:09.000000000",
          "2024-08-15T09:24:09.000000000",
          "2024-08-15T10:24:09.000000000",
          "2024-08-15T11:24:10.000000000",
          "2024-08-15T12:24:09.000000000",
          "2024-08-15T13:24:09.000000000",
          "2024-08-15T14:24:10.000000000",
          "2024-08-15T15:24:11.000000000",
          "2024-08-15T16:24:09.000000000",
          "2024-08-15T17:24:09.000000000",
          "2024-08-15T18:24:09.000000000",
          "2024-08-15T19:24:09.000000000",
          "2024-08-15T20:24:09.000000000",
          "2024-08-15T21:24:10.000000000",
          "2024-08-15T22:24:09.000000000",
          "2024-08-15T23:24:09.000000000",
          "2024-08-16T00:24:10.000000000",
          "2024-08-16T01:24:09.000000000",
          "2024-08-16T02:24:09.000000000",
          "2024-08-16T03:24:09.000000000",
          "2024-08-16T04:24:09.000000000",
          "2024-08-16T05:24:08.000000000",
          "2024-08-16T06:24:09.000000000",
          "2024-08-16T07:24:09.000000000",
          "2024-08-16T08:24:09.000000000",
          "2024-08-16T09:24:09.000000000",
          "2024-08-16T10:24:08.000000000",
          "2024-08-16T11:24:10.000000000",
          "2024-08-16T12:24:09.000000000",
          "2024-08-16T13:24:08.000000000",
          "2024-08-16T14:24:09.000000000",
          "2024-08-16T15:24:08.000000000",
          "2024-08-16T16:24:10.000000000",
          "2024-08-16T17:24:08.000000000",
          "2024-08-16T18:24:09.000000000",
          "2024-08-16T19:24:07.000000000",
          "2024-08-16T20:24:09.000000000",
          "2024-08-16T21:24:09.000000000",
          "2024-08-16T22:24:09.000000000",
          "2024-08-16T23:24:09.000000000",
          "2024-08-17T00:24:10.000000000",
          "2024-08-17T01:24:09.000000000",
          "2024-08-17T02:24:09.000000000",
          "2024-08-17T03:24:08.000000000",
          "2024-08-17T04:24:08.000000000",
          "2024-08-17T05:24:09.000000000",
          "2024-08-17T06:24:10.000000000",
          "2024-08-17T07:24:08.000000000",
          "2024-08-17T08:24:07.000000000",
          "2024-08-17T09:24:08.000000000",
          "2024-08-17T10:24:08.000000000",
          "2024-08-17T11:24:09.000000000",
          "2024-08-17T12:24:09.000000000",
          "2024-08-17T13:24:10.000000000",
          "2024-08-17T14:24:08.000000000",
          "2024-08-17T15:24:09.000000000",
          "2024-08-17T16:24:09.000000000",
          "2024-08-17T17:24:09.000000000",
          "2024-08-17T18:24:09.000000000",
          "2024-08-17T19:24:09.000000000",
          "2024-08-17T20:24:09.000000000",
          "2024-08-17T21:24:09.000000000",
          "2024-08-17T22:24:09.000000000",
          "2024-08-17T23:24:09.000000000",
          "2024-08-18T00:24:09.000000000",
          "2024-08-18T01:24:09.000000000",
          "2024-08-18T02:24:09.000000000",
          "2024-08-18T03:24:09.000000000",
          "2024-08-18T04:24:09.000000000",
          "2024-08-18T05:24:08.000000000",
          "2024-08-18T06:24:07.000000000",
          "2024-08-18T07:24:07.000000000",
          "2024-08-18T08:24:07.000000000",
          "2024-08-18T09:24:08.000000000",
          "2024-08-18T10:24:07.000000000",
          "2024-08-18T11:24:08.000000000",
          "2024-08-18T12:24:08.000000000",
          "2024-08-18T13:24:10.000000000",
          "2024-08-18T14:24:09.000000000",
          "2024-08-18T15:24:08.000000000",
          "2024-08-18T16:24:08.000000000",
          "2024-08-18T17:24:09.000000000",
          "2024-08-18T18:24:09.000000000",
          "2024-08-18T19:24:10.000000000",
          "2024-08-18T20:24:09.000000000",
          "2024-08-18T21:24:09.000000000",
          "2024-08-19T13:29:59.000000000",
          "2024-08-19T13:30:09.000000000",
          "2024-08-19T14:29:59.000000000",
          "2024-08-19T15:29:59.000000000",
          "2024-08-19T16:29:59.000000000",
          "2024-08-19T17:29:59.000000000",
          "2024-08-19T18:29:59.000000000",
          "2024-08-19T19:29:58.000000000",
          "2024-08-19T20:29:59.000000000",
          "2024-08-19T21:29:58.000000000",
          "2024-08-19T22:29:59.000000000",
          "2024-08-19T23:29:59.000000000",
          "2024-08-20T00:29:59.000000000",
          "2024-08-20T01:29:58.000000000",
          "2024-08-20T02:29:58.000000000",
          "2024-08-20T03:29:58.000000000",
          "2024-08-20T04:29:59.000000000",
          "2024-08-20T05:29:58.000000000",
          "2024-08-20T06:29:58.000000000",
          "2024-08-20T07:29:58.000000000",
          "2024-08-20T08:29:58.000000000",
          "2024-08-20T09:29:59.000000000",
          "2024-08-20T10:29:59.000000000",
          "2024-08-20T11:29:59.000000000",
          "2024-08-20T12:29:58.000000000",
          "2024-08-20T13:29:59.000000000",
          "2024-08-20T14:29:59.000000000",
          "2024-08-20T15:29:58.000000000",
          "2024-08-20T16:29:59.000000000",
          "2024-08-20T17:29:59.000000000",
          "2024-08-20T18:29:59.000000000",
          "2024-08-20T19:29:58.000000000",
          "2024-08-20T20:29:59.000000000",
          "2024-08-20T21:29:59.000000000",
          "2024-08-20T22:29:59.000000000",
          "2024-08-20T23:29:59.000000000",
          "2024-08-21T00:29:58.000000000",
          "2024-08-21T01:29:59.000000000",
          "2024-08-21T02:29:58.000000000",
          "2024-08-21T03:29:59.000000000",
          "2024-08-21T04:29:59.000000000",
          "2024-08-21T05:29:59.000000000",
          "2024-08-21T06:29:59.000000000",
          "2024-08-21T07:29:59.000000000",
          "2024-08-21T08:29:59.000000000",
          "2024-08-21T09:29:58.000000000",
          "2024-08-21T10:29:59.000000000",
          "2024-08-21T11:29:58.000000000",
          "2024-08-21T12:29:59.000000000",
          "2024-08-21T13:29:59.000000000",
          "2024-08-21T14:29:59.000000000",
          "2024-08-21T15:29:59.000000000",
          "2024-08-21T16:29:59.000000000",
          "2024-08-21T17:29:59.000000000",
          "2024-08-21T18:29:59.000000000",
          "2024-08-21T19:29:59.000000000",
          "2024-08-21T20:29:59.000000000",
          "2024-08-21T21:30:00.000000000",
          "2024-08-21T22:29:59.000000000",
          "2024-08-21T23:29:59.000000000",
          "2024-08-22T00:30:00.000000000",
          "2024-08-22T01:29:59.000000000",
          "2024-08-22T02:29:59.000000000",
          "2024-08-22T03:29:59.000000000",
          "2024-08-22T04:29:59.000000000",
          "2024-08-22T05:29:59.000000000",
          "2024-08-22T06:30:00.000000000",
          "2024-08-22T07:29:59.000000000",
          "2024-08-22T08:29:59.000000000",
          "2024-08-22T09:29:59.000000000",
          "2024-08-22T10:29:59.000000000",
          "2024-08-22T11:29:59.000000000",
          "2024-08-22T12:29:59.000000000",
          "2024-08-22T13:29:59.000000000",
          "2024-08-22T14:29:59.000000000",
          "2024-08-22T15:29:59.000000000",
          "2024-08-22T16:29:59.000000000",
          "2024-08-22T17:29:59.000000000",
          "2024-08-22T18:29:59.000000000",
          "2024-08-22T19:29:59.000000000",
          "2024-08-22T20:29:59.000000000",
          "2024-08-22T21:29:59.000000000",
          "2024-08-22T22:29:59.000000000",
          "2024-08-22T23:29:59.000000000",
          "2024-08-23T00:29:59.000000000",
          "2024-08-23T01:21:53.000000000",
          "2024-08-23T01:24:04.000000000",
          "2024-08-23T01:30:04.000000000",
          "2024-08-23T02:30:04.000000000",
          "2024-08-23T03:30:04.000000000",
          "2024-08-23T04:30:04.000000000",
          "2024-08-23T05:30:04.000000000",
          "2024-08-23T06:30:04.000000000",
          "2024-08-23T07:30:03.000000000",
          "2024-08-23T08:30:04.000000000",
          "2024-08-23T09:30:05.000000000",
          "2024-08-23T10:30:04.000000000",
          "2024-08-23T11:30:06.000000000",
          "2024-08-23T12:30:03.000000000",
          "2024-08-23T13:30:03.000000000",
          "2024-08-23T14:30:04.000000000",
          "2024-08-23T15:30:04.000000000",
          "2024-08-23T16:18:08.000000000",
          "2024-08-23T16:19:05.000000000",
          "2024-08-23T16:21:52.000000000",
          "2024-08-23T16:30:02.000000000",
          "2024-08-23T17:30:04.000000000",
          "2024-08-23T18:30:05.000000000",
          "2024-08-23T19:30:03.000000000",
          "2024-08-23T20:30:05.000000000",
          "2024-08-23T21:30:04.000000000",
          "2024-08-23T22:30:04.000000000",
          "2024-08-23T23:30:04.000000000",
          "2024-08-24T00:30:04.000000000",
          "2024-08-24T01:30:04.000000000",
          "2024-08-24T02:30:05.000000000",
          "2024-08-24T03:30:04.000000000",
          "2024-08-24T04:30:05.000000000",
          "2024-08-24T05:30:11.000000000",
          "2024-08-24T06:30:05.000000000",
          "2024-08-24T07:30:04.000000000",
          "2024-08-24T08:30:05.000000000",
          "2024-08-24T09:30:04.000000000",
          "2024-08-24T10:30:04.000000000",
          "2024-08-24T11:30:04.000000000",
          "2024-08-24T12:30:05.000000000",
          "2024-08-24T13:30:04.000000000",
          "2024-08-24T14:30:04.000000000",
          "2024-08-24T15:30:03.000000000",
          "2024-08-24T16:30:04.000000000",
          "2024-08-24T17:30:04.000000000",
          "2024-08-24T18:30:03.000000000",
          "2024-08-24T19:30:04.000000000",
          "2024-08-24T20:30:04.000000000",
          "2024-08-24T21:30:02.000000000",
          "2024-08-24T22:30:03.000000000",
          "2024-08-24T23:30:03.000000000",
          "2024-08-25T00:30:04.000000000",
          "2024-08-25T01:30:03.000000000",
          "2024-08-25T02:30:05.000000000",
          "2024-08-25T03:30:04.000000000",
          "2024-08-25T04:30:05.000000000",
          "2024-08-25T05:30:04.000000000",
          "2024-08-25T06:30:04.000000000",
          "2024-08-25T07:30:05.000000000",
          "2024-08-25T08:30:04.000000000",
          "2024-08-25T09:30:04.000000000",
          "2024-08-25T10:30:04.000000000",
          "2024-08-25T11:30:04.000000000",
          "2024-08-25T12:30:04.000000000",
          "2024-08-25T13:30:04.000000000",
          "2024-08-25T14:30:04.000000000",
          "2024-08-25T15:30:04.000000000",
          "2024-08-25T16:30:04.000000000",
          "2024-08-25T17:30:04.000000000",
          "2024-08-25T18:30:04.000000000",
          "2024-08-25T19:30:04.000000000",
          "2024-08-25T20:30:04.000000000",
          "2024-08-25T21:30:03.000000000",
          "2024-08-25T22:30:04.000000000",
          "2024-08-25T23:30:03.000000000",
          "2024-08-26T00:30:05.000000000",
          "2024-08-26T01:30:04.000000000",
          "2024-08-26T02:30:04.000000000",
          "2024-08-26T03:30:05.000000000",
          "2024-08-26T04:30:04.000000000",
          "2024-08-26T05:30:04.000000000",
          "2024-08-26T06:30:05.000000000",
          "2024-08-26T07:30:07.000000000",
          "2024-08-26T08:30:05.000000000",
          "2024-08-26T09:30:05.000000000",
          "2024-08-26T10:30:05.000000000",
          "2024-08-26T11:30:04.000000000",
          "2024-08-26T12:30:04.000000000",
          "2024-08-26T13:30:04.000000000",
          "2024-08-26T14:30:04.000000000",
          "2024-08-26T15:30:04.000000000",
          "2024-08-26T16:30:04.000000000",
          "2024-08-26T17:30:04.000000000",
          "2024-08-26T18:30:04.000000000",
          "2024-08-26T19:30:04.000000000",
          "2024-08-26T20:30:04.000000000",
          "2024-08-26T21:30:05.000000000",
          "2024-08-26T22:30:04.000000000",
          "2024-08-26T23:30:03.000000000",
          "2024-08-27T00:30:04.000000000",
          "2024-08-27T01:30:05.000000000",
          "2024-08-27T02:30:04.000000000",
          "2024-08-27T03:30:04.000000000",
          "2024-08-27T04:30:04.000000000",
          "2024-08-27T05:30:04.000000000",
          "2024-08-27T06:30:04.000000000",
          "2024-08-27T07:30:04.000000000",
          "2024-08-27T08:30:05.000000000",
          "2024-08-27T09:30:05.000000000",
          "2024-08-27T10:30:04.000000000",
          "2024-08-27T11:30:03.000000000",
          "2024-08-27T12:30:05.000000000",
          "2024-08-27T13:30:04.000000000",
          "2024-08-27T14:30:04.000000000",
          "2024-08-27T15:30:04.000000000",
          "2024-08-27T16:30:05.000000000",
          "2024-08-27T17:30:03.000000000",
          "2024-08-27T18:30:04.000000000",
          "2024-08-27T19:30:04.000000000",
          "2024-08-27T20:30:04.000000000",
          "2024-08-27T21:30:04.000000000",
          "2024-08-27T22:30:03.000000000",
          "2024-08-27T23:30:05.000000000",
          "2024-08-28T00:30:04.000000000",
          "2024-08-28T01:30:05.000000000",
          "2024-08-28T02:30:05.000000000",
          "2024-08-28T03:30:04.000000000",
          "2024-08-28T04:30:04.000000000",
          "2024-08-28T05:30:04.000000000",
          "2024-08-28T06:30:04.000000000",
          "2024-08-28T07:30:04.000000000",
          "2024-08-28T08:30:04.000000000",
          "2024-08-28T09:30:05.000000000",
          "2024-08-28T10:30:05.000000000",
          "2024-08-28T11:30:03.000000000",
          "2024-08-28T12:30:05.000000000",
          "2024-08-28T13:30:04.000000000",
          "2024-08-28T14:30:04.000000000",
          "2024-08-28T15:30:05.000000000",
          "2024-08-28T16:30:02.000000000",
          "2024-08-28T17:30:05.000000000",
          "2024-08-28T18:30:04.000000000",
          "2024-08-28T19:30:04.000000000",
          "2024-08-28T20:30:05.000000000",
          "2024-08-28T21:30:04.000000000",
          "2024-08-28T22:30:04.000000000",
          "2024-08-28T23:30:04.000000000",
          "2024-08-29T00:30:05.000000000",
          "2024-08-29T01:30:03.000000000",
          "2024-08-29T02:30:03.000000000",
          "2024-08-29T03:30:05.000000000",
          "2024-08-29T04:30:04.000000000",
          "2024-08-29T05:30:05.000000000",
          "2024-08-29T06:30:04.000000000",
          "2024-08-29T07:30:05.000000000",
          "2024-08-29T08:30:05.000000000",
          "2024-08-29T09:30:04.000000000",
          "2024-08-29T10:30:04.000000000",
          "2024-08-29T11:30:05.000000000",
          "2024-08-29T12:30:04.000000000",
          "2024-08-29T13:30:04.000000000",
          "2024-08-29T14:30:04.000000000",
          "2024-08-29T15:30:04.000000000",
          "2024-08-29T16:30:04.000000000",
          "2024-08-29T17:30:04.000000000",
          "2024-08-29T18:30:04.000000000",
          "2024-08-29T19:30:04.000000000",
          "2024-08-29T20:30:04.000000000",
          "2024-08-29T21:30:04.000000000",
          "2024-08-29T22:30:04.000000000",
          "2024-08-29T23:30:05.000000000",
          "2024-08-30T00:30:04.000000000",
          "2024-08-30T01:30:05.000000000",
          "2024-08-30T02:30:04.000000000",
          "2024-08-30T03:30:04.000000000",
          "2024-08-30T04:30:04.000000000",
          "2024-08-30T05:30:05.000000000",
          "2024-08-30T06:30:05.000000000",
          "2024-08-30T07:30:05.000000000",
          "2024-08-30T08:30:04.000000000",
          "2024-08-30T09:30:05.000000000",
          "2024-08-30T10:30:05.000000000",
          "2024-08-30T11:30:04.000000000",
          "2024-08-30T12:30:05.000000000",
          "2024-08-30T13:30:05.000000000",
          "2024-08-30T14:30:04.000000000",
          "2024-08-30T15:30:04.000000000",
          "2024-08-30T16:30:05.000000000",
          "2024-08-30T17:30:05.000000000",
          "2024-08-30T18:30:04.000000000",
          "2024-08-30T19:30:04.000000000",
          "2024-08-30T20:30:04.000000000",
          "2024-08-30T21:30:04.000000000",
          "2024-08-30T22:30:05.000000000",
          "2024-08-30T23:30:04.000000000",
          "2024-08-31T00:30:05.000000000",
          "2024-08-31T01:30:03.000000000",
          "2024-08-31T02:30:04.000000000",
          "2024-08-31T03:30:03.000000000",
          "2024-08-31T04:30:04.000000000",
          "2024-08-31T05:30:05.000000000",
          "2024-08-31T06:30:04.000000000",
          "2024-08-31T07:30:05.000000000",
          "2024-08-31T08:30:04.000000000",
          "2024-08-31T09:30:04.000000000",
          "2024-08-31T10:30:04.000000000",
          "2024-08-31T11:30:04.000000000",
          "2024-08-31T12:30:04.000000000",
          "2024-08-31T13:30:04.000000000",
          "2024-08-31T14:30:04.000000000",
          "2024-08-31T15:30:04.000000000",
          "2024-08-31T16:30:04.000000000",
          "2024-08-31T17:30:04.000000000",
          "2024-08-31T18:30:04.000000000",
          "2024-08-31T19:30:05.000000000",
          "2024-08-31T20:30:04.000000000",
          "2024-08-31T21:30:04.000000000",
          "2024-08-31T22:30:03.000000000",
          "2024-08-31T23:30:03.000000000",
          "2024-09-01T00:30:05.000000000",
          "2024-09-01T01:30:04.000000000",
          "2024-09-01T02:30:03.000000000",
          "2024-09-01T03:30:04.000000000",
          "2024-09-01T04:30:04.000000000",
          "2024-09-01T05:30:05.000000000",
          "2024-09-01T06:30:03.000000000",
          "2024-09-01T07:30:05.000000000",
          "2024-09-01T08:30:04.000000000",
          "2024-09-01T09:30:04.000000000",
          "2024-09-01T10:30:04.000000000",
          "2024-09-01T11:30:04.000000000",
          "2024-09-01T12:30:04.000000000",
          "2024-09-01T13:30:04.000000000",
          "2024-09-01T14:30:04.000000000",
          "2024-09-01T15:30:04.000000000",
          "2024-09-01T16:30:04.000000000",
          "2024-09-01T17:30:04.000000000",
          "2024-09-01T18:30:04.000000000",
          "2024-09-01T19:30:04.000000000",
          "2024-09-01T20:30:04.000000000",
          "2024-09-01T21:30:04.000000000",
          "2024-09-01T22:30:04.000000000",
          "2024-09-01T23:30:04.000000000",
          "2024-09-02T00:30:05.000000000",
          "2024-09-02T01:30:03.000000000",
          "2024-09-02T02:30:04.000000000",
          "2024-09-02T03:30:03.000000000",
          "2024-09-02T04:30:04.000000000",
          "2024-09-02T05:30:04.000000000",
          "2024-09-02T06:30:04.000000000",
          "2024-09-02T07:30:04.000000000",
          "2024-09-02T08:30:04.000000000",
          "2024-09-02T09:30:04.000000000",
          "2024-09-02T10:30:04.000000000",
          "2024-09-02T11:30:04.000000000",
          "2024-09-02T12:30:04.000000000",
          "2024-09-02T13:30:03.000000000"
         ],
         "y": {
          "bdata": "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",
          "dtype": "f8"
         }
        },
        {
         "line": {
          "color": "red"
         },
         "mode": "lines",
         "name": "Ask Price",
         "type": "scatter",
         "x": [
          "2024-07-09T17:43:37.000000000",
          "2024-07-09T17:54:12.000000000",
          "2024-07-10T13:28:13.000000000",
          "2024-07-11T16:29:58.000000000",
          "2024-07-12T13:29:47.000000000",
          "2024-07-12T20:30:42.000000000",
          "2024-07-13T17:53:47.000000000",
          "2024-07-14T16:20:22.000000000",
          "2024-07-15T16:38:27.000000000",
          "2024-07-16T01:11:52.000000000",
          "2024-07-16T14:41:29.000000000",
          "2024-07-17T11:52:58.000000000",
          "2024-07-18T16:21:21.000000000",
          "2024-07-19T18:08:38.000000000",
          "2024-07-20T18:41:23.000000000",
          "2024-07-21T16:06:49.000000000",
          "2024-07-22T22:27:17.000000000",
          "2024-07-23T13:09:00.000000000",
          "2024-07-24T12:24:28.000000000",
          "2024-07-25T12:04:51.000000000",
          "2024-07-26T13:38:15.000000000",
          "2024-07-27T01:19:23.000000000",
          "2024-07-29T14:33:00.000000000",
          "2024-07-30T15:02:57.000000000",
          "2024-07-31T13:25:08.000000000",
          "2024-08-01T12:32:25.000000000",
          "2024-08-04T13:31:23.000000000",
          "2024-08-05T14:32:25.000000000",
          "2024-08-06T14:30:54.000000000",
          "2024-08-07T15:37:28.000000000",
          "2024-08-08T13:50:05.000000000",
          "2024-08-08T21:58:20.000000000",
          "2024-08-08T23:22:52.000000000",
          "2024-08-08T23:25:47.000000000",
          "2024-08-08T23:28:46.000000000",
          "2024-08-08T23:31:47.000000000",
          "2024-08-08T23:34:46.000000000",
          "2024-08-08T23:37:46.000000000",
          "2024-08-08T23:40:46.000000000",
          "2024-08-08T23:43:47.000000000",
          "2024-08-08T23:46:47.000000000",
          "2024-08-08T23:49:46.000000000",
          "2024-08-08T23:52:46.000000000",
          "2024-08-08T23:55:47.000000000",
          "2024-08-08T23:58:46.000000000",
          "2024-08-09T00:01:47.000000000",
          "2024-08-09T00:04:46.000000000",
          "2024-08-09T00:07:46.000000000",
          "2024-08-09T00:10:46.000000000",
          "2024-08-09T00:13:46.000000000",
          "2024-08-09T00:16:47.000000000",
          "2024-08-09T00:19:46.000000000",
          "2024-08-09T00:22:46.000000000",
          "2024-08-09T00:24:05.000000000",
          "2024-08-09T01:24:12.000000000",
          "2024-08-09T02:24:10.000000000",
          "2024-08-09T03:24:10.000000000",
          "2024-08-09T04:24:09.000000000",
          "2024-08-09T05:24:08.000000000",
          "2024-08-09T06:24:10.000000000",
          "2024-08-09T07:24:09.000000000",
          "2024-08-09T08:24:12.000000000",
          "2024-08-09T09:24:09.000000000",
          "2024-08-09T10:24:09.000000000",
          "2024-08-09T11:24:09.000000000",
          "2024-08-09T12:24:11.000000000",
          "2024-08-09T13:24:09.000000000",
          "2024-08-09T14:24:09.000000000",
          "2024-08-09T15:24:10.000000000",
          "2024-08-09T16:24:10.000000000",
          "2024-08-09T17:24:09.000000000",
          "2024-08-09T18:24:10.000000000",
          "2024-08-09T19:24:10.000000000",
          "2024-08-09T20:24:10.000000000",
          "2024-08-09T21:24:09.000000000",
          "2024-08-09T22:24:09.000000000",
          "2024-08-09T23:24:08.000000000",
          "2024-08-10T00:24:10.000000000",
          "2024-08-10T01:24:09.000000000",
          "2024-08-10T02:24:09.000000000",
          "2024-08-10T03:24:10.000000000",
          "2024-08-10T04:24:09.000000000",
          "2024-08-10T05:24:08.000000000",
          "2024-08-10T06:24:08.000000000",
          "2024-08-10T07:24:08.000000000",
          "2024-08-10T08:24:08.000000000",
          "2024-08-10T09:24:08.000000000",
          "2024-08-10T10:24:08.000000000",
          "2024-08-10T11:24:08.000000000",
          "2024-08-10T12:24:07.000000000",
          "2024-08-10T13:24:08.000000000",
          "2024-08-10T14:24:09.000000000",
          "2024-08-10T15:24:08.000000000",
          "2024-08-10T16:24:10.000000000",
          "2024-08-10T17:24:09.000000000",
          "2024-08-10T18:24:08.000000000",
          "2024-08-10T19:24:09.000000000",
          "2024-08-10T20:24:09.000000000",
          "2024-08-10T21:24:10.000000000",
          "2024-08-10T22:24:09.000000000",
          "2024-08-10T23:24:09.000000000",
          "2024-08-11T00:24:08.000000000",
          "2024-08-11T01:24:09.000000000",
          "2024-08-11T02:24:07.000000000",
          "2024-08-11T03:24:08.000000000",
          "2024-08-11T04:24:07.000000000",
          "2024-08-11T05:24:08.000000000",
          "2024-08-11T06:24:07.000000000",
          "2024-08-11T07:24:08.000000000",
          "2024-08-11T08:24:08.000000000",
          "2024-08-11T09:24:08.000000000",
          "2024-08-11T10:24:08.000000000",
          "2024-08-11T11:24:10.000000000",
          "2024-08-11T12:24:08.000000000",
          "2024-08-11T13:24:09.000000000",
          "2024-08-11T14:24:09.000000000",
          "2024-08-11T15:24:09.000000000",
          "2024-08-11T16:24:09.000000000",
          "2024-08-11T17:24:09.000000000",
          "2024-08-11T18:24:08.000000000",
          "2024-08-11T19:24:09.000000000",
          "2024-08-11T20:24:09.000000000",
          "2024-08-11T21:24:08.000000000",
          "2024-08-11T22:24:08.000000000",
          "2024-08-11T23:24:10.000000000",
          "2024-08-12T00:24:10.000000000",
          "2024-08-12T01:24:08.000000000",
          "2024-08-12T02:24:09.000000000",
          "2024-08-12T03:24:08.000000000",
          "2024-08-12T04:24:10.000000000",
          "2024-08-12T05:24:08.000000000",
          "2024-08-12T06:24:08.000000000",
          "2024-08-12T07:24:07.000000000",
          "2024-08-12T08:24:08.000000000",
          "2024-08-12T09:24:09.000000000",
          "2024-08-12T10:24:08.000000000",
          "2024-08-12T11:24:08.000000000",
          "2024-08-12T12:24:09.000000000",
          "2024-08-12T13:24:08.000000000",
          "2024-08-12T14:24:10.000000000",
          "2024-08-12T15:24:09.000000000",
          "2024-08-12T16:24:09.000000000",
          "2024-08-12T17:24:08.000000000",
          "2024-08-12T18:24:09.000000000",
          "2024-08-12T19:24:09.000000000",
          "2024-08-12T20:24:09.000000000",
          "2024-08-12T21:24:09.000000000",
          "2024-08-12T22:24:09.000000000",
          "2024-08-12T23:24:09.000000000",
          "2024-08-13T00:24:09.000000000",
          "2024-08-13T01:24:08.000000000",
          "2024-08-13T02:24:08.000000000",
          "2024-08-13T03:24:08.000000000",
          "2024-08-13T04:24:08.000000000",
          "2024-08-13T05:24:09.000000000",
          "2024-08-13T06:24:08.000000000",
          "2024-08-13T07:24:09.000000000",
          "2024-08-13T08:24:08.000000000",
          "2024-08-13T09:24:08.000000000",
          "2024-08-13T10:24:09.000000000",
          "2024-08-13T11:24:09.000000000",
          "2024-08-13T12:24:09.000000000",
          "2024-08-13T13:24:09.000000000",
          "2024-08-13T14:24:10.000000000",
          "2024-08-13T15:24:09.000000000",
          "2024-08-13T16:24:10.000000000",
          "2024-08-13T17:24:09.000000000",
          "2024-08-13T18:24:09.000000000",
          "2024-08-13T19:24:09.000000000",
          "2024-08-13T20:24:10.000000000",
          "2024-08-13T21:24:09.000000000",
          "2024-08-13T22:24:09.000000000",
          "2024-08-13T23:24:09.000000000",
          "2024-08-14T00:24:09.000000000",
          "2024-08-14T01:24:10.000000000",
          "2024-08-14T02:24:09.000000000",
          "2024-08-14T03:24:08.000000000",
          "2024-08-14T04:24:09.000000000",
          "2024-08-14T05:24:08.000000000",
          "2024-08-14T06:24:08.000000000",
          "2024-08-14T07:24:10.000000000",
          "2024-08-14T08:24:08.000000000",
          "2024-08-14T09:24:09.000000000",
          "2024-08-14T10:24:09.000000000",
          "2024-08-14T11:24:09.000000000",
          "2024-08-14T12:24:09.000000000",
          "2024-08-14T13:24:09.000000000",
          "2024-08-14T14:24:10.000000000",
          "2024-08-14T15:24:12.000000000",
          "2024-08-14T16:24:09.000000000",
          "2024-08-14T17:24:09.000000000",
          "2024-08-14T18:24:10.000000000",
          "2024-08-14T19:24:09.000000000",
          "2024-08-14T20:24:09.000000000",
          "2024-08-14T21:24:08.000000000",
          "2024-08-14T22:24:09.000000000",
          "2024-08-14T23:24:09.000000000",
          "2024-08-15T00:24:10.000000000",
          "2024-08-15T01:24:09.000000000",
          "2024-08-15T02:24:09.000000000",
          "2024-08-15T03:24:09.000000000",
          "2024-08-15T04:24:09.000000000",
          "2024-08-15T05:24:08.000000000",
          "2024-08-15T06:24:09.000000000",
          "2024-08-15T07:24:09.000000000",
          "2024-08-15T08:24:09.000000000",
          "2024-08-15T09:24:09.000000000",
          "2024-08-15T10:24:09.000000000",
          "2024-08-15T11:24:10.000000000",
          "2024-08-15T12:24:09.000000000",
          "2024-08-15T13:24:09.000000000",
          "2024-08-15T14:24:10.000000000",
          "2024-08-15T15:24:11.000000000",
          "2024-08-15T16:24:09.000000000",
          "2024-08-15T17:24:09.000000000",
          "2024-08-15T18:24:09.000000000",
          "2024-08-15T19:24:09.000000000",
          "2024-08-15T20:24:09.000000000",
          "2024-08-15T21:24:10.000000000",
          "2024-08-15T22:24:09.000000000",
          "2024-08-15T23:24:09.000000000",
          "2024-08-16T00:24:10.000000000",
          "2024-08-16T01:24:09.000000000",
          "2024-08-16T02:24:09.000000000",
          "2024-08-16T03:24:09.000000000",
          "2024-08-16T04:24:09.000000000",
          "2024-08-16T05:24:08.000000000",
          "2024-08-16T06:24:09.000000000",
          "2024-08-16T07:24:09.000000000",
          "2024-08-16T08:24:09.000000000",
          "2024-08-16T09:24:09.000000000",
          "2024-08-16T10:24:08.000000000",
          "2024-08-16T11:24:10.000000000",
          "2024-08-16T12:24:09.000000000",
          "2024-08-16T13:24:08.000000000",
          "2024-08-16T14:24:09.000000000",
          "2024-08-16T15:24:08.000000000",
          "2024-08-16T16:24:10.000000000",
          "2024-08-16T17:24:08.000000000",
          "2024-08-16T18:24:09.000000000",
          "2024-08-16T19:24:07.000000000",
          "2024-08-16T20:24:09.000000000",
          "2024-08-16T21:24:09.000000000",
          "2024-08-16T22:24:09.000000000",
          "2024-08-16T23:24:09.000000000",
          "2024-08-17T00:24:10.000000000",
          "2024-08-17T01:24:09.000000000",
          "2024-08-17T02:24:09.000000000",
          "2024-08-17T03:24:08.000000000",
          "2024-08-17T04:24:08.000000000",
          "2024-08-17T05:24:09.000000000",
          "2024-08-17T06:24:10.000000000",
          "2024-08-17T07:24:08.000000000",
          "2024-08-17T08:24:07.000000000",
          "2024-08-17T09:24:08.000000000",
          "2024-08-17T10:24:08.000000000",
          "2024-08-17T11:24:09.000000000",
          "2024-08-17T12:24:09.000000000",
          "2024-08-17T13:24:10.000000000",
          "2024-08-17T14:24:08.000000000",
          "2024-08-17T15:24:09.000000000",
          "2024-08-17T16:24:09.000000000",
          "2024-08-17T17:24:09.000000000",
          "2024-08-17T18:24:09.000000000",
          "2024-08-17T19:24:09.000000000",
          "2024-08-17T20:24:09.000000000",
          "2024-08-17T21:24:09.000000000",
          "2024-08-17T22:24:09.000000000",
          "2024-08-17T23:24:09.000000000",
          "2024-08-18T00:24:09.000000000",
          "2024-08-18T01:24:09.000000000",
          "2024-08-18T02:24:09.000000000",
          "2024-08-18T03:24:09.000000000",
          "2024-08-18T04:24:09.000000000",
          "2024-08-18T05:24:08.000000000",
          "2024-08-18T06:24:07.000000000",
          "2024-08-18T07:24:07.000000000",
          "2024-08-18T08:24:07.000000000",
          "2024-08-18T09:24:08.000000000",
          "2024-08-18T10:24:07.000000000",
          "2024-08-18T11:24:08.000000000",
          "2024-08-18T12:24:08.000000000",
          "2024-08-18T13:24:10.000000000",
          "2024-08-18T14:24:09.000000000",
          "2024-08-18T15:24:08.000000000",
          "2024-08-18T16:24:08.000000000",
          "2024-08-18T17:24:09.000000000",
          "2024-08-18T18:24:09.000000000",
          "2024-08-18T19:24:10.000000000",
          "2024-08-18T20:24:09.000000000",
          "2024-08-18T21:24:09.000000000",
          "2024-08-19T13:29:59.000000000",
          "2024-08-19T13:30:09.000000000",
          "2024-08-19T14:29:59.000000000",
          "2024-08-19T15:29:59.000000000",
          "2024-08-19T16:29:59.000000000",
          "2024-08-19T17:29:59.000000000",
          "2024-08-19T18:29:59.000000000",
          "2024-08-19T19:29:58.000000000",
          "2024-08-19T20:29:59.000000000",
          "2024-08-19T21:29:58.000000000",
          "2024-08-19T22:29:59.000000000",
          "2024-08-19T23:29:59.000000000",
          "2024-08-20T00:29:59.000000000",
          "2024-08-20T01:29:58.000000000",
          "2024-08-20T02:29:58.000000000",
          "2024-08-20T03:29:58.000000000",
          "2024-08-20T04:29:59.000000000",
          "2024-08-20T05:29:58.000000000",
          "2024-08-20T06:29:58.000000000",
          "2024-08-20T07:29:58.000000000",
          "2024-08-20T08:29:58.000000000",
          "2024-08-20T09:29:59.000000000",
          "2024-08-20T10:29:59.000000000",
          "2024-08-20T11:29:59.000000000",
          "2024-08-20T12:29:58.000000000",
          "2024-08-20T13:29:59.000000000",
          "2024-08-20T14:29:59.000000000",
          "2024-08-20T15:29:58.000000000",
          "2024-08-20T16:29:59.000000000",
          "2024-08-20T17:29:59.000000000",
          "2024-08-20T18:29:59.000000000",
          "2024-08-20T19:29:58.000000000",
          "2024-08-20T20:29:59.000000000",
          "2024-08-20T21:29:59.000000000",
          "2024-08-20T22:29:59.000000000",
          "2024-08-20T23:29:59.000000000",
          "2024-08-21T00:29:58.000000000",
          "2024-08-21T01:29:59.000000000",
          "2024-08-21T02:29:58.000000000",
          "2024-08-21T03:29:59.000000000",
          "2024-08-21T04:29:59.000000000",
          "2024-08-21T05:29:59.000000000",
          "2024-08-21T06:29:59.000000000",
          "2024-08-21T07:29:59.000000000",
          "2024-08-21T08:29:59.000000000",
          "2024-08-21T09:29:58.000000000",
          "2024-08-21T10:29:59.000000000",
          "2024-08-21T11:29:58.000000000",
          "2024-08-21T12:29:59.000000000",
          "2024-08-21T13:29:59.000000000",
          "2024-08-21T14:29:59.000000000",
          "2024-08-21T15:29:59.000000000",
          "2024-08-21T16:29:59.000000000",
          "2024-08-21T17:29:59.000000000",
          "2024-08-21T18:29:59.000000000",
          "2024-08-21T19:29:59.000000000",
          "2024-08-21T20:29:59.000000000",
          "2024-08-21T21:30:00.000000000",
          "2024-08-21T22:29:59.000000000",
          "2024-08-21T23:29:59.000000000",
          "2024-08-22T00:30:00.000000000",
          "2024-08-22T01:29:59.000000000",
          "2024-08-22T02:29:59.000000000",
          "2024-08-22T03:29:59.000000000",
          "2024-08-22T04:29:59.000000000",
          "2024-08-22T05:29:59.000000000",
          "2024-08-22T06:30:00.000000000",
          "2024-08-22T07:29:59.000000000",
          "2024-08-22T08:29:59.000000000",
          "2024-08-22T09:29:59.000000000",
          "2024-08-22T10:29:59.000000000",
          "2024-08-22T11:29:59.000000000",
          "2024-08-22T12:29:59.000000000",
          "2024-08-22T13:29:59.000000000",
          "2024-08-22T14:29:59.000000000",
          "2024-08-22T15:29:59.000000000",
          "2024-08-22T16:29:59.000000000",
          "2024-08-22T17:29:59.000000000",
          "2024-08-22T18:29:59.000000000",
          "2024-08-22T19:29:59.000000000",
          "2024-08-22T20:29:59.000000000",
          "2024-08-22T21:29:59.000000000",
          "2024-08-22T22:29:59.000000000",
          "2024-08-22T23:29:59.000000000",
          "2024-08-23T00:29:59.000000000",
          "2024-08-23T01:21:53.000000000",
          "2024-08-23T01:24:04.000000000",
          "2024-08-23T01:30:04.000000000",
          "2024-08-23T02:30:04.000000000",
          "2024-08-23T03:30:04.000000000",
          "2024-08-23T04:30:04.000000000",
          "2024-08-23T05:30:04.000000000",
          "2024-08-23T06:30:04.000000000",
          "2024-08-23T07:30:03.000000000",
          "2024-08-23T08:30:04.000000000",
          "2024-08-23T09:30:05.000000000",
          "2024-08-23T10:30:04.000000000",
          "2024-08-23T11:30:06.000000000",
          "2024-08-23T12:30:03.000000000",
          "2024-08-23T13:30:03.000000000",
          "2024-08-23T14:30:04.000000000",
          "2024-08-23T15:30:04.000000000",
          "2024-08-23T16:18:08.000000000",
          "2024-08-23T16:19:05.000000000",
          "2024-08-23T16:21:52.000000000",
          "2024-08-23T16:30:02.000000000",
          "2024-08-23T17:30:04.000000000",
          "2024-08-23T18:30:05.000000000",
          "2024-08-23T19:30:03.000000000",
          "2024-08-23T20:30:05.000000000",
          "2024-08-23T21:30:04.000000000",
          "2024-08-23T22:30:04.000000000",
          "2024-08-23T23:30:04.000000000",
          "2024-08-24T00:30:04.000000000",
          "2024-08-24T01:30:04.000000000",
          "2024-08-24T02:30:05.000000000",
          "2024-08-24T03:30:04.000000000",
          "2024-08-24T04:30:05.000000000",
          "2024-08-24T05:30:11.000000000",
          "2024-08-24T06:30:05.000000000",
          "2024-08-24T07:30:04.000000000",
          "2024-08-24T08:30:05.000000000",
          "2024-08-24T09:30:04.000000000",
          "2024-08-24T10:30:04.000000000",
          "2024-08-24T11:30:04.000000000",
          "2024-08-24T12:30:05.000000000",
          "2024-08-24T13:30:04.000000000",
          "2024-08-24T14:30:04.000000000",
          "2024-08-24T15:30:03.000000000",
          "2024-08-24T16:30:04.000000000",
          "2024-08-24T17:30:04.000000000",
          "2024-08-24T18:30:03.000000000",
          "2024-08-24T19:30:04.000000000",
          "2024-08-24T20:30:04.000000000",
          "2024-08-24T21:30:02.000000000",
          "2024-08-24T22:30:03.000000000",
          "2024-08-24T23:30:03.000000000",
          "2024-08-25T00:30:04.000000000",
          "2024-08-25T01:30:03.000000000",
          "2024-08-25T02:30:05.000000000",
          "2024-08-25T03:30:04.000000000",
          "2024-08-25T04:30:05.000000000",
          "2024-08-25T05:30:04.000000000",
          "2024-08-25T06:30:04.000000000",
          "2024-08-25T07:30:05.000000000",
          "2024-08-25T08:30:04.000000000",
          "2024-08-25T09:30:04.000000000",
          "2024-08-25T10:30:04.000000000",
          "2024-08-25T11:30:04.000000000",
          "2024-08-25T12:30:04.000000000",
          "2024-08-25T13:30:04.000000000",
          "2024-08-25T14:30:04.000000000",
          "2024-08-25T15:30:04.000000000",
          "2024-08-25T16:30:04.000000000",
          "2024-08-25T17:30:04.000000000",
          "2024-08-25T18:30:04.000000000",
          "2024-08-25T19:30:04.000000000",
          "2024-08-25T20:30:04.000000000",
          "2024-08-25T21:30:03.000000000",
          "2024-08-25T22:30:04.000000000",
          "2024-08-25T23:30:03.000000000",
          "2024-08-26T00:30:05.000000000",
          "2024-08-26T01:30:04.000000000",
          "2024-08-26T02:30:04.000000000",
          "2024-08-26T03:30:05.000000000",
          "2024-08-26T04:30:04.000000000",
          "2024-08-26T05:30:04.000000000",
          "2024-08-26T06:30:05.000000000",
          "2024-08-26T07:30:07.000000000",
          "2024-08-26T08:30:05.000000000",
          "2024-08-26T09:30:05.000000000",
          "2024-08-26T10:30:05.000000000",
          "2024-08-26T11:30:04.000000000",
          "2024-08-26T12:30:04.000000000",
          "2024-08-26T13:30:04.000000000",
          "2024-08-26T14:30:04.000000000",
          "2024-08-26T15:30:04.000000000",
          "2024-08-26T16:30:04.000000000",
          "2024-08-26T17:30:04.000000000",
          "2024-08-26T18:30:04.000000000",
          "2024-08-26T19:30:04.000000000",
          "2024-08-26T20:30:04.000000000",
          "2024-08-26T21:30:05.000000000",
          "2024-08-26T22:30:04.000000000",
          "2024-08-26T23:30:03.000000000",
          "2024-08-27T00:30:04.000000000",
          "2024-08-27T01:30:05.000000000",
          "2024-08-27T02:30:04.000000000",
          "2024-08-27T03:30:04.000000000",
          "2024-08-27T04:30:04.000000000",
          "2024-08-27T05:30:04.000000000",
          "2024-08-27T06:30:04.000000000",
          "2024-08-27T07:30:04.000000000",
          "2024-08-27T08:30:05.000000000",
          "2024-08-27T09:30:05.000000000",
          "2024-08-27T10:30:04.000000000",
          "2024-08-27T11:30:03.000000000",
          "2024-08-27T12:30:05.000000000",
          "2024-08-27T13:30:04.000000000",
          "2024-08-27T14:30:04.000000000",
          "2024-08-27T15:30:04.000000000",
          "2024-08-27T16:30:05.000000000",
          "2024-08-27T17:30:03.000000000",
          "2024-08-27T18:30:04.000000000",
          "2024-08-27T19:30:04.000000000",
          "2024-08-27T20:30:04.000000000",
          "2024-08-27T21:30:04.000000000",
          "2024-08-27T22:30:03.000000000",
          "2024-08-27T23:30:05.000000000",
          "2024-08-28T00:30:04.000000000",
          "2024-08-28T01:30:05.000000000",
          "2024-08-28T02:30:05.000000000",
          "2024-08-28T03:30:04.000000000",
          "2024-08-28T04:30:04.000000000",
          "2024-08-28T05:30:04.000000000",
          "2024-08-28T06:30:04.000000000",
          "2024-08-28T07:30:04.000000000",
          "2024-08-28T08:30:04.000000000",
          "2024-08-28T09:30:05.000000000",
          "2024-08-28T10:30:05.000000000",
          "2024-08-28T11:30:03.000000000",
          "2024-08-28T12:30:05.000000000",
          "2024-08-28T13:30:04.000000000",
          "2024-08-28T14:30:04.000000000",
          "2024-08-28T15:30:05.000000000",
          "2024-08-28T16:30:02.000000000",
          "2024-08-28T17:30:05.000000000",
          "2024-08-28T18:30:04.000000000",
          "2024-08-28T19:30:04.000000000",
          "2024-08-28T20:30:05.000000000",
          "2024-08-28T21:30:04.000000000",
          "2024-08-28T22:30:04.000000000",
          "2024-08-28T23:30:04.000000000",
          "2024-08-29T00:30:05.000000000",
          "2024-08-29T01:30:03.000000000",
          "2024-08-29T02:30:03.000000000",
          "2024-08-29T03:30:05.000000000",
          "2024-08-29T04:30:04.000000000",
          "2024-08-29T05:30:05.000000000",
          "2024-08-29T06:30:04.000000000",
          "2024-08-29T07:30:05.000000000",
          "2024-08-29T08:30:05.000000000",
          "2024-08-29T09:30:04.000000000",
          "2024-08-29T10:30:04.000000000",
          "2024-08-29T11:30:05.000000000",
          "2024-08-29T12:30:04.000000000",
          "2024-08-29T13:30:04.000000000",
          "2024-08-29T14:30:04.000000000",
          "2024-08-29T15:30:04.000000000",
          "2024-08-29T16:30:04.000000000",
          "2024-08-29T17:30:04.000000000",
          "2024-08-29T18:30:04.000000000",
          "2024-08-29T19:30:04.000000000",
          "2024-08-29T20:30:04.000000000",
          "2024-08-29T21:30:04.000000000",
          "2024-08-29T22:30:04.000000000",
          "2024-08-29T23:30:05.000000000",
          "2024-08-30T00:30:04.000000000",
          "2024-08-30T01:30:05.000000000",
          "2024-08-30T02:30:04.000000000",
          "2024-08-30T03:30:04.000000000",
          "2024-08-30T04:30:04.000000000",
          "2024-08-30T05:30:05.000000000",
          "2024-08-30T06:30:05.000000000",
          "2024-08-30T07:30:05.000000000",
          "2024-08-30T08:30:04.000000000",
          "2024-08-30T09:30:05.000000000",
          "2024-08-30T10:30:05.000000000",
          "2024-08-30T11:30:04.000000000",
          "2024-08-30T12:30:05.000000000",
          "2024-08-30T13:30:05.000000000",
          "2024-08-30T14:30:04.000000000",
          "2024-08-30T15:30:04.000000000",
          "2024-08-30T16:30:05.000000000",
          "2024-08-30T17:30:05.000000000",
          "2024-08-30T18:30:04.000000000",
          "2024-08-30T19:30:04.000000000",
          "2024-08-30T20:30:04.000000000",
          "2024-08-30T21:30:04.000000000",
          "2024-08-30T22:30:05.000000000",
          "2024-08-30T23:30:04.000000000",
          "2024-08-31T00:30:05.000000000",
          "2024-08-31T01:30:03.000000000",
          "2024-08-31T02:30:04.000000000",
          "2024-08-31T03:30:03.000000000",
          "2024-08-31T04:30:04.000000000",
          "2024-08-31T05:30:05.000000000",
          "2024-08-31T06:30:04.000000000",
          "2024-08-31T07:30:05.000000000",
          "2024-08-31T08:30:04.000000000",
          "2024-08-31T09:30:04.000000000",
          "2024-08-31T10:30:04.000000000",
          "2024-08-31T11:30:04.000000000",
          "2024-08-31T12:30:04.000000000",
          "2024-08-31T13:30:04.000000000",
          "2024-08-31T14:30:04.000000000",
          "2024-08-31T15:30:04.000000000",
          "2024-08-31T16:30:04.000000000",
          "2024-08-31T17:30:04.000000000",
          "2024-08-31T18:30:04.000000000",
          "2024-08-31T19:30:05.000000000",
          "2024-08-31T20:30:04.000000000",
          "2024-08-31T21:30:04.000000000",
          "2024-08-31T22:30:03.000000000",
          "2024-08-31T23:30:03.000000000",
          "2024-09-01T00:30:05.000000000",
          "2024-09-01T01:30:04.000000000",
          "2024-09-01T02:30:03.000000000",
          "2024-09-01T03:30:04.000000000",
          "2024-09-01T04:30:04.000000000",
          "2024-09-01T05:30:05.000000000",
          "2024-09-01T06:30:03.000000000",
          "2024-09-01T07:30:05.000000000",
          "2024-09-01T08:30:04.000000000",
          "2024-09-01T09:30:04.000000000",
          "2024-09-01T10:30:04.000000000",
          "2024-09-01T11:30:04.000000000",
          "2024-09-01T12:30:04.000000000",
          "2024-09-01T13:30:04.000000000",
          "2024-09-01T14:30:04.000000000",
          "2024-09-01T15:30:04.000000000",
          "2024-09-01T16:30:04.000000000",
          "2024-09-01T17:30:04.000000000",
          "2024-09-01T18:30:04.000000000",
          "2024-09-01T19:30:04.000000000",
          "2024-09-01T20:30:04.000000000",
          "2024-09-01T21:30:04.000000000",
          "2024-09-01T22:30:04.000000000",
          "2024-09-01T23:30:04.000000000",
          "2024-09-02T00:30:05.000000000",
          "2024-09-02T01:30:03.000000000",
          "2024-09-02T02:30:04.000000000",
          "2024-09-02T03:30:03.000000000",
          "2024-09-02T04:30:04.000000000",
          "2024-09-02T05:30:04.000000000",
          "2024-09-02T06:30:04.000000000",
          "2024-09-02T07:30:04.000000000",
          "2024-09-02T08:30:04.000000000",
          "2024-09-02T09:30:04.000000000",
          "2024-09-02T10:30:04.000000000",
          "2024-09-02T11:30:04.000000000",
          "2024-09-02T12:30:04.000000000",
          "2024-09-02T13:30:03.000000000"
         ],
         "y": {
          "bdata": "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",
          "dtype": "f8"
         }
        }
       ],
       "layout": {
        "legend": {
         "title": {
          "text": "Type"
         }
        },
        "template": {
         "data": {
          "bar": [
           {
            "error_x": {
             "color": "#2a3f5f"
            },
            "error_y": {
             "color": "#2a3f5f"
            },
            "marker": {
             "line": {
              "color": "white",
              "width": 0.5
             },
             "pattern": {
              "fillmode": "overlay",
              "size": 10,
              "solidity": 0.2
             }
            },
            "type": "bar"
           }
          ],
          "barpolar": [
           {
            "marker": {
             "line": {
              "color": "white",
              "width": 0.5
             },
             "pattern": {
              "fillmode": "overlay",
              "size": 10,
              "solidity": 0.2
             }
            },
            "type": "barpolar"
           }
          ],
          "carpet": [
           {
            "aaxis": {
             "endlinecolor": "#2a3f5f",
             "gridcolor": "#C8D4E3",
             "linecolor": "#C8D4E3",
             "minorgridcolor": "#C8D4E3",
             "startlinecolor": "#2a3f5f"
            },
            "baxis": {
             "endlinecolor": "#2a3f5f",
             "gridcolor": "#C8D4E3",
             "linecolor": "#C8D4E3",
             "minorgridcolor": "#C8D4E3",
             "startlinecolor": "#2a3f5f"
            },
            "type": "carpet"
           }
          ],
          "choropleth": [
           {
            "colorbar": {
             "outlinewidth": 0,
             "ticks": ""
            },
            "type": "choropleth"
           }
          ],
          "contour": [
           {
            "colorbar": {
             "outlinewidth": 0,
             "ticks": ""
            },
            "colorscale": [
             [
              0,
              "#0d0887"
             ],
             [
              0.1111111111111111,
              "#46039f"
             ],
             [
              0.2222222222222222,
              "#7201a8"
             ],
             [
              0.3333333333333333,
              "#9c179e"
             ],
             [
              0.4444444444444444,
              "#bd3786"
             ],
             [
              0.5555555555555556,
              "#d8576b"
             ],
             [
              0.6666666666666666,
              "#ed7953"
             ],
             [
              0.7777777777777778,
              "#fb9f3a"
             ],
             [
              0.8888888888888888,
              "#fdca26"
             ],
             [
              1,
              "#f0f921"
             ]
            ],
            "type": "contour"
           }
          ],
          "contourcarpet": [
           {
            "colorbar": {
             "outlinewidth": 0,
             "ticks": ""
            },
            "type": "contourcarpet"
           }
          ],
          "heatmap": [
           {
            "colorbar": {
             "outlinewidth": 0,
             "ticks": ""
            },
            "colorscale": [
             [
              0,
              "#0d0887"
             ],
             [
              0.1111111111111111,
              "#46039f"
             ],
             [
              0.2222222222222222,
              "#7201a8"
             ],
             [
              0.3333333333333333,
              "#9c179e"
             ],
             [
              0.4444444444444444,
              "#bd3786"
             ],
             [
              0.5555555555555556,
              "#d8576b"
             ],
             [
              0.6666666666666666,
              "#ed7953"
             ],
             [
              0.7777777777777778,
              "#fb9f3a"
             ],
             [
              0.8888888888888888,
              "#fdca26"
             ],
             [
              1,
              "#f0f921"
             ]
            ],
            "type": "heatmap"
           }
          ],
          "histogram": [
           {
            "marker": {
             "pattern": {
              "fillmode": "overlay",
              "size": 10,
              "solidity": 0.2
             }
            },
            "type": "histogram"
           }
          ],
          "histogram2d": [
           {
            "colorbar": {
             "outlinewidth": 0,
             "ticks": ""
            },
            "colorscale": [
             [
              0,
              "#0d0887"
             ],
             [
              0.1111111111111111,
              "#46039f"
             ],
             [
              0.2222222222222222,
              "#7201a8"
             ],
             [
              0.3333333333333333,
              "#9c179e"
             ],
             [
              0.4444444444444444,
              "#bd3786"
             ],
             [
              0.5555555555555556,
              "#d8576b"
             ],
             [
              0.6666666666666666,
              "#ed7953"
             ],
             [
              0.7777777777777778,
              "#fb9f3a"
             ],
             [
              0.8888888888888888,
              "#fdca26"
             ],
             [
              1,
              "#f0f921"
             ]
            ],
            "type": "histogram2d"
           }
          ],
          "histogram2dcontour": [
           {
            "colorbar": {
             "outlinewidth": 0,
             "ticks": ""
            },
            "colorscale": [
             [
              0,
              "#0d0887"
             ],
             [
              0.1111111111111111,
              "#46039f"
             ],
             [
              0.2222222222222222,
              "#7201a8"
             ],
             [
              0.3333333333333333,
              "#9c179e"
             ],
             [
              0.4444444444444444,
              "#bd3786"
             ],
             [
              0.5555555555555556,
              "#d8576b"
             ],
             [
              0.6666666666666666,
              "#ed7953"
             ],
             [
              0.7777777777777778,
              "#fb9f3a"
             ],
             [
              0.8888888888888888,
              "#fdca26"
             ],
             [
              1,
              "#f0f921"
             ]
            ],
            "type": "histogram2dcontour"
           }
          ],
          "mesh3d": [
           {
            "colorbar": {
             "outlinewidth": 0,
             "ticks": ""
            },
            "type": "mesh3d"
           }
          ],
          "parcoords": [
           {
            "line": {
             "colorbar": {
              "outlinewidth": 0,
              "ticks": ""
             }
            },
            "type": "parcoords"
           }
          ],
          "pie": [
           {
            "automargin": true,
            "type": "pie"
           }
          ],
          "scatter": [
           {
            "fillpattern": {
             "fillmode": "overlay",
             "size": 10,
             "solidity": 0.2
            },
            "type": "scatter"
           }
          ],
          "scatter3d": [
           {
            "line": {
             "colorbar": {
              "outlinewidth": 0,
              "ticks": ""
             }
            },
            "marker": {
             "colorbar": {
              "outlinewidth": 0,
              "ticks": ""
             }
            },
            "type": "scatter3d"
           }
          ],
          "scattercarpet": [
           {
            "marker": {
             "colorbar": {
              "outlinewidth": 0,
              "ticks": ""
             }
            },
            "type": "scattercarpet"
           }
          ],
          "scattergeo": [
           {
            "marker": {
             "colorbar": {
              "outlinewidth": 0,
              "ticks": ""
             }
            },
            "type": "scattergeo"
           }
          ],
          "scattergl": [
           {
            "marker": {
             "colorbar": {
              "outlinewidth": 0,
              "ticks": ""
             }
            },
            "type": "scattergl"
           }
          ],
          "scattermap": [
           {
            "marker": {
             "colorbar": {
              "outlinewidth": 0,
              "ticks": ""
             }
            },
            "type": "scattermap"
           }
          ],
          "scattermapbox": [
           {
            "marker": {
             "colorbar": {
              "outlinewidth": 0,
              "ticks": ""
             }
            },
            "type": "scattermapbox"
           }
          ],
          "scatterpolar": [
           {
            "marker": {
             "colorbar": {
              "outlinewidth": 0,
              "ticks": ""
             }
            },
            "type": "scatterpolar"
           }
          ],
          "scatterpolargl": [
           {
            "marker": {
             "colorbar": {
              "outlinewidth": 0,
              "ticks": ""
             }
            },
            "type": "scatterpolargl"
           }
          ],
          "scatterternary": [
           {
            "marker": {
             "colorbar": {
              "outlinewidth": 0,
              "ticks": ""
             }
            },
            "type": "scatterternary"
           }
          ],
          "surface": [
           {
            "colorbar": {
             "outlinewidth": 0,
             "ticks": ""
            },
            "colorscale": [
             [
              0,
              "#0d0887"
             ],
             [
              0.1111111111111111,
              "#46039f"
             ],
             [
              0.2222222222222222,
              "#7201a8"
             ],
             [
              0.3333333333333333,
              "#9c179e"
             ],
             [
              0.4444444444444444,
              "#bd3786"
             ],
             [
              0.5555555555555556,
              "#d8576b"
             ],
             [
              0.6666666666666666,
              "#ed7953"
             ],
             [
              0.7777777777777778,
              "#fb9f3a"
             ],
             [
              0.8888888888888888,
              "#fdca26"
             ],
             [
              1,
              "#f0f921"
             ]
            ],
            "type": "surface"
           }
          ],
          "table": [
           {
            "cells": {
             "fill": {
              "color": "#EBF0F8"
             },
             "line": {
              "color": "white"
             }
            },
            "header": {
             "fill": {
              "color": "#C8D4E3"
             },
             "line": {
              "color": "white"
             }
            },
            "type": "table"
           }
          ]
         },
         "layout": {
          "annotationdefaults": {
           "arrowcolor": "#2a3f5f",
           "arrowhead": 0,
           "arrowwidth": 1
          },
          "autotypenumbers": "strict",
          "coloraxis": {
           "colorbar": {
            "outlinewidth": 0,
            "ticks": ""
           }
          },
          "colorscale": {
           "diverging": [
            [
             0,
             "#8e0152"
            ],
            [
             0.1,
             "#c51b7d"
            ],
            [
             0.2,
             "#de77ae"
            ],
            [
             0.3,
             "#f1b6da"
            ],
            [
             0.4,
             "#fde0ef"
            ],
            [
             0.5,
             "#f7f7f7"
            ],
            [
             0.6,
             "#e6f5d0"
            ],
            [
             0.7,
             "#b8e186"
            ],
            [
             0.8,
             "#7fbc41"
            ],
            [
             0.9,
             "#4d9221"
            ],
            [
             1,
             "#276419"
            ]
           ],
           "sequential": [
            [
             0,
             "#0d0887"
            ],
            [
             0.1111111111111111,
             "#46039f"
            ],
            [
             0.2222222222222222,
             "#7201a8"
            ],
            [
             0.3333333333333333,
             "#9c179e"
            ],
            [
             0.4444444444444444,
             "#bd3786"
            ],
            [
             0.5555555555555556,
             "#d8576b"
            ],
            [
             0.6666666666666666,
             "#ed7953"
            ],
            [
             0.7777777777777778,
             "#fb9f3a"
            ],
            [
             0.8888888888888888,
             "#fdca26"
            ],
            [
             1,
             "#f0f921"
            ]
           ],
           "sequentialminus": [
            [
             0,
             "#0d0887"
            ],
            [
             0.1111111111111111,
             "#46039f"
            ],
            [
             0.2222222222222222,
             "#7201a8"
            ],
            [
             0.3333333333333333,
             "#9c179e"
            ],
            [
             0.4444444444444444,
             "#bd3786"
            ],
            [
             0.5555555555555556,
             "#d8576b"
            ],
            [
             0.6666666666666666,
             "#ed7953"
            ],
            [
             0.7777777777777778,
             "#fb9f3a"
            ],
            [
             0.8888888888888888,
             "#fdca26"
            ],
            [
             1,
             "#f0f921"
            ]
           ]
          },
          "colorway": [
           "#636efa",
           "#EF553B",
           "#00cc96",
           "#ab63fa",
           "#FFA15A",
           "#19d3f3",
           "#FF6692",
           "#B6E880",
           "#FF97FF",
           "#FECB52"
          ],
          "font": {
           "color": "#2a3f5f"
          },
          "geo": {
           "bgcolor": "white",
           "lakecolor": "white",
           "landcolor": "white",
           "showlakes": true,
           "showland": true,
           "subunitcolor": "#C8D4E3"
          },
          "hoverlabel": {
           "align": "left"
          },
          "hovermode": "closest",
          "mapbox": {
           "style": "light"
          },
          "paper_bgcolor": "white",
          "plot_bgcolor": "white",
          "polar": {
           "angularaxis": {
            "gridcolor": "#EBF0F8",
            "linecolor": "#EBF0F8",
            "ticks": ""
           },
           "bgcolor": "white",
           "radialaxis": {
            "gridcolor": "#EBF0F8",
            "linecolor": "#EBF0F8",
            "ticks": ""
           }
          },
          "scene": {
           "xaxis": {
            "backgroundcolor": "white",
            "gridcolor": "#DFE8F3",
            "gridwidth": 2,
            "linecolor": "#EBF0F8",
            "showbackground": true,
            "ticks": "",
            "zerolinecolor": "#EBF0F8"
           },
           "yaxis": {
            "backgroundcolor": "white",
            "gridcolor": "#DFE8F3",
            "gridwidth": 2,
            "linecolor": "#EBF0F8",
            "showbackground": true,
            "ticks": "",
            "zerolinecolor": "#EBF0F8"
           },
           "zaxis": {
            "backgroundcolor": "white",
            "gridcolor": "#DFE8F3",
            "gridwidth": 2,
            "linecolor": "#EBF0F8",
            "showbackground": true,
            "ticks": "",
            "zerolinecolor": "#EBF0F8"
           }
          },
          "shapedefaults": {
           "line": {
            "color": "#2a3f5f"
           }
          },
          "ternary": {
           "aaxis": {
            "gridcolor": "#DFE8F3",
            "linecolor": "#A2B1C6",
            "ticks": ""
           },
           "baxis": {
            "gridcolor": "#DFE8F3",
            "linecolor": "#A2B1C6",
            "ticks": ""
           },
           "bgcolor": "white",
           "caxis": {
            "gridcolor": "#DFE8F3",
            "linecolor": "#A2B1C6",
            "ticks": ""
           }
          },
          "title": {
           "x": 0.05
          },
          "xaxis": {
           "automargin": true,
           "gridcolor": "#EBF0F8",
           "linecolor": "#EBF0F8",
           "ticks": "",
           "title": {
            "standoff": 15
           },
           "zerolinecolor": "#EBF0F8",
           "zerolinewidth": 2
          },
          "yaxis": {
           "automargin": true,
           "gridcolor": "#EBF0F8",
           "linecolor": "#EBF0F8",
           "ticks": "",
           "title": {
            "standoff": 15
           },
           "zerolinecolor": "#EBF0F8",
           "zerolinewidth": 2
          }
         }
        },
        "title": {
         "text": "Bid and Ask Prices Over Time"
        },
        "xaxis": {
         "title": {
          "text": "Timestamp"
         }
        },
        "yaxis": {
         "title": {
          "text": "Price"
         }
        }
       }
      }
     },
     "metadata": {},
     "output_type": "display_data"
    }
   ],
   "source": [
    "fig = go.Figure()\n",
    "fig.add_trace(go.Scatter(x=seconds_bid.index, y=seconds_bid.values, mode='lines', name='Bid Price', line=dict(color='blue')))\n",
    "fig.add_trace(go.Scatter(x=seconds_ask.index, y=seconds_ask.values, mode='lines', name='Ask Price', line=dict(color='red')))\n",
    "fig.update_layout(\n",
    "    title='Bid and Ask Prices Over Time',\n",
    "    xaxis_title='Timestamp',\n",
    "    yaxis_title='Price',\n",
    "    legend_title='Type',\n",
    "    template='plotly_white'\n",
    ")\n",
    "\n",
    "fig.show()"
   ]
  },
  {
   "cell_type": "code",
   "execution_count": 12,
   "metadata": {},
   "outputs": [
    {
     "data": {
      "application/vnd.plotly.v1+json": {
       "config": {
        "plotlyServerURL": "https://plot.ly"
       },
       "data": [
        {
         "line": {
          "color": "blue"
         },
         "mode": "lines",
         "name": "Bid Price",
         "type": "scatter",
         "x": [
          "2024-07-09T17:43:00.000000000",
          "2024-07-09T17:54:00.000000000",
          "2024-07-10T13:28:00.000000000",
          "2024-07-11T16:29:00.000000000",
          "2024-07-12T13:29:00.000000000",
          "2024-07-12T20:30:00.000000000",
          "2024-07-13T17:53:00.000000000",
          "2024-07-14T16:20:00.000000000",
          "2024-07-15T16:38:00.000000000",
          "2024-07-16T01:11:00.000000000",
          "2024-07-16T14:41:00.000000000",
          "2024-07-17T11:52:00.000000000",
          "2024-07-18T16:21:00.000000000",
          "2024-07-19T18:08:00.000000000",
          "2024-07-20T18:41:00.000000000",
          "2024-07-21T16:06:00.000000000",
          "2024-07-22T22:27:00.000000000",
          "2024-07-23T13:09:00.000000000",
          "2024-07-24T12:24:00.000000000",
          "2024-07-25T12:04:00.000000000",
          "2024-07-26T13:38:00.000000000",
          "2024-07-27T01:19:00.000000000",
          "2024-07-29T14:33:00.000000000",
          "2024-07-30T15:02:00.000000000",
          "2024-07-31T13:25:00.000000000",
          "2024-08-01T12:32:00.000000000",
          "2024-08-04T13:31:00.000000000",
          "2024-08-05T14:32:00.000000000",
          "2024-08-06T14:30:00.000000000",
          "2024-08-07T15:37:00.000000000",
          "2024-08-08T13:50:00.000000000",
          "2024-08-08T21:58:00.000000000",
          "2024-08-08T23:22:00.000000000",
          "2024-08-08T23:25:00.000000000",
          "2024-08-08T23:28:00.000000000",
          "2024-08-08T23:31:00.000000000",
          "2024-08-08T23:34:00.000000000",
          "2024-08-08T23:37:00.000000000",
          "2024-08-08T23:40:00.000000000",
          "2024-08-08T23:43:00.000000000",
          "2024-08-08T23:46:00.000000000",
          "2024-08-08T23:49:00.000000000",
          "2024-08-08T23:52:00.000000000",
          "2024-08-08T23:55:00.000000000",
          "2024-08-08T23:58:00.000000000",
          "2024-08-09T00:01:00.000000000",
          "2024-08-09T00:04:00.000000000",
          "2024-08-09T00:07:00.000000000",
          "2024-08-09T00:10:00.000000000",
          "2024-08-09T00:13:00.000000000",
          "2024-08-09T00:16:00.000000000",
          "2024-08-09T00:19:00.000000000",
          "2024-08-09T00:22:00.000000000",
          "2024-08-09T00:24:00.000000000",
          "2024-08-09T01:24:00.000000000",
          "2024-08-09T02:24:00.000000000",
          "2024-08-09T03:24:00.000000000",
          "2024-08-09T04:24:00.000000000",
          "2024-08-09T05:24:00.000000000",
          "2024-08-09T06:24:00.000000000",
          "2024-08-09T07:24:00.000000000",
          "2024-08-09T08:24:00.000000000",
          "2024-08-09T09:24:00.000000000",
          "2024-08-09T10:24:00.000000000",
          "2024-08-09T11:24:00.000000000",
          "2024-08-09T12:24:00.000000000",
          "2024-08-09T13:24:00.000000000",
          "2024-08-09T14:24:00.000000000",
          "2024-08-09T15:24:00.000000000",
          "2024-08-09T16:24:00.000000000",
          "2024-08-09T17:24:00.000000000",
          "2024-08-09T18:24:00.000000000",
          "2024-08-09T19:24:00.000000000",
          "2024-08-09T20:24:00.000000000",
          "2024-08-09T21:24:00.000000000",
          "2024-08-09T22:24:00.000000000",
          "2024-08-09T23:24:00.000000000",
          "2024-08-10T00:24:00.000000000",
          "2024-08-10T01:24:00.000000000",
          "2024-08-10T02:24:00.000000000",
          "2024-08-10T03:24:00.000000000",
          "2024-08-10T04:24:00.000000000",
          "2024-08-10T05:24:00.000000000",
          "2024-08-10T06:24:00.000000000",
          "2024-08-10T07:24:00.000000000",
          "2024-08-10T08:24:00.000000000",
          "2024-08-10T09:24:00.000000000",
          "2024-08-10T10:24:00.000000000",
          "2024-08-10T11:24:00.000000000",
          "2024-08-10T12:24:00.000000000",
          "2024-08-10T13:24:00.000000000",
          "2024-08-10T14:24:00.000000000",
          "2024-08-10T15:24:00.000000000",
          "2024-08-10T16:24:00.000000000",
          "2024-08-10T17:24:00.000000000",
          "2024-08-10T18:24:00.000000000",
          "2024-08-10T19:24:00.000000000",
          "2024-08-10T20:24:00.000000000",
          "2024-08-10T21:24:00.000000000",
          "2024-08-10T22:24:00.000000000",
          "2024-08-10T23:24:00.000000000",
          "2024-08-11T00:24:00.000000000",
          "2024-08-11T01:24:00.000000000",
          "2024-08-11T02:24:00.000000000",
          "2024-08-11T03:24:00.000000000",
          "2024-08-11T04:24:00.000000000",
          "2024-08-11T05:24:00.000000000",
          "2024-08-11T06:24:00.000000000",
          "2024-08-11T07:24:00.000000000",
          "2024-08-11T08:24:00.000000000",
          "2024-08-11T09:24:00.000000000",
          "2024-08-11T10:24:00.000000000",
          "2024-08-11T11:24:00.000000000",
          "2024-08-11T12:24:00.000000000",
          "2024-08-11T13:24:00.000000000",
          "2024-08-11T14:24:00.000000000",
          "2024-08-11T15:24:00.000000000",
          "2024-08-11T16:24:00.000000000",
          "2024-08-11T17:24:00.000000000",
          "2024-08-11T18:24:00.000000000",
          "2024-08-11T19:24:00.000000000",
          "2024-08-11T20:24:00.000000000",
          "2024-08-11T21:24:00.000000000",
          "2024-08-11T22:24:00.000000000",
          "2024-08-11T23:24:00.000000000",
          "2024-08-12T00:24:00.000000000",
          "2024-08-12T01:24:00.000000000",
          "2024-08-12T02:24:00.000000000",
          "2024-08-12T03:24:00.000000000",
          "2024-08-12T04:24:00.000000000",
          "2024-08-12T05:24:00.000000000",
          "2024-08-12T06:24:00.000000000",
          "2024-08-12T07:24:00.000000000",
          "2024-08-12T08:24:00.000000000",
          "2024-08-12T09:24:00.000000000",
          "2024-08-12T10:24:00.000000000",
          "2024-08-12T11:24:00.000000000",
          "2024-08-12T12:24:00.000000000",
          "2024-08-12T13:24:00.000000000",
          "2024-08-12T14:24:00.000000000",
          "2024-08-12T15:24:00.000000000",
          "2024-08-12T16:24:00.000000000",
          "2024-08-12T17:24:00.000000000",
          "2024-08-12T18:24:00.000000000",
          "2024-08-12T19:24:00.000000000",
          "2024-08-12T20:24:00.000000000",
          "2024-08-12T21:24:00.000000000",
          "2024-08-12T22:24:00.000000000",
          "2024-08-12T23:24:00.000000000",
          "2024-08-13T00:24:00.000000000",
          "2024-08-13T01:24:00.000000000",
          "2024-08-13T02:24:00.000000000",
          "2024-08-13T03:24:00.000000000",
          "2024-08-13T04:24:00.000000000",
          "2024-08-13T05:24:00.000000000",
          "2024-08-13T06:24:00.000000000",
          "2024-08-13T07:24:00.000000000",
          "2024-08-13T08:24:00.000000000",
          "2024-08-13T09:24:00.000000000",
          "2024-08-13T10:24:00.000000000",
          "2024-08-13T11:24:00.000000000",
          "2024-08-13T12:24:00.000000000",
          "2024-08-13T13:24:00.000000000",
          "2024-08-13T14:24:00.000000000",
          "2024-08-13T15:24:00.000000000",
          "2024-08-13T16:24:00.000000000",
          "2024-08-13T17:24:00.000000000",
          "2024-08-13T18:24:00.000000000",
          "2024-08-13T19:24:00.000000000",
          "2024-08-13T20:24:00.000000000",
          "2024-08-13T21:24:00.000000000",
          "2024-08-13T22:24:00.000000000",
          "2024-08-13T23:24:00.000000000",
          "2024-08-14T00:24:00.000000000",
          "2024-08-14T01:24:00.000000000",
          "2024-08-14T02:24:00.000000000",
          "2024-08-14T03:24:00.000000000",
          "2024-08-14T04:24:00.000000000",
          "2024-08-14T05:24:00.000000000",
          "2024-08-14T06:24:00.000000000",
          "2024-08-14T07:24:00.000000000",
          "2024-08-14T08:24:00.000000000",
          "2024-08-14T09:24:00.000000000",
          "2024-08-14T10:24:00.000000000",
          "2024-08-14T11:24:00.000000000",
          "2024-08-14T12:24:00.000000000",
          "2024-08-14T13:24:00.000000000",
          "2024-08-14T14:24:00.000000000",
          "2024-08-14T15:24:00.000000000",
          "2024-08-14T16:24:00.000000000",
          "2024-08-14T17:24:00.000000000",
          "2024-08-14T18:24:00.000000000",
          "2024-08-14T19:24:00.000000000",
          "2024-08-14T20:24:00.000000000",
          "2024-08-14T21:24:00.000000000",
          "2024-08-14T22:24:00.000000000",
          "2024-08-14T23:24:00.000000000",
          "2024-08-15T00:24:00.000000000",
          "2024-08-15T01:24:00.000000000",
          "2024-08-15T02:24:00.000000000",
          "2024-08-15T03:24:00.000000000",
          "2024-08-15T04:24:00.000000000",
          "2024-08-15T05:24:00.000000000",
          "2024-08-15T06:24:00.000000000",
          "2024-08-15T07:24:00.000000000",
          "2024-08-15T08:24:00.000000000",
          "2024-08-15T09:24:00.000000000",
          "2024-08-15T10:24:00.000000000",
          "2024-08-15T11:24:00.000000000",
          "2024-08-15T12:24:00.000000000",
          "2024-08-15T13:24:00.000000000",
          "2024-08-15T14:24:00.000000000",
          "2024-08-15T15:24:00.000000000",
          "2024-08-15T16:24:00.000000000",
          "2024-08-15T17:24:00.000000000",
          "2024-08-15T18:24:00.000000000",
          "2024-08-15T19:24:00.000000000",
          "2024-08-15T20:24:00.000000000",
          "2024-08-15T21:24:00.000000000",
          "2024-08-15T22:24:00.000000000",
          "2024-08-15T23:24:00.000000000",
          "2024-08-16T00:24:00.000000000",
          "2024-08-16T01:24:00.000000000",
          "2024-08-16T02:24:00.000000000",
          "2024-08-16T03:24:00.000000000",
          "2024-08-16T04:24:00.000000000",
          "2024-08-16T05:24:00.000000000",
          "2024-08-16T06:24:00.000000000",
          "2024-08-16T07:24:00.000000000",
          "2024-08-16T08:24:00.000000000",
          "2024-08-16T09:24:00.000000000",
          "2024-08-16T10:24:00.000000000",
          "2024-08-16T11:24:00.000000000",
          "2024-08-16T12:24:00.000000000",
          "2024-08-16T13:24:00.000000000",
          "2024-08-16T14:24:00.000000000",
          "2024-08-16T15:24:00.000000000",
          "2024-08-16T16:24:00.000000000",
          "2024-08-16T17:24:00.000000000",
          "2024-08-16T18:24:00.000000000",
          "2024-08-16T19:24:00.000000000",
          "2024-08-16T20:24:00.000000000",
          "2024-08-16T21:24:00.000000000",
          "2024-08-16T22:24:00.000000000",
          "2024-08-16T23:24:00.000000000",
          "2024-08-17T00:24:00.000000000",
          "2024-08-17T01:24:00.000000000",
          "2024-08-17T02:24:00.000000000",
          "2024-08-17T03:24:00.000000000",
          "2024-08-17T04:24:00.000000000",
          "2024-08-17T05:24:00.000000000",
          "2024-08-17T06:24:00.000000000",
          "2024-08-17T07:24:00.000000000",
          "2024-08-17T08:24:00.000000000",
          "2024-08-17T09:24:00.000000000",
          "2024-08-17T10:24:00.000000000",
          "2024-08-17T11:24:00.000000000",
          "2024-08-17T12:24:00.000000000",
          "2024-08-17T13:24:00.000000000",
          "2024-08-17T14:24:00.000000000",
          "2024-08-17T15:24:00.000000000",
          "2024-08-17T16:24:00.000000000",
          "2024-08-17T17:24:00.000000000",
          "2024-08-17T18:24:00.000000000",
          "2024-08-17T19:24:00.000000000",
          "2024-08-17T20:24:00.000000000",
          "2024-08-17T21:24:00.000000000",
          "2024-08-17T22:24:00.000000000",
          "2024-08-17T23:24:00.000000000",
          "2024-08-18T00:24:00.000000000",
          "2024-08-18T01:24:00.000000000",
          "2024-08-18T02:24:00.000000000",
          "2024-08-18T03:24:00.000000000",
          "2024-08-18T04:24:00.000000000",
          "2024-08-18T05:24:00.000000000",
          "2024-08-18T06:24:00.000000000",
          "2024-08-18T07:24:00.000000000",
          "2024-08-18T08:24:00.000000000",
          "2024-08-18T09:24:00.000000000",
          "2024-08-18T10:24:00.000000000",
          "2024-08-18T11:24:00.000000000",
          "2024-08-18T12:24:00.000000000",
          "2024-08-18T13:24:00.000000000",
          "2024-08-18T14:24:00.000000000",
          "2024-08-18T15:24:00.000000000",
          "2024-08-18T16:24:00.000000000",
          "2024-08-18T17:24:00.000000000",
          "2024-08-18T18:24:00.000000000",
          "2024-08-18T19:24:00.000000000",
          "2024-08-18T20:24:00.000000000",
          "2024-08-18T21:24:00.000000000",
          "2024-08-19T13:29:00.000000000",
          "2024-08-19T13:30:00.000000000",
          "2024-08-19T14:29:00.000000000",
          "2024-08-19T15:29:00.000000000",
          "2024-08-19T16:29:00.000000000",
          "2024-08-19T17:29:00.000000000",
          "2024-08-19T18:29:00.000000000",
          "2024-08-19T19:29:00.000000000",
          "2024-08-19T20:29:00.000000000",
          "2024-08-19T21:29:00.000000000",
          "2024-08-19T22:29:00.000000000",
          "2024-08-19T23:29:00.000000000",
          "2024-08-20T00:29:00.000000000",
          "2024-08-20T01:29:00.000000000",
          "2024-08-20T02:29:00.000000000",
          "2024-08-20T03:29:00.000000000",
          "2024-08-20T04:29:00.000000000",
          "2024-08-20T05:29:00.000000000",
          "2024-08-20T06:29:00.000000000",
          "2024-08-20T07:29:00.000000000",
          "2024-08-20T08:29:00.000000000",
          "2024-08-20T09:29:00.000000000",
          "2024-08-20T10:29:00.000000000",
          "2024-08-20T11:29:00.000000000",
          "2024-08-20T12:29:00.000000000",
          "2024-08-20T13:29:00.000000000",
          "2024-08-20T14:29:00.000000000",
          "2024-08-20T15:29:00.000000000",
          "2024-08-20T16:29:00.000000000",
          "2024-08-20T17:29:00.000000000",
          "2024-08-20T18:29:00.000000000",
          "2024-08-20T19:29:00.000000000",
          "2024-08-20T20:29:00.000000000",
          "2024-08-20T21:29:00.000000000",
          "2024-08-20T22:29:00.000000000",
          "2024-08-20T23:29:00.000000000",
          "2024-08-21T00:29:00.000000000",
          "2024-08-21T01:29:00.000000000",
          "2024-08-21T02:29:00.000000000",
          "2024-08-21T03:29:00.000000000",
          "2024-08-21T04:29:00.000000000",
          "2024-08-21T05:29:00.000000000",
          "2024-08-21T06:29:00.000000000",
          "2024-08-21T07:29:00.000000000",
          "2024-08-21T08:29:00.000000000",
          "2024-08-21T09:29:00.000000000",
          "2024-08-21T10:29:00.000000000",
          "2024-08-21T11:29:00.000000000",
          "2024-08-21T12:29:00.000000000",
          "2024-08-21T13:29:00.000000000",
          "2024-08-21T14:29:00.000000000",
          "2024-08-21T15:29:00.000000000",
          "2024-08-21T16:29:00.000000000",
          "2024-08-21T17:29:00.000000000",
          "2024-08-21T18:29:00.000000000",
          "2024-08-21T19:29:00.000000000",
          "2024-08-21T20:29:00.000000000",
          "2024-08-21T21:30:00.000000000",
          "2024-08-21T22:29:00.000000000",
          "2024-08-21T23:29:00.000000000",
          "2024-08-22T00:30:00.000000000",
          "2024-08-22T01:29:00.000000000",
          "2024-08-22T02:29:00.000000000",
          "2024-08-22T03:29:00.000000000",
          "2024-08-22T04:29:00.000000000",
          "2024-08-22T05:29:00.000000000",
          "2024-08-22T06:30:00.000000000",
          "2024-08-22T07:29:00.000000000",
          "2024-08-22T08:29:00.000000000",
          "2024-08-22T09:29:00.000000000",
          "2024-08-22T10:29:00.000000000",
          "2024-08-22T11:29:00.000000000",
          "2024-08-22T12:29:00.000000000",
          "2024-08-22T13:29:00.000000000",
          "2024-08-22T14:29:00.000000000",
          "2024-08-22T15:29:00.000000000",
          "2024-08-22T16:29:00.000000000",
          "2024-08-22T17:29:00.000000000",
          "2024-08-22T18:29:00.000000000",
          "2024-08-22T19:29:00.000000000",
          "2024-08-22T20:29:00.000000000",
          "2024-08-22T21:29:00.000000000",
          "2024-08-22T22:29:00.000000000",
          "2024-08-22T23:29:00.000000000",
          "2024-08-23T00:29:00.000000000",
          "2024-08-23T01:21:00.000000000",
          "2024-08-23T01:24:00.000000000",
          "2024-08-23T01:30:00.000000000",
          "2024-08-23T02:30:00.000000000",
          "2024-08-23T03:30:00.000000000",
          "2024-08-23T04:30:00.000000000",
          "2024-08-23T05:30:00.000000000",
          "2024-08-23T06:30:00.000000000",
          "2024-08-23T07:30:00.000000000",
          "2024-08-23T08:30:00.000000000",
          "2024-08-23T09:30:00.000000000",
          "2024-08-23T10:30:00.000000000",
          "2024-08-23T11:30:00.000000000",
          "2024-08-23T12:30:00.000000000",
          "2024-08-23T13:30:00.000000000",
          "2024-08-23T14:30:00.000000000",
          "2024-08-23T15:30:00.000000000",
          "2024-08-23T16:18:00.000000000",
          "2024-08-23T16:19:00.000000000",
          "2024-08-23T16:21:00.000000000",
          "2024-08-23T16:30:00.000000000",
          "2024-08-23T17:30:00.000000000",
          "2024-08-23T18:30:00.000000000",
          "2024-08-23T19:30:00.000000000",
          "2024-08-23T20:30:00.000000000",
          "2024-08-23T21:30:00.000000000",
          "2024-08-23T22:30:00.000000000",
          "2024-08-23T23:30:00.000000000",
          "2024-08-24T00:30:00.000000000",
          "2024-08-24T01:30:00.000000000",
          "2024-08-24T02:30:00.000000000",
          "2024-08-24T03:30:00.000000000",
          "2024-08-24T04:30:00.000000000",
          "2024-08-24T05:30:00.000000000",
          "2024-08-24T06:30:00.000000000",
          "2024-08-24T07:30:00.000000000",
          "2024-08-24T08:30:00.000000000",
          "2024-08-24T09:30:00.000000000",
          "2024-08-24T10:30:00.000000000",
          "2024-08-24T11:30:00.000000000",
          "2024-08-24T12:30:00.000000000",
          "2024-08-24T13:30:00.000000000",
          "2024-08-24T14:30:00.000000000",
          "2024-08-24T15:30:00.000000000",
          "2024-08-24T16:30:00.000000000",
          "2024-08-24T17:30:00.000000000",
          "2024-08-24T18:30:00.000000000",
          "2024-08-24T19:30:00.000000000",
          "2024-08-24T20:30:00.000000000",
          "2024-08-24T21:30:00.000000000",
          "2024-08-24T22:30:00.000000000",
          "2024-08-24T23:30:00.000000000",
          "2024-08-25T00:30:00.000000000",
          "2024-08-25T01:30:00.000000000",
          "2024-08-25T02:30:00.000000000",
          "2024-08-25T03:30:00.000000000",
          "2024-08-25T04:30:00.000000000",
          "2024-08-25T05:30:00.000000000",
          "2024-08-25T06:30:00.000000000",
          "2024-08-25T07:30:00.000000000",
          "2024-08-25T08:30:00.000000000",
          "2024-08-25T09:30:00.000000000",
          "2024-08-25T10:30:00.000000000",
          "2024-08-25T11:30:00.000000000",
          "2024-08-25T12:30:00.000000000",
          "2024-08-25T13:30:00.000000000",
          "2024-08-25T14:30:00.000000000",
          "2024-08-25T15:30:00.000000000",
          "2024-08-25T16:30:00.000000000",
          "2024-08-25T17:30:00.000000000",
          "2024-08-25T18:30:00.000000000",
          "2024-08-25T19:30:00.000000000",
          "2024-08-25T20:30:00.000000000",
          "2024-08-25T21:30:00.000000000",
          "2024-08-25T22:30:00.000000000",
          "2024-08-25T23:30:00.000000000",
          "2024-08-26T00:30:00.000000000",
          "2024-08-26T01:30:00.000000000",
          "2024-08-26T02:30:00.000000000",
          "2024-08-26T03:30:00.000000000",
          "2024-08-26T04:30:00.000000000",
          "2024-08-26T05:30:00.000000000",
          "2024-08-26T06:30:00.000000000",
          "2024-08-26T07:30:00.000000000",
          "2024-08-26T08:30:00.000000000",
          "2024-08-26T09:30:00.000000000",
          "2024-08-26T10:30:00.000000000",
          "2024-08-26T11:30:00.000000000",
          "2024-08-26T12:30:00.000000000",
          "2024-08-26T13:30:00.000000000",
          "2024-08-26T14:30:00.000000000",
          "2024-08-26T15:30:00.000000000",
          "2024-08-26T16:30:00.000000000",
          "2024-08-26T17:30:00.000000000",
          "2024-08-26T18:30:00.000000000",
          "2024-08-26T19:30:00.000000000",
          "2024-08-26T20:30:00.000000000",
          "2024-08-26T21:30:00.000000000",
          "2024-08-26T22:30:00.000000000",
          "2024-08-26T23:30:00.000000000",
          "2024-08-27T00:30:00.000000000",
          "2024-08-27T01:30:00.000000000",
          "2024-08-27T02:30:00.000000000",
          "2024-08-27T03:30:00.000000000",
          "2024-08-27T04:30:00.000000000",
          "2024-08-27T05:30:00.000000000",
          "2024-08-27T06:30:00.000000000",
          "2024-08-27T07:30:00.000000000",
          "2024-08-27T08:30:00.000000000",
          "2024-08-27T09:30:00.000000000",
          "2024-08-27T10:30:00.000000000",
          "2024-08-27T11:30:00.000000000",
          "2024-08-27T12:30:00.000000000",
          "2024-08-27T13:30:00.000000000",
          "2024-08-27T14:30:00.000000000",
          "2024-08-27T15:30:00.000000000",
          "2024-08-27T16:30:00.000000000",
          "2024-08-27T17:30:00.000000000",
          "2024-08-27T18:30:00.000000000",
          "2024-08-27T19:30:00.000000000",
          "2024-08-27T20:30:00.000000000",
          "2024-08-27T21:30:00.000000000",
          "2024-08-27T22:30:00.000000000",
          "2024-08-27T23:30:00.000000000",
          "2024-08-28T00:30:00.000000000",
          "2024-08-28T01:30:00.000000000",
          "2024-08-28T02:30:00.000000000",
          "2024-08-28T03:30:00.000000000",
          "2024-08-28T04:30:00.000000000",
          "2024-08-28T05:30:00.000000000",
          "2024-08-28T06:30:00.000000000",
          "2024-08-28T07:30:00.000000000",
          "2024-08-28T08:30:00.000000000",
          "2024-08-28T09:30:00.000000000",
          "2024-08-28T10:30:00.000000000",
          "2024-08-28T11:30:00.000000000",
          "2024-08-28T12:30:00.000000000",
          "2024-08-28T13:30:00.000000000",
          "2024-08-28T14:30:00.000000000",
          "2024-08-28T15:30:00.000000000",
          "2024-08-28T16:30:00.000000000",
          "2024-08-28T17:30:00.000000000",
          "2024-08-28T18:30:00.000000000",
          "2024-08-28T19:30:00.000000000",
          "2024-08-28T20:30:00.000000000",
          "2024-08-28T21:30:00.000000000",
          "2024-08-28T22:30:00.000000000",
          "2024-08-28T23:30:00.000000000",
          "2024-08-29T00:30:00.000000000",
          "2024-08-29T01:30:00.000000000",
          "2024-08-29T02:30:00.000000000",
          "2024-08-29T03:30:00.000000000",
          "2024-08-29T04:30:00.000000000",
          "2024-08-29T05:30:00.000000000",
          "2024-08-29T06:30:00.000000000",
          "2024-08-29T07:30:00.000000000",
          "2024-08-29T08:30:00.000000000",
          "2024-08-29T09:30:00.000000000",
          "2024-08-29T10:30:00.000000000",
          "2024-08-29T11:30:00.000000000",
          "2024-08-29T12:30:00.000000000",
          "2024-08-29T13:30:00.000000000",
          "2024-08-29T14:30:00.000000000",
          "2024-08-29T15:30:00.000000000",
          "2024-08-29T16:30:00.000000000",
          "2024-08-29T17:30:00.000000000",
          "2024-08-29T18:30:00.000000000",
          "2024-08-29T19:30:00.000000000",
          "2024-08-29T20:30:00.000000000",
          "2024-08-29T21:30:00.000000000",
          "2024-08-29T22:30:00.000000000",
          "2024-08-29T23:30:00.000000000",
          "2024-08-30T00:30:00.000000000",
          "2024-08-30T01:30:00.000000000",
          "2024-08-30T02:30:00.000000000",
          "2024-08-30T03:30:00.000000000",
          "2024-08-30T04:30:00.000000000",
          "2024-08-30T05:30:00.000000000",
          "2024-08-30T06:30:00.000000000",
          "2024-08-30T07:30:00.000000000",
          "2024-08-30T08:30:00.000000000",
          "2024-08-30T09:30:00.000000000",
          "2024-08-30T10:30:00.000000000",
          "2024-08-30T11:30:00.000000000",
          "2024-08-30T12:30:00.000000000",
          "2024-08-30T13:30:00.000000000",
          "2024-08-30T14:30:00.000000000",
          "2024-08-30T15:30:00.000000000",
          "2024-08-30T16:30:00.000000000",
          "2024-08-30T17:30:00.000000000",
          "2024-08-30T18:30:00.000000000",
          "2024-08-30T19:30:00.000000000",
          "2024-08-30T20:30:00.000000000",
          "2024-08-30T21:30:00.000000000",
          "2024-08-30T22:30:00.000000000",
          "2024-08-30T23:30:00.000000000",
          "2024-08-31T00:30:00.000000000",
          "2024-08-31T01:30:00.000000000",
          "2024-08-31T02:30:00.000000000",
          "2024-08-31T03:30:00.000000000",
          "2024-08-31T04:30:00.000000000",
          "2024-08-31T05:30:00.000000000",
          "2024-08-31T06:30:00.000000000",
          "2024-08-31T07:30:00.000000000",
          "2024-08-31T08:30:00.000000000",
          "2024-08-31T09:30:00.000000000",
          "2024-08-31T10:30:00.000000000",
          "2024-08-31T11:30:00.000000000",
          "2024-08-31T12:30:00.000000000",
          "2024-08-31T13:30:00.000000000",
          "2024-08-31T14:30:00.000000000",
          "2024-08-31T15:30:00.000000000",
          "2024-08-31T16:30:00.000000000",
          "2024-08-31T17:30:00.000000000",
          "2024-08-31T18:30:00.000000000",
          "2024-08-31T19:30:00.000000000",
          "2024-08-31T20:30:00.000000000",
          "2024-08-31T21:30:00.000000000",
          "2024-08-31T22:30:00.000000000",
          "2024-08-31T23:30:00.000000000",
          "2024-09-01T00:30:00.000000000",
          "2024-09-01T01:30:00.000000000",
          "2024-09-01T02:30:00.000000000",
          "2024-09-01T03:30:00.000000000",
          "2024-09-01T04:30:00.000000000",
          "2024-09-01T05:30:00.000000000",
          "2024-09-01T06:30:00.000000000",
          "2024-09-01T07:30:00.000000000",
          "2024-09-01T08:30:00.000000000",
          "2024-09-01T09:30:00.000000000",
          "2024-09-01T10:30:00.000000000",
          "2024-09-01T11:30:00.000000000",
          "2024-09-01T12:30:00.000000000",
          "2024-09-01T13:30:00.000000000",
          "2024-09-01T14:30:00.000000000",
          "2024-09-01T15:30:00.000000000",
          "2024-09-01T16:30:00.000000000",
          "2024-09-01T17:30:00.000000000",
          "2024-09-01T18:30:00.000000000",
          "2024-09-01T19:30:00.000000000",
          "2024-09-01T20:30:00.000000000",
          "2024-09-01T21:30:00.000000000",
          "2024-09-01T22:30:00.000000000",
          "2024-09-01T23:30:00.000000000",
          "2024-09-02T00:30:00.000000000",
          "2024-09-02T01:30:00.000000000",
          "2024-09-02T02:30:00.000000000",
          "2024-09-02T03:30:00.000000000",
          "2024-09-02T04:30:00.000000000",
          "2024-09-02T05:30:00.000000000",
          "2024-09-02T06:30:00.000000000",
          "2024-09-02T07:30:00.000000000",
          "2024-09-02T08:30:00.000000000",
          "2024-09-02T09:30:00.000000000",
          "2024-09-02T10:30:00.000000000",
          "2024-09-02T11:30:00.000000000",
          "2024-09-02T12:30:00.000000000",
          "2024-09-02T13:30:00.000000000"
         ],
         "y": {
          "bdata": "7Z48LNSaIUBPQBNhw5MhQKSWIkgHYCFAetOb3vRmIUBrDFFUC5QhQPiiB5y/ECJAokW28/2EIUBCgyE0GKIhQLQ927M9WyFAERoMocGQIUDKwogbe6chQHpD0a12hCFAkxgEVg6tIUBMX3jAr/8hQKwChm12yiFAuB6F61HoIUCmeccpOhIiQHoPDG846CFAPZdA1jA6IkCXyfwvY5YiQDndAxyL8CJA+FPjpZsEI0CCThvotAEjQMELq5/pSCNATUzfxPSNJEBc1UXgqIolQDchexOytyRABFYOLbJdJUDKkOBr2VUkQHxuiVO/pyNAHF57T5EuJED1KlSvQvUiQC1vjGCi/yJAWDm0yHbOIkB1kxgEVs4iQHWTGARWziJAdZMYBFbOIkDnYnQuRuciQFg5tMh2ziJAWDm0yHbOIkCsHFpkO88iQDMzMzMz4yJA5iybf8a0IkBnZG5G5uYiQDEIrBxa5CJATmIQWDnkIkAor6G8hrIiQCivobyGsiJAeHEeOoaXIkDk27jLcrEiQHhxHjqGlyJAYwF3+iOWIkCVhD5ksq8iQOg3Lu0TmCJAOm2g0wa6IUALvdALvdAhQM3ewuwtTCFAto1V21g1IUDhwTxR/wYhQAtgMBtn7CBAKg0599kFIUBr15ivG90gQJUdpi63vyBA1do15uvGIECel+N5OR4hQMhQ2WHqkiFAWYEw0o6VIUCe53me5/khQAccJEc0jSFAjpduEoOQIUD4iq/4iq8hQGKOTC9b2SFAflCaqNTxIUCxg83bByUiQH4G5mdg/iFAWot5UXdMIkBiEW3y4h0iQOJZ0UjANyJAWeCVBV4ZIkDsUbgeheshQLKd76fG2yFAVVVVVVWVIUASHRjRgREhQNFeQnsJ7SBA3B9kqOwwIUDcH2So7DAhQI/C9ShcDyFAj7xCt5V4IUA3iUFg5ZAhQB+F61G4ziFANfGsaCTgIUDGSzeJQUAiQLKd76fGOyJAEG9X3TskIkCnDXTaQCciQL6fGi/dRCJA6pqu6ZouIkAeiduRuB0iQAwCK4cWCSJAL90kBoEFIkBlh6nL7c8hQC7tExh97CFAdafaDUG0IUBnnTK5VdEhQATRnWo3hCFAZoFXFnhlIUDm/FnOn2UhQOUFVV5QZSFA5RdLfrFkIUCKZJxIxokhQHompGdCeiFAj8L1KFxfIUDOATVom84hQPqQyb46KSJAllhEm7x4IkACLbGINnkiQP31u06uWiJAX5RBJfN8IkD5G5C/AXkiQDcLTWo+gCJA7+XzXj6PIkAPeXwZUKAiQL+fGi/dpCJApsGpXuCuIkBA7jUXkqYiQPGfmCPTiyJAokW28/1kIkD7FqRvQXoiQCPtWIEwUiJA2kYAS2U6IkDwiSO9VvAhQBAyVHaYGiJAVjFpFZPWIUAUrkfherwhQBSuR+F6vCFAM+jN+GE2IkDlEzRq/wUiQJ7vp8ZLVyJAFggj7VgBIkA3JWtTsjYiQHsUrkfh+iFA8RiP8RgPIkCpMoZFLcQhQJ4c/QSD4yFAiOF5GJ4HIkCTtC1J2xIiQA7qoA7qICJAbef7qfFSIkAk0tinuWEiQKl1Qg/cqCJAZOy1y490IkAYS36x5H8iQAWJw2vvKSJANl66SQwSIkA7ViCMtOMhQOi0gU4b6CFAq6qqqqrqIUCrqqqqquohQHozfphtBCJAgNb2gjcbIkC7RfXteGgiQDS1VwUMmyJAVP15kol1IkC28kqYg3wiQPYoXI/CdSJA/ch8PPYyIkCiph9q+kEiQDEIrBxa9CFAqm/HQwkhIkCrC/UZITciQD/NDd81eSJAKJlYhzBtIkDZa5cf6X4iQEquzovLoiJAJ5Ro4BaBIkCl4uzDZ1giQJb8YskvFiJAK7S5lX8PIkDuDzJUdvghQO4PMlR2+CFA7g8yVHb4IUCm0pBzn90hQGYjVddg3yFAK2lUW64SIkA730+Nlz4iQFO1KlWrUiJAlrCb30LAIkC1gU4b6MQiQK1p3nGKziJAxC194QG/IkBWibzvItYiQJkEmqfuuiJAzppnNAHOIkA/Qisp47kiQLYV+8vuySJA5gTLyIOoIkBaZDvfT80iQLbKhiOmvSJARhlUMs+fIkDsCpB7zYUiQH1lGpzqhSJAQ4ts5/tJIkDR3JlqdjMiQFTF4x2kOyJAVMXjHaQ7IkBUxeMdpDsiQFTF4x2kOyJA2tzKvwc0IkCAAP4H4H8iQMwT9W+EsiJAeGWBVxZ4IkAutANpkqAiQHIHKHeAciJAcgcod4ByIkAvK6Hqz5MiQOiKOD8OoCJAhNW0jjenIkC7mDWGKKoiQJ3bcBZPsyJA05ve9Ka3IkDGkl8s+cUiQKnvbNR3tiJA8O/v7+/vIkD2KFyPwsUiQJGKHAs7tyJA22aMS6SWIkCd++wCYpMiQMl8PPYyriJAeM7vqxqwIkDoeZ7neZ4iQHe/tNNdsiJAjczNyNyMIkCNzM3I3IwiQLkDlDtAuSJAdor3LKWzIkBdpV8fELoiQMcIJvo72SJAvU0szDfNIkBM1dtJW6siQCmjt2WtjiJAq6qqqqrCIkDJxDqEaa0iQCGJNPZpriJAbxKDwMqhIkBlnj+Eh74iQDCW/GLJzyJA5kyzGYDmIkADcf/cwxwjQMHpwngCVSNAuR6F61H4IkAhsHJoke0iQFrFpFVM2iJANvqyEqr+IkCfYVeA3OsiQMmco91K6yJAY9IqJq3iIkDQXBqRihwjQO/u7u7uHiNAY31orA8NI0A2lYac++wiQNY07zhFByNA+8vuycMCI0BseHqlLAMjQAE0Z5rNACNAeL9FUzUcI0AcuZEbuREjQC8/0v2FzyJA1LI0LUtTIkCwbylmYX0iQPDKAq8skCJAo1yZlDB8IkCvChi22akiQFSkqyBxeCJAKg0599kFIkAU9W+EMrohQCEhISEhISJAhetRuB4FIkBR6oMdtxAiQCRV12BfLiJAEhISEhISIkDAN68mnjUiQLWBThvoNCJATWo+gJ1xIkC8ZEOHGIMiQCyTEob/dSJAjZuFJjVfIkCXN0Yw0V8iQIcJyGiYgCJAi2MqegVzIkAEWmIRbXIiQGGeqH8jlCJAwvUoXI8CJkDC9ShcjwImQAAAAAAAACZA9ihcj8L1JUApXI/C9eglQHh3d3d39yVAmpmZmZn5JUA+CtejcP0mQIXrUbgeBSdAhetRuB6FJkCbxCCwcmgmQBhLfrHkVyZA61G4HoVrJkAYS36x5FcmQPyp8dJNYiZAkML1KFxPJkDGSzeJQWAmQFyPwvUoXCZAXI/C9ShcJkBcj8L1KFwmQAc6baDTRiZAXI/C9ShcJkC4HoXrUXgmQLgehetReCZATDeJQWBlJkDC9Shcj4ImQLbz/dR4aSZA61G4HoVrJkDrUbgehWsmQBhLfrHkVyZAG+i0gU5bJkBWDi2ynW8mQKabxCCwciZAi2zn+6lxJkCLbOf7qXEmQN3d3d3dXSZA3d3d3d1dJkDd3d3d3V0mQN3d3d3dXSZABoGVQ4tsJkDRItv5fmomQEw3iUFgZSZATDeJQWBlJkD8qfHSTWImQFO4HoXrUSZA/Knx0k1iJkAfhetRuH4mQEw3iUFgZSZALPnFkl+sJkB/seQXS/4lQLgehetR+CVAAAAAAAAAJkAaL90kBgEmQPYoXI/C9SVA9ihcj8L1JUB7FK5H4folQLgehetR+CVArkfhehQOJkAAAAAAAAAmQML1KFyPgiZAAAAAAAAAJkD1KFyPwvUlQJqZmZmZ+SVAcT0K16PwJUBxPQrXo/AlQHE9Ctej8CVAcT0K16PwJUBxPQrXo/AlQHE9Ctej8CVA7FG4HoXrJUBxPQrXo/AlQDQzMzMz8yVArkfhehTuJUDsUbgeheslQOxRuB6F6yVAcT0K16PwJUD2KFyPwvUlQPnFkl8s+SVA+cWSXyz5JUA+CtejcP0lQBSuR+F69CVAcD0K16PwJUCbxCCwcuglQJqZmZmZ2SVACtejcD3KJUB+M/AhpC0iQPNA5gfvLSJAwh9ya5wKIkBPCfKUIE8iQKXnNy7tUyJAYQu2YAtGIkD8gwyVHUYiQNop3rOUTiJAwxja55lTIkBbhJrHclMiQHxR5dayWCJAKRt9WQlVIkDm9gcZKlsiQDfMUu/qVyJAkiOaRoefIkCYs2z+GZMiQL10kxgEjiJAmJLQh0yWIkBXY1Hsg6AiQGZmZmZmjiJA43iXaS6HIkA6GJ+D8bkjQM3MzMzMzCNAz4pGAr6ZI0DKoUW2870jQMxy8cDunyNAIPzldc6OI0A3IXsTsrcjQFyPwvUorCNAyXa+nxqvI0BvV907JKojQDvVbgiieyNAro4JHsxTI0BMXW5/kCEjQExdbn+QISNAlecSyBpGI0CV5xLIGkYjQHeCOJmkWiNAlecSyBpGI0BcBjZL/3kjQIBazWKXwSNAgk4b6LSBI0DglOcSyJojQPnXiH+N2CNAryzwygLPI0CtaCTgm9cjQC7V2VKdzSNAlsF/Yo7MI0CI+ePbuIsjQL3/LiNmlSNAyXa+nxqfI0D5I9krV4wjQMP1KFyPgiNAIIy0YwWCI0Bre8GbTZAjQJm63P4ggyNAeAKV8o02I0Aepi63P0gjQATYGTcLzSJABNgZNwvNIkB56SYxCKwiQNbgOQJF2yJArfpcbcX+IkAadgXIvWYjQP1kWgCDWSNABJ020GmDI0DU60i9jlQjQLvc/iBDZSNAYRyddcpkI0AoTVTqOKsjQAtNaj6AnSNAFK1L0bqUI0CF61G4HoUjQM+D1gG3iSNAonYlaleiI0Aj5LYAD7sjQHunoGb52CNAi238tNjGI0AncAIncMIjQDQEEM2dqSNADLO3MHuLI0Cpt4x6y6gjQOpri4MFZSNAc9cS8kFPI0Bz1xLyQU8jQBaUdHz6WiNAw3gClfKNI0A8LsPjMrwjQMztDzJUtiNAEgu40x+xI0B7yUgNEH4jQGMtDORoiSNAGLzZBBWbI0BJ9soVw5cjQML1KFyPoiNACtanYH2KI0Cw6nCIb5EjQFc7gvDUmyNAvO2p4vGOI0DTJ33SJ30jQAXEptKQcyNABcSm0pBzI0A18axoJIAjQKRwPQrXXyNA6Yh9x2ZbI0DpiH3HZlsjQDLAnGXzTyNAnTbQaQMtI0BsCfmgZzMjQGwJ+aBnMyNAUUmdgCZCI0By7rMLiG0jQAxEvkDkiyNAjcPQOAyNI0BQB3VQB3UjQBx3WS4emCNA0UUXXXTRI0Dzxggm+rsjQDzsYPP2wSNAb3PsNsfOI0BKJtYhTOsjQHQYs+/dCiRAknasQBipI0BdPLD7l5IjQEXtStSuxCNARexOxO7EI0ClIec+u4AjQOF6FK5HYSNAtrwxgokeI0CTAeYsmz8jQJMB5iybPyNABiUdn742I0C4HoXrURgjQLgehetRGCNAWfKLJb8YI0AUrkfheqAjQIXrUbgexSNAvp8aL93EI0BqwMh309gjQLICYaQdqyNAuZRLuZTLI0BkDaP9prwjQDDFH8leuSNAcvQTDI6tI0CLWoj545sjQGNM3DT1kiNAmU40X8icI0DCFmzBFowjQPTQMbw4jyNAlD7pkz6JI0DcVfcOiaojQAAAAAAAgCNAFK5H4Xp4I0ADryzwyoIjQEuC04XxhCNAS4LThfGEI0BLgtOF8YQjQEuC04XxhCNAKIF/EvinI0CuR+F6FLIjQC+D3owf5iNAHVpkO9/PI0BK2J6E7ckjQOtRuB6F6yNAjr1TULP8I0AK16NwPdojQAz/61uK2SNA1AY6baDTI0CUPumTPukjQPYoXI/C9SNAhAZDaDDkI0CZ4ME8Uf8jQMeJZJxI5iNAc2R62crgI0Cd31c1YOQjQFYdDvEtoiNAZmZmZmZ2I0ARTPR3snojQKrx0k1ikCNAWcNovylPI0BZw2i/KU8jQGg6Yt+xWSNANpWGnPtsI0ByC6U+2LEjQPcHGSo7jCNATJMB5iybI0AUOIETOMEjQLhZaFLzwSNAUDA4tpaeI0AyORuTs7EjQGviWdFIoCNAhUmYhEmYI0D/pST0IZMjQPUUuBkcziNA27M927O9I0BeQ3kN5bUjQKNwPQrXoyNAvQzNy9C8I0AREREREZEjQOwfU4a5rCNAzczMzMyMI0BSuB6F66UjQGbd2bs8hCNA7Xw/NV46I0B24JwRpT0jQHlYqDXNOyNA5z67gNh0I0BSuB6F63EjQH2j7WPRcyNAAAAAAABoI0AraVRbrpIjQECtZrHLoCNAAAAAAACwI0CF61G4HoUjQI7WaI3WqCNA9Gb8MNuII0CnXjJSA4QjQFK4HoXrkSNAcMYPs42AI0AHaZAGaZAjQGXsiIRxdCNAgk4b6LSBI0CwtXkg84MjQNU12JcrgSNADQIrhxZZI0BMc/DC6mcjQKHWNO84RSNAodY07zhFI0BjmgwwZ1kjQJjbH2SobCNADfUiqR18I0CkKRVnH34jQI0M1shgjSNAnqyWN0awI0BvV907JKojQKtUrUrVqiNA6o9YwJ1+I0DbC95sgoojQBERERERcSNA6w1Ft9qRI0BwEXXtXn0jQNejcD0KdyNA3yLq2r16I0BUbyi61Y4jQHpnwEFyhCNAw/UoXI+CI0Dfxl2Wi0cjQIXrUbgeQSNAF2zBFmxBI0BR7+MtzUEjQN7onv8KQSNAU4wa/jZFI0BTjBr+NkUjQE9WyxsjWCNA8oslv1hyI0BmZmZmZoYjQOm0gU4baCNA397e3t6eI0A=",
          "dtype": "f8"
         }
        },
        {
         "line": {
          "color": "red"
         },
         "mode": "lines",
         "name": "Ask Price",
         "type": "scatter",
         "x": [
          "2024-07-09T17:43:00.000000000",
          "2024-07-09T17:54:00.000000000",
          "2024-07-10T13:28:00.000000000",
          "2024-07-11T16:29:00.000000000",
          "2024-07-12T13:29:00.000000000",
          "2024-07-12T20:30:00.000000000",
          "2024-07-13T17:53:00.000000000",
          "2024-07-14T16:20:00.000000000",
          "2024-07-15T16:38:00.000000000",
          "2024-07-16T01:11:00.000000000",
          "2024-07-16T14:41:00.000000000",
          "2024-07-17T11:52:00.000000000",
          "2024-07-18T16:21:00.000000000",
          "2024-07-19T18:08:00.000000000",
          "2024-07-20T18:41:00.000000000",
          "2024-07-21T16:06:00.000000000",
          "2024-07-22T22:27:00.000000000",
          "2024-07-23T13:09:00.000000000",
          "2024-07-24T12:24:00.000000000",
          "2024-07-25T12:04:00.000000000",
          "2024-07-26T13:38:00.000000000",
          "2024-07-27T01:19:00.000000000",
          "2024-07-29T14:33:00.000000000",
          "2024-07-30T15:02:00.000000000",
          "2024-07-31T13:25:00.000000000",
          "2024-08-01T12:32:00.000000000",
          "2024-08-04T13:31:00.000000000",
          "2024-08-05T14:32:00.000000000",
          "2024-08-06T14:30:00.000000000",
          "2024-08-07T15:37:00.000000000",
          "2024-08-08T13:50:00.000000000",
          "2024-08-08T21:58:00.000000000",
          "2024-08-08T23:22:00.000000000",
          "2024-08-08T23:25:00.000000000",
          "2024-08-08T23:28:00.000000000",
          "2024-08-08T23:31:00.000000000",
          "2024-08-08T23:34:00.000000000",
          "2024-08-08T23:37:00.000000000",
          "2024-08-08T23:40:00.000000000",
          "2024-08-08T23:43:00.000000000",
          "2024-08-08T23:46:00.000000000",
          "2024-08-08T23:49:00.000000000",
          "2024-08-08T23:52:00.000000000",
          "2024-08-08T23:55:00.000000000",
          "2024-08-08T23:58:00.000000000",
          "2024-08-09T00:01:00.000000000",
          "2024-08-09T00:04:00.000000000",
          "2024-08-09T00:07:00.000000000",
          "2024-08-09T00:10:00.000000000",
          "2024-08-09T00:13:00.000000000",
          "2024-08-09T00:16:00.000000000",
          "2024-08-09T00:19:00.000000000",
          "2024-08-09T00:22:00.000000000",
          "2024-08-09T00:24:00.000000000",
          "2024-08-09T01:24:00.000000000",
          "2024-08-09T02:24:00.000000000",
          "2024-08-09T03:24:00.000000000",
          "2024-08-09T04:24:00.000000000",
          "2024-08-09T05:24:00.000000000",
          "2024-08-09T06:24:00.000000000",
          "2024-08-09T07:24:00.000000000",
          "2024-08-09T08:24:00.000000000",
          "2024-08-09T09:24:00.000000000",
          "2024-08-09T10:24:00.000000000",
          "2024-08-09T11:24:00.000000000",
          "2024-08-09T12:24:00.000000000",
          "2024-08-09T13:24:00.000000000",
          "2024-08-09T14:24:00.000000000",
          "2024-08-09T15:24:00.000000000",
          "2024-08-09T16:24:00.000000000",
          "2024-08-09T17:24:00.000000000",
          "2024-08-09T18:24:00.000000000",
          "2024-08-09T19:24:00.000000000",
          "2024-08-09T20:24:00.000000000",
          "2024-08-09T21:24:00.000000000",
          "2024-08-09T22:24:00.000000000",
          "2024-08-09T23:24:00.000000000",
          "2024-08-10T00:24:00.000000000",
          "2024-08-10T01:24:00.000000000",
          "2024-08-10T02:24:00.000000000",
          "2024-08-10T03:24:00.000000000",
          "2024-08-10T04:24:00.000000000",
          "2024-08-10T05:24:00.000000000",
          "2024-08-10T06:24:00.000000000",
          "2024-08-10T07:24:00.000000000",
          "2024-08-10T08:24:00.000000000",
          "2024-08-10T09:24:00.000000000",
          "2024-08-10T10:24:00.000000000",
          "2024-08-10T11:24:00.000000000",
          "2024-08-10T12:24:00.000000000",
          "2024-08-10T13:24:00.000000000",
          "2024-08-10T14:24:00.000000000",
          "2024-08-10T15:24:00.000000000",
          "2024-08-10T16:24:00.000000000",
          "2024-08-10T17:24:00.000000000",
          "2024-08-10T18:24:00.000000000",
          "2024-08-10T19:24:00.000000000",
          "2024-08-10T20:24:00.000000000",
          "2024-08-10T21:24:00.000000000",
          "2024-08-10T22:24:00.000000000",
          "2024-08-10T23:24:00.000000000",
          "2024-08-11T00:24:00.000000000",
          "2024-08-11T01:24:00.000000000",
          "2024-08-11T02:24:00.000000000",
          "2024-08-11T03:24:00.000000000",
          "2024-08-11T04:24:00.000000000",
          "2024-08-11T05:24:00.000000000",
          "2024-08-11T06:24:00.000000000",
          "2024-08-11T07:24:00.000000000",
          "2024-08-11T08:24:00.000000000",
          "2024-08-11T09:24:00.000000000",
          "2024-08-11T10:24:00.000000000",
          "2024-08-11T11:24:00.000000000",
          "2024-08-11T12:24:00.000000000",
          "2024-08-11T13:24:00.000000000",
          "2024-08-11T14:24:00.000000000",
          "2024-08-11T15:24:00.000000000",
          "2024-08-11T16:24:00.000000000",
          "2024-08-11T17:24:00.000000000",
          "2024-08-11T18:24:00.000000000",
          "2024-08-11T19:24:00.000000000",
          "2024-08-11T20:24:00.000000000",
          "2024-08-11T21:24:00.000000000",
          "2024-08-11T22:24:00.000000000",
          "2024-08-11T23:24:00.000000000",
          "2024-08-12T00:24:00.000000000",
          "2024-08-12T01:24:00.000000000",
          "2024-08-12T02:24:00.000000000",
          "2024-08-12T03:24:00.000000000",
          "2024-08-12T04:24:00.000000000",
          "2024-08-12T05:24:00.000000000",
          "2024-08-12T06:24:00.000000000",
          "2024-08-12T07:24:00.000000000",
          "2024-08-12T08:24:00.000000000",
          "2024-08-12T09:24:00.000000000",
          "2024-08-12T10:24:00.000000000",
          "2024-08-12T11:24:00.000000000",
          "2024-08-12T12:24:00.000000000",
          "2024-08-12T13:24:00.000000000",
          "2024-08-12T14:24:00.000000000",
          "2024-08-12T15:24:00.000000000",
          "2024-08-12T16:24:00.000000000",
          "2024-08-12T17:24:00.000000000",
          "2024-08-12T18:24:00.000000000",
          "2024-08-12T19:24:00.000000000",
          "2024-08-12T20:24:00.000000000",
          "2024-08-12T21:24:00.000000000",
          "2024-08-12T22:24:00.000000000",
          "2024-08-12T23:24:00.000000000",
          "2024-08-13T00:24:00.000000000",
          "2024-08-13T01:24:00.000000000",
          "2024-08-13T02:24:00.000000000",
          "2024-08-13T03:24:00.000000000",
          "2024-08-13T04:24:00.000000000",
          "2024-08-13T05:24:00.000000000",
          "2024-08-13T06:24:00.000000000",
          "2024-08-13T07:24:00.000000000",
          "2024-08-13T08:24:00.000000000",
          "2024-08-13T09:24:00.000000000",
          "2024-08-13T10:24:00.000000000",
          "2024-08-13T11:24:00.000000000",
          "2024-08-13T12:24:00.000000000",
          "2024-08-13T13:24:00.000000000",
          "2024-08-13T14:24:00.000000000",
          "2024-08-13T15:24:00.000000000",
          "2024-08-13T16:24:00.000000000",
          "2024-08-13T17:24:00.000000000",
          "2024-08-13T18:24:00.000000000",
          "2024-08-13T19:24:00.000000000",
          "2024-08-13T20:24:00.000000000",
          "2024-08-13T21:24:00.000000000",
          "2024-08-13T22:24:00.000000000",
          "2024-08-13T23:24:00.000000000",
          "2024-08-14T00:24:00.000000000",
          "2024-08-14T01:24:00.000000000",
          "2024-08-14T02:24:00.000000000",
          "2024-08-14T03:24:00.000000000",
          "2024-08-14T04:24:00.000000000",
          "2024-08-14T05:24:00.000000000",
          "2024-08-14T06:24:00.000000000",
          "2024-08-14T07:24:00.000000000",
          "2024-08-14T08:24:00.000000000",
          "2024-08-14T09:24:00.000000000",
          "2024-08-14T10:24:00.000000000",
          "2024-08-14T11:24:00.000000000",
          "2024-08-14T12:24:00.000000000",
          "2024-08-14T13:24:00.000000000",
          "2024-08-14T14:24:00.000000000",
          "2024-08-14T15:24:00.000000000",
          "2024-08-14T16:24:00.000000000",
          "2024-08-14T17:24:00.000000000",
          "2024-08-14T18:24:00.000000000",
          "2024-08-14T19:24:00.000000000",
          "2024-08-14T20:24:00.000000000",
          "2024-08-14T21:24:00.000000000",
          "2024-08-14T22:24:00.000000000",
          "2024-08-14T23:24:00.000000000",
          "2024-08-15T00:24:00.000000000",
          "2024-08-15T01:24:00.000000000",
          "2024-08-15T02:24:00.000000000",
          "2024-08-15T03:24:00.000000000",
          "2024-08-15T04:24:00.000000000",
          "2024-08-15T05:24:00.000000000",
          "2024-08-15T06:24:00.000000000",
          "2024-08-15T07:24:00.000000000",
          "2024-08-15T08:24:00.000000000",
          "2024-08-15T09:24:00.000000000",
          "2024-08-15T10:24:00.000000000",
          "2024-08-15T11:24:00.000000000",
          "2024-08-15T12:24:00.000000000",
          "2024-08-15T13:24:00.000000000",
          "2024-08-15T14:24:00.000000000",
          "2024-08-15T15:24:00.000000000",
          "2024-08-15T16:24:00.000000000",
          "2024-08-15T17:24:00.000000000",
          "2024-08-15T18:24:00.000000000",
          "2024-08-15T19:24:00.000000000",
          "2024-08-15T20:24:00.000000000",
          "2024-08-15T21:24:00.000000000",
          "2024-08-15T22:24:00.000000000",
          "2024-08-15T23:24:00.000000000",
          "2024-08-16T00:24:00.000000000",
          "2024-08-16T01:24:00.000000000",
          "2024-08-16T02:24:00.000000000",
          "2024-08-16T03:24:00.000000000",
          "2024-08-16T04:24:00.000000000",
          "2024-08-16T05:24:00.000000000",
          "2024-08-16T06:24:00.000000000",
          "2024-08-16T07:24:00.000000000",
          "2024-08-16T08:24:00.000000000",
          "2024-08-16T09:24:00.000000000",
          "2024-08-16T10:24:00.000000000",
          "2024-08-16T11:24:00.000000000",
          "2024-08-16T12:24:00.000000000",
          "2024-08-16T13:24:00.000000000",
          "2024-08-16T14:24:00.000000000",
          "2024-08-16T15:24:00.000000000",
          "2024-08-16T16:24:00.000000000",
          "2024-08-16T17:24:00.000000000",
          "2024-08-16T18:24:00.000000000",
          "2024-08-16T19:24:00.000000000",
          "2024-08-16T20:24:00.000000000",
          "2024-08-16T21:24:00.000000000",
          "2024-08-16T22:24:00.000000000",
          "2024-08-16T23:24:00.000000000",
          "2024-08-17T00:24:00.000000000",
          "2024-08-17T01:24:00.000000000",
          "2024-08-17T02:24:00.000000000",
          "2024-08-17T03:24:00.000000000",
          "2024-08-17T04:24:00.000000000",
          "2024-08-17T05:24:00.000000000",
          "2024-08-17T06:24:00.000000000",
          "2024-08-17T07:24:00.000000000",
          "2024-08-17T08:24:00.000000000",
          "2024-08-17T09:24:00.000000000",
          "2024-08-17T10:24:00.000000000",
          "2024-08-17T11:24:00.000000000",
          "2024-08-17T12:24:00.000000000",
          "2024-08-17T13:24:00.000000000",
          "2024-08-17T14:24:00.000000000",
          "2024-08-17T15:24:00.000000000",
          "2024-08-17T16:24:00.000000000",
          "2024-08-17T17:24:00.000000000",
          "2024-08-17T18:24:00.000000000",
          "2024-08-17T19:24:00.000000000",
          "2024-08-17T20:24:00.000000000",
          "2024-08-17T21:24:00.000000000",
          "2024-08-17T22:24:00.000000000",
          "2024-08-17T23:24:00.000000000",
          "2024-08-18T00:24:00.000000000",
          "2024-08-18T01:24:00.000000000",
          "2024-08-18T02:24:00.000000000",
          "2024-08-18T03:24:00.000000000",
          "2024-08-18T04:24:00.000000000",
          "2024-08-18T05:24:00.000000000",
          "2024-08-18T06:24:00.000000000",
          "2024-08-18T07:24:00.000000000",
          "2024-08-18T08:24:00.000000000",
          "2024-08-18T09:24:00.000000000",
          "2024-08-18T10:24:00.000000000",
          "2024-08-18T11:24:00.000000000",
          "2024-08-18T12:24:00.000000000",
          "2024-08-18T13:24:00.000000000",
          "2024-08-18T14:24:00.000000000",
          "2024-08-18T15:24:00.000000000",
          "2024-08-18T16:24:00.000000000",
          "2024-08-18T17:24:00.000000000",
          "2024-08-18T18:24:00.000000000",
          "2024-08-18T19:24:00.000000000",
          "2024-08-18T20:24:00.000000000",
          "2024-08-18T21:24:00.000000000",
          "2024-08-19T13:29:00.000000000",
          "2024-08-19T13:30:00.000000000",
          "2024-08-19T14:29:00.000000000",
          "2024-08-19T15:29:00.000000000",
          "2024-08-19T16:29:00.000000000",
          "2024-08-19T17:29:00.000000000",
          "2024-08-19T18:29:00.000000000",
          "2024-08-19T19:29:00.000000000",
          "2024-08-19T20:29:00.000000000",
          "2024-08-19T21:29:00.000000000",
          "2024-08-19T22:29:00.000000000",
          "2024-08-19T23:29:00.000000000",
          "2024-08-20T00:29:00.000000000",
          "2024-08-20T01:29:00.000000000",
          "2024-08-20T02:29:00.000000000",
          "2024-08-20T03:29:00.000000000",
          "2024-08-20T04:29:00.000000000",
          "2024-08-20T05:29:00.000000000",
          "2024-08-20T06:29:00.000000000",
          "2024-08-20T07:29:00.000000000",
          "2024-08-20T08:29:00.000000000",
          "2024-08-20T09:29:00.000000000",
          "2024-08-20T10:29:00.000000000",
          "2024-08-20T11:29:00.000000000",
          "2024-08-20T12:29:00.000000000",
          "2024-08-20T13:29:00.000000000",
          "2024-08-20T14:29:00.000000000",
          "2024-08-20T15:29:00.000000000",
          "2024-08-20T16:29:00.000000000",
          "2024-08-20T17:29:00.000000000",
          "2024-08-20T18:29:00.000000000",
          "2024-08-20T19:29:00.000000000",
          "2024-08-20T20:29:00.000000000",
          "2024-08-20T21:29:00.000000000",
          "2024-08-20T22:29:00.000000000",
          "2024-08-20T23:29:00.000000000",
          "2024-08-21T00:29:00.000000000",
          "2024-08-21T01:29:00.000000000",
          "2024-08-21T02:29:00.000000000",
          "2024-08-21T03:29:00.000000000",
          "2024-08-21T04:29:00.000000000",
          "2024-08-21T05:29:00.000000000",
          "2024-08-21T06:29:00.000000000",
          "2024-08-21T07:29:00.000000000",
          "2024-08-21T08:29:00.000000000",
          "2024-08-21T09:29:00.000000000",
          "2024-08-21T10:29:00.000000000",
          "2024-08-21T11:29:00.000000000",
          "2024-08-21T12:29:00.000000000",
          "2024-08-21T13:29:00.000000000",
          "2024-08-21T14:29:00.000000000",
          "2024-08-21T15:29:00.000000000",
          "2024-08-21T16:29:00.000000000",
          "2024-08-21T17:29:00.000000000",
          "2024-08-21T18:29:00.000000000",
          "2024-08-21T19:29:00.000000000",
          "2024-08-21T20:29:00.000000000",
          "2024-08-21T21:30:00.000000000",
          "2024-08-21T22:29:00.000000000",
          "2024-08-21T23:29:00.000000000",
          "2024-08-22T00:30:00.000000000",
          "2024-08-22T01:29:00.000000000",
          "2024-08-22T02:29:00.000000000",
          "2024-08-22T03:29:00.000000000",
          "2024-08-22T04:29:00.000000000",
          "2024-08-22T05:29:00.000000000",
          "2024-08-22T06:30:00.000000000",
          "2024-08-22T07:29:00.000000000",
          "2024-08-22T08:29:00.000000000",
          "2024-08-22T09:29:00.000000000",
          "2024-08-22T10:29:00.000000000",
          "2024-08-22T11:29:00.000000000",
          "2024-08-22T12:29:00.000000000",
          "2024-08-22T13:29:00.000000000",
          "2024-08-22T14:29:00.000000000",
          "2024-08-22T15:29:00.000000000",
          "2024-08-22T16:29:00.000000000",
          "2024-08-22T17:29:00.000000000",
          "2024-08-22T18:29:00.000000000",
          "2024-08-22T19:29:00.000000000",
          "2024-08-22T20:29:00.000000000",
          "2024-08-22T21:29:00.000000000",
          "2024-08-22T22:29:00.000000000",
          "2024-08-22T23:29:00.000000000",
          "2024-08-23T00:29:00.000000000",
          "2024-08-23T01:21:00.000000000",
          "2024-08-23T01:24:00.000000000",
          "2024-08-23T01:30:00.000000000",
          "2024-08-23T02:30:00.000000000",
          "2024-08-23T03:30:00.000000000",
          "2024-08-23T04:30:00.000000000",
          "2024-08-23T05:30:00.000000000",
          "2024-08-23T06:30:00.000000000",
          "2024-08-23T07:30:00.000000000",
          "2024-08-23T08:30:00.000000000",
          "2024-08-23T09:30:00.000000000",
          "2024-08-23T10:30:00.000000000",
          "2024-08-23T11:30:00.000000000",
          "2024-08-23T12:30:00.000000000",
          "2024-08-23T13:30:00.000000000",
          "2024-08-23T14:30:00.000000000",
          "2024-08-23T15:30:00.000000000",
          "2024-08-23T16:18:00.000000000",
          "2024-08-23T16:19:00.000000000",
          "2024-08-23T16:21:00.000000000",
          "2024-08-23T16:30:00.000000000",
          "2024-08-23T17:30:00.000000000",
          "2024-08-23T18:30:00.000000000",
          "2024-08-23T19:30:00.000000000",
          "2024-08-23T20:30:00.000000000",
          "2024-08-23T21:30:00.000000000",
          "2024-08-23T22:30:00.000000000",
          "2024-08-23T23:30:00.000000000",
          "2024-08-24T00:30:00.000000000",
          "2024-08-24T01:30:00.000000000",
          "2024-08-24T02:30:00.000000000",
          "2024-08-24T03:30:00.000000000",
          "2024-08-24T04:30:00.000000000",
          "2024-08-24T05:30:00.000000000",
          "2024-08-24T06:30:00.000000000",
          "2024-08-24T07:30:00.000000000",
          "2024-08-24T08:30:00.000000000",
          "2024-08-24T09:30:00.000000000",
          "2024-08-24T10:30:00.000000000",
          "2024-08-24T11:30:00.000000000",
          "2024-08-24T12:30:00.000000000",
          "2024-08-24T13:30:00.000000000",
          "2024-08-24T14:30:00.000000000",
          "2024-08-24T15:30:00.000000000",
          "2024-08-24T16:30:00.000000000",
          "2024-08-24T17:30:00.000000000",
          "2024-08-24T18:30:00.000000000",
          "2024-08-24T19:30:00.000000000",
          "2024-08-24T20:30:00.000000000",
          "2024-08-24T21:30:00.000000000",
          "2024-08-24T22:30:00.000000000",
          "2024-08-24T23:30:00.000000000",
          "2024-08-25T00:30:00.000000000",
          "2024-08-25T01:30:00.000000000",
          "2024-08-25T02:30:00.000000000",
          "2024-08-25T03:30:00.000000000",
          "2024-08-25T04:30:00.000000000",
          "2024-08-25T05:30:00.000000000",
          "2024-08-25T06:30:00.000000000",
          "2024-08-25T07:30:00.000000000",
          "2024-08-25T08:30:00.000000000",
          "2024-08-25T09:30:00.000000000",
          "2024-08-25T10:30:00.000000000",
          "2024-08-25T11:30:00.000000000",
          "2024-08-25T12:30:00.000000000",
          "2024-08-25T13:30:00.000000000",
          "2024-08-25T14:30:00.000000000",
          "2024-08-25T15:30:00.000000000",
          "2024-08-25T16:30:00.000000000",
          "2024-08-25T17:30:00.000000000",
          "2024-08-25T18:30:00.000000000",
          "2024-08-25T19:30:00.000000000",
          "2024-08-25T20:30:00.000000000",
          "2024-08-25T21:30:00.000000000",
          "2024-08-25T22:30:00.000000000",
          "2024-08-25T23:30:00.000000000",
          "2024-08-26T00:30:00.000000000",
          "2024-08-26T01:30:00.000000000",
          "2024-08-26T02:30:00.000000000",
          "2024-08-26T03:30:00.000000000",
          "2024-08-26T04:30:00.000000000",
          "2024-08-26T05:30:00.000000000",
          "2024-08-26T06:30:00.000000000",
          "2024-08-26T07:30:00.000000000",
          "2024-08-26T08:30:00.000000000",
          "2024-08-26T09:30:00.000000000",
          "2024-08-26T10:30:00.000000000",
          "2024-08-26T11:30:00.000000000",
          "2024-08-26T12:30:00.000000000",
          "2024-08-26T13:30:00.000000000",
          "2024-08-26T14:30:00.000000000",
          "2024-08-26T15:30:00.000000000",
          "2024-08-26T16:30:00.000000000",
          "2024-08-26T17:30:00.000000000",
          "2024-08-26T18:30:00.000000000",
          "2024-08-26T19:30:00.000000000",
          "2024-08-26T20:30:00.000000000",
          "2024-08-26T21:30:00.000000000",
          "2024-08-26T22:30:00.000000000",
          "2024-08-26T23:30:00.000000000",
          "2024-08-27T00:30:00.000000000",
          "2024-08-27T01:30:00.000000000",
          "2024-08-27T02:30:00.000000000",
          "2024-08-27T03:30:00.000000000",
          "2024-08-27T04:30:00.000000000",
          "2024-08-27T05:30:00.000000000",
          "2024-08-27T06:30:00.000000000",
          "2024-08-27T07:30:00.000000000",
          "2024-08-27T08:30:00.000000000",
          "2024-08-27T09:30:00.000000000",
          "2024-08-27T10:30:00.000000000",
          "2024-08-27T11:30:00.000000000",
          "2024-08-27T12:30:00.000000000",
          "2024-08-27T13:30:00.000000000",
          "2024-08-27T14:30:00.000000000",
          "2024-08-27T15:30:00.000000000",
          "2024-08-27T16:30:00.000000000",
          "2024-08-27T17:30:00.000000000",
          "2024-08-27T18:30:00.000000000",
          "2024-08-27T19:30:00.000000000",
          "2024-08-27T20:30:00.000000000",
          "2024-08-27T21:30:00.000000000",
          "2024-08-27T22:30:00.000000000",
          "2024-08-27T23:30:00.000000000",
          "2024-08-28T00:30:00.000000000",
          "2024-08-28T01:30:00.000000000",
          "2024-08-28T02:30:00.000000000",
          "2024-08-28T03:30:00.000000000",
          "2024-08-28T04:30:00.000000000",
          "2024-08-28T05:30:00.000000000",
          "2024-08-28T06:30:00.000000000",
          "2024-08-28T07:30:00.000000000",
          "2024-08-28T08:30:00.000000000",
          "2024-08-28T09:30:00.000000000",
          "2024-08-28T10:30:00.000000000",
          "2024-08-28T11:30:00.000000000",
          "2024-08-28T12:30:00.000000000",
          "2024-08-28T13:30:00.000000000",
          "2024-08-28T14:30:00.000000000",
          "2024-08-28T15:30:00.000000000",
          "2024-08-28T16:30:00.000000000",
          "2024-08-28T17:30:00.000000000",
          "2024-08-28T18:30:00.000000000",
          "2024-08-28T19:30:00.000000000",
          "2024-08-28T20:30:00.000000000",
          "2024-08-28T21:30:00.000000000",
          "2024-08-28T22:30:00.000000000",
          "2024-08-28T23:30:00.000000000",
          "2024-08-29T00:30:00.000000000",
          "2024-08-29T01:30:00.000000000",
          "2024-08-29T02:30:00.000000000",
          "2024-08-29T03:30:00.000000000",
          "2024-08-29T04:30:00.000000000",
          "2024-08-29T05:30:00.000000000",
          "2024-08-29T06:30:00.000000000",
          "2024-08-29T07:30:00.000000000",
          "2024-08-29T08:30:00.000000000",
          "2024-08-29T09:30:00.000000000",
          "2024-08-29T10:30:00.000000000",
          "2024-08-29T11:30:00.000000000",
          "2024-08-29T12:30:00.000000000",
          "2024-08-29T13:30:00.000000000",
          "2024-08-29T14:30:00.000000000",
          "2024-08-29T15:30:00.000000000",
          "2024-08-29T16:30:00.000000000",
          "2024-08-29T17:30:00.000000000",
          "2024-08-29T18:30:00.000000000",
          "2024-08-29T19:30:00.000000000",
          "2024-08-29T20:30:00.000000000",
          "2024-08-29T21:30:00.000000000",
          "2024-08-29T22:30:00.000000000",
          "2024-08-29T23:30:00.000000000",
          "2024-08-30T00:30:00.000000000",
          "2024-08-30T01:30:00.000000000",
          "2024-08-30T02:30:00.000000000",
          "2024-08-30T03:30:00.000000000",
          "2024-08-30T04:30:00.000000000",
          "2024-08-30T05:30:00.000000000",
          "2024-08-30T06:30:00.000000000",
          "2024-08-30T07:30:00.000000000",
          "2024-08-30T08:30:00.000000000",
          "2024-08-30T09:30:00.000000000",
          "2024-08-30T10:30:00.000000000",
          "2024-08-30T11:30:00.000000000",
          "2024-08-30T12:30:00.000000000",
          "2024-08-30T13:30:00.000000000",
          "2024-08-30T14:30:00.000000000",
          "2024-08-30T15:30:00.000000000",
          "2024-08-30T16:30:00.000000000",
          "2024-08-30T17:30:00.000000000",
          "2024-08-30T18:30:00.000000000",
          "2024-08-30T19:30:00.000000000",
          "2024-08-30T20:30:00.000000000",
          "2024-08-30T21:30:00.000000000",
          "2024-08-30T22:30:00.000000000",
          "2024-08-30T23:30:00.000000000",
          "2024-08-31T00:30:00.000000000",
          "2024-08-31T01:30:00.000000000",
          "2024-08-31T02:30:00.000000000",
          "2024-08-31T03:30:00.000000000",
          "2024-08-31T04:30:00.000000000",
          "2024-08-31T05:30:00.000000000",
          "2024-08-31T06:30:00.000000000",
          "2024-08-31T07:30:00.000000000",
          "2024-08-31T08:30:00.000000000",
          "2024-08-31T09:30:00.000000000",
          "2024-08-31T10:30:00.000000000",
          "2024-08-31T11:30:00.000000000",
          "2024-08-31T12:30:00.000000000",
          "2024-08-31T13:30:00.000000000",
          "2024-08-31T14:30:00.000000000",
          "2024-08-31T15:30:00.000000000",
          "2024-08-31T16:30:00.000000000",
          "2024-08-31T17:30:00.000000000",
          "2024-08-31T18:30:00.000000000",
          "2024-08-31T19:30:00.000000000",
          "2024-08-31T20:30:00.000000000",
          "2024-08-31T21:30:00.000000000",
          "2024-08-31T22:30:00.000000000",
          "2024-08-31T23:30:00.000000000",
          "2024-09-01T00:30:00.000000000",
          "2024-09-01T01:30:00.000000000",
          "2024-09-01T02:30:00.000000000",
          "2024-09-01T03:30:00.000000000",
          "2024-09-01T04:30:00.000000000",
          "2024-09-01T05:30:00.000000000",
          "2024-09-01T06:30:00.000000000",
          "2024-09-01T07:30:00.000000000",
          "2024-09-01T08:30:00.000000000",
          "2024-09-01T09:30:00.000000000",
          "2024-09-01T10:30:00.000000000",
          "2024-09-01T11:30:00.000000000",
          "2024-09-01T12:30:00.000000000",
          "2024-09-01T13:30:00.000000000",
          "2024-09-01T14:30:00.000000000",
          "2024-09-01T15:30:00.000000000",
          "2024-09-01T16:30:00.000000000",
          "2024-09-01T17:30:00.000000000",
          "2024-09-01T18:30:00.000000000",
          "2024-09-01T19:30:00.000000000",
          "2024-09-01T20:30:00.000000000",
          "2024-09-01T21:30:00.000000000",
          "2024-09-01T22:30:00.000000000",
          "2024-09-01T23:30:00.000000000",
          "2024-09-02T00:30:00.000000000",
          "2024-09-02T01:30:00.000000000",
          "2024-09-02T02:30:00.000000000",
          "2024-09-02T03:30:00.000000000",
          "2024-09-02T04:30:00.000000000",
          "2024-09-02T05:30:00.000000000",
          "2024-09-02T06:30:00.000000000",
          "2024-09-02T07:30:00.000000000",
          "2024-09-02T08:30:00.000000000",
          "2024-09-02T09:30:00.000000000",
          "2024-09-02T10:30:00.000000000",
          "2024-09-02T11:30:00.000000000",
          "2024-09-02T12:30:00.000000000",
          "2024-09-02T13:30:00.000000000"
         ],
         "y": {
          "bdata": "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",
          "dtype": "f8"
         }
        }
       ],
       "layout": {
        "legend": {
         "title": {
          "text": "Type"
         }
        },
        "template": {
         "data": {
          "bar": [
           {
            "error_x": {
             "color": "#2a3f5f"
            },
            "error_y": {
             "color": "#2a3f5f"
            },
            "marker": {
             "line": {
              "color": "white",
              "width": 0.5
             },
             "pattern": {
              "fillmode": "overlay",
              "size": 10,
              "solidity": 0.2
             }
            },
            "type": "bar"
           }
          ],
          "barpolar": [
           {
            "marker": {
             "line": {
              "color": "white",
              "width": 0.5
             },
             "pattern": {
              "fillmode": "overlay",
              "size": 10,
              "solidity": 0.2
             }
            },
            "type": "barpolar"
           }
          ],
          "carpet": [
           {
            "aaxis": {
             "endlinecolor": "#2a3f5f",
             "gridcolor": "#C8D4E3",
             "linecolor": "#C8D4E3",
             "minorgridcolor": "#C8D4E3",
             "startlinecolor": "#2a3f5f"
            },
            "baxis": {
             "endlinecolor": "#2a3f5f",
             "gridcolor": "#C8D4E3",
             "linecolor": "#C8D4E3",
             "minorgridcolor": "#C8D4E3",
             "startlinecolor": "#2a3f5f"
            },
            "type": "carpet"
           }
          ],
          "choropleth": [
           {
            "colorbar": {
             "outlinewidth": 0,
             "ticks": ""
            },
            "type": "choropleth"
           }
          ],
          "contour": [
           {
            "colorbar": {
             "outlinewidth": 0,
             "ticks": ""
            },
            "colorscale": [
             [
              0,
              "#0d0887"
             ],
             [
              0.1111111111111111,
              "#46039f"
             ],
             [
              0.2222222222222222,
              "#7201a8"
             ],
             [
              0.3333333333333333,
              "#9c179e"
             ],
             [
              0.4444444444444444,
              "#bd3786"
             ],
             [
              0.5555555555555556,
              "#d8576b"
             ],
             [
              0.6666666666666666,
              "#ed7953"
             ],
             [
              0.7777777777777778,
              "#fb9f3a"
             ],
             [
              0.8888888888888888,
              "#fdca26"
             ],
             [
              1,
              "#f0f921"
             ]
            ],
            "type": "contour"
           }
          ],
          "contourcarpet": [
           {
            "colorbar": {
             "outlinewidth": 0,
             "ticks": ""
            },
            "type": "contourcarpet"
           }
          ],
          "heatmap": [
           {
            "colorbar": {
             "outlinewidth": 0,
             "ticks": ""
            },
            "colorscale": [
             [
              0,
              "#0d0887"
             ],
             [
              0.1111111111111111,
              "#46039f"
             ],
             [
              0.2222222222222222,
              "#7201a8"
             ],
             [
              0.3333333333333333,
              "#9c179e"
             ],
             [
              0.4444444444444444,
              "#bd3786"
             ],
             [
              0.5555555555555556,
              "#d8576b"
             ],
             [
              0.6666666666666666,
              "#ed7953"
             ],
             [
              0.7777777777777778,
              "#fb9f3a"
             ],
             [
              0.8888888888888888,
              "#fdca26"
             ],
             [
              1,
              "#f0f921"
             ]
            ],
            "type": "heatmap"
           }
          ],
          "histogram": [
           {
            "marker": {
             "pattern": {
              "fillmode": "overlay",
              "size": 10,
              "solidity": 0.2
             }
            },
            "type": "histogram"
           }
          ],
          "histogram2d": [
           {
            "colorbar": {
             "outlinewidth": 0,
             "ticks": ""
            },
            "colorscale": [
             [
              0,
              "#0d0887"
             ],
             [
              0.1111111111111111,
              "#46039f"
             ],
             [
              0.2222222222222222,
              "#7201a8"
             ],
             [
              0.3333333333333333,
              "#9c179e"
             ],
             [
              0.4444444444444444,
              "#bd3786"
             ],
             [
              0.5555555555555556,
              "#d8576b"
             ],
             [
              0.6666666666666666,
              "#ed7953"
             ],
             [
              0.7777777777777778,
              "#fb9f3a"
             ],
             [
              0.8888888888888888,
              "#fdca26"
             ],
             [
              1,
              "#f0f921"
             ]
            ],
            "type": "histogram2d"
           }
          ],
          "histogram2dcontour": [
           {
            "colorbar": {
             "outlinewidth": 0,
             "ticks": ""
            },
            "colorscale": [
             [
              0,
              "#0d0887"
             ],
             [
              0.1111111111111111,
              "#46039f"
             ],
             [
              0.2222222222222222,
              "#7201a8"
             ],
             [
              0.3333333333333333,
              "#9c179e"
             ],
             [
              0.4444444444444444,
              "#bd3786"
             ],
             [
              0.5555555555555556,
              "#d8576b"
             ],
             [
              0.6666666666666666,
              "#ed7953"
             ],
             [
              0.7777777777777778,
              "#fb9f3a"
             ],
             [
              0.8888888888888888,
              "#fdca26"
             ],
             [
              1,
              "#f0f921"
             ]
            ],
            "type": "histogram2dcontour"
           }
          ],
          "mesh3d": [
           {
            "colorbar": {
             "outlinewidth": 0,
             "ticks": ""
            },
            "type": "mesh3d"
           }
          ],
          "parcoords": [
           {
            "line": {
             "colorbar": {
              "outlinewidth": 0,
              "ticks": ""
             }
            },
            "type": "parcoords"
           }
          ],
          "pie": [
           {
            "automargin": true,
            "type": "pie"
           }
          ],
          "scatter": [
           {
            "fillpattern": {
             "fillmode": "overlay",
             "size": 10,
             "solidity": 0.2
            },
            "type": "scatter"
           }
          ],
          "scatter3d": [
           {
            "line": {
             "colorbar": {
              "outlinewidth": 0,
              "ticks": ""
             }
            },
            "marker": {
             "colorbar": {
              "outlinewidth": 0,
              "ticks": ""
             }
            },
            "type": "scatter3d"
           }
          ],
          "scattercarpet": [
           {
            "marker": {
             "colorbar": {
              "outlinewidth": 0,
              "ticks": ""
             }
            },
            "type": "scattercarpet"
           }
          ],
          "scattergeo": [
           {
            "marker": {
             "colorbar": {
              "outlinewidth": 0,
              "ticks": ""
             }
            },
            "type": "scattergeo"
           }
          ],
          "scattergl": [
           {
            "marker": {
             "colorbar": {
              "outlinewidth": 0,
              "ticks": ""
             }
            },
            "type": "scattergl"
           }
          ],
          "scattermap": [
           {
            "marker": {
             "colorbar": {
              "outlinewidth": 0,
              "ticks": ""
             }
            },
            "type": "scattermap"
           }
          ],
          "scattermapbox": [
           {
            "marker": {
             "colorbar": {
              "outlinewidth": 0,
              "ticks": ""
             }
            },
            "type": "scattermapbox"
           }
          ],
          "scatterpolar": [
           {
            "marker": {
             "colorbar": {
              "outlinewidth": 0,
              "ticks": ""
             }
            },
            "type": "scatterpolar"
           }
          ],
          "scatterpolargl": [
           {
            "marker": {
             "colorbar": {
              "outlinewidth": 0,
              "ticks": ""
             }
            },
            "type": "scatterpolargl"
           }
          ],
          "scatterternary": [
           {
            "marker": {
             "colorbar": {
              "outlinewidth": 0,
              "ticks": ""
             }
            },
            "type": "scatterternary"
           }
          ],
          "surface": [
           {
            "colorbar": {
             "outlinewidth": 0,
             "ticks": ""
            },
            "colorscale": [
             [
              0,
              "#0d0887"
             ],
             [
              0.1111111111111111,
              "#46039f"
             ],
             [
              0.2222222222222222,
              "#7201a8"
             ],
             [
              0.3333333333333333,
              "#9c179e"
             ],
             [
              0.4444444444444444,
              "#bd3786"
             ],
             [
              0.5555555555555556,
              "#d8576b"
             ],
             [
              0.6666666666666666,
              "#ed7953"
             ],
             [
              0.7777777777777778,
              "#fb9f3a"
             ],
             [
              0.8888888888888888,
              "#fdca26"
             ],
             [
              1,
              "#f0f921"
             ]
            ],
            "type": "surface"
           }
          ],
          "table": [
           {
            "cells": {
             "fill": {
              "color": "#EBF0F8"
             },
             "line": {
              "color": "white"
             }
            },
            "header": {
             "fill": {
              "color": "#C8D4E3"
             },
             "line": {
              "color": "white"
             }
            },
            "type": "table"
           }
          ]
         },
         "layout": {
          "annotationdefaults": {
           "arrowcolor": "#2a3f5f",
           "arrowhead": 0,
           "arrowwidth": 1
          },
          "autotypenumbers": "strict",
          "coloraxis": {
           "colorbar": {
            "outlinewidth": 0,
            "ticks": ""
           }
          },
          "colorscale": {
           "diverging": [
            [
             0,
             "#8e0152"
            ],
            [
             0.1,
             "#c51b7d"
            ],
            [
             0.2,
             "#de77ae"
            ],
            [
             0.3,
             "#f1b6da"
            ],
            [
             0.4,
             "#fde0ef"
            ],
            [
             0.5,
             "#f7f7f7"
            ],
            [
             0.6,
             "#e6f5d0"
            ],
            [
             0.7,
             "#b8e186"
            ],
            [
             0.8,
             "#7fbc41"
            ],
            [
             0.9,
             "#4d9221"
            ],
            [
             1,
             "#276419"
            ]
           ],
           "sequential": [
            [
             0,
             "#0d0887"
            ],
            [
             0.1111111111111111,
             "#46039f"
            ],
            [
             0.2222222222222222,
             "#7201a8"
            ],
            [
             0.3333333333333333,
             "#9c179e"
            ],
            [
             0.4444444444444444,
             "#bd3786"
            ],
            [
             0.5555555555555556,
             "#d8576b"
            ],
            [
             0.6666666666666666,
             "#ed7953"
            ],
            [
             0.7777777777777778,
             "#fb9f3a"
            ],
            [
             0.8888888888888888,
             "#fdca26"
            ],
            [
             1,
             "#f0f921"
            ]
           ],
           "sequentialminus": [
            [
             0,
             "#0d0887"
            ],
            [
             0.1111111111111111,
             "#46039f"
            ],
            [
             0.2222222222222222,
             "#7201a8"
            ],
            [
             0.3333333333333333,
             "#9c179e"
            ],
            [
             0.4444444444444444,
             "#bd3786"
            ],
            [
             0.5555555555555556,
             "#d8576b"
            ],
            [
             0.6666666666666666,
             "#ed7953"
            ],
            [
             0.7777777777777778,
             "#fb9f3a"
            ],
            [
             0.8888888888888888,
             "#fdca26"
            ],
            [
             1,
             "#f0f921"
            ]
           ]
          },
          "colorway": [
           "#636efa",
           "#EF553B",
           "#00cc96",
           "#ab63fa",
           "#FFA15A",
           "#19d3f3",
           "#FF6692",
           "#B6E880",
           "#FF97FF",
           "#FECB52"
          ],
          "font": {
           "color": "#2a3f5f"
          },
          "geo": {
           "bgcolor": "white",
           "lakecolor": "white",
           "landcolor": "white",
           "showlakes": true,
           "showland": true,
           "subunitcolor": "#C8D4E3"
          },
          "hoverlabel": {
           "align": "left"
          },
          "hovermode": "closest",
          "mapbox": {
           "style": "light"
          },
          "paper_bgcolor": "white",
          "plot_bgcolor": "white",
          "polar": {
           "angularaxis": {
            "gridcolor": "#EBF0F8",
            "linecolor": "#EBF0F8",
            "ticks": ""
           },
           "bgcolor": "white",
           "radialaxis": {
            "gridcolor": "#EBF0F8",
            "linecolor": "#EBF0F8",
            "ticks": ""
           }
          },
          "scene": {
           "xaxis": {
            "backgroundcolor": "white",
            "gridcolor": "#DFE8F3",
            "gridwidth": 2,
            "linecolor": "#EBF0F8",
            "showbackground": true,
            "ticks": "",
            "zerolinecolor": "#EBF0F8"
           },
           "yaxis": {
            "backgroundcolor": "white",
            "gridcolor": "#DFE8F3",
            "gridwidth": 2,
            "linecolor": "#EBF0F8",
            "showbackground": true,
            "ticks": "",
            "zerolinecolor": "#EBF0F8"
           },
           "zaxis": {
            "backgroundcolor": "white",
            "gridcolor": "#DFE8F3",
            "gridwidth": 2,
            "linecolor": "#EBF0F8",
            "showbackground": true,
            "ticks": "",
            "zerolinecolor": "#EBF0F8"
           }
          },
          "shapedefaults": {
           "line": {
            "color": "#2a3f5f"
           }
          },
          "ternary": {
           "aaxis": {
            "gridcolor": "#DFE8F3",
            "linecolor": "#A2B1C6",
            "ticks": ""
           },
           "baxis": {
            "gridcolor": "#DFE8F3",
            "linecolor": "#A2B1C6",
            "ticks": ""
           },
           "bgcolor": "white",
           "caxis": {
            "gridcolor": "#DFE8F3",
            "linecolor": "#A2B1C6",
            "ticks": ""
           }
          },
          "title": {
           "x": 0.05
          },
          "xaxis": {
           "automargin": true,
           "gridcolor": "#EBF0F8",
           "linecolor": "#EBF0F8",
           "ticks": "",
           "title": {
            "standoff": 15
           },
           "zerolinecolor": "#EBF0F8",
           "zerolinewidth": 2
          },
          "yaxis": {
           "automargin": true,
           "gridcolor": "#EBF0F8",
           "linecolor": "#EBF0F8",
           "ticks": "",
           "title": {
            "standoff": 15
           },
           "zerolinecolor": "#EBF0F8",
           "zerolinewidth": 2
          }
         }
        },
        "title": {
         "text": "Bid and Ask Prices Over Time"
        },
        "xaxis": {
         "title": {
          "text": "Timestamp"
         }
        },
        "yaxis": {
         "title": {
          "text": "Price"
         }
        }
       }
      }
     },
     "metadata": {},
     "output_type": "display_data"
    }
   ],
   "source": [
    "fig = go.Figure()\n",
    "fig.add_trace(go.Scatter(x=hourly_minute_bid.index, y=hourly_minute_bid.values, mode='lines', name='Bid Price', line=dict(color='blue')))\n",
    "fig.add_trace(go.Scatter(x=hourly_minute_ask.index, y=hourly_minute_ask.values, mode='lines', name='Ask Price', line=dict(color='red')))\n",
    "fig.update_layout(\n",
    "    title='Bid and Ask Prices Over Time',\n",
    "    xaxis_title='Timestamp',\n",
    "    yaxis_title='Price',\n",
    "    legend_title='Type',\n",
    "    template='plotly_white'\n",
    ")\n",
    "\n",
    "fig.show()"
   ]
  },
  {
   "cell_type": "code",
   "execution_count": 13,
   "metadata": {},
   "outputs": [
    {
     "data": {
      "application/vnd.plotly.v1+json": {
       "config": {
        "plotlyServerURL": "https://plot.ly"
       },
       "data": [
        {
         "line": {
          "color": "blue"
         },
         "mode": "lines",
         "name": "Buy",
         "type": "scatter",
         "x": [
          "2023-09-21T18:00:00.000000000",
          "2023-09-22T18:00:00.000000000",
          "2023-11-18T10:00:00.000000000",
          "2023-12-12T17:00:00.000000000",
          "2024-02-22T09:47:00.000000000",
          "2024-02-26T12:59:00.000000000",
          "2024-03-01T11:38:00.000000000",
          "2024-03-13T11:44:00.000000000",
          "2024-03-25T08:49:00.000000000",
          "2024-05-06T13:09:00.000000000",
          "2024-05-22T09:37:00.000000000",
          "2024-05-23T17:41:00.000000000",
          "2024-06-14T12:35:00.000000000",
          "2024-06-17T08:40:00.000000000",
          "2024-06-18T11:53:00.000000000",
          "2024-06-19T11:58:00.000000000",
          "2024-06-20T12:35:00.000000000",
          "2024-06-21T10:38:00.000000000",
          "2024-06-22T10:36:00.000000000",
          "2024-06-23T14:56:00.000000000",
          "2024-06-24T11:07:00.000000000",
          "2024-06-25T11:34:00.000000000",
          "2024-06-26T11:15:00.000000000",
          "2024-06-26T22:24:00.000000000",
          "2024-06-27T00:21:00.000000000",
          "2024-06-27T10:33:00.000000000",
          "2024-06-27T17:57:00.000000000",
          "2024-06-28T11:35:00.000000000",
          "2024-06-29T12:24:00.000000000",
          "2024-06-30T10:15:00.000000000",
          "2024-07-01T12:30:00.000000000",
          "2024-07-02T13:13:00.000000000",
          "2024-07-03T12:08:00.000000000",
          "2024-07-04T09:46:00.000000000",
          "2024-07-05T16:17:00.000000000",
          "2024-07-05T17:08:00.000000000",
          "2024-07-06T11:00:00.000000000",
          "2024-07-07T17:04:00.000000000",
          "2024-07-08T10:01:00.000000000",
          "2024-07-09T15:42:00.000000000",
          "2024-07-10T10:19:00.000000000",
          "2024-07-11T09:45:00.000000000",
          "2024-07-12T12:59:00.000000000",
          "2024-07-13T13:00:00.000000000",
          "2024-07-14T12:59:00.000000000",
          "2024-07-15T10:15:00.000000000",
          "2024-07-16T09:21:00.000000000",
          "2024-07-17T12:46:00.000000000",
          "2024-07-18T10:28:00.000000000",
          "2024-07-18T19:16:00.000000000",
          "2024-07-19T12:49:00.000000000",
          "2024-07-20T12:22:00.000000000",
          "2024-07-21T11:19:00.000000000",
          "2024-07-22T09:28:00.000000000",
          "2024-07-23T09:56:00.000000000",
          "2024-07-24T13:02:00.000000000",
          "2024-07-25T08:44:00.000000000",
          "2024-07-26T12:59:00.000000000",
          "2024-07-28T12:59:00.000000000",
          "2024-07-29T11:12:00.000000000",
          "2024-07-30T00:00:00.000000000",
          "2024-07-30T10:29:00.000000000",
          "2024-07-31T17:41:00.000000000",
          "2024-07-31T22:41:00.000000000",
          "2024-08-01T10:19:00.000000000",
          "2024-08-01T13:21:00.000000000",
          "2024-08-01T16:55:00.000000000",
          "2024-08-02T11:11:00.000000000",
          "2024-08-02T18:08:00.000000000",
          "2024-08-03T14:42:00.000000000",
          "2024-08-04T13:15:00.000000000",
          "2024-08-04T16:58:00.000000000",
          "2024-08-05T16:59:00.000000000",
          "2024-08-05T23:24:00.000000000",
          "2024-08-06T12:33:00.000000000",
          "2024-08-06T17:12:00.000000000",
          "2024-08-07T12:14:00.000000000",
          "2024-08-07T17:01:00.000000000",
          "2024-08-08T11:56:00.000000000",
          "2024-08-08T17:00:00.000000000",
          "2024-08-08T17:21:00.000000000",
          "2024-08-09T12:45:00.000000000",
          "2024-08-09T16:38:00.000000000",
          "2024-08-09T21:29:00.000000000",
          "2024-08-10T12:06:00.000000000",
          "2024-08-10T16:46:00.000000000",
          "2024-08-10T21:04:00.000000000",
          "2024-08-11T23:01:00.000000000",
          "2024-08-12T12:00:00.000000000",
          "2024-08-12T17:34:00.000000000",
          "2024-08-12T21:35:00.000000000",
          "2024-08-13T12:11:00.000000000",
          "2024-08-13T18:19:00.000000000",
          "2024-08-13T22:13:00.000000000",
          "2024-08-14T14:26:00.000000000",
          "2024-08-14T16:59:00.000000000",
          "2024-08-14T22:33:00.000000000",
          "2024-08-15T11:37:00.000000000",
          "2024-08-15T18:19:00.000000000",
          "2024-08-15T22:13:00.000000000",
          "2024-08-16T12:16:00.000000000",
          "2024-08-16T16:59:00.000000000",
          "2024-08-16T22:45:00.000000000",
          "2024-08-17T11:58:00.000000000",
          "2024-08-17T17:00:00.000000000",
          "2024-08-18T13:43:00.000000000",
          "2024-08-18T17:07:00.000000000",
          "2024-08-19T12:16:00.000000000",
          "2024-08-19T19:58:00.000000000",
          "2024-08-20T12:19:00.000000000",
          "2024-08-20T17:57:00.000000000",
          "2024-08-20T22:31:00.000000000",
          "2024-08-21T13:09:00.000000000",
          "2024-08-21T23:04:00.000000000",
          "2024-08-22T11:59:00.000000000",
          "2024-08-22T17:24:00.000000000",
          "2024-08-23T11:59:00.000000000",
          "2024-08-23T17:22:00.000000000",
          "2024-08-24T12:35:00.000000000",
          "2024-08-24T18:54:00.000000000",
          "2024-08-24T22:41:00.000000000",
          "2024-08-25T13:38:00.000000000",
          "2024-08-25T17:22:00.000000000",
          "2024-08-26T14:01:00.000000000",
          "2024-08-26T16:35:00.000000000",
          "2024-08-26T20:05:00.000000000",
          "2024-08-27T12:20:00.000000000",
          "2024-08-27T16:59:00.000000000",
          "2024-08-27T21:48:00.000000000",
          "2024-08-28T13:13:00.000000000",
          "2024-08-28T18:52:00.000000000",
          "2024-08-28T22:46:00.000000000",
          "2024-08-29T12:37:00.000000000",
          "2024-08-29T17:00:00.000000000",
          "2024-08-30T12:50:00.000000000",
          "2024-08-30T17:08:00.000000000",
          "2024-08-31T12:39:00.000000000",
          "2024-08-31T17:16:00.000000000",
          "2024-09-01T15:28:00.000000000",
          "2024-09-01T23:18:00.000000000",
          "2024-09-02T12:25:00.000000000",
          "2024-09-02T17:32:00.000000000",
          "2024-09-03T12:27:00.000000000",
          "2024-09-03T18:04:00.000000000",
          "2024-09-04T12:36:00.000000000",
          "2024-09-04T19:25:00.000000000",
          "2024-09-05T15:05:00.000000000",
          "2024-09-05T16:59:00.000000000",
          "2024-09-06T11:59:00.000000000",
          "2024-09-06T12:02:00.000000000",
          "2024-09-06T17:20:00.000000000",
          "2024-09-06T21:41:00.000000000",
          "2024-09-07T15:07:00.000000000",
          "2024-09-07T20:55:00.000000000",
          "2024-09-08T18:03:00.000000000",
          "2024-09-09T12:59:00.000000000",
          "2024-09-09T22:11:00.000000000",
          "2024-09-10T12:34:00.000000000",
          "2024-09-10T17:58:00.000000000",
          "2024-09-10T22:55:00.000000000",
          "2024-09-11T12:59:00.000000000",
          "2024-09-11T18:52:00.000000000",
          "2024-09-12T12:59:00.000000000",
          "2024-09-12T17:40:00.000000000",
          "2024-09-12T22:23:00.000000000",
          "2024-09-13T12:46:00.000000000",
          "2024-09-13T17:00:00.000000000",
          "2024-09-13T22:26:00.000000000",
          "2024-09-14T14:10:00.000000000",
          "2024-09-14T17:43:00.000000000",
          "2024-09-15T12:48:00.000000000",
          "2024-09-15T19:12:00.000000000",
          "2024-09-16T11:36:00.000000000",
          "2024-09-16T21:45:00.000000000",
          "2024-09-17T12:01:00.000000000",
          "2024-09-17T16:49:00.000000000",
          "2024-09-17T22:09:00.000000000",
          "2024-09-18T11:59:00.000000000",
          "2024-09-18T23:00:00.000000000",
          "2024-09-19T11:53:00.000000000",
          "2024-09-19T17:00:00.000000000",
          "2024-09-19T23:50:00.000000000",
          "2024-09-20T12:00:00.000000000",
          "2024-09-20T17:20:00.000000000",
          "2024-09-21T13:38:00.000000000",
          "2024-09-21T17:02:00.000000000",
          "2024-09-22T12:02:00.000000000",
          "2024-09-22T17:02:00.000000000",
          "2024-09-23T12:05:00.000000000",
          "2024-09-23T17:39:00.000000000",
          "2024-09-24T11:59:00.000000000",
          "2024-09-24T18:42:00.000000000",
          "2024-09-25T11:59:00.000000000",
          "2024-09-25T16:58:00.000000000",
          "2024-09-26T11:59:00.000000000",
          "2024-09-26T17:25:00.000000000",
          "2024-09-27T12:05:00.000000000",
          "2024-09-27T19:22:00.000000000",
          "2024-09-28T17:13:00.000000000",
          "2024-09-29T12:59:00.000000000",
          "2024-09-29T22:25:00.000000000",
          "2024-09-30T12:00:00.000000000",
          "2024-09-30T17:31:00.000000000",
          "2024-09-30T22:21:00.000000000",
          "2024-10-01T11:59:00.000000000",
          "2024-10-01T16:59:00.000000000",
          "2024-10-02T11:59:00.000000000",
          "2024-10-02T17:00:00.000000000",
          "2024-10-03T11:59:00.000000000",
          "2024-10-03T18:34:00.000000000",
          "2024-10-04T12:07:00.000000000",
          "2024-10-04T16:58:00.000000000",
          "2024-10-05T14:16:00.000000000",
          "2024-10-06T10:44:00.000000000",
          "2024-10-07T12:02:00.000000000",
          "2024-10-07T16:58:00.000000000",
          "2024-10-08T13:12:00.000000000",
          "2024-10-09T12:47:00.000000000",
          "2024-10-09T16:44:00.000000000",
          "2024-10-10T13:23:00.000000000",
          "2024-10-10T18:10:00.000000000",
          "2024-10-10T22:15:00.000000000",
          "2024-10-11T11:59:00.000000000",
          "2024-10-11T18:17:00.000000000",
          "2024-10-11T22:40:00.000000000",
          "2024-10-12T13:04:00.000000000",
          "2024-10-12T19:19:00.000000000",
          "2024-10-13T11:59:00.000000000",
          "2024-10-13T17:25:00.000000000",
          "2024-10-14T13:05:00.000000000",
          "2024-10-14T20:11:00.000000000",
          "2024-10-15T11:39:00.000000000",
          "2024-10-15T18:42:00.000000000",
          "2024-10-16T12:04:00.000000000",
          "2024-10-16T17:00:00.000000000",
          "2024-10-17T12:18:00.000000000",
          "2024-10-17T18:58:00.000000000",
          "2024-10-18T12:59:00.000000000",
          "2024-10-19T13:47:00.000000000",
          "2024-10-19T17:21:00.000000000",
          "2024-10-19T21:31:00.000000000",
          "2024-10-20T21:23:00.000000000",
          "2024-10-21T11:58:00.000000000",
          "2024-10-21T17:31:00.000000000",
          "2024-10-22T11:59:00.000000000",
          "2024-10-22T17:54:00.000000000",
          "2024-10-23T15:21:00.000000000",
          "2024-10-24T11:59:00.000000000",
          "2024-10-24T19:24:00.000000000",
          "2024-10-25T13:01:00.000000000",
          "2024-10-26T15:18:00.000000000",
          "2024-10-26T17:48:00.000000000",
          "2024-10-27T11:59:00.000000000",
          "2024-10-28T12:14:00.000000000",
          "2024-10-28T17:30:00.000000000",
          "2024-10-29T12:01:00.000000000",
          "2024-10-29T17:24:00.000000000",
          "2024-10-30T12:22:00.000000000",
          "2024-10-30T17:10:00.000000000",
          "2024-10-31T12:00:00.000000000",
          "2024-10-31T21:21:00.000000000",
          "2024-11-01T11:59:00.000000000",
          "2024-11-01T23:22:00.000000000",
          "2024-11-02T13:03:00.000000000",
          "2024-11-02T16:59:00.000000000",
          "2024-11-03T17:01:00.000000000",
          "2024-11-04T13:35:00.000000000",
          "2024-11-04T17:50:00.000000000",
          "2024-11-05T16:04:00.000000000",
          "2024-11-06T17:11:00.000000000",
          "2024-11-07T12:27:00.000000000",
          "2024-11-07T17:34:00.000000000",
          "2024-11-08T11:59:00.000000000",
          "2024-11-08T17:05:00.000000000",
          "2024-11-09T11:58:00.000000000",
          "2024-11-09T22:02:00.000000000",
          "2024-11-10T18:28:00.000000000",
          "2024-11-11T13:13:00.000000000",
          "2024-11-11T19:19:00.000000000",
          "2024-11-12T12:09:00.000000000",
          "2024-11-12T22:18:00.000000000",
          "2024-11-13T12:00:00.000000000",
          "2024-11-14T11:52:00.000000000",
          "2024-11-14T21:00:00.000000000",
          "2024-11-15T12:26:00.000000000",
          "2024-11-15T17:27:00.000000000",
          "2024-11-16T13:37:00.000000000",
          "2024-11-16T18:40:00.000000000",
          "2024-11-17T17:52:00.000000000",
          "2024-11-18T12:49:00.000000000",
          "2024-11-18T20:21:00.000000000",
          "2024-11-19T12:30:00.000000000",
          "2024-11-19T18:48:00.000000000",
          "2024-11-20T12:21:00.000000000",
          "2024-11-20T19:02:00.000000000",
          "2024-11-20T22:28:00.000000000",
          "2024-11-21T11:59:00.000000000",
          "2024-11-21T20:51:00.000000000",
          "2024-11-22T11:59:00.000000000",
          "2024-11-22T17:15:00.000000000",
          "2024-11-22T23:27:00.000000000",
          "2024-11-23T11:58:00.000000000",
          "2024-11-23T19:18:00.000000000",
          "2024-11-23T22:24:00.000000000",
          "2024-11-25T11:54:00.000000000",
          "2024-11-25T16:58:00.000000000",
          "2024-11-25T23:08:00.000000000",
          "2024-11-26T11:59:00.000000000",
          "2024-11-26T18:20:00.000000000",
          "2024-11-26T22:02:00.000000000",
          "2024-11-27T13:23:00.000000000",
          "2024-11-27T18:31:00.000000000",
          "2024-11-28T14:46:00.000000000",
          "2024-11-28T23:32:00.000000000",
          "2024-11-29T13:35:00.000000000",
          "2024-11-29T16:58:00.000000000",
          "2024-11-30T14:11:00.000000000",
          "2024-11-30T17:00:00.000000000",
          "2024-12-01T13:58:00.000000000",
          "2024-12-02T11:32:00.000000000",
          "2024-12-02T18:46:00.000000000",
          "2024-12-03T12:08:00.000000000",
          "2024-12-03T18:21:00.000000000",
          "2024-12-04T12:15:00.000000000",
          "2024-12-04T17:42:00.000000000",
          "2024-12-05T12:37:00.000000000",
          "2024-12-05T20:15:00.000000000",
          "2024-12-06T12:00:00.000000000",
          "2024-12-06T17:06:00.000000000",
          "2024-12-07T12:28:00.000000000",
          "2024-12-08T11:59:00.000000000",
          "2024-12-09T11:59:00.000000000",
          "2024-12-09T17:50:00.000000000",
          "2024-12-10T12:31:00.000000000",
          "2024-12-10T19:05:00.000000000",
          "2024-12-11T12:00:00.000000000",
          "2024-12-11T18:24:00.000000000",
          "2024-12-12T12:01:00.000000000",
          "2024-12-12T18:02:00.000000000",
          "2024-12-13T11:59:00.000000000",
          "2024-12-13T19:24:00.000000000",
          "2024-12-14T11:59:00.000000000",
          "2024-12-16T14:01:00.000000000",
          "2024-12-16T17:51:00.000000000",
          "2024-12-17T11:59:00.000000000",
          "2024-12-17T18:08:00.000000000",
          "2024-12-18T12:00:00.000000000",
          "2024-12-18T17:19:00.000000000",
          "2024-12-19T12:07:00.000000000",
          "2024-12-19T17:03:00.000000000",
          "2024-12-20T12:06:00.000000000",
          "2024-12-20T19:40:00.000000000",
          "2024-12-21T16:59:00.000000000",
          "2024-12-22T16:05:00.000000000",
          "2024-12-23T12:05:00.000000000",
          "2024-12-23T17:22:00.000000000",
          "2024-12-24T12:02:00.000000000",
          "2024-12-24T17:53:00.000000000",
          "2024-12-25T11:59:00.000000000",
          "2024-12-25T17:11:00.000000000",
          "2024-12-26T12:42:00.000000000",
          "2024-12-26T17:08:00.000000000",
          "2024-12-27T21:27:00.000000000",
          "2024-12-28T14:31:00.000000000",
          "2024-12-30T12:25:00.000000000",
          "2024-12-30T17:34:00.000000000",
          "2024-12-31T14:48:00.000000000",
          "2024-12-31T16:58:00.000000000",
          "2025-01-01T14:22:00.000000000",
          "2025-01-01T17:30:00.000000000",
          "2025-01-02T17:20:00.000000000",
          "2025-01-03T11:44:00.000000000",
          "2025-01-04T17:12:00.000000000",
          "2025-01-05T11:59:00.000000000",
          "2025-01-05T16:58:00.000000000",
          "2025-01-06T17:51:00.000000000",
          "2025-01-07T23:39:00.000000000",
          "2025-01-08T11:10:00.000000000",
          "2025-01-08T17:16:00.000000000",
          "2025-01-09T12:07:00.000000000",
          "2025-01-09T16:54:00.000000000",
          "2025-01-10T15:18:00.000000000",
          "2025-01-10T17:18:00.000000000",
          "2025-01-11T11:59:00.000000000",
          "2025-01-12T11:59:00.000000000",
          "2025-01-13T17:42:00.000000000",
          "2025-01-14T11:59:00.000000000",
          "2025-01-14T18:26:00.000000000",
          "2025-01-15T11:59:00.000000000",
          "2025-01-15T19:28:00.000000000",
          "2025-01-16T12:58:00.000000000",
          "2025-01-16T20:52:00.000000000",
          "2025-01-17T11:55:00.000000000",
          "2025-01-17T18:28:00.000000000",
          "2025-01-18T16:26:00.000000000",
          "2025-01-19T21:49:00.000000000",
          "2025-01-20T11:59:00.000000000",
          "2025-01-20T18:05:00.000000000",
          "2025-01-21T15:36:00.000000000",
          "2025-01-22T11:58:00.000000000",
          "2025-01-22T16:58:00.000000000",
          "2025-01-23T12:22:00.000000000",
          "2025-01-23T16:47:00.000000000",
          "2025-01-24T11:44:00.000000000",
          "2025-01-25T13:32:00.000000000",
          "2025-01-25T17:13:00.000000000",
          "2025-01-26T16:25:00.000000000",
          "2025-01-27T13:08:00.000000000",
          "2025-01-27T18:20:00.000000000",
          "2025-01-28T12:03:00.000000000",
          "2025-01-29T13:37:00.000000000",
          "2025-01-29T21:59:00.000000000",
          "2025-01-30T12:56:00.000000000",
          "2025-01-30T18:59:00.000000000",
          "2025-01-31T14:44:00.000000000",
          "2025-01-31T20:01:00.000000000",
          "2025-02-01T16:06:00.000000000",
          "2025-02-01T19:26:00.000000000",
          "2025-02-03T12:05:00.000000000",
          "2025-02-03T18:34:00.000000000",
          "2025-02-04T12:16:00.000000000",
          "2025-02-05T13:09:00.000000000",
          "2025-02-05T21:08:00.000000000",
          "2025-02-06T12:03:00.000000000",
          "2025-02-06T16:30:00.000000000",
          "2025-02-07T12:00:00.000000000",
          "2025-02-08T15:20:00.000000000",
          "2025-02-08T17:44:00.000000000",
          "2025-02-09T11:59:00.000000000",
          "2025-02-10T12:25:00.000000000",
          "2025-02-10T16:59:00.000000000",
          "2025-02-11T11:59:00.000000000",
          "2025-02-11T17:00:00.000000000",
          "2025-02-12T11:42:00.000000000",
          "2025-02-13T12:40:00.000000000",
          "2025-02-13T17:00:00.000000000",
          "2025-02-14T13:08:00.000000000",
          "2025-02-14T17:20:00.000000000",
          "2025-02-15T14:14:00.000000000",
          "2025-02-15T16:59:00.000000000",
          "2025-02-16T15:11:00.000000000",
          "2025-02-17T14:52:00.000000000",
          "2025-02-17T17:47:00.000000000",
          "2025-02-18T12:40:00.000000000",
          "2025-02-18T18:53:00.000000000",
          "2025-02-19T12:11:00.000000000",
          "2025-02-19T19:29:00.000000000",
          "2025-02-20T12:28:00.000000000",
          "2025-02-20T17:12:00.000000000",
          "2025-02-21T12:01:00.000000000",
          "2025-02-21T17:06:00.000000000",
          "2025-02-22T13:08:00.000000000",
          "2025-02-22T17:23:00.000000000",
          "2025-02-23T17:56:00.000000000",
          "2025-02-24T12:26:00.000000000",
          "2025-02-25T11:53:00.000000000",
          "2025-02-25T19:29:00.000000000",
          "2025-02-26T11:59:00.000000000",
          "2025-02-26T20:34:00.000000000",
          "2025-02-27T13:37:00.000000000",
          "2025-02-27T17:39:00.000000000",
          "2025-02-28T11:44:00.000000000",
          "2025-02-28T16:50:00.000000000",
          "2025-03-01T13:57:00.000000000",
          "2025-03-01T18:35:00.000000000",
          "2025-03-02T13:30:00.000000000",
          "2025-03-04T13:01:00.000000000",
          "2025-03-05T12:53:00.000000000",
          "2025-03-05T20:07:00.000000000",
          "2025-03-06T17:10:00.000000000",
          "2025-03-07T12:38:00.000000000",
          "2025-03-08T11:59:00.000000000",
          "2025-03-10T12:02:00.000000000",
          "2025-03-10T19:55:00.000000000",
          "2025-03-11T16:56:00.000000000",
          "2025-03-12T12:34:00.000000000",
          "2025-03-12T18:26:00.000000000",
          "2025-03-12T23:11:00.000000000",
          "2025-03-13T11:43:00.000000000",
          "2025-03-13T19:39:00.000000000",
          "2025-03-13T22:43:00.000000000",
          "2025-03-14T11:59:00.000000000",
          "2025-03-14T16:59:00.000000000",
          "2025-03-15T13:59:00.000000000",
          "2025-03-15T16:58:00.000000000",
          "2025-03-16T16:59:00.000000000",
          "2025-03-17T11:55:00.000000000",
          "2025-03-17T21:07:00.000000000",
          "2025-03-18T12:08:00.000000000",
          "2025-03-18T18:52:00.000000000",
          "2025-03-19T13:13:00.000000000",
          "2025-03-19T18:04:00.000000000",
          "2025-03-20T12:00:00.000000000",
          "2025-03-21T11:59:00.000000000",
          "2025-03-21T19:15:00.000000000",
          "2025-03-22T16:42:00.000000000",
          "2025-03-24T12:04:00.000000000",
          "2025-03-24T16:56:00.000000000",
          "2025-03-25T12:07:00.000000000",
          "2025-03-25T17:27:00.000000000",
          "2025-03-26T11:59:00.000000000",
          "2025-03-26T16:52:00.000000000",
          "2025-03-27T12:03:00.000000000",
          "2025-03-27T19:32:00.000000000",
          "2025-03-28T12:24:00.000000000",
          "2025-03-28T17:10:00.000000000",
          "2025-03-29T13:38:00.000000000",
          "2025-03-29T16:58:00.000000000",
          "2025-03-30T11:58:00.000000000",
          "2025-03-30T15:59:00.000000000",
          "2025-03-31T12:08:00.000000000",
          "2025-03-31T16:59:00.000000000",
          "2025-04-01T12:00:00.000000000",
          "2025-04-01T20:13:00.000000000",
          "2025-04-02T13:10:00.000000000",
          "2025-04-02T18:32:00.000000000",
          "2025-04-03T15:08:00.000000000",
          "2025-04-03T19:08:00.000000000",
          "2025-04-04T11:59:00.000000000",
          "2025-04-04T18:16:00.000000000",
          "2025-04-05T13:25:00.000000000",
          "2025-04-05T17:01:00.000000000",
          "2025-04-06T13:01:00.000000000",
          "2025-04-07T12:11:00.000000000",
          "2025-04-07T18:00:00.000000000",
          "2025-04-08T12:13:00.000000000",
          "2025-04-08T17:37:00.000000000",
          "2025-04-09T12:29:00.000000000",
          "2025-04-09T20:45:00.000000000",
          "2025-04-10T12:15:00.000000000",
          "2025-04-10T18:39:00.000000000",
          "2025-04-11T14:54:00.000000000",
          "2025-04-11T17:00:00.000000000",
          "2025-04-12T12:14:00.000000000",
          "2025-04-12T17:16:00.000000000",
          "2025-04-13T12:00:00.000000000",
          "2025-04-13T17:03:00.000000000",
          "2025-04-14T12:06:00.000000000"
         ],
         "y": {
          "bdata": "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",
          "dtype": "f8"
         }
        },
        {
         "line": {
          "color": "red"
         },
         "mode": "lines",
         "name": "Sell",
         "type": "scatter",
         "x": [
          "2023-09-21T18:00:00.000000000",
          "2023-09-22T18:00:00.000000000",
          "2023-11-18T10:00:00.000000000",
          "2023-12-12T17:00:00.000000000",
          "2024-02-22T09:47:00.000000000",
          "2024-02-26T12:59:00.000000000",
          "2024-03-01T11:38:00.000000000",
          "2024-03-13T11:44:00.000000000",
          "2024-03-25T08:49:00.000000000",
          "2024-05-06T13:09:00.000000000",
          "2024-05-22T09:37:00.000000000",
          "2024-05-23T17:41:00.000000000",
          "2024-06-14T12:35:00.000000000",
          "2024-06-17T08:40:00.000000000",
          "2024-06-18T11:53:00.000000000",
          "2024-06-19T11:58:00.000000000",
          "2024-06-20T12:35:00.000000000",
          "2024-06-21T10:38:00.000000000",
          "2024-06-22T10:36:00.000000000",
          "2024-06-23T14:56:00.000000000",
          "2024-06-24T11:07:00.000000000",
          "2024-06-25T11:34:00.000000000",
          "2024-06-26T11:15:00.000000000",
          "2024-06-26T22:24:00.000000000",
          "2024-06-27T00:21:00.000000000",
          "2024-06-27T10:33:00.000000000",
          "2024-06-27T17:57:00.000000000",
          "2024-06-28T11:35:00.000000000",
          "2024-06-29T12:24:00.000000000",
          "2024-06-30T10:15:00.000000000",
          "2024-07-01T12:30:00.000000000",
          "2024-07-02T13:13:00.000000000",
          "2024-07-03T12:08:00.000000000",
          "2024-07-04T09:46:00.000000000",
          "2024-07-05T16:17:00.000000000",
          "2024-07-05T17:08:00.000000000",
          "2024-07-06T11:00:00.000000000",
          "2024-07-07T17:04:00.000000000",
          "2024-07-08T10:01:00.000000000",
          "2024-07-09T15:42:00.000000000",
          "2024-07-10T10:19:00.000000000",
          "2024-07-11T09:45:00.000000000",
          "2024-07-12T12:59:00.000000000",
          "2024-07-13T13:00:00.000000000",
          "2024-07-14T12:59:00.000000000",
          "2024-07-15T10:15:00.000000000",
          "2024-07-16T09:21:00.000000000",
          "2024-07-17T12:46:00.000000000",
          "2024-07-18T10:28:00.000000000",
          "2024-07-18T19:16:00.000000000",
          "2024-07-19T12:49:00.000000000",
          "2024-07-20T12:22:00.000000000",
          "2024-07-21T11:19:00.000000000",
          "2024-07-22T09:28:00.000000000",
          "2024-07-23T09:56:00.000000000",
          "2024-07-24T13:02:00.000000000",
          "2024-07-25T08:44:00.000000000",
          "2024-07-26T12:59:00.000000000",
          "2024-07-28T12:59:00.000000000",
          "2024-07-29T11:12:00.000000000",
          "2024-07-30T00:00:00.000000000",
          "2024-07-30T10:29:00.000000000",
          "2024-07-31T17:41:00.000000000",
          "2024-07-31T22:41:00.000000000",
          "2024-08-01T10:19:00.000000000",
          "2024-08-01T13:21:00.000000000",
          "2024-08-01T16:55:00.000000000",
          "2024-08-02T11:11:00.000000000",
          "2024-08-02T18:08:00.000000000",
          "2024-08-03T14:42:00.000000000",
          "2024-08-04T13:15:00.000000000",
          "2024-08-04T16:58:00.000000000",
          "2024-08-05T16:59:00.000000000",
          "2024-08-05T23:24:00.000000000",
          "2024-08-06T12:33:00.000000000",
          "2024-08-06T17:12:00.000000000",
          "2024-08-07T12:14:00.000000000",
          "2024-08-07T17:01:00.000000000",
          "2024-08-08T11:56:00.000000000",
          "2024-08-08T17:00:00.000000000",
          "2024-08-08T17:21:00.000000000",
          "2024-08-09T12:45:00.000000000",
          "2024-08-09T16:38:00.000000000",
          "2024-08-09T21:29:00.000000000",
          "2024-08-10T12:06:00.000000000",
          "2024-08-10T16:46:00.000000000",
          "2024-08-10T21:04:00.000000000",
          "2024-08-11T23:01:00.000000000",
          "2024-08-12T12:00:00.000000000",
          "2024-08-12T17:34:00.000000000",
          "2024-08-12T21:35:00.000000000",
          "2024-08-13T12:11:00.000000000",
          "2024-08-13T18:19:00.000000000",
          "2024-08-13T22:13:00.000000000",
          "2024-08-14T14:26:00.000000000",
          "2024-08-14T16:59:00.000000000",
          "2024-08-14T22:33:00.000000000",
          "2024-08-15T11:37:00.000000000",
          "2024-08-15T18:19:00.000000000",
          "2024-08-15T22:13:00.000000000",
          "2024-08-16T12:16:00.000000000",
          "2024-08-16T16:59:00.000000000",
          "2024-08-16T22:45:00.000000000",
          "2024-08-17T11:58:00.000000000",
          "2024-08-17T17:00:00.000000000",
          "2024-08-18T13:43:00.000000000",
          "2024-08-18T17:07:00.000000000",
          "2024-08-19T12:16:00.000000000",
          "2024-08-19T19:58:00.000000000",
          "2024-08-20T12:19:00.000000000",
          "2024-08-20T17:57:00.000000000",
          "2024-08-20T22:31:00.000000000",
          "2024-08-21T13:09:00.000000000",
          "2024-08-21T23:04:00.000000000",
          "2024-08-22T11:59:00.000000000",
          "2024-08-22T17:24:00.000000000",
          "2024-08-23T11:59:00.000000000",
          "2024-08-23T17:22:00.000000000",
          "2024-08-24T12:35:00.000000000",
          "2024-08-24T18:54:00.000000000",
          "2024-08-24T22:41:00.000000000",
          "2024-08-25T13:38:00.000000000",
          "2024-08-25T17:22:00.000000000",
          "2024-08-26T14:01:00.000000000",
          "2024-08-26T16:35:00.000000000",
          "2024-08-26T20:05:00.000000000",
          "2024-08-27T12:20:00.000000000",
          "2024-08-27T16:59:00.000000000",
          "2024-08-27T21:48:00.000000000",
          "2024-08-28T13:13:00.000000000",
          "2024-08-28T18:52:00.000000000",
          "2024-08-28T22:46:00.000000000",
          "2024-08-29T12:37:00.000000000",
          "2024-08-29T17:00:00.000000000",
          "2024-08-30T12:50:00.000000000",
          "2024-08-30T17:08:00.000000000",
          "2024-08-31T12:39:00.000000000",
          "2024-08-31T17:16:00.000000000",
          "2024-09-01T15:28:00.000000000",
          "2024-09-01T23:18:00.000000000",
          "2024-09-02T12:25:00.000000000",
          "2024-09-02T17:32:00.000000000",
          "2024-09-03T12:27:00.000000000",
          "2024-09-03T18:04:00.000000000",
          "2024-09-04T12:36:00.000000000",
          "2024-09-04T19:25:00.000000000",
          "2024-09-05T15:05:00.000000000",
          "2024-09-05T16:59:00.000000000",
          "2024-09-06T11:59:00.000000000",
          "2024-09-06T12:02:00.000000000",
          "2024-09-06T17:20:00.000000000",
          "2024-09-06T21:41:00.000000000",
          "2024-09-07T15:07:00.000000000",
          "2024-09-07T20:55:00.000000000",
          "2024-09-08T18:03:00.000000000",
          "2024-09-09T12:59:00.000000000",
          "2024-09-09T22:11:00.000000000",
          "2024-09-10T12:34:00.000000000",
          "2024-09-10T17:58:00.000000000",
          "2024-09-10T22:55:00.000000000",
          "2024-09-11T12:59:00.000000000",
          "2024-09-11T18:52:00.000000000",
          "2024-09-12T12:59:00.000000000",
          "2024-09-12T17:40:00.000000000",
          "2024-09-12T22:23:00.000000000",
          "2024-09-13T12:46:00.000000000",
          "2024-09-13T17:00:00.000000000",
          "2024-09-13T22:26:00.000000000",
          "2024-09-14T14:10:00.000000000",
          "2024-09-14T17:43:00.000000000",
          "2024-09-15T12:48:00.000000000",
          "2024-09-15T19:12:00.000000000",
          "2024-09-16T11:36:00.000000000",
          "2024-09-16T21:45:00.000000000",
          "2024-09-17T12:01:00.000000000",
          "2024-09-17T16:49:00.000000000",
          "2024-09-17T22:09:00.000000000",
          "2024-09-18T11:59:00.000000000",
          "2024-09-18T23:00:00.000000000",
          "2024-09-19T11:53:00.000000000",
          "2024-09-19T17:00:00.000000000",
          "2024-09-19T23:50:00.000000000",
          "2024-09-20T12:00:00.000000000",
          "2024-09-20T17:20:00.000000000",
          "2024-09-21T13:38:00.000000000",
          "2024-09-21T17:02:00.000000000",
          "2024-09-22T12:02:00.000000000",
          "2024-09-22T17:02:00.000000000",
          "2024-09-23T12:05:00.000000000",
          "2024-09-23T17:39:00.000000000",
          "2024-09-24T11:59:00.000000000",
          "2024-09-24T18:42:00.000000000",
          "2024-09-25T11:59:00.000000000",
          "2024-09-25T16:58:00.000000000",
          "2024-09-26T11:59:00.000000000",
          "2024-09-26T17:25:00.000000000",
          "2024-09-27T12:05:00.000000000",
          "2024-09-27T19:22:00.000000000",
          "2024-09-28T17:13:00.000000000",
          "2024-09-29T12:59:00.000000000",
          "2024-09-29T22:25:00.000000000",
          "2024-09-30T12:00:00.000000000",
          "2024-09-30T17:31:00.000000000",
          "2024-09-30T22:21:00.000000000",
          "2024-10-01T11:59:00.000000000",
          "2024-10-01T16:59:00.000000000",
          "2024-10-02T11:59:00.000000000",
          "2024-10-02T17:00:00.000000000",
          "2024-10-03T11:59:00.000000000",
          "2024-10-03T18:34:00.000000000",
          "2024-10-04T12:07:00.000000000",
          "2024-10-04T16:58:00.000000000",
          "2024-10-05T14:16:00.000000000",
          "2024-10-06T10:44:00.000000000",
          "2024-10-07T12:02:00.000000000",
          "2024-10-07T16:58:00.000000000",
          "2024-10-08T13:12:00.000000000",
          "2024-10-09T12:47:00.000000000",
          "2024-10-09T16:44:00.000000000",
          "2024-10-10T13:23:00.000000000",
          "2024-10-10T18:10:00.000000000",
          "2024-10-10T22:15:00.000000000",
          "2024-10-11T11:59:00.000000000",
          "2024-10-11T18:17:00.000000000",
          "2024-10-11T22:40:00.000000000",
          "2024-10-12T13:04:00.000000000",
          "2024-10-12T19:19:00.000000000",
          "2024-10-13T11:59:00.000000000",
          "2024-10-13T17:25:00.000000000",
          "2024-10-14T13:05:00.000000000",
          "2024-10-14T20:11:00.000000000",
          "2024-10-15T11:39:00.000000000",
          "2024-10-15T18:42:00.000000000",
          "2024-10-16T12:04:00.000000000",
          "2024-10-16T17:00:00.000000000",
          "2024-10-17T12:18:00.000000000",
          "2024-10-17T18:58:00.000000000",
          "2024-10-18T12:59:00.000000000",
          "2024-10-19T13:47:00.000000000",
          "2024-10-19T17:21:00.000000000",
          "2024-10-19T21:31:00.000000000",
          "2024-10-20T21:23:00.000000000",
          "2024-10-21T11:58:00.000000000",
          "2024-10-21T17:31:00.000000000",
          "2024-10-22T11:59:00.000000000",
          "2024-10-22T17:54:00.000000000",
          "2024-10-23T15:21:00.000000000",
          "2024-10-24T11:59:00.000000000",
          "2024-10-24T19:24:00.000000000",
          "2024-10-25T13:01:00.000000000",
          "2024-10-26T15:18:00.000000000",
          "2024-10-26T17:48:00.000000000",
          "2024-10-27T11:59:00.000000000",
          "2024-10-28T12:14:00.000000000",
          "2024-10-28T17:30:00.000000000",
          "2024-10-29T12:01:00.000000000",
          "2024-10-29T17:24:00.000000000",
          "2024-10-30T12:22:00.000000000",
          "2024-10-30T17:10:00.000000000",
          "2024-10-31T12:00:00.000000000",
          "2024-10-31T21:21:00.000000000",
          "2024-11-01T11:59:00.000000000",
          "2024-11-01T23:22:00.000000000",
          "2024-11-02T13:03:00.000000000",
          "2024-11-02T16:59:00.000000000",
          "2024-11-03T17:01:00.000000000",
          "2024-11-04T13:35:00.000000000",
          "2024-11-04T17:50:00.000000000",
          "2024-11-05T16:04:00.000000000",
          "2024-11-06T17:11:00.000000000",
          "2024-11-07T12:27:00.000000000",
          "2024-11-07T17:34:00.000000000",
          "2024-11-08T11:59:00.000000000",
          "2024-11-08T17:05:00.000000000",
          "2024-11-09T11:58:00.000000000",
          "2024-11-09T22:02:00.000000000",
          "2024-11-10T18:28:00.000000000",
          "2024-11-11T13:13:00.000000000",
          "2024-11-11T19:19:00.000000000",
          "2024-11-12T12:09:00.000000000",
          "2024-11-12T22:18:00.000000000",
          "2024-11-13T12:00:00.000000000",
          "2024-11-14T11:52:00.000000000",
          "2024-11-14T21:00:00.000000000",
          "2024-11-15T12:26:00.000000000",
          "2024-11-15T17:27:00.000000000",
          "2024-11-16T13:37:00.000000000",
          "2024-11-16T18:40:00.000000000",
          "2024-11-17T17:52:00.000000000",
          "2024-11-18T12:49:00.000000000",
          "2024-11-18T20:21:00.000000000",
          "2024-11-19T12:30:00.000000000",
          "2024-11-19T18:48:00.000000000",
          "2024-11-20T12:21:00.000000000",
          "2024-11-20T19:02:00.000000000",
          "2024-11-20T22:28:00.000000000",
          "2024-11-21T11:59:00.000000000",
          "2024-11-21T20:51:00.000000000",
          "2024-11-22T11:59:00.000000000",
          "2024-11-22T17:15:00.000000000",
          "2024-11-22T23:27:00.000000000",
          "2024-11-23T11:58:00.000000000",
          "2024-11-23T19:18:00.000000000",
          "2024-11-23T22:24:00.000000000",
          "2024-11-25T11:54:00.000000000",
          "2024-11-25T16:58:00.000000000",
          "2024-11-25T23:08:00.000000000",
          "2024-11-26T11:59:00.000000000",
          "2024-11-26T18:20:00.000000000",
          "2024-11-26T22:02:00.000000000",
          "2024-11-27T13:23:00.000000000",
          "2024-11-27T18:31:00.000000000",
          "2024-11-28T14:46:00.000000000",
          "2024-11-28T23:32:00.000000000",
          "2024-11-29T13:35:00.000000000",
          "2024-11-29T16:58:00.000000000",
          "2024-11-30T14:11:00.000000000",
          "2024-11-30T17:00:00.000000000",
          "2024-12-01T13:58:00.000000000",
          "2024-12-02T11:32:00.000000000",
          "2024-12-02T18:46:00.000000000",
          "2024-12-03T12:08:00.000000000",
          "2024-12-03T18:21:00.000000000",
          "2024-12-04T12:15:00.000000000",
          "2024-12-04T17:42:00.000000000",
          "2024-12-05T12:37:00.000000000",
          "2024-12-05T20:15:00.000000000",
          "2024-12-06T12:00:00.000000000",
          "2024-12-06T17:06:00.000000000",
          "2024-12-07T12:28:00.000000000",
          "2024-12-08T11:59:00.000000000",
          "2024-12-09T11:59:00.000000000",
          "2024-12-09T17:50:00.000000000",
          "2024-12-10T12:31:00.000000000",
          "2024-12-10T19:05:00.000000000",
          "2024-12-11T12:00:00.000000000",
          "2024-12-11T18:24:00.000000000",
          "2024-12-12T12:01:00.000000000",
          "2024-12-12T18:02:00.000000000",
          "2024-12-13T11:59:00.000000000",
          "2024-12-13T19:24:00.000000000",
          "2024-12-14T11:59:00.000000000",
          "2024-12-16T14:01:00.000000000",
          "2024-12-16T17:51:00.000000000",
          "2024-12-17T11:59:00.000000000",
          "2024-12-17T18:08:00.000000000",
          "2024-12-18T12:00:00.000000000",
          "2024-12-18T17:19:00.000000000",
          "2024-12-19T12:07:00.000000000",
          "2024-12-19T17:03:00.000000000",
          "2024-12-20T12:06:00.000000000",
          "2024-12-20T19:40:00.000000000",
          "2024-12-21T16:59:00.000000000",
          "2024-12-22T16:05:00.000000000",
          "2024-12-23T12:05:00.000000000",
          "2024-12-23T17:22:00.000000000",
          "2024-12-24T12:02:00.000000000",
          "2024-12-24T17:53:00.000000000",
          "2024-12-25T11:59:00.000000000",
          "2024-12-25T17:11:00.000000000",
          "2024-12-26T12:42:00.000000000",
          "2024-12-26T17:08:00.000000000",
          "2024-12-27T21:27:00.000000000",
          "2024-12-28T14:31:00.000000000",
          "2024-12-30T12:25:00.000000000",
          "2024-12-30T17:34:00.000000000",
          "2024-12-31T14:48:00.000000000",
          "2024-12-31T16:58:00.000000000",
          "2025-01-01T14:22:00.000000000",
          "2025-01-01T17:30:00.000000000",
          "2025-01-02T17:20:00.000000000",
          "2025-01-03T11:44:00.000000000",
          "2025-01-04T17:12:00.000000000",
          "2025-01-05T11:59:00.000000000",
          "2025-01-05T16:58:00.000000000",
          "2025-01-06T17:51:00.000000000",
          "2025-01-07T23:39:00.000000000",
          "2025-01-08T11:10:00.000000000",
          "2025-01-08T17:16:00.000000000",
          "2025-01-09T12:07:00.000000000",
          "2025-01-09T16:54:00.000000000",
          "2025-01-10T15:18:00.000000000",
          "2025-01-10T17:18:00.000000000",
          "2025-01-11T11:59:00.000000000",
          "2025-01-12T11:59:00.000000000",
          "2025-01-13T17:42:00.000000000",
          "2025-01-14T11:59:00.000000000",
          "2025-01-14T18:26:00.000000000",
          "2025-01-15T11:59:00.000000000",
          "2025-01-15T19:28:00.000000000",
          "2025-01-16T12:58:00.000000000",
          "2025-01-16T20:52:00.000000000",
          "2025-01-17T11:55:00.000000000",
          "2025-01-17T18:28:00.000000000",
          "2025-01-18T16:26:00.000000000",
          "2025-01-19T21:49:00.000000000",
          "2025-01-20T11:59:00.000000000",
          "2025-01-20T18:05:00.000000000",
          "2025-01-21T15:36:00.000000000",
          "2025-01-22T11:58:00.000000000",
          "2025-01-22T16:58:00.000000000",
          "2025-01-23T12:22:00.000000000",
          "2025-01-23T16:47:00.000000000",
          "2025-01-24T11:44:00.000000000",
          "2025-01-25T13:32:00.000000000",
          "2025-01-25T17:13:00.000000000",
          "2025-01-26T16:25:00.000000000",
          "2025-01-27T13:08:00.000000000",
          "2025-01-27T18:20:00.000000000",
          "2025-01-28T12:03:00.000000000",
          "2025-01-29T13:37:00.000000000",
          "2025-01-29T21:59:00.000000000",
          "2025-01-30T12:56:00.000000000",
          "2025-01-30T18:59:00.000000000",
          "2025-01-31T14:44:00.000000000",
          "2025-01-31T20:01:00.000000000",
          "2025-02-01T16:06:00.000000000",
          "2025-02-01T19:26:00.000000000",
          "2025-02-03T12:05:00.000000000",
          "2025-02-03T18:34:00.000000000",
          "2025-02-04T12:16:00.000000000",
          "2025-02-05T13:09:00.000000000",
          "2025-02-05T21:08:00.000000000",
          "2025-02-06T12:03:00.000000000",
          "2025-02-06T16:30:00.000000000",
          "2025-02-07T12:00:00.000000000",
          "2025-02-08T15:20:00.000000000",
          "2025-02-08T17:44:00.000000000",
          "2025-02-09T11:59:00.000000000",
          "2025-02-10T12:25:00.000000000",
          "2025-02-10T16:59:00.000000000",
          "2025-02-11T11:59:00.000000000",
          "2025-02-11T17:00:00.000000000",
          "2025-02-12T11:42:00.000000000",
          "2025-02-13T12:40:00.000000000",
          "2025-02-13T17:00:00.000000000",
          "2025-02-14T13:08:00.000000000",
          "2025-02-14T17:20:00.000000000",
          "2025-02-15T14:14:00.000000000",
          "2025-02-15T16:59:00.000000000",
          "2025-02-16T15:11:00.000000000",
          "2025-02-17T14:52:00.000000000",
          "2025-02-17T17:47:00.000000000",
          "2025-02-18T12:40:00.000000000",
          "2025-02-18T18:53:00.000000000",
          "2025-02-19T12:11:00.000000000",
          "2025-02-19T19:29:00.000000000",
          "2025-02-20T12:28:00.000000000",
          "2025-02-20T17:12:00.000000000",
          "2025-02-21T12:01:00.000000000",
          "2025-02-21T17:06:00.000000000",
          "2025-02-22T13:08:00.000000000",
          "2025-02-22T17:23:00.000000000",
          "2025-02-23T17:56:00.000000000",
          "2025-02-24T12:26:00.000000000",
          "2025-02-25T11:53:00.000000000",
          "2025-02-25T19:29:00.000000000",
          "2025-02-26T11:59:00.000000000",
          "2025-02-26T20:34:00.000000000",
          "2025-02-27T13:37:00.000000000",
          "2025-02-27T17:39:00.000000000",
          "2025-02-28T11:44:00.000000000",
          "2025-02-28T16:50:00.000000000",
          "2025-03-01T13:57:00.000000000",
          "2025-03-01T18:35:00.000000000",
          "2025-03-02T13:30:00.000000000",
          "2025-03-04T13:01:00.000000000",
          "2025-03-05T12:53:00.000000000",
          "2025-03-05T20:07:00.000000000",
          "2025-03-06T17:10:00.000000000",
          "2025-03-07T12:38:00.000000000",
          "2025-03-08T11:59:00.000000000",
          "2025-03-10T12:02:00.000000000",
          "2025-03-10T19:55:00.000000000",
          "2025-03-11T16:56:00.000000000",
          "2025-03-12T12:34:00.000000000",
          "2025-03-12T18:26:00.000000000",
          "2025-03-12T23:11:00.000000000",
          "2025-03-13T11:43:00.000000000",
          "2025-03-13T19:39:00.000000000",
          "2025-03-13T22:43:00.000000000",
          "2025-03-14T11:59:00.000000000",
          "2025-03-14T16:59:00.000000000",
          "2025-03-15T13:59:00.000000000",
          "2025-03-15T16:58:00.000000000",
          "2025-03-16T16:59:00.000000000",
          "2025-03-17T11:55:00.000000000",
          "2025-03-17T21:07:00.000000000",
          "2025-03-18T12:08:00.000000000",
          "2025-03-18T18:52:00.000000000",
          "2025-03-19T13:13:00.000000000",
          "2025-03-19T18:04:00.000000000",
          "2025-03-20T12:00:00.000000000",
          "2025-03-21T11:59:00.000000000",
          "2025-03-21T19:15:00.000000000",
          "2025-03-22T16:42:00.000000000",
          "2025-03-24T12:04:00.000000000",
          "2025-03-24T16:56:00.000000000",
          "2025-03-25T12:07:00.000000000",
          "2025-03-25T17:27:00.000000000",
          "2025-03-26T11:59:00.000000000",
          "2025-03-26T16:52:00.000000000",
          "2025-03-27T12:03:00.000000000",
          "2025-03-27T19:32:00.000000000",
          "2025-03-28T12:24:00.000000000",
          "2025-03-28T17:10:00.000000000",
          "2025-03-29T13:38:00.000000000",
          "2025-03-29T16:58:00.000000000",
          "2025-03-30T11:58:00.000000000",
          "2025-03-30T15:59:00.000000000",
          "2025-03-31T12:08:00.000000000",
          "2025-03-31T16:59:00.000000000",
          "2025-04-01T12:00:00.000000000",
          "2025-04-01T20:13:00.000000000",
          "2025-04-02T13:10:00.000000000",
          "2025-04-02T18:32:00.000000000",
          "2025-04-03T15:08:00.000000000",
          "2025-04-03T19:08:00.000000000",
          "2025-04-04T11:59:00.000000000",
          "2025-04-04T18:16:00.000000000",
          "2025-04-05T13:25:00.000000000",
          "2025-04-05T17:01:00.000000000",
          "2025-04-06T13:01:00.000000000",
          "2025-04-07T12:11:00.000000000",
          "2025-04-07T18:00:00.000000000",
          "2025-04-08T12:13:00.000000000",
          "2025-04-08T17:37:00.000000000",
          "2025-04-09T12:29:00.000000000",
          "2025-04-09T20:45:00.000000000",
          "2025-04-10T12:15:00.000000000",
          "2025-04-10T18:39:00.000000000",
          "2025-04-11T14:54:00.000000000",
          "2025-04-11T17:00:00.000000000",
          "2025-04-12T12:14:00.000000000",
          "2025-04-12T17:16:00.000000000",
          "2025-04-13T12:00:00.000000000",
          "2025-04-13T17:03:00.000000000",
          "2025-04-14T12:06:00.000000000"
         ],
         "y": {
          "bdata": "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",
          "dtype": "f8"
         }
        },
        {
         "line": {
          "color": "pink"
         },
         "mode": "lines",
         "name": "Bid Price",
         "type": "scatter",
         "x": [
          "2024-07-09T17:43:00.000000000",
          "2024-07-09T17:54:00.000000000",
          "2024-07-10T13:28:00.000000000",
          "2024-07-11T16:29:00.000000000",
          "2024-07-12T13:29:00.000000000",
          "2024-07-12T20:30:00.000000000",
          "2024-07-13T17:53:00.000000000",
          "2024-07-14T16:20:00.000000000",
          "2024-07-15T16:38:00.000000000",
          "2024-07-16T01:11:00.000000000",
          "2024-07-16T14:41:00.000000000",
          "2024-07-17T11:52:00.000000000",
          "2024-07-18T16:21:00.000000000",
          "2024-07-19T18:08:00.000000000",
          "2024-07-20T18:41:00.000000000",
          "2024-07-21T16:06:00.000000000",
          "2024-07-22T22:27:00.000000000",
          "2024-07-23T13:09:00.000000000",
          "2024-07-24T12:24:00.000000000",
          "2024-07-25T12:04:00.000000000",
          "2024-07-26T13:38:00.000000000",
          "2024-07-27T01:19:00.000000000",
          "2024-07-29T14:33:00.000000000",
          "2024-07-30T15:02:00.000000000",
          "2024-07-31T13:25:00.000000000",
          "2024-08-01T12:32:00.000000000",
          "2024-08-04T13:31:00.000000000",
          "2024-08-05T14:32:00.000000000",
          "2024-08-06T14:30:00.000000000",
          "2024-08-07T15:37:00.000000000",
          "2024-08-08T13:50:00.000000000",
          "2024-08-08T21:58:00.000000000",
          "2024-08-08T23:22:00.000000000",
          "2024-08-08T23:25:00.000000000",
          "2024-08-08T23:28:00.000000000",
          "2024-08-08T23:31:00.000000000",
          "2024-08-08T23:34:00.000000000",
          "2024-08-08T23:37:00.000000000",
          "2024-08-08T23:40:00.000000000",
          "2024-08-08T23:43:00.000000000",
          "2024-08-08T23:46:00.000000000",
          "2024-08-08T23:49:00.000000000",
          "2024-08-08T23:52:00.000000000",
          "2024-08-08T23:55:00.000000000",
          "2024-08-08T23:58:00.000000000",
          "2024-08-09T00:01:00.000000000",
          "2024-08-09T00:04:00.000000000",
          "2024-08-09T00:07:00.000000000",
          "2024-08-09T00:10:00.000000000",
          "2024-08-09T00:13:00.000000000",
          "2024-08-09T00:16:00.000000000",
          "2024-08-09T00:19:00.000000000",
          "2024-08-09T00:22:00.000000000",
          "2024-08-09T00:24:00.000000000",
          "2024-08-09T01:24:00.000000000",
          "2024-08-09T02:24:00.000000000",
          "2024-08-09T03:24:00.000000000",
          "2024-08-09T04:24:00.000000000",
          "2024-08-09T05:24:00.000000000",
          "2024-08-09T06:24:00.000000000",
          "2024-08-09T07:24:00.000000000",
          "2024-08-09T08:24:00.000000000",
          "2024-08-09T09:24:00.000000000",
          "2024-08-09T10:24:00.000000000",
          "2024-08-09T11:24:00.000000000",
          "2024-08-09T12:24:00.000000000",
          "2024-08-09T13:24:00.000000000",
          "2024-08-09T14:24:00.000000000",
          "2024-08-09T15:24:00.000000000",
          "2024-08-09T16:24:00.000000000",
          "2024-08-09T17:24:00.000000000",
          "2024-08-09T18:24:00.000000000",
          "2024-08-09T19:24:00.000000000",
          "2024-08-09T20:24:00.000000000",
          "2024-08-09T21:24:00.000000000",
          "2024-08-09T22:24:00.000000000",
          "2024-08-09T23:24:00.000000000",
          "2024-08-10T00:24:00.000000000",
          "2024-08-10T01:24:00.000000000",
          "2024-08-10T02:24:00.000000000",
          "2024-08-10T03:24:00.000000000",
          "2024-08-10T04:24:00.000000000",
          "2024-08-10T05:24:00.000000000",
          "2024-08-10T06:24:00.000000000",
          "2024-08-10T07:24:00.000000000",
          "2024-08-10T08:24:00.000000000",
          "2024-08-10T09:24:00.000000000",
          "2024-08-10T10:24:00.000000000",
          "2024-08-10T11:24:00.000000000",
          "2024-08-10T12:24:00.000000000",
          "2024-08-10T13:24:00.000000000",
          "2024-08-10T14:24:00.000000000",
          "2024-08-10T15:24:00.000000000",
          "2024-08-10T16:24:00.000000000",
          "2024-08-10T17:24:00.000000000",
          "2024-08-10T18:24:00.000000000",
          "2024-08-10T19:24:00.000000000",
          "2024-08-10T20:24:00.000000000",
          "2024-08-10T21:24:00.000000000",
          "2024-08-10T22:24:00.000000000",
          "2024-08-10T23:24:00.000000000",
          "2024-08-11T00:24:00.000000000",
          "2024-08-11T01:24:00.000000000",
          "2024-08-11T02:24:00.000000000",
          "2024-08-11T03:24:00.000000000",
          "2024-08-11T04:24:00.000000000",
          "2024-08-11T05:24:00.000000000",
          "2024-08-11T06:24:00.000000000",
          "2024-08-11T07:24:00.000000000",
          "2024-08-11T08:24:00.000000000",
          "2024-08-11T09:24:00.000000000",
          "2024-08-11T10:24:00.000000000",
          "2024-08-11T11:24:00.000000000",
          "2024-08-11T12:24:00.000000000",
          "2024-08-11T13:24:00.000000000",
          "2024-08-11T14:24:00.000000000",
          "2024-08-11T15:24:00.000000000",
          "2024-08-11T16:24:00.000000000",
          "2024-08-11T17:24:00.000000000",
          "2024-08-11T18:24:00.000000000",
          "2024-08-11T19:24:00.000000000",
          "2024-08-11T20:24:00.000000000",
          "2024-08-11T21:24:00.000000000",
          "2024-08-11T22:24:00.000000000",
          "2024-08-11T23:24:00.000000000",
          "2024-08-12T00:24:00.000000000",
          "2024-08-12T01:24:00.000000000",
          "2024-08-12T02:24:00.000000000",
          "2024-08-12T03:24:00.000000000",
          "2024-08-12T04:24:00.000000000",
          "2024-08-12T05:24:00.000000000",
          "2024-08-12T06:24:00.000000000",
          "2024-08-12T07:24:00.000000000",
          "2024-08-12T08:24:00.000000000",
          "2024-08-12T09:24:00.000000000",
          "2024-08-12T10:24:00.000000000",
          "2024-08-12T11:24:00.000000000",
          "2024-08-12T12:24:00.000000000",
          "2024-08-12T13:24:00.000000000",
          "2024-08-12T14:24:00.000000000",
          "2024-08-12T15:24:00.000000000",
          "2024-08-12T16:24:00.000000000",
          "2024-08-12T17:24:00.000000000",
          "2024-08-12T18:24:00.000000000",
          "2024-08-12T19:24:00.000000000",
          "2024-08-12T20:24:00.000000000",
          "2024-08-12T21:24:00.000000000",
          "2024-08-12T22:24:00.000000000",
          "2024-08-12T23:24:00.000000000",
          "2024-08-13T00:24:00.000000000",
          "2024-08-13T01:24:00.000000000",
          "2024-08-13T02:24:00.000000000",
          "2024-08-13T03:24:00.000000000",
          "2024-08-13T04:24:00.000000000",
          "2024-08-13T05:24:00.000000000",
          "2024-08-13T06:24:00.000000000",
          "2024-08-13T07:24:00.000000000",
          "2024-08-13T08:24:00.000000000",
          "2024-08-13T09:24:00.000000000",
          "2024-08-13T10:24:00.000000000",
          "2024-08-13T11:24:00.000000000",
          "2024-08-13T12:24:00.000000000",
          "2024-08-13T13:24:00.000000000",
          "2024-08-13T14:24:00.000000000",
          "2024-08-13T15:24:00.000000000",
          "2024-08-13T16:24:00.000000000",
          "2024-08-13T17:24:00.000000000",
          "2024-08-13T18:24:00.000000000",
          "2024-08-13T19:24:00.000000000",
          "2024-08-13T20:24:00.000000000",
          "2024-08-13T21:24:00.000000000",
          "2024-08-13T22:24:00.000000000",
          "2024-08-13T23:24:00.000000000",
          "2024-08-14T00:24:00.000000000",
          "2024-08-14T01:24:00.000000000",
          "2024-08-14T02:24:00.000000000",
          "2024-08-14T03:24:00.000000000",
          "2024-08-14T04:24:00.000000000",
          "2024-08-14T05:24:00.000000000",
          "2024-08-14T06:24:00.000000000",
          "2024-08-14T07:24:00.000000000",
          "2024-08-14T08:24:00.000000000",
          "2024-08-14T09:24:00.000000000",
          "2024-08-14T10:24:00.000000000",
          "2024-08-14T11:24:00.000000000",
          "2024-08-14T12:24:00.000000000",
          "2024-08-14T13:24:00.000000000",
          "2024-08-14T14:24:00.000000000",
          "2024-08-14T15:24:00.000000000",
          "2024-08-14T16:24:00.000000000",
          "2024-08-14T17:24:00.000000000",
          "2024-08-14T18:24:00.000000000",
          "2024-08-14T19:24:00.000000000",
          "2024-08-14T20:24:00.000000000",
          "2024-08-14T21:24:00.000000000",
          "2024-08-14T22:24:00.000000000",
          "2024-08-14T23:24:00.000000000",
          "2024-08-15T00:24:00.000000000",
          "2024-08-15T01:24:00.000000000",
          "2024-08-15T02:24:00.000000000",
          "2024-08-15T03:24:00.000000000",
          "2024-08-15T04:24:00.000000000",
          "2024-08-15T05:24:00.000000000",
          "2024-08-15T06:24:00.000000000",
          "2024-08-15T07:24:00.000000000",
          "2024-08-15T08:24:00.000000000",
          "2024-08-15T09:24:00.000000000",
          "2024-08-15T10:24:00.000000000",
          "2024-08-15T11:24:00.000000000",
          "2024-08-15T12:24:00.000000000",
          "2024-08-15T13:24:00.000000000",
          "2024-08-15T14:24:00.000000000",
          "2024-08-15T15:24:00.000000000",
          "2024-08-15T16:24:00.000000000",
          "2024-08-15T17:24:00.000000000",
          "2024-08-15T18:24:00.000000000",
          "2024-08-15T19:24:00.000000000",
          "2024-08-15T20:24:00.000000000",
          "2024-08-15T21:24:00.000000000",
          "2024-08-15T22:24:00.000000000",
          "2024-08-15T23:24:00.000000000",
          "2024-08-16T00:24:00.000000000",
          "2024-08-16T01:24:00.000000000",
          "2024-08-16T02:24:00.000000000",
          "2024-08-16T03:24:00.000000000",
          "2024-08-16T04:24:00.000000000",
          "2024-08-16T05:24:00.000000000",
          "2024-08-16T06:24:00.000000000",
          "2024-08-16T07:24:00.000000000",
          "2024-08-16T08:24:00.000000000",
          "2024-08-16T09:24:00.000000000",
          "2024-08-16T10:24:00.000000000",
          "2024-08-16T11:24:00.000000000",
          "2024-08-16T12:24:00.000000000",
          "2024-08-16T13:24:00.000000000",
          "2024-08-16T14:24:00.000000000",
          "2024-08-16T15:24:00.000000000",
          "2024-08-16T16:24:00.000000000",
          "2024-08-16T17:24:00.000000000",
          "2024-08-16T18:24:00.000000000",
          "2024-08-16T19:24:00.000000000",
          "2024-08-16T20:24:00.000000000",
          "2024-08-16T21:24:00.000000000",
          "2024-08-16T22:24:00.000000000",
          "2024-08-16T23:24:00.000000000",
          "2024-08-17T00:24:00.000000000",
          "2024-08-17T01:24:00.000000000",
          "2024-08-17T02:24:00.000000000",
          "2024-08-17T03:24:00.000000000",
          "2024-08-17T04:24:00.000000000",
          "2024-08-17T05:24:00.000000000",
          "2024-08-17T06:24:00.000000000",
          "2024-08-17T07:24:00.000000000",
          "2024-08-17T08:24:00.000000000",
          "2024-08-17T09:24:00.000000000",
          "2024-08-17T10:24:00.000000000",
          "2024-08-17T11:24:00.000000000",
          "2024-08-17T12:24:00.000000000",
          "2024-08-17T13:24:00.000000000",
          "2024-08-17T14:24:00.000000000",
          "2024-08-17T15:24:00.000000000",
          "2024-08-17T16:24:00.000000000",
          "2024-08-17T17:24:00.000000000",
          "2024-08-17T18:24:00.000000000",
          "2024-08-17T19:24:00.000000000",
          "2024-08-17T20:24:00.000000000",
          "2024-08-17T21:24:00.000000000",
          "2024-08-17T22:24:00.000000000",
          "2024-08-17T23:24:00.000000000",
          "2024-08-18T00:24:00.000000000",
          "2024-08-18T01:24:00.000000000",
          "2024-08-18T02:24:00.000000000",
          "2024-08-18T03:24:00.000000000",
          "2024-08-18T04:24:00.000000000",
          "2024-08-18T05:24:00.000000000",
          "2024-08-18T06:24:00.000000000",
          "2024-08-18T07:24:00.000000000",
          "2024-08-18T08:24:00.000000000",
          "2024-08-18T09:24:00.000000000",
          "2024-08-18T10:24:00.000000000",
          "2024-08-18T11:24:00.000000000",
          "2024-08-18T12:24:00.000000000",
          "2024-08-18T13:24:00.000000000",
          "2024-08-18T14:24:00.000000000",
          "2024-08-18T15:24:00.000000000",
          "2024-08-18T16:24:00.000000000",
          "2024-08-18T17:24:00.000000000",
          "2024-08-18T18:24:00.000000000",
          "2024-08-18T19:24:00.000000000",
          "2024-08-18T20:24:00.000000000",
          "2024-08-18T21:24:00.000000000",
          "2024-08-19T13:29:00.000000000",
          "2024-08-19T13:30:00.000000000",
          "2024-08-19T14:29:00.000000000",
          "2024-08-19T15:29:00.000000000",
          "2024-08-19T16:29:00.000000000",
          "2024-08-19T17:29:00.000000000",
          "2024-08-19T18:29:00.000000000",
          "2024-08-19T19:29:00.000000000",
          "2024-08-19T20:29:00.000000000",
          "2024-08-19T21:29:00.000000000",
          "2024-08-19T22:29:00.000000000",
          "2024-08-19T23:29:00.000000000",
          "2024-08-20T00:29:00.000000000",
          "2024-08-20T01:29:00.000000000",
          "2024-08-20T02:29:00.000000000",
          "2024-08-20T03:29:00.000000000",
          "2024-08-20T04:29:00.000000000",
          "2024-08-20T05:29:00.000000000",
          "2024-08-20T06:29:00.000000000",
          "2024-08-20T07:29:00.000000000",
          "2024-08-20T08:29:00.000000000",
          "2024-08-20T09:29:00.000000000",
          "2024-08-20T10:29:00.000000000",
          "2024-08-20T11:29:00.000000000",
          "2024-08-20T12:29:00.000000000",
          "2024-08-20T13:29:00.000000000",
          "2024-08-20T14:29:00.000000000",
          "2024-08-20T15:29:00.000000000",
          "2024-08-20T16:29:00.000000000",
          "2024-08-20T17:29:00.000000000",
          "2024-08-20T18:29:00.000000000",
          "2024-08-20T19:29:00.000000000",
          "2024-08-20T20:29:00.000000000",
          "2024-08-20T21:29:00.000000000",
          "2024-08-20T22:29:00.000000000",
          "2024-08-20T23:29:00.000000000",
          "2024-08-21T00:29:00.000000000",
          "2024-08-21T01:29:00.000000000",
          "2024-08-21T02:29:00.000000000",
          "2024-08-21T03:29:00.000000000",
          "2024-08-21T04:29:00.000000000",
          "2024-08-21T05:29:00.000000000",
          "2024-08-21T06:29:00.000000000",
          "2024-08-21T07:29:00.000000000",
          "2024-08-21T08:29:00.000000000",
          "2024-08-21T09:29:00.000000000",
          "2024-08-21T10:29:00.000000000",
          "2024-08-21T11:29:00.000000000",
          "2024-08-21T12:29:00.000000000",
          "2024-08-21T13:29:00.000000000",
          "2024-08-21T14:29:00.000000000",
          "2024-08-21T15:29:00.000000000",
          "2024-08-21T16:29:00.000000000",
          "2024-08-21T17:29:00.000000000",
          "2024-08-21T18:29:00.000000000",
          "2024-08-21T19:29:00.000000000",
          "2024-08-21T20:29:00.000000000",
          "2024-08-21T21:30:00.000000000",
          "2024-08-21T22:29:00.000000000",
          "2024-08-21T23:29:00.000000000",
          "2024-08-22T00:30:00.000000000",
          "2024-08-22T01:29:00.000000000",
          "2024-08-22T02:29:00.000000000",
          "2024-08-22T03:29:00.000000000",
          "2024-08-22T04:29:00.000000000",
          "2024-08-22T05:29:00.000000000",
          "2024-08-22T06:30:00.000000000",
          "2024-08-22T07:29:00.000000000",
          "2024-08-22T08:29:00.000000000",
          "2024-08-22T09:29:00.000000000",
          "2024-08-22T10:29:00.000000000",
          "2024-08-22T11:29:00.000000000",
          "2024-08-22T12:29:00.000000000",
          "2024-08-22T13:29:00.000000000",
          "2024-08-22T14:29:00.000000000",
          "2024-08-22T15:29:00.000000000",
          "2024-08-22T16:29:00.000000000",
          "2024-08-22T17:29:00.000000000",
          "2024-08-22T18:29:00.000000000",
          "2024-08-22T19:29:00.000000000",
          "2024-08-22T20:29:00.000000000",
          "2024-08-22T21:29:00.000000000",
          "2024-08-22T22:29:00.000000000",
          "2024-08-22T23:29:00.000000000",
          "2024-08-23T00:29:00.000000000",
          "2024-08-23T01:21:00.000000000",
          "2024-08-23T01:24:00.000000000",
          "2024-08-23T01:30:00.000000000",
          "2024-08-23T02:30:00.000000000",
          "2024-08-23T03:30:00.000000000",
          "2024-08-23T04:30:00.000000000",
          "2024-08-23T05:30:00.000000000",
          "2024-08-23T06:30:00.000000000",
          "2024-08-23T07:30:00.000000000",
          "2024-08-23T08:30:00.000000000",
          "2024-08-23T09:30:00.000000000",
          "2024-08-23T10:30:00.000000000",
          "2024-08-23T11:30:00.000000000",
          "2024-08-23T12:30:00.000000000",
          "2024-08-23T13:30:00.000000000",
          "2024-08-23T14:30:00.000000000",
          "2024-08-23T15:30:00.000000000",
          "2024-08-23T16:18:00.000000000",
          "2024-08-23T16:19:00.000000000",
          "2024-08-23T16:21:00.000000000",
          "2024-08-23T16:30:00.000000000",
          "2024-08-23T17:30:00.000000000",
          "2024-08-23T18:30:00.000000000",
          "2024-08-23T19:30:00.000000000",
          "2024-08-23T20:30:00.000000000",
          "2024-08-23T21:30:00.000000000",
          "2024-08-23T22:30:00.000000000",
          "2024-08-23T23:30:00.000000000",
          "2024-08-24T00:30:00.000000000",
          "2024-08-24T01:30:00.000000000",
          "2024-08-24T02:30:00.000000000",
          "2024-08-24T03:30:00.000000000",
          "2024-08-24T04:30:00.000000000",
          "2024-08-24T05:30:00.000000000",
          "2024-08-24T06:30:00.000000000",
          "2024-08-24T07:30:00.000000000",
          "2024-08-24T08:30:00.000000000",
          "2024-08-24T09:30:00.000000000",
          "2024-08-24T10:30:00.000000000",
          "2024-08-24T11:30:00.000000000",
          "2024-08-24T12:30:00.000000000",
          "2024-08-24T13:30:00.000000000",
          "2024-08-24T14:30:00.000000000",
          "2024-08-24T15:30:00.000000000",
          "2024-08-24T16:30:00.000000000",
          "2024-08-24T17:30:00.000000000",
          "2024-08-24T18:30:00.000000000",
          "2024-08-24T19:30:00.000000000",
          "2024-08-24T20:30:00.000000000",
          "2024-08-24T21:30:00.000000000",
          "2024-08-24T22:30:00.000000000",
          "2024-08-24T23:30:00.000000000",
          "2024-08-25T00:30:00.000000000",
          "2024-08-25T01:30:00.000000000",
          "2024-08-25T02:30:00.000000000",
          "2024-08-25T03:30:00.000000000",
          "2024-08-25T04:30:00.000000000",
          "2024-08-25T05:30:00.000000000",
          "2024-08-25T06:30:00.000000000",
          "2024-08-25T07:30:00.000000000",
          "2024-08-25T08:30:00.000000000",
          "2024-08-25T09:30:00.000000000",
          "2024-08-25T10:30:00.000000000",
          "2024-08-25T11:30:00.000000000",
          "2024-08-25T12:30:00.000000000",
          "2024-08-25T13:30:00.000000000",
          "2024-08-25T14:30:00.000000000",
          "2024-08-25T15:30:00.000000000",
          "2024-08-25T16:30:00.000000000",
          "2024-08-25T17:30:00.000000000",
          "2024-08-25T18:30:00.000000000",
          "2024-08-25T19:30:00.000000000",
          "2024-08-25T20:30:00.000000000",
          "2024-08-25T21:30:00.000000000",
          "2024-08-25T22:30:00.000000000",
          "2024-08-25T23:30:00.000000000",
          "2024-08-26T00:30:00.000000000",
          "2024-08-26T01:30:00.000000000",
          "2024-08-26T02:30:00.000000000",
          "2024-08-26T03:30:00.000000000",
          "2024-08-26T04:30:00.000000000",
          "2024-08-26T05:30:00.000000000",
          "2024-08-26T06:30:00.000000000",
          "2024-08-26T07:30:00.000000000",
          "2024-08-26T08:30:00.000000000",
          "2024-08-26T09:30:00.000000000",
          "2024-08-26T10:30:00.000000000",
          "2024-08-26T11:30:00.000000000",
          "2024-08-26T12:30:00.000000000",
          "2024-08-26T13:30:00.000000000",
          "2024-08-26T14:30:00.000000000",
          "2024-08-26T15:30:00.000000000",
          "2024-08-26T16:30:00.000000000",
          "2024-08-26T17:30:00.000000000",
          "2024-08-26T18:30:00.000000000",
          "2024-08-26T19:30:00.000000000",
          "2024-08-26T20:30:00.000000000",
          "2024-08-26T21:30:00.000000000",
          "2024-08-26T22:30:00.000000000",
          "2024-08-26T23:30:00.000000000",
          "2024-08-27T00:30:00.000000000",
          "2024-08-27T01:30:00.000000000",
          "2024-08-27T02:30:00.000000000",
          "2024-08-27T03:30:00.000000000",
          "2024-08-27T04:30:00.000000000",
          "2024-08-27T05:30:00.000000000",
          "2024-08-27T06:30:00.000000000",
          "2024-08-27T07:30:00.000000000",
          "2024-08-27T08:30:00.000000000",
          "2024-08-27T09:30:00.000000000",
          "2024-08-27T10:30:00.000000000",
          "2024-08-27T11:30:00.000000000",
          "2024-08-27T12:30:00.000000000",
          "2024-08-27T13:30:00.000000000",
          "2024-08-27T14:30:00.000000000",
          "2024-08-27T15:30:00.000000000",
          "2024-08-27T16:30:00.000000000",
          "2024-08-27T17:30:00.000000000",
          "2024-08-27T18:30:00.000000000",
          "2024-08-27T19:30:00.000000000",
          "2024-08-27T20:30:00.000000000",
          "2024-08-27T21:30:00.000000000",
          "2024-08-27T22:30:00.000000000",
          "2024-08-27T23:30:00.000000000",
          "2024-08-28T00:30:00.000000000",
          "2024-08-28T01:30:00.000000000",
          "2024-08-28T02:30:00.000000000",
          "2024-08-28T03:30:00.000000000",
          "2024-08-28T04:30:00.000000000",
          "2024-08-28T05:30:00.000000000",
          "2024-08-28T06:30:00.000000000",
          "2024-08-28T07:30:00.000000000",
          "2024-08-28T08:30:00.000000000",
          "2024-08-28T09:30:00.000000000",
          "2024-08-28T10:30:00.000000000",
          "2024-08-28T11:30:00.000000000",
          "2024-08-28T12:30:00.000000000",
          "2024-08-28T13:30:00.000000000",
          "2024-08-28T14:30:00.000000000",
          "2024-08-28T15:30:00.000000000",
          "2024-08-28T16:30:00.000000000",
          "2024-08-28T17:30:00.000000000",
          "2024-08-28T18:30:00.000000000",
          "2024-08-28T19:30:00.000000000",
          "2024-08-28T20:30:00.000000000",
          "2024-08-28T21:30:00.000000000",
          "2024-08-28T22:30:00.000000000",
          "2024-08-28T23:30:00.000000000",
          "2024-08-29T00:30:00.000000000",
          "2024-08-29T01:30:00.000000000",
          "2024-08-29T02:30:00.000000000",
          "2024-08-29T03:30:00.000000000",
          "2024-08-29T04:30:00.000000000",
          "2024-08-29T05:30:00.000000000",
          "2024-08-29T06:30:00.000000000",
          "2024-08-29T07:30:00.000000000",
          "2024-08-29T08:30:00.000000000",
          "2024-08-29T09:30:00.000000000",
          "2024-08-29T10:30:00.000000000",
          "2024-08-29T11:30:00.000000000",
          "2024-08-29T12:30:00.000000000",
          "2024-08-29T13:30:00.000000000",
          "2024-08-29T14:30:00.000000000",
          "2024-08-29T15:30:00.000000000",
          "2024-08-29T16:30:00.000000000",
          "2024-08-29T17:30:00.000000000",
          "2024-08-29T18:30:00.000000000",
          "2024-08-29T19:30:00.000000000",
          "2024-08-29T20:30:00.000000000",
          "2024-08-29T21:30:00.000000000",
          "2024-08-29T22:30:00.000000000",
          "2024-08-29T23:30:00.000000000",
          "2024-08-30T00:30:00.000000000",
          "2024-08-30T01:30:00.000000000",
          "2024-08-30T02:30:00.000000000",
          "2024-08-30T03:30:00.000000000",
          "2024-08-30T04:30:00.000000000",
          "2024-08-30T05:30:00.000000000",
          "2024-08-30T06:30:00.000000000",
          "2024-08-30T07:30:00.000000000",
          "2024-08-30T08:30:00.000000000",
          "2024-08-30T09:30:00.000000000",
          "2024-08-30T10:30:00.000000000",
          "2024-08-30T11:30:00.000000000",
          "2024-08-30T12:30:00.000000000",
          "2024-08-30T13:30:00.000000000",
          "2024-08-30T14:30:00.000000000",
          "2024-08-30T15:30:00.000000000",
          "2024-08-30T16:30:00.000000000",
          "2024-08-30T17:30:00.000000000",
          "2024-08-30T18:30:00.000000000",
          "2024-08-30T19:30:00.000000000",
          "2024-08-30T20:30:00.000000000",
          "2024-08-30T21:30:00.000000000",
          "2024-08-30T22:30:00.000000000",
          "2024-08-30T23:30:00.000000000",
          "2024-08-31T00:30:00.000000000",
          "2024-08-31T01:30:00.000000000",
          "2024-08-31T02:30:00.000000000",
          "2024-08-31T03:30:00.000000000",
          "2024-08-31T04:30:00.000000000",
          "2024-08-31T05:30:00.000000000",
          "2024-08-31T06:30:00.000000000",
          "2024-08-31T07:30:00.000000000",
          "2024-08-31T08:30:00.000000000",
          "2024-08-31T09:30:00.000000000",
          "2024-08-31T10:30:00.000000000",
          "2024-08-31T11:30:00.000000000",
          "2024-08-31T12:30:00.000000000",
          "2024-08-31T13:30:00.000000000",
          "2024-08-31T14:30:00.000000000",
          "2024-08-31T15:30:00.000000000",
          "2024-08-31T16:30:00.000000000",
          "2024-08-31T17:30:00.000000000",
          "2024-08-31T18:30:00.000000000",
          "2024-08-31T19:30:00.000000000",
          "2024-08-31T20:30:00.000000000",
          "2024-08-31T21:30:00.000000000",
          "2024-08-31T22:30:00.000000000",
          "2024-08-31T23:30:00.000000000",
          "2024-09-01T00:30:00.000000000",
          "2024-09-01T01:30:00.000000000",
          "2024-09-01T02:30:00.000000000",
          "2024-09-01T03:30:00.000000000",
          "2024-09-01T04:30:00.000000000",
          "2024-09-01T05:30:00.000000000",
          "2024-09-01T06:30:00.000000000",
          "2024-09-01T07:30:00.000000000",
          "2024-09-01T08:30:00.000000000",
          "2024-09-01T09:30:00.000000000",
          "2024-09-01T10:30:00.000000000",
          "2024-09-01T11:30:00.000000000",
          "2024-09-01T12:30:00.000000000",
          "2024-09-01T13:30:00.000000000",
          "2024-09-01T14:30:00.000000000",
          "2024-09-01T15:30:00.000000000",
          "2024-09-01T16:30:00.000000000",
          "2024-09-01T17:30:00.000000000",
          "2024-09-01T18:30:00.000000000",
          "2024-09-01T19:30:00.000000000",
          "2024-09-01T20:30:00.000000000",
          "2024-09-01T21:30:00.000000000",
          "2024-09-01T22:30:00.000000000",
          "2024-09-01T23:30:00.000000000",
          "2024-09-02T00:30:00.000000000",
          "2024-09-02T01:30:00.000000000",
          "2024-09-02T02:30:00.000000000",
          "2024-09-02T03:30:00.000000000",
          "2024-09-02T04:30:00.000000000",
          "2024-09-02T05:30:00.000000000",
          "2024-09-02T06:30:00.000000000",
          "2024-09-02T07:30:00.000000000",
          "2024-09-02T08:30:00.000000000",
          "2024-09-02T09:30:00.000000000",
          "2024-09-02T10:30:00.000000000",
          "2024-09-02T11:30:00.000000000",
          "2024-09-02T12:30:00.000000000",
          "2024-09-02T13:30:00.000000000"
         ],
         "y": {
          "bdata": "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",
          "dtype": "f8"
         }
        },
        {
         "line": {
          "color": "orange"
         },
         "mode": "lines",
         "name": "Ask Price",
         "type": "scatter",
         "x": [
          "2024-07-09T17:43:00.000000000",
          "2024-07-09T17:54:00.000000000",
          "2024-07-10T13:28:00.000000000",
          "2024-07-11T16:29:00.000000000",
          "2024-07-12T13:29:00.000000000",
          "2024-07-12T20:30:00.000000000",
          "2024-07-13T17:53:00.000000000",
          "2024-07-14T16:20:00.000000000",
          "2024-07-15T16:38:00.000000000",
          "2024-07-16T01:11:00.000000000",
          "2024-07-16T14:41:00.000000000",
          "2024-07-17T11:52:00.000000000",
          "2024-07-18T16:21:00.000000000",
          "2024-07-19T18:08:00.000000000",
          "2024-07-20T18:41:00.000000000",
          "2024-07-21T16:06:00.000000000",
          "2024-07-22T22:27:00.000000000",
          "2024-07-23T13:09:00.000000000",
          "2024-07-24T12:24:00.000000000",
          "2024-07-25T12:04:00.000000000",
          "2024-07-26T13:38:00.000000000",
          "2024-07-27T01:19:00.000000000",
          "2024-07-29T14:33:00.000000000",
          "2024-07-30T15:02:00.000000000",
          "2024-07-31T13:25:00.000000000",
          "2024-08-01T12:32:00.000000000",
          "2024-08-04T13:31:00.000000000",
          "2024-08-05T14:32:00.000000000",
          "2024-08-06T14:30:00.000000000",
          "2024-08-07T15:37:00.000000000",
          "2024-08-08T13:50:00.000000000",
          "2024-08-08T21:58:00.000000000",
          "2024-08-08T23:22:00.000000000",
          "2024-08-08T23:25:00.000000000",
          "2024-08-08T23:28:00.000000000",
          "2024-08-08T23:31:00.000000000",
          "2024-08-08T23:34:00.000000000",
          "2024-08-08T23:37:00.000000000",
          "2024-08-08T23:40:00.000000000",
          "2024-08-08T23:43:00.000000000",
          "2024-08-08T23:46:00.000000000",
          "2024-08-08T23:49:00.000000000",
          "2024-08-08T23:52:00.000000000",
          "2024-08-08T23:55:00.000000000",
          "2024-08-08T23:58:00.000000000",
          "2024-08-09T00:01:00.000000000",
          "2024-08-09T00:04:00.000000000",
          "2024-08-09T00:07:00.000000000",
          "2024-08-09T00:10:00.000000000",
          "2024-08-09T00:13:00.000000000",
          "2024-08-09T00:16:00.000000000",
          "2024-08-09T00:19:00.000000000",
          "2024-08-09T00:22:00.000000000",
          "2024-08-09T00:24:00.000000000",
          "2024-08-09T01:24:00.000000000",
          "2024-08-09T02:24:00.000000000",
          "2024-08-09T03:24:00.000000000",
          "2024-08-09T04:24:00.000000000",
          "2024-08-09T05:24:00.000000000",
          "2024-08-09T06:24:00.000000000",
          "2024-08-09T07:24:00.000000000",
          "2024-08-09T08:24:00.000000000",
          "2024-08-09T09:24:00.000000000",
          "2024-08-09T10:24:00.000000000",
          "2024-08-09T11:24:00.000000000",
          "2024-08-09T12:24:00.000000000",
          "2024-08-09T13:24:00.000000000",
          "2024-08-09T14:24:00.000000000",
          "2024-08-09T15:24:00.000000000",
          "2024-08-09T16:24:00.000000000",
          "2024-08-09T17:24:00.000000000",
          "2024-08-09T18:24:00.000000000",
          "2024-08-09T19:24:00.000000000",
          "2024-08-09T20:24:00.000000000",
          "2024-08-09T21:24:00.000000000",
          "2024-08-09T22:24:00.000000000",
          "2024-08-09T23:24:00.000000000",
          "2024-08-10T00:24:00.000000000",
          "2024-08-10T01:24:00.000000000",
          "2024-08-10T02:24:00.000000000",
          "2024-08-10T03:24:00.000000000",
          "2024-08-10T04:24:00.000000000",
          "2024-08-10T05:24:00.000000000",
          "2024-08-10T06:24:00.000000000",
          "2024-08-10T07:24:00.000000000",
          "2024-08-10T08:24:00.000000000",
          "2024-08-10T09:24:00.000000000",
          "2024-08-10T10:24:00.000000000",
          "2024-08-10T11:24:00.000000000",
          "2024-08-10T12:24:00.000000000",
          "2024-08-10T13:24:00.000000000",
          "2024-08-10T14:24:00.000000000",
          "2024-08-10T15:24:00.000000000",
          "2024-08-10T16:24:00.000000000",
          "2024-08-10T17:24:00.000000000",
          "2024-08-10T18:24:00.000000000",
          "2024-08-10T19:24:00.000000000",
          "2024-08-10T20:24:00.000000000",
          "2024-08-10T21:24:00.000000000",
          "2024-08-10T22:24:00.000000000",
          "2024-08-10T23:24:00.000000000",
          "2024-08-11T00:24:00.000000000",
          "2024-08-11T01:24:00.000000000",
          "2024-08-11T02:24:00.000000000",
          "2024-08-11T03:24:00.000000000",
          "2024-08-11T04:24:00.000000000",
          "2024-08-11T05:24:00.000000000",
          "2024-08-11T06:24:00.000000000",
          "2024-08-11T07:24:00.000000000",
          "2024-08-11T08:24:00.000000000",
          "2024-08-11T09:24:00.000000000",
          "2024-08-11T10:24:00.000000000",
          "2024-08-11T11:24:00.000000000",
          "2024-08-11T12:24:00.000000000",
          "2024-08-11T13:24:00.000000000",
          "2024-08-11T14:24:00.000000000",
          "2024-08-11T15:24:00.000000000",
          "2024-08-11T16:24:00.000000000",
          "2024-08-11T17:24:00.000000000",
          "2024-08-11T18:24:00.000000000",
          "2024-08-11T19:24:00.000000000",
          "2024-08-11T20:24:00.000000000",
          "2024-08-11T21:24:00.000000000",
          "2024-08-11T22:24:00.000000000",
          "2024-08-11T23:24:00.000000000",
          "2024-08-12T00:24:00.000000000",
          "2024-08-12T01:24:00.000000000",
          "2024-08-12T02:24:00.000000000",
          "2024-08-12T03:24:00.000000000",
          "2024-08-12T04:24:00.000000000",
          "2024-08-12T05:24:00.000000000",
          "2024-08-12T06:24:00.000000000",
          "2024-08-12T07:24:00.000000000",
          "2024-08-12T08:24:00.000000000",
          "2024-08-12T09:24:00.000000000",
          "2024-08-12T10:24:00.000000000",
          "2024-08-12T11:24:00.000000000",
          "2024-08-12T12:24:00.000000000",
          "2024-08-12T13:24:00.000000000",
          "2024-08-12T14:24:00.000000000",
          "2024-08-12T15:24:00.000000000",
          "2024-08-12T16:24:00.000000000",
          "2024-08-12T17:24:00.000000000",
          "2024-08-12T18:24:00.000000000",
          "2024-08-12T19:24:00.000000000",
          "2024-08-12T20:24:00.000000000",
          "2024-08-12T21:24:00.000000000",
          "2024-08-12T22:24:00.000000000",
          "2024-08-12T23:24:00.000000000",
          "2024-08-13T00:24:00.000000000",
          "2024-08-13T01:24:00.000000000",
          "2024-08-13T02:24:00.000000000",
          "2024-08-13T03:24:00.000000000",
          "2024-08-13T04:24:00.000000000",
          "2024-08-13T05:24:00.000000000",
          "2024-08-13T06:24:00.000000000",
          "2024-08-13T07:24:00.000000000",
          "2024-08-13T08:24:00.000000000",
          "2024-08-13T09:24:00.000000000",
          "2024-08-13T10:24:00.000000000",
          "2024-08-13T11:24:00.000000000",
          "2024-08-13T12:24:00.000000000",
          "2024-08-13T13:24:00.000000000",
          "2024-08-13T14:24:00.000000000",
          "2024-08-13T15:24:00.000000000",
          "2024-08-13T16:24:00.000000000",
          "2024-08-13T17:24:00.000000000",
          "2024-08-13T18:24:00.000000000",
          "2024-08-13T19:24:00.000000000",
          "2024-08-13T20:24:00.000000000",
          "2024-08-13T21:24:00.000000000",
          "2024-08-13T22:24:00.000000000",
          "2024-08-13T23:24:00.000000000",
          "2024-08-14T00:24:00.000000000",
          "2024-08-14T01:24:00.000000000",
          "2024-08-14T02:24:00.000000000",
          "2024-08-14T03:24:00.000000000",
          "2024-08-14T04:24:00.000000000",
          "2024-08-14T05:24:00.000000000",
          "2024-08-14T06:24:00.000000000",
          "2024-08-14T07:24:00.000000000",
          "2024-08-14T08:24:00.000000000",
          "2024-08-14T09:24:00.000000000",
          "2024-08-14T10:24:00.000000000",
          "2024-08-14T11:24:00.000000000",
          "2024-08-14T12:24:00.000000000",
          "2024-08-14T13:24:00.000000000",
          "2024-08-14T14:24:00.000000000",
          "2024-08-14T15:24:00.000000000",
          "2024-08-14T16:24:00.000000000",
          "2024-08-14T17:24:00.000000000",
          "2024-08-14T18:24:00.000000000",
          "2024-08-14T19:24:00.000000000",
          "2024-08-14T20:24:00.000000000",
          "2024-08-14T21:24:00.000000000",
          "2024-08-14T22:24:00.000000000",
          "2024-08-14T23:24:00.000000000",
          "2024-08-15T00:24:00.000000000",
          "2024-08-15T01:24:00.000000000",
          "2024-08-15T02:24:00.000000000",
          "2024-08-15T03:24:00.000000000",
          "2024-08-15T04:24:00.000000000",
          "2024-08-15T05:24:00.000000000",
          "2024-08-15T06:24:00.000000000",
          "2024-08-15T07:24:00.000000000",
          "2024-08-15T08:24:00.000000000",
          "2024-08-15T09:24:00.000000000",
          "2024-08-15T10:24:00.000000000",
          "2024-08-15T11:24:00.000000000",
          "2024-08-15T12:24:00.000000000",
          "2024-08-15T13:24:00.000000000",
          "2024-08-15T14:24:00.000000000",
          "2024-08-15T15:24:00.000000000",
          "2024-08-15T16:24:00.000000000",
          "2024-08-15T17:24:00.000000000",
          "2024-08-15T18:24:00.000000000",
          "2024-08-15T19:24:00.000000000",
          "2024-08-15T20:24:00.000000000",
          "2024-08-15T21:24:00.000000000",
          "2024-08-15T22:24:00.000000000",
          "2024-08-15T23:24:00.000000000",
          "2024-08-16T00:24:00.000000000",
          "2024-08-16T01:24:00.000000000",
          "2024-08-16T02:24:00.000000000",
          "2024-08-16T03:24:00.000000000",
          "2024-08-16T04:24:00.000000000",
          "2024-08-16T05:24:00.000000000",
          "2024-08-16T06:24:00.000000000",
          "2024-08-16T07:24:00.000000000",
          "2024-08-16T08:24:00.000000000",
          "2024-08-16T09:24:00.000000000",
          "2024-08-16T10:24:00.000000000",
          "2024-08-16T11:24:00.000000000",
          "2024-08-16T12:24:00.000000000",
          "2024-08-16T13:24:00.000000000",
          "2024-08-16T14:24:00.000000000",
          "2024-08-16T15:24:00.000000000",
          "2024-08-16T16:24:00.000000000",
          "2024-08-16T17:24:00.000000000",
          "2024-08-16T18:24:00.000000000",
          "2024-08-16T19:24:00.000000000",
          "2024-08-16T20:24:00.000000000",
          "2024-08-16T21:24:00.000000000",
          "2024-08-16T22:24:00.000000000",
          "2024-08-16T23:24:00.000000000",
          "2024-08-17T00:24:00.000000000",
          "2024-08-17T01:24:00.000000000",
          "2024-08-17T02:24:00.000000000",
          "2024-08-17T03:24:00.000000000",
          "2024-08-17T04:24:00.000000000",
          "2024-08-17T05:24:00.000000000",
          "2024-08-17T06:24:00.000000000",
          "2024-08-17T07:24:00.000000000",
          "2024-08-17T08:24:00.000000000",
          "2024-08-17T09:24:00.000000000",
          "2024-08-17T10:24:00.000000000",
          "2024-08-17T11:24:00.000000000",
          "2024-08-17T12:24:00.000000000",
          "2024-08-17T13:24:00.000000000",
          "2024-08-17T14:24:00.000000000",
          "2024-08-17T15:24:00.000000000",
          "2024-08-17T16:24:00.000000000",
          "2024-08-17T17:24:00.000000000",
          "2024-08-17T18:24:00.000000000",
          "2024-08-17T19:24:00.000000000",
          "2024-08-17T20:24:00.000000000",
          "2024-08-17T21:24:00.000000000",
          "2024-08-17T22:24:00.000000000",
          "2024-08-17T23:24:00.000000000",
          "2024-08-18T00:24:00.000000000",
          "2024-08-18T01:24:00.000000000",
          "2024-08-18T02:24:00.000000000",
          "2024-08-18T03:24:00.000000000",
          "2024-08-18T04:24:00.000000000",
          "2024-08-18T05:24:00.000000000",
          "2024-08-18T06:24:00.000000000",
          "2024-08-18T07:24:00.000000000",
          "2024-08-18T08:24:00.000000000",
          "2024-08-18T09:24:00.000000000",
          "2024-08-18T10:24:00.000000000",
          "2024-08-18T11:24:00.000000000",
          "2024-08-18T12:24:00.000000000",
          "2024-08-18T13:24:00.000000000",
          "2024-08-18T14:24:00.000000000",
          "2024-08-18T15:24:00.000000000",
          "2024-08-18T16:24:00.000000000",
          "2024-08-18T17:24:00.000000000",
          "2024-08-18T18:24:00.000000000",
          "2024-08-18T19:24:00.000000000",
          "2024-08-18T20:24:00.000000000",
          "2024-08-18T21:24:00.000000000",
          "2024-08-19T13:29:00.000000000",
          "2024-08-19T13:30:00.000000000",
          "2024-08-19T14:29:00.000000000",
          "2024-08-19T15:29:00.000000000",
          "2024-08-19T16:29:00.000000000",
          "2024-08-19T17:29:00.000000000",
          "2024-08-19T18:29:00.000000000",
          "2024-08-19T19:29:00.000000000",
          "2024-08-19T20:29:00.000000000",
          "2024-08-19T21:29:00.000000000",
          "2024-08-19T22:29:00.000000000",
          "2024-08-19T23:29:00.000000000",
          "2024-08-20T00:29:00.000000000",
          "2024-08-20T01:29:00.000000000",
          "2024-08-20T02:29:00.000000000",
          "2024-08-20T03:29:00.000000000",
          "2024-08-20T04:29:00.000000000",
          "2024-08-20T05:29:00.000000000",
          "2024-08-20T06:29:00.000000000",
          "2024-08-20T07:29:00.000000000",
          "2024-08-20T08:29:00.000000000",
          "2024-08-20T09:29:00.000000000",
          "2024-08-20T10:29:00.000000000",
          "2024-08-20T11:29:00.000000000",
          "2024-08-20T12:29:00.000000000",
          "2024-08-20T13:29:00.000000000",
          "2024-08-20T14:29:00.000000000",
          "2024-08-20T15:29:00.000000000",
          "2024-08-20T16:29:00.000000000",
          "2024-08-20T17:29:00.000000000",
          "2024-08-20T18:29:00.000000000",
          "2024-08-20T19:29:00.000000000",
          "2024-08-20T20:29:00.000000000",
          "2024-08-20T21:29:00.000000000",
          "2024-08-20T22:29:00.000000000",
          "2024-08-20T23:29:00.000000000",
          "2024-08-21T00:29:00.000000000",
          "2024-08-21T01:29:00.000000000",
          "2024-08-21T02:29:00.000000000",
          "2024-08-21T03:29:00.000000000",
          "2024-08-21T04:29:00.000000000",
          "2024-08-21T05:29:00.000000000",
          "2024-08-21T06:29:00.000000000",
          "2024-08-21T07:29:00.000000000",
          "2024-08-21T08:29:00.000000000",
          "2024-08-21T09:29:00.000000000",
          "2024-08-21T10:29:00.000000000",
          "2024-08-21T11:29:00.000000000",
          "2024-08-21T12:29:00.000000000",
          "2024-08-21T13:29:00.000000000",
          "2024-08-21T14:29:00.000000000",
          "2024-08-21T15:29:00.000000000",
          "2024-08-21T16:29:00.000000000",
          "2024-08-21T17:29:00.000000000",
          "2024-08-21T18:29:00.000000000",
          "2024-08-21T19:29:00.000000000",
          "2024-08-21T20:29:00.000000000",
          "2024-08-21T21:30:00.000000000",
          "2024-08-21T22:29:00.000000000",
          "2024-08-21T23:29:00.000000000",
          "2024-08-22T00:30:00.000000000",
          "2024-08-22T01:29:00.000000000",
          "2024-08-22T02:29:00.000000000",
          "2024-08-22T03:29:00.000000000",
          "2024-08-22T04:29:00.000000000",
          "2024-08-22T05:29:00.000000000",
          "2024-08-22T06:30:00.000000000",
          "2024-08-22T07:29:00.000000000",
          "2024-08-22T08:29:00.000000000",
          "2024-08-22T09:29:00.000000000",
          "2024-08-22T10:29:00.000000000",
          "2024-08-22T11:29:00.000000000",
          "2024-08-22T12:29:00.000000000",
          "2024-08-22T13:29:00.000000000",
          "2024-08-22T14:29:00.000000000",
          "2024-08-22T15:29:00.000000000",
          "2024-08-22T16:29:00.000000000",
          "2024-08-22T17:29:00.000000000",
          "2024-08-22T18:29:00.000000000",
          "2024-08-22T19:29:00.000000000",
          "2024-08-22T20:29:00.000000000",
          "2024-08-22T21:29:00.000000000",
          "2024-08-22T22:29:00.000000000",
          "2024-08-22T23:29:00.000000000",
          "2024-08-23T00:29:00.000000000",
          "2024-08-23T01:21:00.000000000",
          "2024-08-23T01:24:00.000000000",
          "2024-08-23T01:30:00.000000000",
          "2024-08-23T02:30:00.000000000",
          "2024-08-23T03:30:00.000000000",
          "2024-08-23T04:30:00.000000000",
          "2024-08-23T05:30:00.000000000",
          "2024-08-23T06:30:00.000000000",
          "2024-08-23T07:30:00.000000000",
          "2024-08-23T08:30:00.000000000",
          "2024-08-23T09:30:00.000000000",
          "2024-08-23T10:30:00.000000000",
          "2024-08-23T11:30:00.000000000",
          "2024-08-23T12:30:00.000000000",
          "2024-08-23T13:30:00.000000000",
          "2024-08-23T14:30:00.000000000",
          "2024-08-23T15:30:00.000000000",
          "2024-08-23T16:18:00.000000000",
          "2024-08-23T16:19:00.000000000",
          "2024-08-23T16:21:00.000000000",
          "2024-08-23T16:30:00.000000000",
          "2024-08-23T17:30:00.000000000",
          "2024-08-23T18:30:00.000000000",
          "2024-08-23T19:30:00.000000000",
          "2024-08-23T20:30:00.000000000",
          "2024-08-23T21:30:00.000000000",
          "2024-08-23T22:30:00.000000000",
          "2024-08-23T23:30:00.000000000",
          "2024-08-24T00:30:00.000000000",
          "2024-08-24T01:30:00.000000000",
          "2024-08-24T02:30:00.000000000",
          "2024-08-24T03:30:00.000000000",
          "2024-08-24T04:30:00.000000000",
          "2024-08-24T05:30:00.000000000",
          "2024-08-24T06:30:00.000000000",
          "2024-08-24T07:30:00.000000000",
          "2024-08-24T08:30:00.000000000",
          "2024-08-24T09:30:00.000000000",
          "2024-08-24T10:30:00.000000000",
          "2024-08-24T11:30:00.000000000",
          "2024-08-24T12:30:00.000000000",
          "2024-08-24T13:30:00.000000000",
          "2024-08-24T14:30:00.000000000",
          "2024-08-24T15:30:00.000000000",
          "2024-08-24T16:30:00.000000000",
          "2024-08-24T17:30:00.000000000",
          "2024-08-24T18:30:00.000000000",
          "2024-08-24T19:30:00.000000000",
          "2024-08-24T20:30:00.000000000",
          "2024-08-24T21:30:00.000000000",
          "2024-08-24T22:30:00.000000000",
          "2024-08-24T23:30:00.000000000",
          "2024-08-25T00:30:00.000000000",
          "2024-08-25T01:30:00.000000000",
          "2024-08-25T02:30:00.000000000",
          "2024-08-25T03:30:00.000000000",
          "2024-08-25T04:30:00.000000000",
          "2024-08-25T05:30:00.000000000",
          "2024-08-25T06:30:00.000000000",
          "2024-08-25T07:30:00.000000000",
          "2024-08-25T08:30:00.000000000",
          "2024-08-25T09:30:00.000000000",
          "2024-08-25T10:30:00.000000000",
          "2024-08-25T11:30:00.000000000",
          "2024-08-25T12:30:00.000000000",
          "2024-08-25T13:30:00.000000000",
          "2024-08-25T14:30:00.000000000",
          "2024-08-25T15:30:00.000000000",
          "2024-08-25T16:30:00.000000000",
          "2024-08-25T17:30:00.000000000",
          "2024-08-25T18:30:00.000000000",
          "2024-08-25T19:30:00.000000000",
          "2024-08-25T20:30:00.000000000",
          "2024-08-25T21:30:00.000000000",
          "2024-08-25T22:30:00.000000000",
          "2024-08-25T23:30:00.000000000",
          "2024-08-26T00:30:00.000000000",
          "2024-08-26T01:30:00.000000000",
          "2024-08-26T02:30:00.000000000",
          "2024-08-26T03:30:00.000000000",
          "2024-08-26T04:30:00.000000000",
          "2024-08-26T05:30:00.000000000",
          "2024-08-26T06:30:00.000000000",
          "2024-08-26T07:30:00.000000000",
          "2024-08-26T08:30:00.000000000",
          "2024-08-26T09:30:00.000000000",
          "2024-08-26T10:30:00.000000000",
          "2024-08-26T11:30:00.000000000",
          "2024-08-26T12:30:00.000000000",
          "2024-08-26T13:30:00.000000000",
          "2024-08-26T14:30:00.000000000",
          "2024-08-26T15:30:00.000000000",
          "2024-08-26T16:30:00.000000000",
          "2024-08-26T17:30:00.000000000",
          "2024-08-26T18:30:00.000000000",
          "2024-08-26T19:30:00.000000000",
          "2024-08-26T20:30:00.000000000",
          "2024-08-26T21:30:00.000000000",
          "2024-08-26T22:30:00.000000000",
          "2024-08-26T23:30:00.000000000",
          "2024-08-27T00:30:00.000000000",
          "2024-08-27T01:30:00.000000000",
          "2024-08-27T02:30:00.000000000",
          "2024-08-27T03:30:00.000000000",
          "2024-08-27T04:30:00.000000000",
          "2024-08-27T05:30:00.000000000",
          "2024-08-27T06:30:00.000000000",
          "2024-08-27T07:30:00.000000000",
          "2024-08-27T08:30:00.000000000",
          "2024-08-27T09:30:00.000000000",
          "2024-08-27T10:30:00.000000000",
          "2024-08-27T11:30:00.000000000",
          "2024-08-27T12:30:00.000000000",
          "2024-08-27T13:30:00.000000000",
          "2024-08-27T14:30:00.000000000",
          "2024-08-27T15:30:00.000000000",
          "2024-08-27T16:30:00.000000000",
          "2024-08-27T17:30:00.000000000",
          "2024-08-27T18:30:00.000000000",
          "2024-08-27T19:30:00.000000000",
          "2024-08-27T20:30:00.000000000",
          "2024-08-27T21:30:00.000000000",
          "2024-08-27T22:30:00.000000000",
          "2024-08-27T23:30:00.000000000",
          "2024-08-28T00:30:00.000000000",
          "2024-08-28T01:30:00.000000000",
          "2024-08-28T02:30:00.000000000",
          "2024-08-28T03:30:00.000000000",
          "2024-08-28T04:30:00.000000000",
          "2024-08-28T05:30:00.000000000",
          "2024-08-28T06:30:00.000000000",
          "2024-08-28T07:30:00.000000000",
          "2024-08-28T08:30:00.000000000",
          "2024-08-28T09:30:00.000000000",
          "2024-08-28T10:30:00.000000000",
          "2024-08-28T11:30:00.000000000",
          "2024-08-28T12:30:00.000000000",
          "2024-08-28T13:30:00.000000000",
          "2024-08-28T14:30:00.000000000",
          "2024-08-28T15:30:00.000000000",
          "2024-08-28T16:30:00.000000000",
          "2024-08-28T17:30:00.000000000",
          "2024-08-28T18:30:00.000000000",
          "2024-08-28T19:30:00.000000000",
          "2024-08-28T20:30:00.000000000",
          "2024-08-28T21:30:00.000000000",
          "2024-08-28T22:30:00.000000000",
          "2024-08-28T23:30:00.000000000",
          "2024-08-29T00:30:00.000000000",
          "2024-08-29T01:30:00.000000000",
          "2024-08-29T02:30:00.000000000",
          "2024-08-29T03:30:00.000000000",
          "2024-08-29T04:30:00.000000000",
          "2024-08-29T05:30:00.000000000",
          "2024-08-29T06:30:00.000000000",
          "2024-08-29T07:30:00.000000000",
          "2024-08-29T08:30:00.000000000",
          "2024-08-29T09:30:00.000000000",
          "2024-08-29T10:30:00.000000000",
          "2024-08-29T11:30:00.000000000",
          "2024-08-29T12:30:00.000000000",
          "2024-08-29T13:30:00.000000000",
          "2024-08-29T14:30:00.000000000",
          "2024-08-29T15:30:00.000000000",
          "2024-08-29T16:30:00.000000000",
          "2024-08-29T17:30:00.000000000",
          "2024-08-29T18:30:00.000000000",
          "2024-08-29T19:30:00.000000000",
          "2024-08-29T20:30:00.000000000",
          "2024-08-29T21:30:00.000000000",
          "2024-08-29T22:30:00.000000000",
          "2024-08-29T23:30:00.000000000",
          "2024-08-30T00:30:00.000000000",
          "2024-08-30T01:30:00.000000000",
          "2024-08-30T02:30:00.000000000",
          "2024-08-30T03:30:00.000000000",
          "2024-08-30T04:30:00.000000000",
          "2024-08-30T05:30:00.000000000",
          "2024-08-30T06:30:00.000000000",
          "2024-08-30T07:30:00.000000000",
          "2024-08-30T08:30:00.000000000",
          "2024-08-30T09:30:00.000000000",
          "2024-08-30T10:30:00.000000000",
          "2024-08-30T11:30:00.000000000",
          "2024-08-30T12:30:00.000000000",
          "2024-08-30T13:30:00.000000000",
          "2024-08-30T14:30:00.000000000",
          "2024-08-30T15:30:00.000000000",
          "2024-08-30T16:30:00.000000000",
          "2024-08-30T17:30:00.000000000",
          "2024-08-30T18:30:00.000000000",
          "2024-08-30T19:30:00.000000000",
          "2024-08-30T20:30:00.000000000",
          "2024-08-30T21:30:00.000000000",
          "2024-08-30T22:30:00.000000000",
          "2024-08-30T23:30:00.000000000",
          "2024-08-31T00:30:00.000000000",
          "2024-08-31T01:30:00.000000000",
          "2024-08-31T02:30:00.000000000",
          "2024-08-31T03:30:00.000000000",
          "2024-08-31T04:30:00.000000000",
          "2024-08-31T05:30:00.000000000",
          "2024-08-31T06:30:00.000000000",
          "2024-08-31T07:30:00.000000000",
          "2024-08-31T08:30:00.000000000",
          "2024-08-31T09:30:00.000000000",
          "2024-08-31T10:30:00.000000000",
          "2024-08-31T11:30:00.000000000",
          "2024-08-31T12:30:00.000000000",
          "2024-08-31T13:30:00.000000000",
          "2024-08-31T14:30:00.000000000",
          "2024-08-31T15:30:00.000000000",
          "2024-08-31T16:30:00.000000000",
          "2024-08-31T17:30:00.000000000",
          "2024-08-31T18:30:00.000000000",
          "2024-08-31T19:30:00.000000000",
          "2024-08-31T20:30:00.000000000",
          "2024-08-31T21:30:00.000000000",
          "2024-08-31T22:30:00.000000000",
          "2024-08-31T23:30:00.000000000",
          "2024-09-01T00:30:00.000000000",
          "2024-09-01T01:30:00.000000000",
          "2024-09-01T02:30:00.000000000",
          "2024-09-01T03:30:00.000000000",
          "2024-09-01T04:30:00.000000000",
          "2024-09-01T05:30:00.000000000",
          "2024-09-01T06:30:00.000000000",
          "2024-09-01T07:30:00.000000000",
          "2024-09-01T08:30:00.000000000",
          "2024-09-01T09:30:00.000000000",
          "2024-09-01T10:30:00.000000000",
          "2024-09-01T11:30:00.000000000",
          "2024-09-01T12:30:00.000000000",
          "2024-09-01T13:30:00.000000000",
          "2024-09-01T14:30:00.000000000",
          "2024-09-01T15:30:00.000000000",
          "2024-09-01T16:30:00.000000000",
          "2024-09-01T17:30:00.000000000",
          "2024-09-01T18:30:00.000000000",
          "2024-09-01T19:30:00.000000000",
          "2024-09-01T20:30:00.000000000",
          "2024-09-01T21:30:00.000000000",
          "2024-09-01T22:30:00.000000000",
          "2024-09-01T23:30:00.000000000",
          "2024-09-02T00:30:00.000000000",
          "2024-09-02T01:30:00.000000000",
          "2024-09-02T02:30:00.000000000",
          "2024-09-02T03:30:00.000000000",
          "2024-09-02T04:30:00.000000000",
          "2024-09-02T05:30:00.000000000",
          "2024-09-02T06:30:00.000000000",
          "2024-09-02T07:30:00.000000000",
          "2024-09-02T08:30:00.000000000",
          "2024-09-02T09:30:00.000000000",
          "2024-09-02T10:30:00.000000000",
          "2024-09-02T11:30:00.000000000",
          "2024-09-02T12:30:00.000000000",
          "2024-09-02T13:30:00.000000000"
         ],
         "y": {
          "bdata": "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",
          "dtype": "f8"
         }
        }
       ],
       "layout": {
        "legend": {
         "title": {
          "text": "Type"
         }
        },
        "template": {
         "data": {
          "bar": [
           {
            "error_x": {
             "color": "#2a3f5f"
            },
            "error_y": {
             "color": "#2a3f5f"
            },
            "marker": {
             "line": {
              "color": "white",
              "width": 0.5
             },
             "pattern": {
              "fillmode": "overlay",
              "size": 10,
              "solidity": 0.2
             }
            },
            "type": "bar"
           }
          ],
          "barpolar": [
           {
            "marker": {
             "line": {
              "color": "white",
              "width": 0.5
             },
             "pattern": {
              "fillmode": "overlay",
              "size": 10,
              "solidity": 0.2
             }
            },
            "type": "barpolar"
           }
          ],
          "carpet": [
           {
            "aaxis": {
             "endlinecolor": "#2a3f5f",
             "gridcolor": "#C8D4E3",
             "linecolor": "#C8D4E3",
             "minorgridcolor": "#C8D4E3",
             "startlinecolor": "#2a3f5f"
            },
            "baxis": {
             "endlinecolor": "#2a3f5f",
             "gridcolor": "#C8D4E3",
             "linecolor": "#C8D4E3",
             "minorgridcolor": "#C8D4E3",
             "startlinecolor": "#2a3f5f"
            },
            "type": "carpet"
           }
          ],
          "choropleth": [
           {
            "colorbar": {
             "outlinewidth": 0,
             "ticks": ""
            },
            "type": "choropleth"
           }
          ],
          "contour": [
           {
            "colorbar": {
             "outlinewidth": 0,
             "ticks": ""
            },
            "colorscale": [
             [
              0,
              "#0d0887"
             ],
             [
              0.1111111111111111,
              "#46039f"
             ],
             [
              0.2222222222222222,
              "#7201a8"
             ],
             [
              0.3333333333333333,
              "#9c179e"
             ],
             [
              0.4444444444444444,
              "#bd3786"
             ],
             [
              0.5555555555555556,
              "#d8576b"
             ],
             [
              0.6666666666666666,
              "#ed7953"
             ],
             [
              0.7777777777777778,
              "#fb9f3a"
             ],
             [
              0.8888888888888888,
              "#fdca26"
             ],
             [
              1,
              "#f0f921"
             ]
            ],
            "type": "contour"
           }
          ],
          "contourcarpet": [
           {
            "colorbar": {
             "outlinewidth": 0,
             "ticks": ""
            },
            "type": "contourcarpet"
           }
          ],
          "heatmap": [
           {
            "colorbar": {
             "outlinewidth": 0,
             "ticks": ""
            },
            "colorscale": [
             [
              0,
              "#0d0887"
             ],
             [
              0.1111111111111111,
              "#46039f"
             ],
             [
              0.2222222222222222,
              "#7201a8"
             ],
             [
              0.3333333333333333,
              "#9c179e"
             ],
             [
              0.4444444444444444,
              "#bd3786"
             ],
             [
              0.5555555555555556,
              "#d8576b"
             ],
             [
              0.6666666666666666,
              "#ed7953"
             ],
             [
              0.7777777777777778,
              "#fb9f3a"
             ],
             [
              0.8888888888888888,
              "#fdca26"
             ],
             [
              1,
              "#f0f921"
             ]
            ],
            "type": "heatmap"
           }
          ],
          "histogram": [
           {
            "marker": {
             "pattern": {
              "fillmode": "overlay",
              "size": 10,
              "solidity": 0.2
             }
            },
            "type": "histogram"
           }
          ],
          "histogram2d": [
           {
            "colorbar": {
             "outlinewidth": 0,
             "ticks": ""
            },
            "colorscale": [
             [
              0,
              "#0d0887"
             ],
             [
              0.1111111111111111,
              "#46039f"
             ],
             [
              0.2222222222222222,
              "#7201a8"
             ],
             [
              0.3333333333333333,
              "#9c179e"
             ],
             [
              0.4444444444444444,
              "#bd3786"
             ],
             [
              0.5555555555555556,
              "#d8576b"
             ],
             [
              0.6666666666666666,
              "#ed7953"
             ],
             [
              0.7777777777777778,
              "#fb9f3a"
             ],
             [
              0.8888888888888888,
              "#fdca26"
             ],
             [
              1,
              "#f0f921"
             ]
            ],
            "type": "histogram2d"
           }
          ],
          "histogram2dcontour": [
           {
            "colorbar": {
             "outlinewidth": 0,
             "ticks": ""
            },
            "colorscale": [
             [
              0,
              "#0d0887"
             ],
             [
              0.1111111111111111,
              "#46039f"
             ],
             [
              0.2222222222222222,
              "#7201a8"
             ],
             [
              0.3333333333333333,
              "#9c179e"
             ],
             [
              0.4444444444444444,
              "#bd3786"
             ],
             [
              0.5555555555555556,
              "#d8576b"
             ],
             [
              0.6666666666666666,
              "#ed7953"
             ],
             [
              0.7777777777777778,
              "#fb9f3a"
             ],
             [
              0.8888888888888888,
              "#fdca26"
             ],
             [
              1,
              "#f0f921"
             ]
            ],
            "type": "histogram2dcontour"
           }
          ],
          "mesh3d": [
           {
            "colorbar": {
             "outlinewidth": 0,
             "ticks": ""
            },
            "type": "mesh3d"
           }
          ],
          "parcoords": [
           {
            "line": {
             "colorbar": {
              "outlinewidth": 0,
              "ticks": ""
             }
            },
            "type": "parcoords"
           }
          ],
          "pie": [
           {
            "automargin": true,
            "type": "pie"
           }
          ],
          "scatter": [
           {
            "fillpattern": {
             "fillmode": "overlay",
             "size": 10,
             "solidity": 0.2
            },
            "type": "scatter"
           }
          ],
          "scatter3d": [
           {
            "line": {
             "colorbar": {
              "outlinewidth": 0,
              "ticks": ""
             }
            },
            "marker": {
             "colorbar": {
              "outlinewidth": 0,
              "ticks": ""
             }
            },
            "type": "scatter3d"
           }
          ],
          "scattercarpet": [
           {
            "marker": {
             "colorbar": {
              "outlinewidth": 0,
              "ticks": ""
             }
            },
            "type": "scattercarpet"
           }
          ],
          "scattergeo": [
           {
            "marker": {
             "colorbar": {
              "outlinewidth": 0,
              "ticks": ""
             }
            },
            "type": "scattergeo"
           }
          ],
          "scattergl": [
           {
            "marker": {
             "colorbar": {
              "outlinewidth": 0,
              "ticks": ""
             }
            },
            "type": "scattergl"
           }
          ],
          "scattermap": [
           {
            "marker": {
             "colorbar": {
              "outlinewidth": 0,
              "ticks": ""
             }
            },
            "type": "scattermap"
           }
          ],
          "scattermapbox": [
           {
            "marker": {
             "colorbar": {
              "outlinewidth": 0,
              "ticks": ""
             }
            },
            "type": "scattermapbox"
           }
          ],
          "scatterpolar": [
           {
            "marker": {
             "colorbar": {
              "outlinewidth": 0,
              "ticks": ""
             }
            },
            "type": "scatterpolar"
           }
          ],
          "scatterpolargl": [
           {
            "marker": {
             "colorbar": {
              "outlinewidth": 0,
              "ticks": ""
             }
            },
            "type": "scatterpolargl"
           }
          ],
          "scatterternary": [
           {
            "marker": {
             "colorbar": {
              "outlinewidth": 0,
              "ticks": ""
             }
            },
            "type": "scatterternary"
           }
          ],
          "surface": [
           {
            "colorbar": {
             "outlinewidth": 0,
             "ticks": ""
            },
            "colorscale": [
             [
              0,
              "#0d0887"
             ],
             [
              0.1111111111111111,
              "#46039f"
             ],
             [
              0.2222222222222222,
              "#7201a8"
             ],
             [
              0.3333333333333333,
              "#9c179e"
             ],
             [
              0.4444444444444444,
              "#bd3786"
             ],
             [
              0.5555555555555556,
              "#d8576b"
             ],
             [
              0.6666666666666666,
              "#ed7953"
             ],
             [
              0.7777777777777778,
              "#fb9f3a"
             ],
             [
              0.8888888888888888,
              "#fdca26"
             ],
             [
              1,
              "#f0f921"
             ]
            ],
            "type": "surface"
           }
          ],
          "table": [
           {
            "cells": {
             "fill": {
              "color": "#EBF0F8"
             },
             "line": {
              "color": "white"
             }
            },
            "header": {
             "fill": {
              "color": "#C8D4E3"
             },
             "line": {
              "color": "white"
             }
            },
            "type": "table"
           }
          ]
         },
         "layout": {
          "annotationdefaults": {
           "arrowcolor": "#2a3f5f",
           "arrowhead": 0,
           "arrowwidth": 1
          },
          "autotypenumbers": "strict",
          "coloraxis": {
           "colorbar": {
            "outlinewidth": 0,
            "ticks": ""
           }
          },
          "colorscale": {
           "diverging": [
            [
             0,
             "#8e0152"
            ],
            [
             0.1,
             "#c51b7d"
            ],
            [
             0.2,
             "#de77ae"
            ],
            [
             0.3,
             "#f1b6da"
            ],
            [
             0.4,
             "#fde0ef"
            ],
            [
             0.5,
             "#f7f7f7"
            ],
            [
             0.6,
             "#e6f5d0"
            ],
            [
             0.7,
             "#b8e186"
            ],
            [
             0.8,
             "#7fbc41"
            ],
            [
             0.9,
             "#4d9221"
            ],
            [
             1,
             "#276419"
            ]
           ],
           "sequential": [
            [
             0,
             "#0d0887"
            ],
            [
             0.1111111111111111,
             "#46039f"
            ],
            [
             0.2222222222222222,
             "#7201a8"
            ],
            [
             0.3333333333333333,
             "#9c179e"
            ],
            [
             0.4444444444444444,
             "#bd3786"
            ],
            [
             0.5555555555555556,
             "#d8576b"
            ],
            [
             0.6666666666666666,
             "#ed7953"
            ],
            [
             0.7777777777777778,
             "#fb9f3a"
            ],
            [
             0.8888888888888888,
             "#fdca26"
            ],
            [
             1,
             "#f0f921"
            ]
           ],
           "sequentialminus": [
            [
             0,
             "#0d0887"
            ],
            [
             0.1111111111111111,
             "#46039f"
            ],
            [
             0.2222222222222222,
             "#7201a8"
            ],
            [
             0.3333333333333333,
             "#9c179e"
            ],
            [
             0.4444444444444444,
             "#bd3786"
            ],
            [
             0.5555555555555556,
             "#d8576b"
            ],
            [
             0.6666666666666666,
             "#ed7953"
            ],
            [
             0.7777777777777778,
             "#fb9f3a"
            ],
            [
             0.8888888888888888,
             "#fdca26"
            ],
            [
             1,
             "#f0f921"
            ]
           ]
          },
          "colorway": [
           "#636efa",
           "#EF553B",
           "#00cc96",
           "#ab63fa",
           "#FFA15A",
           "#19d3f3",
           "#FF6692",
           "#B6E880",
           "#FF97FF",
           "#FECB52"
          ],
          "font": {
           "color": "#2a3f5f"
          },
          "geo": {
           "bgcolor": "white",
           "lakecolor": "white",
           "landcolor": "white",
           "showlakes": true,
           "showland": true,
           "subunitcolor": "#C8D4E3"
          },
          "hoverlabel": {
           "align": "left"
          },
          "hovermode": "closest",
          "mapbox": {
           "style": "light"
          },
          "paper_bgcolor": "white",
          "plot_bgcolor": "white",
          "polar": {
           "angularaxis": {
            "gridcolor": "#EBF0F8",
            "linecolor": "#EBF0F8",
            "ticks": ""
           },
           "bgcolor": "white",
           "radialaxis": {
            "gridcolor": "#EBF0F8",
            "linecolor": "#EBF0F8",
            "ticks": ""
           }
          },
          "scene": {
           "xaxis": {
            "backgroundcolor": "white",
            "gridcolor": "#DFE8F3",
            "gridwidth": 2,
            "linecolor": "#EBF0F8",
            "showbackground": true,
            "ticks": "",
            "zerolinecolor": "#EBF0F8"
           },
           "yaxis": {
            "backgroundcolor": "white",
            "gridcolor": "#DFE8F3",
            "gridwidth": 2,
            "linecolor": "#EBF0F8",
            "showbackground": true,
            "ticks": "",
            "zerolinecolor": "#EBF0F8"
           },
           "zaxis": {
            "backgroundcolor": "white",
            "gridcolor": "#DFE8F3",
            "gridwidth": 2,
            "linecolor": "#EBF0F8",
            "showbackground": true,
            "ticks": "",
            "zerolinecolor": "#EBF0F8"
           }
          },
          "shapedefaults": {
           "line": {
            "color": "#2a3f5f"
           }
          },
          "ternary": {
           "aaxis": {
            "gridcolor": "#DFE8F3",
            "linecolor": "#A2B1C6",
            "ticks": ""
           },
           "baxis": {
            "gridcolor": "#DFE8F3",
            "linecolor": "#A2B1C6",
            "ticks": ""
           },
           "bgcolor": "white",
           "caxis": {
            "gridcolor": "#DFE8F3",
            "linecolor": "#A2B1C6",
            "ticks": ""
           }
          },
          "title": {
           "x": 0.05
          },
          "xaxis": {
           "automargin": true,
           "gridcolor": "#EBF0F8",
           "linecolor": "#EBF0F8",
           "ticks": "",
           "title": {
            "standoff": 15
           },
           "zerolinecolor": "#EBF0F8",
           "zerolinewidth": 2
          },
          "yaxis": {
           "automargin": true,
           "gridcolor": "#EBF0F8",
           "linecolor": "#EBF0F8",
           "ticks": "",
           "title": {
            "standoff": 15
           },
           "zerolinecolor": "#EBF0F8",
           "zerolinewidth": 2
          }
         }
        },
        "title": {
         "text": "BOB/USDT"
        },
        "xaxis": {
         "title": {
          "text": "Timestamp"
         }
        },
        "yaxis": {
         "title": {
          "text": "Price"
         }
        }
       }
      }
     },
     "metadata": {},
     "output_type": "display_data"
    }
   ],
   "source": [
    "fig = go.Figure()\n",
    "fig.add_trace(go.Scatter(x=dolarbo.index, y=dolarbo['compra'], mode='lines', name='Buy', line=dict(color='blue')))\n",
    "fig.add_trace(go.Scatter(x=dolarbo.index, y=dolarbo['venta'], mode='lines', name='Sell', line=dict(color='red')))\n",
    "fig.add_trace(go.Scatter(x=hourly_minute_bid.index, y=hourly_minute_bid.values, mode='lines', name='Bid Price', line=dict(color='pink')))\n",
    "fig.add_trace(go.Scatter(x=hourly_minute_ask.index, y=hourly_minute_ask.values, mode='lines', name='Ask Price', line=dict(color='orange')))\n",
    "fig.update_layout(\n",
    "    title='BOB/USDT',\n",
    "    xaxis_title='Timestamp',\n",
    "    yaxis_title='Price',\n",
    "    legend_title='Type',\n",
    "    template='plotly_white'\n",
    ")\n",
    "\n",
    "fig.show()"
   ]
  },
  {
   "cell_type": "code",
   "execution_count": 14,
   "metadata": {},
   "outputs": [
    {
     "data": {
      "text/plain": [
       "timestamp\n",
       "2024-07-31     9.783415\n",
       "2024-08-31    10.668275\n",
       "2024-09-30    10.453263\n",
       "Freq: M, Name: price, dtype: float64"
      ]
     },
     "execution_count": 14,
     "metadata": {},
     "output_type": "execute_result"
    }
   ],
   "source": [
    "# Resample the DataFrame\n",
    "resampled_df = kaggle_df['price'].resample('M').mean()\n",
    "resampled_df"
   ]
  },
  {
   "cell_type": "code",
   "execution_count": null,
   "metadata": {},
   "outputs": [],
   "source": []
  },
  {
   "cell_type": "markdown",
   "metadata": {},
   "source": [
    "## EPU Index"
   ]
  },
  {
   "cell_type": "code",
   "execution_count": 100,
   "metadata": {},
   "outputs": [
    {
     "name": "stdout",
     "output_type": "stream",
     "text": [
      "<class 'pandas.core.frame.DataFrame'>\n",
      "DatetimeIndex: 1695 entries, 2019-04-03 to 2025-04-11\n",
      "Data columns (total 2 columns):\n",
      " #   Column          Non-Null Count  Dtype  \n",
      "---  ------          --------------  -----  \n",
      " 0   EPU_index       1695 non-null   float64\n",
      " 1   EPU_index_norm  1695 non-null   float64\n",
      "dtypes: float64(2)\n",
      "memory usage: 39.7 KB\n"
     ]
    }
   ],
   "source": [
    "epu_day = pd.read_csv('./DATA/EPU_index_bolivia.csv', index_col=0)\n",
    "epu_day.index = pd.to_datetime(epu_day.index)\n",
    "epu_day.info()"
   ]
  },
  {
   "cell_type": "code",
   "execution_count": null,
   "metadata": {},
   "outputs": [],
   "source": []
  },
  {
   "cell_type": "markdown",
   "metadata": {},
   "source": [
    "## DSGE Data"
   ]
  },
  {
   "cell_type": "code",
   "execution_count": 101,
   "metadata": {},
   "outputs": [
    {
     "data": {
      "text/html": [
       "<div>\n",
       "<style scoped>\n",
       "    .dataframe tbody tr th:only-of-type {\n",
       "        vertical-align: middle;\n",
       "    }\n",
       "\n",
       "    .dataframe tbody tr th {\n",
       "        vertical-align: top;\n",
       "    }\n",
       "\n",
       "    .dataframe thead th {\n",
       "        text-align: right;\n",
       "    }\n",
       "</style>\n",
       "<table border=\"1\" class=\"dataframe\">\n",
       "  <thead>\n",
       "    <tr style=\"text-align: right;\">\n",
       "      <th></th>\n",
       "      <th>EPU_index</th>\n",
       "      <th>EPU_index_norm</th>\n",
       "    </tr>\n",
       "    <tr>\n",
       "      <th>timestamp</th>\n",
       "      <th></th>\n",
       "      <th></th>\n",
       "    </tr>\n",
       "  </thead>\n",
       "  <tbody>\n",
       "    <tr>\n",
       "      <th>2019-04-30</th>\n",
       "      <td>0.000000</td>\n",
       "      <td>0.000000</td>\n",
       "    </tr>\n",
       "    <tr>\n",
       "      <th>2019-05-31</th>\n",
       "      <td>0.000889</td>\n",
       "      <td>21.973180</td>\n",
       "    </tr>\n",
       "    <tr>\n",
       "      <th>2019-06-30</th>\n",
       "      <td>0.003551</td>\n",
       "      <td>87.769447</td>\n",
       "    </tr>\n",
       "    <tr>\n",
       "      <th>2019-07-31</th>\n",
       "      <td>0.002829</td>\n",
       "      <td>69.908573</td>\n",
       "    </tr>\n",
       "    <tr>\n",
       "      <th>2019-08-31</th>\n",
       "      <td>0.000000</td>\n",
       "      <td>0.000000</td>\n",
       "    </tr>\n",
       "    <tr>\n",
       "      <th>...</th>\n",
       "      <td>...</td>\n",
       "      <td>...</td>\n",
       "    </tr>\n",
       "    <tr>\n",
       "      <th>2024-12-31</th>\n",
       "      <td>0.005594</td>\n",
       "      <td>138.246011</td>\n",
       "    </tr>\n",
       "    <tr>\n",
       "      <th>2025-01-31</th>\n",
       "      <td>0.009096</td>\n",
       "      <td>224.817445</td>\n",
       "    </tr>\n",
       "    <tr>\n",
       "      <th>2025-02-28</th>\n",
       "      <td>0.005862</td>\n",
       "      <td>144.874381</td>\n",
       "    </tr>\n",
       "    <tr>\n",
       "      <th>2025-03-31</th>\n",
       "      <td>0.012485</td>\n",
       "      <td>308.569580</td>\n",
       "    </tr>\n",
       "    <tr>\n",
       "      <th>2025-04-30</th>\n",
       "      <td>0.006347</td>\n",
       "      <td>156.872751</td>\n",
       "    </tr>\n",
       "  </tbody>\n",
       "</table>\n",
       "<p>73 rows × 2 columns</p>\n",
       "</div>"
      ],
      "text/plain": [
       "            EPU_index  EPU_index_norm\n",
       "timestamp                            \n",
       "2019-04-30   0.000000        0.000000\n",
       "2019-05-31   0.000889       21.973180\n",
       "2019-06-30   0.003551       87.769447\n",
       "2019-07-31   0.002829       69.908573\n",
       "2019-08-31   0.000000        0.000000\n",
       "...               ...             ...\n",
       "2024-12-31   0.005594      138.246011\n",
       "2025-01-31   0.009096      224.817445\n",
       "2025-02-28   0.005862      144.874381\n",
       "2025-03-31   0.012485      308.569580\n",
       "2025-04-30   0.006347      156.872751\n",
       "\n",
       "[73 rows x 2 columns]"
      ]
     },
     "execution_count": 101,
     "metadata": {},
     "output_type": "execute_result"
    }
   ],
   "source": [
    "epu_month = epu_day.resample('M').mean()\n",
    "epu_month"
   ]
  },
  {
   "cell_type": "code",
   "execution_count": 77,
   "metadata": {},
   "outputs": [
    {
     "data": {
      "text/html": [
       "<div>\n",
       "<style scoped>\n",
       "    .dataframe tbody tr th:only-of-type {\n",
       "        vertical-align: middle;\n",
       "    }\n",
       "\n",
       "    .dataframe tbody tr th {\n",
       "        vertical-align: top;\n",
       "    }\n",
       "\n",
       "    .dataframe thead th {\n",
       "        text-align: right;\n",
       "    }\n",
       "</style>\n",
       "<table border=\"1\" class=\"dataframe\">\n",
       "  <thead>\n",
       "    <tr style=\"text-align: right;\">\n",
       "      <th></th>\n",
       "      <th>usdtbol</th>\n",
       "      <th>dolarbo_compra</th>\n",
       "      <th>dolarbo_venta</th>\n",
       "    </tr>\n",
       "    <tr>\n",
       "      <th>timestamp</th>\n",
       "      <th></th>\n",
       "      <th></th>\n",
       "      <th></th>\n",
       "    </tr>\n",
       "  </thead>\n",
       "  <tbody>\n",
       "    <tr>\n",
       "      <th>2023-09-30</th>\n",
       "      <td>NaN</td>\n",
       "      <td>7.400000</td>\n",
       "      <td>7.550000</td>\n",
       "    </tr>\n",
       "    <tr>\n",
       "      <th>2023-10-31</th>\n",
       "      <td>NaN</td>\n",
       "      <td>7.405000</td>\n",
       "      <td>7.555000</td>\n",
       "    </tr>\n",
       "    <tr>\n",
       "      <th>2023-11-30</th>\n",
       "      <td>NaN</td>\n",
       "      <td>7.410000</td>\n",
       "      <td>7.560000</td>\n",
       "    </tr>\n",
       "    <tr>\n",
       "      <th>2023-12-31</th>\n",
       "      <td>NaN</td>\n",
       "      <td>7.550000</td>\n",
       "      <td>7.650000</td>\n",
       "    </tr>\n",
       "    <tr>\n",
       "      <th>2024-01-31</th>\n",
       "      <td>NaN</td>\n",
       "      <td>7.835000</td>\n",
       "      <td>8.027500</td>\n",
       "    </tr>\n",
       "    <tr>\n",
       "      <th>2024-02-29</th>\n",
       "      <td>NaN</td>\n",
       "      <td>8.120000</td>\n",
       "      <td>8.405000</td>\n",
       "    </tr>\n",
       "    <tr>\n",
       "      <th>2024-03-31</th>\n",
       "      <td>NaN</td>\n",
       "      <td>8.146667</td>\n",
       "      <td>8.246667</td>\n",
       "    </tr>\n",
       "    <tr>\n",
       "      <th>2024-04-30</th>\n",
       "      <td>NaN</td>\n",
       "      <td>8.321667</td>\n",
       "      <td>8.471667</td>\n",
       "    </tr>\n",
       "    <tr>\n",
       "      <th>2024-05-31</th>\n",
       "      <td>NaN</td>\n",
       "      <td>8.496667</td>\n",
       "      <td>8.696667</td>\n",
       "    </tr>\n",
       "    <tr>\n",
       "      <th>2024-06-30</th>\n",
       "      <td>NaN</td>\n",
       "      <td>9.037778</td>\n",
       "      <td>9.110000</td>\n",
       "    </tr>\n",
       "    <tr>\n",
       "      <th>2024-07-31</th>\n",
       "      <td>NaN</td>\n",
       "      <td>10.170000</td>\n",
       "      <td>10.304706</td>\n",
       "    </tr>\n",
       "    <tr>\n",
       "      <th>2024-08-31</th>\n",
       "      <td>11.385874</td>\n",
       "      <td>11.278378</td>\n",
       "      <td>11.398649</td>\n",
       "    </tr>\n",
       "    <tr>\n",
       "      <th>2024-09-30</th>\n",
       "      <td>10.519318</td>\n",
       "      <td>10.440909</td>\n",
       "      <td>10.675758</td>\n",
       "    </tr>\n",
       "    <tr>\n",
       "      <th>2024-10-31</th>\n",
       "      <td>10.569111</td>\n",
       "      <td>10.315789</td>\n",
       "      <td>10.817544</td>\n",
       "    </tr>\n",
       "    <tr>\n",
       "      <th>2024-11-30</th>\n",
       "      <td>11.215875</td>\n",
       "      <td>10.689474</td>\n",
       "      <td>11.217544</td>\n",
       "    </tr>\n",
       "    <tr>\n",
       "      <th>2024-12-31</th>\n",
       "      <td>11.132727</td>\n",
       "      <td>10.816000</td>\n",
       "      <td>11.364000</td>\n",
       "    </tr>\n",
       "    <tr>\n",
       "      <th>2025-01-31</th>\n",
       "      <td>11.277647</td>\n",
       "      <td>10.991667</td>\n",
       "      <td>11.497917</td>\n",
       "    </tr>\n",
       "    <tr>\n",
       "      <th>2025-02-28</th>\n",
       "      <td>11.253636</td>\n",
       "      <td>10.948936</td>\n",
       "      <td>11.476596</td>\n",
       "    </tr>\n",
       "    <tr>\n",
       "      <th>2025-03-31</th>\n",
       "      <td>12.026694</td>\n",
       "      <td>11.636735</td>\n",
       "      <td>12.144898</td>\n",
       "    </tr>\n",
       "    <tr>\n",
       "      <th>2025-04-30</th>\n",
       "      <td>13.084880</td>\n",
       "      <td>12.761538</td>\n",
       "      <td>13.284615</td>\n",
       "    </tr>\n",
       "  </tbody>\n",
       "</table>\n",
       "</div>"
      ],
      "text/plain": [
       "              usdtbol  dolarbo_compra  dolarbo_venta\n",
       "timestamp                                           \n",
       "2023-09-30        NaN        7.400000       7.550000\n",
       "2023-10-31        NaN        7.405000       7.555000\n",
       "2023-11-30        NaN        7.410000       7.560000\n",
       "2023-12-31        NaN        7.550000       7.650000\n",
       "2024-01-31        NaN        7.835000       8.027500\n",
       "2024-02-29        NaN        8.120000       8.405000\n",
       "2024-03-31        NaN        8.146667       8.246667\n",
       "2024-04-30        NaN        8.321667       8.471667\n",
       "2024-05-31        NaN        8.496667       8.696667\n",
       "2024-06-30        NaN        9.037778       9.110000\n",
       "2024-07-31        NaN       10.170000      10.304706\n",
       "2024-08-31  11.385874       11.278378      11.398649\n",
       "2024-09-30  10.519318       10.440909      10.675758\n",
       "2024-10-31  10.569111       10.315789      10.817544\n",
       "2024-11-30  11.215875       10.689474      11.217544\n",
       "2024-12-31  11.132727       10.816000      11.364000\n",
       "2025-01-31  11.277647       10.991667      11.497917\n",
       "2025-02-28  11.253636       10.948936      11.476596\n",
       "2025-03-31  12.026694       11.636735      12.144898\n",
       "2025-04-30  13.084880       12.761538      13.284615"
      ]
     },
     "execution_count": 77,
     "metadata": {},
     "output_type": "execute_result"
    }
   ],
   "source": [
    "usdtbol_month = usdtbol.resample('M').mean()\n",
    "dolarbo_month = dolarbo.resample('M').mean() \n",
    "#usdtbol_month = usdtbol.resample('M').max()\n",
    "#dolarbo_month = dolarbo.resample('M').max() \n",
    "\n",
    "monthly_usdt = pd.merge(usdtbol_month, dolarbo_month, how='outer', left_index=True, right_index=True)\n",
    "monthly_usdt.columns = ['usdtbol', 'dolarbo_compra', 'dolarbo_venta']\n",
    "monthly_usdt = monthly_usdt.interpolate(method='linear', limit_direction='forward')\n",
    "\n",
    "monthly_usdt"
   ]
  },
  {
   "cell_type": "code",
   "execution_count": 102,
   "metadata": {},
   "outputs": [
    {
     "name": "stdout",
     "output_type": "stream",
     "text": [
      "<class 'pandas.core.frame.DataFrame'>\n",
      "DatetimeIndex: 420 entries, 1990-01-31 to 2024-12-31\n",
      "Freq: M\n",
      "Data columns (total 6 columns):\n",
      " #   Column    Non-Null Count  Dtype  \n",
      "---  ------    --------------  -----  \n",
      " 0   igae      420 non-null    float64\n",
      " 1   ipc       420 non-null    float64\n",
      " 2   exchange  420 non-null    float64\n",
      " 3   igae_sa   420 non-null    float64\n",
      " 4   ipc_sa    420 non-null    float64\n",
      " 5   epu       63 non-null     float64\n",
      "dtypes: float64(6)\n",
      "memory usage: 39.1 KB\n"
     ]
    }
   ],
   "source": [
    "igae_ipc = pd.read_excel('./DATA/igae_ipc.xlsx', index_col=0)\n",
    "igae_ipc.index = igae_ipc.index.to_period('M').to_timestamp('M')\n",
    "\n",
    "# Perform seasonal decomposition for 'igae'\n",
    "igae_stl = STL(igae_ipc['igae'], seasonal=13)\n",
    "igae_decomposition = igae_stl.fit()\n",
    "igae_seasonally_adjusted = igae_ipc['igae'] - igae_decomposition.seasonal\n",
    "\n",
    "# Perform seasonal decomposition for 'ipc'\n",
    "ipc_stl = STL(igae_ipc['ipc'], seasonal=13)\n",
    "ipc_decomposition = ipc_stl.fit()\n",
    "ipc_seasonally_adjusted = igae_ipc['ipc'] - ipc_decomposition.seasonal\n",
    "\n",
    "# Add the seasonally adjusted series to the DataFrame\n",
    "igae_ipc['igae_sa'] = igae_seasonally_adjusted\n",
    "igae_ipc['ipc_sa'] = ipc_seasonally_adjusted\n",
    "\n",
    "# Filling Exchange rate NaN values\n",
    "igae_ipc.loc['2023-09-30':'2024-12-31', 'exchange'] = monthly_usdt.loc['2023-09-30':'2024-12-31', 'dolarbo_venta']\n",
    "igae_ipc['exchange'] = igae_ipc['exchange'].interpolate(method='linear', limit_direction='forward')\n",
    "\n",
    "# Add EPU\n",
    "igae_ipc['epu'] = np.nan\n",
    "igae_ipc.loc['2019-04-30':'2024-12-31', 'epu'] = epu_month.loc['2019-04-30':'2024-12-31', 'EPU_index_norm']\n",
    "\n",
    "igae_ipc.info()"
   ]
  },
  {
   "cell_type": "code",
   "execution_count": 103,
   "metadata": {},
   "outputs": [
    {
     "data": {
      "application/vnd.plotly.v1+json": {
       "config": {
        "plotlyServerURL": "https://plot.ly"
       },
       "data": [
        {
         "line": {
          "color": "blue"
         },
         "mode": "lines",
         "name": "Observed",
         "type": "scatter",
         "x": [
          "1990-01-31T00:00:00.000000000",
          "1990-02-28T00:00:00.000000000",
          "1990-03-31T00:00:00.000000000",
          "1990-04-30T00:00:00.000000000",
          "1990-05-31T00:00:00.000000000",
          "1990-06-30T00:00:00.000000000",
          "1990-07-31T00:00:00.000000000",
          "1990-08-31T00:00:00.000000000",
          "1990-09-30T00:00:00.000000000",
          "1990-10-31T00:00:00.000000000",
          "1990-11-30T00:00:00.000000000",
          "1990-12-31T00:00:00.000000000",
          "1991-01-31T00:00:00.000000000",
          "1991-02-28T00:00:00.000000000",
          "1991-03-31T00:00:00.000000000",
          "1991-04-30T00:00:00.000000000",
          "1991-05-31T00:00:00.000000000",
          "1991-06-30T00:00:00.000000000",
          "1991-07-31T00:00:00.000000000",
          "1991-08-31T00:00:00.000000000",
          "1991-09-30T00:00:00.000000000",
          "1991-10-31T00:00:00.000000000",
          "1991-11-30T00:00:00.000000000",
          "1991-12-31T00:00:00.000000000",
          "1992-01-31T00:00:00.000000000",
          "1992-02-29T00:00:00.000000000",
          "1992-03-31T00:00:00.000000000",
          "1992-04-30T00:00:00.000000000",
          "1992-05-31T00:00:00.000000000",
          "1992-06-30T00:00:00.000000000",
          "1992-07-31T00:00:00.000000000",
          "1992-08-31T00:00:00.000000000",
          "1992-09-30T00:00:00.000000000",
          "1992-10-31T00:00:00.000000000",
          "1992-11-30T00:00:00.000000000",
          "1992-12-31T00:00:00.000000000",
          "1993-01-31T00:00:00.000000000",
          "1993-02-28T00:00:00.000000000",
          "1993-03-31T00:00:00.000000000",
          "1993-04-30T00:00:00.000000000",
          "1993-05-31T00:00:00.000000000",
          "1993-06-30T00:00:00.000000000",
          "1993-07-31T00:00:00.000000000",
          "1993-08-31T00:00:00.000000000",
          "1993-09-30T00:00:00.000000000",
          "1993-10-31T00:00:00.000000000",
          "1993-11-30T00:00:00.000000000",
          "1993-12-31T00:00:00.000000000",
          "1994-01-31T00:00:00.000000000",
          "1994-02-28T00:00:00.000000000",
          "1994-03-31T00:00:00.000000000",
          "1994-04-30T00:00:00.000000000",
          "1994-05-31T00:00:00.000000000",
          "1994-06-30T00:00:00.000000000",
          "1994-07-31T00:00:00.000000000",
          "1994-08-31T00:00:00.000000000",
          "1994-09-30T00:00:00.000000000",
          "1994-10-31T00:00:00.000000000",
          "1994-11-30T00:00:00.000000000",
          "1994-12-31T00:00:00.000000000",
          "1995-01-31T00:00:00.000000000",
          "1995-02-28T00:00:00.000000000",
          "1995-03-31T00:00:00.000000000",
          "1995-04-30T00:00:00.000000000",
          "1995-05-31T00:00:00.000000000",
          "1995-06-30T00:00:00.000000000",
          "1995-07-31T00:00:00.000000000",
          "1995-08-31T00:00:00.000000000",
          "1995-09-30T00:00:00.000000000",
          "1995-10-31T00:00:00.000000000",
          "1995-11-30T00:00:00.000000000",
          "1995-12-31T00:00:00.000000000",
          "1996-01-31T00:00:00.000000000",
          "1996-02-29T00:00:00.000000000",
          "1996-03-31T00:00:00.000000000",
          "1996-04-30T00:00:00.000000000",
          "1996-05-31T00:00:00.000000000",
          "1996-06-30T00:00:00.000000000",
          "1996-07-31T00:00:00.000000000",
          "1996-08-31T00:00:00.000000000",
          "1996-09-30T00:00:00.000000000",
          "1996-10-31T00:00:00.000000000",
          "1996-11-30T00:00:00.000000000",
          "1996-12-31T00:00:00.000000000",
          "1997-01-31T00:00:00.000000000",
          "1997-02-28T00:00:00.000000000",
          "1997-03-31T00:00:00.000000000",
          "1997-04-30T00:00:00.000000000",
          "1997-05-31T00:00:00.000000000",
          "1997-06-30T00:00:00.000000000",
          "1997-07-31T00:00:00.000000000",
          "1997-08-31T00:00:00.000000000",
          "1997-09-30T00:00:00.000000000",
          "1997-10-31T00:00:00.000000000",
          "1997-11-30T00:00:00.000000000",
          "1997-12-31T00:00:00.000000000",
          "1998-01-31T00:00:00.000000000",
          "1998-02-28T00:00:00.000000000",
          "1998-03-31T00:00:00.000000000",
          "1998-04-30T00:00:00.000000000",
          "1998-05-31T00:00:00.000000000",
          "1998-06-30T00:00:00.000000000",
          "1998-07-31T00:00:00.000000000",
          "1998-08-31T00:00:00.000000000",
          "1998-09-30T00:00:00.000000000",
          "1998-10-31T00:00:00.000000000",
          "1998-11-30T00:00:00.000000000",
          "1998-12-31T00:00:00.000000000",
          "1999-01-31T00:00:00.000000000",
          "1999-02-28T00:00:00.000000000",
          "1999-03-31T00:00:00.000000000",
          "1999-04-30T00:00:00.000000000",
          "1999-05-31T00:00:00.000000000",
          "1999-06-30T00:00:00.000000000",
          "1999-07-31T00:00:00.000000000",
          "1999-08-31T00:00:00.000000000",
          "1999-09-30T00:00:00.000000000",
          "1999-10-31T00:00:00.000000000",
          "1999-11-30T00:00:00.000000000",
          "1999-12-31T00:00:00.000000000",
          "2000-01-31T00:00:00.000000000",
          "2000-02-29T00:00:00.000000000",
          "2000-03-31T00:00:00.000000000",
          "2000-04-30T00:00:00.000000000",
          "2000-05-31T00:00:00.000000000",
          "2000-06-30T00:00:00.000000000",
          "2000-07-31T00:00:00.000000000",
          "2000-08-31T00:00:00.000000000",
          "2000-09-30T00:00:00.000000000",
          "2000-10-31T00:00:00.000000000",
          "2000-11-30T00:00:00.000000000",
          "2000-12-31T00:00:00.000000000",
          "2001-01-31T00:00:00.000000000",
          "2001-02-28T00:00:00.000000000",
          "2001-03-31T00:00:00.000000000",
          "2001-04-30T00:00:00.000000000",
          "2001-05-31T00:00:00.000000000",
          "2001-06-30T00:00:00.000000000",
          "2001-07-31T00:00:00.000000000",
          "2001-08-31T00:00:00.000000000",
          "2001-09-30T00:00:00.000000000",
          "2001-10-31T00:00:00.000000000",
          "2001-11-30T00:00:00.000000000",
          "2001-12-31T00:00:00.000000000",
          "2002-01-31T00:00:00.000000000",
          "2002-02-28T00:00:00.000000000",
          "2002-03-31T00:00:00.000000000",
          "2002-04-30T00:00:00.000000000",
          "2002-05-31T00:00:00.000000000",
          "2002-06-30T00:00:00.000000000",
          "2002-07-31T00:00:00.000000000",
          "2002-08-31T00:00:00.000000000",
          "2002-09-30T00:00:00.000000000",
          "2002-10-31T00:00:00.000000000",
          "2002-11-30T00:00:00.000000000",
          "2002-12-31T00:00:00.000000000",
          "2003-01-31T00:00:00.000000000",
          "2003-02-28T00:00:00.000000000",
          "2003-03-31T00:00:00.000000000",
          "2003-04-30T00:00:00.000000000",
          "2003-05-31T00:00:00.000000000",
          "2003-06-30T00:00:00.000000000",
          "2003-07-31T00:00:00.000000000",
          "2003-08-31T00:00:00.000000000",
          "2003-09-30T00:00:00.000000000",
          "2003-10-31T00:00:00.000000000",
          "2003-11-30T00:00:00.000000000",
          "2003-12-31T00:00:00.000000000",
          "2004-01-31T00:00:00.000000000",
          "2004-02-29T00:00:00.000000000",
          "2004-03-31T00:00:00.000000000",
          "2004-04-30T00:00:00.000000000",
          "2004-05-31T00:00:00.000000000",
          "2004-06-30T00:00:00.000000000",
          "2004-07-31T00:00:00.000000000",
          "2004-08-31T00:00:00.000000000",
          "2004-09-30T00:00:00.000000000",
          "2004-10-31T00:00:00.000000000",
          "2004-11-30T00:00:00.000000000",
          "2004-12-31T00:00:00.000000000",
          "2005-01-31T00:00:00.000000000",
          "2005-02-28T00:00:00.000000000",
          "2005-03-31T00:00:00.000000000",
          "2005-04-30T00:00:00.000000000",
          "2005-05-31T00:00:00.000000000",
          "2005-06-30T00:00:00.000000000",
          "2005-07-31T00:00:00.000000000",
          "2005-08-31T00:00:00.000000000",
          "2005-09-30T00:00:00.000000000",
          "2005-10-31T00:00:00.000000000",
          "2005-11-30T00:00:00.000000000",
          "2005-12-31T00:00:00.000000000",
          "2006-01-31T00:00:00.000000000",
          "2006-02-28T00:00:00.000000000",
          "2006-03-31T00:00:00.000000000",
          "2006-04-30T00:00:00.000000000",
          "2006-05-31T00:00:00.000000000",
          "2006-06-30T00:00:00.000000000",
          "2006-07-31T00:00:00.000000000",
          "2006-08-31T00:00:00.000000000",
          "2006-09-30T00:00:00.000000000",
          "2006-10-31T00:00:00.000000000",
          "2006-11-30T00:00:00.000000000",
          "2006-12-31T00:00:00.000000000",
          "2007-01-31T00:00:00.000000000",
          "2007-02-28T00:00:00.000000000",
          "2007-03-31T00:00:00.000000000",
          "2007-04-30T00:00:00.000000000",
          "2007-05-31T00:00:00.000000000",
          "2007-06-30T00:00:00.000000000",
          "2007-07-31T00:00:00.000000000",
          "2007-08-31T00:00:00.000000000",
          "2007-09-30T00:00:00.000000000",
          "2007-10-31T00:00:00.000000000",
          "2007-11-30T00:00:00.000000000",
          "2007-12-31T00:00:00.000000000",
          "2008-01-31T00:00:00.000000000",
          "2008-02-29T00:00:00.000000000",
          "2008-03-31T00:00:00.000000000",
          "2008-04-30T00:00:00.000000000",
          "2008-05-31T00:00:00.000000000",
          "2008-06-30T00:00:00.000000000",
          "2008-07-31T00:00:00.000000000",
          "2008-08-31T00:00:00.000000000",
          "2008-09-30T00:00:00.000000000",
          "2008-10-31T00:00:00.000000000",
          "2008-11-30T00:00:00.000000000",
          "2008-12-31T00:00:00.000000000",
          "2009-01-31T00:00:00.000000000",
          "2009-02-28T00:00:00.000000000",
          "2009-03-31T00:00:00.000000000",
          "2009-04-30T00:00:00.000000000",
          "2009-05-31T00:00:00.000000000",
          "2009-06-30T00:00:00.000000000",
          "2009-07-31T00:00:00.000000000",
          "2009-08-31T00:00:00.000000000",
          "2009-09-30T00:00:00.000000000",
          "2009-10-31T00:00:00.000000000",
          "2009-11-30T00:00:00.000000000",
          "2009-12-31T00:00:00.000000000",
          "2010-01-31T00:00:00.000000000",
          "2010-02-28T00:00:00.000000000",
          "2010-03-31T00:00:00.000000000",
          "2010-04-30T00:00:00.000000000",
          "2010-05-31T00:00:00.000000000",
          "2010-06-30T00:00:00.000000000",
          "2010-07-31T00:00:00.000000000",
          "2010-08-31T00:00:00.000000000",
          "2010-09-30T00:00:00.000000000",
          "2010-10-31T00:00:00.000000000",
          "2010-11-30T00:00:00.000000000",
          "2010-12-31T00:00:00.000000000",
          "2011-01-31T00:00:00.000000000",
          "2011-02-28T00:00:00.000000000",
          "2011-03-31T00:00:00.000000000",
          "2011-04-30T00:00:00.000000000",
          "2011-05-31T00:00:00.000000000",
          "2011-06-30T00:00:00.000000000",
          "2011-07-31T00:00:00.000000000",
          "2011-08-31T00:00:00.000000000",
          "2011-09-30T00:00:00.000000000",
          "2011-10-31T00:00:00.000000000",
          "2011-11-30T00:00:00.000000000",
          "2011-12-31T00:00:00.000000000",
          "2012-01-31T00:00:00.000000000",
          "2012-02-29T00:00:00.000000000",
          "2012-03-31T00:00:00.000000000",
          "2012-04-30T00:00:00.000000000",
          "2012-05-31T00:00:00.000000000",
          "2012-06-30T00:00:00.000000000",
          "2012-07-31T00:00:00.000000000",
          "2012-08-31T00:00:00.000000000",
          "2012-09-30T00:00:00.000000000",
          "2012-10-31T00:00:00.000000000",
          "2012-11-30T00:00:00.000000000",
          "2012-12-31T00:00:00.000000000",
          "2013-01-31T00:00:00.000000000",
          "2013-02-28T00:00:00.000000000",
          "2013-03-31T00:00:00.000000000",
          "2013-04-30T00:00:00.000000000",
          "2013-05-31T00:00:00.000000000",
          "2013-06-30T00:00:00.000000000",
          "2013-07-31T00:00:00.000000000",
          "2013-08-31T00:00:00.000000000",
          "2013-09-30T00:00:00.000000000",
          "2013-10-31T00:00:00.000000000",
          "2013-11-30T00:00:00.000000000",
          "2013-12-31T00:00:00.000000000",
          "2014-01-31T00:00:00.000000000",
          "2014-02-28T00:00:00.000000000",
          "2014-03-31T00:00:00.000000000",
          "2014-04-30T00:00:00.000000000",
          "2014-05-31T00:00:00.000000000",
          "2014-06-30T00:00:00.000000000",
          "2014-07-31T00:00:00.000000000",
          "2014-08-31T00:00:00.000000000",
          "2014-09-30T00:00:00.000000000",
          "2014-10-31T00:00:00.000000000",
          "2014-11-30T00:00:00.000000000",
          "2014-12-31T00:00:00.000000000",
          "2015-01-31T00:00:00.000000000",
          "2015-02-28T00:00:00.000000000",
          "2015-03-31T00:00:00.000000000",
          "2015-04-30T00:00:00.000000000",
          "2015-05-31T00:00:00.000000000",
          "2015-06-30T00:00:00.000000000",
          "2015-07-31T00:00:00.000000000",
          "2015-08-31T00:00:00.000000000",
          "2015-09-30T00:00:00.000000000",
          "2015-10-31T00:00:00.000000000",
          "2015-11-30T00:00:00.000000000",
          "2015-12-31T00:00:00.000000000",
          "2016-01-31T00:00:00.000000000",
          "2016-02-29T00:00:00.000000000",
          "2016-03-31T00:00:00.000000000",
          "2016-04-30T00:00:00.000000000",
          "2016-05-31T00:00:00.000000000",
          "2016-06-30T00:00:00.000000000",
          "2016-07-31T00:00:00.000000000",
          "2016-08-31T00:00:00.000000000",
          "2016-09-30T00:00:00.000000000",
          "2016-10-31T00:00:00.000000000",
          "2016-11-30T00:00:00.000000000",
          "2016-12-31T00:00:00.000000000",
          "2017-01-31T00:00:00.000000000",
          "2017-02-28T00:00:00.000000000",
          "2017-03-31T00:00:00.000000000",
          "2017-04-30T00:00:00.000000000",
          "2017-05-31T00:00:00.000000000",
          "2017-06-30T00:00:00.000000000",
          "2017-07-31T00:00:00.000000000",
          "2017-08-31T00:00:00.000000000",
          "2017-09-30T00:00:00.000000000",
          "2017-10-31T00:00:00.000000000",
          "2017-11-30T00:00:00.000000000",
          "2017-12-31T00:00:00.000000000",
          "2018-01-31T00:00:00.000000000",
          "2018-02-28T00:00:00.000000000",
          "2018-03-31T00:00:00.000000000",
          "2018-04-30T00:00:00.000000000",
          "2018-05-31T00:00:00.000000000",
          "2018-06-30T00:00:00.000000000",
          "2018-07-31T00:00:00.000000000",
          "2018-08-31T00:00:00.000000000",
          "2018-09-30T00:00:00.000000000",
          "2018-10-31T00:00:00.000000000",
          "2018-11-30T00:00:00.000000000",
          "2018-12-31T00:00:00.000000000",
          "2019-01-31T00:00:00.000000000",
          "2019-02-28T00:00:00.000000000",
          "2019-03-31T00:00:00.000000000",
          "2019-04-30T00:00:00.000000000",
          "2019-05-31T00:00:00.000000000",
          "2019-06-30T00:00:00.000000000",
          "2019-07-31T00:00:00.000000000",
          "2019-08-31T00:00:00.000000000",
          "2019-09-30T00:00:00.000000000",
          "2019-10-31T00:00:00.000000000",
          "2019-11-30T00:00:00.000000000",
          "2019-12-31T00:00:00.000000000",
          "2020-01-31T00:00:00.000000000",
          "2020-02-29T00:00:00.000000000",
          "2020-03-31T00:00:00.000000000",
          "2020-04-30T00:00:00.000000000",
          "2020-05-31T00:00:00.000000000",
          "2020-06-30T00:00:00.000000000",
          "2020-07-31T00:00:00.000000000",
          "2020-08-31T00:00:00.000000000",
          "2020-09-30T00:00:00.000000000",
          "2020-10-31T00:00:00.000000000",
          "2020-11-30T00:00:00.000000000",
          "2020-12-31T00:00:00.000000000",
          "2021-01-31T00:00:00.000000000",
          "2021-02-28T00:00:00.000000000",
          "2021-03-31T00:00:00.000000000",
          "2021-04-30T00:00:00.000000000",
          "2021-05-31T00:00:00.000000000",
          "2021-06-30T00:00:00.000000000",
          "2021-07-31T00:00:00.000000000",
          "2021-08-31T00:00:00.000000000",
          "2021-09-30T00:00:00.000000000",
          "2021-10-31T00:00:00.000000000",
          "2021-11-30T00:00:00.000000000",
          "2021-12-31T00:00:00.000000000",
          "2022-01-31T00:00:00.000000000",
          "2022-02-28T00:00:00.000000000",
          "2022-03-31T00:00:00.000000000",
          "2022-04-30T00:00:00.000000000",
          "2022-05-31T00:00:00.000000000",
          "2022-06-30T00:00:00.000000000",
          "2022-07-31T00:00:00.000000000",
          "2022-08-31T00:00:00.000000000",
          "2022-09-30T00:00:00.000000000",
          "2022-10-31T00:00:00.000000000",
          "2022-11-30T00:00:00.000000000",
          "2022-12-31T00:00:00.000000000",
          "2023-01-31T00:00:00.000000000",
          "2023-02-28T00:00:00.000000000",
          "2023-03-31T00:00:00.000000000",
          "2023-04-30T00:00:00.000000000",
          "2023-05-31T00:00:00.000000000",
          "2023-06-30T00:00:00.000000000",
          "2023-07-31T00:00:00.000000000",
          "2023-08-31T00:00:00.000000000",
          "2023-09-30T00:00:00.000000000",
          "2023-10-31T00:00:00.000000000",
          "2023-11-30T00:00:00.000000000",
          "2023-12-31T00:00:00.000000000",
          "2024-01-31T00:00:00.000000000",
          "2024-02-29T00:00:00.000000000",
          "2024-03-31T00:00:00.000000000",
          "2024-04-30T00:00:00.000000000",
          "2024-05-31T00:00:00.000000000",
          "2024-06-30T00:00:00.000000000",
          "2024-07-31T00:00:00.000000000",
          "2024-08-31T00:00:00.000000000",
          "2024-09-30T00:00:00.000000000",
          "2024-10-31T00:00:00.000000000",
          "2024-11-30T00:00:00.000000000",
          "2024-12-31T00:00:00.000000000"
         ],
         "y": {
          "bdata": "cT0K16OgVkAfhetRuJ5WQFK4HoXrcVhAj8L1KFy/WUBxPQrXo2BZQBSuR+F6JFlAmpmZmZkpWUCamZmZmSlZQEjhehSuF1pArkfhehTuWkCkcD0K19NZQM3MzMzM3FhArkfhehQuV0BxPQrXo0BXQDMzMzMzA1lAXI/C9SicW0BI4XoUrmdbQM3MzMzM7FpAXI/C9ShsWkBxPQrXo3BaQI/C9Shcv1tAZmZmZma2XEDD9Shcj2JbQIXrUbgetVlA9ihcj8IlWEBcj8L1KOxXQNejcD0Kp1lAhetRuB4VXECamZmZmQlcQLgehetRaFtAXI/C9SgMW0BI4XoUrldaQK5H4XoUjltAKVyPwvXoXEAK16NwPZpbQLgehetRWFpACtejcD3qWEDNzMzMzLxYQKRwPQrXE1tA4XoUrkfhXUBSuB6F67FdQMP1KFyP4lxAw/UoXI8CXEBxPQrXo0BbQM3MzMzMTFxAZmZmZma2XUAfhetRuK5cQB+F61G4jltApHA9CteDWkCkcD0K10NaQHE9CtejcFxAj8L1KFz/XUDsUbgehTteQHsUrkfhul1AAAAAAACwXUDsUbgehctdQMP1KFyP0l5AhetRuB4VX0BmZmZmZpZdQFyPwvUoLFxAUrgeheuBW0DhehSuR4FbQClcj8L1eF5AMzMzMzOjX0CPwvUoXK9fQGZmZmZm1l5AmpmZmZmpXkCkcD0K13NeQEjhehSu519AmpmZmZlhYEDsUbgehStfQK5H4XoUHl5AcT0K16OQXEDD9Shcj5JcQNejcD0Kd19AH4XrUbi+YEBI4XoUrrdgQJqZmZmZSWBA7FG4HoUjYECamZmZmblfQI/C9Shcd2BACtejcD0SYUAfhetRuFZgQArXo3A92l5AMzMzMzMTXkAUrkfheqRdQOF6FK5HkWBAAAAAAAC4YUBI4XoUrp9hQIXrUbgePWFAw/UoXI/iYEBxPQrXo4BgQKRwPQrX+2BA16NwPQrHYUC4HoXrUTBhQBSuR+F6fGBAMzMzMzPTX0DsUbgehdtfQClcj8L1uGFAzczMzMycYkDhehSuR5FiQAAAAAAAAGJAAAAAAACgYUD2KFyPwi1hQIXrUbge7WFAH4XrUbhmYkAUrkfhetxhQDMzMzMzM2FAH4XrUbgOYEDD9ShcjwpgQBSuR+F61GFAmpmZmZmpYkDXo3A9Cj9iQGZmZmZmxmFAw/UoXI9qYUDhehSuRxlhQFyPwvUozGFAj8L1KFzPYkBSuB6F61liQI/C9Shcv2FA9ihcj8JFYED2KFyPwo1gQJqZmZmZKWJAZmZmZmZ+Y0A9CtejcB1jQM3MzMzMvGJAZmZmZmamYUBSuB6F60lhQLgehetR6GFAuB6F61FAY0CuR+F6FM5iQHE9Ctej6GFAZmZmZmZWYEBcj8L1KExgQPYoXI/CXWJAmpmZmZm5Y0CF61G4Hj1jQK5H4XoU5mJAPQrXo3AFYkC4HoXrUahhQOF6FK5HiWJAMzMzMzPjY0AzMzMzM4tjQB+F61G4TmJAH4XrUbi+YECuR+F6FGZgQHsUrkfhimJAzczMzMx0ZEDhehSuR9ljQFK4HoXryWNAXI/C9SjUYkAAAAAAAEhiQArXo3A9ImNAzczMzMw0ZEAzMzMzM2NjQIXrUbgerWJAUrgehesBYUCuR+F6FBZhQI/C9ShcT2NAKVyPwvVIZUC4HoXrUXhkQPYoXI/CRWRAFK5H4XoMY0CamZmZmUFiQArXo3A9cmNAXI/C9SikZEDhehSuR1FkQClcj8L1SGNAzczMzMw8YUBSuB6F6+lhQHE9CtejmGRAmpmZmZnxZUAzMzMzMwNlQMP1KFyPWmVA7FG4HoXDZED2KFyPwkVjQM3MzMzMNGRAZmZmZmb+ZEC4HoXrUQhkQD0K16NwzWRAmpmZmZkhYkAAAAAAAIhiQHE9CtejkGVA9ihcj8JFZ0CPwvUoXPdlQHE9CtejoGVACtejcD2qZEB7FK5H4YJkQFyPwvUoXGVA9ihcj8J9ZUD2KFyPwuVkQLgehetR0GZAj8L1KFwXY0ApXI/C9UBjQFyPwvUodGZASOF6FK5nZ0DNzMzMzERnQB+F61G4xmZAuB6F61H4ZUCamZmZmZFlQGZmZmZmlmZAuB6F61GYZ0C4HoXrUZBmQD0K16NwbWZAXI/C9ShEZED2KFyPwl1jQHsUrkfhsmZAKVyPwvVIaEC4HoXrUShoQOF6FK5H2WdAUrgehetBZ0BSuB6F66lmQBSuR+F6vGdAUrgeheuZaECF61G4Hi1oQNejcD0K/2dAhetRuB6lZUCuR+F6FOZkQI/C9Shc32dAexSuR+HyaUAAAAAAANBpQFK4HoXrgWlA16NwPQonaUDNzMzMzCxoQLgehetRQGlAj8L1KFz/aUBSuB6F6/loQArXo3A92mhA16NwPQpPZkDhehSuR6llQEjhehSuZ2hAw/UoXI9yakDsUbgehUtqQFK4HoXrOWpArkfhehTGaUDNzMzMzPxoQPYoXI/ChWpAcT0K16MYa0BmZmZmZjZqQGZmZmZmBmpAFK5H4Xr8ZkBSuB6F6zlmQD0K16NwXWlArkfhehQea0CkcD0K13NrQMP1KFyPYmtA7FG4HoVrakCPwvUoXMdpQFyPwvUo9GtAUrgeheuRbEBxPQrXo4BrQAAAAAAAwGtAcT0K16O4aEAfhetRuN5nQClcj8L1WGpAMzMzMzObbECamZmZmalsQD0K16NwLWxAj8L1KFzHa0CuR+F6FD5rQClcj8L1UG1A4XoUrkfRbUAfhetRuP5sQClcj8L1cG1ApHA9CtezaUCkcD0K19toQFK4HoXrIWxACtejcD0CbkC4HoXrUehtQI/C9ShcR21AZmZmZmbmbECkcD0K14tsQFyPwvUoxG5AmpmZmZnBb0AzMzMzM+NuQArXo3A9Sm9AZmZmZma+a0BmZmZmZo5qQOF6FK5HyW1APQrXo3ARcEDD9Shcj8JvQK5H4XoUnm9A7FG4HoVDb0AfhetRuO5uQJqZmZmZOXBApHA9CtfzcEAK16NwPR5wQAAAAAAAuHBAMzMzMzN7bUDXo3A9Cl9sQOxRuB6FM29Aj8L1KFzfcEAfhetRuK5wQK5H4XoUfnBAZmZmZmZ2cEAK16NwPV5wQAAAAAAAWHFASOF6FK7XcUC4HoXrUQRxQGZmZmZmgnFAj8L1KFzvbkDhehSuR0FtQGZmZmZmknBAH4XrUbi6cUDD9Shcj3pxQEjhehSud3FAAAAAAADocEBI4XoUriNxQPYoXI/CGXJArkfhehTOckBxPQrXo9RxQD0K16NwkXJApHA9CtdjcEBI4XoUrvduQMP1KFyPSnFA7FG4HoU/ckCkcD0K1wdyQJqZmZmZGXJA7FG4HoWrcUB7FK5H4f5xQHsUrkfhDnNAXI/C9SiEc0C4HoXrUbByQBSuR+F6CHNA4XoUrkfFcEBcj8L1KLxvQI/C9ShcK3JAhetRuB4Vc0BmZmZmZrJyQM3MzMzMqHJAMzMzMzNfckCuR+F6FKJyQOxRuB6FD3RAXI/C9Sh4dEBxPQrXo7BzQHsUrkfhEnRASOF6FK63cUAAAAAAAKhwQAAAAAAA8HJAPQrXo3Dlc0BI4XoUrndzQEjhehSuz3NAFK5H4Xr0ckAAAAAAAJRzQK5H4XoUznRAUrgehetBdUDNzMzMzEx0QPYoXI/CpXRASOF6FK5TckB7FK5H4TpxQMP1KFyPZnNAcT0K16NQdEDhehSuR+1zQNejcD0Kf3RAcT0K16OUc0CF61G4HuVzQNejcD0KL3VApHA9CtevdUA9CtejcL1zQOxRuB6Fb3VAKVyPwvUYc0DhehSuR11xQOxRuB6Fm3JASOF6FK4PbUAfhetRuNZsQHsUrkfhwnBA9ihcj8IFcUDsUbgehW9xQAAAAAAAnHNAUrgehetxdUCuR+F6FN50QDMzMzMzJ3VAFK5H4Xo4ckDXo3A9CstwQKRwPQrXt3NArkfhehQuc0CPwvUoXENyQB+F61G41nJAcT0K16OUckDXo3A9CntyQHsUrkfhynNAcT0K16N0dUCamZmZme10QKRwPQrXZ3VAH4XrUbgWc0BI4XoUru9xQAAAAAAAUHRAFK5H4XoAdEBmZmZmZt5yQHE9Ctej/HNAmpmZmZktc0BI4XoUrmdzQBSuR+F6mHRAFK5H4XqYdUA9CtejcGl0QM3MzMzMoHZAH4XrUbiWc0AfhetRuDpyQOxRuB6F43RASOF6FK5fdEDXo3A9CmNzQK5H4XoUSnRApHA9CteHc0CamZmZmQl0QClcj8L1JHVA4XoUrkfVdkBcj8L1KAR2QGZmZmZmFndArkfhehRCdEDhehSuR7FyQDMzMzMzh3RAmpmZmZk9dUCamZmZmS10QLgehetR7HRAmpmZmZnxc0DsUbgehWt0QGZmZmZmInVAcT0K16MYdkDhehSuR/F1QKRwPQrXM3dA",
          "dtype": "f8"
         }
        },
        {
         "line": {
          "color": "red"
         },
         "mode": "lines",
         "name": "SA Adjusted",
         "type": "scatter",
         "x": [
          "1990-01-31T00:00:00.000000000",
          "1990-02-28T00:00:00.000000000",
          "1990-03-31T00:00:00.000000000",
          "1990-04-30T00:00:00.000000000",
          "1990-05-31T00:00:00.000000000",
          "1990-06-30T00:00:00.000000000",
          "1990-07-31T00:00:00.000000000",
          "1990-08-31T00:00:00.000000000",
          "1990-09-30T00:00:00.000000000",
          "1990-10-31T00:00:00.000000000",
          "1990-11-30T00:00:00.000000000",
          "1990-12-31T00:00:00.000000000",
          "1991-01-31T00:00:00.000000000",
          "1991-02-28T00:00:00.000000000",
          "1991-03-31T00:00:00.000000000",
          "1991-04-30T00:00:00.000000000",
          "1991-05-31T00:00:00.000000000",
          "1991-06-30T00:00:00.000000000",
          "1991-07-31T00:00:00.000000000",
          "1991-08-31T00:00:00.000000000",
          "1991-09-30T00:00:00.000000000",
          "1991-10-31T00:00:00.000000000",
          "1991-11-30T00:00:00.000000000",
          "1991-12-31T00:00:00.000000000",
          "1992-01-31T00:00:00.000000000",
          "1992-02-29T00:00:00.000000000",
          "1992-03-31T00:00:00.000000000",
          "1992-04-30T00:00:00.000000000",
          "1992-05-31T00:00:00.000000000",
          "1992-06-30T00:00:00.000000000",
          "1992-07-31T00:00:00.000000000",
          "1992-08-31T00:00:00.000000000",
          "1992-09-30T00:00:00.000000000",
          "1992-10-31T00:00:00.000000000",
          "1992-11-30T00:00:00.000000000",
          "1992-12-31T00:00:00.000000000",
          "1993-01-31T00:00:00.000000000",
          "1993-02-28T00:00:00.000000000",
          "1993-03-31T00:00:00.000000000",
          "1993-04-30T00:00:00.000000000",
          "1993-05-31T00:00:00.000000000",
          "1993-06-30T00:00:00.000000000",
          "1993-07-31T00:00:00.000000000",
          "1993-08-31T00:00:00.000000000",
          "1993-09-30T00:00:00.000000000",
          "1993-10-31T00:00:00.000000000",
          "1993-11-30T00:00:00.000000000",
          "1993-12-31T00:00:00.000000000",
          "1994-01-31T00:00:00.000000000",
          "1994-02-28T00:00:00.000000000",
          "1994-03-31T00:00:00.000000000",
          "1994-04-30T00:00:00.000000000",
          "1994-05-31T00:00:00.000000000",
          "1994-06-30T00:00:00.000000000",
          "1994-07-31T00:00:00.000000000",
          "1994-08-31T00:00:00.000000000",
          "1994-09-30T00:00:00.000000000",
          "1994-10-31T00:00:00.000000000",
          "1994-11-30T00:00:00.000000000",
          "1994-12-31T00:00:00.000000000",
          "1995-01-31T00:00:00.000000000",
          "1995-02-28T00:00:00.000000000",
          "1995-03-31T00:00:00.000000000",
          "1995-04-30T00:00:00.000000000",
          "1995-05-31T00:00:00.000000000",
          "1995-06-30T00:00:00.000000000",
          "1995-07-31T00:00:00.000000000",
          "1995-08-31T00:00:00.000000000",
          "1995-09-30T00:00:00.000000000",
          "1995-10-31T00:00:00.000000000",
          "1995-11-30T00:00:00.000000000",
          "1995-12-31T00:00:00.000000000",
          "1996-01-31T00:00:00.000000000",
          "1996-02-29T00:00:00.000000000",
          "1996-03-31T00:00:00.000000000",
          "1996-04-30T00:00:00.000000000",
          "1996-05-31T00:00:00.000000000",
          "1996-06-30T00:00:00.000000000",
          "1996-07-31T00:00:00.000000000",
          "1996-08-31T00:00:00.000000000",
          "1996-09-30T00:00:00.000000000",
          "1996-10-31T00:00:00.000000000",
          "1996-11-30T00:00:00.000000000",
          "1996-12-31T00:00:00.000000000",
          "1997-01-31T00:00:00.000000000",
          "1997-02-28T00:00:00.000000000",
          "1997-03-31T00:00:00.000000000",
          "1997-04-30T00:00:00.000000000",
          "1997-05-31T00:00:00.000000000",
          "1997-06-30T00:00:00.000000000",
          "1997-07-31T00:00:00.000000000",
          "1997-08-31T00:00:00.000000000",
          "1997-09-30T00:00:00.000000000",
          "1997-10-31T00:00:00.000000000",
          "1997-11-30T00:00:00.000000000",
          "1997-12-31T00:00:00.000000000",
          "1998-01-31T00:00:00.000000000",
          "1998-02-28T00:00:00.000000000",
          "1998-03-31T00:00:00.000000000",
          "1998-04-30T00:00:00.000000000",
          "1998-05-31T00:00:00.000000000",
          "1998-06-30T00:00:00.000000000",
          "1998-07-31T00:00:00.000000000",
          "1998-08-31T00:00:00.000000000",
          "1998-09-30T00:00:00.000000000",
          "1998-10-31T00:00:00.000000000",
          "1998-11-30T00:00:00.000000000",
          "1998-12-31T00:00:00.000000000",
          "1999-01-31T00:00:00.000000000",
          "1999-02-28T00:00:00.000000000",
          "1999-03-31T00:00:00.000000000",
          "1999-04-30T00:00:00.000000000",
          "1999-05-31T00:00:00.000000000",
          "1999-06-30T00:00:00.000000000",
          "1999-07-31T00:00:00.000000000",
          "1999-08-31T00:00:00.000000000",
          "1999-09-30T00:00:00.000000000",
          "1999-10-31T00:00:00.000000000",
          "1999-11-30T00:00:00.000000000",
          "1999-12-31T00:00:00.000000000",
          "2000-01-31T00:00:00.000000000",
          "2000-02-29T00:00:00.000000000",
          "2000-03-31T00:00:00.000000000",
          "2000-04-30T00:00:00.000000000",
          "2000-05-31T00:00:00.000000000",
          "2000-06-30T00:00:00.000000000",
          "2000-07-31T00:00:00.000000000",
          "2000-08-31T00:00:00.000000000",
          "2000-09-30T00:00:00.000000000",
          "2000-10-31T00:00:00.000000000",
          "2000-11-30T00:00:00.000000000",
          "2000-12-31T00:00:00.000000000",
          "2001-01-31T00:00:00.000000000",
          "2001-02-28T00:00:00.000000000",
          "2001-03-31T00:00:00.000000000",
          "2001-04-30T00:00:00.000000000",
          "2001-05-31T00:00:00.000000000",
          "2001-06-30T00:00:00.000000000",
          "2001-07-31T00:00:00.000000000",
          "2001-08-31T00:00:00.000000000",
          "2001-09-30T00:00:00.000000000",
          "2001-10-31T00:00:00.000000000",
          "2001-11-30T00:00:00.000000000",
          "2001-12-31T00:00:00.000000000",
          "2002-01-31T00:00:00.000000000",
          "2002-02-28T00:00:00.000000000",
          "2002-03-31T00:00:00.000000000",
          "2002-04-30T00:00:00.000000000",
          "2002-05-31T00:00:00.000000000",
          "2002-06-30T00:00:00.000000000",
          "2002-07-31T00:00:00.000000000",
          "2002-08-31T00:00:00.000000000",
          "2002-09-30T00:00:00.000000000",
          "2002-10-31T00:00:00.000000000",
          "2002-11-30T00:00:00.000000000",
          "2002-12-31T00:00:00.000000000",
          "2003-01-31T00:00:00.000000000",
          "2003-02-28T00:00:00.000000000",
          "2003-03-31T00:00:00.000000000",
          "2003-04-30T00:00:00.000000000",
          "2003-05-31T00:00:00.000000000",
          "2003-06-30T00:00:00.000000000",
          "2003-07-31T00:00:00.000000000",
          "2003-08-31T00:00:00.000000000",
          "2003-09-30T00:00:00.000000000",
          "2003-10-31T00:00:00.000000000",
          "2003-11-30T00:00:00.000000000",
          "2003-12-31T00:00:00.000000000",
          "2004-01-31T00:00:00.000000000",
          "2004-02-29T00:00:00.000000000",
          "2004-03-31T00:00:00.000000000",
          "2004-04-30T00:00:00.000000000",
          "2004-05-31T00:00:00.000000000",
          "2004-06-30T00:00:00.000000000",
          "2004-07-31T00:00:00.000000000",
          "2004-08-31T00:00:00.000000000",
          "2004-09-30T00:00:00.000000000",
          "2004-10-31T00:00:00.000000000",
          "2004-11-30T00:00:00.000000000",
          "2004-12-31T00:00:00.000000000",
          "2005-01-31T00:00:00.000000000",
          "2005-02-28T00:00:00.000000000",
          "2005-03-31T00:00:00.000000000",
          "2005-04-30T00:00:00.000000000",
          "2005-05-31T00:00:00.000000000",
          "2005-06-30T00:00:00.000000000",
          "2005-07-31T00:00:00.000000000",
          "2005-08-31T00:00:00.000000000",
          "2005-09-30T00:00:00.000000000",
          "2005-10-31T00:00:00.000000000",
          "2005-11-30T00:00:00.000000000",
          "2005-12-31T00:00:00.000000000",
          "2006-01-31T00:00:00.000000000",
          "2006-02-28T00:00:00.000000000",
          "2006-03-31T00:00:00.000000000",
          "2006-04-30T00:00:00.000000000",
          "2006-05-31T00:00:00.000000000",
          "2006-06-30T00:00:00.000000000",
          "2006-07-31T00:00:00.000000000",
          "2006-08-31T00:00:00.000000000",
          "2006-09-30T00:00:00.000000000",
          "2006-10-31T00:00:00.000000000",
          "2006-11-30T00:00:00.000000000",
          "2006-12-31T00:00:00.000000000",
          "2007-01-31T00:00:00.000000000",
          "2007-02-28T00:00:00.000000000",
          "2007-03-31T00:00:00.000000000",
          "2007-04-30T00:00:00.000000000",
          "2007-05-31T00:00:00.000000000",
          "2007-06-30T00:00:00.000000000",
          "2007-07-31T00:00:00.000000000",
          "2007-08-31T00:00:00.000000000",
          "2007-09-30T00:00:00.000000000",
          "2007-10-31T00:00:00.000000000",
          "2007-11-30T00:00:00.000000000",
          "2007-12-31T00:00:00.000000000",
          "2008-01-31T00:00:00.000000000",
          "2008-02-29T00:00:00.000000000",
          "2008-03-31T00:00:00.000000000",
          "2008-04-30T00:00:00.000000000",
          "2008-05-31T00:00:00.000000000",
          "2008-06-30T00:00:00.000000000",
          "2008-07-31T00:00:00.000000000",
          "2008-08-31T00:00:00.000000000",
          "2008-09-30T00:00:00.000000000",
          "2008-10-31T00:00:00.000000000",
          "2008-11-30T00:00:00.000000000",
          "2008-12-31T00:00:00.000000000",
          "2009-01-31T00:00:00.000000000",
          "2009-02-28T00:00:00.000000000",
          "2009-03-31T00:00:00.000000000",
          "2009-04-30T00:00:00.000000000",
          "2009-05-31T00:00:00.000000000",
          "2009-06-30T00:00:00.000000000",
          "2009-07-31T00:00:00.000000000",
          "2009-08-31T00:00:00.000000000",
          "2009-09-30T00:00:00.000000000",
          "2009-10-31T00:00:00.000000000",
          "2009-11-30T00:00:00.000000000",
          "2009-12-31T00:00:00.000000000",
          "2010-01-31T00:00:00.000000000",
          "2010-02-28T00:00:00.000000000",
          "2010-03-31T00:00:00.000000000",
          "2010-04-30T00:00:00.000000000",
          "2010-05-31T00:00:00.000000000",
          "2010-06-30T00:00:00.000000000",
          "2010-07-31T00:00:00.000000000",
          "2010-08-31T00:00:00.000000000",
          "2010-09-30T00:00:00.000000000",
          "2010-10-31T00:00:00.000000000",
          "2010-11-30T00:00:00.000000000",
          "2010-12-31T00:00:00.000000000",
          "2011-01-31T00:00:00.000000000",
          "2011-02-28T00:00:00.000000000",
          "2011-03-31T00:00:00.000000000",
          "2011-04-30T00:00:00.000000000",
          "2011-05-31T00:00:00.000000000",
          "2011-06-30T00:00:00.000000000",
          "2011-07-31T00:00:00.000000000",
          "2011-08-31T00:00:00.000000000",
          "2011-09-30T00:00:00.000000000",
          "2011-10-31T00:00:00.000000000",
          "2011-11-30T00:00:00.000000000",
          "2011-12-31T00:00:00.000000000",
          "2012-01-31T00:00:00.000000000",
          "2012-02-29T00:00:00.000000000",
          "2012-03-31T00:00:00.000000000",
          "2012-04-30T00:00:00.000000000",
          "2012-05-31T00:00:00.000000000",
          "2012-06-30T00:00:00.000000000",
          "2012-07-31T00:00:00.000000000",
          "2012-08-31T00:00:00.000000000",
          "2012-09-30T00:00:00.000000000",
          "2012-10-31T00:00:00.000000000",
          "2012-11-30T00:00:00.000000000",
          "2012-12-31T00:00:00.000000000",
          "2013-01-31T00:00:00.000000000",
          "2013-02-28T00:00:00.000000000",
          "2013-03-31T00:00:00.000000000",
          "2013-04-30T00:00:00.000000000",
          "2013-05-31T00:00:00.000000000",
          "2013-06-30T00:00:00.000000000",
          "2013-07-31T00:00:00.000000000",
          "2013-08-31T00:00:00.000000000",
          "2013-09-30T00:00:00.000000000",
          "2013-10-31T00:00:00.000000000",
          "2013-11-30T00:00:00.000000000",
          "2013-12-31T00:00:00.000000000",
          "2014-01-31T00:00:00.000000000",
          "2014-02-28T00:00:00.000000000",
          "2014-03-31T00:00:00.000000000",
          "2014-04-30T00:00:00.000000000",
          "2014-05-31T00:00:00.000000000",
          "2014-06-30T00:00:00.000000000",
          "2014-07-31T00:00:00.000000000",
          "2014-08-31T00:00:00.000000000",
          "2014-09-30T00:00:00.000000000",
          "2014-10-31T00:00:00.000000000",
          "2014-11-30T00:00:00.000000000",
          "2014-12-31T00:00:00.000000000",
          "2015-01-31T00:00:00.000000000",
          "2015-02-28T00:00:00.000000000",
          "2015-03-31T00:00:00.000000000",
          "2015-04-30T00:00:00.000000000",
          "2015-05-31T00:00:00.000000000",
          "2015-06-30T00:00:00.000000000",
          "2015-07-31T00:00:00.000000000",
          "2015-08-31T00:00:00.000000000",
          "2015-09-30T00:00:00.000000000",
          "2015-10-31T00:00:00.000000000",
          "2015-11-30T00:00:00.000000000",
          "2015-12-31T00:00:00.000000000",
          "2016-01-31T00:00:00.000000000",
          "2016-02-29T00:00:00.000000000",
          "2016-03-31T00:00:00.000000000",
          "2016-04-30T00:00:00.000000000",
          "2016-05-31T00:00:00.000000000",
          "2016-06-30T00:00:00.000000000",
          "2016-07-31T00:00:00.000000000",
          "2016-08-31T00:00:00.000000000",
          "2016-09-30T00:00:00.000000000",
          "2016-10-31T00:00:00.000000000",
          "2016-11-30T00:00:00.000000000",
          "2016-12-31T00:00:00.000000000",
          "2017-01-31T00:00:00.000000000",
          "2017-02-28T00:00:00.000000000",
          "2017-03-31T00:00:00.000000000",
          "2017-04-30T00:00:00.000000000",
          "2017-05-31T00:00:00.000000000",
          "2017-06-30T00:00:00.000000000",
          "2017-07-31T00:00:00.000000000",
          "2017-08-31T00:00:00.000000000",
          "2017-09-30T00:00:00.000000000",
          "2017-10-31T00:00:00.000000000",
          "2017-11-30T00:00:00.000000000",
          "2017-12-31T00:00:00.000000000",
          "2018-01-31T00:00:00.000000000",
          "2018-02-28T00:00:00.000000000",
          "2018-03-31T00:00:00.000000000",
          "2018-04-30T00:00:00.000000000",
          "2018-05-31T00:00:00.000000000",
          "2018-06-30T00:00:00.000000000",
          "2018-07-31T00:00:00.000000000",
          "2018-08-31T00:00:00.000000000",
          "2018-09-30T00:00:00.000000000",
          "2018-10-31T00:00:00.000000000",
          "2018-11-30T00:00:00.000000000",
          "2018-12-31T00:00:00.000000000",
          "2019-01-31T00:00:00.000000000",
          "2019-02-28T00:00:00.000000000",
          "2019-03-31T00:00:00.000000000",
          "2019-04-30T00:00:00.000000000",
          "2019-05-31T00:00:00.000000000",
          "2019-06-30T00:00:00.000000000",
          "2019-07-31T00:00:00.000000000",
          "2019-08-31T00:00:00.000000000",
          "2019-09-30T00:00:00.000000000",
          "2019-10-31T00:00:00.000000000",
          "2019-11-30T00:00:00.000000000",
          "2019-12-31T00:00:00.000000000",
          "2020-01-31T00:00:00.000000000",
          "2020-02-29T00:00:00.000000000",
          "2020-03-31T00:00:00.000000000",
          "2020-04-30T00:00:00.000000000",
          "2020-05-31T00:00:00.000000000",
          "2020-06-30T00:00:00.000000000",
          "2020-07-31T00:00:00.000000000",
          "2020-08-31T00:00:00.000000000",
          "2020-09-30T00:00:00.000000000",
          "2020-10-31T00:00:00.000000000",
          "2020-11-30T00:00:00.000000000",
          "2020-12-31T00:00:00.000000000",
          "2021-01-31T00:00:00.000000000",
          "2021-02-28T00:00:00.000000000",
          "2021-03-31T00:00:00.000000000",
          "2021-04-30T00:00:00.000000000",
          "2021-05-31T00:00:00.000000000",
          "2021-06-30T00:00:00.000000000",
          "2021-07-31T00:00:00.000000000",
          "2021-08-31T00:00:00.000000000",
          "2021-09-30T00:00:00.000000000",
          "2021-10-31T00:00:00.000000000",
          "2021-11-30T00:00:00.000000000",
          "2021-12-31T00:00:00.000000000",
          "2022-01-31T00:00:00.000000000",
          "2022-02-28T00:00:00.000000000",
          "2022-03-31T00:00:00.000000000",
          "2022-04-30T00:00:00.000000000",
          "2022-05-31T00:00:00.000000000",
          "2022-06-30T00:00:00.000000000",
          "2022-07-31T00:00:00.000000000",
          "2022-08-31T00:00:00.000000000",
          "2022-09-30T00:00:00.000000000",
          "2022-10-31T00:00:00.000000000",
          "2022-11-30T00:00:00.000000000",
          "2022-12-31T00:00:00.000000000",
          "2023-01-31T00:00:00.000000000",
          "2023-02-28T00:00:00.000000000",
          "2023-03-31T00:00:00.000000000",
          "2023-04-30T00:00:00.000000000",
          "2023-05-31T00:00:00.000000000",
          "2023-06-30T00:00:00.000000000",
          "2023-07-31T00:00:00.000000000",
          "2023-08-31T00:00:00.000000000",
          "2023-09-30T00:00:00.000000000",
          "2023-10-31T00:00:00.000000000",
          "2023-11-30T00:00:00.000000000",
          "2023-12-31T00:00:00.000000000",
          "2024-01-31T00:00:00.000000000",
          "2024-02-29T00:00:00.000000000",
          "2024-03-31T00:00:00.000000000",
          "2024-04-30T00:00:00.000000000",
          "2024-05-31T00:00:00.000000000",
          "2024-06-30T00:00:00.000000000",
          "2024-07-31T00:00:00.000000000",
          "2024-08-31T00:00:00.000000000",
          "2024-09-30T00:00:00.000000000",
          "2024-10-31T00:00:00.000000000",
          "2024-11-30T00:00:00.000000000",
          "2024-12-31T00:00:00.000000000"
         ],
         "y": {
          "bdata": "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",
          "dtype": "f8"
         }
        }
       ],
       "layout": {
        "legend": {
         "title": {
          "text": ""
         }
        },
        "template": {
         "data": {
          "bar": [
           {
            "error_x": {
             "color": "#2a3f5f"
            },
            "error_y": {
             "color": "#2a3f5f"
            },
            "marker": {
             "line": {
              "color": "white",
              "width": 0.5
             },
             "pattern": {
              "fillmode": "overlay",
              "size": 10,
              "solidity": 0.2
             }
            },
            "type": "bar"
           }
          ],
          "barpolar": [
           {
            "marker": {
             "line": {
              "color": "white",
              "width": 0.5
             },
             "pattern": {
              "fillmode": "overlay",
              "size": 10,
              "solidity": 0.2
             }
            },
            "type": "barpolar"
           }
          ],
          "carpet": [
           {
            "aaxis": {
             "endlinecolor": "#2a3f5f",
             "gridcolor": "#C8D4E3",
             "linecolor": "#C8D4E3",
             "minorgridcolor": "#C8D4E3",
             "startlinecolor": "#2a3f5f"
            },
            "baxis": {
             "endlinecolor": "#2a3f5f",
             "gridcolor": "#C8D4E3",
             "linecolor": "#C8D4E3",
             "minorgridcolor": "#C8D4E3",
             "startlinecolor": "#2a3f5f"
            },
            "type": "carpet"
           }
          ],
          "choropleth": [
           {
            "colorbar": {
             "outlinewidth": 0,
             "ticks": ""
            },
            "type": "choropleth"
           }
          ],
          "contour": [
           {
            "colorbar": {
             "outlinewidth": 0,
             "ticks": ""
            },
            "colorscale": [
             [
              0,
              "#0d0887"
             ],
             [
              0.1111111111111111,
              "#46039f"
             ],
             [
              0.2222222222222222,
              "#7201a8"
             ],
             [
              0.3333333333333333,
              "#9c179e"
             ],
             [
              0.4444444444444444,
              "#bd3786"
             ],
             [
              0.5555555555555556,
              "#d8576b"
             ],
             [
              0.6666666666666666,
              "#ed7953"
             ],
             [
              0.7777777777777778,
              "#fb9f3a"
             ],
             [
              0.8888888888888888,
              "#fdca26"
             ],
             [
              1,
              "#f0f921"
             ]
            ],
            "type": "contour"
           }
          ],
          "contourcarpet": [
           {
            "colorbar": {
             "outlinewidth": 0,
             "ticks": ""
            },
            "type": "contourcarpet"
           }
          ],
          "heatmap": [
           {
            "colorbar": {
             "outlinewidth": 0,
             "ticks": ""
            },
            "colorscale": [
             [
              0,
              "#0d0887"
             ],
             [
              0.1111111111111111,
              "#46039f"
             ],
             [
              0.2222222222222222,
              "#7201a8"
             ],
             [
              0.3333333333333333,
              "#9c179e"
             ],
             [
              0.4444444444444444,
              "#bd3786"
             ],
             [
              0.5555555555555556,
              "#d8576b"
             ],
             [
              0.6666666666666666,
              "#ed7953"
             ],
             [
              0.7777777777777778,
              "#fb9f3a"
             ],
             [
              0.8888888888888888,
              "#fdca26"
             ],
             [
              1,
              "#f0f921"
             ]
            ],
            "type": "heatmap"
           }
          ],
          "histogram": [
           {
            "marker": {
             "pattern": {
              "fillmode": "overlay",
              "size": 10,
              "solidity": 0.2
             }
            },
            "type": "histogram"
           }
          ],
          "histogram2d": [
           {
            "colorbar": {
             "outlinewidth": 0,
             "ticks": ""
            },
            "colorscale": [
             [
              0,
              "#0d0887"
             ],
             [
              0.1111111111111111,
              "#46039f"
             ],
             [
              0.2222222222222222,
              "#7201a8"
             ],
             [
              0.3333333333333333,
              "#9c179e"
             ],
             [
              0.4444444444444444,
              "#bd3786"
             ],
             [
              0.5555555555555556,
              "#d8576b"
             ],
             [
              0.6666666666666666,
              "#ed7953"
             ],
             [
              0.7777777777777778,
              "#fb9f3a"
             ],
             [
              0.8888888888888888,
              "#fdca26"
             ],
             [
              1,
              "#f0f921"
             ]
            ],
            "type": "histogram2d"
           }
          ],
          "histogram2dcontour": [
           {
            "colorbar": {
             "outlinewidth": 0,
             "ticks": ""
            },
            "colorscale": [
             [
              0,
              "#0d0887"
             ],
             [
              0.1111111111111111,
              "#46039f"
             ],
             [
              0.2222222222222222,
              "#7201a8"
             ],
             [
              0.3333333333333333,
              "#9c179e"
             ],
             [
              0.4444444444444444,
              "#bd3786"
             ],
             [
              0.5555555555555556,
              "#d8576b"
             ],
             [
              0.6666666666666666,
              "#ed7953"
             ],
             [
              0.7777777777777778,
              "#fb9f3a"
             ],
             [
              0.8888888888888888,
              "#fdca26"
             ],
             [
              1,
              "#f0f921"
             ]
            ],
            "type": "histogram2dcontour"
           }
          ],
          "mesh3d": [
           {
            "colorbar": {
             "outlinewidth": 0,
             "ticks": ""
            },
            "type": "mesh3d"
           }
          ],
          "parcoords": [
           {
            "line": {
             "colorbar": {
              "outlinewidth": 0,
              "ticks": ""
             }
            },
            "type": "parcoords"
           }
          ],
          "pie": [
           {
            "automargin": true,
            "type": "pie"
           }
          ],
          "scatter": [
           {
            "fillpattern": {
             "fillmode": "overlay",
             "size": 10,
             "solidity": 0.2
            },
            "type": "scatter"
           }
          ],
          "scatter3d": [
           {
            "line": {
             "colorbar": {
              "outlinewidth": 0,
              "ticks": ""
             }
            },
            "marker": {
             "colorbar": {
              "outlinewidth": 0,
              "ticks": ""
             }
            },
            "type": "scatter3d"
           }
          ],
          "scattercarpet": [
           {
            "marker": {
             "colorbar": {
              "outlinewidth": 0,
              "ticks": ""
             }
            },
            "type": "scattercarpet"
           }
          ],
          "scattergeo": [
           {
            "marker": {
             "colorbar": {
              "outlinewidth": 0,
              "ticks": ""
             }
            },
            "type": "scattergeo"
           }
          ],
          "scattergl": [
           {
            "marker": {
             "colorbar": {
              "outlinewidth": 0,
              "ticks": ""
             }
            },
            "type": "scattergl"
           }
          ],
          "scattermap": [
           {
            "marker": {
             "colorbar": {
              "outlinewidth": 0,
              "ticks": ""
             }
            },
            "type": "scattermap"
           }
          ],
          "scattermapbox": [
           {
            "marker": {
             "colorbar": {
              "outlinewidth": 0,
              "ticks": ""
             }
            },
            "type": "scattermapbox"
           }
          ],
          "scatterpolar": [
           {
            "marker": {
             "colorbar": {
              "outlinewidth": 0,
              "ticks": ""
             }
            },
            "type": "scatterpolar"
           }
          ],
          "scatterpolargl": [
           {
            "marker": {
             "colorbar": {
              "outlinewidth": 0,
              "ticks": ""
             }
            },
            "type": "scatterpolargl"
           }
          ],
          "scatterternary": [
           {
            "marker": {
             "colorbar": {
              "outlinewidth": 0,
              "ticks": ""
             }
            },
            "type": "scatterternary"
           }
          ],
          "surface": [
           {
            "colorbar": {
             "outlinewidth": 0,
             "ticks": ""
            },
            "colorscale": [
             [
              0,
              "#0d0887"
             ],
             [
              0.1111111111111111,
              "#46039f"
             ],
             [
              0.2222222222222222,
              "#7201a8"
             ],
             [
              0.3333333333333333,
              "#9c179e"
             ],
             [
              0.4444444444444444,
              "#bd3786"
             ],
             [
              0.5555555555555556,
              "#d8576b"
             ],
             [
              0.6666666666666666,
              "#ed7953"
             ],
             [
              0.7777777777777778,
              "#fb9f3a"
             ],
             [
              0.8888888888888888,
              "#fdca26"
             ],
             [
              1,
              "#f0f921"
             ]
            ],
            "type": "surface"
           }
          ],
          "table": [
           {
            "cells": {
             "fill": {
              "color": "#EBF0F8"
             },
             "line": {
              "color": "white"
             }
            },
            "header": {
             "fill": {
              "color": "#C8D4E3"
             },
             "line": {
              "color": "white"
             }
            },
            "type": "table"
           }
          ]
         },
         "layout": {
          "annotationdefaults": {
           "arrowcolor": "#2a3f5f",
           "arrowhead": 0,
           "arrowwidth": 1
          },
          "autotypenumbers": "strict",
          "coloraxis": {
           "colorbar": {
            "outlinewidth": 0,
            "ticks": ""
           }
          },
          "colorscale": {
           "diverging": [
            [
             0,
             "#8e0152"
            ],
            [
             0.1,
             "#c51b7d"
            ],
            [
             0.2,
             "#de77ae"
            ],
            [
             0.3,
             "#f1b6da"
            ],
            [
             0.4,
             "#fde0ef"
            ],
            [
             0.5,
             "#f7f7f7"
            ],
            [
             0.6,
             "#e6f5d0"
            ],
            [
             0.7,
             "#b8e186"
            ],
            [
             0.8,
             "#7fbc41"
            ],
            [
             0.9,
             "#4d9221"
            ],
            [
             1,
             "#276419"
            ]
           ],
           "sequential": [
            [
             0,
             "#0d0887"
            ],
            [
             0.1111111111111111,
             "#46039f"
            ],
            [
             0.2222222222222222,
             "#7201a8"
            ],
            [
             0.3333333333333333,
             "#9c179e"
            ],
            [
             0.4444444444444444,
             "#bd3786"
            ],
            [
             0.5555555555555556,
             "#d8576b"
            ],
            [
             0.6666666666666666,
             "#ed7953"
            ],
            [
             0.7777777777777778,
             "#fb9f3a"
            ],
            [
             0.8888888888888888,
             "#fdca26"
            ],
            [
             1,
             "#f0f921"
            ]
           ],
           "sequentialminus": [
            [
             0,
             "#0d0887"
            ],
            [
             0.1111111111111111,
             "#46039f"
            ],
            [
             0.2222222222222222,
             "#7201a8"
            ],
            [
             0.3333333333333333,
             "#9c179e"
            ],
            [
             0.4444444444444444,
             "#bd3786"
            ],
            [
             0.5555555555555556,
             "#d8576b"
            ],
            [
             0.6666666666666666,
             "#ed7953"
            ],
            [
             0.7777777777777778,
             "#fb9f3a"
            ],
            [
             0.8888888888888888,
             "#fdca26"
            ],
            [
             1,
             "#f0f921"
            ]
           ]
          },
          "colorway": [
           "#636efa",
           "#EF553B",
           "#00cc96",
           "#ab63fa",
           "#FFA15A",
           "#19d3f3",
           "#FF6692",
           "#B6E880",
           "#FF97FF",
           "#FECB52"
          ],
          "font": {
           "color": "#2a3f5f"
          },
          "geo": {
           "bgcolor": "white",
           "lakecolor": "white",
           "landcolor": "white",
           "showlakes": true,
           "showland": true,
           "subunitcolor": "#C8D4E3"
          },
          "hoverlabel": {
           "align": "left"
          },
          "hovermode": "closest",
          "mapbox": {
           "style": "light"
          },
          "paper_bgcolor": "white",
          "plot_bgcolor": "white",
          "polar": {
           "angularaxis": {
            "gridcolor": "#EBF0F8",
            "linecolor": "#EBF0F8",
            "ticks": ""
           },
           "bgcolor": "white",
           "radialaxis": {
            "gridcolor": "#EBF0F8",
            "linecolor": "#EBF0F8",
            "ticks": ""
           }
          },
          "scene": {
           "xaxis": {
            "backgroundcolor": "white",
            "gridcolor": "#DFE8F3",
            "gridwidth": 2,
            "linecolor": "#EBF0F8",
            "showbackground": true,
            "ticks": "",
            "zerolinecolor": "#EBF0F8"
           },
           "yaxis": {
            "backgroundcolor": "white",
            "gridcolor": "#DFE8F3",
            "gridwidth": 2,
            "linecolor": "#EBF0F8",
            "showbackground": true,
            "ticks": "",
            "zerolinecolor": "#EBF0F8"
           },
           "zaxis": {
            "backgroundcolor": "white",
            "gridcolor": "#DFE8F3",
            "gridwidth": 2,
            "linecolor": "#EBF0F8",
            "showbackground": true,
            "ticks": "",
            "zerolinecolor": "#EBF0F8"
           }
          },
          "shapedefaults": {
           "line": {
            "color": "#2a3f5f"
           }
          },
          "ternary": {
           "aaxis": {
            "gridcolor": "#DFE8F3",
            "linecolor": "#A2B1C6",
            "ticks": ""
           },
           "baxis": {
            "gridcolor": "#DFE8F3",
            "linecolor": "#A2B1C6",
            "ticks": ""
           },
           "bgcolor": "white",
           "caxis": {
            "gridcolor": "#DFE8F3",
            "linecolor": "#A2B1C6",
            "ticks": ""
           }
          },
          "title": {
           "x": 0.05
          },
          "xaxis": {
           "automargin": true,
           "gridcolor": "#EBF0F8",
           "linecolor": "#EBF0F8",
           "ticks": "",
           "title": {
            "standoff": 15
           },
           "zerolinecolor": "#EBF0F8",
           "zerolinewidth": 2
          },
          "yaxis": {
           "automargin": true,
           "gridcolor": "#EBF0F8",
           "linecolor": "#EBF0F8",
           "ticks": "",
           "title": {
            "standoff": 15
           },
           "zerolinecolor": "#EBF0F8",
           "zerolinewidth": 2
          }
         }
        },
        "title": {
         "text": "IGAE"
        },
        "xaxis": {
         "title": {
          "text": ""
         }
        },
        "yaxis": {
         "title": {
          "text": "Index Units"
         }
        }
       }
      }
     },
     "metadata": {},
     "output_type": "display_data"
    }
   ],
   "source": [
    "fig = go.Figure()\n",
    "fig.add_trace(go.Scatter(x=igae_ipc.index, y=igae_ipc['igae'], mode='lines', name='Observed', line=dict(color='blue')))\n",
    "fig.add_trace(go.Scatter(x=igae_ipc.index, y=igae_ipc['igae_sa'], mode='lines', name='SA Adjusted', line=dict(color='red')))\n",
    "fig.update_layout(\n",
    "    title='IGAE',\n",
    "    xaxis_title='',\n",
    "    yaxis_title='Index Units',\n",
    "    legend_title='',\n",
    "    template='plotly_white'\n",
    ")\n",
    "fig.show()"
   ]
  },
  {
   "cell_type": "code",
   "execution_count": 104,
   "metadata": {},
   "outputs": [
    {
     "data": {
      "application/vnd.plotly.v1+json": {
       "config": {
        "plotlyServerURL": "https://plot.ly"
       },
       "data": [
        {
         "line": {
          "color": "blue"
         },
         "mode": "lines",
         "name": "Observed",
         "type": "scatter",
         "x": [
          "1990-01-31T00:00:00.000000000",
          "1990-02-28T00:00:00.000000000",
          "1990-03-31T00:00:00.000000000",
          "1990-04-30T00:00:00.000000000",
          "1990-05-31T00:00:00.000000000",
          "1990-06-30T00:00:00.000000000",
          "1990-07-31T00:00:00.000000000",
          "1990-08-31T00:00:00.000000000",
          "1990-09-30T00:00:00.000000000",
          "1990-10-31T00:00:00.000000000",
          "1990-11-30T00:00:00.000000000",
          "1990-12-31T00:00:00.000000000",
          "1991-01-31T00:00:00.000000000",
          "1991-02-28T00:00:00.000000000",
          "1991-03-31T00:00:00.000000000",
          "1991-04-30T00:00:00.000000000",
          "1991-05-31T00:00:00.000000000",
          "1991-06-30T00:00:00.000000000",
          "1991-07-31T00:00:00.000000000",
          "1991-08-31T00:00:00.000000000",
          "1991-09-30T00:00:00.000000000",
          "1991-10-31T00:00:00.000000000",
          "1991-11-30T00:00:00.000000000",
          "1991-12-31T00:00:00.000000000",
          "1992-01-31T00:00:00.000000000",
          "1992-02-29T00:00:00.000000000",
          "1992-03-31T00:00:00.000000000",
          "1992-04-30T00:00:00.000000000",
          "1992-05-31T00:00:00.000000000",
          "1992-06-30T00:00:00.000000000",
          "1992-07-31T00:00:00.000000000",
          "1992-08-31T00:00:00.000000000",
          "1992-09-30T00:00:00.000000000",
          "1992-10-31T00:00:00.000000000",
          "1992-11-30T00:00:00.000000000",
          "1992-12-31T00:00:00.000000000",
          "1993-01-31T00:00:00.000000000",
          "1993-02-28T00:00:00.000000000",
          "1993-03-31T00:00:00.000000000",
          "1993-04-30T00:00:00.000000000",
          "1993-05-31T00:00:00.000000000",
          "1993-06-30T00:00:00.000000000",
          "1993-07-31T00:00:00.000000000",
          "1993-08-31T00:00:00.000000000",
          "1993-09-30T00:00:00.000000000",
          "1993-10-31T00:00:00.000000000",
          "1993-11-30T00:00:00.000000000",
          "1993-12-31T00:00:00.000000000",
          "1994-01-31T00:00:00.000000000",
          "1994-02-28T00:00:00.000000000",
          "1994-03-31T00:00:00.000000000",
          "1994-04-30T00:00:00.000000000",
          "1994-05-31T00:00:00.000000000",
          "1994-06-30T00:00:00.000000000",
          "1994-07-31T00:00:00.000000000",
          "1994-08-31T00:00:00.000000000",
          "1994-09-30T00:00:00.000000000",
          "1994-10-31T00:00:00.000000000",
          "1994-11-30T00:00:00.000000000",
          "1994-12-31T00:00:00.000000000",
          "1995-01-31T00:00:00.000000000",
          "1995-02-28T00:00:00.000000000",
          "1995-03-31T00:00:00.000000000",
          "1995-04-30T00:00:00.000000000",
          "1995-05-31T00:00:00.000000000",
          "1995-06-30T00:00:00.000000000",
          "1995-07-31T00:00:00.000000000",
          "1995-08-31T00:00:00.000000000",
          "1995-09-30T00:00:00.000000000",
          "1995-10-31T00:00:00.000000000",
          "1995-11-30T00:00:00.000000000",
          "1995-12-31T00:00:00.000000000",
          "1996-01-31T00:00:00.000000000",
          "1996-02-29T00:00:00.000000000",
          "1996-03-31T00:00:00.000000000",
          "1996-04-30T00:00:00.000000000",
          "1996-05-31T00:00:00.000000000",
          "1996-06-30T00:00:00.000000000",
          "1996-07-31T00:00:00.000000000",
          "1996-08-31T00:00:00.000000000",
          "1996-09-30T00:00:00.000000000",
          "1996-10-31T00:00:00.000000000",
          "1996-11-30T00:00:00.000000000",
          "1996-12-31T00:00:00.000000000",
          "1997-01-31T00:00:00.000000000",
          "1997-02-28T00:00:00.000000000",
          "1997-03-31T00:00:00.000000000",
          "1997-04-30T00:00:00.000000000",
          "1997-05-31T00:00:00.000000000",
          "1997-06-30T00:00:00.000000000",
          "1997-07-31T00:00:00.000000000",
          "1997-08-31T00:00:00.000000000",
          "1997-09-30T00:00:00.000000000",
          "1997-10-31T00:00:00.000000000",
          "1997-11-30T00:00:00.000000000",
          "1997-12-31T00:00:00.000000000",
          "1998-01-31T00:00:00.000000000",
          "1998-02-28T00:00:00.000000000",
          "1998-03-31T00:00:00.000000000",
          "1998-04-30T00:00:00.000000000",
          "1998-05-31T00:00:00.000000000",
          "1998-06-30T00:00:00.000000000",
          "1998-07-31T00:00:00.000000000",
          "1998-08-31T00:00:00.000000000",
          "1998-09-30T00:00:00.000000000",
          "1998-10-31T00:00:00.000000000",
          "1998-11-30T00:00:00.000000000",
          "1998-12-31T00:00:00.000000000",
          "1999-01-31T00:00:00.000000000",
          "1999-02-28T00:00:00.000000000",
          "1999-03-31T00:00:00.000000000",
          "1999-04-30T00:00:00.000000000",
          "1999-05-31T00:00:00.000000000",
          "1999-06-30T00:00:00.000000000",
          "1999-07-31T00:00:00.000000000",
          "1999-08-31T00:00:00.000000000",
          "1999-09-30T00:00:00.000000000",
          "1999-10-31T00:00:00.000000000",
          "1999-11-30T00:00:00.000000000",
          "1999-12-31T00:00:00.000000000",
          "2000-01-31T00:00:00.000000000",
          "2000-02-29T00:00:00.000000000",
          "2000-03-31T00:00:00.000000000",
          "2000-04-30T00:00:00.000000000",
          "2000-05-31T00:00:00.000000000",
          "2000-06-30T00:00:00.000000000",
          "2000-07-31T00:00:00.000000000",
          "2000-08-31T00:00:00.000000000",
          "2000-09-30T00:00:00.000000000",
          "2000-10-31T00:00:00.000000000",
          "2000-11-30T00:00:00.000000000",
          "2000-12-31T00:00:00.000000000",
          "2001-01-31T00:00:00.000000000",
          "2001-02-28T00:00:00.000000000",
          "2001-03-31T00:00:00.000000000",
          "2001-04-30T00:00:00.000000000",
          "2001-05-31T00:00:00.000000000",
          "2001-06-30T00:00:00.000000000",
          "2001-07-31T00:00:00.000000000",
          "2001-08-31T00:00:00.000000000",
          "2001-09-30T00:00:00.000000000",
          "2001-10-31T00:00:00.000000000",
          "2001-11-30T00:00:00.000000000",
          "2001-12-31T00:00:00.000000000",
          "2002-01-31T00:00:00.000000000",
          "2002-02-28T00:00:00.000000000",
          "2002-03-31T00:00:00.000000000",
          "2002-04-30T00:00:00.000000000",
          "2002-05-31T00:00:00.000000000",
          "2002-06-30T00:00:00.000000000",
          "2002-07-31T00:00:00.000000000",
          "2002-08-31T00:00:00.000000000",
          "2002-09-30T00:00:00.000000000",
          "2002-10-31T00:00:00.000000000",
          "2002-11-30T00:00:00.000000000",
          "2002-12-31T00:00:00.000000000",
          "2003-01-31T00:00:00.000000000",
          "2003-02-28T00:00:00.000000000",
          "2003-03-31T00:00:00.000000000",
          "2003-04-30T00:00:00.000000000",
          "2003-05-31T00:00:00.000000000",
          "2003-06-30T00:00:00.000000000",
          "2003-07-31T00:00:00.000000000",
          "2003-08-31T00:00:00.000000000",
          "2003-09-30T00:00:00.000000000",
          "2003-10-31T00:00:00.000000000",
          "2003-11-30T00:00:00.000000000",
          "2003-12-31T00:00:00.000000000",
          "2004-01-31T00:00:00.000000000",
          "2004-02-29T00:00:00.000000000",
          "2004-03-31T00:00:00.000000000",
          "2004-04-30T00:00:00.000000000",
          "2004-05-31T00:00:00.000000000",
          "2004-06-30T00:00:00.000000000",
          "2004-07-31T00:00:00.000000000",
          "2004-08-31T00:00:00.000000000",
          "2004-09-30T00:00:00.000000000",
          "2004-10-31T00:00:00.000000000",
          "2004-11-30T00:00:00.000000000",
          "2004-12-31T00:00:00.000000000",
          "2005-01-31T00:00:00.000000000",
          "2005-02-28T00:00:00.000000000",
          "2005-03-31T00:00:00.000000000",
          "2005-04-30T00:00:00.000000000",
          "2005-05-31T00:00:00.000000000",
          "2005-06-30T00:00:00.000000000",
          "2005-07-31T00:00:00.000000000",
          "2005-08-31T00:00:00.000000000",
          "2005-09-30T00:00:00.000000000",
          "2005-10-31T00:00:00.000000000",
          "2005-11-30T00:00:00.000000000",
          "2005-12-31T00:00:00.000000000",
          "2006-01-31T00:00:00.000000000",
          "2006-02-28T00:00:00.000000000",
          "2006-03-31T00:00:00.000000000",
          "2006-04-30T00:00:00.000000000",
          "2006-05-31T00:00:00.000000000",
          "2006-06-30T00:00:00.000000000",
          "2006-07-31T00:00:00.000000000",
          "2006-08-31T00:00:00.000000000",
          "2006-09-30T00:00:00.000000000",
          "2006-10-31T00:00:00.000000000",
          "2006-11-30T00:00:00.000000000",
          "2006-12-31T00:00:00.000000000",
          "2007-01-31T00:00:00.000000000",
          "2007-02-28T00:00:00.000000000",
          "2007-03-31T00:00:00.000000000",
          "2007-04-30T00:00:00.000000000",
          "2007-05-31T00:00:00.000000000",
          "2007-06-30T00:00:00.000000000",
          "2007-07-31T00:00:00.000000000",
          "2007-08-31T00:00:00.000000000",
          "2007-09-30T00:00:00.000000000",
          "2007-10-31T00:00:00.000000000",
          "2007-11-30T00:00:00.000000000",
          "2007-12-31T00:00:00.000000000",
          "2008-01-31T00:00:00.000000000",
          "2008-02-29T00:00:00.000000000",
          "2008-03-31T00:00:00.000000000",
          "2008-04-30T00:00:00.000000000",
          "2008-05-31T00:00:00.000000000",
          "2008-06-30T00:00:00.000000000",
          "2008-07-31T00:00:00.000000000",
          "2008-08-31T00:00:00.000000000",
          "2008-09-30T00:00:00.000000000",
          "2008-10-31T00:00:00.000000000",
          "2008-11-30T00:00:00.000000000",
          "2008-12-31T00:00:00.000000000",
          "2009-01-31T00:00:00.000000000",
          "2009-02-28T00:00:00.000000000",
          "2009-03-31T00:00:00.000000000",
          "2009-04-30T00:00:00.000000000",
          "2009-05-31T00:00:00.000000000",
          "2009-06-30T00:00:00.000000000",
          "2009-07-31T00:00:00.000000000",
          "2009-08-31T00:00:00.000000000",
          "2009-09-30T00:00:00.000000000",
          "2009-10-31T00:00:00.000000000",
          "2009-11-30T00:00:00.000000000",
          "2009-12-31T00:00:00.000000000",
          "2010-01-31T00:00:00.000000000",
          "2010-02-28T00:00:00.000000000",
          "2010-03-31T00:00:00.000000000",
          "2010-04-30T00:00:00.000000000",
          "2010-05-31T00:00:00.000000000",
          "2010-06-30T00:00:00.000000000",
          "2010-07-31T00:00:00.000000000",
          "2010-08-31T00:00:00.000000000",
          "2010-09-30T00:00:00.000000000",
          "2010-10-31T00:00:00.000000000",
          "2010-11-30T00:00:00.000000000",
          "2010-12-31T00:00:00.000000000",
          "2011-01-31T00:00:00.000000000",
          "2011-02-28T00:00:00.000000000",
          "2011-03-31T00:00:00.000000000",
          "2011-04-30T00:00:00.000000000",
          "2011-05-31T00:00:00.000000000",
          "2011-06-30T00:00:00.000000000",
          "2011-07-31T00:00:00.000000000",
          "2011-08-31T00:00:00.000000000",
          "2011-09-30T00:00:00.000000000",
          "2011-10-31T00:00:00.000000000",
          "2011-11-30T00:00:00.000000000",
          "2011-12-31T00:00:00.000000000",
          "2012-01-31T00:00:00.000000000",
          "2012-02-29T00:00:00.000000000",
          "2012-03-31T00:00:00.000000000",
          "2012-04-30T00:00:00.000000000",
          "2012-05-31T00:00:00.000000000",
          "2012-06-30T00:00:00.000000000",
          "2012-07-31T00:00:00.000000000",
          "2012-08-31T00:00:00.000000000",
          "2012-09-30T00:00:00.000000000",
          "2012-10-31T00:00:00.000000000",
          "2012-11-30T00:00:00.000000000",
          "2012-12-31T00:00:00.000000000",
          "2013-01-31T00:00:00.000000000",
          "2013-02-28T00:00:00.000000000",
          "2013-03-31T00:00:00.000000000",
          "2013-04-30T00:00:00.000000000",
          "2013-05-31T00:00:00.000000000",
          "2013-06-30T00:00:00.000000000",
          "2013-07-31T00:00:00.000000000",
          "2013-08-31T00:00:00.000000000",
          "2013-09-30T00:00:00.000000000",
          "2013-10-31T00:00:00.000000000",
          "2013-11-30T00:00:00.000000000",
          "2013-12-31T00:00:00.000000000",
          "2014-01-31T00:00:00.000000000",
          "2014-02-28T00:00:00.000000000",
          "2014-03-31T00:00:00.000000000",
          "2014-04-30T00:00:00.000000000",
          "2014-05-31T00:00:00.000000000",
          "2014-06-30T00:00:00.000000000",
          "2014-07-31T00:00:00.000000000",
          "2014-08-31T00:00:00.000000000",
          "2014-09-30T00:00:00.000000000",
          "2014-10-31T00:00:00.000000000",
          "2014-11-30T00:00:00.000000000",
          "2014-12-31T00:00:00.000000000",
          "2015-01-31T00:00:00.000000000",
          "2015-02-28T00:00:00.000000000",
          "2015-03-31T00:00:00.000000000",
          "2015-04-30T00:00:00.000000000",
          "2015-05-31T00:00:00.000000000",
          "2015-06-30T00:00:00.000000000",
          "2015-07-31T00:00:00.000000000",
          "2015-08-31T00:00:00.000000000",
          "2015-09-30T00:00:00.000000000",
          "2015-10-31T00:00:00.000000000",
          "2015-11-30T00:00:00.000000000",
          "2015-12-31T00:00:00.000000000",
          "2016-01-31T00:00:00.000000000",
          "2016-02-29T00:00:00.000000000",
          "2016-03-31T00:00:00.000000000",
          "2016-04-30T00:00:00.000000000",
          "2016-05-31T00:00:00.000000000",
          "2016-06-30T00:00:00.000000000",
          "2016-07-31T00:00:00.000000000",
          "2016-08-31T00:00:00.000000000",
          "2016-09-30T00:00:00.000000000",
          "2016-10-31T00:00:00.000000000",
          "2016-11-30T00:00:00.000000000",
          "2016-12-31T00:00:00.000000000",
          "2017-01-31T00:00:00.000000000",
          "2017-02-28T00:00:00.000000000",
          "2017-03-31T00:00:00.000000000",
          "2017-04-30T00:00:00.000000000",
          "2017-05-31T00:00:00.000000000",
          "2017-06-30T00:00:00.000000000",
          "2017-07-31T00:00:00.000000000",
          "2017-08-31T00:00:00.000000000",
          "2017-09-30T00:00:00.000000000",
          "2017-10-31T00:00:00.000000000",
          "2017-11-30T00:00:00.000000000",
          "2017-12-31T00:00:00.000000000",
          "2018-01-31T00:00:00.000000000",
          "2018-02-28T00:00:00.000000000",
          "2018-03-31T00:00:00.000000000",
          "2018-04-30T00:00:00.000000000",
          "2018-05-31T00:00:00.000000000",
          "2018-06-30T00:00:00.000000000",
          "2018-07-31T00:00:00.000000000",
          "2018-08-31T00:00:00.000000000",
          "2018-09-30T00:00:00.000000000",
          "2018-10-31T00:00:00.000000000",
          "2018-11-30T00:00:00.000000000",
          "2018-12-31T00:00:00.000000000",
          "2019-01-31T00:00:00.000000000",
          "2019-02-28T00:00:00.000000000",
          "2019-03-31T00:00:00.000000000",
          "2019-04-30T00:00:00.000000000",
          "2019-05-31T00:00:00.000000000",
          "2019-06-30T00:00:00.000000000",
          "2019-07-31T00:00:00.000000000",
          "2019-08-31T00:00:00.000000000",
          "2019-09-30T00:00:00.000000000",
          "2019-10-31T00:00:00.000000000",
          "2019-11-30T00:00:00.000000000",
          "2019-12-31T00:00:00.000000000",
          "2020-01-31T00:00:00.000000000",
          "2020-02-29T00:00:00.000000000",
          "2020-03-31T00:00:00.000000000",
          "2020-04-30T00:00:00.000000000",
          "2020-05-31T00:00:00.000000000",
          "2020-06-30T00:00:00.000000000",
          "2020-07-31T00:00:00.000000000",
          "2020-08-31T00:00:00.000000000",
          "2020-09-30T00:00:00.000000000",
          "2020-10-31T00:00:00.000000000",
          "2020-11-30T00:00:00.000000000",
          "2020-12-31T00:00:00.000000000",
          "2021-01-31T00:00:00.000000000",
          "2021-02-28T00:00:00.000000000",
          "2021-03-31T00:00:00.000000000",
          "2021-04-30T00:00:00.000000000",
          "2021-05-31T00:00:00.000000000",
          "2021-06-30T00:00:00.000000000",
          "2021-07-31T00:00:00.000000000",
          "2021-08-31T00:00:00.000000000",
          "2021-09-30T00:00:00.000000000",
          "2021-10-31T00:00:00.000000000",
          "2021-11-30T00:00:00.000000000",
          "2021-12-31T00:00:00.000000000",
          "2022-01-31T00:00:00.000000000",
          "2022-02-28T00:00:00.000000000",
          "2022-03-31T00:00:00.000000000",
          "2022-04-30T00:00:00.000000000",
          "2022-05-31T00:00:00.000000000",
          "2022-06-30T00:00:00.000000000",
          "2022-07-31T00:00:00.000000000",
          "2022-08-31T00:00:00.000000000",
          "2022-09-30T00:00:00.000000000",
          "2022-10-31T00:00:00.000000000",
          "2022-11-30T00:00:00.000000000",
          "2022-12-31T00:00:00.000000000",
          "2023-01-31T00:00:00.000000000",
          "2023-02-28T00:00:00.000000000",
          "2023-03-31T00:00:00.000000000",
          "2023-04-30T00:00:00.000000000",
          "2023-05-31T00:00:00.000000000",
          "2023-06-30T00:00:00.000000000",
          "2023-07-31T00:00:00.000000000",
          "2023-08-31T00:00:00.000000000",
          "2023-09-30T00:00:00.000000000",
          "2023-10-31T00:00:00.000000000",
          "2023-11-30T00:00:00.000000000",
          "2023-12-31T00:00:00.000000000",
          "2024-01-31T00:00:00.000000000",
          "2024-02-29T00:00:00.000000000",
          "2024-03-31T00:00:00.000000000",
          "2024-04-30T00:00:00.000000000",
          "2024-05-31T00:00:00.000000000",
          "2024-06-30T00:00:00.000000000",
          "2024-07-31T00:00:00.000000000",
          "2024-08-31T00:00:00.000000000",
          "2024-09-30T00:00:00.000000000",
          "2024-10-31T00:00:00.000000000",
          "2024-11-30T00:00:00.000000000",
          "2024-12-31T00:00:00.000000000"
         ],
         "y": {
          "bdata": "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",
          "dtype": "f8"
         }
        },
        {
         "line": {
          "color": "red"
         },
         "mode": "lines",
         "name": "SA Adjusted",
         "type": "scatter",
         "x": [
          "1990-01-31T00:00:00.000000000",
          "1990-02-28T00:00:00.000000000",
          "1990-03-31T00:00:00.000000000",
          "1990-04-30T00:00:00.000000000",
          "1990-05-31T00:00:00.000000000",
          "1990-06-30T00:00:00.000000000",
          "1990-07-31T00:00:00.000000000",
          "1990-08-31T00:00:00.000000000",
          "1990-09-30T00:00:00.000000000",
          "1990-10-31T00:00:00.000000000",
          "1990-11-30T00:00:00.000000000",
          "1990-12-31T00:00:00.000000000",
          "1991-01-31T00:00:00.000000000",
          "1991-02-28T00:00:00.000000000",
          "1991-03-31T00:00:00.000000000",
          "1991-04-30T00:00:00.000000000",
          "1991-05-31T00:00:00.000000000",
          "1991-06-30T00:00:00.000000000",
          "1991-07-31T00:00:00.000000000",
          "1991-08-31T00:00:00.000000000",
          "1991-09-30T00:00:00.000000000",
          "1991-10-31T00:00:00.000000000",
          "1991-11-30T00:00:00.000000000",
          "1991-12-31T00:00:00.000000000",
          "1992-01-31T00:00:00.000000000",
          "1992-02-29T00:00:00.000000000",
          "1992-03-31T00:00:00.000000000",
          "1992-04-30T00:00:00.000000000",
          "1992-05-31T00:00:00.000000000",
          "1992-06-30T00:00:00.000000000",
          "1992-07-31T00:00:00.000000000",
          "1992-08-31T00:00:00.000000000",
          "1992-09-30T00:00:00.000000000",
          "1992-10-31T00:00:00.000000000",
          "1992-11-30T00:00:00.000000000",
          "1992-12-31T00:00:00.000000000",
          "1993-01-31T00:00:00.000000000",
          "1993-02-28T00:00:00.000000000",
          "1993-03-31T00:00:00.000000000",
          "1993-04-30T00:00:00.000000000",
          "1993-05-31T00:00:00.000000000",
          "1993-06-30T00:00:00.000000000",
          "1993-07-31T00:00:00.000000000",
          "1993-08-31T00:00:00.000000000",
          "1993-09-30T00:00:00.000000000",
          "1993-10-31T00:00:00.000000000",
          "1993-11-30T00:00:00.000000000",
          "1993-12-31T00:00:00.000000000",
          "1994-01-31T00:00:00.000000000",
          "1994-02-28T00:00:00.000000000",
          "1994-03-31T00:00:00.000000000",
          "1994-04-30T00:00:00.000000000",
          "1994-05-31T00:00:00.000000000",
          "1994-06-30T00:00:00.000000000",
          "1994-07-31T00:00:00.000000000",
          "1994-08-31T00:00:00.000000000",
          "1994-09-30T00:00:00.000000000",
          "1994-10-31T00:00:00.000000000",
          "1994-11-30T00:00:00.000000000",
          "1994-12-31T00:00:00.000000000",
          "1995-01-31T00:00:00.000000000",
          "1995-02-28T00:00:00.000000000",
          "1995-03-31T00:00:00.000000000",
          "1995-04-30T00:00:00.000000000",
          "1995-05-31T00:00:00.000000000",
          "1995-06-30T00:00:00.000000000",
          "1995-07-31T00:00:00.000000000",
          "1995-08-31T00:00:00.000000000",
          "1995-09-30T00:00:00.000000000",
          "1995-10-31T00:00:00.000000000",
          "1995-11-30T00:00:00.000000000",
          "1995-12-31T00:00:00.000000000",
          "1996-01-31T00:00:00.000000000",
          "1996-02-29T00:00:00.000000000",
          "1996-03-31T00:00:00.000000000",
          "1996-04-30T00:00:00.000000000",
          "1996-05-31T00:00:00.000000000",
          "1996-06-30T00:00:00.000000000",
          "1996-07-31T00:00:00.000000000",
          "1996-08-31T00:00:00.000000000",
          "1996-09-30T00:00:00.000000000",
          "1996-10-31T00:00:00.000000000",
          "1996-11-30T00:00:00.000000000",
          "1996-12-31T00:00:00.000000000",
          "1997-01-31T00:00:00.000000000",
          "1997-02-28T00:00:00.000000000",
          "1997-03-31T00:00:00.000000000",
          "1997-04-30T00:00:00.000000000",
          "1997-05-31T00:00:00.000000000",
          "1997-06-30T00:00:00.000000000",
          "1997-07-31T00:00:00.000000000",
          "1997-08-31T00:00:00.000000000",
          "1997-09-30T00:00:00.000000000",
          "1997-10-31T00:00:00.000000000",
          "1997-11-30T00:00:00.000000000",
          "1997-12-31T00:00:00.000000000",
          "1998-01-31T00:00:00.000000000",
          "1998-02-28T00:00:00.000000000",
          "1998-03-31T00:00:00.000000000",
          "1998-04-30T00:00:00.000000000",
          "1998-05-31T00:00:00.000000000",
          "1998-06-30T00:00:00.000000000",
          "1998-07-31T00:00:00.000000000",
          "1998-08-31T00:00:00.000000000",
          "1998-09-30T00:00:00.000000000",
          "1998-10-31T00:00:00.000000000",
          "1998-11-30T00:00:00.000000000",
          "1998-12-31T00:00:00.000000000",
          "1999-01-31T00:00:00.000000000",
          "1999-02-28T00:00:00.000000000",
          "1999-03-31T00:00:00.000000000",
          "1999-04-30T00:00:00.000000000",
          "1999-05-31T00:00:00.000000000",
          "1999-06-30T00:00:00.000000000",
          "1999-07-31T00:00:00.000000000",
          "1999-08-31T00:00:00.000000000",
          "1999-09-30T00:00:00.000000000",
          "1999-10-31T00:00:00.000000000",
          "1999-11-30T00:00:00.000000000",
          "1999-12-31T00:00:00.000000000",
          "2000-01-31T00:00:00.000000000",
          "2000-02-29T00:00:00.000000000",
          "2000-03-31T00:00:00.000000000",
          "2000-04-30T00:00:00.000000000",
          "2000-05-31T00:00:00.000000000",
          "2000-06-30T00:00:00.000000000",
          "2000-07-31T00:00:00.000000000",
          "2000-08-31T00:00:00.000000000",
          "2000-09-30T00:00:00.000000000",
          "2000-10-31T00:00:00.000000000",
          "2000-11-30T00:00:00.000000000",
          "2000-12-31T00:00:00.000000000",
          "2001-01-31T00:00:00.000000000",
          "2001-02-28T00:00:00.000000000",
          "2001-03-31T00:00:00.000000000",
          "2001-04-30T00:00:00.000000000",
          "2001-05-31T00:00:00.000000000",
          "2001-06-30T00:00:00.000000000",
          "2001-07-31T00:00:00.000000000",
          "2001-08-31T00:00:00.000000000",
          "2001-09-30T00:00:00.000000000",
          "2001-10-31T00:00:00.000000000",
          "2001-11-30T00:00:00.000000000",
          "2001-12-31T00:00:00.000000000",
          "2002-01-31T00:00:00.000000000",
          "2002-02-28T00:00:00.000000000",
          "2002-03-31T00:00:00.000000000",
          "2002-04-30T00:00:00.000000000",
          "2002-05-31T00:00:00.000000000",
          "2002-06-30T00:00:00.000000000",
          "2002-07-31T00:00:00.000000000",
          "2002-08-31T00:00:00.000000000",
          "2002-09-30T00:00:00.000000000",
          "2002-10-31T00:00:00.000000000",
          "2002-11-30T00:00:00.000000000",
          "2002-12-31T00:00:00.000000000",
          "2003-01-31T00:00:00.000000000",
          "2003-02-28T00:00:00.000000000",
          "2003-03-31T00:00:00.000000000",
          "2003-04-30T00:00:00.000000000",
          "2003-05-31T00:00:00.000000000",
          "2003-06-30T00:00:00.000000000",
          "2003-07-31T00:00:00.000000000",
          "2003-08-31T00:00:00.000000000",
          "2003-09-30T00:00:00.000000000",
          "2003-10-31T00:00:00.000000000",
          "2003-11-30T00:00:00.000000000",
          "2003-12-31T00:00:00.000000000",
          "2004-01-31T00:00:00.000000000",
          "2004-02-29T00:00:00.000000000",
          "2004-03-31T00:00:00.000000000",
          "2004-04-30T00:00:00.000000000",
          "2004-05-31T00:00:00.000000000",
          "2004-06-30T00:00:00.000000000",
          "2004-07-31T00:00:00.000000000",
          "2004-08-31T00:00:00.000000000",
          "2004-09-30T00:00:00.000000000",
          "2004-10-31T00:00:00.000000000",
          "2004-11-30T00:00:00.000000000",
          "2004-12-31T00:00:00.000000000",
          "2005-01-31T00:00:00.000000000",
          "2005-02-28T00:00:00.000000000",
          "2005-03-31T00:00:00.000000000",
          "2005-04-30T00:00:00.000000000",
          "2005-05-31T00:00:00.000000000",
          "2005-06-30T00:00:00.000000000",
          "2005-07-31T00:00:00.000000000",
          "2005-08-31T00:00:00.000000000",
          "2005-09-30T00:00:00.000000000",
          "2005-10-31T00:00:00.000000000",
          "2005-11-30T00:00:00.000000000",
          "2005-12-31T00:00:00.000000000",
          "2006-01-31T00:00:00.000000000",
          "2006-02-28T00:00:00.000000000",
          "2006-03-31T00:00:00.000000000",
          "2006-04-30T00:00:00.000000000",
          "2006-05-31T00:00:00.000000000",
          "2006-06-30T00:00:00.000000000",
          "2006-07-31T00:00:00.000000000",
          "2006-08-31T00:00:00.000000000",
          "2006-09-30T00:00:00.000000000",
          "2006-10-31T00:00:00.000000000",
          "2006-11-30T00:00:00.000000000",
          "2006-12-31T00:00:00.000000000",
          "2007-01-31T00:00:00.000000000",
          "2007-02-28T00:00:00.000000000",
          "2007-03-31T00:00:00.000000000",
          "2007-04-30T00:00:00.000000000",
          "2007-05-31T00:00:00.000000000",
          "2007-06-30T00:00:00.000000000",
          "2007-07-31T00:00:00.000000000",
          "2007-08-31T00:00:00.000000000",
          "2007-09-30T00:00:00.000000000",
          "2007-10-31T00:00:00.000000000",
          "2007-11-30T00:00:00.000000000",
          "2007-12-31T00:00:00.000000000",
          "2008-01-31T00:00:00.000000000",
          "2008-02-29T00:00:00.000000000",
          "2008-03-31T00:00:00.000000000",
          "2008-04-30T00:00:00.000000000",
          "2008-05-31T00:00:00.000000000",
          "2008-06-30T00:00:00.000000000",
          "2008-07-31T00:00:00.000000000",
          "2008-08-31T00:00:00.000000000",
          "2008-09-30T00:00:00.000000000",
          "2008-10-31T00:00:00.000000000",
          "2008-11-30T00:00:00.000000000",
          "2008-12-31T00:00:00.000000000",
          "2009-01-31T00:00:00.000000000",
          "2009-02-28T00:00:00.000000000",
          "2009-03-31T00:00:00.000000000",
          "2009-04-30T00:00:00.000000000",
          "2009-05-31T00:00:00.000000000",
          "2009-06-30T00:00:00.000000000",
          "2009-07-31T00:00:00.000000000",
          "2009-08-31T00:00:00.000000000",
          "2009-09-30T00:00:00.000000000",
          "2009-10-31T00:00:00.000000000",
          "2009-11-30T00:00:00.000000000",
          "2009-12-31T00:00:00.000000000",
          "2010-01-31T00:00:00.000000000",
          "2010-02-28T00:00:00.000000000",
          "2010-03-31T00:00:00.000000000",
          "2010-04-30T00:00:00.000000000",
          "2010-05-31T00:00:00.000000000",
          "2010-06-30T00:00:00.000000000",
          "2010-07-31T00:00:00.000000000",
          "2010-08-31T00:00:00.000000000",
          "2010-09-30T00:00:00.000000000",
          "2010-10-31T00:00:00.000000000",
          "2010-11-30T00:00:00.000000000",
          "2010-12-31T00:00:00.000000000",
          "2011-01-31T00:00:00.000000000",
          "2011-02-28T00:00:00.000000000",
          "2011-03-31T00:00:00.000000000",
          "2011-04-30T00:00:00.000000000",
          "2011-05-31T00:00:00.000000000",
          "2011-06-30T00:00:00.000000000",
          "2011-07-31T00:00:00.000000000",
          "2011-08-31T00:00:00.000000000",
          "2011-09-30T00:00:00.000000000",
          "2011-10-31T00:00:00.000000000",
          "2011-11-30T00:00:00.000000000",
          "2011-12-31T00:00:00.000000000",
          "2012-01-31T00:00:00.000000000",
          "2012-02-29T00:00:00.000000000",
          "2012-03-31T00:00:00.000000000",
          "2012-04-30T00:00:00.000000000",
          "2012-05-31T00:00:00.000000000",
          "2012-06-30T00:00:00.000000000",
          "2012-07-31T00:00:00.000000000",
          "2012-08-31T00:00:00.000000000",
          "2012-09-30T00:00:00.000000000",
          "2012-10-31T00:00:00.000000000",
          "2012-11-30T00:00:00.000000000",
          "2012-12-31T00:00:00.000000000",
          "2013-01-31T00:00:00.000000000",
          "2013-02-28T00:00:00.000000000",
          "2013-03-31T00:00:00.000000000",
          "2013-04-30T00:00:00.000000000",
          "2013-05-31T00:00:00.000000000",
          "2013-06-30T00:00:00.000000000",
          "2013-07-31T00:00:00.000000000",
          "2013-08-31T00:00:00.000000000",
          "2013-09-30T00:00:00.000000000",
          "2013-10-31T00:00:00.000000000",
          "2013-11-30T00:00:00.000000000",
          "2013-12-31T00:00:00.000000000",
          "2014-01-31T00:00:00.000000000",
          "2014-02-28T00:00:00.000000000",
          "2014-03-31T00:00:00.000000000",
          "2014-04-30T00:00:00.000000000",
          "2014-05-31T00:00:00.000000000",
          "2014-06-30T00:00:00.000000000",
          "2014-07-31T00:00:00.000000000",
          "2014-08-31T00:00:00.000000000",
          "2014-09-30T00:00:00.000000000",
          "2014-10-31T00:00:00.000000000",
          "2014-11-30T00:00:00.000000000",
          "2014-12-31T00:00:00.000000000",
          "2015-01-31T00:00:00.000000000",
          "2015-02-28T00:00:00.000000000",
          "2015-03-31T00:00:00.000000000",
          "2015-04-30T00:00:00.000000000",
          "2015-05-31T00:00:00.000000000",
          "2015-06-30T00:00:00.000000000",
          "2015-07-31T00:00:00.000000000",
          "2015-08-31T00:00:00.000000000",
          "2015-09-30T00:00:00.000000000",
          "2015-10-31T00:00:00.000000000",
          "2015-11-30T00:00:00.000000000",
          "2015-12-31T00:00:00.000000000",
          "2016-01-31T00:00:00.000000000",
          "2016-02-29T00:00:00.000000000",
          "2016-03-31T00:00:00.000000000",
          "2016-04-30T00:00:00.000000000",
          "2016-05-31T00:00:00.000000000",
          "2016-06-30T00:00:00.000000000",
          "2016-07-31T00:00:00.000000000",
          "2016-08-31T00:00:00.000000000",
          "2016-09-30T00:00:00.000000000",
          "2016-10-31T00:00:00.000000000",
          "2016-11-30T00:00:00.000000000",
          "2016-12-31T00:00:00.000000000",
          "2017-01-31T00:00:00.000000000",
          "2017-02-28T00:00:00.000000000",
          "2017-03-31T00:00:00.000000000",
          "2017-04-30T00:00:00.000000000",
          "2017-05-31T00:00:00.000000000",
          "2017-06-30T00:00:00.000000000",
          "2017-07-31T00:00:00.000000000",
          "2017-08-31T00:00:00.000000000",
          "2017-09-30T00:00:00.000000000",
          "2017-10-31T00:00:00.000000000",
          "2017-11-30T00:00:00.000000000",
          "2017-12-31T00:00:00.000000000",
          "2018-01-31T00:00:00.000000000",
          "2018-02-28T00:00:00.000000000",
          "2018-03-31T00:00:00.000000000",
          "2018-04-30T00:00:00.000000000",
          "2018-05-31T00:00:00.000000000",
          "2018-06-30T00:00:00.000000000",
          "2018-07-31T00:00:00.000000000",
          "2018-08-31T00:00:00.000000000",
          "2018-09-30T00:00:00.000000000",
          "2018-10-31T00:00:00.000000000",
          "2018-11-30T00:00:00.000000000",
          "2018-12-31T00:00:00.000000000",
          "2019-01-31T00:00:00.000000000",
          "2019-02-28T00:00:00.000000000",
          "2019-03-31T00:00:00.000000000",
          "2019-04-30T00:00:00.000000000",
          "2019-05-31T00:00:00.000000000",
          "2019-06-30T00:00:00.000000000",
          "2019-07-31T00:00:00.000000000",
          "2019-08-31T00:00:00.000000000",
          "2019-09-30T00:00:00.000000000",
          "2019-10-31T00:00:00.000000000",
          "2019-11-30T00:00:00.000000000",
          "2019-12-31T00:00:00.000000000",
          "2020-01-31T00:00:00.000000000",
          "2020-02-29T00:00:00.000000000",
          "2020-03-31T00:00:00.000000000",
          "2020-04-30T00:00:00.000000000",
          "2020-05-31T00:00:00.000000000",
          "2020-06-30T00:00:00.000000000",
          "2020-07-31T00:00:00.000000000",
          "2020-08-31T00:00:00.000000000",
          "2020-09-30T00:00:00.000000000",
          "2020-10-31T00:00:00.000000000",
          "2020-11-30T00:00:00.000000000",
          "2020-12-31T00:00:00.000000000",
          "2021-01-31T00:00:00.000000000",
          "2021-02-28T00:00:00.000000000",
          "2021-03-31T00:00:00.000000000",
          "2021-04-30T00:00:00.000000000",
          "2021-05-31T00:00:00.000000000",
          "2021-06-30T00:00:00.000000000",
          "2021-07-31T00:00:00.000000000",
          "2021-08-31T00:00:00.000000000",
          "2021-09-30T00:00:00.000000000",
          "2021-10-31T00:00:00.000000000",
          "2021-11-30T00:00:00.000000000",
          "2021-12-31T00:00:00.000000000",
          "2022-01-31T00:00:00.000000000",
          "2022-02-28T00:00:00.000000000",
          "2022-03-31T00:00:00.000000000",
          "2022-04-30T00:00:00.000000000",
          "2022-05-31T00:00:00.000000000",
          "2022-06-30T00:00:00.000000000",
          "2022-07-31T00:00:00.000000000",
          "2022-08-31T00:00:00.000000000",
          "2022-09-30T00:00:00.000000000",
          "2022-10-31T00:00:00.000000000",
          "2022-11-30T00:00:00.000000000",
          "2022-12-31T00:00:00.000000000",
          "2023-01-31T00:00:00.000000000",
          "2023-02-28T00:00:00.000000000",
          "2023-03-31T00:00:00.000000000",
          "2023-04-30T00:00:00.000000000",
          "2023-05-31T00:00:00.000000000",
          "2023-06-30T00:00:00.000000000",
          "2023-07-31T00:00:00.000000000",
          "2023-08-31T00:00:00.000000000",
          "2023-09-30T00:00:00.000000000",
          "2023-10-31T00:00:00.000000000",
          "2023-11-30T00:00:00.000000000",
          "2023-12-31T00:00:00.000000000",
          "2024-01-31T00:00:00.000000000",
          "2024-02-29T00:00:00.000000000",
          "2024-03-31T00:00:00.000000000",
          "2024-04-30T00:00:00.000000000",
          "2024-05-31T00:00:00.000000000",
          "2024-06-30T00:00:00.000000000",
          "2024-07-31T00:00:00.000000000",
          "2024-08-31T00:00:00.000000000",
          "2024-09-30T00:00:00.000000000",
          "2024-10-31T00:00:00.000000000",
          "2024-11-30T00:00:00.000000000",
          "2024-12-31T00:00:00.000000000"
         ],
         "y": {
          "bdata": "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",
          "dtype": "f8"
         }
        }
       ],
       "layout": {
        "legend": {
         "title": {
          "text": ""
         }
        },
        "template": {
         "data": {
          "bar": [
           {
            "error_x": {
             "color": "#2a3f5f"
            },
            "error_y": {
             "color": "#2a3f5f"
            },
            "marker": {
             "line": {
              "color": "white",
              "width": 0.5
             },
             "pattern": {
              "fillmode": "overlay",
              "size": 10,
              "solidity": 0.2
             }
            },
            "type": "bar"
           }
          ],
          "barpolar": [
           {
            "marker": {
             "line": {
              "color": "white",
              "width": 0.5
             },
             "pattern": {
              "fillmode": "overlay",
              "size": 10,
              "solidity": 0.2
             }
            },
            "type": "barpolar"
           }
          ],
          "carpet": [
           {
            "aaxis": {
             "endlinecolor": "#2a3f5f",
             "gridcolor": "#C8D4E3",
             "linecolor": "#C8D4E3",
             "minorgridcolor": "#C8D4E3",
             "startlinecolor": "#2a3f5f"
            },
            "baxis": {
             "endlinecolor": "#2a3f5f",
             "gridcolor": "#C8D4E3",
             "linecolor": "#C8D4E3",
             "minorgridcolor": "#C8D4E3",
             "startlinecolor": "#2a3f5f"
            },
            "type": "carpet"
           }
          ],
          "choropleth": [
           {
            "colorbar": {
             "outlinewidth": 0,
             "ticks": ""
            },
            "type": "choropleth"
           }
          ],
          "contour": [
           {
            "colorbar": {
             "outlinewidth": 0,
             "ticks": ""
            },
            "colorscale": [
             [
              0,
              "#0d0887"
             ],
             [
              0.1111111111111111,
              "#46039f"
             ],
             [
              0.2222222222222222,
              "#7201a8"
             ],
             [
              0.3333333333333333,
              "#9c179e"
             ],
             [
              0.4444444444444444,
              "#bd3786"
             ],
             [
              0.5555555555555556,
              "#d8576b"
             ],
             [
              0.6666666666666666,
              "#ed7953"
             ],
             [
              0.7777777777777778,
              "#fb9f3a"
             ],
             [
              0.8888888888888888,
              "#fdca26"
             ],
             [
              1,
              "#f0f921"
             ]
            ],
            "type": "contour"
           }
          ],
          "contourcarpet": [
           {
            "colorbar": {
             "outlinewidth": 0,
             "ticks": ""
            },
            "type": "contourcarpet"
           }
          ],
          "heatmap": [
           {
            "colorbar": {
             "outlinewidth": 0,
             "ticks": ""
            },
            "colorscale": [
             [
              0,
              "#0d0887"
             ],
             [
              0.1111111111111111,
              "#46039f"
             ],
             [
              0.2222222222222222,
              "#7201a8"
             ],
             [
              0.3333333333333333,
              "#9c179e"
             ],
             [
              0.4444444444444444,
              "#bd3786"
             ],
             [
              0.5555555555555556,
              "#d8576b"
             ],
             [
              0.6666666666666666,
              "#ed7953"
             ],
             [
              0.7777777777777778,
              "#fb9f3a"
             ],
             [
              0.8888888888888888,
              "#fdca26"
             ],
             [
              1,
              "#f0f921"
             ]
            ],
            "type": "heatmap"
           }
          ],
          "histogram": [
           {
            "marker": {
             "pattern": {
              "fillmode": "overlay",
              "size": 10,
              "solidity": 0.2
             }
            },
            "type": "histogram"
           }
          ],
          "histogram2d": [
           {
            "colorbar": {
             "outlinewidth": 0,
             "ticks": ""
            },
            "colorscale": [
             [
              0,
              "#0d0887"
             ],
             [
              0.1111111111111111,
              "#46039f"
             ],
             [
              0.2222222222222222,
              "#7201a8"
             ],
             [
              0.3333333333333333,
              "#9c179e"
             ],
             [
              0.4444444444444444,
              "#bd3786"
             ],
             [
              0.5555555555555556,
              "#d8576b"
             ],
             [
              0.6666666666666666,
              "#ed7953"
             ],
             [
              0.7777777777777778,
              "#fb9f3a"
             ],
             [
              0.8888888888888888,
              "#fdca26"
             ],
             [
              1,
              "#f0f921"
             ]
            ],
            "type": "histogram2d"
           }
          ],
          "histogram2dcontour": [
           {
            "colorbar": {
             "outlinewidth": 0,
             "ticks": ""
            },
            "colorscale": [
             [
              0,
              "#0d0887"
             ],
             [
              0.1111111111111111,
              "#46039f"
             ],
             [
              0.2222222222222222,
              "#7201a8"
             ],
             [
              0.3333333333333333,
              "#9c179e"
             ],
             [
              0.4444444444444444,
              "#bd3786"
             ],
             [
              0.5555555555555556,
              "#d8576b"
             ],
             [
              0.6666666666666666,
              "#ed7953"
             ],
             [
              0.7777777777777778,
              "#fb9f3a"
             ],
             [
              0.8888888888888888,
              "#fdca26"
             ],
             [
              1,
              "#f0f921"
             ]
            ],
            "type": "histogram2dcontour"
           }
          ],
          "mesh3d": [
           {
            "colorbar": {
             "outlinewidth": 0,
             "ticks": ""
            },
            "type": "mesh3d"
           }
          ],
          "parcoords": [
           {
            "line": {
             "colorbar": {
              "outlinewidth": 0,
              "ticks": ""
             }
            },
            "type": "parcoords"
           }
          ],
          "pie": [
           {
            "automargin": true,
            "type": "pie"
           }
          ],
          "scatter": [
           {
            "fillpattern": {
             "fillmode": "overlay",
             "size": 10,
             "solidity": 0.2
            },
            "type": "scatter"
           }
          ],
          "scatter3d": [
           {
            "line": {
             "colorbar": {
              "outlinewidth": 0,
              "ticks": ""
             }
            },
            "marker": {
             "colorbar": {
              "outlinewidth": 0,
              "ticks": ""
             }
            },
            "type": "scatter3d"
           }
          ],
          "scattercarpet": [
           {
            "marker": {
             "colorbar": {
              "outlinewidth": 0,
              "ticks": ""
             }
            },
            "type": "scattercarpet"
           }
          ],
          "scattergeo": [
           {
            "marker": {
             "colorbar": {
              "outlinewidth": 0,
              "ticks": ""
             }
            },
            "type": "scattergeo"
           }
          ],
          "scattergl": [
           {
            "marker": {
             "colorbar": {
              "outlinewidth": 0,
              "ticks": ""
             }
            },
            "type": "scattergl"
           }
          ],
          "scattermap": [
           {
            "marker": {
             "colorbar": {
              "outlinewidth": 0,
              "ticks": ""
             }
            },
            "type": "scattermap"
           }
          ],
          "scattermapbox": [
           {
            "marker": {
             "colorbar": {
              "outlinewidth": 0,
              "ticks": ""
             }
            },
            "type": "scattermapbox"
           }
          ],
          "scatterpolar": [
           {
            "marker": {
             "colorbar": {
              "outlinewidth": 0,
              "ticks": ""
             }
            },
            "type": "scatterpolar"
           }
          ],
          "scatterpolargl": [
           {
            "marker": {
             "colorbar": {
              "outlinewidth": 0,
              "ticks": ""
             }
            },
            "type": "scatterpolargl"
           }
          ],
          "scatterternary": [
           {
            "marker": {
             "colorbar": {
              "outlinewidth": 0,
              "ticks": ""
             }
            },
            "type": "scatterternary"
           }
          ],
          "surface": [
           {
            "colorbar": {
             "outlinewidth": 0,
             "ticks": ""
            },
            "colorscale": [
             [
              0,
              "#0d0887"
             ],
             [
              0.1111111111111111,
              "#46039f"
             ],
             [
              0.2222222222222222,
              "#7201a8"
             ],
             [
              0.3333333333333333,
              "#9c179e"
             ],
             [
              0.4444444444444444,
              "#bd3786"
             ],
             [
              0.5555555555555556,
              "#d8576b"
             ],
             [
              0.6666666666666666,
              "#ed7953"
             ],
             [
              0.7777777777777778,
              "#fb9f3a"
             ],
             [
              0.8888888888888888,
              "#fdca26"
             ],
             [
              1,
              "#f0f921"
             ]
            ],
            "type": "surface"
           }
          ],
          "table": [
           {
            "cells": {
             "fill": {
              "color": "#EBF0F8"
             },
             "line": {
              "color": "white"
             }
            },
            "header": {
             "fill": {
              "color": "#C8D4E3"
             },
             "line": {
              "color": "white"
             }
            },
            "type": "table"
           }
          ]
         },
         "layout": {
          "annotationdefaults": {
           "arrowcolor": "#2a3f5f",
           "arrowhead": 0,
           "arrowwidth": 1
          },
          "autotypenumbers": "strict",
          "coloraxis": {
           "colorbar": {
            "outlinewidth": 0,
            "ticks": ""
           }
          },
          "colorscale": {
           "diverging": [
            [
             0,
             "#8e0152"
            ],
            [
             0.1,
             "#c51b7d"
            ],
            [
             0.2,
             "#de77ae"
            ],
            [
             0.3,
             "#f1b6da"
            ],
            [
             0.4,
             "#fde0ef"
            ],
            [
             0.5,
             "#f7f7f7"
            ],
            [
             0.6,
             "#e6f5d0"
            ],
            [
             0.7,
             "#b8e186"
            ],
            [
             0.8,
             "#7fbc41"
            ],
            [
             0.9,
             "#4d9221"
            ],
            [
             1,
             "#276419"
            ]
           ],
           "sequential": [
            [
             0,
             "#0d0887"
            ],
            [
             0.1111111111111111,
             "#46039f"
            ],
            [
             0.2222222222222222,
             "#7201a8"
            ],
            [
             0.3333333333333333,
             "#9c179e"
            ],
            [
             0.4444444444444444,
             "#bd3786"
            ],
            [
             0.5555555555555556,
             "#d8576b"
            ],
            [
             0.6666666666666666,
             "#ed7953"
            ],
            [
             0.7777777777777778,
             "#fb9f3a"
            ],
            [
             0.8888888888888888,
             "#fdca26"
            ],
            [
             1,
             "#f0f921"
            ]
           ],
           "sequentialminus": [
            [
             0,
             "#0d0887"
            ],
            [
             0.1111111111111111,
             "#46039f"
            ],
            [
             0.2222222222222222,
             "#7201a8"
            ],
            [
             0.3333333333333333,
             "#9c179e"
            ],
            [
             0.4444444444444444,
             "#bd3786"
            ],
            [
             0.5555555555555556,
             "#d8576b"
            ],
            [
             0.6666666666666666,
             "#ed7953"
            ],
            [
             0.7777777777777778,
             "#fb9f3a"
            ],
            [
             0.8888888888888888,
             "#fdca26"
            ],
            [
             1,
             "#f0f921"
            ]
           ]
          },
          "colorway": [
           "#636efa",
           "#EF553B",
           "#00cc96",
           "#ab63fa",
           "#FFA15A",
           "#19d3f3",
           "#FF6692",
           "#B6E880",
           "#FF97FF",
           "#FECB52"
          ],
          "font": {
           "color": "#2a3f5f"
          },
          "geo": {
           "bgcolor": "white",
           "lakecolor": "white",
           "landcolor": "white",
           "showlakes": true,
           "showland": true,
           "subunitcolor": "#C8D4E3"
          },
          "hoverlabel": {
           "align": "left"
          },
          "hovermode": "closest",
          "mapbox": {
           "style": "light"
          },
          "paper_bgcolor": "white",
          "plot_bgcolor": "white",
          "polar": {
           "angularaxis": {
            "gridcolor": "#EBF0F8",
            "linecolor": "#EBF0F8",
            "ticks": ""
           },
           "bgcolor": "white",
           "radialaxis": {
            "gridcolor": "#EBF0F8",
            "linecolor": "#EBF0F8",
            "ticks": ""
           }
          },
          "scene": {
           "xaxis": {
            "backgroundcolor": "white",
            "gridcolor": "#DFE8F3",
            "gridwidth": 2,
            "linecolor": "#EBF0F8",
            "showbackground": true,
            "ticks": "",
            "zerolinecolor": "#EBF0F8"
           },
           "yaxis": {
            "backgroundcolor": "white",
            "gridcolor": "#DFE8F3",
            "gridwidth": 2,
            "linecolor": "#EBF0F8",
            "showbackground": true,
            "ticks": "",
            "zerolinecolor": "#EBF0F8"
           },
           "zaxis": {
            "backgroundcolor": "white",
            "gridcolor": "#DFE8F3",
            "gridwidth": 2,
            "linecolor": "#EBF0F8",
            "showbackground": true,
            "ticks": "",
            "zerolinecolor": "#EBF0F8"
           }
          },
          "shapedefaults": {
           "line": {
            "color": "#2a3f5f"
           }
          },
          "ternary": {
           "aaxis": {
            "gridcolor": "#DFE8F3",
            "linecolor": "#A2B1C6",
            "ticks": ""
           },
           "baxis": {
            "gridcolor": "#DFE8F3",
            "linecolor": "#A2B1C6",
            "ticks": ""
           },
           "bgcolor": "white",
           "caxis": {
            "gridcolor": "#DFE8F3",
            "linecolor": "#A2B1C6",
            "ticks": ""
           }
          },
          "title": {
           "x": 0.05
          },
          "xaxis": {
           "automargin": true,
           "gridcolor": "#EBF0F8",
           "linecolor": "#EBF0F8",
           "ticks": "",
           "title": {
            "standoff": 15
           },
           "zerolinecolor": "#EBF0F8",
           "zerolinewidth": 2
          },
          "yaxis": {
           "automargin": true,
           "gridcolor": "#EBF0F8",
           "linecolor": "#EBF0F8",
           "ticks": "",
           "title": {
            "standoff": 15
           },
           "zerolinecolor": "#EBF0F8",
           "zerolinewidth": 2
          }
         }
        },
        "title": {
         "text": "IPC"
        },
        "xaxis": {
         "title": {
          "text": ""
         }
        },
        "yaxis": {
         "title": {
          "text": "Index Units"
         }
        }
       }
      }
     },
     "metadata": {},
     "output_type": "display_data"
    }
   ],
   "source": [
    "fig = go.Figure()\n",
    "fig.add_trace(go.Scatter(x=igae_ipc.index, y=igae_ipc['ipc'], mode='lines', name='Observed', line=dict(color='blue')))\n",
    "fig.add_trace(go.Scatter(x=igae_ipc.index, y=igae_ipc['ipc_sa'], mode='lines', name='SA Adjusted', line=dict(color='red')))\n",
    "fig.update_layout(\n",
    "    title='IPC',\n",
    "    xaxis_title='',\n",
    "    yaxis_title='Index Units',\n",
    "    legend_title='',\n",
    "    template='plotly_white'\n",
    ")\n",
    "fig.show()"
   ]
  },
  {
   "cell_type": "code",
   "execution_count": 105,
   "metadata": {},
   "outputs": [
    {
     "data": {
      "application/vnd.plotly.v1+json": {
       "config": {
        "plotlyServerURL": "https://plot.ly"
       },
       "data": [
        {
         "line": {
          "color": "blue"
         },
         "mode": "lines",
         "name": "",
         "type": "scatter",
         "x": [
          "1990-01-31T00:00:00.000000000",
          "1990-02-28T00:00:00.000000000",
          "1990-03-31T00:00:00.000000000",
          "1990-04-30T00:00:00.000000000",
          "1990-05-31T00:00:00.000000000",
          "1990-06-30T00:00:00.000000000",
          "1990-07-31T00:00:00.000000000",
          "1990-08-31T00:00:00.000000000",
          "1990-09-30T00:00:00.000000000",
          "1990-10-31T00:00:00.000000000",
          "1990-11-30T00:00:00.000000000",
          "1990-12-31T00:00:00.000000000",
          "1991-01-31T00:00:00.000000000",
          "1991-02-28T00:00:00.000000000",
          "1991-03-31T00:00:00.000000000",
          "1991-04-30T00:00:00.000000000",
          "1991-05-31T00:00:00.000000000",
          "1991-06-30T00:00:00.000000000",
          "1991-07-31T00:00:00.000000000",
          "1991-08-31T00:00:00.000000000",
          "1991-09-30T00:00:00.000000000",
          "1991-10-31T00:00:00.000000000",
          "1991-11-30T00:00:00.000000000",
          "1991-12-31T00:00:00.000000000",
          "1992-01-31T00:00:00.000000000",
          "1992-02-29T00:00:00.000000000",
          "1992-03-31T00:00:00.000000000",
          "1992-04-30T00:00:00.000000000",
          "1992-05-31T00:00:00.000000000",
          "1992-06-30T00:00:00.000000000",
          "1992-07-31T00:00:00.000000000",
          "1992-08-31T00:00:00.000000000",
          "1992-09-30T00:00:00.000000000",
          "1992-10-31T00:00:00.000000000",
          "1992-11-30T00:00:00.000000000",
          "1992-12-31T00:00:00.000000000",
          "1993-01-31T00:00:00.000000000",
          "1993-02-28T00:00:00.000000000",
          "1993-03-31T00:00:00.000000000",
          "1993-04-30T00:00:00.000000000",
          "1993-05-31T00:00:00.000000000",
          "1993-06-30T00:00:00.000000000",
          "1993-07-31T00:00:00.000000000",
          "1993-08-31T00:00:00.000000000",
          "1993-09-30T00:00:00.000000000",
          "1993-10-31T00:00:00.000000000",
          "1993-11-30T00:00:00.000000000",
          "1993-12-31T00:00:00.000000000",
          "1994-01-31T00:00:00.000000000",
          "1994-02-28T00:00:00.000000000",
          "1994-03-31T00:00:00.000000000",
          "1994-04-30T00:00:00.000000000",
          "1994-05-31T00:00:00.000000000",
          "1994-06-30T00:00:00.000000000",
          "1994-07-31T00:00:00.000000000",
          "1994-08-31T00:00:00.000000000",
          "1994-09-30T00:00:00.000000000",
          "1994-10-31T00:00:00.000000000",
          "1994-11-30T00:00:00.000000000",
          "1994-12-31T00:00:00.000000000",
          "1995-01-31T00:00:00.000000000",
          "1995-02-28T00:00:00.000000000",
          "1995-03-31T00:00:00.000000000",
          "1995-04-30T00:00:00.000000000",
          "1995-05-31T00:00:00.000000000",
          "1995-06-30T00:00:00.000000000",
          "1995-07-31T00:00:00.000000000",
          "1995-08-31T00:00:00.000000000",
          "1995-09-30T00:00:00.000000000",
          "1995-10-31T00:00:00.000000000",
          "1995-11-30T00:00:00.000000000",
          "1995-12-31T00:00:00.000000000",
          "1996-01-31T00:00:00.000000000",
          "1996-02-29T00:00:00.000000000",
          "1996-03-31T00:00:00.000000000",
          "1996-04-30T00:00:00.000000000",
          "1996-05-31T00:00:00.000000000",
          "1996-06-30T00:00:00.000000000",
          "1996-07-31T00:00:00.000000000",
          "1996-08-31T00:00:00.000000000",
          "1996-09-30T00:00:00.000000000",
          "1996-10-31T00:00:00.000000000",
          "1996-11-30T00:00:00.000000000",
          "1996-12-31T00:00:00.000000000",
          "1997-01-31T00:00:00.000000000",
          "1997-02-28T00:00:00.000000000",
          "1997-03-31T00:00:00.000000000",
          "1997-04-30T00:00:00.000000000",
          "1997-05-31T00:00:00.000000000",
          "1997-06-30T00:00:00.000000000",
          "1997-07-31T00:00:00.000000000",
          "1997-08-31T00:00:00.000000000",
          "1997-09-30T00:00:00.000000000",
          "1997-10-31T00:00:00.000000000",
          "1997-11-30T00:00:00.000000000",
          "1997-12-31T00:00:00.000000000",
          "1998-01-31T00:00:00.000000000",
          "1998-02-28T00:00:00.000000000",
          "1998-03-31T00:00:00.000000000",
          "1998-04-30T00:00:00.000000000",
          "1998-05-31T00:00:00.000000000",
          "1998-06-30T00:00:00.000000000",
          "1998-07-31T00:00:00.000000000",
          "1998-08-31T00:00:00.000000000",
          "1998-09-30T00:00:00.000000000",
          "1998-10-31T00:00:00.000000000",
          "1998-11-30T00:00:00.000000000",
          "1998-12-31T00:00:00.000000000",
          "1999-01-31T00:00:00.000000000",
          "1999-02-28T00:00:00.000000000",
          "1999-03-31T00:00:00.000000000",
          "1999-04-30T00:00:00.000000000",
          "1999-05-31T00:00:00.000000000",
          "1999-06-30T00:00:00.000000000",
          "1999-07-31T00:00:00.000000000",
          "1999-08-31T00:00:00.000000000",
          "1999-09-30T00:00:00.000000000",
          "1999-10-31T00:00:00.000000000",
          "1999-11-30T00:00:00.000000000",
          "1999-12-31T00:00:00.000000000",
          "2000-01-31T00:00:00.000000000",
          "2000-02-29T00:00:00.000000000",
          "2000-03-31T00:00:00.000000000",
          "2000-04-30T00:00:00.000000000",
          "2000-05-31T00:00:00.000000000",
          "2000-06-30T00:00:00.000000000",
          "2000-07-31T00:00:00.000000000",
          "2000-08-31T00:00:00.000000000",
          "2000-09-30T00:00:00.000000000",
          "2000-10-31T00:00:00.000000000",
          "2000-11-30T00:00:00.000000000",
          "2000-12-31T00:00:00.000000000",
          "2001-01-31T00:00:00.000000000",
          "2001-02-28T00:00:00.000000000",
          "2001-03-31T00:00:00.000000000",
          "2001-04-30T00:00:00.000000000",
          "2001-05-31T00:00:00.000000000",
          "2001-06-30T00:00:00.000000000",
          "2001-07-31T00:00:00.000000000",
          "2001-08-31T00:00:00.000000000",
          "2001-09-30T00:00:00.000000000",
          "2001-10-31T00:00:00.000000000",
          "2001-11-30T00:00:00.000000000",
          "2001-12-31T00:00:00.000000000",
          "2002-01-31T00:00:00.000000000",
          "2002-02-28T00:00:00.000000000",
          "2002-03-31T00:00:00.000000000",
          "2002-04-30T00:00:00.000000000",
          "2002-05-31T00:00:00.000000000",
          "2002-06-30T00:00:00.000000000",
          "2002-07-31T00:00:00.000000000",
          "2002-08-31T00:00:00.000000000",
          "2002-09-30T00:00:00.000000000",
          "2002-10-31T00:00:00.000000000",
          "2002-11-30T00:00:00.000000000",
          "2002-12-31T00:00:00.000000000",
          "2003-01-31T00:00:00.000000000",
          "2003-02-28T00:00:00.000000000",
          "2003-03-31T00:00:00.000000000",
          "2003-04-30T00:00:00.000000000",
          "2003-05-31T00:00:00.000000000",
          "2003-06-30T00:00:00.000000000",
          "2003-07-31T00:00:00.000000000",
          "2003-08-31T00:00:00.000000000",
          "2003-09-30T00:00:00.000000000",
          "2003-10-31T00:00:00.000000000",
          "2003-11-30T00:00:00.000000000",
          "2003-12-31T00:00:00.000000000",
          "2004-01-31T00:00:00.000000000",
          "2004-02-29T00:00:00.000000000",
          "2004-03-31T00:00:00.000000000",
          "2004-04-30T00:00:00.000000000",
          "2004-05-31T00:00:00.000000000",
          "2004-06-30T00:00:00.000000000",
          "2004-07-31T00:00:00.000000000",
          "2004-08-31T00:00:00.000000000",
          "2004-09-30T00:00:00.000000000",
          "2004-10-31T00:00:00.000000000",
          "2004-11-30T00:00:00.000000000",
          "2004-12-31T00:00:00.000000000",
          "2005-01-31T00:00:00.000000000",
          "2005-02-28T00:00:00.000000000",
          "2005-03-31T00:00:00.000000000",
          "2005-04-30T00:00:00.000000000",
          "2005-05-31T00:00:00.000000000",
          "2005-06-30T00:00:00.000000000",
          "2005-07-31T00:00:00.000000000",
          "2005-08-31T00:00:00.000000000",
          "2005-09-30T00:00:00.000000000",
          "2005-10-31T00:00:00.000000000",
          "2005-11-30T00:00:00.000000000",
          "2005-12-31T00:00:00.000000000",
          "2006-01-31T00:00:00.000000000",
          "2006-02-28T00:00:00.000000000",
          "2006-03-31T00:00:00.000000000",
          "2006-04-30T00:00:00.000000000",
          "2006-05-31T00:00:00.000000000",
          "2006-06-30T00:00:00.000000000",
          "2006-07-31T00:00:00.000000000",
          "2006-08-31T00:00:00.000000000",
          "2006-09-30T00:00:00.000000000",
          "2006-10-31T00:00:00.000000000",
          "2006-11-30T00:00:00.000000000",
          "2006-12-31T00:00:00.000000000",
          "2007-01-31T00:00:00.000000000",
          "2007-02-28T00:00:00.000000000",
          "2007-03-31T00:00:00.000000000",
          "2007-04-30T00:00:00.000000000",
          "2007-05-31T00:00:00.000000000",
          "2007-06-30T00:00:00.000000000",
          "2007-07-31T00:00:00.000000000",
          "2007-08-31T00:00:00.000000000",
          "2007-09-30T00:00:00.000000000",
          "2007-10-31T00:00:00.000000000",
          "2007-11-30T00:00:00.000000000",
          "2007-12-31T00:00:00.000000000",
          "2008-01-31T00:00:00.000000000",
          "2008-02-29T00:00:00.000000000",
          "2008-03-31T00:00:00.000000000",
          "2008-04-30T00:00:00.000000000",
          "2008-05-31T00:00:00.000000000",
          "2008-06-30T00:00:00.000000000",
          "2008-07-31T00:00:00.000000000",
          "2008-08-31T00:00:00.000000000",
          "2008-09-30T00:00:00.000000000",
          "2008-10-31T00:00:00.000000000",
          "2008-11-30T00:00:00.000000000",
          "2008-12-31T00:00:00.000000000",
          "2009-01-31T00:00:00.000000000",
          "2009-02-28T00:00:00.000000000",
          "2009-03-31T00:00:00.000000000",
          "2009-04-30T00:00:00.000000000",
          "2009-05-31T00:00:00.000000000",
          "2009-06-30T00:00:00.000000000",
          "2009-07-31T00:00:00.000000000",
          "2009-08-31T00:00:00.000000000",
          "2009-09-30T00:00:00.000000000",
          "2009-10-31T00:00:00.000000000",
          "2009-11-30T00:00:00.000000000",
          "2009-12-31T00:00:00.000000000",
          "2010-01-31T00:00:00.000000000",
          "2010-02-28T00:00:00.000000000",
          "2010-03-31T00:00:00.000000000",
          "2010-04-30T00:00:00.000000000",
          "2010-05-31T00:00:00.000000000",
          "2010-06-30T00:00:00.000000000",
          "2010-07-31T00:00:00.000000000",
          "2010-08-31T00:00:00.000000000",
          "2010-09-30T00:00:00.000000000",
          "2010-10-31T00:00:00.000000000",
          "2010-11-30T00:00:00.000000000",
          "2010-12-31T00:00:00.000000000",
          "2011-01-31T00:00:00.000000000",
          "2011-02-28T00:00:00.000000000",
          "2011-03-31T00:00:00.000000000",
          "2011-04-30T00:00:00.000000000",
          "2011-05-31T00:00:00.000000000",
          "2011-06-30T00:00:00.000000000",
          "2011-07-31T00:00:00.000000000",
          "2011-08-31T00:00:00.000000000",
          "2011-09-30T00:00:00.000000000",
          "2011-10-31T00:00:00.000000000",
          "2011-11-30T00:00:00.000000000",
          "2011-12-31T00:00:00.000000000",
          "2012-01-31T00:00:00.000000000",
          "2012-02-29T00:00:00.000000000",
          "2012-03-31T00:00:00.000000000",
          "2012-04-30T00:00:00.000000000",
          "2012-05-31T00:00:00.000000000",
          "2012-06-30T00:00:00.000000000",
          "2012-07-31T00:00:00.000000000",
          "2012-08-31T00:00:00.000000000",
          "2012-09-30T00:00:00.000000000",
          "2012-10-31T00:00:00.000000000",
          "2012-11-30T00:00:00.000000000",
          "2012-12-31T00:00:00.000000000",
          "2013-01-31T00:00:00.000000000",
          "2013-02-28T00:00:00.000000000",
          "2013-03-31T00:00:00.000000000",
          "2013-04-30T00:00:00.000000000",
          "2013-05-31T00:00:00.000000000",
          "2013-06-30T00:00:00.000000000",
          "2013-07-31T00:00:00.000000000",
          "2013-08-31T00:00:00.000000000",
          "2013-09-30T00:00:00.000000000",
          "2013-10-31T00:00:00.000000000",
          "2013-11-30T00:00:00.000000000",
          "2013-12-31T00:00:00.000000000",
          "2014-01-31T00:00:00.000000000",
          "2014-02-28T00:00:00.000000000",
          "2014-03-31T00:00:00.000000000",
          "2014-04-30T00:00:00.000000000",
          "2014-05-31T00:00:00.000000000",
          "2014-06-30T00:00:00.000000000",
          "2014-07-31T00:00:00.000000000",
          "2014-08-31T00:00:00.000000000",
          "2014-09-30T00:00:00.000000000",
          "2014-10-31T00:00:00.000000000",
          "2014-11-30T00:00:00.000000000",
          "2014-12-31T00:00:00.000000000",
          "2015-01-31T00:00:00.000000000",
          "2015-02-28T00:00:00.000000000",
          "2015-03-31T00:00:00.000000000",
          "2015-04-30T00:00:00.000000000",
          "2015-05-31T00:00:00.000000000",
          "2015-06-30T00:00:00.000000000",
          "2015-07-31T00:00:00.000000000",
          "2015-08-31T00:00:00.000000000",
          "2015-09-30T00:00:00.000000000",
          "2015-10-31T00:00:00.000000000",
          "2015-11-30T00:00:00.000000000",
          "2015-12-31T00:00:00.000000000",
          "2016-01-31T00:00:00.000000000",
          "2016-02-29T00:00:00.000000000",
          "2016-03-31T00:00:00.000000000",
          "2016-04-30T00:00:00.000000000",
          "2016-05-31T00:00:00.000000000",
          "2016-06-30T00:00:00.000000000",
          "2016-07-31T00:00:00.000000000",
          "2016-08-31T00:00:00.000000000",
          "2016-09-30T00:00:00.000000000",
          "2016-10-31T00:00:00.000000000",
          "2016-11-30T00:00:00.000000000",
          "2016-12-31T00:00:00.000000000",
          "2017-01-31T00:00:00.000000000",
          "2017-02-28T00:00:00.000000000",
          "2017-03-31T00:00:00.000000000",
          "2017-04-30T00:00:00.000000000",
          "2017-05-31T00:00:00.000000000",
          "2017-06-30T00:00:00.000000000",
          "2017-07-31T00:00:00.000000000",
          "2017-08-31T00:00:00.000000000",
          "2017-09-30T00:00:00.000000000",
          "2017-10-31T00:00:00.000000000",
          "2017-11-30T00:00:00.000000000",
          "2017-12-31T00:00:00.000000000",
          "2018-01-31T00:00:00.000000000",
          "2018-02-28T00:00:00.000000000",
          "2018-03-31T00:00:00.000000000",
          "2018-04-30T00:00:00.000000000",
          "2018-05-31T00:00:00.000000000",
          "2018-06-30T00:00:00.000000000",
          "2018-07-31T00:00:00.000000000",
          "2018-08-31T00:00:00.000000000",
          "2018-09-30T00:00:00.000000000",
          "2018-10-31T00:00:00.000000000",
          "2018-11-30T00:00:00.000000000",
          "2018-12-31T00:00:00.000000000",
          "2019-01-31T00:00:00.000000000",
          "2019-02-28T00:00:00.000000000",
          "2019-03-31T00:00:00.000000000",
          "2019-04-30T00:00:00.000000000",
          "2019-05-31T00:00:00.000000000",
          "2019-06-30T00:00:00.000000000",
          "2019-07-31T00:00:00.000000000",
          "2019-08-31T00:00:00.000000000",
          "2019-09-30T00:00:00.000000000",
          "2019-10-31T00:00:00.000000000",
          "2019-11-30T00:00:00.000000000",
          "2019-12-31T00:00:00.000000000",
          "2020-01-31T00:00:00.000000000",
          "2020-02-29T00:00:00.000000000",
          "2020-03-31T00:00:00.000000000",
          "2020-04-30T00:00:00.000000000",
          "2020-05-31T00:00:00.000000000",
          "2020-06-30T00:00:00.000000000",
          "2020-07-31T00:00:00.000000000",
          "2020-08-31T00:00:00.000000000",
          "2020-09-30T00:00:00.000000000",
          "2020-10-31T00:00:00.000000000",
          "2020-11-30T00:00:00.000000000",
          "2020-12-31T00:00:00.000000000",
          "2021-01-31T00:00:00.000000000",
          "2021-02-28T00:00:00.000000000",
          "2021-03-31T00:00:00.000000000",
          "2021-04-30T00:00:00.000000000",
          "2021-05-31T00:00:00.000000000",
          "2021-06-30T00:00:00.000000000",
          "2021-07-31T00:00:00.000000000",
          "2021-08-31T00:00:00.000000000",
          "2021-09-30T00:00:00.000000000",
          "2021-10-31T00:00:00.000000000",
          "2021-11-30T00:00:00.000000000",
          "2021-12-31T00:00:00.000000000",
          "2022-01-31T00:00:00.000000000",
          "2022-02-28T00:00:00.000000000",
          "2022-03-31T00:00:00.000000000",
          "2022-04-30T00:00:00.000000000",
          "2022-05-31T00:00:00.000000000",
          "2022-06-30T00:00:00.000000000",
          "2022-07-31T00:00:00.000000000",
          "2022-08-31T00:00:00.000000000",
          "2022-09-30T00:00:00.000000000",
          "2022-10-31T00:00:00.000000000",
          "2022-11-30T00:00:00.000000000",
          "2022-12-31T00:00:00.000000000",
          "2023-01-31T00:00:00.000000000",
          "2023-02-28T00:00:00.000000000",
          "2023-03-31T00:00:00.000000000",
          "2023-04-30T00:00:00.000000000",
          "2023-05-31T00:00:00.000000000",
          "2023-06-30T00:00:00.000000000",
          "2023-07-31T00:00:00.000000000",
          "2023-08-31T00:00:00.000000000",
          "2023-09-30T00:00:00.000000000",
          "2023-10-31T00:00:00.000000000",
          "2023-11-30T00:00:00.000000000",
          "2023-12-31T00:00:00.000000000",
          "2024-01-31T00:00:00.000000000",
          "2024-02-29T00:00:00.000000000",
          "2024-03-31T00:00:00.000000000",
          "2024-04-30T00:00:00.000000000",
          "2024-05-31T00:00:00.000000000",
          "2024-06-30T00:00:00.000000000",
          "2024-07-31T00:00:00.000000000",
          "2024-08-31T00:00:00.000000000",
          "2024-09-30T00:00:00.000000000",
          "2024-10-31T00:00:00.000000000",
          "2024-11-30T00:00:00.000000000",
          "2024-12-31T00:00:00.000000000"
         ],
         "y": {
          "bdata": "Rrbz/dT4B0BmiGNd3EYIQDlFR3L5jwhAdk8eFmrNCEBNFYxK6gQJQB/0bFZ9LglAke18PzVeCUCGWtO845QJQCGwcmiR7QlA1zTvOEVHCkDwFkhQ/JgKQI9TdCSX/wpAMuauJeSDC0BmiGNd3MYLQDLmriXkAwxAvw6cM6I0DECppE5AE2EMQGQ730+NlwxA7uvAOSPKDEDEQq1p3vEMQBUdyeU/JA1AGlHaG3xhDUDP91PjpZsNQJF++zpwzg1AjErqBDQRDkDx9EpZhjgOQP8h/fZ1YA5AZMxdS8iHDkDqBDQRNrwOQEymCkYl9Q5AeVioNc07D0C7uI0G8JYPQDXvOEVH8g9A8tJNYhAYEEAU0ETY8DQQQEoMAiuHVhBA5x2n6EhuEECZKhiV1IkQQJzEILByqBBAEoPAyqHFEEDAWyBB8eMQQKVOQBNhAxFAp+hILv8hEUA9CtejcD0RQGHD0ytlWRFAP8bctYR8EUDZzvdT46URQKyt2F92zxFATKYKRiX1EUCgibDh6RUSQBsv3SQGQRJAke18PzVeEkAmUwWjknoSQB+F61G4nhJAke18PzWeEkCTGARWDq0SQA3gLZCguBJAWMoyxLGuEkBYObTIdr4SQBniWBe30RJANjy9UpbhEkCxv+yePOwSQOXQItv5/hJA2ht8YTIVE0CMSuoENBETQJ88LNSaJhNAgEi/fR04E0COBvAWSFATQEcDeAskaBNA+aBns+pzE0D129eBc4YTQD9XW7G/rBNALSEf9GzWE0AGgZVDi+wTQN0kBoGVAxRA5fIf0m8fFEA8TtGRXD4UQKOSOgFNRBRAVOOlm8RgFEAmUwWjknoUQG3n+6nxkhRAFYxK6gS0FEAU0ETY8LQUQPRsVn2uthRAI0p7gy/MFEBfB84ZUdoUQCegibDh6RRAxf6ye/LwFEBIv30dOOcUQPCFyVTB6BRAutqK/WX3FEAdWmQ73w8VQI51cRsNIBVAgEi/fR04FUBX7C+7J08VQCQofoy5axVApgpGJXWCFUCu2F92T54VQOQUHcnlvxVA3EYDeAvkFUBlGeJYF/cVQArXo3A9ChZA4zYawFsgFkBWDi2ynS8WQL7BFyZTRRZA/yH99nVgFkAVjErqBHQWQEHxY8xdixZAxY8xdy2hFkBBguLHmLsWQAtGJXUC2hZARrbz/dT4FkBjf9k9eRgXQMRCrWneMRdA0m9fB85ZF0DqBDQRNnwXQI51cRsNoBdAF7fRAN7CF0CR7Xw/Nd4XQEvqBDQR9hdAHVpkO98PGEDi6ZWyDDEYQC/dJAaBVRhAvJaQD3p2GEAQejarPpcYQL1SliGOtRhAT0ATYcPTGEDdtYR80PMYQNobfGEyFRlATKYKRiU1GUBGlPYGX1gZQBb7y+7JgxlAeqUsQxyrGUCIY13cRsMZQJ2AJsKG5xlAtRX7y+4JGkBlqmBUUicaQMGopE5AUxpAuY0G8BaIGkAFNBE2PL0aQBfZzvdT4xpAAiuHFtkOG0DpSC7/IT0bQK8l5IOeTRtA6gQ0ETZ8G0DQRNjw9MobQLwFEhQ/BhxADeAtkKA4HEBI4XoUrkccQHWTGARWjhxAPL1SliHOHECKjuTyHxIdQCKOdXEbTR1A9dvXgXOGHUCpE9BE2LAdQGuad5yi4x1AyAc9m1UfHkA9CtejcD0eQNQrZRniWB5AVg4tsp1vHkCcM6K0N3geQC/dJAaBlR5ASS7/If22HkCbVZ+rrdgeQNbFbTSA9x5AX5hMFYwKH0DuWkI+6BkfQBzr4jYaQB9AgZVDi2xnH0D8GHPXEnIfQNzXgXNGlB9AJLn8h/SbH0Bgdk8eFqofQIPAyqFFth9Ah6dXyjLEH0DP91PjpdsfQCuHFtnO9x9AnMQgsHIIIEAXSFD8GBMgQO84RUdyGSBAqMZLN4khIECDL0ymCiYgQHNjesISLyBAMzMzMzMzIEAzMzMzMzMgQDMzMzMzMyBAVFInoIkwIECuR+F6FC4gQF66SQwCKyBAKVyPwvUoIEApXI/C9SggQClcj8L1KCBAKVyPwvUoIECh+DHmriUgQKRwPQrXIyBAF9nO91MjIEAfhetRuB4gQB+F61G4HiBAH4XrUbgeIEBblNkgkxwgQJqZmZmZGSBAmpmZmZkZIECamZmZmRkgQDJVMCqpEyBA8nub/uwHIEDD9ShcjwIgQPYoXI/C9R9A9ihcj8L1H0C4rwPnjOgfQNejcD0K1x9ApHA9CtejH0BENLqD2FkfQD0K16NwPR9AU9DtJY0xH0D6YYTwaAMfQPOrOUAwxx5AdxA7U+icHkD+t5IdG2EeQBSWeEDZNB5AN4lBYOXQHUDghEIEHGIdQN9PjZduEh1AZd8Vwf+2HEDc14FzRnQcQFyPwvUoXBxA0hito6pJHEBI4XoUrkccQEjhehSuRxxASOF6FK5HHEBI4XoUrkccQEjhehSuRxxASOF6FK5HHEBI4XoUrkccQEjhehSuRxxASOF6FK5HHEBI4XoUrkccQEjhehSuRxxASOF6FK5HHEBI4XoUrkccQEjhehSuRxxASOF6FK5HHEBI4XoUrkccQEjhehSuRxxASOF6FK5HHEBI4XoUrkccQEjhehSuRxxASOF6FK5HHEBI4XoUrkccQEjhehSuRxxASOF6FK5HHEBortNIS0UcQBvYKsHiMBxAKVyPwvUoHEB7iEZ3EBscQNc07zhFBxxAnOEGfH74G0D2KFyPwvUbQAaBlUOL7BtA85Nqn47nG0DhehSuR+EbQOF6FK5H4RtA4XoUrkfhG0CBeF2/YNcbQNejcD0K1xtA16NwPQrXG0DXo3A9CtcbQNejcD0K1xtA16NwPQrXG0DXo3A9CtcbQNejcD0K1xtA16NwPQrXG0DXo3A9CtcbQNejcD0K1xtA16NwPQrXG0DXo3A9CtcbQNejcD0K1xtA16NwPQrXG0DXo3A9CtcbQNejcD0K1xtA16NwPQrXG0DXo3A9CtcbQNejcD0K1xtA16NwPQrXG0DXo3A9CtcbQNejcD0K1xtA16NwPQrXG0DXo3A9CtcbQNejcD0K1xtA16NwPQrXG0DXo3A9CtcbQNejcD0K1xtA16NwPQrXG0DXo3A9CtcbQNejcD0K1xtA16NwPQrXG0DXo3A9CtcbQNejcD0K1xtA16NwPQrXG0DXo3A9CtcbQNejcD0K1xtA16NwPQrXG0DXo3A9CtcbQNejcD0K1xtA16NwPQrXG0DXo3A9CtcbQNejcD0K1xtA16NwPQrXG0DXo3A9CtcbQNejcD0K1xtA16NwPQrXG0DXo3A9CtcbQNejcD0K1xtA16NwPQrXG0DXo3A9CtcbQNejcD0K1xtA16NwPQrXG0DXo3A9CtcbQNejcD0K1xtA16NwPQrXG0DXo3A9CtcbQNejcD0K1xtA16NwPQrXG0DXo3A9CtcbQNejcD0K1xtA16NwPQrXG0DXo3A9CtcbQNejcD0K1xtA16NwPQrXG0DXo3A9CtcbQNejcD0K1xtA16NwPQrXG0DXo3A9CtcbQNejcD0K1xtA16NwPQrXG0DXo3A9CtcbQNejcD0K1xtA16NwPQrXG0DXo3A9CtcbQNejcD0K1xtA16NwPQrXG0DXo3A9CtcbQNejcD0K1xtA16NwPQrXG0DXo3A9CtcbQNejcD0K1xtA16NwPQrXG0DXo3A9CtcbQNejcD0K1xtA16NwPQrXG0DXo3A9CtcbQNejcD0K1xtA16NwPQrXG0DXo3A9CtcbQNejcD0K1xtA16NwPQrXG0DXo3A9CtcbQNejcD0K1xtA16NwPQrXG0DXo3A9CtcbQNejcD0K1xtA16NwPQrXG0DXo3A9CtcbQNejcD0K1xtA16NwPQrXG0DXo3A9CtcbQNejcD0K1xtA16NwPQrXG0DXo3A9CtcbQNejcD0K1xtA16NwPQrXG0DXo3A9CtcbQNejcD0K1xtA16NwPQrXG0DXo3A9CtcbQNejcD0K1xtA16NwPQrXG0DXo3A9CtcbQNejcD0K1xtA16NwPQrXG0DXo3A9CtcbQNejcD0K1xtA16NwPQrXG0DXo3A9CtcbQNejcD0K1xtA16NwPQrXG0DXo3A9CtcbQNejcD0K1xtA16NwPQrXG0DXo3A9CtcbQNejcD0K1xtA16NwPQrXG0DXo3A9CtcbQNejcD0K1xtA16NwPQrXG0DXo3A9CtcbQNejcD0K1xtA16NwPQrXG0DXo3A9CtcbQNejcD0K1xtA16NwPQrXG0DXo3A9CtcbQNejcD0K1xtAoNMGOm2gHEBqA5020GkdQDMzMzMzMx5AuB6F61E4HkA9CtejcD0eQJqZmZmZmR5ArkfhehQOIECQwvUoXM8gQH+x5BdLfiBAsuQXS37xIEDlF0t+sWQhQLgehetROCJAnDXPaAKcJEDCFPmsG8wmQFrOn+X8WSVAKnrYG5WiJUD2RqXoYW8mQO58PzVeuiZA",
          "dtype": "f8"
         }
        }
       ],
       "layout": {
        "legend": {
         "title": {
          "text": ""
         }
        },
        "template": {
         "data": {
          "bar": [
           {
            "error_x": {
             "color": "#2a3f5f"
            },
            "error_y": {
             "color": "#2a3f5f"
            },
            "marker": {
             "line": {
              "color": "white",
              "width": 0.5
             },
             "pattern": {
              "fillmode": "overlay",
              "size": 10,
              "solidity": 0.2
             }
            },
            "type": "bar"
           }
          ],
          "barpolar": [
           {
            "marker": {
             "line": {
              "color": "white",
              "width": 0.5
             },
             "pattern": {
              "fillmode": "overlay",
              "size": 10,
              "solidity": 0.2
             }
            },
            "type": "barpolar"
           }
          ],
          "carpet": [
           {
            "aaxis": {
             "endlinecolor": "#2a3f5f",
             "gridcolor": "#C8D4E3",
             "linecolor": "#C8D4E3",
             "minorgridcolor": "#C8D4E3",
             "startlinecolor": "#2a3f5f"
            },
            "baxis": {
             "endlinecolor": "#2a3f5f",
             "gridcolor": "#C8D4E3",
             "linecolor": "#C8D4E3",
             "minorgridcolor": "#C8D4E3",
             "startlinecolor": "#2a3f5f"
            },
            "type": "carpet"
           }
          ],
          "choropleth": [
           {
            "colorbar": {
             "outlinewidth": 0,
             "ticks": ""
            },
            "type": "choropleth"
           }
          ],
          "contour": [
           {
            "colorbar": {
             "outlinewidth": 0,
             "ticks": ""
            },
            "colorscale": [
             [
              0,
              "#0d0887"
             ],
             [
              0.1111111111111111,
              "#46039f"
             ],
             [
              0.2222222222222222,
              "#7201a8"
             ],
             [
              0.3333333333333333,
              "#9c179e"
             ],
             [
              0.4444444444444444,
              "#bd3786"
             ],
             [
              0.5555555555555556,
              "#d8576b"
             ],
             [
              0.6666666666666666,
              "#ed7953"
             ],
             [
              0.7777777777777778,
              "#fb9f3a"
             ],
             [
              0.8888888888888888,
              "#fdca26"
             ],
             [
              1,
              "#f0f921"
             ]
            ],
            "type": "contour"
           }
          ],
          "contourcarpet": [
           {
            "colorbar": {
             "outlinewidth": 0,
             "ticks": ""
            },
            "type": "contourcarpet"
           }
          ],
          "heatmap": [
           {
            "colorbar": {
             "outlinewidth": 0,
             "ticks": ""
            },
            "colorscale": [
             [
              0,
              "#0d0887"
             ],
             [
              0.1111111111111111,
              "#46039f"
             ],
             [
              0.2222222222222222,
              "#7201a8"
             ],
             [
              0.3333333333333333,
              "#9c179e"
             ],
             [
              0.4444444444444444,
              "#bd3786"
             ],
             [
              0.5555555555555556,
              "#d8576b"
             ],
             [
              0.6666666666666666,
              "#ed7953"
             ],
             [
              0.7777777777777778,
              "#fb9f3a"
             ],
             [
              0.8888888888888888,
              "#fdca26"
             ],
             [
              1,
              "#f0f921"
             ]
            ],
            "type": "heatmap"
           }
          ],
          "histogram": [
           {
            "marker": {
             "pattern": {
              "fillmode": "overlay",
              "size": 10,
              "solidity": 0.2
             }
            },
            "type": "histogram"
           }
          ],
          "histogram2d": [
           {
            "colorbar": {
             "outlinewidth": 0,
             "ticks": ""
            },
            "colorscale": [
             [
              0,
              "#0d0887"
             ],
             [
              0.1111111111111111,
              "#46039f"
             ],
             [
              0.2222222222222222,
              "#7201a8"
             ],
             [
              0.3333333333333333,
              "#9c179e"
             ],
             [
              0.4444444444444444,
              "#bd3786"
             ],
             [
              0.5555555555555556,
              "#d8576b"
             ],
             [
              0.6666666666666666,
              "#ed7953"
             ],
             [
              0.7777777777777778,
              "#fb9f3a"
             ],
             [
              0.8888888888888888,
              "#fdca26"
             ],
             [
              1,
              "#f0f921"
             ]
            ],
            "type": "histogram2d"
           }
          ],
          "histogram2dcontour": [
           {
            "colorbar": {
             "outlinewidth": 0,
             "ticks": ""
            },
            "colorscale": [
             [
              0,
              "#0d0887"
             ],
             [
              0.1111111111111111,
              "#46039f"
             ],
             [
              0.2222222222222222,
              "#7201a8"
             ],
             [
              0.3333333333333333,
              "#9c179e"
             ],
             [
              0.4444444444444444,
              "#bd3786"
             ],
             [
              0.5555555555555556,
              "#d8576b"
             ],
             [
              0.6666666666666666,
              "#ed7953"
             ],
             [
              0.7777777777777778,
              "#fb9f3a"
             ],
             [
              0.8888888888888888,
              "#fdca26"
             ],
             [
              1,
              "#f0f921"
             ]
            ],
            "type": "histogram2dcontour"
           }
          ],
          "mesh3d": [
           {
            "colorbar": {
             "outlinewidth": 0,
             "ticks": ""
            },
            "type": "mesh3d"
           }
          ],
          "parcoords": [
           {
            "line": {
             "colorbar": {
              "outlinewidth": 0,
              "ticks": ""
             }
            },
            "type": "parcoords"
           }
          ],
          "pie": [
           {
            "automargin": true,
            "type": "pie"
           }
          ],
          "scatter": [
           {
            "fillpattern": {
             "fillmode": "overlay",
             "size": 10,
             "solidity": 0.2
            },
            "type": "scatter"
           }
          ],
          "scatter3d": [
           {
            "line": {
             "colorbar": {
              "outlinewidth": 0,
              "ticks": ""
             }
            },
            "marker": {
             "colorbar": {
              "outlinewidth": 0,
              "ticks": ""
             }
            },
            "type": "scatter3d"
           }
          ],
          "scattercarpet": [
           {
            "marker": {
             "colorbar": {
              "outlinewidth": 0,
              "ticks": ""
             }
            },
            "type": "scattercarpet"
           }
          ],
          "scattergeo": [
           {
            "marker": {
             "colorbar": {
              "outlinewidth": 0,
              "ticks": ""
             }
            },
            "type": "scattergeo"
           }
          ],
          "scattergl": [
           {
            "marker": {
             "colorbar": {
              "outlinewidth": 0,
              "ticks": ""
             }
            },
            "type": "scattergl"
           }
          ],
          "scattermap": [
           {
            "marker": {
             "colorbar": {
              "outlinewidth": 0,
              "ticks": ""
             }
            },
            "type": "scattermap"
           }
          ],
          "scattermapbox": [
           {
            "marker": {
             "colorbar": {
              "outlinewidth": 0,
              "ticks": ""
             }
            },
            "type": "scattermapbox"
           }
          ],
          "scatterpolar": [
           {
            "marker": {
             "colorbar": {
              "outlinewidth": 0,
              "ticks": ""
             }
            },
            "type": "scatterpolar"
           }
          ],
          "scatterpolargl": [
           {
            "marker": {
             "colorbar": {
              "outlinewidth": 0,
              "ticks": ""
             }
            },
            "type": "scatterpolargl"
           }
          ],
          "scatterternary": [
           {
            "marker": {
             "colorbar": {
              "outlinewidth": 0,
              "ticks": ""
             }
            },
            "type": "scatterternary"
           }
          ],
          "surface": [
           {
            "colorbar": {
             "outlinewidth": 0,
             "ticks": ""
            },
            "colorscale": [
             [
              0,
              "#0d0887"
             ],
             [
              0.1111111111111111,
              "#46039f"
             ],
             [
              0.2222222222222222,
              "#7201a8"
             ],
             [
              0.3333333333333333,
              "#9c179e"
             ],
             [
              0.4444444444444444,
              "#bd3786"
             ],
             [
              0.5555555555555556,
              "#d8576b"
             ],
             [
              0.6666666666666666,
              "#ed7953"
             ],
             [
              0.7777777777777778,
              "#fb9f3a"
             ],
             [
              0.8888888888888888,
              "#fdca26"
             ],
             [
              1,
              "#f0f921"
             ]
            ],
            "type": "surface"
           }
          ],
          "table": [
           {
            "cells": {
             "fill": {
              "color": "#EBF0F8"
             },
             "line": {
              "color": "white"
             }
            },
            "header": {
             "fill": {
              "color": "#C8D4E3"
             },
             "line": {
              "color": "white"
             }
            },
            "type": "table"
           }
          ]
         },
         "layout": {
          "annotationdefaults": {
           "arrowcolor": "#2a3f5f",
           "arrowhead": 0,
           "arrowwidth": 1
          },
          "autotypenumbers": "strict",
          "coloraxis": {
           "colorbar": {
            "outlinewidth": 0,
            "ticks": ""
           }
          },
          "colorscale": {
           "diverging": [
            [
             0,
             "#8e0152"
            ],
            [
             0.1,
             "#c51b7d"
            ],
            [
             0.2,
             "#de77ae"
            ],
            [
             0.3,
             "#f1b6da"
            ],
            [
             0.4,
             "#fde0ef"
            ],
            [
             0.5,
             "#f7f7f7"
            ],
            [
             0.6,
             "#e6f5d0"
            ],
            [
             0.7,
             "#b8e186"
            ],
            [
             0.8,
             "#7fbc41"
            ],
            [
             0.9,
             "#4d9221"
            ],
            [
             1,
             "#276419"
            ]
           ],
           "sequential": [
            [
             0,
             "#0d0887"
            ],
            [
             0.1111111111111111,
             "#46039f"
            ],
            [
             0.2222222222222222,
             "#7201a8"
            ],
            [
             0.3333333333333333,
             "#9c179e"
            ],
            [
             0.4444444444444444,
             "#bd3786"
            ],
            [
             0.5555555555555556,
             "#d8576b"
            ],
            [
             0.6666666666666666,
             "#ed7953"
            ],
            [
             0.7777777777777778,
             "#fb9f3a"
            ],
            [
             0.8888888888888888,
             "#fdca26"
            ],
            [
             1,
             "#f0f921"
            ]
           ],
           "sequentialminus": [
            [
             0,
             "#0d0887"
            ],
            [
             0.1111111111111111,
             "#46039f"
            ],
            [
             0.2222222222222222,
             "#7201a8"
            ],
            [
             0.3333333333333333,
             "#9c179e"
            ],
            [
             0.4444444444444444,
             "#bd3786"
            ],
            [
             0.5555555555555556,
             "#d8576b"
            ],
            [
             0.6666666666666666,
             "#ed7953"
            ],
            [
             0.7777777777777778,
             "#fb9f3a"
            ],
            [
             0.8888888888888888,
             "#fdca26"
            ],
            [
             1,
             "#f0f921"
            ]
           ]
          },
          "colorway": [
           "#636efa",
           "#EF553B",
           "#00cc96",
           "#ab63fa",
           "#FFA15A",
           "#19d3f3",
           "#FF6692",
           "#B6E880",
           "#FF97FF",
           "#FECB52"
          ],
          "font": {
           "color": "#2a3f5f"
          },
          "geo": {
           "bgcolor": "white",
           "lakecolor": "white",
           "landcolor": "white",
           "showlakes": true,
           "showland": true,
           "subunitcolor": "#C8D4E3"
          },
          "hoverlabel": {
           "align": "left"
          },
          "hovermode": "closest",
          "mapbox": {
           "style": "light"
          },
          "paper_bgcolor": "white",
          "plot_bgcolor": "white",
          "polar": {
           "angularaxis": {
            "gridcolor": "#EBF0F8",
            "linecolor": "#EBF0F8",
            "ticks": ""
           },
           "bgcolor": "white",
           "radialaxis": {
            "gridcolor": "#EBF0F8",
            "linecolor": "#EBF0F8",
            "ticks": ""
           }
          },
          "scene": {
           "xaxis": {
            "backgroundcolor": "white",
            "gridcolor": "#DFE8F3",
            "gridwidth": 2,
            "linecolor": "#EBF0F8",
            "showbackground": true,
            "ticks": "",
            "zerolinecolor": "#EBF0F8"
           },
           "yaxis": {
            "backgroundcolor": "white",
            "gridcolor": "#DFE8F3",
            "gridwidth": 2,
            "linecolor": "#EBF0F8",
            "showbackground": true,
            "ticks": "",
            "zerolinecolor": "#EBF0F8"
           },
           "zaxis": {
            "backgroundcolor": "white",
            "gridcolor": "#DFE8F3",
            "gridwidth": 2,
            "linecolor": "#EBF0F8",
            "showbackground": true,
            "ticks": "",
            "zerolinecolor": "#EBF0F8"
           }
          },
          "shapedefaults": {
           "line": {
            "color": "#2a3f5f"
           }
          },
          "ternary": {
           "aaxis": {
            "gridcolor": "#DFE8F3",
            "linecolor": "#A2B1C6",
            "ticks": ""
           },
           "baxis": {
            "gridcolor": "#DFE8F3",
            "linecolor": "#A2B1C6",
            "ticks": ""
           },
           "bgcolor": "white",
           "caxis": {
            "gridcolor": "#DFE8F3",
            "linecolor": "#A2B1C6",
            "ticks": ""
           }
          },
          "title": {
           "x": 0.05
          },
          "xaxis": {
           "automargin": true,
           "gridcolor": "#EBF0F8",
           "linecolor": "#EBF0F8",
           "ticks": "",
           "title": {
            "standoff": 15
           },
           "zerolinecolor": "#EBF0F8",
           "zerolinewidth": 2
          },
          "yaxis": {
           "automargin": true,
           "gridcolor": "#EBF0F8",
           "linecolor": "#EBF0F8",
           "ticks": "",
           "title": {
            "standoff": 15
           },
           "zerolinecolor": "#EBF0F8",
           "zerolinewidth": 2
          }
         }
        },
        "title": {
         "text": "Exchange Rate"
        },
        "xaxis": {
         "title": {
          "text": ""
         }
        },
        "yaxis": {
         "title": {
          "text": "BOB/USD"
         }
        }
       }
      }
     },
     "metadata": {},
     "output_type": "display_data"
    }
   ],
   "source": [
    "fig = go.Figure()\n",
    "fig.add_trace(go.Scatter(x=igae_ipc.index, y=igae_ipc['exchange'], mode='lines', name='', line=dict(color='blue')))\n",
    "fig.update_layout(\n",
    "    title='Exchange Rate',\n",
    "    xaxis_title='',\n",
    "    yaxis_title='BOB/USD',\n",
    "    legend_title='',\n",
    "    template='plotly_white'\n",
    ")\n",
    "fig.show()"
   ]
  },
  {
   "cell_type": "code",
   "execution_count": 106,
   "metadata": {},
   "outputs": [],
   "source": [
    "# Computing Inflation rate\n",
    "igae_ipc['inf'] = (igae_ipc['ipc_sa'].pct_change(1)) * 100\n",
    "# Computing y-o-y GDP growth rate\n",
    "igae_ipc['g12_y'] = (igae_ipc['igae_sa'].pct_change(12)) * 100\n",
    "igae_ipc['igae_trend'] = igae_decomposition.trend\n",
    "igae_ipc['g_gap'] = ((igae_ipc['igae'] / igae_ipc['igae_trend']) - 1) * 100\n",
    "igae_ipc['g_gap_sa'] = ((igae_ipc['igae_sa'] / igae_ipc['igae_trend']) - 1) * 100\n",
    "# Percentage deviation from official Exchange rate (Bs6.96)\n",
    "igae_ipc['e_dev'] = (np.log(igae_ipc['exchange']) - np.log(6.96)) * 100"
   ]
  },
  {
   "cell_type": "code",
   "execution_count": 107,
   "metadata": {},
   "outputs": [
    {
     "data": {
      "application/vnd.plotly.v1+json": {
       "config": {
        "plotlyServerURL": "https://plot.ly"
       },
       "data": [
        {
         "line": {
          "color": "gray"
         },
         "mode": "lines",
         "name": "Observed",
         "type": "scatter",
         "x": [
          "1990-01-31T00:00:00.000000000",
          "1990-02-28T00:00:00.000000000",
          "1990-03-31T00:00:00.000000000",
          "1990-04-30T00:00:00.000000000",
          "1990-05-31T00:00:00.000000000",
          "1990-06-30T00:00:00.000000000",
          "1990-07-31T00:00:00.000000000",
          "1990-08-31T00:00:00.000000000",
          "1990-09-30T00:00:00.000000000",
          "1990-10-31T00:00:00.000000000",
          "1990-11-30T00:00:00.000000000",
          "1990-12-31T00:00:00.000000000",
          "1991-01-31T00:00:00.000000000",
          "1991-02-28T00:00:00.000000000",
          "1991-03-31T00:00:00.000000000",
          "1991-04-30T00:00:00.000000000",
          "1991-05-31T00:00:00.000000000",
          "1991-06-30T00:00:00.000000000",
          "1991-07-31T00:00:00.000000000",
          "1991-08-31T00:00:00.000000000",
          "1991-09-30T00:00:00.000000000",
          "1991-10-31T00:00:00.000000000",
          "1991-11-30T00:00:00.000000000",
          "1991-12-31T00:00:00.000000000",
          "1992-01-31T00:00:00.000000000",
          "1992-02-29T00:00:00.000000000",
          "1992-03-31T00:00:00.000000000",
          "1992-04-30T00:00:00.000000000",
          "1992-05-31T00:00:00.000000000",
          "1992-06-30T00:00:00.000000000",
          "1992-07-31T00:00:00.000000000",
          "1992-08-31T00:00:00.000000000",
          "1992-09-30T00:00:00.000000000",
          "1992-10-31T00:00:00.000000000",
          "1992-11-30T00:00:00.000000000",
          "1992-12-31T00:00:00.000000000",
          "1993-01-31T00:00:00.000000000",
          "1993-02-28T00:00:00.000000000",
          "1993-03-31T00:00:00.000000000",
          "1993-04-30T00:00:00.000000000",
          "1993-05-31T00:00:00.000000000",
          "1993-06-30T00:00:00.000000000",
          "1993-07-31T00:00:00.000000000",
          "1993-08-31T00:00:00.000000000",
          "1993-09-30T00:00:00.000000000",
          "1993-10-31T00:00:00.000000000",
          "1993-11-30T00:00:00.000000000",
          "1993-12-31T00:00:00.000000000",
          "1994-01-31T00:00:00.000000000",
          "1994-02-28T00:00:00.000000000",
          "1994-03-31T00:00:00.000000000",
          "1994-04-30T00:00:00.000000000",
          "1994-05-31T00:00:00.000000000",
          "1994-06-30T00:00:00.000000000",
          "1994-07-31T00:00:00.000000000",
          "1994-08-31T00:00:00.000000000",
          "1994-09-30T00:00:00.000000000",
          "1994-10-31T00:00:00.000000000",
          "1994-11-30T00:00:00.000000000",
          "1994-12-31T00:00:00.000000000",
          "1995-01-31T00:00:00.000000000",
          "1995-02-28T00:00:00.000000000",
          "1995-03-31T00:00:00.000000000",
          "1995-04-30T00:00:00.000000000",
          "1995-05-31T00:00:00.000000000",
          "1995-06-30T00:00:00.000000000",
          "1995-07-31T00:00:00.000000000",
          "1995-08-31T00:00:00.000000000",
          "1995-09-30T00:00:00.000000000",
          "1995-10-31T00:00:00.000000000",
          "1995-11-30T00:00:00.000000000",
          "1995-12-31T00:00:00.000000000",
          "1996-01-31T00:00:00.000000000",
          "1996-02-29T00:00:00.000000000",
          "1996-03-31T00:00:00.000000000",
          "1996-04-30T00:00:00.000000000",
          "1996-05-31T00:00:00.000000000",
          "1996-06-30T00:00:00.000000000",
          "1996-07-31T00:00:00.000000000",
          "1996-08-31T00:00:00.000000000",
          "1996-09-30T00:00:00.000000000",
          "1996-10-31T00:00:00.000000000",
          "1996-11-30T00:00:00.000000000",
          "1996-12-31T00:00:00.000000000",
          "1997-01-31T00:00:00.000000000",
          "1997-02-28T00:00:00.000000000",
          "1997-03-31T00:00:00.000000000",
          "1997-04-30T00:00:00.000000000",
          "1997-05-31T00:00:00.000000000",
          "1997-06-30T00:00:00.000000000",
          "1997-07-31T00:00:00.000000000",
          "1997-08-31T00:00:00.000000000",
          "1997-09-30T00:00:00.000000000",
          "1997-10-31T00:00:00.000000000",
          "1997-11-30T00:00:00.000000000",
          "1997-12-31T00:00:00.000000000",
          "1998-01-31T00:00:00.000000000",
          "1998-02-28T00:00:00.000000000",
          "1998-03-31T00:00:00.000000000",
          "1998-04-30T00:00:00.000000000",
          "1998-05-31T00:00:00.000000000",
          "1998-06-30T00:00:00.000000000",
          "1998-07-31T00:00:00.000000000",
          "1998-08-31T00:00:00.000000000",
          "1998-09-30T00:00:00.000000000",
          "1998-10-31T00:00:00.000000000",
          "1998-11-30T00:00:00.000000000",
          "1998-12-31T00:00:00.000000000",
          "1999-01-31T00:00:00.000000000",
          "1999-02-28T00:00:00.000000000",
          "1999-03-31T00:00:00.000000000",
          "1999-04-30T00:00:00.000000000",
          "1999-05-31T00:00:00.000000000",
          "1999-06-30T00:00:00.000000000",
          "1999-07-31T00:00:00.000000000",
          "1999-08-31T00:00:00.000000000",
          "1999-09-30T00:00:00.000000000",
          "1999-10-31T00:00:00.000000000",
          "1999-11-30T00:00:00.000000000",
          "1999-12-31T00:00:00.000000000",
          "2000-01-31T00:00:00.000000000",
          "2000-02-29T00:00:00.000000000",
          "2000-03-31T00:00:00.000000000",
          "2000-04-30T00:00:00.000000000",
          "2000-05-31T00:00:00.000000000",
          "2000-06-30T00:00:00.000000000",
          "2000-07-31T00:00:00.000000000",
          "2000-08-31T00:00:00.000000000",
          "2000-09-30T00:00:00.000000000",
          "2000-10-31T00:00:00.000000000",
          "2000-11-30T00:00:00.000000000",
          "2000-12-31T00:00:00.000000000",
          "2001-01-31T00:00:00.000000000",
          "2001-02-28T00:00:00.000000000",
          "2001-03-31T00:00:00.000000000",
          "2001-04-30T00:00:00.000000000",
          "2001-05-31T00:00:00.000000000",
          "2001-06-30T00:00:00.000000000",
          "2001-07-31T00:00:00.000000000",
          "2001-08-31T00:00:00.000000000",
          "2001-09-30T00:00:00.000000000",
          "2001-10-31T00:00:00.000000000",
          "2001-11-30T00:00:00.000000000",
          "2001-12-31T00:00:00.000000000",
          "2002-01-31T00:00:00.000000000",
          "2002-02-28T00:00:00.000000000",
          "2002-03-31T00:00:00.000000000",
          "2002-04-30T00:00:00.000000000",
          "2002-05-31T00:00:00.000000000",
          "2002-06-30T00:00:00.000000000",
          "2002-07-31T00:00:00.000000000",
          "2002-08-31T00:00:00.000000000",
          "2002-09-30T00:00:00.000000000",
          "2002-10-31T00:00:00.000000000",
          "2002-11-30T00:00:00.000000000",
          "2002-12-31T00:00:00.000000000",
          "2003-01-31T00:00:00.000000000",
          "2003-02-28T00:00:00.000000000",
          "2003-03-31T00:00:00.000000000",
          "2003-04-30T00:00:00.000000000",
          "2003-05-31T00:00:00.000000000",
          "2003-06-30T00:00:00.000000000",
          "2003-07-31T00:00:00.000000000",
          "2003-08-31T00:00:00.000000000",
          "2003-09-30T00:00:00.000000000",
          "2003-10-31T00:00:00.000000000",
          "2003-11-30T00:00:00.000000000",
          "2003-12-31T00:00:00.000000000",
          "2004-01-31T00:00:00.000000000",
          "2004-02-29T00:00:00.000000000",
          "2004-03-31T00:00:00.000000000",
          "2004-04-30T00:00:00.000000000",
          "2004-05-31T00:00:00.000000000",
          "2004-06-30T00:00:00.000000000",
          "2004-07-31T00:00:00.000000000",
          "2004-08-31T00:00:00.000000000",
          "2004-09-30T00:00:00.000000000",
          "2004-10-31T00:00:00.000000000",
          "2004-11-30T00:00:00.000000000",
          "2004-12-31T00:00:00.000000000",
          "2005-01-31T00:00:00.000000000",
          "2005-02-28T00:00:00.000000000",
          "2005-03-31T00:00:00.000000000",
          "2005-04-30T00:00:00.000000000",
          "2005-05-31T00:00:00.000000000",
          "2005-06-30T00:00:00.000000000",
          "2005-07-31T00:00:00.000000000",
          "2005-08-31T00:00:00.000000000",
          "2005-09-30T00:00:00.000000000",
          "2005-10-31T00:00:00.000000000",
          "2005-11-30T00:00:00.000000000",
          "2005-12-31T00:00:00.000000000",
          "2006-01-31T00:00:00.000000000",
          "2006-02-28T00:00:00.000000000",
          "2006-03-31T00:00:00.000000000",
          "2006-04-30T00:00:00.000000000",
          "2006-05-31T00:00:00.000000000",
          "2006-06-30T00:00:00.000000000",
          "2006-07-31T00:00:00.000000000",
          "2006-08-31T00:00:00.000000000",
          "2006-09-30T00:00:00.000000000",
          "2006-10-31T00:00:00.000000000",
          "2006-11-30T00:00:00.000000000",
          "2006-12-31T00:00:00.000000000",
          "2007-01-31T00:00:00.000000000",
          "2007-02-28T00:00:00.000000000",
          "2007-03-31T00:00:00.000000000",
          "2007-04-30T00:00:00.000000000",
          "2007-05-31T00:00:00.000000000",
          "2007-06-30T00:00:00.000000000",
          "2007-07-31T00:00:00.000000000",
          "2007-08-31T00:00:00.000000000",
          "2007-09-30T00:00:00.000000000",
          "2007-10-31T00:00:00.000000000",
          "2007-11-30T00:00:00.000000000",
          "2007-12-31T00:00:00.000000000",
          "2008-01-31T00:00:00.000000000",
          "2008-02-29T00:00:00.000000000",
          "2008-03-31T00:00:00.000000000",
          "2008-04-30T00:00:00.000000000",
          "2008-05-31T00:00:00.000000000",
          "2008-06-30T00:00:00.000000000",
          "2008-07-31T00:00:00.000000000",
          "2008-08-31T00:00:00.000000000",
          "2008-09-30T00:00:00.000000000",
          "2008-10-31T00:00:00.000000000",
          "2008-11-30T00:00:00.000000000",
          "2008-12-31T00:00:00.000000000",
          "2009-01-31T00:00:00.000000000",
          "2009-02-28T00:00:00.000000000",
          "2009-03-31T00:00:00.000000000",
          "2009-04-30T00:00:00.000000000",
          "2009-05-31T00:00:00.000000000",
          "2009-06-30T00:00:00.000000000",
          "2009-07-31T00:00:00.000000000",
          "2009-08-31T00:00:00.000000000",
          "2009-09-30T00:00:00.000000000",
          "2009-10-31T00:00:00.000000000",
          "2009-11-30T00:00:00.000000000",
          "2009-12-31T00:00:00.000000000",
          "2010-01-31T00:00:00.000000000",
          "2010-02-28T00:00:00.000000000",
          "2010-03-31T00:00:00.000000000",
          "2010-04-30T00:00:00.000000000",
          "2010-05-31T00:00:00.000000000",
          "2010-06-30T00:00:00.000000000",
          "2010-07-31T00:00:00.000000000",
          "2010-08-31T00:00:00.000000000",
          "2010-09-30T00:00:00.000000000",
          "2010-10-31T00:00:00.000000000",
          "2010-11-30T00:00:00.000000000",
          "2010-12-31T00:00:00.000000000",
          "2011-01-31T00:00:00.000000000",
          "2011-02-28T00:00:00.000000000",
          "2011-03-31T00:00:00.000000000",
          "2011-04-30T00:00:00.000000000",
          "2011-05-31T00:00:00.000000000",
          "2011-06-30T00:00:00.000000000",
          "2011-07-31T00:00:00.000000000",
          "2011-08-31T00:00:00.000000000",
          "2011-09-30T00:00:00.000000000",
          "2011-10-31T00:00:00.000000000",
          "2011-11-30T00:00:00.000000000",
          "2011-12-31T00:00:00.000000000",
          "2012-01-31T00:00:00.000000000",
          "2012-02-29T00:00:00.000000000",
          "2012-03-31T00:00:00.000000000",
          "2012-04-30T00:00:00.000000000",
          "2012-05-31T00:00:00.000000000",
          "2012-06-30T00:00:00.000000000",
          "2012-07-31T00:00:00.000000000",
          "2012-08-31T00:00:00.000000000",
          "2012-09-30T00:00:00.000000000",
          "2012-10-31T00:00:00.000000000",
          "2012-11-30T00:00:00.000000000",
          "2012-12-31T00:00:00.000000000",
          "2013-01-31T00:00:00.000000000",
          "2013-02-28T00:00:00.000000000",
          "2013-03-31T00:00:00.000000000",
          "2013-04-30T00:00:00.000000000",
          "2013-05-31T00:00:00.000000000",
          "2013-06-30T00:00:00.000000000",
          "2013-07-31T00:00:00.000000000",
          "2013-08-31T00:00:00.000000000",
          "2013-09-30T00:00:00.000000000",
          "2013-10-31T00:00:00.000000000",
          "2013-11-30T00:00:00.000000000",
          "2013-12-31T00:00:00.000000000",
          "2014-01-31T00:00:00.000000000",
          "2014-02-28T00:00:00.000000000",
          "2014-03-31T00:00:00.000000000",
          "2014-04-30T00:00:00.000000000",
          "2014-05-31T00:00:00.000000000",
          "2014-06-30T00:00:00.000000000",
          "2014-07-31T00:00:00.000000000",
          "2014-08-31T00:00:00.000000000",
          "2014-09-30T00:00:00.000000000",
          "2014-10-31T00:00:00.000000000",
          "2014-11-30T00:00:00.000000000",
          "2014-12-31T00:00:00.000000000",
          "2015-01-31T00:00:00.000000000",
          "2015-02-28T00:00:00.000000000",
          "2015-03-31T00:00:00.000000000",
          "2015-04-30T00:00:00.000000000",
          "2015-05-31T00:00:00.000000000",
          "2015-06-30T00:00:00.000000000",
          "2015-07-31T00:00:00.000000000",
          "2015-08-31T00:00:00.000000000",
          "2015-09-30T00:00:00.000000000",
          "2015-10-31T00:00:00.000000000",
          "2015-11-30T00:00:00.000000000",
          "2015-12-31T00:00:00.000000000",
          "2016-01-31T00:00:00.000000000",
          "2016-02-29T00:00:00.000000000",
          "2016-03-31T00:00:00.000000000",
          "2016-04-30T00:00:00.000000000",
          "2016-05-31T00:00:00.000000000",
          "2016-06-30T00:00:00.000000000",
          "2016-07-31T00:00:00.000000000",
          "2016-08-31T00:00:00.000000000",
          "2016-09-30T00:00:00.000000000",
          "2016-10-31T00:00:00.000000000",
          "2016-11-30T00:00:00.000000000",
          "2016-12-31T00:00:00.000000000",
          "2017-01-31T00:00:00.000000000",
          "2017-02-28T00:00:00.000000000",
          "2017-03-31T00:00:00.000000000",
          "2017-04-30T00:00:00.000000000",
          "2017-05-31T00:00:00.000000000",
          "2017-06-30T00:00:00.000000000",
          "2017-07-31T00:00:00.000000000",
          "2017-08-31T00:00:00.000000000",
          "2017-09-30T00:00:00.000000000",
          "2017-10-31T00:00:00.000000000",
          "2017-11-30T00:00:00.000000000",
          "2017-12-31T00:00:00.000000000",
          "2018-01-31T00:00:00.000000000",
          "2018-02-28T00:00:00.000000000",
          "2018-03-31T00:00:00.000000000",
          "2018-04-30T00:00:00.000000000",
          "2018-05-31T00:00:00.000000000",
          "2018-06-30T00:00:00.000000000",
          "2018-07-31T00:00:00.000000000",
          "2018-08-31T00:00:00.000000000",
          "2018-09-30T00:00:00.000000000",
          "2018-10-31T00:00:00.000000000",
          "2018-11-30T00:00:00.000000000",
          "2018-12-31T00:00:00.000000000",
          "2019-01-31T00:00:00.000000000",
          "2019-02-28T00:00:00.000000000",
          "2019-03-31T00:00:00.000000000",
          "2019-04-30T00:00:00.000000000",
          "2019-05-31T00:00:00.000000000",
          "2019-06-30T00:00:00.000000000",
          "2019-07-31T00:00:00.000000000",
          "2019-08-31T00:00:00.000000000",
          "2019-09-30T00:00:00.000000000",
          "2019-10-31T00:00:00.000000000",
          "2019-11-30T00:00:00.000000000",
          "2019-12-31T00:00:00.000000000",
          "2020-01-31T00:00:00.000000000",
          "2020-02-29T00:00:00.000000000",
          "2020-03-31T00:00:00.000000000",
          "2020-04-30T00:00:00.000000000",
          "2020-05-31T00:00:00.000000000",
          "2020-06-30T00:00:00.000000000",
          "2020-07-31T00:00:00.000000000",
          "2020-08-31T00:00:00.000000000",
          "2020-09-30T00:00:00.000000000",
          "2020-10-31T00:00:00.000000000",
          "2020-11-30T00:00:00.000000000",
          "2020-12-31T00:00:00.000000000",
          "2021-01-31T00:00:00.000000000",
          "2021-02-28T00:00:00.000000000",
          "2021-03-31T00:00:00.000000000",
          "2021-04-30T00:00:00.000000000",
          "2021-05-31T00:00:00.000000000",
          "2021-06-30T00:00:00.000000000",
          "2021-07-31T00:00:00.000000000",
          "2021-08-31T00:00:00.000000000",
          "2021-09-30T00:00:00.000000000",
          "2021-10-31T00:00:00.000000000",
          "2021-11-30T00:00:00.000000000",
          "2021-12-31T00:00:00.000000000",
          "2022-01-31T00:00:00.000000000",
          "2022-02-28T00:00:00.000000000",
          "2022-03-31T00:00:00.000000000",
          "2022-04-30T00:00:00.000000000",
          "2022-05-31T00:00:00.000000000",
          "2022-06-30T00:00:00.000000000",
          "2022-07-31T00:00:00.000000000",
          "2022-08-31T00:00:00.000000000",
          "2022-09-30T00:00:00.000000000",
          "2022-10-31T00:00:00.000000000",
          "2022-11-30T00:00:00.000000000",
          "2022-12-31T00:00:00.000000000",
          "2023-01-31T00:00:00.000000000",
          "2023-02-28T00:00:00.000000000",
          "2023-03-31T00:00:00.000000000",
          "2023-04-30T00:00:00.000000000",
          "2023-05-31T00:00:00.000000000",
          "2023-06-30T00:00:00.000000000",
          "2023-07-31T00:00:00.000000000",
          "2023-08-31T00:00:00.000000000",
          "2023-09-30T00:00:00.000000000",
          "2023-10-31T00:00:00.000000000",
          "2023-11-30T00:00:00.000000000",
          "2023-12-31T00:00:00.000000000",
          "2024-01-31T00:00:00.000000000",
          "2024-02-29T00:00:00.000000000",
          "2024-03-31T00:00:00.000000000",
          "2024-04-30T00:00:00.000000000",
          "2024-05-31T00:00:00.000000000",
          "2024-06-30T00:00:00.000000000",
          "2024-07-31T00:00:00.000000000",
          "2024-08-31T00:00:00.000000000",
          "2024-09-30T00:00:00.000000000",
          "2024-10-31T00:00:00.000000000",
          "2024-11-30T00:00:00.000000000",
          "2024-12-31T00:00:00.000000000"
         ],
         "y": {
          "bdata": "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",
          "dtype": "f8"
         }
        },
        {
         "line": {
          "color": "blue"
         },
         "mode": "lines",
         "name": "SA Adjusted",
         "type": "scatter",
         "x": [
          "1990-01-31T00:00:00.000000000",
          "1990-02-28T00:00:00.000000000",
          "1990-03-31T00:00:00.000000000",
          "1990-04-30T00:00:00.000000000",
          "1990-05-31T00:00:00.000000000",
          "1990-06-30T00:00:00.000000000",
          "1990-07-31T00:00:00.000000000",
          "1990-08-31T00:00:00.000000000",
          "1990-09-30T00:00:00.000000000",
          "1990-10-31T00:00:00.000000000",
          "1990-11-30T00:00:00.000000000",
          "1990-12-31T00:00:00.000000000",
          "1991-01-31T00:00:00.000000000",
          "1991-02-28T00:00:00.000000000",
          "1991-03-31T00:00:00.000000000",
          "1991-04-30T00:00:00.000000000",
          "1991-05-31T00:00:00.000000000",
          "1991-06-30T00:00:00.000000000",
          "1991-07-31T00:00:00.000000000",
          "1991-08-31T00:00:00.000000000",
          "1991-09-30T00:00:00.000000000",
          "1991-10-31T00:00:00.000000000",
          "1991-11-30T00:00:00.000000000",
          "1991-12-31T00:00:00.000000000",
          "1992-01-31T00:00:00.000000000",
          "1992-02-29T00:00:00.000000000",
          "1992-03-31T00:00:00.000000000",
          "1992-04-30T00:00:00.000000000",
          "1992-05-31T00:00:00.000000000",
          "1992-06-30T00:00:00.000000000",
          "1992-07-31T00:00:00.000000000",
          "1992-08-31T00:00:00.000000000",
          "1992-09-30T00:00:00.000000000",
          "1992-10-31T00:00:00.000000000",
          "1992-11-30T00:00:00.000000000",
          "1992-12-31T00:00:00.000000000",
          "1993-01-31T00:00:00.000000000",
          "1993-02-28T00:00:00.000000000",
          "1993-03-31T00:00:00.000000000",
          "1993-04-30T00:00:00.000000000",
          "1993-05-31T00:00:00.000000000",
          "1993-06-30T00:00:00.000000000",
          "1993-07-31T00:00:00.000000000",
          "1993-08-31T00:00:00.000000000",
          "1993-09-30T00:00:00.000000000",
          "1993-10-31T00:00:00.000000000",
          "1993-11-30T00:00:00.000000000",
          "1993-12-31T00:00:00.000000000",
          "1994-01-31T00:00:00.000000000",
          "1994-02-28T00:00:00.000000000",
          "1994-03-31T00:00:00.000000000",
          "1994-04-30T00:00:00.000000000",
          "1994-05-31T00:00:00.000000000",
          "1994-06-30T00:00:00.000000000",
          "1994-07-31T00:00:00.000000000",
          "1994-08-31T00:00:00.000000000",
          "1994-09-30T00:00:00.000000000",
          "1994-10-31T00:00:00.000000000",
          "1994-11-30T00:00:00.000000000",
          "1994-12-31T00:00:00.000000000",
          "1995-01-31T00:00:00.000000000",
          "1995-02-28T00:00:00.000000000",
          "1995-03-31T00:00:00.000000000",
          "1995-04-30T00:00:00.000000000",
          "1995-05-31T00:00:00.000000000",
          "1995-06-30T00:00:00.000000000",
          "1995-07-31T00:00:00.000000000",
          "1995-08-31T00:00:00.000000000",
          "1995-09-30T00:00:00.000000000",
          "1995-10-31T00:00:00.000000000",
          "1995-11-30T00:00:00.000000000",
          "1995-12-31T00:00:00.000000000",
          "1996-01-31T00:00:00.000000000",
          "1996-02-29T00:00:00.000000000",
          "1996-03-31T00:00:00.000000000",
          "1996-04-30T00:00:00.000000000",
          "1996-05-31T00:00:00.000000000",
          "1996-06-30T00:00:00.000000000",
          "1996-07-31T00:00:00.000000000",
          "1996-08-31T00:00:00.000000000",
          "1996-09-30T00:00:00.000000000",
          "1996-10-31T00:00:00.000000000",
          "1996-11-30T00:00:00.000000000",
          "1996-12-31T00:00:00.000000000",
          "1997-01-31T00:00:00.000000000",
          "1997-02-28T00:00:00.000000000",
          "1997-03-31T00:00:00.000000000",
          "1997-04-30T00:00:00.000000000",
          "1997-05-31T00:00:00.000000000",
          "1997-06-30T00:00:00.000000000",
          "1997-07-31T00:00:00.000000000",
          "1997-08-31T00:00:00.000000000",
          "1997-09-30T00:00:00.000000000",
          "1997-10-31T00:00:00.000000000",
          "1997-11-30T00:00:00.000000000",
          "1997-12-31T00:00:00.000000000",
          "1998-01-31T00:00:00.000000000",
          "1998-02-28T00:00:00.000000000",
          "1998-03-31T00:00:00.000000000",
          "1998-04-30T00:00:00.000000000",
          "1998-05-31T00:00:00.000000000",
          "1998-06-30T00:00:00.000000000",
          "1998-07-31T00:00:00.000000000",
          "1998-08-31T00:00:00.000000000",
          "1998-09-30T00:00:00.000000000",
          "1998-10-31T00:00:00.000000000",
          "1998-11-30T00:00:00.000000000",
          "1998-12-31T00:00:00.000000000",
          "1999-01-31T00:00:00.000000000",
          "1999-02-28T00:00:00.000000000",
          "1999-03-31T00:00:00.000000000",
          "1999-04-30T00:00:00.000000000",
          "1999-05-31T00:00:00.000000000",
          "1999-06-30T00:00:00.000000000",
          "1999-07-31T00:00:00.000000000",
          "1999-08-31T00:00:00.000000000",
          "1999-09-30T00:00:00.000000000",
          "1999-10-31T00:00:00.000000000",
          "1999-11-30T00:00:00.000000000",
          "1999-12-31T00:00:00.000000000",
          "2000-01-31T00:00:00.000000000",
          "2000-02-29T00:00:00.000000000",
          "2000-03-31T00:00:00.000000000",
          "2000-04-30T00:00:00.000000000",
          "2000-05-31T00:00:00.000000000",
          "2000-06-30T00:00:00.000000000",
          "2000-07-31T00:00:00.000000000",
          "2000-08-31T00:00:00.000000000",
          "2000-09-30T00:00:00.000000000",
          "2000-10-31T00:00:00.000000000",
          "2000-11-30T00:00:00.000000000",
          "2000-12-31T00:00:00.000000000",
          "2001-01-31T00:00:00.000000000",
          "2001-02-28T00:00:00.000000000",
          "2001-03-31T00:00:00.000000000",
          "2001-04-30T00:00:00.000000000",
          "2001-05-31T00:00:00.000000000",
          "2001-06-30T00:00:00.000000000",
          "2001-07-31T00:00:00.000000000",
          "2001-08-31T00:00:00.000000000",
          "2001-09-30T00:00:00.000000000",
          "2001-10-31T00:00:00.000000000",
          "2001-11-30T00:00:00.000000000",
          "2001-12-31T00:00:00.000000000",
          "2002-01-31T00:00:00.000000000",
          "2002-02-28T00:00:00.000000000",
          "2002-03-31T00:00:00.000000000",
          "2002-04-30T00:00:00.000000000",
          "2002-05-31T00:00:00.000000000",
          "2002-06-30T00:00:00.000000000",
          "2002-07-31T00:00:00.000000000",
          "2002-08-31T00:00:00.000000000",
          "2002-09-30T00:00:00.000000000",
          "2002-10-31T00:00:00.000000000",
          "2002-11-30T00:00:00.000000000",
          "2002-12-31T00:00:00.000000000",
          "2003-01-31T00:00:00.000000000",
          "2003-02-28T00:00:00.000000000",
          "2003-03-31T00:00:00.000000000",
          "2003-04-30T00:00:00.000000000",
          "2003-05-31T00:00:00.000000000",
          "2003-06-30T00:00:00.000000000",
          "2003-07-31T00:00:00.000000000",
          "2003-08-31T00:00:00.000000000",
          "2003-09-30T00:00:00.000000000",
          "2003-10-31T00:00:00.000000000",
          "2003-11-30T00:00:00.000000000",
          "2003-12-31T00:00:00.000000000",
          "2004-01-31T00:00:00.000000000",
          "2004-02-29T00:00:00.000000000",
          "2004-03-31T00:00:00.000000000",
          "2004-04-30T00:00:00.000000000",
          "2004-05-31T00:00:00.000000000",
          "2004-06-30T00:00:00.000000000",
          "2004-07-31T00:00:00.000000000",
          "2004-08-31T00:00:00.000000000",
          "2004-09-30T00:00:00.000000000",
          "2004-10-31T00:00:00.000000000",
          "2004-11-30T00:00:00.000000000",
          "2004-12-31T00:00:00.000000000",
          "2005-01-31T00:00:00.000000000",
          "2005-02-28T00:00:00.000000000",
          "2005-03-31T00:00:00.000000000",
          "2005-04-30T00:00:00.000000000",
          "2005-05-31T00:00:00.000000000",
          "2005-06-30T00:00:00.000000000",
          "2005-07-31T00:00:00.000000000",
          "2005-08-31T00:00:00.000000000",
          "2005-09-30T00:00:00.000000000",
          "2005-10-31T00:00:00.000000000",
          "2005-11-30T00:00:00.000000000",
          "2005-12-31T00:00:00.000000000",
          "2006-01-31T00:00:00.000000000",
          "2006-02-28T00:00:00.000000000",
          "2006-03-31T00:00:00.000000000",
          "2006-04-30T00:00:00.000000000",
          "2006-05-31T00:00:00.000000000",
          "2006-06-30T00:00:00.000000000",
          "2006-07-31T00:00:00.000000000",
          "2006-08-31T00:00:00.000000000",
          "2006-09-30T00:00:00.000000000",
          "2006-10-31T00:00:00.000000000",
          "2006-11-30T00:00:00.000000000",
          "2006-12-31T00:00:00.000000000",
          "2007-01-31T00:00:00.000000000",
          "2007-02-28T00:00:00.000000000",
          "2007-03-31T00:00:00.000000000",
          "2007-04-30T00:00:00.000000000",
          "2007-05-31T00:00:00.000000000",
          "2007-06-30T00:00:00.000000000",
          "2007-07-31T00:00:00.000000000",
          "2007-08-31T00:00:00.000000000",
          "2007-09-30T00:00:00.000000000",
          "2007-10-31T00:00:00.000000000",
          "2007-11-30T00:00:00.000000000",
          "2007-12-31T00:00:00.000000000",
          "2008-01-31T00:00:00.000000000",
          "2008-02-29T00:00:00.000000000",
          "2008-03-31T00:00:00.000000000",
          "2008-04-30T00:00:00.000000000",
          "2008-05-31T00:00:00.000000000",
          "2008-06-30T00:00:00.000000000",
          "2008-07-31T00:00:00.000000000",
          "2008-08-31T00:00:00.000000000",
          "2008-09-30T00:00:00.000000000",
          "2008-10-31T00:00:00.000000000",
          "2008-11-30T00:00:00.000000000",
          "2008-12-31T00:00:00.000000000",
          "2009-01-31T00:00:00.000000000",
          "2009-02-28T00:00:00.000000000",
          "2009-03-31T00:00:00.000000000",
          "2009-04-30T00:00:00.000000000",
          "2009-05-31T00:00:00.000000000",
          "2009-06-30T00:00:00.000000000",
          "2009-07-31T00:00:00.000000000",
          "2009-08-31T00:00:00.000000000",
          "2009-09-30T00:00:00.000000000",
          "2009-10-31T00:00:00.000000000",
          "2009-11-30T00:00:00.000000000",
          "2009-12-31T00:00:00.000000000",
          "2010-01-31T00:00:00.000000000",
          "2010-02-28T00:00:00.000000000",
          "2010-03-31T00:00:00.000000000",
          "2010-04-30T00:00:00.000000000",
          "2010-05-31T00:00:00.000000000",
          "2010-06-30T00:00:00.000000000",
          "2010-07-31T00:00:00.000000000",
          "2010-08-31T00:00:00.000000000",
          "2010-09-30T00:00:00.000000000",
          "2010-10-31T00:00:00.000000000",
          "2010-11-30T00:00:00.000000000",
          "2010-12-31T00:00:00.000000000",
          "2011-01-31T00:00:00.000000000",
          "2011-02-28T00:00:00.000000000",
          "2011-03-31T00:00:00.000000000",
          "2011-04-30T00:00:00.000000000",
          "2011-05-31T00:00:00.000000000",
          "2011-06-30T00:00:00.000000000",
          "2011-07-31T00:00:00.000000000",
          "2011-08-31T00:00:00.000000000",
          "2011-09-30T00:00:00.000000000",
          "2011-10-31T00:00:00.000000000",
          "2011-11-30T00:00:00.000000000",
          "2011-12-31T00:00:00.000000000",
          "2012-01-31T00:00:00.000000000",
          "2012-02-29T00:00:00.000000000",
          "2012-03-31T00:00:00.000000000",
          "2012-04-30T00:00:00.000000000",
          "2012-05-31T00:00:00.000000000",
          "2012-06-30T00:00:00.000000000",
          "2012-07-31T00:00:00.000000000",
          "2012-08-31T00:00:00.000000000",
          "2012-09-30T00:00:00.000000000",
          "2012-10-31T00:00:00.000000000",
          "2012-11-30T00:00:00.000000000",
          "2012-12-31T00:00:00.000000000",
          "2013-01-31T00:00:00.000000000",
          "2013-02-28T00:00:00.000000000",
          "2013-03-31T00:00:00.000000000",
          "2013-04-30T00:00:00.000000000",
          "2013-05-31T00:00:00.000000000",
          "2013-06-30T00:00:00.000000000",
          "2013-07-31T00:00:00.000000000",
          "2013-08-31T00:00:00.000000000",
          "2013-09-30T00:00:00.000000000",
          "2013-10-31T00:00:00.000000000",
          "2013-11-30T00:00:00.000000000",
          "2013-12-31T00:00:00.000000000",
          "2014-01-31T00:00:00.000000000",
          "2014-02-28T00:00:00.000000000",
          "2014-03-31T00:00:00.000000000",
          "2014-04-30T00:00:00.000000000",
          "2014-05-31T00:00:00.000000000",
          "2014-06-30T00:00:00.000000000",
          "2014-07-31T00:00:00.000000000",
          "2014-08-31T00:00:00.000000000",
          "2014-09-30T00:00:00.000000000",
          "2014-10-31T00:00:00.000000000",
          "2014-11-30T00:00:00.000000000",
          "2014-12-31T00:00:00.000000000",
          "2015-01-31T00:00:00.000000000",
          "2015-02-28T00:00:00.000000000",
          "2015-03-31T00:00:00.000000000",
          "2015-04-30T00:00:00.000000000",
          "2015-05-31T00:00:00.000000000",
          "2015-06-30T00:00:00.000000000",
          "2015-07-31T00:00:00.000000000",
          "2015-08-31T00:00:00.000000000",
          "2015-09-30T00:00:00.000000000",
          "2015-10-31T00:00:00.000000000",
          "2015-11-30T00:00:00.000000000",
          "2015-12-31T00:00:00.000000000",
          "2016-01-31T00:00:00.000000000",
          "2016-02-29T00:00:00.000000000",
          "2016-03-31T00:00:00.000000000",
          "2016-04-30T00:00:00.000000000",
          "2016-05-31T00:00:00.000000000",
          "2016-06-30T00:00:00.000000000",
          "2016-07-31T00:00:00.000000000",
          "2016-08-31T00:00:00.000000000",
          "2016-09-30T00:00:00.000000000",
          "2016-10-31T00:00:00.000000000",
          "2016-11-30T00:00:00.000000000",
          "2016-12-31T00:00:00.000000000",
          "2017-01-31T00:00:00.000000000",
          "2017-02-28T00:00:00.000000000",
          "2017-03-31T00:00:00.000000000",
          "2017-04-30T00:00:00.000000000",
          "2017-05-31T00:00:00.000000000",
          "2017-06-30T00:00:00.000000000",
          "2017-07-31T00:00:00.000000000",
          "2017-08-31T00:00:00.000000000",
          "2017-09-30T00:00:00.000000000",
          "2017-10-31T00:00:00.000000000",
          "2017-11-30T00:00:00.000000000",
          "2017-12-31T00:00:00.000000000",
          "2018-01-31T00:00:00.000000000",
          "2018-02-28T00:00:00.000000000",
          "2018-03-31T00:00:00.000000000",
          "2018-04-30T00:00:00.000000000",
          "2018-05-31T00:00:00.000000000",
          "2018-06-30T00:00:00.000000000",
          "2018-07-31T00:00:00.000000000",
          "2018-08-31T00:00:00.000000000",
          "2018-09-30T00:00:00.000000000",
          "2018-10-31T00:00:00.000000000",
          "2018-11-30T00:00:00.000000000",
          "2018-12-31T00:00:00.000000000",
          "2019-01-31T00:00:00.000000000",
          "2019-02-28T00:00:00.000000000",
          "2019-03-31T00:00:00.000000000",
          "2019-04-30T00:00:00.000000000",
          "2019-05-31T00:00:00.000000000",
          "2019-06-30T00:00:00.000000000",
          "2019-07-31T00:00:00.000000000",
          "2019-08-31T00:00:00.000000000",
          "2019-09-30T00:00:00.000000000",
          "2019-10-31T00:00:00.000000000",
          "2019-11-30T00:00:00.000000000",
          "2019-12-31T00:00:00.000000000",
          "2020-01-31T00:00:00.000000000",
          "2020-02-29T00:00:00.000000000",
          "2020-03-31T00:00:00.000000000",
          "2020-04-30T00:00:00.000000000",
          "2020-05-31T00:00:00.000000000",
          "2020-06-30T00:00:00.000000000",
          "2020-07-31T00:00:00.000000000",
          "2020-08-31T00:00:00.000000000",
          "2020-09-30T00:00:00.000000000",
          "2020-10-31T00:00:00.000000000",
          "2020-11-30T00:00:00.000000000",
          "2020-12-31T00:00:00.000000000",
          "2021-01-31T00:00:00.000000000",
          "2021-02-28T00:00:00.000000000",
          "2021-03-31T00:00:00.000000000",
          "2021-04-30T00:00:00.000000000",
          "2021-05-31T00:00:00.000000000",
          "2021-06-30T00:00:00.000000000",
          "2021-07-31T00:00:00.000000000",
          "2021-08-31T00:00:00.000000000",
          "2021-09-30T00:00:00.000000000",
          "2021-10-31T00:00:00.000000000",
          "2021-11-30T00:00:00.000000000",
          "2021-12-31T00:00:00.000000000",
          "2022-01-31T00:00:00.000000000",
          "2022-02-28T00:00:00.000000000",
          "2022-03-31T00:00:00.000000000",
          "2022-04-30T00:00:00.000000000",
          "2022-05-31T00:00:00.000000000",
          "2022-06-30T00:00:00.000000000",
          "2022-07-31T00:00:00.000000000",
          "2022-08-31T00:00:00.000000000",
          "2022-09-30T00:00:00.000000000",
          "2022-10-31T00:00:00.000000000",
          "2022-11-30T00:00:00.000000000",
          "2022-12-31T00:00:00.000000000",
          "2023-01-31T00:00:00.000000000",
          "2023-02-28T00:00:00.000000000",
          "2023-03-31T00:00:00.000000000",
          "2023-04-30T00:00:00.000000000",
          "2023-05-31T00:00:00.000000000",
          "2023-06-30T00:00:00.000000000",
          "2023-07-31T00:00:00.000000000",
          "2023-08-31T00:00:00.000000000",
          "2023-09-30T00:00:00.000000000",
          "2023-10-31T00:00:00.000000000",
          "2023-11-30T00:00:00.000000000",
          "2023-12-31T00:00:00.000000000",
          "2024-01-31T00:00:00.000000000",
          "2024-02-29T00:00:00.000000000",
          "2024-03-31T00:00:00.000000000",
          "2024-04-30T00:00:00.000000000",
          "2024-05-31T00:00:00.000000000",
          "2024-06-30T00:00:00.000000000",
          "2024-07-31T00:00:00.000000000",
          "2024-08-31T00:00:00.000000000",
          "2024-09-30T00:00:00.000000000",
          "2024-10-31T00:00:00.000000000",
          "2024-11-30T00:00:00.000000000",
          "2024-12-31T00:00:00.000000000"
         ],
         "y": {
          "bdata": "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",
          "dtype": "f8"
         }
        },
        {
         "line": {
          "color": "red"
         },
         "mode": "lines",
         "name": "Trend",
         "type": "scatter",
         "x": [
          "1990-01-31T00:00:00.000000000",
          "1990-02-28T00:00:00.000000000",
          "1990-03-31T00:00:00.000000000",
          "1990-04-30T00:00:00.000000000",
          "1990-05-31T00:00:00.000000000",
          "1990-06-30T00:00:00.000000000",
          "1990-07-31T00:00:00.000000000",
          "1990-08-31T00:00:00.000000000",
          "1990-09-30T00:00:00.000000000",
          "1990-10-31T00:00:00.000000000",
          "1990-11-30T00:00:00.000000000",
          "1990-12-31T00:00:00.000000000",
          "1991-01-31T00:00:00.000000000",
          "1991-02-28T00:00:00.000000000",
          "1991-03-31T00:00:00.000000000",
          "1991-04-30T00:00:00.000000000",
          "1991-05-31T00:00:00.000000000",
          "1991-06-30T00:00:00.000000000",
          "1991-07-31T00:00:00.000000000",
          "1991-08-31T00:00:00.000000000",
          "1991-09-30T00:00:00.000000000",
          "1991-10-31T00:00:00.000000000",
          "1991-11-30T00:00:00.000000000",
          "1991-12-31T00:00:00.000000000",
          "1992-01-31T00:00:00.000000000",
          "1992-02-29T00:00:00.000000000",
          "1992-03-31T00:00:00.000000000",
          "1992-04-30T00:00:00.000000000",
          "1992-05-31T00:00:00.000000000",
          "1992-06-30T00:00:00.000000000",
          "1992-07-31T00:00:00.000000000",
          "1992-08-31T00:00:00.000000000",
          "1992-09-30T00:00:00.000000000",
          "1992-10-31T00:00:00.000000000",
          "1992-11-30T00:00:00.000000000",
          "1992-12-31T00:00:00.000000000",
          "1993-01-31T00:00:00.000000000",
          "1993-02-28T00:00:00.000000000",
          "1993-03-31T00:00:00.000000000",
          "1993-04-30T00:00:00.000000000",
          "1993-05-31T00:00:00.000000000",
          "1993-06-30T00:00:00.000000000",
          "1993-07-31T00:00:00.000000000",
          "1993-08-31T00:00:00.000000000",
          "1993-09-30T00:00:00.000000000",
          "1993-10-31T00:00:00.000000000",
          "1993-11-30T00:00:00.000000000",
          "1993-12-31T00:00:00.000000000",
          "1994-01-31T00:00:00.000000000",
          "1994-02-28T00:00:00.000000000",
          "1994-03-31T00:00:00.000000000",
          "1994-04-30T00:00:00.000000000",
          "1994-05-31T00:00:00.000000000",
          "1994-06-30T00:00:00.000000000",
          "1994-07-31T00:00:00.000000000",
          "1994-08-31T00:00:00.000000000",
          "1994-09-30T00:00:00.000000000",
          "1994-10-31T00:00:00.000000000",
          "1994-11-30T00:00:00.000000000",
          "1994-12-31T00:00:00.000000000",
          "1995-01-31T00:00:00.000000000",
          "1995-02-28T00:00:00.000000000",
          "1995-03-31T00:00:00.000000000",
          "1995-04-30T00:00:00.000000000",
          "1995-05-31T00:00:00.000000000",
          "1995-06-30T00:00:00.000000000",
          "1995-07-31T00:00:00.000000000",
          "1995-08-31T00:00:00.000000000",
          "1995-09-30T00:00:00.000000000",
          "1995-10-31T00:00:00.000000000",
          "1995-11-30T00:00:00.000000000",
          "1995-12-31T00:00:00.000000000",
          "1996-01-31T00:00:00.000000000",
          "1996-02-29T00:00:00.000000000",
          "1996-03-31T00:00:00.000000000",
          "1996-04-30T00:00:00.000000000",
          "1996-05-31T00:00:00.000000000",
          "1996-06-30T00:00:00.000000000",
          "1996-07-31T00:00:00.000000000",
          "1996-08-31T00:00:00.000000000",
          "1996-09-30T00:00:00.000000000",
          "1996-10-31T00:00:00.000000000",
          "1996-11-30T00:00:00.000000000",
          "1996-12-31T00:00:00.000000000",
          "1997-01-31T00:00:00.000000000",
          "1997-02-28T00:00:00.000000000",
          "1997-03-31T00:00:00.000000000",
          "1997-04-30T00:00:00.000000000",
          "1997-05-31T00:00:00.000000000",
          "1997-06-30T00:00:00.000000000",
          "1997-07-31T00:00:00.000000000",
          "1997-08-31T00:00:00.000000000",
          "1997-09-30T00:00:00.000000000",
          "1997-10-31T00:00:00.000000000",
          "1997-11-30T00:00:00.000000000",
          "1997-12-31T00:00:00.000000000",
          "1998-01-31T00:00:00.000000000",
          "1998-02-28T00:00:00.000000000",
          "1998-03-31T00:00:00.000000000",
          "1998-04-30T00:00:00.000000000",
          "1998-05-31T00:00:00.000000000",
          "1998-06-30T00:00:00.000000000",
          "1998-07-31T00:00:00.000000000",
          "1998-08-31T00:00:00.000000000",
          "1998-09-30T00:00:00.000000000",
          "1998-10-31T00:00:00.000000000",
          "1998-11-30T00:00:00.000000000",
          "1998-12-31T00:00:00.000000000",
          "1999-01-31T00:00:00.000000000",
          "1999-02-28T00:00:00.000000000",
          "1999-03-31T00:00:00.000000000",
          "1999-04-30T00:00:00.000000000",
          "1999-05-31T00:00:00.000000000",
          "1999-06-30T00:00:00.000000000",
          "1999-07-31T00:00:00.000000000",
          "1999-08-31T00:00:00.000000000",
          "1999-09-30T00:00:00.000000000",
          "1999-10-31T00:00:00.000000000",
          "1999-11-30T00:00:00.000000000",
          "1999-12-31T00:00:00.000000000",
          "2000-01-31T00:00:00.000000000",
          "2000-02-29T00:00:00.000000000",
          "2000-03-31T00:00:00.000000000",
          "2000-04-30T00:00:00.000000000",
          "2000-05-31T00:00:00.000000000",
          "2000-06-30T00:00:00.000000000",
          "2000-07-31T00:00:00.000000000",
          "2000-08-31T00:00:00.000000000",
          "2000-09-30T00:00:00.000000000",
          "2000-10-31T00:00:00.000000000",
          "2000-11-30T00:00:00.000000000",
          "2000-12-31T00:00:00.000000000",
          "2001-01-31T00:00:00.000000000",
          "2001-02-28T00:00:00.000000000",
          "2001-03-31T00:00:00.000000000",
          "2001-04-30T00:00:00.000000000",
          "2001-05-31T00:00:00.000000000",
          "2001-06-30T00:00:00.000000000",
          "2001-07-31T00:00:00.000000000",
          "2001-08-31T00:00:00.000000000",
          "2001-09-30T00:00:00.000000000",
          "2001-10-31T00:00:00.000000000",
          "2001-11-30T00:00:00.000000000",
          "2001-12-31T00:00:00.000000000",
          "2002-01-31T00:00:00.000000000",
          "2002-02-28T00:00:00.000000000",
          "2002-03-31T00:00:00.000000000",
          "2002-04-30T00:00:00.000000000",
          "2002-05-31T00:00:00.000000000",
          "2002-06-30T00:00:00.000000000",
          "2002-07-31T00:00:00.000000000",
          "2002-08-31T00:00:00.000000000",
          "2002-09-30T00:00:00.000000000",
          "2002-10-31T00:00:00.000000000",
          "2002-11-30T00:00:00.000000000",
          "2002-12-31T00:00:00.000000000",
          "2003-01-31T00:00:00.000000000",
          "2003-02-28T00:00:00.000000000",
          "2003-03-31T00:00:00.000000000",
          "2003-04-30T00:00:00.000000000",
          "2003-05-31T00:00:00.000000000",
          "2003-06-30T00:00:00.000000000",
          "2003-07-31T00:00:00.000000000",
          "2003-08-31T00:00:00.000000000",
          "2003-09-30T00:00:00.000000000",
          "2003-10-31T00:00:00.000000000",
          "2003-11-30T00:00:00.000000000",
          "2003-12-31T00:00:00.000000000",
          "2004-01-31T00:00:00.000000000",
          "2004-02-29T00:00:00.000000000",
          "2004-03-31T00:00:00.000000000",
          "2004-04-30T00:00:00.000000000",
          "2004-05-31T00:00:00.000000000",
          "2004-06-30T00:00:00.000000000",
          "2004-07-31T00:00:00.000000000",
          "2004-08-31T00:00:00.000000000",
          "2004-09-30T00:00:00.000000000",
          "2004-10-31T00:00:00.000000000",
          "2004-11-30T00:00:00.000000000",
          "2004-12-31T00:00:00.000000000",
          "2005-01-31T00:00:00.000000000",
          "2005-02-28T00:00:00.000000000",
          "2005-03-31T00:00:00.000000000",
          "2005-04-30T00:00:00.000000000",
          "2005-05-31T00:00:00.000000000",
          "2005-06-30T00:00:00.000000000",
          "2005-07-31T00:00:00.000000000",
          "2005-08-31T00:00:00.000000000",
          "2005-09-30T00:00:00.000000000",
          "2005-10-31T00:00:00.000000000",
          "2005-11-30T00:00:00.000000000",
          "2005-12-31T00:00:00.000000000",
          "2006-01-31T00:00:00.000000000",
          "2006-02-28T00:00:00.000000000",
          "2006-03-31T00:00:00.000000000",
          "2006-04-30T00:00:00.000000000",
          "2006-05-31T00:00:00.000000000",
          "2006-06-30T00:00:00.000000000",
          "2006-07-31T00:00:00.000000000",
          "2006-08-31T00:00:00.000000000",
          "2006-09-30T00:00:00.000000000",
          "2006-10-31T00:00:00.000000000",
          "2006-11-30T00:00:00.000000000",
          "2006-12-31T00:00:00.000000000",
          "2007-01-31T00:00:00.000000000",
          "2007-02-28T00:00:00.000000000",
          "2007-03-31T00:00:00.000000000",
          "2007-04-30T00:00:00.000000000",
          "2007-05-31T00:00:00.000000000",
          "2007-06-30T00:00:00.000000000",
          "2007-07-31T00:00:00.000000000",
          "2007-08-31T00:00:00.000000000",
          "2007-09-30T00:00:00.000000000",
          "2007-10-31T00:00:00.000000000",
          "2007-11-30T00:00:00.000000000",
          "2007-12-31T00:00:00.000000000",
          "2008-01-31T00:00:00.000000000",
          "2008-02-29T00:00:00.000000000",
          "2008-03-31T00:00:00.000000000",
          "2008-04-30T00:00:00.000000000",
          "2008-05-31T00:00:00.000000000",
          "2008-06-30T00:00:00.000000000",
          "2008-07-31T00:00:00.000000000",
          "2008-08-31T00:00:00.000000000",
          "2008-09-30T00:00:00.000000000",
          "2008-10-31T00:00:00.000000000",
          "2008-11-30T00:00:00.000000000",
          "2008-12-31T00:00:00.000000000",
          "2009-01-31T00:00:00.000000000",
          "2009-02-28T00:00:00.000000000",
          "2009-03-31T00:00:00.000000000",
          "2009-04-30T00:00:00.000000000",
          "2009-05-31T00:00:00.000000000",
          "2009-06-30T00:00:00.000000000",
          "2009-07-31T00:00:00.000000000",
          "2009-08-31T00:00:00.000000000",
          "2009-09-30T00:00:00.000000000",
          "2009-10-31T00:00:00.000000000",
          "2009-11-30T00:00:00.000000000",
          "2009-12-31T00:00:00.000000000",
          "2010-01-31T00:00:00.000000000",
          "2010-02-28T00:00:00.000000000",
          "2010-03-31T00:00:00.000000000",
          "2010-04-30T00:00:00.000000000",
          "2010-05-31T00:00:00.000000000",
          "2010-06-30T00:00:00.000000000",
          "2010-07-31T00:00:00.000000000",
          "2010-08-31T00:00:00.000000000",
          "2010-09-30T00:00:00.000000000",
          "2010-10-31T00:00:00.000000000",
          "2010-11-30T00:00:00.000000000",
          "2010-12-31T00:00:00.000000000",
          "2011-01-31T00:00:00.000000000",
          "2011-02-28T00:00:00.000000000",
          "2011-03-31T00:00:00.000000000",
          "2011-04-30T00:00:00.000000000",
          "2011-05-31T00:00:00.000000000",
          "2011-06-30T00:00:00.000000000",
          "2011-07-31T00:00:00.000000000",
          "2011-08-31T00:00:00.000000000",
          "2011-09-30T00:00:00.000000000",
          "2011-10-31T00:00:00.000000000",
          "2011-11-30T00:00:00.000000000",
          "2011-12-31T00:00:00.000000000",
          "2012-01-31T00:00:00.000000000",
          "2012-02-29T00:00:00.000000000",
          "2012-03-31T00:00:00.000000000",
          "2012-04-30T00:00:00.000000000",
          "2012-05-31T00:00:00.000000000",
          "2012-06-30T00:00:00.000000000",
          "2012-07-31T00:00:00.000000000",
          "2012-08-31T00:00:00.000000000",
          "2012-09-30T00:00:00.000000000",
          "2012-10-31T00:00:00.000000000",
          "2012-11-30T00:00:00.000000000",
          "2012-12-31T00:00:00.000000000",
          "2013-01-31T00:00:00.000000000",
          "2013-02-28T00:00:00.000000000",
          "2013-03-31T00:00:00.000000000",
          "2013-04-30T00:00:00.000000000",
          "2013-05-31T00:00:00.000000000",
          "2013-06-30T00:00:00.000000000",
          "2013-07-31T00:00:00.000000000",
          "2013-08-31T00:00:00.000000000",
          "2013-09-30T00:00:00.000000000",
          "2013-10-31T00:00:00.000000000",
          "2013-11-30T00:00:00.000000000",
          "2013-12-31T00:00:00.000000000",
          "2014-01-31T00:00:00.000000000",
          "2014-02-28T00:00:00.000000000",
          "2014-03-31T00:00:00.000000000",
          "2014-04-30T00:00:00.000000000",
          "2014-05-31T00:00:00.000000000",
          "2014-06-30T00:00:00.000000000",
          "2014-07-31T00:00:00.000000000",
          "2014-08-31T00:00:00.000000000",
          "2014-09-30T00:00:00.000000000",
          "2014-10-31T00:00:00.000000000",
          "2014-11-30T00:00:00.000000000",
          "2014-12-31T00:00:00.000000000",
          "2015-01-31T00:00:00.000000000",
          "2015-02-28T00:00:00.000000000",
          "2015-03-31T00:00:00.000000000",
          "2015-04-30T00:00:00.000000000",
          "2015-05-31T00:00:00.000000000",
          "2015-06-30T00:00:00.000000000",
          "2015-07-31T00:00:00.000000000",
          "2015-08-31T00:00:00.000000000",
          "2015-09-30T00:00:00.000000000",
          "2015-10-31T00:00:00.000000000",
          "2015-11-30T00:00:00.000000000",
          "2015-12-31T00:00:00.000000000",
          "2016-01-31T00:00:00.000000000",
          "2016-02-29T00:00:00.000000000",
          "2016-03-31T00:00:00.000000000",
          "2016-04-30T00:00:00.000000000",
          "2016-05-31T00:00:00.000000000",
          "2016-06-30T00:00:00.000000000",
          "2016-07-31T00:00:00.000000000",
          "2016-08-31T00:00:00.000000000",
          "2016-09-30T00:00:00.000000000",
          "2016-10-31T00:00:00.000000000",
          "2016-11-30T00:00:00.000000000",
          "2016-12-31T00:00:00.000000000",
          "2017-01-31T00:00:00.000000000",
          "2017-02-28T00:00:00.000000000",
          "2017-03-31T00:00:00.000000000",
          "2017-04-30T00:00:00.000000000",
          "2017-05-31T00:00:00.000000000",
          "2017-06-30T00:00:00.000000000",
          "2017-07-31T00:00:00.000000000",
          "2017-08-31T00:00:00.000000000",
          "2017-09-30T00:00:00.000000000",
          "2017-10-31T00:00:00.000000000",
          "2017-11-30T00:00:00.000000000",
          "2017-12-31T00:00:00.000000000",
          "2018-01-31T00:00:00.000000000",
          "2018-02-28T00:00:00.000000000",
          "2018-03-31T00:00:00.000000000",
          "2018-04-30T00:00:00.000000000",
          "2018-05-31T00:00:00.000000000",
          "2018-06-30T00:00:00.000000000",
          "2018-07-31T00:00:00.000000000",
          "2018-08-31T00:00:00.000000000",
          "2018-09-30T00:00:00.000000000",
          "2018-10-31T00:00:00.000000000",
          "2018-11-30T00:00:00.000000000",
          "2018-12-31T00:00:00.000000000",
          "2019-01-31T00:00:00.000000000",
          "2019-02-28T00:00:00.000000000",
          "2019-03-31T00:00:00.000000000",
          "2019-04-30T00:00:00.000000000",
          "2019-05-31T00:00:00.000000000",
          "2019-06-30T00:00:00.000000000",
          "2019-07-31T00:00:00.000000000",
          "2019-08-31T00:00:00.000000000",
          "2019-09-30T00:00:00.000000000",
          "2019-10-31T00:00:00.000000000",
          "2019-11-30T00:00:00.000000000",
          "2019-12-31T00:00:00.000000000",
          "2020-01-31T00:00:00.000000000",
          "2020-02-29T00:00:00.000000000",
          "2020-03-31T00:00:00.000000000",
          "2020-04-30T00:00:00.000000000",
          "2020-05-31T00:00:00.000000000",
          "2020-06-30T00:00:00.000000000",
          "2020-07-31T00:00:00.000000000",
          "2020-08-31T00:00:00.000000000",
          "2020-09-30T00:00:00.000000000",
          "2020-10-31T00:00:00.000000000",
          "2020-11-30T00:00:00.000000000",
          "2020-12-31T00:00:00.000000000",
          "2021-01-31T00:00:00.000000000",
          "2021-02-28T00:00:00.000000000",
          "2021-03-31T00:00:00.000000000",
          "2021-04-30T00:00:00.000000000",
          "2021-05-31T00:00:00.000000000",
          "2021-06-30T00:00:00.000000000",
          "2021-07-31T00:00:00.000000000",
          "2021-08-31T00:00:00.000000000",
          "2021-09-30T00:00:00.000000000",
          "2021-10-31T00:00:00.000000000",
          "2021-11-30T00:00:00.000000000",
          "2021-12-31T00:00:00.000000000",
          "2022-01-31T00:00:00.000000000",
          "2022-02-28T00:00:00.000000000",
          "2022-03-31T00:00:00.000000000",
          "2022-04-30T00:00:00.000000000",
          "2022-05-31T00:00:00.000000000",
          "2022-06-30T00:00:00.000000000",
          "2022-07-31T00:00:00.000000000",
          "2022-08-31T00:00:00.000000000",
          "2022-09-30T00:00:00.000000000",
          "2022-10-31T00:00:00.000000000",
          "2022-11-30T00:00:00.000000000",
          "2022-12-31T00:00:00.000000000",
          "2023-01-31T00:00:00.000000000",
          "2023-02-28T00:00:00.000000000",
          "2023-03-31T00:00:00.000000000",
          "2023-04-30T00:00:00.000000000",
          "2023-05-31T00:00:00.000000000",
          "2023-06-30T00:00:00.000000000",
          "2023-07-31T00:00:00.000000000",
          "2023-08-31T00:00:00.000000000",
          "2023-09-30T00:00:00.000000000",
          "2023-10-31T00:00:00.000000000",
          "2023-11-30T00:00:00.000000000",
          "2023-12-31T00:00:00.000000000",
          "2024-01-31T00:00:00.000000000",
          "2024-02-29T00:00:00.000000000",
          "2024-03-31T00:00:00.000000000",
          "2024-04-30T00:00:00.000000000",
          "2024-05-31T00:00:00.000000000",
          "2024-06-30T00:00:00.000000000",
          "2024-07-31T00:00:00.000000000",
          "2024-08-31T00:00:00.000000000",
          "2024-09-30T00:00:00.000000000",
          "2024-10-31T00:00:00.000000000",
          "2024-11-30T00:00:00.000000000",
          "2024-12-31T00:00:00.000000000"
         ],
         "y": {
          "bdata": "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",
          "dtype": "f8"
         }
        }
       ],
       "layout": {
        "legend": {
         "title": {
          "text": ""
         }
        },
        "template": {
         "data": {
          "bar": [
           {
            "error_x": {
             "color": "#2a3f5f"
            },
            "error_y": {
             "color": "#2a3f5f"
            },
            "marker": {
             "line": {
              "color": "white",
              "width": 0.5
             },
             "pattern": {
              "fillmode": "overlay",
              "size": 10,
              "solidity": 0.2
             }
            },
            "type": "bar"
           }
          ],
          "barpolar": [
           {
            "marker": {
             "line": {
              "color": "white",
              "width": 0.5
             },
             "pattern": {
              "fillmode": "overlay",
              "size": 10,
              "solidity": 0.2
             }
            },
            "type": "barpolar"
           }
          ],
          "carpet": [
           {
            "aaxis": {
             "endlinecolor": "#2a3f5f",
             "gridcolor": "#C8D4E3",
             "linecolor": "#C8D4E3",
             "minorgridcolor": "#C8D4E3",
             "startlinecolor": "#2a3f5f"
            },
            "baxis": {
             "endlinecolor": "#2a3f5f",
             "gridcolor": "#C8D4E3",
             "linecolor": "#C8D4E3",
             "minorgridcolor": "#C8D4E3",
             "startlinecolor": "#2a3f5f"
            },
            "type": "carpet"
           }
          ],
          "choropleth": [
           {
            "colorbar": {
             "outlinewidth": 0,
             "ticks": ""
            },
            "type": "choropleth"
           }
          ],
          "contour": [
           {
            "colorbar": {
             "outlinewidth": 0,
             "ticks": ""
            },
            "colorscale": [
             [
              0,
              "#0d0887"
             ],
             [
              0.1111111111111111,
              "#46039f"
             ],
             [
              0.2222222222222222,
              "#7201a8"
             ],
             [
              0.3333333333333333,
              "#9c179e"
             ],
             [
              0.4444444444444444,
              "#bd3786"
             ],
             [
              0.5555555555555556,
              "#d8576b"
             ],
             [
              0.6666666666666666,
              "#ed7953"
             ],
             [
              0.7777777777777778,
              "#fb9f3a"
             ],
             [
              0.8888888888888888,
              "#fdca26"
             ],
             [
              1,
              "#f0f921"
             ]
            ],
            "type": "contour"
           }
          ],
          "contourcarpet": [
           {
            "colorbar": {
             "outlinewidth": 0,
             "ticks": ""
            },
            "type": "contourcarpet"
           }
          ],
          "heatmap": [
           {
            "colorbar": {
             "outlinewidth": 0,
             "ticks": ""
            },
            "colorscale": [
             [
              0,
              "#0d0887"
             ],
             [
              0.1111111111111111,
              "#46039f"
             ],
             [
              0.2222222222222222,
              "#7201a8"
             ],
             [
              0.3333333333333333,
              "#9c179e"
             ],
             [
              0.4444444444444444,
              "#bd3786"
             ],
             [
              0.5555555555555556,
              "#d8576b"
             ],
             [
              0.6666666666666666,
              "#ed7953"
             ],
             [
              0.7777777777777778,
              "#fb9f3a"
             ],
             [
              0.8888888888888888,
              "#fdca26"
             ],
             [
              1,
              "#f0f921"
             ]
            ],
            "type": "heatmap"
           }
          ],
          "histogram": [
           {
            "marker": {
             "pattern": {
              "fillmode": "overlay",
              "size": 10,
              "solidity": 0.2
             }
            },
            "type": "histogram"
           }
          ],
          "histogram2d": [
           {
            "colorbar": {
             "outlinewidth": 0,
             "ticks": ""
            },
            "colorscale": [
             [
              0,
              "#0d0887"
             ],
             [
              0.1111111111111111,
              "#46039f"
             ],
             [
              0.2222222222222222,
              "#7201a8"
             ],
             [
              0.3333333333333333,
              "#9c179e"
             ],
             [
              0.4444444444444444,
              "#bd3786"
             ],
             [
              0.5555555555555556,
              "#d8576b"
             ],
             [
              0.6666666666666666,
              "#ed7953"
             ],
             [
              0.7777777777777778,
              "#fb9f3a"
             ],
             [
              0.8888888888888888,
              "#fdca26"
             ],
             [
              1,
              "#f0f921"
             ]
            ],
            "type": "histogram2d"
           }
          ],
          "histogram2dcontour": [
           {
            "colorbar": {
             "outlinewidth": 0,
             "ticks": ""
            },
            "colorscale": [
             [
              0,
              "#0d0887"
             ],
             [
              0.1111111111111111,
              "#46039f"
             ],
             [
              0.2222222222222222,
              "#7201a8"
             ],
             [
              0.3333333333333333,
              "#9c179e"
             ],
             [
              0.4444444444444444,
              "#bd3786"
             ],
             [
              0.5555555555555556,
              "#d8576b"
             ],
             [
              0.6666666666666666,
              "#ed7953"
             ],
             [
              0.7777777777777778,
              "#fb9f3a"
             ],
             [
              0.8888888888888888,
              "#fdca26"
             ],
             [
              1,
              "#f0f921"
             ]
            ],
            "type": "histogram2dcontour"
           }
          ],
          "mesh3d": [
           {
            "colorbar": {
             "outlinewidth": 0,
             "ticks": ""
            },
            "type": "mesh3d"
           }
          ],
          "parcoords": [
           {
            "line": {
             "colorbar": {
              "outlinewidth": 0,
              "ticks": ""
             }
            },
            "type": "parcoords"
           }
          ],
          "pie": [
           {
            "automargin": true,
            "type": "pie"
           }
          ],
          "scatter": [
           {
            "fillpattern": {
             "fillmode": "overlay",
             "size": 10,
             "solidity": 0.2
            },
            "type": "scatter"
           }
          ],
          "scatter3d": [
           {
            "line": {
             "colorbar": {
              "outlinewidth": 0,
              "ticks": ""
             }
            },
            "marker": {
             "colorbar": {
              "outlinewidth": 0,
              "ticks": ""
             }
            },
            "type": "scatter3d"
           }
          ],
          "scattercarpet": [
           {
            "marker": {
             "colorbar": {
              "outlinewidth": 0,
              "ticks": ""
             }
            },
            "type": "scattercarpet"
           }
          ],
          "scattergeo": [
           {
            "marker": {
             "colorbar": {
              "outlinewidth": 0,
              "ticks": ""
             }
            },
            "type": "scattergeo"
           }
          ],
          "scattergl": [
           {
            "marker": {
             "colorbar": {
              "outlinewidth": 0,
              "ticks": ""
             }
            },
            "type": "scattergl"
           }
          ],
          "scattermap": [
           {
            "marker": {
             "colorbar": {
              "outlinewidth": 0,
              "ticks": ""
             }
            },
            "type": "scattermap"
           }
          ],
          "scattermapbox": [
           {
            "marker": {
             "colorbar": {
              "outlinewidth": 0,
              "ticks": ""
             }
            },
            "type": "scattermapbox"
           }
          ],
          "scatterpolar": [
           {
            "marker": {
             "colorbar": {
              "outlinewidth": 0,
              "ticks": ""
             }
            },
            "type": "scatterpolar"
           }
          ],
          "scatterpolargl": [
           {
            "marker": {
             "colorbar": {
              "outlinewidth": 0,
              "ticks": ""
             }
            },
            "type": "scatterpolargl"
           }
          ],
          "scatterternary": [
           {
            "marker": {
             "colorbar": {
              "outlinewidth": 0,
              "ticks": ""
             }
            },
            "type": "scatterternary"
           }
          ],
          "surface": [
           {
            "colorbar": {
             "outlinewidth": 0,
             "ticks": ""
            },
            "colorscale": [
             [
              0,
              "#0d0887"
             ],
             [
              0.1111111111111111,
              "#46039f"
             ],
             [
              0.2222222222222222,
              "#7201a8"
             ],
             [
              0.3333333333333333,
              "#9c179e"
             ],
             [
              0.4444444444444444,
              "#bd3786"
             ],
             [
              0.5555555555555556,
              "#d8576b"
             ],
             [
              0.6666666666666666,
              "#ed7953"
             ],
             [
              0.7777777777777778,
              "#fb9f3a"
             ],
             [
              0.8888888888888888,
              "#fdca26"
             ],
             [
              1,
              "#f0f921"
             ]
            ],
            "type": "surface"
           }
          ],
          "table": [
           {
            "cells": {
             "fill": {
              "color": "#EBF0F8"
             },
             "line": {
              "color": "white"
             }
            },
            "header": {
             "fill": {
              "color": "#C8D4E3"
             },
             "line": {
              "color": "white"
             }
            },
            "type": "table"
           }
          ]
         },
         "layout": {
          "annotationdefaults": {
           "arrowcolor": "#2a3f5f",
           "arrowhead": 0,
           "arrowwidth": 1
          },
          "autotypenumbers": "strict",
          "coloraxis": {
           "colorbar": {
            "outlinewidth": 0,
            "ticks": ""
           }
          },
          "colorscale": {
           "diverging": [
            [
             0,
             "#8e0152"
            ],
            [
             0.1,
             "#c51b7d"
            ],
            [
             0.2,
             "#de77ae"
            ],
            [
             0.3,
             "#f1b6da"
            ],
            [
             0.4,
             "#fde0ef"
            ],
            [
             0.5,
             "#f7f7f7"
            ],
            [
             0.6,
             "#e6f5d0"
            ],
            [
             0.7,
             "#b8e186"
            ],
            [
             0.8,
             "#7fbc41"
            ],
            [
             0.9,
             "#4d9221"
            ],
            [
             1,
             "#276419"
            ]
           ],
           "sequential": [
            [
             0,
             "#0d0887"
            ],
            [
             0.1111111111111111,
             "#46039f"
            ],
            [
             0.2222222222222222,
             "#7201a8"
            ],
            [
             0.3333333333333333,
             "#9c179e"
            ],
            [
             0.4444444444444444,
             "#bd3786"
            ],
            [
             0.5555555555555556,
             "#d8576b"
            ],
            [
             0.6666666666666666,
             "#ed7953"
            ],
            [
             0.7777777777777778,
             "#fb9f3a"
            ],
            [
             0.8888888888888888,
             "#fdca26"
            ],
            [
             1,
             "#f0f921"
            ]
           ],
           "sequentialminus": [
            [
             0,
             "#0d0887"
            ],
            [
             0.1111111111111111,
             "#46039f"
            ],
            [
             0.2222222222222222,
             "#7201a8"
            ],
            [
             0.3333333333333333,
             "#9c179e"
            ],
            [
             0.4444444444444444,
             "#bd3786"
            ],
            [
             0.5555555555555556,
             "#d8576b"
            ],
            [
             0.6666666666666666,
             "#ed7953"
            ],
            [
             0.7777777777777778,
             "#fb9f3a"
            ],
            [
             0.8888888888888888,
             "#fdca26"
            ],
            [
             1,
             "#f0f921"
            ]
           ]
          },
          "colorway": [
           "#636efa",
           "#EF553B",
           "#00cc96",
           "#ab63fa",
           "#FFA15A",
           "#19d3f3",
           "#FF6692",
           "#B6E880",
           "#FF97FF",
           "#FECB52"
          ],
          "font": {
           "color": "#2a3f5f"
          },
          "geo": {
           "bgcolor": "white",
           "lakecolor": "white",
           "landcolor": "white",
           "showlakes": true,
           "showland": true,
           "subunitcolor": "#C8D4E3"
          },
          "hoverlabel": {
           "align": "left"
          },
          "hovermode": "closest",
          "mapbox": {
           "style": "light"
          },
          "paper_bgcolor": "white",
          "plot_bgcolor": "white",
          "polar": {
           "angularaxis": {
            "gridcolor": "#EBF0F8",
            "linecolor": "#EBF0F8",
            "ticks": ""
           },
           "bgcolor": "white",
           "radialaxis": {
            "gridcolor": "#EBF0F8",
            "linecolor": "#EBF0F8",
            "ticks": ""
           }
          },
          "scene": {
           "xaxis": {
            "backgroundcolor": "white",
            "gridcolor": "#DFE8F3",
            "gridwidth": 2,
            "linecolor": "#EBF0F8",
            "showbackground": true,
            "ticks": "",
            "zerolinecolor": "#EBF0F8"
           },
           "yaxis": {
            "backgroundcolor": "white",
            "gridcolor": "#DFE8F3",
            "gridwidth": 2,
            "linecolor": "#EBF0F8",
            "showbackground": true,
            "ticks": "",
            "zerolinecolor": "#EBF0F8"
           },
           "zaxis": {
            "backgroundcolor": "white",
            "gridcolor": "#DFE8F3",
            "gridwidth": 2,
            "linecolor": "#EBF0F8",
            "showbackground": true,
            "ticks": "",
            "zerolinecolor": "#EBF0F8"
           }
          },
          "shapedefaults": {
           "line": {
            "color": "#2a3f5f"
           }
          },
          "ternary": {
           "aaxis": {
            "gridcolor": "#DFE8F3",
            "linecolor": "#A2B1C6",
            "ticks": ""
           },
           "baxis": {
            "gridcolor": "#DFE8F3",
            "linecolor": "#A2B1C6",
            "ticks": ""
           },
           "bgcolor": "white",
           "caxis": {
            "gridcolor": "#DFE8F3",
            "linecolor": "#A2B1C6",
            "ticks": ""
           }
          },
          "title": {
           "x": 0.05
          },
          "xaxis": {
           "automargin": true,
           "gridcolor": "#EBF0F8",
           "linecolor": "#EBF0F8",
           "ticks": "",
           "title": {
            "standoff": 15
           },
           "zerolinecolor": "#EBF0F8",
           "zerolinewidth": 2
          },
          "yaxis": {
           "automargin": true,
           "gridcolor": "#EBF0F8",
           "linecolor": "#EBF0F8",
           "ticks": "",
           "title": {
            "standoff": 15
           },
           "zerolinecolor": "#EBF0F8",
           "zerolinewidth": 2
          }
         }
        },
        "xaxis": {
         "title": {
          "text": ""
         }
        },
        "yaxis": {
         "title": {
          "text": "Percentage Points"
         }
        }
       }
      }
     },
     "metadata": {},
     "output_type": "display_data"
    }
   ],
   "source": [
    "fig = go.Figure()\n",
    "fig.add_trace(go.Scatter(x=igae_ipc.index, y=igae_ipc['igae'], mode='lines', name='Observed', line=dict(color='gray')))\n",
    "fig.add_trace(go.Scatter(x=igae_ipc.index, y=igae_ipc['igae_sa'], mode='lines', name='SA Adjusted', line=dict(color='blue')))\n",
    "fig.add_trace(go.Scatter(x=igae_ipc.index, y=igae_ipc['igae_trend'], mode='lines', name='Trend', line=dict(color='red')))\n",
    "fig.update_layout(\n",
    "    #title='IPC',\n",
    "    xaxis_title='',\n",
    "    yaxis_title='Percentage Points',\n",
    "    legend_title='',\n",
    "    template='plotly_white'\n",
    ")\n",
    "fig.show()"
   ]
  },
  {
   "cell_type": "code",
   "execution_count": 108,
   "metadata": {},
   "outputs": [
    {
     "data": {
      "application/vnd.plotly.v1+json": {
       "config": {
        "plotlyServerURL": "https://plot.ly"
       },
       "data": [
        {
         "line": {
          "color": "blue"
         },
         "mode": "lines",
         "name": "SA Inflation",
         "type": "scatter",
         "x": [
          "1990-01-31T00:00:00.000000000",
          "1990-02-28T00:00:00.000000000",
          "1990-03-31T00:00:00.000000000",
          "1990-04-30T00:00:00.000000000",
          "1990-05-31T00:00:00.000000000",
          "1990-06-30T00:00:00.000000000",
          "1990-07-31T00:00:00.000000000",
          "1990-08-31T00:00:00.000000000",
          "1990-09-30T00:00:00.000000000",
          "1990-10-31T00:00:00.000000000",
          "1990-11-30T00:00:00.000000000",
          "1990-12-31T00:00:00.000000000",
          "1991-01-31T00:00:00.000000000",
          "1991-02-28T00:00:00.000000000",
          "1991-03-31T00:00:00.000000000",
          "1991-04-30T00:00:00.000000000",
          "1991-05-31T00:00:00.000000000",
          "1991-06-30T00:00:00.000000000",
          "1991-07-31T00:00:00.000000000",
          "1991-08-31T00:00:00.000000000",
          "1991-09-30T00:00:00.000000000",
          "1991-10-31T00:00:00.000000000",
          "1991-11-30T00:00:00.000000000",
          "1991-12-31T00:00:00.000000000",
          "1992-01-31T00:00:00.000000000",
          "1992-02-29T00:00:00.000000000",
          "1992-03-31T00:00:00.000000000",
          "1992-04-30T00:00:00.000000000",
          "1992-05-31T00:00:00.000000000",
          "1992-06-30T00:00:00.000000000",
          "1992-07-31T00:00:00.000000000",
          "1992-08-31T00:00:00.000000000",
          "1992-09-30T00:00:00.000000000",
          "1992-10-31T00:00:00.000000000",
          "1992-11-30T00:00:00.000000000",
          "1992-12-31T00:00:00.000000000",
          "1993-01-31T00:00:00.000000000",
          "1993-02-28T00:00:00.000000000",
          "1993-03-31T00:00:00.000000000",
          "1993-04-30T00:00:00.000000000",
          "1993-05-31T00:00:00.000000000",
          "1993-06-30T00:00:00.000000000",
          "1993-07-31T00:00:00.000000000",
          "1993-08-31T00:00:00.000000000",
          "1993-09-30T00:00:00.000000000",
          "1993-10-31T00:00:00.000000000",
          "1993-11-30T00:00:00.000000000",
          "1993-12-31T00:00:00.000000000",
          "1994-01-31T00:00:00.000000000",
          "1994-02-28T00:00:00.000000000",
          "1994-03-31T00:00:00.000000000",
          "1994-04-30T00:00:00.000000000",
          "1994-05-31T00:00:00.000000000",
          "1994-06-30T00:00:00.000000000",
          "1994-07-31T00:00:00.000000000",
          "1994-08-31T00:00:00.000000000",
          "1994-09-30T00:00:00.000000000",
          "1994-10-31T00:00:00.000000000",
          "1994-11-30T00:00:00.000000000",
          "1994-12-31T00:00:00.000000000",
          "1995-01-31T00:00:00.000000000",
          "1995-02-28T00:00:00.000000000",
          "1995-03-31T00:00:00.000000000",
          "1995-04-30T00:00:00.000000000",
          "1995-05-31T00:00:00.000000000",
          "1995-06-30T00:00:00.000000000",
          "1995-07-31T00:00:00.000000000",
          "1995-08-31T00:00:00.000000000",
          "1995-09-30T00:00:00.000000000",
          "1995-10-31T00:00:00.000000000",
          "1995-11-30T00:00:00.000000000",
          "1995-12-31T00:00:00.000000000",
          "1996-01-31T00:00:00.000000000",
          "1996-02-29T00:00:00.000000000",
          "1996-03-31T00:00:00.000000000",
          "1996-04-30T00:00:00.000000000",
          "1996-05-31T00:00:00.000000000",
          "1996-06-30T00:00:00.000000000",
          "1996-07-31T00:00:00.000000000",
          "1996-08-31T00:00:00.000000000",
          "1996-09-30T00:00:00.000000000",
          "1996-10-31T00:00:00.000000000",
          "1996-11-30T00:00:00.000000000",
          "1996-12-31T00:00:00.000000000",
          "1997-01-31T00:00:00.000000000",
          "1997-02-28T00:00:00.000000000",
          "1997-03-31T00:00:00.000000000",
          "1997-04-30T00:00:00.000000000",
          "1997-05-31T00:00:00.000000000",
          "1997-06-30T00:00:00.000000000",
          "1997-07-31T00:00:00.000000000",
          "1997-08-31T00:00:00.000000000",
          "1997-09-30T00:00:00.000000000",
          "1997-10-31T00:00:00.000000000",
          "1997-11-30T00:00:00.000000000",
          "1997-12-31T00:00:00.000000000",
          "1998-01-31T00:00:00.000000000",
          "1998-02-28T00:00:00.000000000",
          "1998-03-31T00:00:00.000000000",
          "1998-04-30T00:00:00.000000000",
          "1998-05-31T00:00:00.000000000",
          "1998-06-30T00:00:00.000000000",
          "1998-07-31T00:00:00.000000000",
          "1998-08-31T00:00:00.000000000",
          "1998-09-30T00:00:00.000000000",
          "1998-10-31T00:00:00.000000000",
          "1998-11-30T00:00:00.000000000",
          "1998-12-31T00:00:00.000000000",
          "1999-01-31T00:00:00.000000000",
          "1999-02-28T00:00:00.000000000",
          "1999-03-31T00:00:00.000000000",
          "1999-04-30T00:00:00.000000000",
          "1999-05-31T00:00:00.000000000",
          "1999-06-30T00:00:00.000000000",
          "1999-07-31T00:00:00.000000000",
          "1999-08-31T00:00:00.000000000",
          "1999-09-30T00:00:00.000000000",
          "1999-10-31T00:00:00.000000000",
          "1999-11-30T00:00:00.000000000",
          "1999-12-31T00:00:00.000000000",
          "2000-01-31T00:00:00.000000000",
          "2000-02-29T00:00:00.000000000",
          "2000-03-31T00:00:00.000000000",
          "2000-04-30T00:00:00.000000000",
          "2000-05-31T00:00:00.000000000",
          "2000-06-30T00:00:00.000000000",
          "2000-07-31T00:00:00.000000000",
          "2000-08-31T00:00:00.000000000",
          "2000-09-30T00:00:00.000000000",
          "2000-10-31T00:00:00.000000000",
          "2000-11-30T00:00:00.000000000",
          "2000-12-31T00:00:00.000000000",
          "2001-01-31T00:00:00.000000000",
          "2001-02-28T00:00:00.000000000",
          "2001-03-31T00:00:00.000000000",
          "2001-04-30T00:00:00.000000000",
          "2001-05-31T00:00:00.000000000",
          "2001-06-30T00:00:00.000000000",
          "2001-07-31T00:00:00.000000000",
          "2001-08-31T00:00:00.000000000",
          "2001-09-30T00:00:00.000000000",
          "2001-10-31T00:00:00.000000000",
          "2001-11-30T00:00:00.000000000",
          "2001-12-31T00:00:00.000000000",
          "2002-01-31T00:00:00.000000000",
          "2002-02-28T00:00:00.000000000",
          "2002-03-31T00:00:00.000000000",
          "2002-04-30T00:00:00.000000000",
          "2002-05-31T00:00:00.000000000",
          "2002-06-30T00:00:00.000000000",
          "2002-07-31T00:00:00.000000000",
          "2002-08-31T00:00:00.000000000",
          "2002-09-30T00:00:00.000000000",
          "2002-10-31T00:00:00.000000000",
          "2002-11-30T00:00:00.000000000",
          "2002-12-31T00:00:00.000000000",
          "2003-01-31T00:00:00.000000000",
          "2003-02-28T00:00:00.000000000",
          "2003-03-31T00:00:00.000000000",
          "2003-04-30T00:00:00.000000000",
          "2003-05-31T00:00:00.000000000",
          "2003-06-30T00:00:00.000000000",
          "2003-07-31T00:00:00.000000000",
          "2003-08-31T00:00:00.000000000",
          "2003-09-30T00:00:00.000000000",
          "2003-10-31T00:00:00.000000000",
          "2003-11-30T00:00:00.000000000",
          "2003-12-31T00:00:00.000000000",
          "2004-01-31T00:00:00.000000000",
          "2004-02-29T00:00:00.000000000",
          "2004-03-31T00:00:00.000000000",
          "2004-04-30T00:00:00.000000000",
          "2004-05-31T00:00:00.000000000",
          "2004-06-30T00:00:00.000000000",
          "2004-07-31T00:00:00.000000000",
          "2004-08-31T00:00:00.000000000",
          "2004-09-30T00:00:00.000000000",
          "2004-10-31T00:00:00.000000000",
          "2004-11-30T00:00:00.000000000",
          "2004-12-31T00:00:00.000000000",
          "2005-01-31T00:00:00.000000000",
          "2005-02-28T00:00:00.000000000",
          "2005-03-31T00:00:00.000000000",
          "2005-04-30T00:00:00.000000000",
          "2005-05-31T00:00:00.000000000",
          "2005-06-30T00:00:00.000000000",
          "2005-07-31T00:00:00.000000000",
          "2005-08-31T00:00:00.000000000",
          "2005-09-30T00:00:00.000000000",
          "2005-10-31T00:00:00.000000000",
          "2005-11-30T00:00:00.000000000",
          "2005-12-31T00:00:00.000000000",
          "2006-01-31T00:00:00.000000000",
          "2006-02-28T00:00:00.000000000",
          "2006-03-31T00:00:00.000000000",
          "2006-04-30T00:00:00.000000000",
          "2006-05-31T00:00:00.000000000",
          "2006-06-30T00:00:00.000000000",
          "2006-07-31T00:00:00.000000000",
          "2006-08-31T00:00:00.000000000",
          "2006-09-30T00:00:00.000000000",
          "2006-10-31T00:00:00.000000000",
          "2006-11-30T00:00:00.000000000",
          "2006-12-31T00:00:00.000000000",
          "2007-01-31T00:00:00.000000000",
          "2007-02-28T00:00:00.000000000",
          "2007-03-31T00:00:00.000000000",
          "2007-04-30T00:00:00.000000000",
          "2007-05-31T00:00:00.000000000",
          "2007-06-30T00:00:00.000000000",
          "2007-07-31T00:00:00.000000000",
          "2007-08-31T00:00:00.000000000",
          "2007-09-30T00:00:00.000000000",
          "2007-10-31T00:00:00.000000000",
          "2007-11-30T00:00:00.000000000",
          "2007-12-31T00:00:00.000000000",
          "2008-01-31T00:00:00.000000000",
          "2008-02-29T00:00:00.000000000",
          "2008-03-31T00:00:00.000000000",
          "2008-04-30T00:00:00.000000000",
          "2008-05-31T00:00:00.000000000",
          "2008-06-30T00:00:00.000000000",
          "2008-07-31T00:00:00.000000000",
          "2008-08-31T00:00:00.000000000",
          "2008-09-30T00:00:00.000000000",
          "2008-10-31T00:00:00.000000000",
          "2008-11-30T00:00:00.000000000",
          "2008-12-31T00:00:00.000000000",
          "2009-01-31T00:00:00.000000000",
          "2009-02-28T00:00:00.000000000",
          "2009-03-31T00:00:00.000000000",
          "2009-04-30T00:00:00.000000000",
          "2009-05-31T00:00:00.000000000",
          "2009-06-30T00:00:00.000000000",
          "2009-07-31T00:00:00.000000000",
          "2009-08-31T00:00:00.000000000",
          "2009-09-30T00:00:00.000000000",
          "2009-10-31T00:00:00.000000000",
          "2009-11-30T00:00:00.000000000",
          "2009-12-31T00:00:00.000000000",
          "2010-01-31T00:00:00.000000000",
          "2010-02-28T00:00:00.000000000",
          "2010-03-31T00:00:00.000000000",
          "2010-04-30T00:00:00.000000000",
          "2010-05-31T00:00:00.000000000",
          "2010-06-30T00:00:00.000000000",
          "2010-07-31T00:00:00.000000000",
          "2010-08-31T00:00:00.000000000",
          "2010-09-30T00:00:00.000000000",
          "2010-10-31T00:00:00.000000000",
          "2010-11-30T00:00:00.000000000",
          "2010-12-31T00:00:00.000000000",
          "2011-01-31T00:00:00.000000000",
          "2011-02-28T00:00:00.000000000",
          "2011-03-31T00:00:00.000000000",
          "2011-04-30T00:00:00.000000000",
          "2011-05-31T00:00:00.000000000",
          "2011-06-30T00:00:00.000000000",
          "2011-07-31T00:00:00.000000000",
          "2011-08-31T00:00:00.000000000",
          "2011-09-30T00:00:00.000000000",
          "2011-10-31T00:00:00.000000000",
          "2011-11-30T00:00:00.000000000",
          "2011-12-31T00:00:00.000000000",
          "2012-01-31T00:00:00.000000000",
          "2012-02-29T00:00:00.000000000",
          "2012-03-31T00:00:00.000000000",
          "2012-04-30T00:00:00.000000000",
          "2012-05-31T00:00:00.000000000",
          "2012-06-30T00:00:00.000000000",
          "2012-07-31T00:00:00.000000000",
          "2012-08-31T00:00:00.000000000",
          "2012-09-30T00:00:00.000000000",
          "2012-10-31T00:00:00.000000000",
          "2012-11-30T00:00:00.000000000",
          "2012-12-31T00:00:00.000000000",
          "2013-01-31T00:00:00.000000000",
          "2013-02-28T00:00:00.000000000",
          "2013-03-31T00:00:00.000000000",
          "2013-04-30T00:00:00.000000000",
          "2013-05-31T00:00:00.000000000",
          "2013-06-30T00:00:00.000000000",
          "2013-07-31T00:00:00.000000000",
          "2013-08-31T00:00:00.000000000",
          "2013-09-30T00:00:00.000000000",
          "2013-10-31T00:00:00.000000000",
          "2013-11-30T00:00:00.000000000",
          "2013-12-31T00:00:00.000000000",
          "2014-01-31T00:00:00.000000000",
          "2014-02-28T00:00:00.000000000",
          "2014-03-31T00:00:00.000000000",
          "2014-04-30T00:00:00.000000000",
          "2014-05-31T00:00:00.000000000",
          "2014-06-30T00:00:00.000000000",
          "2014-07-31T00:00:00.000000000",
          "2014-08-31T00:00:00.000000000",
          "2014-09-30T00:00:00.000000000",
          "2014-10-31T00:00:00.000000000",
          "2014-11-30T00:00:00.000000000",
          "2014-12-31T00:00:00.000000000",
          "2015-01-31T00:00:00.000000000",
          "2015-02-28T00:00:00.000000000",
          "2015-03-31T00:00:00.000000000",
          "2015-04-30T00:00:00.000000000",
          "2015-05-31T00:00:00.000000000",
          "2015-06-30T00:00:00.000000000",
          "2015-07-31T00:00:00.000000000",
          "2015-08-31T00:00:00.000000000",
          "2015-09-30T00:00:00.000000000",
          "2015-10-31T00:00:00.000000000",
          "2015-11-30T00:00:00.000000000",
          "2015-12-31T00:00:00.000000000",
          "2016-01-31T00:00:00.000000000",
          "2016-02-29T00:00:00.000000000",
          "2016-03-31T00:00:00.000000000",
          "2016-04-30T00:00:00.000000000",
          "2016-05-31T00:00:00.000000000",
          "2016-06-30T00:00:00.000000000",
          "2016-07-31T00:00:00.000000000",
          "2016-08-31T00:00:00.000000000",
          "2016-09-30T00:00:00.000000000",
          "2016-10-31T00:00:00.000000000",
          "2016-11-30T00:00:00.000000000",
          "2016-12-31T00:00:00.000000000",
          "2017-01-31T00:00:00.000000000",
          "2017-02-28T00:00:00.000000000",
          "2017-03-31T00:00:00.000000000",
          "2017-04-30T00:00:00.000000000",
          "2017-05-31T00:00:00.000000000",
          "2017-06-30T00:00:00.000000000",
          "2017-07-31T00:00:00.000000000",
          "2017-08-31T00:00:00.000000000",
          "2017-09-30T00:00:00.000000000",
          "2017-10-31T00:00:00.000000000",
          "2017-11-30T00:00:00.000000000",
          "2017-12-31T00:00:00.000000000",
          "2018-01-31T00:00:00.000000000",
          "2018-02-28T00:00:00.000000000",
          "2018-03-31T00:00:00.000000000",
          "2018-04-30T00:00:00.000000000",
          "2018-05-31T00:00:00.000000000",
          "2018-06-30T00:00:00.000000000",
          "2018-07-31T00:00:00.000000000",
          "2018-08-31T00:00:00.000000000",
          "2018-09-30T00:00:00.000000000",
          "2018-10-31T00:00:00.000000000",
          "2018-11-30T00:00:00.000000000",
          "2018-12-31T00:00:00.000000000",
          "2019-01-31T00:00:00.000000000",
          "2019-02-28T00:00:00.000000000",
          "2019-03-31T00:00:00.000000000",
          "2019-04-30T00:00:00.000000000",
          "2019-05-31T00:00:00.000000000",
          "2019-06-30T00:00:00.000000000",
          "2019-07-31T00:00:00.000000000",
          "2019-08-31T00:00:00.000000000",
          "2019-09-30T00:00:00.000000000",
          "2019-10-31T00:00:00.000000000",
          "2019-11-30T00:00:00.000000000",
          "2019-12-31T00:00:00.000000000",
          "2020-01-31T00:00:00.000000000",
          "2020-02-29T00:00:00.000000000",
          "2020-03-31T00:00:00.000000000",
          "2020-04-30T00:00:00.000000000",
          "2020-05-31T00:00:00.000000000",
          "2020-06-30T00:00:00.000000000",
          "2020-07-31T00:00:00.000000000",
          "2020-08-31T00:00:00.000000000",
          "2020-09-30T00:00:00.000000000",
          "2020-10-31T00:00:00.000000000",
          "2020-11-30T00:00:00.000000000",
          "2020-12-31T00:00:00.000000000",
          "2021-01-31T00:00:00.000000000",
          "2021-02-28T00:00:00.000000000",
          "2021-03-31T00:00:00.000000000",
          "2021-04-30T00:00:00.000000000",
          "2021-05-31T00:00:00.000000000",
          "2021-06-30T00:00:00.000000000",
          "2021-07-31T00:00:00.000000000",
          "2021-08-31T00:00:00.000000000",
          "2021-09-30T00:00:00.000000000",
          "2021-10-31T00:00:00.000000000",
          "2021-11-30T00:00:00.000000000",
          "2021-12-31T00:00:00.000000000",
          "2022-01-31T00:00:00.000000000",
          "2022-02-28T00:00:00.000000000",
          "2022-03-31T00:00:00.000000000",
          "2022-04-30T00:00:00.000000000",
          "2022-05-31T00:00:00.000000000",
          "2022-06-30T00:00:00.000000000",
          "2022-07-31T00:00:00.000000000",
          "2022-08-31T00:00:00.000000000",
          "2022-09-30T00:00:00.000000000",
          "2022-10-31T00:00:00.000000000",
          "2022-11-30T00:00:00.000000000",
          "2022-12-31T00:00:00.000000000",
          "2023-01-31T00:00:00.000000000",
          "2023-02-28T00:00:00.000000000",
          "2023-03-31T00:00:00.000000000",
          "2023-04-30T00:00:00.000000000",
          "2023-05-31T00:00:00.000000000",
          "2023-06-30T00:00:00.000000000",
          "2023-07-31T00:00:00.000000000",
          "2023-08-31T00:00:00.000000000",
          "2023-09-30T00:00:00.000000000",
          "2023-10-31T00:00:00.000000000",
          "2023-11-30T00:00:00.000000000",
          "2023-12-31T00:00:00.000000000",
          "2024-01-31T00:00:00.000000000",
          "2024-02-29T00:00:00.000000000",
          "2024-03-31T00:00:00.000000000",
          "2024-04-30T00:00:00.000000000",
          "2024-05-31T00:00:00.000000000",
          "2024-06-30T00:00:00.000000000",
          "2024-07-31T00:00:00.000000000",
          "2024-08-31T00:00:00.000000000",
          "2024-09-30T00:00:00.000000000",
          "2024-10-31T00:00:00.000000000",
          "2024-11-30T00:00:00.000000000",
          "2024-12-31T00:00:00.000000000"
         ],
         "y": {
          "bdata": "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",
          "dtype": "f8"
         }
        },
        {
         "line": {
          "color": "pink"
         },
         "mode": "lines",
         "name": "Exchange Dev.",
         "type": "scatter",
         "x": [
          "1990-01-31T00:00:00.000000000",
          "1990-02-28T00:00:00.000000000",
          "1990-03-31T00:00:00.000000000",
          "1990-04-30T00:00:00.000000000",
          "1990-05-31T00:00:00.000000000",
          "1990-06-30T00:00:00.000000000",
          "1990-07-31T00:00:00.000000000",
          "1990-08-31T00:00:00.000000000",
          "1990-09-30T00:00:00.000000000",
          "1990-10-31T00:00:00.000000000",
          "1990-11-30T00:00:00.000000000",
          "1990-12-31T00:00:00.000000000",
          "1991-01-31T00:00:00.000000000",
          "1991-02-28T00:00:00.000000000",
          "1991-03-31T00:00:00.000000000",
          "1991-04-30T00:00:00.000000000",
          "1991-05-31T00:00:00.000000000",
          "1991-06-30T00:00:00.000000000",
          "1991-07-31T00:00:00.000000000",
          "1991-08-31T00:00:00.000000000",
          "1991-09-30T00:00:00.000000000",
          "1991-10-31T00:00:00.000000000",
          "1991-11-30T00:00:00.000000000",
          "1991-12-31T00:00:00.000000000",
          "1992-01-31T00:00:00.000000000",
          "1992-02-29T00:00:00.000000000",
          "1992-03-31T00:00:00.000000000",
          "1992-04-30T00:00:00.000000000",
          "1992-05-31T00:00:00.000000000",
          "1992-06-30T00:00:00.000000000",
          "1992-07-31T00:00:00.000000000",
          "1992-08-31T00:00:00.000000000",
          "1992-09-30T00:00:00.000000000",
          "1992-10-31T00:00:00.000000000",
          "1992-11-30T00:00:00.000000000",
          "1992-12-31T00:00:00.000000000",
          "1993-01-31T00:00:00.000000000",
          "1993-02-28T00:00:00.000000000",
          "1993-03-31T00:00:00.000000000",
          "1993-04-30T00:00:00.000000000",
          "1993-05-31T00:00:00.000000000",
          "1993-06-30T00:00:00.000000000",
          "1993-07-31T00:00:00.000000000",
          "1993-08-31T00:00:00.000000000",
          "1993-09-30T00:00:00.000000000",
          "1993-10-31T00:00:00.000000000",
          "1993-11-30T00:00:00.000000000",
          "1993-12-31T00:00:00.000000000",
          "1994-01-31T00:00:00.000000000",
          "1994-02-28T00:00:00.000000000",
          "1994-03-31T00:00:00.000000000",
          "1994-04-30T00:00:00.000000000",
          "1994-05-31T00:00:00.000000000",
          "1994-06-30T00:00:00.000000000",
          "1994-07-31T00:00:00.000000000",
          "1994-08-31T00:00:00.000000000",
          "1994-09-30T00:00:00.000000000",
          "1994-10-31T00:00:00.000000000",
          "1994-11-30T00:00:00.000000000",
          "1994-12-31T00:00:00.000000000",
          "1995-01-31T00:00:00.000000000",
          "1995-02-28T00:00:00.000000000",
          "1995-03-31T00:00:00.000000000",
          "1995-04-30T00:00:00.000000000",
          "1995-05-31T00:00:00.000000000",
          "1995-06-30T00:00:00.000000000",
          "1995-07-31T00:00:00.000000000",
          "1995-08-31T00:00:00.000000000",
          "1995-09-30T00:00:00.000000000",
          "1995-10-31T00:00:00.000000000",
          "1995-11-30T00:00:00.000000000",
          "1995-12-31T00:00:00.000000000",
          "1996-01-31T00:00:00.000000000",
          "1996-02-29T00:00:00.000000000",
          "1996-03-31T00:00:00.000000000",
          "1996-04-30T00:00:00.000000000",
          "1996-05-31T00:00:00.000000000",
          "1996-06-30T00:00:00.000000000",
          "1996-07-31T00:00:00.000000000",
          "1996-08-31T00:00:00.000000000",
          "1996-09-30T00:00:00.000000000",
          "1996-10-31T00:00:00.000000000",
          "1996-11-30T00:00:00.000000000",
          "1996-12-31T00:00:00.000000000",
          "1997-01-31T00:00:00.000000000",
          "1997-02-28T00:00:00.000000000",
          "1997-03-31T00:00:00.000000000",
          "1997-04-30T00:00:00.000000000",
          "1997-05-31T00:00:00.000000000",
          "1997-06-30T00:00:00.000000000",
          "1997-07-31T00:00:00.000000000",
          "1997-08-31T00:00:00.000000000",
          "1997-09-30T00:00:00.000000000",
          "1997-10-31T00:00:00.000000000",
          "1997-11-30T00:00:00.000000000",
          "1997-12-31T00:00:00.000000000",
          "1998-01-31T00:00:00.000000000",
          "1998-02-28T00:00:00.000000000",
          "1998-03-31T00:00:00.000000000",
          "1998-04-30T00:00:00.000000000",
          "1998-05-31T00:00:00.000000000",
          "1998-06-30T00:00:00.000000000",
          "1998-07-31T00:00:00.000000000",
          "1998-08-31T00:00:00.000000000",
          "1998-09-30T00:00:00.000000000",
          "1998-10-31T00:00:00.000000000",
          "1998-11-30T00:00:00.000000000",
          "1998-12-31T00:00:00.000000000",
          "1999-01-31T00:00:00.000000000",
          "1999-02-28T00:00:00.000000000",
          "1999-03-31T00:00:00.000000000",
          "1999-04-30T00:00:00.000000000",
          "1999-05-31T00:00:00.000000000",
          "1999-06-30T00:00:00.000000000",
          "1999-07-31T00:00:00.000000000",
          "1999-08-31T00:00:00.000000000",
          "1999-09-30T00:00:00.000000000",
          "1999-10-31T00:00:00.000000000",
          "1999-11-30T00:00:00.000000000",
          "1999-12-31T00:00:00.000000000",
          "2000-01-31T00:00:00.000000000",
          "2000-02-29T00:00:00.000000000",
          "2000-03-31T00:00:00.000000000",
          "2000-04-30T00:00:00.000000000",
          "2000-05-31T00:00:00.000000000",
          "2000-06-30T00:00:00.000000000",
          "2000-07-31T00:00:00.000000000",
          "2000-08-31T00:00:00.000000000",
          "2000-09-30T00:00:00.000000000",
          "2000-10-31T00:00:00.000000000",
          "2000-11-30T00:00:00.000000000",
          "2000-12-31T00:00:00.000000000",
          "2001-01-31T00:00:00.000000000",
          "2001-02-28T00:00:00.000000000",
          "2001-03-31T00:00:00.000000000",
          "2001-04-30T00:00:00.000000000",
          "2001-05-31T00:00:00.000000000",
          "2001-06-30T00:00:00.000000000",
          "2001-07-31T00:00:00.000000000",
          "2001-08-31T00:00:00.000000000",
          "2001-09-30T00:00:00.000000000",
          "2001-10-31T00:00:00.000000000",
          "2001-11-30T00:00:00.000000000",
          "2001-12-31T00:00:00.000000000",
          "2002-01-31T00:00:00.000000000",
          "2002-02-28T00:00:00.000000000",
          "2002-03-31T00:00:00.000000000",
          "2002-04-30T00:00:00.000000000",
          "2002-05-31T00:00:00.000000000",
          "2002-06-30T00:00:00.000000000",
          "2002-07-31T00:00:00.000000000",
          "2002-08-31T00:00:00.000000000",
          "2002-09-30T00:00:00.000000000",
          "2002-10-31T00:00:00.000000000",
          "2002-11-30T00:00:00.000000000",
          "2002-12-31T00:00:00.000000000",
          "2003-01-31T00:00:00.000000000",
          "2003-02-28T00:00:00.000000000",
          "2003-03-31T00:00:00.000000000",
          "2003-04-30T00:00:00.000000000",
          "2003-05-31T00:00:00.000000000",
          "2003-06-30T00:00:00.000000000",
          "2003-07-31T00:00:00.000000000",
          "2003-08-31T00:00:00.000000000",
          "2003-09-30T00:00:00.000000000",
          "2003-10-31T00:00:00.000000000",
          "2003-11-30T00:00:00.000000000",
          "2003-12-31T00:00:00.000000000",
          "2004-01-31T00:00:00.000000000",
          "2004-02-29T00:00:00.000000000",
          "2004-03-31T00:00:00.000000000",
          "2004-04-30T00:00:00.000000000",
          "2004-05-31T00:00:00.000000000",
          "2004-06-30T00:00:00.000000000",
          "2004-07-31T00:00:00.000000000",
          "2004-08-31T00:00:00.000000000",
          "2004-09-30T00:00:00.000000000",
          "2004-10-31T00:00:00.000000000",
          "2004-11-30T00:00:00.000000000",
          "2004-12-31T00:00:00.000000000",
          "2005-01-31T00:00:00.000000000",
          "2005-02-28T00:00:00.000000000",
          "2005-03-31T00:00:00.000000000",
          "2005-04-30T00:00:00.000000000",
          "2005-05-31T00:00:00.000000000",
          "2005-06-30T00:00:00.000000000",
          "2005-07-31T00:00:00.000000000",
          "2005-08-31T00:00:00.000000000",
          "2005-09-30T00:00:00.000000000",
          "2005-10-31T00:00:00.000000000",
          "2005-11-30T00:00:00.000000000",
          "2005-12-31T00:00:00.000000000",
          "2006-01-31T00:00:00.000000000",
          "2006-02-28T00:00:00.000000000",
          "2006-03-31T00:00:00.000000000",
          "2006-04-30T00:00:00.000000000",
          "2006-05-31T00:00:00.000000000",
          "2006-06-30T00:00:00.000000000",
          "2006-07-31T00:00:00.000000000",
          "2006-08-31T00:00:00.000000000",
          "2006-09-30T00:00:00.000000000",
          "2006-10-31T00:00:00.000000000",
          "2006-11-30T00:00:00.000000000",
          "2006-12-31T00:00:00.000000000",
          "2007-01-31T00:00:00.000000000",
          "2007-02-28T00:00:00.000000000",
          "2007-03-31T00:00:00.000000000",
          "2007-04-30T00:00:00.000000000",
          "2007-05-31T00:00:00.000000000",
          "2007-06-30T00:00:00.000000000",
          "2007-07-31T00:00:00.000000000",
          "2007-08-31T00:00:00.000000000",
          "2007-09-30T00:00:00.000000000",
          "2007-10-31T00:00:00.000000000",
          "2007-11-30T00:00:00.000000000",
          "2007-12-31T00:00:00.000000000",
          "2008-01-31T00:00:00.000000000",
          "2008-02-29T00:00:00.000000000",
          "2008-03-31T00:00:00.000000000",
          "2008-04-30T00:00:00.000000000",
          "2008-05-31T00:00:00.000000000",
          "2008-06-30T00:00:00.000000000",
          "2008-07-31T00:00:00.000000000",
          "2008-08-31T00:00:00.000000000",
          "2008-09-30T00:00:00.000000000",
          "2008-10-31T00:00:00.000000000",
          "2008-11-30T00:00:00.000000000",
          "2008-12-31T00:00:00.000000000",
          "2009-01-31T00:00:00.000000000",
          "2009-02-28T00:00:00.000000000",
          "2009-03-31T00:00:00.000000000",
          "2009-04-30T00:00:00.000000000",
          "2009-05-31T00:00:00.000000000",
          "2009-06-30T00:00:00.000000000",
          "2009-07-31T00:00:00.000000000",
          "2009-08-31T00:00:00.000000000",
          "2009-09-30T00:00:00.000000000",
          "2009-10-31T00:00:00.000000000",
          "2009-11-30T00:00:00.000000000",
          "2009-12-31T00:00:00.000000000",
          "2010-01-31T00:00:00.000000000",
          "2010-02-28T00:00:00.000000000",
          "2010-03-31T00:00:00.000000000",
          "2010-04-30T00:00:00.000000000",
          "2010-05-31T00:00:00.000000000",
          "2010-06-30T00:00:00.000000000",
          "2010-07-31T00:00:00.000000000",
          "2010-08-31T00:00:00.000000000",
          "2010-09-30T00:00:00.000000000",
          "2010-10-31T00:00:00.000000000",
          "2010-11-30T00:00:00.000000000",
          "2010-12-31T00:00:00.000000000",
          "2011-01-31T00:00:00.000000000",
          "2011-02-28T00:00:00.000000000",
          "2011-03-31T00:00:00.000000000",
          "2011-04-30T00:00:00.000000000",
          "2011-05-31T00:00:00.000000000",
          "2011-06-30T00:00:00.000000000",
          "2011-07-31T00:00:00.000000000",
          "2011-08-31T00:00:00.000000000",
          "2011-09-30T00:00:00.000000000",
          "2011-10-31T00:00:00.000000000",
          "2011-11-30T00:00:00.000000000",
          "2011-12-31T00:00:00.000000000",
          "2012-01-31T00:00:00.000000000",
          "2012-02-29T00:00:00.000000000",
          "2012-03-31T00:00:00.000000000",
          "2012-04-30T00:00:00.000000000",
          "2012-05-31T00:00:00.000000000",
          "2012-06-30T00:00:00.000000000",
          "2012-07-31T00:00:00.000000000",
          "2012-08-31T00:00:00.000000000",
          "2012-09-30T00:00:00.000000000",
          "2012-10-31T00:00:00.000000000",
          "2012-11-30T00:00:00.000000000",
          "2012-12-31T00:00:00.000000000",
          "2013-01-31T00:00:00.000000000",
          "2013-02-28T00:00:00.000000000",
          "2013-03-31T00:00:00.000000000",
          "2013-04-30T00:00:00.000000000",
          "2013-05-31T00:00:00.000000000",
          "2013-06-30T00:00:00.000000000",
          "2013-07-31T00:00:00.000000000",
          "2013-08-31T00:00:00.000000000",
          "2013-09-30T00:00:00.000000000",
          "2013-10-31T00:00:00.000000000",
          "2013-11-30T00:00:00.000000000",
          "2013-12-31T00:00:00.000000000",
          "2014-01-31T00:00:00.000000000",
          "2014-02-28T00:00:00.000000000",
          "2014-03-31T00:00:00.000000000",
          "2014-04-30T00:00:00.000000000",
          "2014-05-31T00:00:00.000000000",
          "2014-06-30T00:00:00.000000000",
          "2014-07-31T00:00:00.000000000",
          "2014-08-31T00:00:00.000000000",
          "2014-09-30T00:00:00.000000000",
          "2014-10-31T00:00:00.000000000",
          "2014-11-30T00:00:00.000000000",
          "2014-12-31T00:00:00.000000000",
          "2015-01-31T00:00:00.000000000",
          "2015-02-28T00:00:00.000000000",
          "2015-03-31T00:00:00.000000000",
          "2015-04-30T00:00:00.000000000",
          "2015-05-31T00:00:00.000000000",
          "2015-06-30T00:00:00.000000000",
          "2015-07-31T00:00:00.000000000",
          "2015-08-31T00:00:00.000000000",
          "2015-09-30T00:00:00.000000000",
          "2015-10-31T00:00:00.000000000",
          "2015-11-30T00:00:00.000000000",
          "2015-12-31T00:00:00.000000000",
          "2016-01-31T00:00:00.000000000",
          "2016-02-29T00:00:00.000000000",
          "2016-03-31T00:00:00.000000000",
          "2016-04-30T00:00:00.000000000",
          "2016-05-31T00:00:00.000000000",
          "2016-06-30T00:00:00.000000000",
          "2016-07-31T00:00:00.000000000",
          "2016-08-31T00:00:00.000000000",
          "2016-09-30T00:00:00.000000000",
          "2016-10-31T00:00:00.000000000",
          "2016-11-30T00:00:00.000000000",
          "2016-12-31T00:00:00.000000000",
          "2017-01-31T00:00:00.000000000",
          "2017-02-28T00:00:00.000000000",
          "2017-03-31T00:00:00.000000000",
          "2017-04-30T00:00:00.000000000",
          "2017-05-31T00:00:00.000000000",
          "2017-06-30T00:00:00.000000000",
          "2017-07-31T00:00:00.000000000",
          "2017-08-31T00:00:00.000000000",
          "2017-09-30T00:00:00.000000000",
          "2017-10-31T00:00:00.000000000",
          "2017-11-30T00:00:00.000000000",
          "2017-12-31T00:00:00.000000000",
          "2018-01-31T00:00:00.000000000",
          "2018-02-28T00:00:00.000000000",
          "2018-03-31T00:00:00.000000000",
          "2018-04-30T00:00:00.000000000",
          "2018-05-31T00:00:00.000000000",
          "2018-06-30T00:00:00.000000000",
          "2018-07-31T00:00:00.000000000",
          "2018-08-31T00:00:00.000000000",
          "2018-09-30T00:00:00.000000000",
          "2018-10-31T00:00:00.000000000",
          "2018-11-30T00:00:00.000000000",
          "2018-12-31T00:00:00.000000000",
          "2019-01-31T00:00:00.000000000",
          "2019-02-28T00:00:00.000000000",
          "2019-03-31T00:00:00.000000000",
          "2019-04-30T00:00:00.000000000",
          "2019-05-31T00:00:00.000000000",
          "2019-06-30T00:00:00.000000000",
          "2019-07-31T00:00:00.000000000",
          "2019-08-31T00:00:00.000000000",
          "2019-09-30T00:00:00.000000000",
          "2019-10-31T00:00:00.000000000",
          "2019-11-30T00:00:00.000000000",
          "2019-12-31T00:00:00.000000000",
          "2020-01-31T00:00:00.000000000",
          "2020-02-29T00:00:00.000000000",
          "2020-03-31T00:00:00.000000000",
          "2020-04-30T00:00:00.000000000",
          "2020-05-31T00:00:00.000000000",
          "2020-06-30T00:00:00.000000000",
          "2020-07-31T00:00:00.000000000",
          "2020-08-31T00:00:00.000000000",
          "2020-09-30T00:00:00.000000000",
          "2020-10-31T00:00:00.000000000",
          "2020-11-30T00:00:00.000000000",
          "2020-12-31T00:00:00.000000000",
          "2021-01-31T00:00:00.000000000",
          "2021-02-28T00:00:00.000000000",
          "2021-03-31T00:00:00.000000000",
          "2021-04-30T00:00:00.000000000",
          "2021-05-31T00:00:00.000000000",
          "2021-06-30T00:00:00.000000000",
          "2021-07-31T00:00:00.000000000",
          "2021-08-31T00:00:00.000000000",
          "2021-09-30T00:00:00.000000000",
          "2021-10-31T00:00:00.000000000",
          "2021-11-30T00:00:00.000000000",
          "2021-12-31T00:00:00.000000000",
          "2022-01-31T00:00:00.000000000",
          "2022-02-28T00:00:00.000000000",
          "2022-03-31T00:00:00.000000000",
          "2022-04-30T00:00:00.000000000",
          "2022-05-31T00:00:00.000000000",
          "2022-06-30T00:00:00.000000000",
          "2022-07-31T00:00:00.000000000",
          "2022-08-31T00:00:00.000000000",
          "2022-09-30T00:00:00.000000000",
          "2022-10-31T00:00:00.000000000",
          "2022-11-30T00:00:00.000000000",
          "2022-12-31T00:00:00.000000000",
          "2023-01-31T00:00:00.000000000",
          "2023-02-28T00:00:00.000000000",
          "2023-03-31T00:00:00.000000000",
          "2023-04-30T00:00:00.000000000",
          "2023-05-31T00:00:00.000000000",
          "2023-06-30T00:00:00.000000000",
          "2023-07-31T00:00:00.000000000",
          "2023-08-31T00:00:00.000000000",
          "2023-09-30T00:00:00.000000000",
          "2023-10-31T00:00:00.000000000",
          "2023-11-30T00:00:00.000000000",
          "2023-12-31T00:00:00.000000000",
          "2024-01-31T00:00:00.000000000",
          "2024-02-29T00:00:00.000000000",
          "2024-03-31T00:00:00.000000000",
          "2024-04-30T00:00:00.000000000",
          "2024-05-31T00:00:00.000000000",
          "2024-06-30T00:00:00.000000000",
          "2024-07-31T00:00:00.000000000",
          "2024-08-31T00:00:00.000000000",
          "2024-09-30T00:00:00.000000000",
          "2024-10-31T00:00:00.000000000",
          "2024-11-30T00:00:00.000000000",
          "2024-12-31T00:00:00.000000000"
         ],
         "y": {
          "bdata": "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",
          "dtype": "f8"
         }
        },
        {
         "line": {
          "color": "red"
         },
         "mode": "lines",
         "name": "Output Gap",
         "type": "scatter",
         "x": [
          "1990-01-31T00:00:00.000000000",
          "1990-02-28T00:00:00.000000000",
          "1990-03-31T00:00:00.000000000",
          "1990-04-30T00:00:00.000000000",
          "1990-05-31T00:00:00.000000000",
          "1990-06-30T00:00:00.000000000",
          "1990-07-31T00:00:00.000000000",
          "1990-08-31T00:00:00.000000000",
          "1990-09-30T00:00:00.000000000",
          "1990-10-31T00:00:00.000000000",
          "1990-11-30T00:00:00.000000000",
          "1990-12-31T00:00:00.000000000",
          "1991-01-31T00:00:00.000000000",
          "1991-02-28T00:00:00.000000000",
          "1991-03-31T00:00:00.000000000",
          "1991-04-30T00:00:00.000000000",
          "1991-05-31T00:00:00.000000000",
          "1991-06-30T00:00:00.000000000",
          "1991-07-31T00:00:00.000000000",
          "1991-08-31T00:00:00.000000000",
          "1991-09-30T00:00:00.000000000",
          "1991-10-31T00:00:00.000000000",
          "1991-11-30T00:00:00.000000000",
          "1991-12-31T00:00:00.000000000",
          "1992-01-31T00:00:00.000000000",
          "1992-02-29T00:00:00.000000000",
          "1992-03-31T00:00:00.000000000",
          "1992-04-30T00:00:00.000000000",
          "1992-05-31T00:00:00.000000000",
          "1992-06-30T00:00:00.000000000",
          "1992-07-31T00:00:00.000000000",
          "1992-08-31T00:00:00.000000000",
          "1992-09-30T00:00:00.000000000",
          "1992-10-31T00:00:00.000000000",
          "1992-11-30T00:00:00.000000000",
          "1992-12-31T00:00:00.000000000",
          "1993-01-31T00:00:00.000000000",
          "1993-02-28T00:00:00.000000000",
          "1993-03-31T00:00:00.000000000",
          "1993-04-30T00:00:00.000000000",
          "1993-05-31T00:00:00.000000000",
          "1993-06-30T00:00:00.000000000",
          "1993-07-31T00:00:00.000000000",
          "1993-08-31T00:00:00.000000000",
          "1993-09-30T00:00:00.000000000",
          "1993-10-31T00:00:00.000000000",
          "1993-11-30T00:00:00.000000000",
          "1993-12-31T00:00:00.000000000",
          "1994-01-31T00:00:00.000000000",
          "1994-02-28T00:00:00.000000000",
          "1994-03-31T00:00:00.000000000",
          "1994-04-30T00:00:00.000000000",
          "1994-05-31T00:00:00.000000000",
          "1994-06-30T00:00:00.000000000",
          "1994-07-31T00:00:00.000000000",
          "1994-08-31T00:00:00.000000000",
          "1994-09-30T00:00:00.000000000",
          "1994-10-31T00:00:00.000000000",
          "1994-11-30T00:00:00.000000000",
          "1994-12-31T00:00:00.000000000",
          "1995-01-31T00:00:00.000000000",
          "1995-02-28T00:00:00.000000000",
          "1995-03-31T00:00:00.000000000",
          "1995-04-30T00:00:00.000000000",
          "1995-05-31T00:00:00.000000000",
          "1995-06-30T00:00:00.000000000",
          "1995-07-31T00:00:00.000000000",
          "1995-08-31T00:00:00.000000000",
          "1995-09-30T00:00:00.000000000",
          "1995-10-31T00:00:00.000000000",
          "1995-11-30T00:00:00.000000000",
          "1995-12-31T00:00:00.000000000",
          "1996-01-31T00:00:00.000000000",
          "1996-02-29T00:00:00.000000000",
          "1996-03-31T00:00:00.000000000",
          "1996-04-30T00:00:00.000000000",
          "1996-05-31T00:00:00.000000000",
          "1996-06-30T00:00:00.000000000",
          "1996-07-31T00:00:00.000000000",
          "1996-08-31T00:00:00.000000000",
          "1996-09-30T00:00:00.000000000",
          "1996-10-31T00:00:00.000000000",
          "1996-11-30T00:00:00.000000000",
          "1996-12-31T00:00:00.000000000",
          "1997-01-31T00:00:00.000000000",
          "1997-02-28T00:00:00.000000000",
          "1997-03-31T00:00:00.000000000",
          "1997-04-30T00:00:00.000000000",
          "1997-05-31T00:00:00.000000000",
          "1997-06-30T00:00:00.000000000",
          "1997-07-31T00:00:00.000000000",
          "1997-08-31T00:00:00.000000000",
          "1997-09-30T00:00:00.000000000",
          "1997-10-31T00:00:00.000000000",
          "1997-11-30T00:00:00.000000000",
          "1997-12-31T00:00:00.000000000",
          "1998-01-31T00:00:00.000000000",
          "1998-02-28T00:00:00.000000000",
          "1998-03-31T00:00:00.000000000",
          "1998-04-30T00:00:00.000000000",
          "1998-05-31T00:00:00.000000000",
          "1998-06-30T00:00:00.000000000",
          "1998-07-31T00:00:00.000000000",
          "1998-08-31T00:00:00.000000000",
          "1998-09-30T00:00:00.000000000",
          "1998-10-31T00:00:00.000000000",
          "1998-11-30T00:00:00.000000000",
          "1998-12-31T00:00:00.000000000",
          "1999-01-31T00:00:00.000000000",
          "1999-02-28T00:00:00.000000000",
          "1999-03-31T00:00:00.000000000",
          "1999-04-30T00:00:00.000000000",
          "1999-05-31T00:00:00.000000000",
          "1999-06-30T00:00:00.000000000",
          "1999-07-31T00:00:00.000000000",
          "1999-08-31T00:00:00.000000000",
          "1999-09-30T00:00:00.000000000",
          "1999-10-31T00:00:00.000000000",
          "1999-11-30T00:00:00.000000000",
          "1999-12-31T00:00:00.000000000",
          "2000-01-31T00:00:00.000000000",
          "2000-02-29T00:00:00.000000000",
          "2000-03-31T00:00:00.000000000",
          "2000-04-30T00:00:00.000000000",
          "2000-05-31T00:00:00.000000000",
          "2000-06-30T00:00:00.000000000",
          "2000-07-31T00:00:00.000000000",
          "2000-08-31T00:00:00.000000000",
          "2000-09-30T00:00:00.000000000",
          "2000-10-31T00:00:00.000000000",
          "2000-11-30T00:00:00.000000000",
          "2000-12-31T00:00:00.000000000",
          "2001-01-31T00:00:00.000000000",
          "2001-02-28T00:00:00.000000000",
          "2001-03-31T00:00:00.000000000",
          "2001-04-30T00:00:00.000000000",
          "2001-05-31T00:00:00.000000000",
          "2001-06-30T00:00:00.000000000",
          "2001-07-31T00:00:00.000000000",
          "2001-08-31T00:00:00.000000000",
          "2001-09-30T00:00:00.000000000",
          "2001-10-31T00:00:00.000000000",
          "2001-11-30T00:00:00.000000000",
          "2001-12-31T00:00:00.000000000",
          "2002-01-31T00:00:00.000000000",
          "2002-02-28T00:00:00.000000000",
          "2002-03-31T00:00:00.000000000",
          "2002-04-30T00:00:00.000000000",
          "2002-05-31T00:00:00.000000000",
          "2002-06-30T00:00:00.000000000",
          "2002-07-31T00:00:00.000000000",
          "2002-08-31T00:00:00.000000000",
          "2002-09-30T00:00:00.000000000",
          "2002-10-31T00:00:00.000000000",
          "2002-11-30T00:00:00.000000000",
          "2002-12-31T00:00:00.000000000",
          "2003-01-31T00:00:00.000000000",
          "2003-02-28T00:00:00.000000000",
          "2003-03-31T00:00:00.000000000",
          "2003-04-30T00:00:00.000000000",
          "2003-05-31T00:00:00.000000000",
          "2003-06-30T00:00:00.000000000",
          "2003-07-31T00:00:00.000000000",
          "2003-08-31T00:00:00.000000000",
          "2003-09-30T00:00:00.000000000",
          "2003-10-31T00:00:00.000000000",
          "2003-11-30T00:00:00.000000000",
          "2003-12-31T00:00:00.000000000",
          "2004-01-31T00:00:00.000000000",
          "2004-02-29T00:00:00.000000000",
          "2004-03-31T00:00:00.000000000",
          "2004-04-30T00:00:00.000000000",
          "2004-05-31T00:00:00.000000000",
          "2004-06-30T00:00:00.000000000",
          "2004-07-31T00:00:00.000000000",
          "2004-08-31T00:00:00.000000000",
          "2004-09-30T00:00:00.000000000",
          "2004-10-31T00:00:00.000000000",
          "2004-11-30T00:00:00.000000000",
          "2004-12-31T00:00:00.000000000",
          "2005-01-31T00:00:00.000000000",
          "2005-02-28T00:00:00.000000000",
          "2005-03-31T00:00:00.000000000",
          "2005-04-30T00:00:00.000000000",
          "2005-05-31T00:00:00.000000000",
          "2005-06-30T00:00:00.000000000",
          "2005-07-31T00:00:00.000000000",
          "2005-08-31T00:00:00.000000000",
          "2005-09-30T00:00:00.000000000",
          "2005-10-31T00:00:00.000000000",
          "2005-11-30T00:00:00.000000000",
          "2005-12-31T00:00:00.000000000",
          "2006-01-31T00:00:00.000000000",
          "2006-02-28T00:00:00.000000000",
          "2006-03-31T00:00:00.000000000",
          "2006-04-30T00:00:00.000000000",
          "2006-05-31T00:00:00.000000000",
          "2006-06-30T00:00:00.000000000",
          "2006-07-31T00:00:00.000000000",
          "2006-08-31T00:00:00.000000000",
          "2006-09-30T00:00:00.000000000",
          "2006-10-31T00:00:00.000000000",
          "2006-11-30T00:00:00.000000000",
          "2006-12-31T00:00:00.000000000",
          "2007-01-31T00:00:00.000000000",
          "2007-02-28T00:00:00.000000000",
          "2007-03-31T00:00:00.000000000",
          "2007-04-30T00:00:00.000000000",
          "2007-05-31T00:00:00.000000000",
          "2007-06-30T00:00:00.000000000",
          "2007-07-31T00:00:00.000000000",
          "2007-08-31T00:00:00.000000000",
          "2007-09-30T00:00:00.000000000",
          "2007-10-31T00:00:00.000000000",
          "2007-11-30T00:00:00.000000000",
          "2007-12-31T00:00:00.000000000",
          "2008-01-31T00:00:00.000000000",
          "2008-02-29T00:00:00.000000000",
          "2008-03-31T00:00:00.000000000",
          "2008-04-30T00:00:00.000000000",
          "2008-05-31T00:00:00.000000000",
          "2008-06-30T00:00:00.000000000",
          "2008-07-31T00:00:00.000000000",
          "2008-08-31T00:00:00.000000000",
          "2008-09-30T00:00:00.000000000",
          "2008-10-31T00:00:00.000000000",
          "2008-11-30T00:00:00.000000000",
          "2008-12-31T00:00:00.000000000",
          "2009-01-31T00:00:00.000000000",
          "2009-02-28T00:00:00.000000000",
          "2009-03-31T00:00:00.000000000",
          "2009-04-30T00:00:00.000000000",
          "2009-05-31T00:00:00.000000000",
          "2009-06-30T00:00:00.000000000",
          "2009-07-31T00:00:00.000000000",
          "2009-08-31T00:00:00.000000000",
          "2009-09-30T00:00:00.000000000",
          "2009-10-31T00:00:00.000000000",
          "2009-11-30T00:00:00.000000000",
          "2009-12-31T00:00:00.000000000",
          "2010-01-31T00:00:00.000000000",
          "2010-02-28T00:00:00.000000000",
          "2010-03-31T00:00:00.000000000",
          "2010-04-30T00:00:00.000000000",
          "2010-05-31T00:00:00.000000000",
          "2010-06-30T00:00:00.000000000",
          "2010-07-31T00:00:00.000000000",
          "2010-08-31T00:00:00.000000000",
          "2010-09-30T00:00:00.000000000",
          "2010-10-31T00:00:00.000000000",
          "2010-11-30T00:00:00.000000000",
          "2010-12-31T00:00:00.000000000",
          "2011-01-31T00:00:00.000000000",
          "2011-02-28T00:00:00.000000000",
          "2011-03-31T00:00:00.000000000",
          "2011-04-30T00:00:00.000000000",
          "2011-05-31T00:00:00.000000000",
          "2011-06-30T00:00:00.000000000",
          "2011-07-31T00:00:00.000000000",
          "2011-08-31T00:00:00.000000000",
          "2011-09-30T00:00:00.000000000",
          "2011-10-31T00:00:00.000000000",
          "2011-11-30T00:00:00.000000000",
          "2011-12-31T00:00:00.000000000",
          "2012-01-31T00:00:00.000000000",
          "2012-02-29T00:00:00.000000000",
          "2012-03-31T00:00:00.000000000",
          "2012-04-30T00:00:00.000000000",
          "2012-05-31T00:00:00.000000000",
          "2012-06-30T00:00:00.000000000",
          "2012-07-31T00:00:00.000000000",
          "2012-08-31T00:00:00.000000000",
          "2012-09-30T00:00:00.000000000",
          "2012-10-31T00:00:00.000000000",
          "2012-11-30T00:00:00.000000000",
          "2012-12-31T00:00:00.000000000",
          "2013-01-31T00:00:00.000000000",
          "2013-02-28T00:00:00.000000000",
          "2013-03-31T00:00:00.000000000",
          "2013-04-30T00:00:00.000000000",
          "2013-05-31T00:00:00.000000000",
          "2013-06-30T00:00:00.000000000",
          "2013-07-31T00:00:00.000000000",
          "2013-08-31T00:00:00.000000000",
          "2013-09-30T00:00:00.000000000",
          "2013-10-31T00:00:00.000000000",
          "2013-11-30T00:00:00.000000000",
          "2013-12-31T00:00:00.000000000",
          "2014-01-31T00:00:00.000000000",
          "2014-02-28T00:00:00.000000000",
          "2014-03-31T00:00:00.000000000",
          "2014-04-30T00:00:00.000000000",
          "2014-05-31T00:00:00.000000000",
          "2014-06-30T00:00:00.000000000",
          "2014-07-31T00:00:00.000000000",
          "2014-08-31T00:00:00.000000000",
          "2014-09-30T00:00:00.000000000",
          "2014-10-31T00:00:00.000000000",
          "2014-11-30T00:00:00.000000000",
          "2014-12-31T00:00:00.000000000",
          "2015-01-31T00:00:00.000000000",
          "2015-02-28T00:00:00.000000000",
          "2015-03-31T00:00:00.000000000",
          "2015-04-30T00:00:00.000000000",
          "2015-05-31T00:00:00.000000000",
          "2015-06-30T00:00:00.000000000",
          "2015-07-31T00:00:00.000000000",
          "2015-08-31T00:00:00.000000000",
          "2015-09-30T00:00:00.000000000",
          "2015-10-31T00:00:00.000000000",
          "2015-11-30T00:00:00.000000000",
          "2015-12-31T00:00:00.000000000",
          "2016-01-31T00:00:00.000000000",
          "2016-02-29T00:00:00.000000000",
          "2016-03-31T00:00:00.000000000",
          "2016-04-30T00:00:00.000000000",
          "2016-05-31T00:00:00.000000000",
          "2016-06-30T00:00:00.000000000",
          "2016-07-31T00:00:00.000000000",
          "2016-08-31T00:00:00.000000000",
          "2016-09-30T00:00:00.000000000",
          "2016-10-31T00:00:00.000000000",
          "2016-11-30T00:00:00.000000000",
          "2016-12-31T00:00:00.000000000",
          "2017-01-31T00:00:00.000000000",
          "2017-02-28T00:00:00.000000000",
          "2017-03-31T00:00:00.000000000",
          "2017-04-30T00:00:00.000000000",
          "2017-05-31T00:00:00.000000000",
          "2017-06-30T00:00:00.000000000",
          "2017-07-31T00:00:00.000000000",
          "2017-08-31T00:00:00.000000000",
          "2017-09-30T00:00:00.000000000",
          "2017-10-31T00:00:00.000000000",
          "2017-11-30T00:00:00.000000000",
          "2017-12-31T00:00:00.000000000",
          "2018-01-31T00:00:00.000000000",
          "2018-02-28T00:00:00.000000000",
          "2018-03-31T00:00:00.000000000",
          "2018-04-30T00:00:00.000000000",
          "2018-05-31T00:00:00.000000000",
          "2018-06-30T00:00:00.000000000",
          "2018-07-31T00:00:00.000000000",
          "2018-08-31T00:00:00.000000000",
          "2018-09-30T00:00:00.000000000",
          "2018-10-31T00:00:00.000000000",
          "2018-11-30T00:00:00.000000000",
          "2018-12-31T00:00:00.000000000",
          "2019-01-31T00:00:00.000000000",
          "2019-02-28T00:00:00.000000000",
          "2019-03-31T00:00:00.000000000",
          "2019-04-30T00:00:00.000000000",
          "2019-05-31T00:00:00.000000000",
          "2019-06-30T00:00:00.000000000",
          "2019-07-31T00:00:00.000000000",
          "2019-08-31T00:00:00.000000000",
          "2019-09-30T00:00:00.000000000",
          "2019-10-31T00:00:00.000000000",
          "2019-11-30T00:00:00.000000000",
          "2019-12-31T00:00:00.000000000",
          "2020-01-31T00:00:00.000000000",
          "2020-02-29T00:00:00.000000000",
          "2020-03-31T00:00:00.000000000",
          "2020-04-30T00:00:00.000000000",
          "2020-05-31T00:00:00.000000000",
          "2020-06-30T00:00:00.000000000",
          "2020-07-31T00:00:00.000000000",
          "2020-08-31T00:00:00.000000000",
          "2020-09-30T00:00:00.000000000",
          "2020-10-31T00:00:00.000000000",
          "2020-11-30T00:00:00.000000000",
          "2020-12-31T00:00:00.000000000",
          "2021-01-31T00:00:00.000000000",
          "2021-02-28T00:00:00.000000000",
          "2021-03-31T00:00:00.000000000",
          "2021-04-30T00:00:00.000000000",
          "2021-05-31T00:00:00.000000000",
          "2021-06-30T00:00:00.000000000",
          "2021-07-31T00:00:00.000000000",
          "2021-08-31T00:00:00.000000000",
          "2021-09-30T00:00:00.000000000",
          "2021-10-31T00:00:00.000000000",
          "2021-11-30T00:00:00.000000000",
          "2021-12-31T00:00:00.000000000",
          "2022-01-31T00:00:00.000000000",
          "2022-02-28T00:00:00.000000000",
          "2022-03-31T00:00:00.000000000",
          "2022-04-30T00:00:00.000000000",
          "2022-05-31T00:00:00.000000000",
          "2022-06-30T00:00:00.000000000",
          "2022-07-31T00:00:00.000000000",
          "2022-08-31T00:00:00.000000000",
          "2022-09-30T00:00:00.000000000",
          "2022-10-31T00:00:00.000000000",
          "2022-11-30T00:00:00.000000000",
          "2022-12-31T00:00:00.000000000",
          "2023-01-31T00:00:00.000000000",
          "2023-02-28T00:00:00.000000000",
          "2023-03-31T00:00:00.000000000",
          "2023-04-30T00:00:00.000000000",
          "2023-05-31T00:00:00.000000000",
          "2023-06-30T00:00:00.000000000",
          "2023-07-31T00:00:00.000000000",
          "2023-08-31T00:00:00.000000000",
          "2023-09-30T00:00:00.000000000",
          "2023-10-31T00:00:00.000000000",
          "2023-11-30T00:00:00.000000000",
          "2023-12-31T00:00:00.000000000",
          "2024-01-31T00:00:00.000000000",
          "2024-02-29T00:00:00.000000000",
          "2024-03-31T00:00:00.000000000",
          "2024-04-30T00:00:00.000000000",
          "2024-05-31T00:00:00.000000000",
          "2024-06-30T00:00:00.000000000",
          "2024-07-31T00:00:00.000000000",
          "2024-08-31T00:00:00.000000000",
          "2024-09-30T00:00:00.000000000",
          "2024-10-31T00:00:00.000000000",
          "2024-11-30T00:00:00.000000000",
          "2024-12-31T00:00:00.000000000"
         ],
         "y": {
          "bdata": "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",
          "dtype": "f8"
         }
        },
        {
         "line": {
          "color": "green"
         },
         "mode": "lines",
         "name": "SA Output Gap",
         "type": "scatter",
         "x": [
          "1990-01-31T00:00:00.000000000",
          "1990-02-28T00:00:00.000000000",
          "1990-03-31T00:00:00.000000000",
          "1990-04-30T00:00:00.000000000",
          "1990-05-31T00:00:00.000000000",
          "1990-06-30T00:00:00.000000000",
          "1990-07-31T00:00:00.000000000",
          "1990-08-31T00:00:00.000000000",
          "1990-09-30T00:00:00.000000000",
          "1990-10-31T00:00:00.000000000",
          "1990-11-30T00:00:00.000000000",
          "1990-12-31T00:00:00.000000000",
          "1991-01-31T00:00:00.000000000",
          "1991-02-28T00:00:00.000000000",
          "1991-03-31T00:00:00.000000000",
          "1991-04-30T00:00:00.000000000",
          "1991-05-31T00:00:00.000000000",
          "1991-06-30T00:00:00.000000000",
          "1991-07-31T00:00:00.000000000",
          "1991-08-31T00:00:00.000000000",
          "1991-09-30T00:00:00.000000000",
          "1991-10-31T00:00:00.000000000",
          "1991-11-30T00:00:00.000000000",
          "1991-12-31T00:00:00.000000000",
          "1992-01-31T00:00:00.000000000",
          "1992-02-29T00:00:00.000000000",
          "1992-03-31T00:00:00.000000000",
          "1992-04-30T00:00:00.000000000",
          "1992-05-31T00:00:00.000000000",
          "1992-06-30T00:00:00.000000000",
          "1992-07-31T00:00:00.000000000",
          "1992-08-31T00:00:00.000000000",
          "1992-09-30T00:00:00.000000000",
          "1992-10-31T00:00:00.000000000",
          "1992-11-30T00:00:00.000000000",
          "1992-12-31T00:00:00.000000000",
          "1993-01-31T00:00:00.000000000",
          "1993-02-28T00:00:00.000000000",
          "1993-03-31T00:00:00.000000000",
          "1993-04-30T00:00:00.000000000",
          "1993-05-31T00:00:00.000000000",
          "1993-06-30T00:00:00.000000000",
          "1993-07-31T00:00:00.000000000",
          "1993-08-31T00:00:00.000000000",
          "1993-09-30T00:00:00.000000000",
          "1993-10-31T00:00:00.000000000",
          "1993-11-30T00:00:00.000000000",
          "1993-12-31T00:00:00.000000000",
          "1994-01-31T00:00:00.000000000",
          "1994-02-28T00:00:00.000000000",
          "1994-03-31T00:00:00.000000000",
          "1994-04-30T00:00:00.000000000",
          "1994-05-31T00:00:00.000000000",
          "1994-06-30T00:00:00.000000000",
          "1994-07-31T00:00:00.000000000",
          "1994-08-31T00:00:00.000000000",
          "1994-09-30T00:00:00.000000000",
          "1994-10-31T00:00:00.000000000",
          "1994-11-30T00:00:00.000000000",
          "1994-12-31T00:00:00.000000000",
          "1995-01-31T00:00:00.000000000",
          "1995-02-28T00:00:00.000000000",
          "1995-03-31T00:00:00.000000000",
          "1995-04-30T00:00:00.000000000",
          "1995-05-31T00:00:00.000000000",
          "1995-06-30T00:00:00.000000000",
          "1995-07-31T00:00:00.000000000",
          "1995-08-31T00:00:00.000000000",
          "1995-09-30T00:00:00.000000000",
          "1995-10-31T00:00:00.000000000",
          "1995-11-30T00:00:00.000000000",
          "1995-12-31T00:00:00.000000000",
          "1996-01-31T00:00:00.000000000",
          "1996-02-29T00:00:00.000000000",
          "1996-03-31T00:00:00.000000000",
          "1996-04-30T00:00:00.000000000",
          "1996-05-31T00:00:00.000000000",
          "1996-06-30T00:00:00.000000000",
          "1996-07-31T00:00:00.000000000",
          "1996-08-31T00:00:00.000000000",
          "1996-09-30T00:00:00.000000000",
          "1996-10-31T00:00:00.000000000",
          "1996-11-30T00:00:00.000000000",
          "1996-12-31T00:00:00.000000000",
          "1997-01-31T00:00:00.000000000",
          "1997-02-28T00:00:00.000000000",
          "1997-03-31T00:00:00.000000000",
          "1997-04-30T00:00:00.000000000",
          "1997-05-31T00:00:00.000000000",
          "1997-06-30T00:00:00.000000000",
          "1997-07-31T00:00:00.000000000",
          "1997-08-31T00:00:00.000000000",
          "1997-09-30T00:00:00.000000000",
          "1997-10-31T00:00:00.000000000",
          "1997-11-30T00:00:00.000000000",
          "1997-12-31T00:00:00.000000000",
          "1998-01-31T00:00:00.000000000",
          "1998-02-28T00:00:00.000000000",
          "1998-03-31T00:00:00.000000000",
          "1998-04-30T00:00:00.000000000",
          "1998-05-31T00:00:00.000000000",
          "1998-06-30T00:00:00.000000000",
          "1998-07-31T00:00:00.000000000",
          "1998-08-31T00:00:00.000000000",
          "1998-09-30T00:00:00.000000000",
          "1998-10-31T00:00:00.000000000",
          "1998-11-30T00:00:00.000000000",
          "1998-12-31T00:00:00.000000000",
          "1999-01-31T00:00:00.000000000",
          "1999-02-28T00:00:00.000000000",
          "1999-03-31T00:00:00.000000000",
          "1999-04-30T00:00:00.000000000",
          "1999-05-31T00:00:00.000000000",
          "1999-06-30T00:00:00.000000000",
          "1999-07-31T00:00:00.000000000",
          "1999-08-31T00:00:00.000000000",
          "1999-09-30T00:00:00.000000000",
          "1999-10-31T00:00:00.000000000",
          "1999-11-30T00:00:00.000000000",
          "1999-12-31T00:00:00.000000000",
          "2000-01-31T00:00:00.000000000",
          "2000-02-29T00:00:00.000000000",
          "2000-03-31T00:00:00.000000000",
          "2000-04-30T00:00:00.000000000",
          "2000-05-31T00:00:00.000000000",
          "2000-06-30T00:00:00.000000000",
          "2000-07-31T00:00:00.000000000",
          "2000-08-31T00:00:00.000000000",
          "2000-09-30T00:00:00.000000000",
          "2000-10-31T00:00:00.000000000",
          "2000-11-30T00:00:00.000000000",
          "2000-12-31T00:00:00.000000000",
          "2001-01-31T00:00:00.000000000",
          "2001-02-28T00:00:00.000000000",
          "2001-03-31T00:00:00.000000000",
          "2001-04-30T00:00:00.000000000",
          "2001-05-31T00:00:00.000000000",
          "2001-06-30T00:00:00.000000000",
          "2001-07-31T00:00:00.000000000",
          "2001-08-31T00:00:00.000000000",
          "2001-09-30T00:00:00.000000000",
          "2001-10-31T00:00:00.000000000",
          "2001-11-30T00:00:00.000000000",
          "2001-12-31T00:00:00.000000000",
          "2002-01-31T00:00:00.000000000",
          "2002-02-28T00:00:00.000000000",
          "2002-03-31T00:00:00.000000000",
          "2002-04-30T00:00:00.000000000",
          "2002-05-31T00:00:00.000000000",
          "2002-06-30T00:00:00.000000000",
          "2002-07-31T00:00:00.000000000",
          "2002-08-31T00:00:00.000000000",
          "2002-09-30T00:00:00.000000000",
          "2002-10-31T00:00:00.000000000",
          "2002-11-30T00:00:00.000000000",
          "2002-12-31T00:00:00.000000000",
          "2003-01-31T00:00:00.000000000",
          "2003-02-28T00:00:00.000000000",
          "2003-03-31T00:00:00.000000000",
          "2003-04-30T00:00:00.000000000",
          "2003-05-31T00:00:00.000000000",
          "2003-06-30T00:00:00.000000000",
          "2003-07-31T00:00:00.000000000",
          "2003-08-31T00:00:00.000000000",
          "2003-09-30T00:00:00.000000000",
          "2003-10-31T00:00:00.000000000",
          "2003-11-30T00:00:00.000000000",
          "2003-12-31T00:00:00.000000000",
          "2004-01-31T00:00:00.000000000",
          "2004-02-29T00:00:00.000000000",
          "2004-03-31T00:00:00.000000000",
          "2004-04-30T00:00:00.000000000",
          "2004-05-31T00:00:00.000000000",
          "2004-06-30T00:00:00.000000000",
          "2004-07-31T00:00:00.000000000",
          "2004-08-31T00:00:00.000000000",
          "2004-09-30T00:00:00.000000000",
          "2004-10-31T00:00:00.000000000",
          "2004-11-30T00:00:00.000000000",
          "2004-12-31T00:00:00.000000000",
          "2005-01-31T00:00:00.000000000",
          "2005-02-28T00:00:00.000000000",
          "2005-03-31T00:00:00.000000000",
          "2005-04-30T00:00:00.000000000",
          "2005-05-31T00:00:00.000000000",
          "2005-06-30T00:00:00.000000000",
          "2005-07-31T00:00:00.000000000",
          "2005-08-31T00:00:00.000000000",
          "2005-09-30T00:00:00.000000000",
          "2005-10-31T00:00:00.000000000",
          "2005-11-30T00:00:00.000000000",
          "2005-12-31T00:00:00.000000000",
          "2006-01-31T00:00:00.000000000",
          "2006-02-28T00:00:00.000000000",
          "2006-03-31T00:00:00.000000000",
          "2006-04-30T00:00:00.000000000",
          "2006-05-31T00:00:00.000000000",
          "2006-06-30T00:00:00.000000000",
          "2006-07-31T00:00:00.000000000",
          "2006-08-31T00:00:00.000000000",
          "2006-09-30T00:00:00.000000000",
          "2006-10-31T00:00:00.000000000",
          "2006-11-30T00:00:00.000000000",
          "2006-12-31T00:00:00.000000000",
          "2007-01-31T00:00:00.000000000",
          "2007-02-28T00:00:00.000000000",
          "2007-03-31T00:00:00.000000000",
          "2007-04-30T00:00:00.000000000",
          "2007-05-31T00:00:00.000000000",
          "2007-06-30T00:00:00.000000000",
          "2007-07-31T00:00:00.000000000",
          "2007-08-31T00:00:00.000000000",
          "2007-09-30T00:00:00.000000000",
          "2007-10-31T00:00:00.000000000",
          "2007-11-30T00:00:00.000000000",
          "2007-12-31T00:00:00.000000000",
          "2008-01-31T00:00:00.000000000",
          "2008-02-29T00:00:00.000000000",
          "2008-03-31T00:00:00.000000000",
          "2008-04-30T00:00:00.000000000",
          "2008-05-31T00:00:00.000000000",
          "2008-06-30T00:00:00.000000000",
          "2008-07-31T00:00:00.000000000",
          "2008-08-31T00:00:00.000000000",
          "2008-09-30T00:00:00.000000000",
          "2008-10-31T00:00:00.000000000",
          "2008-11-30T00:00:00.000000000",
          "2008-12-31T00:00:00.000000000",
          "2009-01-31T00:00:00.000000000",
          "2009-02-28T00:00:00.000000000",
          "2009-03-31T00:00:00.000000000",
          "2009-04-30T00:00:00.000000000",
          "2009-05-31T00:00:00.000000000",
          "2009-06-30T00:00:00.000000000",
          "2009-07-31T00:00:00.000000000",
          "2009-08-31T00:00:00.000000000",
          "2009-09-30T00:00:00.000000000",
          "2009-10-31T00:00:00.000000000",
          "2009-11-30T00:00:00.000000000",
          "2009-12-31T00:00:00.000000000",
          "2010-01-31T00:00:00.000000000",
          "2010-02-28T00:00:00.000000000",
          "2010-03-31T00:00:00.000000000",
          "2010-04-30T00:00:00.000000000",
          "2010-05-31T00:00:00.000000000",
          "2010-06-30T00:00:00.000000000",
          "2010-07-31T00:00:00.000000000",
          "2010-08-31T00:00:00.000000000",
          "2010-09-30T00:00:00.000000000",
          "2010-10-31T00:00:00.000000000",
          "2010-11-30T00:00:00.000000000",
          "2010-12-31T00:00:00.000000000",
          "2011-01-31T00:00:00.000000000",
          "2011-02-28T00:00:00.000000000",
          "2011-03-31T00:00:00.000000000",
          "2011-04-30T00:00:00.000000000",
          "2011-05-31T00:00:00.000000000",
          "2011-06-30T00:00:00.000000000",
          "2011-07-31T00:00:00.000000000",
          "2011-08-31T00:00:00.000000000",
          "2011-09-30T00:00:00.000000000",
          "2011-10-31T00:00:00.000000000",
          "2011-11-30T00:00:00.000000000",
          "2011-12-31T00:00:00.000000000",
          "2012-01-31T00:00:00.000000000",
          "2012-02-29T00:00:00.000000000",
          "2012-03-31T00:00:00.000000000",
          "2012-04-30T00:00:00.000000000",
          "2012-05-31T00:00:00.000000000",
          "2012-06-30T00:00:00.000000000",
          "2012-07-31T00:00:00.000000000",
          "2012-08-31T00:00:00.000000000",
          "2012-09-30T00:00:00.000000000",
          "2012-10-31T00:00:00.000000000",
          "2012-11-30T00:00:00.000000000",
          "2012-12-31T00:00:00.000000000",
          "2013-01-31T00:00:00.000000000",
          "2013-02-28T00:00:00.000000000",
          "2013-03-31T00:00:00.000000000",
          "2013-04-30T00:00:00.000000000",
          "2013-05-31T00:00:00.000000000",
          "2013-06-30T00:00:00.000000000",
          "2013-07-31T00:00:00.000000000",
          "2013-08-31T00:00:00.000000000",
          "2013-09-30T00:00:00.000000000",
          "2013-10-31T00:00:00.000000000",
          "2013-11-30T00:00:00.000000000",
          "2013-12-31T00:00:00.000000000",
          "2014-01-31T00:00:00.000000000",
          "2014-02-28T00:00:00.000000000",
          "2014-03-31T00:00:00.000000000",
          "2014-04-30T00:00:00.000000000",
          "2014-05-31T00:00:00.000000000",
          "2014-06-30T00:00:00.000000000",
          "2014-07-31T00:00:00.000000000",
          "2014-08-31T00:00:00.000000000",
          "2014-09-30T00:00:00.000000000",
          "2014-10-31T00:00:00.000000000",
          "2014-11-30T00:00:00.000000000",
          "2014-12-31T00:00:00.000000000",
          "2015-01-31T00:00:00.000000000",
          "2015-02-28T00:00:00.000000000",
          "2015-03-31T00:00:00.000000000",
          "2015-04-30T00:00:00.000000000",
          "2015-05-31T00:00:00.000000000",
          "2015-06-30T00:00:00.000000000",
          "2015-07-31T00:00:00.000000000",
          "2015-08-31T00:00:00.000000000",
          "2015-09-30T00:00:00.000000000",
          "2015-10-31T00:00:00.000000000",
          "2015-11-30T00:00:00.000000000",
          "2015-12-31T00:00:00.000000000",
          "2016-01-31T00:00:00.000000000",
          "2016-02-29T00:00:00.000000000",
          "2016-03-31T00:00:00.000000000",
          "2016-04-30T00:00:00.000000000",
          "2016-05-31T00:00:00.000000000",
          "2016-06-30T00:00:00.000000000",
          "2016-07-31T00:00:00.000000000",
          "2016-08-31T00:00:00.000000000",
          "2016-09-30T00:00:00.000000000",
          "2016-10-31T00:00:00.000000000",
          "2016-11-30T00:00:00.000000000",
          "2016-12-31T00:00:00.000000000",
          "2017-01-31T00:00:00.000000000",
          "2017-02-28T00:00:00.000000000",
          "2017-03-31T00:00:00.000000000",
          "2017-04-30T00:00:00.000000000",
          "2017-05-31T00:00:00.000000000",
          "2017-06-30T00:00:00.000000000",
          "2017-07-31T00:00:00.000000000",
          "2017-08-31T00:00:00.000000000",
          "2017-09-30T00:00:00.000000000",
          "2017-10-31T00:00:00.000000000",
          "2017-11-30T00:00:00.000000000",
          "2017-12-31T00:00:00.000000000",
          "2018-01-31T00:00:00.000000000",
          "2018-02-28T00:00:00.000000000",
          "2018-03-31T00:00:00.000000000",
          "2018-04-30T00:00:00.000000000",
          "2018-05-31T00:00:00.000000000",
          "2018-06-30T00:00:00.000000000",
          "2018-07-31T00:00:00.000000000",
          "2018-08-31T00:00:00.000000000",
          "2018-09-30T00:00:00.000000000",
          "2018-10-31T00:00:00.000000000",
          "2018-11-30T00:00:00.000000000",
          "2018-12-31T00:00:00.000000000",
          "2019-01-31T00:00:00.000000000",
          "2019-02-28T00:00:00.000000000",
          "2019-03-31T00:00:00.000000000",
          "2019-04-30T00:00:00.000000000",
          "2019-05-31T00:00:00.000000000",
          "2019-06-30T00:00:00.000000000",
          "2019-07-31T00:00:00.000000000",
          "2019-08-31T00:00:00.000000000",
          "2019-09-30T00:00:00.000000000",
          "2019-10-31T00:00:00.000000000",
          "2019-11-30T00:00:00.000000000",
          "2019-12-31T00:00:00.000000000",
          "2020-01-31T00:00:00.000000000",
          "2020-02-29T00:00:00.000000000",
          "2020-03-31T00:00:00.000000000",
          "2020-04-30T00:00:00.000000000",
          "2020-05-31T00:00:00.000000000",
          "2020-06-30T00:00:00.000000000",
          "2020-07-31T00:00:00.000000000",
          "2020-08-31T00:00:00.000000000",
          "2020-09-30T00:00:00.000000000",
          "2020-10-31T00:00:00.000000000",
          "2020-11-30T00:00:00.000000000",
          "2020-12-31T00:00:00.000000000",
          "2021-01-31T00:00:00.000000000",
          "2021-02-28T00:00:00.000000000",
          "2021-03-31T00:00:00.000000000",
          "2021-04-30T00:00:00.000000000",
          "2021-05-31T00:00:00.000000000",
          "2021-06-30T00:00:00.000000000",
          "2021-07-31T00:00:00.000000000",
          "2021-08-31T00:00:00.000000000",
          "2021-09-30T00:00:00.000000000",
          "2021-10-31T00:00:00.000000000",
          "2021-11-30T00:00:00.000000000",
          "2021-12-31T00:00:00.000000000",
          "2022-01-31T00:00:00.000000000",
          "2022-02-28T00:00:00.000000000",
          "2022-03-31T00:00:00.000000000",
          "2022-04-30T00:00:00.000000000",
          "2022-05-31T00:00:00.000000000",
          "2022-06-30T00:00:00.000000000",
          "2022-07-31T00:00:00.000000000",
          "2022-08-31T00:00:00.000000000",
          "2022-09-30T00:00:00.000000000",
          "2022-10-31T00:00:00.000000000",
          "2022-11-30T00:00:00.000000000",
          "2022-12-31T00:00:00.000000000",
          "2023-01-31T00:00:00.000000000",
          "2023-02-28T00:00:00.000000000",
          "2023-03-31T00:00:00.000000000",
          "2023-04-30T00:00:00.000000000",
          "2023-05-31T00:00:00.000000000",
          "2023-06-30T00:00:00.000000000",
          "2023-07-31T00:00:00.000000000",
          "2023-08-31T00:00:00.000000000",
          "2023-09-30T00:00:00.000000000",
          "2023-10-31T00:00:00.000000000",
          "2023-11-30T00:00:00.000000000",
          "2023-12-31T00:00:00.000000000",
          "2024-01-31T00:00:00.000000000",
          "2024-02-29T00:00:00.000000000",
          "2024-03-31T00:00:00.000000000",
          "2024-04-30T00:00:00.000000000",
          "2024-05-31T00:00:00.000000000",
          "2024-06-30T00:00:00.000000000",
          "2024-07-31T00:00:00.000000000",
          "2024-08-31T00:00:00.000000000",
          "2024-09-30T00:00:00.000000000",
          "2024-10-31T00:00:00.000000000",
          "2024-11-30T00:00:00.000000000",
          "2024-12-31T00:00:00.000000000"
         ],
         "y": {
          "bdata": "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",
          "dtype": "f8"
         }
        }
       ],
       "layout": {
        "legend": {
         "title": {
          "text": ""
         }
        },
        "template": {
         "data": {
          "bar": [
           {
            "error_x": {
             "color": "#2a3f5f"
            },
            "error_y": {
             "color": "#2a3f5f"
            },
            "marker": {
             "line": {
              "color": "white",
              "width": 0.5
             },
             "pattern": {
              "fillmode": "overlay",
              "size": 10,
              "solidity": 0.2
             }
            },
            "type": "bar"
           }
          ],
          "barpolar": [
           {
            "marker": {
             "line": {
              "color": "white",
              "width": 0.5
             },
             "pattern": {
              "fillmode": "overlay",
              "size": 10,
              "solidity": 0.2
             }
            },
            "type": "barpolar"
           }
          ],
          "carpet": [
           {
            "aaxis": {
             "endlinecolor": "#2a3f5f",
             "gridcolor": "#C8D4E3",
             "linecolor": "#C8D4E3",
             "minorgridcolor": "#C8D4E3",
             "startlinecolor": "#2a3f5f"
            },
            "baxis": {
             "endlinecolor": "#2a3f5f",
             "gridcolor": "#C8D4E3",
             "linecolor": "#C8D4E3",
             "minorgridcolor": "#C8D4E3",
             "startlinecolor": "#2a3f5f"
            },
            "type": "carpet"
           }
          ],
          "choropleth": [
           {
            "colorbar": {
             "outlinewidth": 0,
             "ticks": ""
            },
            "type": "choropleth"
           }
          ],
          "contour": [
           {
            "colorbar": {
             "outlinewidth": 0,
             "ticks": ""
            },
            "colorscale": [
             [
              0,
              "#0d0887"
             ],
             [
              0.1111111111111111,
              "#46039f"
             ],
             [
              0.2222222222222222,
              "#7201a8"
             ],
             [
              0.3333333333333333,
              "#9c179e"
             ],
             [
              0.4444444444444444,
              "#bd3786"
             ],
             [
              0.5555555555555556,
              "#d8576b"
             ],
             [
              0.6666666666666666,
              "#ed7953"
             ],
             [
              0.7777777777777778,
              "#fb9f3a"
             ],
             [
              0.8888888888888888,
              "#fdca26"
             ],
             [
              1,
              "#f0f921"
             ]
            ],
            "type": "contour"
           }
          ],
          "contourcarpet": [
           {
            "colorbar": {
             "outlinewidth": 0,
             "ticks": ""
            },
            "type": "contourcarpet"
           }
          ],
          "heatmap": [
           {
            "colorbar": {
             "outlinewidth": 0,
             "ticks": ""
            },
            "colorscale": [
             [
              0,
              "#0d0887"
             ],
             [
              0.1111111111111111,
              "#46039f"
             ],
             [
              0.2222222222222222,
              "#7201a8"
             ],
             [
              0.3333333333333333,
              "#9c179e"
             ],
             [
              0.4444444444444444,
              "#bd3786"
             ],
             [
              0.5555555555555556,
              "#d8576b"
             ],
             [
              0.6666666666666666,
              "#ed7953"
             ],
             [
              0.7777777777777778,
              "#fb9f3a"
             ],
             [
              0.8888888888888888,
              "#fdca26"
             ],
             [
              1,
              "#f0f921"
             ]
            ],
            "type": "heatmap"
           }
          ],
          "histogram": [
           {
            "marker": {
             "pattern": {
              "fillmode": "overlay",
              "size": 10,
              "solidity": 0.2
             }
            },
            "type": "histogram"
           }
          ],
          "histogram2d": [
           {
            "colorbar": {
             "outlinewidth": 0,
             "ticks": ""
            },
            "colorscale": [
             [
              0,
              "#0d0887"
             ],
             [
              0.1111111111111111,
              "#46039f"
             ],
             [
              0.2222222222222222,
              "#7201a8"
             ],
             [
              0.3333333333333333,
              "#9c179e"
             ],
             [
              0.4444444444444444,
              "#bd3786"
             ],
             [
              0.5555555555555556,
              "#d8576b"
             ],
             [
              0.6666666666666666,
              "#ed7953"
             ],
             [
              0.7777777777777778,
              "#fb9f3a"
             ],
             [
              0.8888888888888888,
              "#fdca26"
             ],
             [
              1,
              "#f0f921"
             ]
            ],
            "type": "histogram2d"
           }
          ],
          "histogram2dcontour": [
           {
            "colorbar": {
             "outlinewidth": 0,
             "ticks": ""
            },
            "colorscale": [
             [
              0,
              "#0d0887"
             ],
             [
              0.1111111111111111,
              "#46039f"
             ],
             [
              0.2222222222222222,
              "#7201a8"
             ],
             [
              0.3333333333333333,
              "#9c179e"
             ],
             [
              0.4444444444444444,
              "#bd3786"
             ],
             [
              0.5555555555555556,
              "#d8576b"
             ],
             [
              0.6666666666666666,
              "#ed7953"
             ],
             [
              0.7777777777777778,
              "#fb9f3a"
             ],
             [
              0.8888888888888888,
              "#fdca26"
             ],
             [
              1,
              "#f0f921"
             ]
            ],
            "type": "histogram2dcontour"
           }
          ],
          "mesh3d": [
           {
            "colorbar": {
             "outlinewidth": 0,
             "ticks": ""
            },
            "type": "mesh3d"
           }
          ],
          "parcoords": [
           {
            "line": {
             "colorbar": {
              "outlinewidth": 0,
              "ticks": ""
             }
            },
            "type": "parcoords"
           }
          ],
          "pie": [
           {
            "automargin": true,
            "type": "pie"
           }
          ],
          "scatter": [
           {
            "fillpattern": {
             "fillmode": "overlay",
             "size": 10,
             "solidity": 0.2
            },
            "type": "scatter"
           }
          ],
          "scatter3d": [
           {
            "line": {
             "colorbar": {
              "outlinewidth": 0,
              "ticks": ""
             }
            },
            "marker": {
             "colorbar": {
              "outlinewidth": 0,
              "ticks": ""
             }
            },
            "type": "scatter3d"
           }
          ],
          "scattercarpet": [
           {
            "marker": {
             "colorbar": {
              "outlinewidth": 0,
              "ticks": ""
             }
            },
            "type": "scattercarpet"
           }
          ],
          "scattergeo": [
           {
            "marker": {
             "colorbar": {
              "outlinewidth": 0,
              "ticks": ""
             }
            },
            "type": "scattergeo"
           }
          ],
          "scattergl": [
           {
            "marker": {
             "colorbar": {
              "outlinewidth": 0,
              "ticks": ""
             }
            },
            "type": "scattergl"
           }
          ],
          "scattermap": [
           {
            "marker": {
             "colorbar": {
              "outlinewidth": 0,
              "ticks": ""
             }
            },
            "type": "scattermap"
           }
          ],
          "scattermapbox": [
           {
            "marker": {
             "colorbar": {
              "outlinewidth": 0,
              "ticks": ""
             }
            },
            "type": "scattermapbox"
           }
          ],
          "scatterpolar": [
           {
            "marker": {
             "colorbar": {
              "outlinewidth": 0,
              "ticks": ""
             }
            },
            "type": "scatterpolar"
           }
          ],
          "scatterpolargl": [
           {
            "marker": {
             "colorbar": {
              "outlinewidth": 0,
              "ticks": ""
             }
            },
            "type": "scatterpolargl"
           }
          ],
          "scatterternary": [
           {
            "marker": {
             "colorbar": {
              "outlinewidth": 0,
              "ticks": ""
             }
            },
            "type": "scatterternary"
           }
          ],
          "surface": [
           {
            "colorbar": {
             "outlinewidth": 0,
             "ticks": ""
            },
            "colorscale": [
             [
              0,
              "#0d0887"
             ],
             [
              0.1111111111111111,
              "#46039f"
             ],
             [
              0.2222222222222222,
              "#7201a8"
             ],
             [
              0.3333333333333333,
              "#9c179e"
             ],
             [
              0.4444444444444444,
              "#bd3786"
             ],
             [
              0.5555555555555556,
              "#d8576b"
             ],
             [
              0.6666666666666666,
              "#ed7953"
             ],
             [
              0.7777777777777778,
              "#fb9f3a"
             ],
             [
              0.8888888888888888,
              "#fdca26"
             ],
             [
              1,
              "#f0f921"
             ]
            ],
            "type": "surface"
           }
          ],
          "table": [
           {
            "cells": {
             "fill": {
              "color": "#EBF0F8"
             },
             "line": {
              "color": "white"
             }
            },
            "header": {
             "fill": {
              "color": "#C8D4E3"
             },
             "line": {
              "color": "white"
             }
            },
            "type": "table"
           }
          ]
         },
         "layout": {
          "annotationdefaults": {
           "arrowcolor": "#2a3f5f",
           "arrowhead": 0,
           "arrowwidth": 1
          },
          "autotypenumbers": "strict",
          "coloraxis": {
           "colorbar": {
            "outlinewidth": 0,
            "ticks": ""
           }
          },
          "colorscale": {
           "diverging": [
            [
             0,
             "#8e0152"
            ],
            [
             0.1,
             "#c51b7d"
            ],
            [
             0.2,
             "#de77ae"
            ],
            [
             0.3,
             "#f1b6da"
            ],
            [
             0.4,
             "#fde0ef"
            ],
            [
             0.5,
             "#f7f7f7"
            ],
            [
             0.6,
             "#e6f5d0"
            ],
            [
             0.7,
             "#b8e186"
            ],
            [
             0.8,
             "#7fbc41"
            ],
            [
             0.9,
             "#4d9221"
            ],
            [
             1,
             "#276419"
            ]
           ],
           "sequential": [
            [
             0,
             "#0d0887"
            ],
            [
             0.1111111111111111,
             "#46039f"
            ],
            [
             0.2222222222222222,
             "#7201a8"
            ],
            [
             0.3333333333333333,
             "#9c179e"
            ],
            [
             0.4444444444444444,
             "#bd3786"
            ],
            [
             0.5555555555555556,
             "#d8576b"
            ],
            [
             0.6666666666666666,
             "#ed7953"
            ],
            [
             0.7777777777777778,
             "#fb9f3a"
            ],
            [
             0.8888888888888888,
             "#fdca26"
            ],
            [
             1,
             "#f0f921"
            ]
           ],
           "sequentialminus": [
            [
             0,
             "#0d0887"
            ],
            [
             0.1111111111111111,
             "#46039f"
            ],
            [
             0.2222222222222222,
             "#7201a8"
            ],
            [
             0.3333333333333333,
             "#9c179e"
            ],
            [
             0.4444444444444444,
             "#bd3786"
            ],
            [
             0.5555555555555556,
             "#d8576b"
            ],
            [
             0.6666666666666666,
             "#ed7953"
            ],
            [
             0.7777777777777778,
             "#fb9f3a"
            ],
            [
             0.8888888888888888,
             "#fdca26"
            ],
            [
             1,
             "#f0f921"
            ]
           ]
          },
          "colorway": [
           "#636efa",
           "#EF553B",
           "#00cc96",
           "#ab63fa",
           "#FFA15A",
           "#19d3f3",
           "#FF6692",
           "#B6E880",
           "#FF97FF",
           "#FECB52"
          ],
          "font": {
           "color": "#2a3f5f"
          },
          "geo": {
           "bgcolor": "white",
           "lakecolor": "white",
           "landcolor": "white",
           "showlakes": true,
           "showland": true,
           "subunitcolor": "#C8D4E3"
          },
          "hoverlabel": {
           "align": "left"
          },
          "hovermode": "closest",
          "mapbox": {
           "style": "light"
          },
          "paper_bgcolor": "white",
          "plot_bgcolor": "white",
          "polar": {
           "angularaxis": {
            "gridcolor": "#EBF0F8",
            "linecolor": "#EBF0F8",
            "ticks": ""
           },
           "bgcolor": "white",
           "radialaxis": {
            "gridcolor": "#EBF0F8",
            "linecolor": "#EBF0F8",
            "ticks": ""
           }
          },
          "scene": {
           "xaxis": {
            "backgroundcolor": "white",
            "gridcolor": "#DFE8F3",
            "gridwidth": 2,
            "linecolor": "#EBF0F8",
            "showbackground": true,
            "ticks": "",
            "zerolinecolor": "#EBF0F8"
           },
           "yaxis": {
            "backgroundcolor": "white",
            "gridcolor": "#DFE8F3",
            "gridwidth": 2,
            "linecolor": "#EBF0F8",
            "showbackground": true,
            "ticks": "",
            "zerolinecolor": "#EBF0F8"
           },
           "zaxis": {
            "backgroundcolor": "white",
            "gridcolor": "#DFE8F3",
            "gridwidth": 2,
            "linecolor": "#EBF0F8",
            "showbackground": true,
            "ticks": "",
            "zerolinecolor": "#EBF0F8"
           }
          },
          "shapedefaults": {
           "line": {
            "color": "#2a3f5f"
           }
          },
          "ternary": {
           "aaxis": {
            "gridcolor": "#DFE8F3",
            "linecolor": "#A2B1C6",
            "ticks": ""
           },
           "baxis": {
            "gridcolor": "#DFE8F3",
            "linecolor": "#A2B1C6",
            "ticks": ""
           },
           "bgcolor": "white",
           "caxis": {
            "gridcolor": "#DFE8F3",
            "linecolor": "#A2B1C6",
            "ticks": ""
           }
          },
          "title": {
           "x": 0.05
          },
          "xaxis": {
           "automargin": true,
           "gridcolor": "#EBF0F8",
           "linecolor": "#EBF0F8",
           "ticks": "",
           "title": {
            "standoff": 15
           },
           "zerolinecolor": "#EBF0F8",
           "zerolinewidth": 2
          },
          "yaxis": {
           "automargin": true,
           "gridcolor": "#EBF0F8",
           "linecolor": "#EBF0F8",
           "ticks": "",
           "title": {
            "standoff": 15
           },
           "zerolinecolor": "#EBF0F8",
           "zerolinewidth": 2
          }
         }
        },
        "xaxis": {
         "title": {
          "text": ""
         }
        },
        "yaxis": {
         "title": {
          "text": "Percentage Points"
         }
        }
       }
      }
     },
     "metadata": {},
     "output_type": "display_data"
    }
   ],
   "source": [
    "fig = go.Figure()\n",
    "fig.add_trace(go.Scatter(x=igae_ipc.index, y=igae_ipc['inf'], mode='lines', name='SA Inflation', line=dict(color='blue')))\n",
    "fig.add_trace(go.Scatter(x=igae_ipc.index, y=igae_ipc['e_dev'], mode='lines', name='Exchange Dev.', line=dict(color='pink')))\n",
    "fig.add_trace(go.Scatter(x=igae_ipc.index, y=igae_ipc['g_gap'], mode='lines', name='Output Gap', line=dict(color='red')))\n",
    "fig.add_trace(go.Scatter(x=igae_ipc.index, y=igae_ipc['g_gap_sa'], mode='lines', name='SA Output Gap', line=dict(color='green')))\n",
    "fig.update_layout(\n",
    "    #title='IPC',\n",
    "    xaxis_title='',\n",
    "    yaxis_title='Percentage Points',\n",
    "    legend_title='',\n",
    "    template='plotly_white'\n",
    ")\n",
    "fig.show()"
   ]
  },
  {
   "cell_type": "code",
   "execution_count": 112,
   "metadata": {},
   "outputs": [
    {
     "data": {
      "text/plain": [
       "Index(['igae', 'ipc', 'exchange', 'igae_sa', 'ipc_sa', 'epu', 'inf', 'g12_y',\n",
       "       'igae_trend', 'g_gap', 'g_gap_sa', 'e_dev'],\n",
       "      dtype='object')"
      ]
     },
     "execution_count": 112,
     "metadata": {},
     "output_type": "execute_result"
    }
   ],
   "source": [
    "igae_ipc.columns"
   ]
  },
  {
   "cell_type": "code",
   "execution_count": 119,
   "metadata": {},
   "outputs": [
    {
     "data": {
      "text/html": [
       "<div>\n",
       "<style scoped>\n",
       "    .dataframe tbody tr th:only-of-type {\n",
       "        vertical-align: middle;\n",
       "    }\n",
       "\n",
       "    .dataframe tbody tr th {\n",
       "        vertical-align: top;\n",
       "    }\n",
       "\n",
       "    .dataframe thead th {\n",
       "        text-align: right;\n",
       "    }\n",
       "</style>\n",
       "<table border=\"1\" class=\"dataframe\">\n",
       "  <thead>\n",
       "    <tr style=\"text-align: right;\">\n",
       "      <th></th>\n",
       "      <th>pi_obs</th>\n",
       "      <th>y_obs</th>\n",
       "      <th>e_obs</th>\n",
       "      <th>s_obs</th>\n",
       "    </tr>\n",
       "  </thead>\n",
       "  <tbody>\n",
       "    <tr>\n",
       "      <th>2023-06-30</th>\n",
       "      <td>0.177483</td>\n",
       "      <td>-0.080972</td>\n",
       "      <td>0.000000</td>\n",
       "      <td>-47.009831</td>\n",
       "    </tr>\n",
       "    <tr>\n",
       "      <th>2023-07-31</th>\n",
       "      <td>0.337401</td>\n",
       "      <td>-0.520343</td>\n",
       "      <td>2.786485</td>\n",
       "      <td>-70.159793</td>\n",
       "    </tr>\n",
       "    <tr>\n",
       "      <th>2023-08-31</th>\n",
       "      <td>-0.046644</td>\n",
       "      <td>0.114465</td>\n",
       "      <td>5.497425</td>\n",
       "      <td>-42.958091</td>\n",
       "    </tr>\n",
       "    <tr>\n",
       "      <th>2023-09-30</th>\n",
       "      <td>0.135911</td>\n",
       "      <td>-0.226984</td>\n",
       "      <td>8.136809</td>\n",
       "      <td>-96.610020</td>\n",
       "    </tr>\n",
       "    <tr>\n",
       "      <th>2023-10-31</th>\n",
       "      <td>-0.361650</td>\n",
       "      <td>1.195786</td>\n",
       "      <td>8.203012</td>\n",
       "      <td>-75.069437</td>\n",
       "    </tr>\n",
       "    <tr>\n",
       "      <th>2023-11-30</th>\n",
       "      <td>-0.265699</td>\n",
       "      <td>0.433262</td>\n",
       "      <td>8.269172</td>\n",
       "      <td>-24.667377</td>\n",
       "    </tr>\n",
       "    <tr>\n",
       "      <th>2023-12-31</th>\n",
       "      <td>0.507429</td>\n",
       "      <td>-0.665096</td>\n",
       "      <td>9.452617</td>\n",
       "      <td>6.836899</td>\n",
       "    </tr>\n",
       "    <tr>\n",
       "      <th>2024-01-31</th>\n",
       "      <td>0.754448</td>\n",
       "      <td>-0.855065</td>\n",
       "      <td>14.269367</td>\n",
       "      <td>96.608000</td>\n",
       "    </tr>\n",
       "    <tr>\n",
       "      <th>2024-02-29</th>\n",
       "      <td>0.530736</td>\n",
       "      <td>-0.982797</td>\n",
       "      <td>18.864729</td>\n",
       "      <td>97.246344</td>\n",
       "    </tr>\n",
       "    <tr>\n",
       "      <th>2024-03-31</th>\n",
       "      <td>0.619282</td>\n",
       "      <td>-3.252619</td>\n",
       "      <td>16.962960</td>\n",
       "      <td>-34.954014</td>\n",
       "    </tr>\n",
       "    <tr>\n",
       "      <th>2024-04-30</th>\n",
       "      <td>0.562383</td>\n",
       "      <td>3.286028</td>\n",
       "      <td>19.654779</td>\n",
       "      <td>-64.672798</td>\n",
       "    </tr>\n",
       "    <tr>\n",
       "      <th>2024-05-31</th>\n",
       "      <td>0.553959</td>\n",
       "      <td>3.570509</td>\n",
       "      <td>22.276034</td>\n",
       "      <td>20.925017</td>\n",
       "    </tr>\n",
       "    <tr>\n",
       "      <th>2024-06-30</th>\n",
       "      <td>0.486280</td>\n",
       "      <td>1.685902</td>\n",
       "      <td>26.919324</td>\n",
       "      <td>37.404681</td>\n",
       "    </tr>\n",
       "    <tr>\n",
       "      <th>2024-07-31</th>\n",
       "      <td>0.456893</td>\n",
       "      <td>0.721878</td>\n",
       "      <td>39.242120</td>\n",
       "      <td>7.535131</td>\n",
       "    </tr>\n",
       "    <tr>\n",
       "      <th>2024-08-31</th>\n",
       "      <td>1.118096</td>\n",
       "      <td>1.354195</td>\n",
       "      <td>49.331533</td>\n",
       "      <td>85.849488</td>\n",
       "    </tr>\n",
       "    <tr>\n",
       "      <th>2024-09-30</th>\n",
       "      <td>1.067387</td>\n",
       "      <td>-0.387915</td>\n",
       "      <td>42.779605</td>\n",
       "      <td>19.410160</td>\n",
       "    </tr>\n",
       "    <tr>\n",
       "      <th>2024-10-31</th>\n",
       "      <td>1.241081</td>\n",
       "      <td>-2.734259</td>\n",
       "      <td>44.098977</td>\n",
       "      <td>38.465089</td>\n",
       "    </tr>\n",
       "    <tr>\n",
       "      <th>2024-11-30</th>\n",
       "      <td>1.173849</td>\n",
       "      <td>-0.409910</td>\n",
       "      <td>47.729949</td>\n",
       "      <td>26.917497</td>\n",
       "    </tr>\n",
       "    <tr>\n",
       "      <th>2024-12-31</th>\n",
       "      <td>0.892567</td>\n",
       "      <td>-0.878742</td>\n",
       "      <td>49.027099</td>\n",
       "      <td>18.903052</td>\n",
       "    </tr>\n",
       "  </tbody>\n",
       "</table>\n",
       "</div>"
      ],
      "text/plain": [
       "              pi_obs     y_obs      e_obs      s_obs\n",
       "2023-06-30  0.177483 -0.080972   0.000000 -47.009831\n",
       "2023-07-31  0.337401 -0.520343   2.786485 -70.159793\n",
       "2023-08-31 -0.046644  0.114465   5.497425 -42.958091\n",
       "2023-09-30  0.135911 -0.226984   8.136809 -96.610020\n",
       "2023-10-31 -0.361650  1.195786   8.203012 -75.069437\n",
       "2023-11-30 -0.265699  0.433262   8.269172 -24.667377\n",
       "2023-12-31  0.507429 -0.665096   9.452617   6.836899\n",
       "2024-01-31  0.754448 -0.855065  14.269367  96.608000\n",
       "2024-02-29  0.530736 -0.982797  18.864729  97.246344\n",
       "2024-03-31  0.619282 -3.252619  16.962960 -34.954014\n",
       "2024-04-30  0.562383  3.286028  19.654779 -64.672798\n",
       "2024-05-31  0.553959  3.570509  22.276034  20.925017\n",
       "2024-06-30  0.486280  1.685902  26.919324  37.404681\n",
       "2024-07-31  0.456893  0.721878  39.242120   7.535131\n",
       "2024-08-31  1.118096  1.354195  49.331533  85.849488\n",
       "2024-09-30  1.067387 -0.387915  42.779605  19.410160\n",
       "2024-10-31  1.241081 -2.734259  44.098977  38.465089\n",
       "2024-11-30  1.173849 -0.409910  47.729949  26.917497\n",
       "2024-12-31  0.892567 -0.878742  49.027099  18.903052"
      ]
     },
     "execution_count": 119,
     "metadata": {},
     "output_type": "execute_result"
    }
   ],
   "source": [
    "bolivia_data = pd.DataFrame(\n",
    "    {'pi_obs': igae_ipc.loc['2023-06-01':'2024-12-31', 'inf'],\n",
    "     'y_obs': igae_ipc.loc['2023-06-01':'2024-12-31', 'g_gap_sa'],\n",
    "     'e_obs': igae_ipc.loc['2023-06-01':'2024-12-31', 'e_dev'],\n",
    "     'epu': igae_ipc.loc['2023-06-01':'2024-12-31', 'epu']\n",
    "    }, index=igae_ipc.loc['2023-06-01':'2024-12-31'].index\n",
    ")\n",
    "bolivia_data['s_obs'] = bolivia_data['epu'] - bolivia_data['epu'].mean()\n",
    "bolivia_data = bolivia_data.drop(columns=['epu'])\n",
    "\n",
    "bolivia_data"
   ]
  },
  {
   "cell_type": "code",
   "execution_count": 120,
   "metadata": {},
   "outputs": [
    {
     "data": {
      "text/html": [
       "<div>\n",
       "<style scoped>\n",
       "    .dataframe tbody tr th:only-of-type {\n",
       "        vertical-align: middle;\n",
       "    }\n",
       "\n",
       "    .dataframe tbody tr th {\n",
       "        vertical-align: top;\n",
       "    }\n",
       "\n",
       "    .dataframe thead th {\n",
       "        text-align: right;\n",
       "    }\n",
       "</style>\n",
       "<table border=\"1\" class=\"dataframe\">\n",
       "  <thead>\n",
       "    <tr style=\"text-align: right;\">\n",
       "      <th></th>\n",
       "      <th>pi_obs</th>\n",
       "      <th>y_obs</th>\n",
       "      <th>e_obs</th>\n",
       "      <th>s_obs</th>\n",
       "    </tr>\n",
       "  </thead>\n",
       "  <tbody>\n",
       "    <tr>\n",
       "      <th>count</th>\n",
       "      <td>19.000000</td>\n",
       "      <td>19.000000</td>\n",
       "      <td>19.000000</td>\n",
       "      <td>1.900000e+01</td>\n",
       "    </tr>\n",
       "    <tr>\n",
       "      <th>mean</th>\n",
       "      <td>0.523221</td>\n",
       "      <td>0.071964</td>\n",
       "      <td>22.815895</td>\n",
       "      <td>9.723216e-15</td>\n",
       "    </tr>\n",
       "    <tr>\n",
       "      <th>std</th>\n",
       "      <td>0.461309</td>\n",
       "      <td>1.697885</td>\n",
       "      <td>17.196670</td>\n",
       "      <td>5.821333e+01</td>\n",
       "    </tr>\n",
       "    <tr>\n",
       "      <th>min</th>\n",
       "      <td>-0.361650</td>\n",
       "      <td>-3.252619</td>\n",
       "      <td>0.000000</td>\n",
       "      <td>-9.661002e+01</td>\n",
       "    </tr>\n",
       "    <tr>\n",
       "      <th>25%</th>\n",
       "      <td>0.257442</td>\n",
       "      <td>-0.760080</td>\n",
       "      <td>8.236092</td>\n",
       "      <td>-4.498396e+01</td>\n",
       "    </tr>\n",
       "    <tr>\n",
       "      <th>50%</th>\n",
       "      <td>0.530736</td>\n",
       "      <td>-0.226984</td>\n",
       "      <td>18.864729</td>\n",
       "      <td>7.535131e+00</td>\n",
       "    </tr>\n",
       "    <tr>\n",
       "      <th>75%</th>\n",
       "      <td>0.823507</td>\n",
       "      <td>0.958832</td>\n",
       "      <td>41.010862</td>\n",
       "      <td>3.216109e+01</td>\n",
       "    </tr>\n",
       "    <tr>\n",
       "      <th>max</th>\n",
       "      <td>1.241081</td>\n",
       "      <td>3.570509</td>\n",
       "      <td>49.331533</td>\n",
       "      <td>9.724634e+01</td>\n",
       "    </tr>\n",
       "  </tbody>\n",
       "</table>\n",
       "</div>"
      ],
      "text/plain": [
       "          pi_obs      y_obs      e_obs         s_obs\n",
       "count  19.000000  19.000000  19.000000  1.900000e+01\n",
       "mean    0.523221   0.071964  22.815895  9.723216e-15\n",
       "std     0.461309   1.697885  17.196670  5.821333e+01\n",
       "min    -0.361650  -3.252619   0.000000 -9.661002e+01\n",
       "25%     0.257442  -0.760080   8.236092 -4.498396e+01\n",
       "50%     0.530736  -0.226984  18.864729  7.535131e+00\n",
       "75%     0.823507   0.958832  41.010862  3.216109e+01\n",
       "max     1.241081   3.570509  49.331533  9.724634e+01"
      ]
     },
     "execution_count": 120,
     "metadata": {},
     "output_type": "execute_result"
    }
   ],
   "source": [
    "bolivia_data.describe()"
   ]
  },
  {
   "cell_type": "code",
   "execution_count": 123,
   "metadata": {},
   "outputs": [
    {
     "name": "stdout",
     "output_type": "stream",
     "text": [
      "ADF Statistic for pi_obs: -1.4334698292173318\n",
      "p-value for pi_obs: 0.5661292924706354\n",
      "Non-stationary\n",
      "--------------------------------------------------\n",
      "ADF Statistic for y_obs: -2.885161098565763\n",
      "p-value for y_obs: 0.04710097084974228\n",
      "Stationary\n",
      "--------------------------------------------------\n",
      "ADF Statistic for e_obs: -0.19363341276611243\n",
      "p-value for e_obs: 0.9392762550316617\n",
      "Non-stationary\n",
      "--------------------------------------------------\n",
      "ADF Statistic for s_obs: -2.2405323442425273\n",
      "p-value for s_obs: 0.19186468189007927\n",
      "Non-stationary\n",
      "--------------------------------------------------\n"
     ]
    }
   ],
   "source": [
    "from statsmodels.tsa.stattools import adfuller\n",
    "\n",
    "# Perform ADF test for each column in bolivia_data\n",
    "for column in bolivia_data.columns:\n",
    "    result = adfuller(bolivia_data[column].dropna(), maxlag=1)\n",
    "    print(f\"ADF Statistic for {column}: {result[0]}\")\n",
    "    print(f\"p-value for {column}: {result[1]}\")\n",
    "    print(\"Stationary\" if result[1] < 0.05 else \"Non-stationary\")\n",
    "    print(\"-\" * 50)"
   ]
  },
  {
   "cell_type": "code",
   "execution_count": 126,
   "metadata": {},
   "outputs": [],
   "source": [
    "bolivia_data.to_excel('./DSGE/bolivia_data.xlsx')"
   ]
  },
  {
   "cell_type": "code",
   "execution_count": null,
   "metadata": {},
   "outputs": [],
   "source": []
  }
 ],
 "metadata": {
  "kernelspec": {
   "display_name": "Python 3",
   "language": "python",
   "name": "python3"
  },
  "language_info": {
   "codemirror_mode": {
    "name": "ipython",
    "version": 3
   },
   "file_extension": ".py",
   "mimetype": "text/x-python",
   "name": "python",
   "nbconvert_exporter": "python",
   "pygments_lexer": "ipython3",
   "version": "3.10.4"
  }
 },
 "nbformat": 4,
 "nbformat_minor": 2
}
