{
 "cells": [
  {
   "cell_type": "code",
   "execution_count": null,
   "metadata": {},
   "outputs": [
    {
     "name": "stdout",
     "output_type": "stream",
     "text": [
      "Note: you may need to restart the kernel to use updated packages.Collecting kagglehub\n",
      "  Downloading kagglehub-0.3.11-py3-none-any.whl.metadata (32 kB)\n",
      "Requirement already satisfied: packaging in c:\\users\\osmar.bolivar\\appdata\\local\\programs\\python\\python310\\lib\\site-packages (from kagglehub) (23.2)\n",
      "Requirement already satisfied: pyyaml in c:\\users\\osmar.bolivar\\appdata\\roaming\\python\\python310\\site-packages (from kagglehub) (6.0.2)\n",
      "Requirement already satisfied: requests in c:\\users\\osmar.bolivar\\appdata\\roaming\\python\\python310\\site-packages (from kagglehub) (2.32.3)\n",
      "Requirement already satisfied: tqdm in c:\\users\\osmar.bolivar\\appdata\\local\\programs\\python\\python310\\lib\\site-packages (from kagglehub) (4.67.1)\n",
      "Requirement already satisfied: charset-normalizer<4,>=2 in c:\\users\\osmar.bolivar\\appdata\\roaming\\python\\python310\\site-packages (from requests->kagglehub) (3.4.1)\n",
      "Requirement already satisfied: idna<4,>=2.5 in c:\\users\\osmar.bolivar\\appdata\\roaming\\python\\python310\\site-packages (from requests->kagglehub) (3.10)\n",
      "Requirement already satisfied: urllib3<3,>=1.21.1 in c:\\users\\osmar.bolivar\\appdata\\local\\programs\\python\\python310\\lib\\site-packages (from requests->kagglehub) (2.3.0)\n",
      "Requirement already satisfied: certifi>=2017.4.17 in c:\\users\\osmar.bolivar\\appdata\\roaming\\python\\python310\\site-packages (from requests->kagglehub) (2025.1.31)\n",
      "Requirement already satisfied: colorama in c:\\users\\osmar.bolivar\\appdata\\roaming\\python\\python310\\site-packages (from tqdm->kagglehub) (0.4.6)\n",
      "Downloading kagglehub-0.3.11-py3-none-any.whl (63 kB)\n",
      "Installing collected packages: kagglehub\n",
      "Successfully installed kagglehub-0.3.11\n",
      "\n"
     ]
    },
    {
     "name": "stderr",
     "output_type": "stream",
     "text": [
      "\n",
      "[notice] A new release of pip is available: 25.0 -> 25.0.1\n",
      "[notice] To update, run: python.exe -m pip install --upgrade pip\n"
     ]
    }
   ],
   "source": [
    "#%pip install kagglehub"
   ]
  },
  {
   "cell_type": "code",
   "execution_count": 21,
   "metadata": {},
   "outputs": [],
   "source": [
    "import numpy as np\n",
    "import pandas as pd\n",
    "import matplotlib.pyplot as plt\n",
    "import seaborn as sns\n",
    "import statsmodels.api as sm\n",
    "import plotly.express as px\n",
    "import plotly.graph_objects as go\n",
    "import kagglehub\n",
    "from kagglehub import KaggleDatasetAdapter"
   ]
  },
  {
   "cell_type": "markdown",
   "metadata": {},
   "source": [
    "## 1. Data"
   ]
  },
  {
   "cell_type": "code",
   "execution_count": null,
   "metadata": {},
   "outputs": [],
   "source": [
    "dolarbo = pd.read_excel('./DATA/dolarbo_time_series.xlsx', index_col=0)\n",
    "dolarbo.index = pd.to_datetime(dolarbo.index)"
   ]
  },
  {
   "cell_type": "code",
   "execution_count": 77,
   "metadata": {},
   "outputs": [
    {
     "data": {
      "text/html": [
       "<div>\n",
       "<style scoped>\n",
       "    .dataframe tbody tr th:only-of-type {\n",
       "        vertical-align: middle;\n",
       "    }\n",
       "\n",
       "    .dataframe tbody tr th {\n",
       "        vertical-align: top;\n",
       "    }\n",
       "\n",
       "    .dataframe thead th {\n",
       "        text-align: right;\n",
       "    }\n",
       "</style>\n",
       "<table border=\"1\" class=\"dataframe\">\n",
       "  <thead>\n",
       "    <tr style=\"text-align: right;\">\n",
       "      <th></th>\n",
       "      <th>Compra</th>\n",
       "      <th>Venta</th>\n",
       "    </tr>\n",
       "    <tr>\n",
       "      <th>timestamp</th>\n",
       "      <th></th>\n",
       "      <th></th>\n",
       "    </tr>\n",
       "  </thead>\n",
       "  <tbody>\n",
       "    <tr>\n",
       "      <th>2023-09-21 18:00:00</th>\n",
       "      <td>7.40</td>\n",
       "      <td>7.55</td>\n",
       "    </tr>\n",
       "    <tr>\n",
       "      <th>2023-09-22 18:00:00</th>\n",
       "      <td>7.40</td>\n",
       "      <td>7.55</td>\n",
       "    </tr>\n",
       "    <tr>\n",
       "      <th>2023-11-18 10:00:00</th>\n",
       "      <td>7.41</td>\n",
       "      <td>7.56</td>\n",
       "    </tr>\n",
       "    <tr>\n",
       "      <th>2023-12-12 17:00:00</th>\n",
       "      <td>7.55</td>\n",
       "      <td>7.65</td>\n",
       "    </tr>\n",
       "    <tr>\n",
       "      <th>2024-02-22 09:47:00</th>\n",
       "      <td>8.12</td>\n",
       "      <td>8.40</td>\n",
       "    </tr>\n",
       "    <tr>\n",
       "      <th>...</th>\n",
       "      <td>...</td>\n",
       "      <td>...</td>\n",
       "    </tr>\n",
       "    <tr>\n",
       "      <th>2025-03-11 16:56:00</th>\n",
       "      <td>11.10</td>\n",
       "      <td>11.60</td>\n",
       "    </tr>\n",
       "    <tr>\n",
       "      <th>2025-03-12 12:34:00</th>\n",
       "      <td>11.20</td>\n",
       "      <td>11.70</td>\n",
       "    </tr>\n",
       "    <tr>\n",
       "      <th>2025-03-12 18:26:00</th>\n",
       "      <td>11.50</td>\n",
       "      <td>12.00</td>\n",
       "    </tr>\n",
       "    <tr>\n",
       "      <th>2025-03-12 23:11:00</th>\n",
       "      <td>11.60</td>\n",
       "      <td>12.20</td>\n",
       "    </tr>\n",
       "    <tr>\n",
       "      <th>2025-03-13 11:43:00</th>\n",
       "      <td>11.80</td>\n",
       "      <td>12.30</td>\n",
       "    </tr>\n",
       "  </tbody>\n",
       "</table>\n",
       "<p>479 rows × 2 columns</p>\n",
       "</div>"
      ],
      "text/plain": [
       "                     Compra  Venta\n",
       "timestamp                         \n",
       "2023-09-21 18:00:00    7.40   7.55\n",
       "2023-09-22 18:00:00    7.40   7.55\n",
       "2023-11-18 10:00:00    7.41   7.56\n",
       "2023-12-12 17:00:00    7.55   7.65\n",
       "2024-02-22 09:47:00    8.12   8.40\n",
       "...                     ...    ...\n",
       "2025-03-11 16:56:00   11.10  11.60\n",
       "2025-03-12 12:34:00   11.20  11.70\n",
       "2025-03-12 18:26:00   11.50  12.00\n",
       "2025-03-12 23:11:00   11.60  12.20\n",
       "2025-03-13 11:43:00   11.80  12.30\n",
       "\n",
       "[479 rows x 2 columns]"
      ]
     },
     "execution_count": 77,
     "metadata": {},
     "output_type": "execute_result"
    }
   ],
   "source": [
    "usdt_luis = pd.read_excel('./DATA/usdt_lucho.xlsx')\n",
    "# Ensure column names are stripped of extra spaces\n",
    "usdt_luis.columns = usdt_luis.columns.str.strip()\n",
    "# Combine 'Fecha' and 'hora' columns to create a 'timestamp' column\n",
    "usdt_luis['timestamp'] = pd.to_datetime(usdt_luis['Fecha'].astype(str) + \" \" + usdt_luis['hora'].astype(str))\n",
    "usdt_luis.index = usdt_luis['timestamp']\n",
    "usdt_luis = usdt_luis.drop(['Fecha', 'hora', 'timestamp'], axis=1)\n",
    "usdt_luis"
   ]
  },
  {
   "cell_type": "code",
   "execution_count": 98,
   "metadata": {},
   "outputs": [
    {
     "data": {
      "text/html": [
       "<div>\n",
       "<style scoped>\n",
       "    .dataframe tbody tr th:only-of-type {\n",
       "        vertical-align: middle;\n",
       "    }\n",
       "\n",
       "    .dataframe tbody tr th {\n",
       "        vertical-align: top;\n",
       "    }\n",
       "\n",
       "    .dataframe thead th {\n",
       "        text-align: right;\n",
       "    }\n",
       "</style>\n",
       "<table border=\"1\" class=\"dataframe\">\n",
       "  <thead>\n",
       "    <tr style=\"text-align: right;\">\n",
       "      <th></th>\n",
       "      <th>Bs</th>\n",
       "    </tr>\n",
       "    <tr>\n",
       "      <th>timestamp</th>\n",
       "      <th></th>\n",
       "    </tr>\n",
       "  </thead>\n",
       "  <tbody>\n",
       "    <tr>\n",
       "      <th>2024-08-06</th>\n",
       "      <td>12.89</td>\n",
       "    </tr>\n",
       "    <tr>\n",
       "      <th>2024-08-06</th>\n",
       "      <td>12.86</td>\n",
       "    </tr>\n",
       "    <tr>\n",
       "      <th>2024-08-06</th>\n",
       "      <td>12.82</td>\n",
       "    </tr>\n",
       "    <tr>\n",
       "      <th>2024-08-06</th>\n",
       "      <td>12.72</td>\n",
       "    </tr>\n",
       "    <tr>\n",
       "      <th>2024-08-06</th>\n",
       "      <td>12.44</td>\n",
       "    </tr>\n",
       "    <tr>\n",
       "      <th>...</th>\n",
       "      <td>...</td>\n",
       "    </tr>\n",
       "    <tr>\n",
       "      <th>2025-04-14</th>\n",
       "      <td>13.43</td>\n",
       "    </tr>\n",
       "    <tr>\n",
       "      <th>2025-04-14</th>\n",
       "      <td>13.42</td>\n",
       "    </tr>\n",
       "    <tr>\n",
       "      <th>2025-04-14</th>\n",
       "      <td>13.41</td>\n",
       "    </tr>\n",
       "    <tr>\n",
       "      <th>2025-04-14</th>\n",
       "      <td>13.43</td>\n",
       "    </tr>\n",
       "    <tr>\n",
       "      <th>2025-04-14</th>\n",
       "      <td>13.44</td>\n",
       "    </tr>\n",
       "  </tbody>\n",
       "</table>\n",
       "<p>1191 rows × 1 columns</p>\n",
       "</div>"
      ],
      "text/plain": [
       "               Bs\n",
       "timestamp        \n",
       "2024-08-06  12.89\n",
       "2024-08-06  12.86\n",
       "2024-08-06  12.82\n",
       "2024-08-06  12.72\n",
       "2024-08-06  12.44\n",
       "...           ...\n",
       "2025-04-14  13.43\n",
       "2025-04-14  13.42\n",
       "2025-04-14  13.41\n",
       "2025-04-14  13.43\n",
       "2025-04-14  13.44\n",
       "\n",
       "[1191 rows x 1 columns]"
      ]
     },
     "execution_count": 98,
     "metadata": {},
     "output_type": "execute_result"
    }
   ],
   "source": [
    "usdtbol = pd.read_excel('./DATA/usdtbol_time_series.xlsx')\n",
    "usdtbol['timestamp'] = pd.to_datetime(usdtbol['category'], format='%a %b %d %Y')\n",
    "usdtbol.index = usdtbol['timestamp']\n",
    "usdtbol = usdtbol.drop(['category', 'timestamp'], axis=1)\n",
    "#usdtbol['aux'] = 1\n",
    "#usdtbol['within_day'] = usdtbol.resample('D')['aux'].transform('sum')\n",
    "usdtbol"
   ]
  },
  {
   "cell_type": "code",
   "execution_count": 102,
   "metadata": {},
   "outputs": [],
   "source": [
    "usdtbol_day = usdtbol.resample('D').mean()"
   ]
  },
  {
   "cell_type": "code",
   "execution_count": 104,
   "metadata": {},
   "outputs": [
    {
     "data": {
      "application/vnd.plotly.v1+json": {
       "config": {
        "plotlyServerURL": "https://plot.ly"
       },
       "data": [
        {
         "line": {
          "color": "blue"
         },
         "mode": "lines",
         "name": "Buy",
         "type": "scatter",
         "x": [
          "2023-09-21T18:00:00.000000000",
          "2023-09-22T18:00:00.000000000",
          "2023-11-18T10:00:00.000000000",
          "2023-12-12T17:00:00.000000000",
          "2024-02-22T09:47:00.000000000",
          "2024-02-26T12:59:00.000000000",
          "2024-03-01T11:38:00.000000000",
          "2024-03-13T11:44:00.000000000",
          "2024-03-25T08:49:00.000000000",
          "2024-05-06T13:09:00.000000000",
          "2024-05-22T09:37:00.000000000",
          "2024-05-23T17:41:00.000000000",
          "2024-06-14T12:35:00.000000000",
          "2024-06-17T08:40:00.000000000",
          "2024-06-18T11:53:00.000000000",
          "2024-06-19T11:58:00.000000000",
          "2024-06-20T12:35:00.000000000",
          "2024-06-21T10:38:00.000000000",
          "2024-06-22T10:36:00.000000000",
          "2024-06-23T14:56:00.000000000",
          "2024-06-24T11:07:00.000000000",
          "2024-06-25T11:34:00.000000000",
          "2024-06-26T11:15:00.000000000",
          "2024-06-26T22:24:00.000000000",
          "2024-06-27T00:21:00.000000000",
          "2024-06-27T10:33:00.000000000",
          "2024-06-27T17:57:00.000000000",
          "2024-06-28T11:35:00.000000000",
          "2024-06-29T12:24:00.000000000",
          "2024-06-30T10:15:00.000000000",
          "2024-07-01T12:30:00.000000000",
          "2024-07-02T13:13:00.000000000",
          "2024-07-03T12:08:00.000000000",
          "2024-07-04T09:46:00.000000000",
          "2024-07-05T16:17:00.000000000",
          "2024-07-05T17:08:00.000000000",
          "2024-07-06T11:00:00.000000000",
          "2024-07-07T17:04:00.000000000",
          "2024-07-08T10:01:00.000000000",
          "2024-07-09T15:42:00.000000000",
          "2024-07-10T10:19:00.000000000",
          "2024-07-11T09:45:00.000000000",
          "2024-07-12T12:59:00.000000000",
          "2024-07-13T13:00:00.000000000",
          "2024-07-14T12:59:00.000000000",
          "2024-07-15T10:15:00.000000000",
          "2024-07-16T09:21:00.000000000",
          "2024-07-17T12:46:00.000000000",
          "2024-07-18T10:28:00.000000000",
          "2024-07-18T19:16:00.000000000",
          "2024-07-19T12:49:00.000000000",
          "2024-07-20T12:22:00.000000000",
          "2024-07-21T11:19:00.000000000",
          "2024-07-22T09:28:00.000000000",
          "2024-07-23T09:56:00.000000000",
          "2024-07-24T13:02:00.000000000",
          "2024-07-25T08:44:00.000000000",
          "2024-07-26T12:59:00.000000000",
          "2024-07-28T12:59:00.000000000",
          "2024-07-29T11:12:00.000000000",
          "2024-07-30T00:00:00.000000000",
          "2024-07-30T10:29:00.000000000",
          "2024-07-31T17:41:00.000000000",
          "2024-07-31T22:41:00.000000000",
          "2024-08-01T10:19:00.000000000",
          "2024-08-01T13:21:00.000000000",
          "2024-08-01T16:55:00.000000000",
          "2024-08-02T11:11:00.000000000",
          "2024-08-02T18:08:00.000000000",
          "2024-08-03T14:42:00.000000000",
          "2024-08-04T13:15:00.000000000",
          "2024-08-04T16:58:00.000000000",
          "2024-08-05T16:59:00.000000000",
          "2024-08-05T23:24:00.000000000",
          "2024-08-06T12:33:00.000000000",
          "2024-08-06T17:12:00.000000000",
          "2024-08-07T12:14:00.000000000",
          "2024-08-07T17:01:00.000000000",
          "2024-08-08T11:56:00.000000000",
          "2024-08-08T17:00:00.000000000",
          "2024-08-08T17:21:00.000000000",
          "2024-08-09T12:45:00.000000000",
          "2024-08-09T16:38:00.000000000",
          "2024-08-09T21:29:00.000000000",
          "2024-08-10T12:06:00.000000000",
          "2024-08-10T16:46:00.000000000",
          "2024-08-10T21:04:00.000000000",
          "2024-08-11T23:01:00.000000000",
          "2024-08-12T12:00:00.000000000",
          "2024-08-12T17:34:00.000000000",
          "2024-08-12T21:35:00.000000000",
          "2024-08-13T12:11:00.000000000",
          "2024-08-13T18:19:00.000000000",
          "2024-08-13T22:13:00.000000000",
          "2024-08-14T14:26:00.000000000",
          "2024-08-14T16:59:00.000000000",
          "2024-08-14T22:33:00.000000000",
          "2024-08-15T11:37:00.000000000",
          "2024-08-15T18:19:00.000000000",
          "2024-08-15T22:13:00.000000000",
          "2024-08-16T12:16:00.000000000",
          "2024-08-16T16:59:00.000000000",
          "2024-08-16T22:45:00.000000000",
          "2024-08-17T11:58:00.000000000",
          "2024-08-17T17:00:00.000000000",
          "2024-08-18T13:43:00.000000000",
          "2024-08-18T17:07:00.000000000",
          "2024-08-19T12:16:00.000000000",
          "2024-08-19T19:58:00.000000000",
          "2024-08-20T12:19:00.000000000",
          "2024-08-20T17:57:00.000000000",
          "2024-08-20T22:31:00.000000000",
          "2024-08-21T13:09:00.000000000",
          "2024-08-21T23:04:00.000000000",
          "2024-08-22T11:59:00.000000000",
          "2024-08-22T17:24:00.000000000",
          "2024-08-23T11:59:00.000000000",
          "2024-08-23T17:22:00.000000000",
          "2024-08-24T12:35:00.000000000",
          "2024-08-24T18:54:00.000000000",
          "2024-08-24T22:41:00.000000000",
          "2024-08-25T13:38:00.000000000",
          "2024-08-25T17:22:00.000000000",
          "2024-08-26T14:01:00.000000000",
          "2024-08-26T16:35:00.000000000",
          "2024-08-26T20:05:00.000000000",
          "2024-08-27T12:20:00.000000000",
          "2024-08-27T16:59:00.000000000",
          "2024-08-27T21:48:00.000000000",
          "2024-08-28T13:13:00.000000000",
          "2024-08-28T18:52:00.000000000",
          "2024-08-28T22:46:00.000000000",
          "2024-08-29T12:37:00.000000000",
          "2024-08-29T17:00:00.000000000",
          "2024-08-30T12:50:00.000000000",
          "2024-08-30T17:08:00.000000000",
          "2024-08-31T12:39:00.000000000",
          "2024-08-31T17:16:00.000000000",
          "2024-09-01T15:28:00.000000000",
          "2024-09-01T23:18:00.000000000",
          "2024-09-02T12:25:00.000000000",
          "2024-09-02T17:32:00.000000000",
          "2024-09-03T12:27:00.000000000",
          "2024-09-03T18:04:00.000000000",
          "2024-09-04T12:36:00.000000000",
          "2024-09-04T19:25:00.000000000",
          "2024-09-05T15:05:00.000000000",
          "2024-09-05T16:59:00.000000000",
          "2024-09-06T11:59:00.000000000",
          "2024-09-06T12:02:00.000000000",
          "2024-09-06T17:20:00.000000000",
          "2024-09-06T21:41:00.000000000",
          "2024-09-07T15:07:00.000000000",
          "2024-09-07T20:55:00.000000000",
          "2024-09-08T18:03:00.000000000",
          "2024-09-09T12:59:00.000000000",
          "2024-09-09T22:11:00.000000000",
          "2024-09-10T12:34:00.000000000",
          "2024-09-10T17:58:00.000000000",
          "2024-09-10T22:55:00.000000000",
          "2024-09-11T12:59:00.000000000",
          "2024-09-11T18:52:00.000000000",
          "2024-09-12T12:59:00.000000000",
          "2024-09-12T17:40:00.000000000",
          "2024-09-12T22:23:00.000000000",
          "2024-09-13T12:46:00.000000000",
          "2024-09-13T17:00:00.000000000",
          "2024-09-13T22:26:00.000000000",
          "2024-09-14T14:10:00.000000000",
          "2024-09-14T17:43:00.000000000",
          "2024-09-15T12:48:00.000000000",
          "2024-09-15T19:12:00.000000000",
          "2024-09-16T11:36:00.000000000",
          "2024-09-16T21:45:00.000000000",
          "2024-09-17T12:01:00.000000000",
          "2024-09-17T16:49:00.000000000",
          "2024-09-17T22:09:00.000000000",
          "2024-09-18T11:59:00.000000000",
          "2024-09-18T23:00:00.000000000",
          "2024-09-19T11:53:00.000000000",
          "2024-09-19T17:00:00.000000000",
          "2024-09-19T23:50:00.000000000",
          "2024-09-20T12:00:00.000000000",
          "2024-09-20T17:20:00.000000000",
          "2024-09-21T13:38:00.000000000",
          "2024-09-21T17:02:00.000000000",
          "2024-09-22T12:02:00.000000000",
          "2024-09-22T17:02:00.000000000",
          "2024-09-23T12:05:00.000000000",
          "2024-09-23T17:39:00.000000000",
          "2024-09-24T11:59:00.000000000",
          "2024-09-24T18:42:00.000000000",
          "2024-09-25T11:59:00.000000000",
          "2024-09-25T16:58:00.000000000",
          "2024-09-26T11:59:00.000000000",
          "2024-09-26T17:25:00.000000000",
          "2024-09-27T12:05:00.000000000",
          "2024-09-27T19:22:00.000000000",
          "2024-09-28T17:13:00.000000000",
          "2024-09-29T12:59:00.000000000",
          "2024-09-29T22:25:00.000000000",
          "2024-09-30T12:00:00.000000000",
          "2024-09-30T17:31:00.000000000",
          "2024-09-30T22:21:00.000000000",
          "2024-10-01T11:59:00.000000000",
          "2024-10-01T16:59:00.000000000",
          "2024-10-02T11:59:00.000000000",
          "2024-10-02T17:00:00.000000000",
          "2024-10-03T11:59:00.000000000",
          "2024-10-03T18:34:00.000000000",
          "2024-10-04T12:07:00.000000000",
          "2024-10-04T16:58:00.000000000",
          "2024-10-05T14:16:00.000000000",
          "2024-10-06T10:44:00.000000000",
          "2024-10-07T12:02:00.000000000",
          "2024-10-07T16:58:00.000000000",
          "2024-10-08T13:12:00.000000000",
          "2024-10-09T12:47:00.000000000",
          "2024-10-09T16:44:00.000000000",
          "2024-10-10T13:23:00.000000000",
          "2024-10-10T18:10:00.000000000",
          "2024-10-10T22:15:00.000000000",
          "2024-10-11T11:59:00.000000000",
          "2024-10-11T18:17:00.000000000",
          "2024-10-11T22:40:00.000000000",
          "2024-10-12T13:04:00.000000000",
          "2024-10-12T19:19:00.000000000",
          "2024-10-13T11:59:00.000000000",
          "2024-10-13T17:25:00.000000000",
          "2024-10-14T13:05:00.000000000",
          "2024-10-14T20:11:00.000000000",
          "2024-10-15T11:39:00.000000000",
          "2024-10-15T18:42:00.000000000",
          "2024-10-16T12:04:00.000000000",
          "2024-10-16T17:00:00.000000000",
          "2024-10-17T12:18:00.000000000",
          "2024-10-17T18:58:00.000000000",
          "2024-10-18T12:59:00.000000000",
          "2024-10-19T13:47:00.000000000",
          "2024-10-19T17:21:00.000000000",
          "2024-10-19T21:31:00.000000000",
          "2024-10-20T21:23:00.000000000",
          "2024-10-21T11:58:00.000000000",
          "2024-10-21T17:31:00.000000000",
          "2024-10-22T11:59:00.000000000",
          "2024-10-22T17:54:00.000000000",
          "2024-10-23T15:21:00.000000000",
          "2024-10-24T11:59:00.000000000",
          "2024-10-24T19:24:00.000000000",
          "2024-10-25T13:01:00.000000000",
          "2024-10-26T15:18:00.000000000",
          "2024-10-26T17:48:00.000000000",
          "2024-10-27T11:59:00.000000000",
          "2024-10-28T12:14:00.000000000",
          "2024-10-28T17:30:00.000000000",
          "2024-10-29T12:01:00.000000000",
          "2024-10-29T17:24:00.000000000",
          "2024-10-30T12:22:00.000000000",
          "2024-10-30T17:10:00.000000000",
          "2024-10-31T12:00:00.000000000",
          "2024-10-31T21:21:00.000000000",
          "2024-11-01T11:59:00.000000000",
          "2024-11-01T23:22:00.000000000",
          "2024-11-02T13:03:00.000000000",
          "2024-11-02T16:59:00.000000000",
          "2024-11-03T17:01:00.000000000",
          "2024-11-04T13:35:00.000000000",
          "2024-11-04T17:50:00.000000000",
          "2024-11-05T16:04:00.000000000",
          "2024-11-06T17:11:00.000000000",
          "2024-11-07T12:27:00.000000000",
          "2024-11-07T17:34:00.000000000",
          "2024-11-08T11:59:00.000000000",
          "2024-11-08T17:05:00.000000000",
          "2024-11-09T11:58:00.000000000",
          "2024-11-09T22:02:00.000000000",
          "2024-11-10T18:28:00.000000000",
          "2024-11-11T13:13:00.000000000",
          "2024-11-11T19:19:00.000000000",
          "2024-11-12T12:09:00.000000000",
          "2024-11-12T22:18:00.000000000",
          "2024-11-13T12:00:00.000000000",
          "2024-11-14T11:52:00.000000000",
          "2024-11-14T21:00:00.000000000",
          "2024-11-15T12:26:00.000000000",
          "2024-11-15T17:27:00.000000000",
          "2024-11-16T13:37:00.000000000",
          "2024-11-16T18:40:00.000000000",
          "2024-11-17T17:52:00.000000000",
          "2024-11-18T12:49:00.000000000",
          "2024-11-18T20:21:00.000000000",
          "2024-11-19T12:30:00.000000000",
          "2024-11-19T18:48:00.000000000",
          "2024-11-20T12:21:00.000000000",
          "2024-11-20T19:02:00.000000000",
          "2024-11-20T22:28:00.000000000",
          "2024-11-21T11:59:00.000000000",
          "2024-11-21T20:51:00.000000000",
          "2024-11-22T11:59:00.000000000",
          "2024-11-22T17:15:00.000000000",
          "2024-11-22T23:27:00.000000000",
          "2024-11-23T11:58:00.000000000",
          "2024-11-23T19:18:00.000000000",
          "2024-11-23T22:24:00.000000000",
          "2024-11-25T11:54:00.000000000",
          "2024-11-25T16:58:00.000000000",
          "2024-11-25T23:08:00.000000000",
          "2024-11-26T11:59:00.000000000",
          "2024-11-26T18:20:00.000000000",
          "2024-11-26T22:02:00.000000000",
          "2024-11-27T13:23:00.000000000",
          "2024-11-27T18:31:00.000000000",
          "2024-11-28T14:46:00.000000000",
          "2024-11-28T23:32:00.000000000",
          "2024-11-29T13:35:00.000000000",
          "2024-11-29T16:58:00.000000000",
          "2024-11-30T14:11:00.000000000",
          "2024-11-30T17:00:00.000000000",
          "2024-12-01T13:58:00.000000000",
          "2024-12-02T11:32:00.000000000",
          "2024-12-02T18:46:00.000000000",
          "2024-12-03T12:08:00.000000000",
          "2024-12-03T18:21:00.000000000",
          "2024-12-04T12:15:00.000000000",
          "2024-12-04T17:42:00.000000000",
          "2024-12-05T12:37:00.000000000",
          "2024-12-05T20:15:00.000000000",
          "2024-12-06T12:00:00.000000000",
          "2024-12-06T17:06:00.000000000",
          "2024-12-07T12:28:00.000000000",
          "2024-12-08T11:59:00.000000000",
          "2024-12-09T11:59:00.000000000",
          "2024-12-09T17:50:00.000000000",
          "2024-12-10T12:31:00.000000000",
          "2024-12-10T19:05:00.000000000",
          "2024-12-11T12:00:00.000000000",
          "2024-12-11T18:24:00.000000000",
          "2024-12-12T12:01:00.000000000",
          "2024-12-12T18:02:00.000000000",
          "2024-12-13T11:59:00.000000000",
          "2024-12-13T19:24:00.000000000",
          "2024-12-14T11:59:00.000000000",
          "2024-12-16T14:01:00.000000000",
          "2024-12-16T17:51:00.000000000",
          "2024-12-17T11:59:00.000000000",
          "2024-12-17T18:08:00.000000000",
          "2024-12-18T12:00:00.000000000",
          "2024-12-18T17:19:00.000000000",
          "2024-12-19T12:07:00.000000000",
          "2024-12-19T17:03:00.000000000",
          "2024-12-20T12:06:00.000000000",
          "2024-12-20T19:40:00.000000000",
          "2024-12-21T16:59:00.000000000",
          "2024-12-22T16:05:00.000000000",
          "2024-12-23T12:05:00.000000000",
          "2024-12-23T17:22:00.000000000",
          "2024-12-24T12:02:00.000000000",
          "2024-12-24T17:53:00.000000000",
          "2024-12-25T11:59:00.000000000",
          "2024-12-25T17:11:00.000000000",
          "2024-12-26T12:42:00.000000000",
          "2024-12-26T17:08:00.000000000",
          "2024-12-27T21:27:00.000000000",
          "2024-12-28T14:31:00.000000000",
          "2024-12-30T12:25:00.000000000",
          "2024-12-30T17:34:00.000000000",
          "2024-12-31T14:48:00.000000000",
          "2024-12-31T16:58:00.000000000",
          "2025-01-01T14:22:00.000000000",
          "2025-01-01T17:30:00.000000000",
          "2025-01-02T17:20:00.000000000",
          "2025-01-03T11:44:00.000000000",
          "2025-01-04T17:12:00.000000000",
          "2025-01-05T11:59:00.000000000",
          "2025-01-05T16:58:00.000000000",
          "2025-01-06T17:51:00.000000000",
          "2025-01-07T23:39:00.000000000",
          "2025-01-08T11:10:00.000000000",
          "2025-01-08T17:16:00.000000000",
          "2025-01-09T12:07:00.000000000",
          "2025-01-09T16:54:00.000000000",
          "2025-01-10T15:18:00.000000000",
          "2025-01-10T17:18:00.000000000",
          "2025-01-11T11:59:00.000000000",
          "2025-01-12T11:59:00.000000000",
          "2025-01-13T17:42:00.000000000",
          "2025-01-14T11:59:00.000000000",
          "2025-01-14T18:26:00.000000000",
          "2025-01-15T11:59:00.000000000",
          "2025-01-15T19:28:00.000000000",
          "2025-01-16T12:58:00.000000000",
          "2025-01-16T20:52:00.000000000",
          "2025-01-17T11:55:00.000000000",
          "2025-01-17T18:28:00.000000000",
          "2025-01-18T16:26:00.000000000",
          "2025-01-19T21:49:00.000000000",
          "2025-01-20T11:59:00.000000000",
          "2025-01-20T18:05:00.000000000",
          "2025-01-21T15:36:00.000000000",
          "2025-01-22T11:58:00.000000000",
          "2025-01-22T16:58:00.000000000",
          "2025-01-23T12:22:00.000000000",
          "2025-01-23T16:47:00.000000000",
          "2025-01-24T11:44:00.000000000",
          "2025-01-25T13:32:00.000000000",
          "2025-01-25T17:13:00.000000000",
          "2025-01-26T16:25:00.000000000",
          "2025-01-27T13:08:00.000000000",
          "2025-01-27T18:20:00.000000000",
          "2025-01-28T12:03:00.000000000",
          "2025-01-29T13:37:00.000000000",
          "2025-01-29T21:59:00.000000000",
          "2025-01-30T12:56:00.000000000",
          "2025-01-30T18:59:00.000000000",
          "2025-01-31T14:44:00.000000000",
          "2025-01-31T20:01:00.000000000",
          "2025-02-01T16:06:00.000000000",
          "2025-02-01T19:26:00.000000000",
          "2025-02-03T12:05:00.000000000",
          "2025-02-03T18:34:00.000000000",
          "2025-02-04T12:16:00.000000000",
          "2025-02-05T13:09:00.000000000",
          "2025-02-05T21:08:00.000000000",
          "2025-02-06T12:03:00.000000000",
          "2025-02-06T16:30:00.000000000",
          "2025-02-07T12:00:00.000000000",
          "2025-02-08T15:20:00.000000000",
          "2025-02-08T17:44:00.000000000",
          "2025-02-09T11:59:00.000000000",
          "2025-02-10T12:25:00.000000000",
          "2025-02-10T16:59:00.000000000",
          "2025-02-11T11:59:00.000000000",
          "2025-02-11T17:00:00.000000000",
          "2025-02-12T11:42:00.000000000",
          "2025-02-13T12:40:00.000000000",
          "2025-02-13T17:00:00.000000000",
          "2025-02-14T13:08:00.000000000",
          "2025-02-14T17:20:00.000000000",
          "2025-02-15T14:14:00.000000000",
          "2025-02-15T16:59:00.000000000",
          "2025-02-16T15:11:00.000000000",
          "2025-02-17T14:52:00.000000000",
          "2025-02-17T17:47:00.000000000",
          "2025-02-18T12:40:00.000000000",
          "2025-02-18T18:53:00.000000000",
          "2025-02-19T12:11:00.000000000",
          "2025-02-19T19:29:00.000000000",
          "2025-02-20T12:28:00.000000000",
          "2025-02-20T17:12:00.000000000",
          "2025-02-21T12:01:00.000000000",
          "2025-02-21T17:06:00.000000000",
          "2025-02-22T13:08:00.000000000",
          "2025-02-22T17:23:00.000000000",
          "2025-02-23T17:56:00.000000000",
          "2025-02-24T12:26:00.000000000",
          "2025-02-25T11:53:00.000000000",
          "2025-02-25T19:29:00.000000000",
          "2025-02-26T11:59:00.000000000",
          "2025-02-26T20:34:00.000000000",
          "2025-02-27T13:37:00.000000000",
          "2025-02-27T17:39:00.000000000",
          "2025-02-28T11:44:00.000000000",
          "2025-02-28T16:50:00.000000000",
          "2025-03-01T13:57:00.000000000",
          "2025-03-01T18:35:00.000000000",
          "2025-03-02T13:30:00.000000000",
          "2025-03-04T13:01:00.000000000",
          "2025-03-05T12:53:00.000000000",
          "2025-03-05T20:07:00.000000000",
          "2025-03-06T17:10:00.000000000",
          "2025-03-07T12:38:00.000000000",
          "2025-03-08T11:59:00.000000000",
          "2025-03-10T12:02:00.000000000",
          "2025-03-10T19:55:00.000000000",
          "2025-03-11T16:56:00.000000000",
          "2025-03-12T12:34:00.000000000",
          "2025-03-12T18:26:00.000000000",
          "2025-03-12T23:11:00.000000000",
          "2025-03-13T11:43:00.000000000",
          "2025-03-13T19:39:00.000000000",
          "2025-03-13T22:43:00.000000000",
          "2025-03-14T11:59:00.000000000",
          "2025-03-14T16:59:00.000000000",
          "2025-03-15T13:59:00.000000000",
          "2025-03-15T16:58:00.000000000",
          "2025-03-16T16:59:00.000000000",
          "2025-03-17T11:55:00.000000000",
          "2025-03-17T21:07:00.000000000",
          "2025-03-18T12:08:00.000000000",
          "2025-03-18T18:52:00.000000000",
          "2025-03-19T13:13:00.000000000",
          "2025-03-19T18:04:00.000000000",
          "2025-03-20T12:00:00.000000000",
          "2025-03-21T11:59:00.000000000",
          "2025-03-21T19:15:00.000000000",
          "2025-03-22T16:42:00.000000000",
          "2025-03-24T12:04:00.000000000",
          "2025-03-24T16:56:00.000000000",
          "2025-03-25T12:07:00.000000000",
          "2025-03-25T17:27:00.000000000",
          "2025-03-26T11:59:00.000000000",
          "2025-03-26T16:52:00.000000000",
          "2025-03-27T12:03:00.000000000",
          "2025-03-27T19:32:00.000000000",
          "2025-03-28T12:24:00.000000000",
          "2025-03-28T17:10:00.000000000",
          "2025-03-29T13:38:00.000000000",
          "2025-03-29T16:58:00.000000000",
          "2025-03-30T11:58:00.000000000",
          "2025-03-30T15:59:00.000000000",
          "2025-03-31T12:08:00.000000000",
          "2025-03-31T16:59:00.000000000",
          "2025-04-01T12:00:00.000000000",
          "2025-04-01T20:13:00.000000000",
          "2025-04-02T13:10:00.000000000",
          "2025-04-02T18:32:00.000000000",
          "2025-04-03T15:08:00.000000000",
          "2025-04-03T19:08:00.000000000",
          "2025-04-04T11:59:00.000000000",
          "2025-04-04T18:16:00.000000000",
          "2025-04-05T13:25:00.000000000",
          "2025-04-05T17:01:00.000000000",
          "2025-04-06T13:01:00.000000000",
          "2025-04-07T12:11:00.000000000",
          "2025-04-07T18:00:00.000000000",
          "2025-04-08T12:13:00.000000000",
          "2025-04-08T17:37:00.000000000",
          "2025-04-09T12:29:00.000000000",
          "2025-04-09T20:45:00.000000000",
          "2025-04-10T12:15:00.000000000",
          "2025-04-10T18:39:00.000000000",
          "2025-04-11T14:54:00.000000000",
          "2025-04-11T17:00:00.000000000",
          "2025-04-12T12:14:00.000000000",
          "2025-04-12T17:16:00.000000000",
          "2025-04-13T12:00:00.000000000",
          "2025-04-13T17:03:00.000000000",
          "2025-04-14T12:06:00.000000000"
         ],
         "y": {
          "bdata": "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",
          "dtype": "f8"
         }
        },
        {
         "line": {
          "color": "red"
         },
         "mode": "lines",
         "name": "Sell",
         "type": "scatter",
         "x": [
          "2023-09-21T18:00:00.000000000",
          "2023-09-22T18:00:00.000000000",
          "2023-11-18T10:00:00.000000000",
          "2023-12-12T17:00:00.000000000",
          "2024-02-22T09:47:00.000000000",
          "2024-02-26T12:59:00.000000000",
          "2024-03-01T11:38:00.000000000",
          "2024-03-13T11:44:00.000000000",
          "2024-03-25T08:49:00.000000000",
          "2024-05-06T13:09:00.000000000",
          "2024-05-22T09:37:00.000000000",
          "2024-05-23T17:41:00.000000000",
          "2024-06-14T12:35:00.000000000",
          "2024-06-17T08:40:00.000000000",
          "2024-06-18T11:53:00.000000000",
          "2024-06-19T11:58:00.000000000",
          "2024-06-20T12:35:00.000000000",
          "2024-06-21T10:38:00.000000000",
          "2024-06-22T10:36:00.000000000",
          "2024-06-23T14:56:00.000000000",
          "2024-06-24T11:07:00.000000000",
          "2024-06-25T11:34:00.000000000",
          "2024-06-26T11:15:00.000000000",
          "2024-06-26T22:24:00.000000000",
          "2024-06-27T00:21:00.000000000",
          "2024-06-27T10:33:00.000000000",
          "2024-06-27T17:57:00.000000000",
          "2024-06-28T11:35:00.000000000",
          "2024-06-29T12:24:00.000000000",
          "2024-06-30T10:15:00.000000000",
          "2024-07-01T12:30:00.000000000",
          "2024-07-02T13:13:00.000000000",
          "2024-07-03T12:08:00.000000000",
          "2024-07-04T09:46:00.000000000",
          "2024-07-05T16:17:00.000000000",
          "2024-07-05T17:08:00.000000000",
          "2024-07-06T11:00:00.000000000",
          "2024-07-07T17:04:00.000000000",
          "2024-07-08T10:01:00.000000000",
          "2024-07-09T15:42:00.000000000",
          "2024-07-10T10:19:00.000000000",
          "2024-07-11T09:45:00.000000000",
          "2024-07-12T12:59:00.000000000",
          "2024-07-13T13:00:00.000000000",
          "2024-07-14T12:59:00.000000000",
          "2024-07-15T10:15:00.000000000",
          "2024-07-16T09:21:00.000000000",
          "2024-07-17T12:46:00.000000000",
          "2024-07-18T10:28:00.000000000",
          "2024-07-18T19:16:00.000000000",
          "2024-07-19T12:49:00.000000000",
          "2024-07-20T12:22:00.000000000",
          "2024-07-21T11:19:00.000000000",
          "2024-07-22T09:28:00.000000000",
          "2024-07-23T09:56:00.000000000",
          "2024-07-24T13:02:00.000000000",
          "2024-07-25T08:44:00.000000000",
          "2024-07-26T12:59:00.000000000",
          "2024-07-28T12:59:00.000000000",
          "2024-07-29T11:12:00.000000000",
          "2024-07-30T00:00:00.000000000",
          "2024-07-30T10:29:00.000000000",
          "2024-07-31T17:41:00.000000000",
          "2024-07-31T22:41:00.000000000",
          "2024-08-01T10:19:00.000000000",
          "2024-08-01T13:21:00.000000000",
          "2024-08-01T16:55:00.000000000",
          "2024-08-02T11:11:00.000000000",
          "2024-08-02T18:08:00.000000000",
          "2024-08-03T14:42:00.000000000",
          "2024-08-04T13:15:00.000000000",
          "2024-08-04T16:58:00.000000000",
          "2024-08-05T16:59:00.000000000",
          "2024-08-05T23:24:00.000000000",
          "2024-08-06T12:33:00.000000000",
          "2024-08-06T17:12:00.000000000",
          "2024-08-07T12:14:00.000000000",
          "2024-08-07T17:01:00.000000000",
          "2024-08-08T11:56:00.000000000",
          "2024-08-08T17:00:00.000000000",
          "2024-08-08T17:21:00.000000000",
          "2024-08-09T12:45:00.000000000",
          "2024-08-09T16:38:00.000000000",
          "2024-08-09T21:29:00.000000000",
          "2024-08-10T12:06:00.000000000",
          "2024-08-10T16:46:00.000000000",
          "2024-08-10T21:04:00.000000000",
          "2024-08-11T23:01:00.000000000",
          "2024-08-12T12:00:00.000000000",
          "2024-08-12T17:34:00.000000000",
          "2024-08-12T21:35:00.000000000",
          "2024-08-13T12:11:00.000000000",
          "2024-08-13T18:19:00.000000000",
          "2024-08-13T22:13:00.000000000",
          "2024-08-14T14:26:00.000000000",
          "2024-08-14T16:59:00.000000000",
          "2024-08-14T22:33:00.000000000",
          "2024-08-15T11:37:00.000000000",
          "2024-08-15T18:19:00.000000000",
          "2024-08-15T22:13:00.000000000",
          "2024-08-16T12:16:00.000000000",
          "2024-08-16T16:59:00.000000000",
          "2024-08-16T22:45:00.000000000",
          "2024-08-17T11:58:00.000000000",
          "2024-08-17T17:00:00.000000000",
          "2024-08-18T13:43:00.000000000",
          "2024-08-18T17:07:00.000000000",
          "2024-08-19T12:16:00.000000000",
          "2024-08-19T19:58:00.000000000",
          "2024-08-20T12:19:00.000000000",
          "2024-08-20T17:57:00.000000000",
          "2024-08-20T22:31:00.000000000",
          "2024-08-21T13:09:00.000000000",
          "2024-08-21T23:04:00.000000000",
          "2024-08-22T11:59:00.000000000",
          "2024-08-22T17:24:00.000000000",
          "2024-08-23T11:59:00.000000000",
          "2024-08-23T17:22:00.000000000",
          "2024-08-24T12:35:00.000000000",
          "2024-08-24T18:54:00.000000000",
          "2024-08-24T22:41:00.000000000",
          "2024-08-25T13:38:00.000000000",
          "2024-08-25T17:22:00.000000000",
          "2024-08-26T14:01:00.000000000",
          "2024-08-26T16:35:00.000000000",
          "2024-08-26T20:05:00.000000000",
          "2024-08-27T12:20:00.000000000",
          "2024-08-27T16:59:00.000000000",
          "2024-08-27T21:48:00.000000000",
          "2024-08-28T13:13:00.000000000",
          "2024-08-28T18:52:00.000000000",
          "2024-08-28T22:46:00.000000000",
          "2024-08-29T12:37:00.000000000",
          "2024-08-29T17:00:00.000000000",
          "2024-08-30T12:50:00.000000000",
          "2024-08-30T17:08:00.000000000",
          "2024-08-31T12:39:00.000000000",
          "2024-08-31T17:16:00.000000000",
          "2024-09-01T15:28:00.000000000",
          "2024-09-01T23:18:00.000000000",
          "2024-09-02T12:25:00.000000000",
          "2024-09-02T17:32:00.000000000",
          "2024-09-03T12:27:00.000000000",
          "2024-09-03T18:04:00.000000000",
          "2024-09-04T12:36:00.000000000",
          "2024-09-04T19:25:00.000000000",
          "2024-09-05T15:05:00.000000000",
          "2024-09-05T16:59:00.000000000",
          "2024-09-06T11:59:00.000000000",
          "2024-09-06T12:02:00.000000000",
          "2024-09-06T17:20:00.000000000",
          "2024-09-06T21:41:00.000000000",
          "2024-09-07T15:07:00.000000000",
          "2024-09-07T20:55:00.000000000",
          "2024-09-08T18:03:00.000000000",
          "2024-09-09T12:59:00.000000000",
          "2024-09-09T22:11:00.000000000",
          "2024-09-10T12:34:00.000000000",
          "2024-09-10T17:58:00.000000000",
          "2024-09-10T22:55:00.000000000",
          "2024-09-11T12:59:00.000000000",
          "2024-09-11T18:52:00.000000000",
          "2024-09-12T12:59:00.000000000",
          "2024-09-12T17:40:00.000000000",
          "2024-09-12T22:23:00.000000000",
          "2024-09-13T12:46:00.000000000",
          "2024-09-13T17:00:00.000000000",
          "2024-09-13T22:26:00.000000000",
          "2024-09-14T14:10:00.000000000",
          "2024-09-14T17:43:00.000000000",
          "2024-09-15T12:48:00.000000000",
          "2024-09-15T19:12:00.000000000",
          "2024-09-16T11:36:00.000000000",
          "2024-09-16T21:45:00.000000000",
          "2024-09-17T12:01:00.000000000",
          "2024-09-17T16:49:00.000000000",
          "2024-09-17T22:09:00.000000000",
          "2024-09-18T11:59:00.000000000",
          "2024-09-18T23:00:00.000000000",
          "2024-09-19T11:53:00.000000000",
          "2024-09-19T17:00:00.000000000",
          "2024-09-19T23:50:00.000000000",
          "2024-09-20T12:00:00.000000000",
          "2024-09-20T17:20:00.000000000",
          "2024-09-21T13:38:00.000000000",
          "2024-09-21T17:02:00.000000000",
          "2024-09-22T12:02:00.000000000",
          "2024-09-22T17:02:00.000000000",
          "2024-09-23T12:05:00.000000000",
          "2024-09-23T17:39:00.000000000",
          "2024-09-24T11:59:00.000000000",
          "2024-09-24T18:42:00.000000000",
          "2024-09-25T11:59:00.000000000",
          "2024-09-25T16:58:00.000000000",
          "2024-09-26T11:59:00.000000000",
          "2024-09-26T17:25:00.000000000",
          "2024-09-27T12:05:00.000000000",
          "2024-09-27T19:22:00.000000000",
          "2024-09-28T17:13:00.000000000",
          "2024-09-29T12:59:00.000000000",
          "2024-09-29T22:25:00.000000000",
          "2024-09-30T12:00:00.000000000",
          "2024-09-30T17:31:00.000000000",
          "2024-09-30T22:21:00.000000000",
          "2024-10-01T11:59:00.000000000",
          "2024-10-01T16:59:00.000000000",
          "2024-10-02T11:59:00.000000000",
          "2024-10-02T17:00:00.000000000",
          "2024-10-03T11:59:00.000000000",
          "2024-10-03T18:34:00.000000000",
          "2024-10-04T12:07:00.000000000",
          "2024-10-04T16:58:00.000000000",
          "2024-10-05T14:16:00.000000000",
          "2024-10-06T10:44:00.000000000",
          "2024-10-07T12:02:00.000000000",
          "2024-10-07T16:58:00.000000000",
          "2024-10-08T13:12:00.000000000",
          "2024-10-09T12:47:00.000000000",
          "2024-10-09T16:44:00.000000000",
          "2024-10-10T13:23:00.000000000",
          "2024-10-10T18:10:00.000000000",
          "2024-10-10T22:15:00.000000000",
          "2024-10-11T11:59:00.000000000",
          "2024-10-11T18:17:00.000000000",
          "2024-10-11T22:40:00.000000000",
          "2024-10-12T13:04:00.000000000",
          "2024-10-12T19:19:00.000000000",
          "2024-10-13T11:59:00.000000000",
          "2024-10-13T17:25:00.000000000",
          "2024-10-14T13:05:00.000000000",
          "2024-10-14T20:11:00.000000000",
          "2024-10-15T11:39:00.000000000",
          "2024-10-15T18:42:00.000000000",
          "2024-10-16T12:04:00.000000000",
          "2024-10-16T17:00:00.000000000",
          "2024-10-17T12:18:00.000000000",
          "2024-10-17T18:58:00.000000000",
          "2024-10-18T12:59:00.000000000",
          "2024-10-19T13:47:00.000000000",
          "2024-10-19T17:21:00.000000000",
          "2024-10-19T21:31:00.000000000",
          "2024-10-20T21:23:00.000000000",
          "2024-10-21T11:58:00.000000000",
          "2024-10-21T17:31:00.000000000",
          "2024-10-22T11:59:00.000000000",
          "2024-10-22T17:54:00.000000000",
          "2024-10-23T15:21:00.000000000",
          "2024-10-24T11:59:00.000000000",
          "2024-10-24T19:24:00.000000000",
          "2024-10-25T13:01:00.000000000",
          "2024-10-26T15:18:00.000000000",
          "2024-10-26T17:48:00.000000000",
          "2024-10-27T11:59:00.000000000",
          "2024-10-28T12:14:00.000000000",
          "2024-10-28T17:30:00.000000000",
          "2024-10-29T12:01:00.000000000",
          "2024-10-29T17:24:00.000000000",
          "2024-10-30T12:22:00.000000000",
          "2024-10-30T17:10:00.000000000",
          "2024-10-31T12:00:00.000000000",
          "2024-10-31T21:21:00.000000000",
          "2024-11-01T11:59:00.000000000",
          "2024-11-01T23:22:00.000000000",
          "2024-11-02T13:03:00.000000000",
          "2024-11-02T16:59:00.000000000",
          "2024-11-03T17:01:00.000000000",
          "2024-11-04T13:35:00.000000000",
          "2024-11-04T17:50:00.000000000",
          "2024-11-05T16:04:00.000000000",
          "2024-11-06T17:11:00.000000000",
          "2024-11-07T12:27:00.000000000",
          "2024-11-07T17:34:00.000000000",
          "2024-11-08T11:59:00.000000000",
          "2024-11-08T17:05:00.000000000",
          "2024-11-09T11:58:00.000000000",
          "2024-11-09T22:02:00.000000000",
          "2024-11-10T18:28:00.000000000",
          "2024-11-11T13:13:00.000000000",
          "2024-11-11T19:19:00.000000000",
          "2024-11-12T12:09:00.000000000",
          "2024-11-12T22:18:00.000000000",
          "2024-11-13T12:00:00.000000000",
          "2024-11-14T11:52:00.000000000",
          "2024-11-14T21:00:00.000000000",
          "2024-11-15T12:26:00.000000000",
          "2024-11-15T17:27:00.000000000",
          "2024-11-16T13:37:00.000000000",
          "2024-11-16T18:40:00.000000000",
          "2024-11-17T17:52:00.000000000",
          "2024-11-18T12:49:00.000000000",
          "2024-11-18T20:21:00.000000000",
          "2024-11-19T12:30:00.000000000",
          "2024-11-19T18:48:00.000000000",
          "2024-11-20T12:21:00.000000000",
          "2024-11-20T19:02:00.000000000",
          "2024-11-20T22:28:00.000000000",
          "2024-11-21T11:59:00.000000000",
          "2024-11-21T20:51:00.000000000",
          "2024-11-22T11:59:00.000000000",
          "2024-11-22T17:15:00.000000000",
          "2024-11-22T23:27:00.000000000",
          "2024-11-23T11:58:00.000000000",
          "2024-11-23T19:18:00.000000000",
          "2024-11-23T22:24:00.000000000",
          "2024-11-25T11:54:00.000000000",
          "2024-11-25T16:58:00.000000000",
          "2024-11-25T23:08:00.000000000",
          "2024-11-26T11:59:00.000000000",
          "2024-11-26T18:20:00.000000000",
          "2024-11-26T22:02:00.000000000",
          "2024-11-27T13:23:00.000000000",
          "2024-11-27T18:31:00.000000000",
          "2024-11-28T14:46:00.000000000",
          "2024-11-28T23:32:00.000000000",
          "2024-11-29T13:35:00.000000000",
          "2024-11-29T16:58:00.000000000",
          "2024-11-30T14:11:00.000000000",
          "2024-11-30T17:00:00.000000000",
          "2024-12-01T13:58:00.000000000",
          "2024-12-02T11:32:00.000000000",
          "2024-12-02T18:46:00.000000000",
          "2024-12-03T12:08:00.000000000",
          "2024-12-03T18:21:00.000000000",
          "2024-12-04T12:15:00.000000000",
          "2024-12-04T17:42:00.000000000",
          "2024-12-05T12:37:00.000000000",
          "2024-12-05T20:15:00.000000000",
          "2024-12-06T12:00:00.000000000",
          "2024-12-06T17:06:00.000000000",
          "2024-12-07T12:28:00.000000000",
          "2024-12-08T11:59:00.000000000",
          "2024-12-09T11:59:00.000000000",
          "2024-12-09T17:50:00.000000000",
          "2024-12-10T12:31:00.000000000",
          "2024-12-10T19:05:00.000000000",
          "2024-12-11T12:00:00.000000000",
          "2024-12-11T18:24:00.000000000",
          "2024-12-12T12:01:00.000000000",
          "2024-12-12T18:02:00.000000000",
          "2024-12-13T11:59:00.000000000",
          "2024-12-13T19:24:00.000000000",
          "2024-12-14T11:59:00.000000000",
          "2024-12-16T14:01:00.000000000",
          "2024-12-16T17:51:00.000000000",
          "2024-12-17T11:59:00.000000000",
          "2024-12-17T18:08:00.000000000",
          "2024-12-18T12:00:00.000000000",
          "2024-12-18T17:19:00.000000000",
          "2024-12-19T12:07:00.000000000",
          "2024-12-19T17:03:00.000000000",
          "2024-12-20T12:06:00.000000000",
          "2024-12-20T19:40:00.000000000",
          "2024-12-21T16:59:00.000000000",
          "2024-12-22T16:05:00.000000000",
          "2024-12-23T12:05:00.000000000",
          "2024-12-23T17:22:00.000000000",
          "2024-12-24T12:02:00.000000000",
          "2024-12-24T17:53:00.000000000",
          "2024-12-25T11:59:00.000000000",
          "2024-12-25T17:11:00.000000000",
          "2024-12-26T12:42:00.000000000",
          "2024-12-26T17:08:00.000000000",
          "2024-12-27T21:27:00.000000000",
          "2024-12-28T14:31:00.000000000",
          "2024-12-30T12:25:00.000000000",
          "2024-12-30T17:34:00.000000000",
          "2024-12-31T14:48:00.000000000",
          "2024-12-31T16:58:00.000000000",
          "2025-01-01T14:22:00.000000000",
          "2025-01-01T17:30:00.000000000",
          "2025-01-02T17:20:00.000000000",
          "2025-01-03T11:44:00.000000000",
          "2025-01-04T17:12:00.000000000",
          "2025-01-05T11:59:00.000000000",
          "2025-01-05T16:58:00.000000000",
          "2025-01-06T17:51:00.000000000",
          "2025-01-07T23:39:00.000000000",
          "2025-01-08T11:10:00.000000000",
          "2025-01-08T17:16:00.000000000",
          "2025-01-09T12:07:00.000000000",
          "2025-01-09T16:54:00.000000000",
          "2025-01-10T15:18:00.000000000",
          "2025-01-10T17:18:00.000000000",
          "2025-01-11T11:59:00.000000000",
          "2025-01-12T11:59:00.000000000",
          "2025-01-13T17:42:00.000000000",
          "2025-01-14T11:59:00.000000000",
          "2025-01-14T18:26:00.000000000",
          "2025-01-15T11:59:00.000000000",
          "2025-01-15T19:28:00.000000000",
          "2025-01-16T12:58:00.000000000",
          "2025-01-16T20:52:00.000000000",
          "2025-01-17T11:55:00.000000000",
          "2025-01-17T18:28:00.000000000",
          "2025-01-18T16:26:00.000000000",
          "2025-01-19T21:49:00.000000000",
          "2025-01-20T11:59:00.000000000",
          "2025-01-20T18:05:00.000000000",
          "2025-01-21T15:36:00.000000000",
          "2025-01-22T11:58:00.000000000",
          "2025-01-22T16:58:00.000000000",
          "2025-01-23T12:22:00.000000000",
          "2025-01-23T16:47:00.000000000",
          "2025-01-24T11:44:00.000000000",
          "2025-01-25T13:32:00.000000000",
          "2025-01-25T17:13:00.000000000",
          "2025-01-26T16:25:00.000000000",
          "2025-01-27T13:08:00.000000000",
          "2025-01-27T18:20:00.000000000",
          "2025-01-28T12:03:00.000000000",
          "2025-01-29T13:37:00.000000000",
          "2025-01-29T21:59:00.000000000",
          "2025-01-30T12:56:00.000000000",
          "2025-01-30T18:59:00.000000000",
          "2025-01-31T14:44:00.000000000",
          "2025-01-31T20:01:00.000000000",
          "2025-02-01T16:06:00.000000000",
          "2025-02-01T19:26:00.000000000",
          "2025-02-03T12:05:00.000000000",
          "2025-02-03T18:34:00.000000000",
          "2025-02-04T12:16:00.000000000",
          "2025-02-05T13:09:00.000000000",
          "2025-02-05T21:08:00.000000000",
          "2025-02-06T12:03:00.000000000",
          "2025-02-06T16:30:00.000000000",
          "2025-02-07T12:00:00.000000000",
          "2025-02-08T15:20:00.000000000",
          "2025-02-08T17:44:00.000000000",
          "2025-02-09T11:59:00.000000000",
          "2025-02-10T12:25:00.000000000",
          "2025-02-10T16:59:00.000000000",
          "2025-02-11T11:59:00.000000000",
          "2025-02-11T17:00:00.000000000",
          "2025-02-12T11:42:00.000000000",
          "2025-02-13T12:40:00.000000000",
          "2025-02-13T17:00:00.000000000",
          "2025-02-14T13:08:00.000000000",
          "2025-02-14T17:20:00.000000000",
          "2025-02-15T14:14:00.000000000",
          "2025-02-15T16:59:00.000000000",
          "2025-02-16T15:11:00.000000000",
          "2025-02-17T14:52:00.000000000",
          "2025-02-17T17:47:00.000000000",
          "2025-02-18T12:40:00.000000000",
          "2025-02-18T18:53:00.000000000",
          "2025-02-19T12:11:00.000000000",
          "2025-02-19T19:29:00.000000000",
          "2025-02-20T12:28:00.000000000",
          "2025-02-20T17:12:00.000000000",
          "2025-02-21T12:01:00.000000000",
          "2025-02-21T17:06:00.000000000",
          "2025-02-22T13:08:00.000000000",
          "2025-02-22T17:23:00.000000000",
          "2025-02-23T17:56:00.000000000",
          "2025-02-24T12:26:00.000000000",
          "2025-02-25T11:53:00.000000000",
          "2025-02-25T19:29:00.000000000",
          "2025-02-26T11:59:00.000000000",
          "2025-02-26T20:34:00.000000000",
          "2025-02-27T13:37:00.000000000",
          "2025-02-27T17:39:00.000000000",
          "2025-02-28T11:44:00.000000000",
          "2025-02-28T16:50:00.000000000",
          "2025-03-01T13:57:00.000000000",
          "2025-03-01T18:35:00.000000000",
          "2025-03-02T13:30:00.000000000",
          "2025-03-04T13:01:00.000000000",
          "2025-03-05T12:53:00.000000000",
          "2025-03-05T20:07:00.000000000",
          "2025-03-06T17:10:00.000000000",
          "2025-03-07T12:38:00.000000000",
          "2025-03-08T11:59:00.000000000",
          "2025-03-10T12:02:00.000000000",
          "2025-03-10T19:55:00.000000000",
          "2025-03-11T16:56:00.000000000",
          "2025-03-12T12:34:00.000000000",
          "2025-03-12T18:26:00.000000000",
          "2025-03-12T23:11:00.000000000",
          "2025-03-13T11:43:00.000000000",
          "2025-03-13T19:39:00.000000000",
          "2025-03-13T22:43:00.000000000",
          "2025-03-14T11:59:00.000000000",
          "2025-03-14T16:59:00.000000000",
          "2025-03-15T13:59:00.000000000",
          "2025-03-15T16:58:00.000000000",
          "2025-03-16T16:59:00.000000000",
          "2025-03-17T11:55:00.000000000",
          "2025-03-17T21:07:00.000000000",
          "2025-03-18T12:08:00.000000000",
          "2025-03-18T18:52:00.000000000",
          "2025-03-19T13:13:00.000000000",
          "2025-03-19T18:04:00.000000000",
          "2025-03-20T12:00:00.000000000",
          "2025-03-21T11:59:00.000000000",
          "2025-03-21T19:15:00.000000000",
          "2025-03-22T16:42:00.000000000",
          "2025-03-24T12:04:00.000000000",
          "2025-03-24T16:56:00.000000000",
          "2025-03-25T12:07:00.000000000",
          "2025-03-25T17:27:00.000000000",
          "2025-03-26T11:59:00.000000000",
          "2025-03-26T16:52:00.000000000",
          "2025-03-27T12:03:00.000000000",
          "2025-03-27T19:32:00.000000000",
          "2025-03-28T12:24:00.000000000",
          "2025-03-28T17:10:00.000000000",
          "2025-03-29T13:38:00.000000000",
          "2025-03-29T16:58:00.000000000",
          "2025-03-30T11:58:00.000000000",
          "2025-03-30T15:59:00.000000000",
          "2025-03-31T12:08:00.000000000",
          "2025-03-31T16:59:00.000000000",
          "2025-04-01T12:00:00.000000000",
          "2025-04-01T20:13:00.000000000",
          "2025-04-02T13:10:00.000000000",
          "2025-04-02T18:32:00.000000000",
          "2025-04-03T15:08:00.000000000",
          "2025-04-03T19:08:00.000000000",
          "2025-04-04T11:59:00.000000000",
          "2025-04-04T18:16:00.000000000",
          "2025-04-05T13:25:00.000000000",
          "2025-04-05T17:01:00.000000000",
          "2025-04-06T13:01:00.000000000",
          "2025-04-07T12:11:00.000000000",
          "2025-04-07T18:00:00.000000000",
          "2025-04-08T12:13:00.000000000",
          "2025-04-08T17:37:00.000000000",
          "2025-04-09T12:29:00.000000000",
          "2025-04-09T20:45:00.000000000",
          "2025-04-10T12:15:00.000000000",
          "2025-04-10T18:39:00.000000000",
          "2025-04-11T14:54:00.000000000",
          "2025-04-11T17:00:00.000000000",
          "2025-04-12T12:14:00.000000000",
          "2025-04-12T17:16:00.000000000",
          "2025-04-13T12:00:00.000000000",
          "2025-04-13T17:03:00.000000000",
          "2025-04-14T12:06:00.000000000"
         ],
         "y": {
          "bdata": "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",
          "dtype": "f8"
         }
        },
        {
         "line": {
          "color": "green"
         },
         "mode": "lines",
         "name": "usdtbol.com",
         "type": "scatter",
         "x": [
          "2024-08-06T00:00:00.000000000",
          "2024-08-07T00:00:00.000000000",
          "2024-08-08T00:00:00.000000000",
          "2024-08-09T00:00:00.000000000",
          "2024-08-10T00:00:00.000000000",
          "2024-08-11T00:00:00.000000000",
          "2024-08-12T00:00:00.000000000",
          "2024-08-13T00:00:00.000000000",
          "2024-08-14T00:00:00.000000000",
          "2024-08-15T00:00:00.000000000",
          "2024-08-16T00:00:00.000000000",
          "2024-08-17T00:00:00.000000000",
          "2024-08-18T00:00:00.000000000",
          "2024-08-19T00:00:00.000000000",
          "2024-08-20T00:00:00.000000000",
          "2024-08-21T00:00:00.000000000",
          "2024-08-22T00:00:00.000000000",
          "2024-08-23T00:00:00.000000000",
          "2024-08-24T00:00:00.000000000",
          "2024-08-25T00:00:00.000000000",
          "2024-08-26T00:00:00.000000000",
          "2024-08-27T00:00:00.000000000",
          "2024-08-28T00:00:00.000000000",
          "2024-08-29T00:00:00.000000000",
          "2024-08-30T00:00:00.000000000",
          "2024-08-31T00:00:00.000000000",
          "2024-09-01T00:00:00.000000000",
          "2024-09-02T00:00:00.000000000",
          "2024-09-03T00:00:00.000000000",
          "2024-09-04T00:00:00.000000000",
          "2024-09-05T00:00:00.000000000",
          "2024-09-06T00:00:00.000000000",
          "2024-09-07T00:00:00.000000000",
          "2024-09-08T00:00:00.000000000",
          "2024-09-09T00:00:00.000000000",
          "2024-09-10T00:00:00.000000000",
          "2024-09-11T00:00:00.000000000",
          "2024-09-12T00:00:00.000000000",
          "2024-09-13T00:00:00.000000000",
          "2024-09-14T00:00:00.000000000",
          "2024-09-15T00:00:00.000000000",
          "2024-09-16T00:00:00.000000000",
          "2024-09-17T00:00:00.000000000",
          "2024-09-18T00:00:00.000000000",
          "2024-09-19T00:00:00.000000000",
          "2024-09-20T00:00:00.000000000",
          "2024-09-21T00:00:00.000000000",
          "2024-09-22T00:00:00.000000000",
          "2024-09-23T00:00:00.000000000",
          "2024-09-24T00:00:00.000000000",
          "2024-09-25T00:00:00.000000000",
          "2024-09-26T00:00:00.000000000",
          "2024-09-27T00:00:00.000000000",
          "2024-09-28T00:00:00.000000000",
          "2024-09-29T00:00:00.000000000",
          "2024-09-30T00:00:00.000000000",
          "2024-10-01T00:00:00.000000000",
          "2024-10-02T00:00:00.000000000",
          "2024-10-03T00:00:00.000000000",
          "2024-10-04T00:00:00.000000000",
          "2024-10-05T00:00:00.000000000",
          "2024-10-06T00:00:00.000000000",
          "2024-10-07T00:00:00.000000000",
          "2024-10-08T00:00:00.000000000",
          "2024-10-09T00:00:00.000000000",
          "2024-10-10T00:00:00.000000000",
          "2024-10-11T00:00:00.000000000",
          "2024-10-12T00:00:00.000000000",
          "2024-10-13T00:00:00.000000000",
          "2024-10-14T00:00:00.000000000",
          "2024-10-15T00:00:00.000000000",
          "2024-10-16T00:00:00.000000000",
          "2024-10-17T00:00:00.000000000",
          "2024-10-18T00:00:00.000000000",
          "2024-10-19T00:00:00.000000000",
          "2024-10-20T00:00:00.000000000",
          "2024-10-21T00:00:00.000000000",
          "2024-10-22T00:00:00.000000000",
          "2024-10-23T00:00:00.000000000",
          "2024-10-24T00:00:00.000000000",
          "2024-10-25T00:00:00.000000000",
          "2024-10-26T00:00:00.000000000",
          "2024-10-27T00:00:00.000000000",
          "2024-10-28T00:00:00.000000000",
          "2024-10-29T00:00:00.000000000",
          "2024-10-30T00:00:00.000000000",
          "2024-10-31T00:00:00.000000000",
          "2024-11-01T00:00:00.000000000",
          "2024-11-02T00:00:00.000000000",
          "2024-11-03T00:00:00.000000000",
          "2024-11-04T00:00:00.000000000",
          "2024-11-05T00:00:00.000000000",
          "2024-11-06T00:00:00.000000000",
          "2024-11-07T00:00:00.000000000",
          "2024-11-08T00:00:00.000000000",
          "2024-11-09T00:00:00.000000000",
          "2024-11-10T00:00:00.000000000",
          "2024-11-11T00:00:00.000000000",
          "2024-11-12T00:00:00.000000000",
          "2024-11-13T00:00:00.000000000",
          "2024-11-14T00:00:00.000000000",
          "2024-11-15T00:00:00.000000000",
          "2024-11-16T00:00:00.000000000",
          "2024-11-17T00:00:00.000000000",
          "2024-11-18T00:00:00.000000000",
          "2024-11-19T00:00:00.000000000",
          "2024-11-20T00:00:00.000000000",
          "2024-11-21T00:00:00.000000000",
          "2024-11-22T00:00:00.000000000",
          "2024-11-23T00:00:00.000000000",
          "2024-11-24T00:00:00.000000000",
          "2024-11-25T00:00:00.000000000",
          "2024-11-26T00:00:00.000000000",
          "2024-11-27T00:00:00.000000000",
          "2024-11-28T00:00:00.000000000",
          "2024-11-29T00:00:00.000000000",
          "2024-11-30T00:00:00.000000000",
          "2024-12-01T00:00:00.000000000",
          "2024-12-02T00:00:00.000000000",
          "2024-12-03T00:00:00.000000000",
          "2024-12-04T00:00:00.000000000",
          "2024-12-05T00:00:00.000000000",
          "2024-12-06T00:00:00.000000000",
          "2024-12-07T00:00:00.000000000",
          "2024-12-08T00:00:00.000000000",
          "2024-12-09T00:00:00.000000000",
          "2024-12-10T00:00:00.000000000",
          "2024-12-11T00:00:00.000000000",
          "2024-12-12T00:00:00.000000000",
          "2024-12-13T00:00:00.000000000",
          "2024-12-14T00:00:00.000000000",
          "2024-12-15T00:00:00.000000000",
          "2024-12-16T00:00:00.000000000",
          "2024-12-17T00:00:00.000000000",
          "2024-12-18T00:00:00.000000000",
          "2024-12-19T00:00:00.000000000",
          "2024-12-20T00:00:00.000000000",
          "2024-12-21T00:00:00.000000000",
          "2024-12-22T00:00:00.000000000",
          "2024-12-23T00:00:00.000000000",
          "2024-12-24T00:00:00.000000000",
          "2024-12-25T00:00:00.000000000",
          "2024-12-26T00:00:00.000000000",
          "2024-12-27T00:00:00.000000000",
          "2024-12-28T00:00:00.000000000",
          "2024-12-29T00:00:00.000000000",
          "2024-12-30T00:00:00.000000000",
          "2024-12-31T00:00:00.000000000",
          "2025-01-01T00:00:00.000000000",
          "2025-01-02T00:00:00.000000000",
          "2025-01-03T00:00:00.000000000",
          "2025-01-04T00:00:00.000000000",
          "2025-01-05T00:00:00.000000000",
          "2025-01-06T00:00:00.000000000",
          "2025-01-07T00:00:00.000000000",
          "2025-01-08T00:00:00.000000000",
          "2025-01-09T00:00:00.000000000",
          "2025-01-10T00:00:00.000000000",
          "2025-01-11T00:00:00.000000000",
          "2025-01-12T00:00:00.000000000",
          "2025-01-13T00:00:00.000000000",
          "2025-01-14T00:00:00.000000000",
          "2025-01-15T00:00:00.000000000",
          "2025-01-16T00:00:00.000000000",
          "2025-01-17T00:00:00.000000000",
          "2025-01-18T00:00:00.000000000",
          "2025-01-19T00:00:00.000000000",
          "2025-01-20T00:00:00.000000000",
          "2025-01-21T00:00:00.000000000",
          "2025-01-22T00:00:00.000000000",
          "2025-01-23T00:00:00.000000000",
          "2025-01-24T00:00:00.000000000",
          "2025-01-25T00:00:00.000000000",
          "2025-01-26T00:00:00.000000000",
          "2025-01-27T00:00:00.000000000",
          "2025-01-28T00:00:00.000000000",
          "2025-01-29T00:00:00.000000000",
          "2025-01-30T00:00:00.000000000",
          "2025-01-31T00:00:00.000000000",
          "2025-02-01T00:00:00.000000000",
          "2025-02-02T00:00:00.000000000",
          "2025-02-03T00:00:00.000000000",
          "2025-02-04T00:00:00.000000000",
          "2025-02-05T00:00:00.000000000",
          "2025-02-06T00:00:00.000000000",
          "2025-02-07T00:00:00.000000000",
          "2025-02-08T00:00:00.000000000",
          "2025-02-09T00:00:00.000000000",
          "2025-02-10T00:00:00.000000000",
          "2025-02-11T00:00:00.000000000",
          "2025-02-12T00:00:00.000000000",
          "2025-02-13T00:00:00.000000000",
          "2025-02-14T00:00:00.000000000",
          "2025-02-15T00:00:00.000000000",
          "2025-02-16T00:00:00.000000000",
          "2025-02-17T00:00:00.000000000",
          "2025-02-18T00:00:00.000000000",
          "2025-02-19T00:00:00.000000000",
          "2025-02-20T00:00:00.000000000",
          "2025-02-21T00:00:00.000000000",
          "2025-02-22T00:00:00.000000000",
          "2025-02-23T00:00:00.000000000",
          "2025-02-24T00:00:00.000000000",
          "2025-02-25T00:00:00.000000000",
          "2025-02-26T00:00:00.000000000",
          "2025-02-27T00:00:00.000000000",
          "2025-02-28T00:00:00.000000000",
          "2025-03-01T00:00:00.000000000",
          "2025-03-02T00:00:00.000000000",
          "2025-03-03T00:00:00.000000000",
          "2025-03-04T00:00:00.000000000",
          "2025-03-05T00:00:00.000000000",
          "2025-03-06T00:00:00.000000000",
          "2025-03-07T00:00:00.000000000",
          "2025-03-08T00:00:00.000000000",
          "2025-03-09T00:00:00.000000000",
          "2025-03-10T00:00:00.000000000",
          "2025-03-11T00:00:00.000000000",
          "2025-03-12T00:00:00.000000000",
          "2025-03-13T00:00:00.000000000",
          "2025-03-14T00:00:00.000000000",
          "2025-03-15T00:00:00.000000000",
          "2025-03-16T00:00:00.000000000",
          "2025-03-17T00:00:00.000000000",
          "2025-03-18T00:00:00.000000000",
          "2025-03-19T00:00:00.000000000",
          "2025-03-20T00:00:00.000000000",
          "2025-03-21T00:00:00.000000000",
          "2025-03-22T00:00:00.000000000",
          "2025-03-23T00:00:00.000000000",
          "2025-03-24T00:00:00.000000000",
          "2025-03-25T00:00:00.000000000",
          "2025-03-26T00:00:00.000000000",
          "2025-03-27T00:00:00.000000000",
          "2025-03-28T00:00:00.000000000",
          "2025-03-29T00:00:00.000000000",
          "2025-03-30T00:00:00.000000000",
          "2025-03-31T00:00:00.000000000",
          "2025-04-01T00:00:00.000000000",
          "2025-04-02T00:00:00.000000000",
          "2025-04-03T00:00:00.000000000",
          "2025-04-04T00:00:00.000000000",
          "2025-04-05T00:00:00.000000000",
          "2025-04-06T00:00:00.000000000",
          "2025-04-07T00:00:00.000000000",
          "2025-04-08T00:00:00.000000000",
          "2025-04-09T00:00:00.000000000",
          "2025-04-10T00:00:00.000000000",
          "2025-04-11T00:00:00.000000000",
          "2025-04-12T00:00:00.000000000",
          "2025-04-13T00:00:00.000000000",
          "2025-04-14T00:00:00.000000000"
         ],
         "y": {
          "bdata": "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",
          "dtype": "f8"
         }
        }
       ],
       "layout": {
        "legend": {
         "title": {
          "text": "Type"
         }
        },
        "template": {
         "data": {
          "bar": [
           {
            "error_x": {
             "color": "#2a3f5f"
            },
            "error_y": {
             "color": "#2a3f5f"
            },
            "marker": {
             "line": {
              "color": "white",
              "width": 0.5
             },
             "pattern": {
              "fillmode": "overlay",
              "size": 10,
              "solidity": 0.2
             }
            },
            "type": "bar"
           }
          ],
          "barpolar": [
           {
            "marker": {
             "line": {
              "color": "white",
              "width": 0.5
             },
             "pattern": {
              "fillmode": "overlay",
              "size": 10,
              "solidity": 0.2
             }
            },
            "type": "barpolar"
           }
          ],
          "carpet": [
           {
            "aaxis": {
             "endlinecolor": "#2a3f5f",
             "gridcolor": "#C8D4E3",
             "linecolor": "#C8D4E3",
             "minorgridcolor": "#C8D4E3",
             "startlinecolor": "#2a3f5f"
            },
            "baxis": {
             "endlinecolor": "#2a3f5f",
             "gridcolor": "#C8D4E3",
             "linecolor": "#C8D4E3",
             "minorgridcolor": "#C8D4E3",
             "startlinecolor": "#2a3f5f"
            },
            "type": "carpet"
           }
          ],
          "choropleth": [
           {
            "colorbar": {
             "outlinewidth": 0,
             "ticks": ""
            },
            "type": "choropleth"
           }
          ],
          "contour": [
           {
            "colorbar": {
             "outlinewidth": 0,
             "ticks": ""
            },
            "colorscale": [
             [
              0,
              "#0d0887"
             ],
             [
              0.1111111111111111,
              "#46039f"
             ],
             [
              0.2222222222222222,
              "#7201a8"
             ],
             [
              0.3333333333333333,
              "#9c179e"
             ],
             [
              0.4444444444444444,
              "#bd3786"
             ],
             [
              0.5555555555555556,
              "#d8576b"
             ],
             [
              0.6666666666666666,
              "#ed7953"
             ],
             [
              0.7777777777777778,
              "#fb9f3a"
             ],
             [
              0.8888888888888888,
              "#fdca26"
             ],
             [
              1,
              "#f0f921"
             ]
            ],
            "type": "contour"
           }
          ],
          "contourcarpet": [
           {
            "colorbar": {
             "outlinewidth": 0,
             "ticks": ""
            },
            "type": "contourcarpet"
           }
          ],
          "heatmap": [
           {
            "colorbar": {
             "outlinewidth": 0,
             "ticks": ""
            },
            "colorscale": [
             [
              0,
              "#0d0887"
             ],
             [
              0.1111111111111111,
              "#46039f"
             ],
             [
              0.2222222222222222,
              "#7201a8"
             ],
             [
              0.3333333333333333,
              "#9c179e"
             ],
             [
              0.4444444444444444,
              "#bd3786"
             ],
             [
              0.5555555555555556,
              "#d8576b"
             ],
             [
              0.6666666666666666,
              "#ed7953"
             ],
             [
              0.7777777777777778,
              "#fb9f3a"
             ],
             [
              0.8888888888888888,
              "#fdca26"
             ],
             [
              1,
              "#f0f921"
             ]
            ],
            "type": "heatmap"
           }
          ],
          "histogram": [
           {
            "marker": {
             "pattern": {
              "fillmode": "overlay",
              "size": 10,
              "solidity": 0.2
             }
            },
            "type": "histogram"
           }
          ],
          "histogram2d": [
           {
            "colorbar": {
             "outlinewidth": 0,
             "ticks": ""
            },
            "colorscale": [
             [
              0,
              "#0d0887"
             ],
             [
              0.1111111111111111,
              "#46039f"
             ],
             [
              0.2222222222222222,
              "#7201a8"
             ],
             [
              0.3333333333333333,
              "#9c179e"
             ],
             [
              0.4444444444444444,
              "#bd3786"
             ],
             [
              0.5555555555555556,
              "#d8576b"
             ],
             [
              0.6666666666666666,
              "#ed7953"
             ],
             [
              0.7777777777777778,
              "#fb9f3a"
             ],
             [
              0.8888888888888888,
              "#fdca26"
             ],
             [
              1,
              "#f0f921"
             ]
            ],
            "type": "histogram2d"
           }
          ],
          "histogram2dcontour": [
           {
            "colorbar": {
             "outlinewidth": 0,
             "ticks": ""
            },
            "colorscale": [
             [
              0,
              "#0d0887"
             ],
             [
              0.1111111111111111,
              "#46039f"
             ],
             [
              0.2222222222222222,
              "#7201a8"
             ],
             [
              0.3333333333333333,
              "#9c179e"
             ],
             [
              0.4444444444444444,
              "#bd3786"
             ],
             [
              0.5555555555555556,
              "#d8576b"
             ],
             [
              0.6666666666666666,
              "#ed7953"
             ],
             [
              0.7777777777777778,
              "#fb9f3a"
             ],
             [
              0.8888888888888888,
              "#fdca26"
             ],
             [
              1,
              "#f0f921"
             ]
            ],
            "type": "histogram2dcontour"
           }
          ],
          "mesh3d": [
           {
            "colorbar": {
             "outlinewidth": 0,
             "ticks": ""
            },
            "type": "mesh3d"
           }
          ],
          "parcoords": [
           {
            "line": {
             "colorbar": {
              "outlinewidth": 0,
              "ticks": ""
             }
            },
            "type": "parcoords"
           }
          ],
          "pie": [
           {
            "automargin": true,
            "type": "pie"
           }
          ],
          "scatter": [
           {
            "fillpattern": {
             "fillmode": "overlay",
             "size": 10,
             "solidity": 0.2
            },
            "type": "scatter"
           }
          ],
          "scatter3d": [
           {
            "line": {
             "colorbar": {
              "outlinewidth": 0,
              "ticks": ""
             }
            },
            "marker": {
             "colorbar": {
              "outlinewidth": 0,
              "ticks": ""
             }
            },
            "type": "scatter3d"
           }
          ],
          "scattercarpet": [
           {
            "marker": {
             "colorbar": {
              "outlinewidth": 0,
              "ticks": ""
             }
            },
            "type": "scattercarpet"
           }
          ],
          "scattergeo": [
           {
            "marker": {
             "colorbar": {
              "outlinewidth": 0,
              "ticks": ""
             }
            },
            "type": "scattergeo"
           }
          ],
          "scattergl": [
           {
            "marker": {
             "colorbar": {
              "outlinewidth": 0,
              "ticks": ""
             }
            },
            "type": "scattergl"
           }
          ],
          "scattermap": [
           {
            "marker": {
             "colorbar": {
              "outlinewidth": 0,
              "ticks": ""
             }
            },
            "type": "scattermap"
           }
          ],
          "scattermapbox": [
           {
            "marker": {
             "colorbar": {
              "outlinewidth": 0,
              "ticks": ""
             }
            },
            "type": "scattermapbox"
           }
          ],
          "scatterpolar": [
           {
            "marker": {
             "colorbar": {
              "outlinewidth": 0,
              "ticks": ""
             }
            },
            "type": "scatterpolar"
           }
          ],
          "scatterpolargl": [
           {
            "marker": {
             "colorbar": {
              "outlinewidth": 0,
              "ticks": ""
             }
            },
            "type": "scatterpolargl"
           }
          ],
          "scatterternary": [
           {
            "marker": {
             "colorbar": {
              "outlinewidth": 0,
              "ticks": ""
             }
            },
            "type": "scatterternary"
           }
          ],
          "surface": [
           {
            "colorbar": {
             "outlinewidth": 0,
             "ticks": ""
            },
            "colorscale": [
             [
              0,
              "#0d0887"
             ],
             [
              0.1111111111111111,
              "#46039f"
             ],
             [
              0.2222222222222222,
              "#7201a8"
             ],
             [
              0.3333333333333333,
              "#9c179e"
             ],
             [
              0.4444444444444444,
              "#bd3786"
             ],
             [
              0.5555555555555556,
              "#d8576b"
             ],
             [
              0.6666666666666666,
              "#ed7953"
             ],
             [
              0.7777777777777778,
              "#fb9f3a"
             ],
             [
              0.8888888888888888,
              "#fdca26"
             ],
             [
              1,
              "#f0f921"
             ]
            ],
            "type": "surface"
           }
          ],
          "table": [
           {
            "cells": {
             "fill": {
              "color": "#EBF0F8"
             },
             "line": {
              "color": "white"
             }
            },
            "header": {
             "fill": {
              "color": "#C8D4E3"
             },
             "line": {
              "color": "white"
             }
            },
            "type": "table"
           }
          ]
         },
         "layout": {
          "annotationdefaults": {
           "arrowcolor": "#2a3f5f",
           "arrowhead": 0,
           "arrowwidth": 1
          },
          "autotypenumbers": "strict",
          "coloraxis": {
           "colorbar": {
            "outlinewidth": 0,
            "ticks": ""
           }
          },
          "colorscale": {
           "diverging": [
            [
             0,
             "#8e0152"
            ],
            [
             0.1,
             "#c51b7d"
            ],
            [
             0.2,
             "#de77ae"
            ],
            [
             0.3,
             "#f1b6da"
            ],
            [
             0.4,
             "#fde0ef"
            ],
            [
             0.5,
             "#f7f7f7"
            ],
            [
             0.6,
             "#e6f5d0"
            ],
            [
             0.7,
             "#b8e186"
            ],
            [
             0.8,
             "#7fbc41"
            ],
            [
             0.9,
             "#4d9221"
            ],
            [
             1,
             "#276419"
            ]
           ],
           "sequential": [
            [
             0,
             "#0d0887"
            ],
            [
             0.1111111111111111,
             "#46039f"
            ],
            [
             0.2222222222222222,
             "#7201a8"
            ],
            [
             0.3333333333333333,
             "#9c179e"
            ],
            [
             0.4444444444444444,
             "#bd3786"
            ],
            [
             0.5555555555555556,
             "#d8576b"
            ],
            [
             0.6666666666666666,
             "#ed7953"
            ],
            [
             0.7777777777777778,
             "#fb9f3a"
            ],
            [
             0.8888888888888888,
             "#fdca26"
            ],
            [
             1,
             "#f0f921"
            ]
           ],
           "sequentialminus": [
            [
             0,
             "#0d0887"
            ],
            [
             0.1111111111111111,
             "#46039f"
            ],
            [
             0.2222222222222222,
             "#7201a8"
            ],
            [
             0.3333333333333333,
             "#9c179e"
            ],
            [
             0.4444444444444444,
             "#bd3786"
            ],
            [
             0.5555555555555556,
             "#d8576b"
            ],
            [
             0.6666666666666666,
             "#ed7953"
            ],
            [
             0.7777777777777778,
             "#fb9f3a"
            ],
            [
             0.8888888888888888,
             "#fdca26"
            ],
            [
             1,
             "#f0f921"
            ]
           ]
          },
          "colorway": [
           "#636efa",
           "#EF553B",
           "#00cc96",
           "#ab63fa",
           "#FFA15A",
           "#19d3f3",
           "#FF6692",
           "#B6E880",
           "#FF97FF",
           "#FECB52"
          ],
          "font": {
           "color": "#2a3f5f"
          },
          "geo": {
           "bgcolor": "white",
           "lakecolor": "white",
           "landcolor": "white",
           "showlakes": true,
           "showland": true,
           "subunitcolor": "#C8D4E3"
          },
          "hoverlabel": {
           "align": "left"
          },
          "hovermode": "closest",
          "mapbox": {
           "style": "light"
          },
          "paper_bgcolor": "white",
          "plot_bgcolor": "white",
          "polar": {
           "angularaxis": {
            "gridcolor": "#EBF0F8",
            "linecolor": "#EBF0F8",
            "ticks": ""
           },
           "bgcolor": "white",
           "radialaxis": {
            "gridcolor": "#EBF0F8",
            "linecolor": "#EBF0F8",
            "ticks": ""
           }
          },
          "scene": {
           "xaxis": {
            "backgroundcolor": "white",
            "gridcolor": "#DFE8F3",
            "gridwidth": 2,
            "linecolor": "#EBF0F8",
            "showbackground": true,
            "ticks": "",
            "zerolinecolor": "#EBF0F8"
           },
           "yaxis": {
            "backgroundcolor": "white",
            "gridcolor": "#DFE8F3",
            "gridwidth": 2,
            "linecolor": "#EBF0F8",
            "showbackground": true,
            "ticks": "",
            "zerolinecolor": "#EBF0F8"
           },
           "zaxis": {
            "backgroundcolor": "white",
            "gridcolor": "#DFE8F3",
            "gridwidth": 2,
            "linecolor": "#EBF0F8",
            "showbackground": true,
            "ticks": "",
            "zerolinecolor": "#EBF0F8"
           }
          },
          "shapedefaults": {
           "line": {
            "color": "#2a3f5f"
           }
          },
          "ternary": {
           "aaxis": {
            "gridcolor": "#DFE8F3",
            "linecolor": "#A2B1C6",
            "ticks": ""
           },
           "baxis": {
            "gridcolor": "#DFE8F3",
            "linecolor": "#A2B1C6",
            "ticks": ""
           },
           "bgcolor": "white",
           "caxis": {
            "gridcolor": "#DFE8F3",
            "linecolor": "#A2B1C6",
            "ticks": ""
           }
          },
          "title": {
           "x": 0.05
          },
          "xaxis": {
           "automargin": true,
           "gridcolor": "#EBF0F8",
           "linecolor": "#EBF0F8",
           "ticks": "",
           "title": {
            "standoff": 15
           },
           "zerolinecolor": "#EBF0F8",
           "zerolinewidth": 2
          },
          "yaxis": {
           "automargin": true,
           "gridcolor": "#EBF0F8",
           "linecolor": "#EBF0F8",
           "ticks": "",
           "title": {
            "standoff": 15
           },
           "zerolinecolor": "#EBF0F8",
           "zerolinewidth": 2
          }
         }
        },
        "title": {
         "text": "BOB/USDT"
        },
        "xaxis": {
         "title": {
          "text": "Timestamp"
         }
        },
        "yaxis": {
         "title": {
          "text": "Price"
         }
        }
       }
      }
     },
     "metadata": {},
     "output_type": "display_data"
    }
   ],
   "source": [
    "fig = go.Figure()\n",
    "fig.add_trace(go.Scatter(x=dolarbo.index, y=dolarbo['compra'], mode='lines', name='Buy', line=dict(color='blue')))\n",
    "fig.add_trace(go.Scatter(x=dolarbo.index, y=dolarbo['venta'], mode='lines', name='Sell', line=dict(color='red')))\n",
    "#fig.add_trace(go.Scatter(x=usdt_luis.index, y=usdt_luis['Compra'], mode='lines', name='Sell', line=dict(color='cyan')))\n",
    "#fig.add_trace(go.Scatter(x=usdt_luis.index, y=usdt_luis['Venta'], mode='lines', name='Sell', line=dict(color='green')))\n",
    "fig.add_trace(go.Scatter(x=usdtbol_day.index, y=usdtbol_day['Bs'], mode='lines', name='usdtbol.com', line=dict(color='green')))\n",
    "fig.update_layout(\n",
    "    title='BOB/USDT',\n",
    "    xaxis_title='Timestamp',\n",
    "    yaxis_title='Price',\n",
    "    legend_title='Type',\n",
    "    template='plotly_white'\n",
    ")\n",
    "\n",
    "fig.show()"
   ]
  },
  {
   "cell_type": "markdown",
   "metadata": {},
   "source": [
    "## 2. Ultra-High Frequency Data\n",
    "\n",
    "History Exchange Rate USDT/BOB with hourly frequency [(More info)](https://www.kaggle.com/datasets/darlynbravo/history-exchange-rate-usdtbob).\n",
    "\n",
    "- **price:** exchange rate\n",
    "- **available:** amount available\n",
    "- **advertisers_qty:** quantity of advertisers\n",
    "- **type:** bid (the highest price a buyer will pay) or ask (the lowest price a seller will accept)\n",
    "- **timestamp:** captured datetime\n",
    "- **curr_from:** Currency from\n",
    "- **curr_to:** Currency to\n",
    "- **source:** source of data\n",
    "\n",
    "|                              | Bid                                     | Ask                                      |\n",
    "|------------------------------|-----------------------------------------|------------------------------------------|\n",
    "| Definition                   | Price to sell an asset                  | Price to buy an asset                    |\n",
    "| Relationship to market price | Always slightly lower than market price | Always slightly higher than market price |\n",
    "\n",
    "Factors that affect bid and ask prices: \n",
    "- Market liquidity\n",
    "- Trading volume\n",
    "- Supply and demand of currencies\n",
    "- Overall market volatility\n",
    "- Economic releases\n",
    "- Bank holidays   \n",
    "\n",
    "\n",
    "Measuring the bid-ask spread: The smallest whole unit measurement of the bid-ask spread is called a pip. One pip equals 1/100 of 1%, or 0.0001. "
   ]
  },
  {
   "cell_type": "code",
   "execution_count": null,
   "metadata": {},
   "outputs": [],
   "source": [
    "#kaggle_df = pd.read_csv('./kaggle_currency_exchange_rates.csv')\n",
    "kaggle_df = pd.read_excel('./DATA/kaggle_currency_exchange_rates.xlsx')\n",
    "kaggle_df.index = kaggle_df['timestamp']\n",
    "kaggle_df.index = pd.to_datetime(kaggle_df.index)\n",
    "\n",
    "kaggle_bid = kaggle_df[kaggle_df['type']==\"bid\"]\n",
    "kaggle_ask = kaggle_df[kaggle_df['type']==\"ask\"]"
   ]
  },
  {
   "cell_type": "code",
   "execution_count": 44,
   "metadata": {},
   "outputs": [],
   "source": [
    "hourly_minute_bid = kaggle_bid['price'].copy().resample('T').mean()\n",
    "hourly_minute_bid.dropna(axis=0, inplace=True)\n",
    "\n",
    "hourly_minute_ask = kaggle_ask['price'].copy().resample('T').mean()\n",
    "hourly_minute_ask.dropna(axis=0, inplace=True)"
   ]
  },
  {
   "cell_type": "code",
   "execution_count": 47,
   "metadata": {},
   "outputs": [],
   "source": [
    "seconds_bid = kaggle_bid['price'].copy().resample('S').mean()\n",
    "seconds_bid.dropna(axis=0, inplace=True)\n",
    "seconds_ask = kaggle_ask['price'].copy().resample('S').mean()\n",
    "seconds_ask.dropna(axis=0, inplace=True)"
   ]
  },
  {
   "cell_type": "code",
   "execution_count": 49,
   "metadata": {},
   "outputs": [
    {
     "name": "stdout",
     "output_type": "stream",
     "text": [
      "<class 'pandas.core.series.Series'>\n",
      "DatetimeIndex: 634 entries, 2024-07-09 17:43:37 to 2024-09-02 13:30:03\n",
      "Series name: price\n",
      "Non-Null Count  Dtype  \n",
      "--------------  -----  \n",
      "634 non-null    float64\n",
      "dtypes: float64(1)\n",
      "memory usage: 9.9 KB\n"
     ]
    }
   ],
   "source": [
    "seconds_bid.info()"
   ]
  },
  {
   "cell_type": "code",
   "execution_count": 48,
   "metadata": {},
   "outputs": [
    {
     "data": {
      "application/vnd.plotly.v1+json": {
       "config": {
        "plotlyServerURL": "https://plot.ly"
       },
       "data": [
        {
         "line": {
          "color": "blue"
         },
         "mode": "lines",
         "name": "Bid Price",
         "type": "scatter",
         "x": [
          "2024-07-09T17:43:37.000000000",
          "2024-07-09T17:54:12.000000000",
          "2024-07-10T13:28:13.000000000",
          "2024-07-11T16:29:58.000000000",
          "2024-07-12T13:29:47.000000000",
          "2024-07-12T20:30:42.000000000",
          "2024-07-13T17:53:47.000000000",
          "2024-07-14T16:20:22.000000000",
          "2024-07-15T16:38:27.000000000",
          "2024-07-16T01:11:52.000000000",
          "2024-07-16T14:41:29.000000000",
          "2024-07-17T11:52:58.000000000",
          "2024-07-18T16:21:21.000000000",
          "2024-07-19T18:08:38.000000000",
          "2024-07-20T18:41:23.000000000",
          "2024-07-21T16:06:49.000000000",
          "2024-07-22T22:27:17.000000000",
          "2024-07-23T13:09:00.000000000",
          "2024-07-24T12:24:28.000000000",
          "2024-07-25T12:04:51.000000000",
          "2024-07-26T13:38:15.000000000",
          "2024-07-27T01:19:23.000000000",
          "2024-07-29T14:33:00.000000000",
          "2024-07-30T15:02:57.000000000",
          "2024-07-31T13:25:08.000000000",
          "2024-08-01T12:32:25.000000000",
          "2024-08-04T13:31:23.000000000",
          "2024-08-05T14:32:25.000000000",
          "2024-08-06T14:30:54.000000000",
          "2024-08-07T15:37:28.000000000",
          "2024-08-08T13:50:05.000000000",
          "2024-08-08T21:58:20.000000000",
          "2024-08-08T23:22:52.000000000",
          "2024-08-08T23:25:47.000000000",
          "2024-08-08T23:28:46.000000000",
          "2024-08-08T23:31:47.000000000",
          "2024-08-08T23:34:46.000000000",
          "2024-08-08T23:37:46.000000000",
          "2024-08-08T23:40:46.000000000",
          "2024-08-08T23:43:47.000000000",
          "2024-08-08T23:46:47.000000000",
          "2024-08-08T23:49:46.000000000",
          "2024-08-08T23:52:46.000000000",
          "2024-08-08T23:55:47.000000000",
          "2024-08-08T23:58:46.000000000",
          "2024-08-09T00:01:47.000000000",
          "2024-08-09T00:04:46.000000000",
          "2024-08-09T00:07:46.000000000",
          "2024-08-09T00:10:46.000000000",
          "2024-08-09T00:13:46.000000000",
          "2024-08-09T00:16:47.000000000",
          "2024-08-09T00:19:46.000000000",
          "2024-08-09T00:22:46.000000000",
          "2024-08-09T00:24:05.000000000",
          "2024-08-09T01:24:12.000000000",
          "2024-08-09T02:24:10.000000000",
          "2024-08-09T03:24:10.000000000",
          "2024-08-09T04:24:09.000000000",
          "2024-08-09T05:24:08.000000000",
          "2024-08-09T06:24:10.000000000",
          "2024-08-09T07:24:09.000000000",
          "2024-08-09T08:24:12.000000000",
          "2024-08-09T09:24:09.000000000",
          "2024-08-09T10:24:09.000000000",
          "2024-08-09T11:24:09.000000000",
          "2024-08-09T12:24:11.000000000",
          "2024-08-09T13:24:09.000000000",
          "2024-08-09T14:24:09.000000000",
          "2024-08-09T15:24:10.000000000",
          "2024-08-09T16:24:10.000000000",
          "2024-08-09T17:24:09.000000000",
          "2024-08-09T18:24:10.000000000",
          "2024-08-09T19:24:10.000000000",
          "2024-08-09T20:24:10.000000000",
          "2024-08-09T21:24:09.000000000",
          "2024-08-09T22:24:09.000000000",
          "2024-08-09T23:24:08.000000000",
          "2024-08-10T00:24:10.000000000",
          "2024-08-10T01:24:09.000000000",
          "2024-08-10T02:24:09.000000000",
          "2024-08-10T03:24:10.000000000",
          "2024-08-10T04:24:09.000000000",
          "2024-08-10T05:24:08.000000000",
          "2024-08-10T06:24:08.000000000",
          "2024-08-10T07:24:08.000000000",
          "2024-08-10T08:24:08.000000000",
          "2024-08-10T09:24:08.000000000",
          "2024-08-10T10:24:08.000000000",
          "2024-08-10T11:24:08.000000000",
          "2024-08-10T12:24:07.000000000",
          "2024-08-10T13:24:08.000000000",
          "2024-08-10T14:24:09.000000000",
          "2024-08-10T15:24:08.000000000",
          "2024-08-10T16:24:10.000000000",
          "2024-08-10T17:24:09.000000000",
          "2024-08-10T18:24:08.000000000",
          "2024-08-10T19:24:09.000000000",
          "2024-08-10T20:24:09.000000000",
          "2024-08-10T21:24:10.000000000",
          "2024-08-10T22:24:09.000000000",
          "2024-08-10T23:24:09.000000000",
          "2024-08-11T00:24:08.000000000",
          "2024-08-11T01:24:09.000000000",
          "2024-08-11T02:24:07.000000000",
          "2024-08-11T03:24:08.000000000",
          "2024-08-11T04:24:07.000000000",
          "2024-08-11T05:24:08.000000000",
          "2024-08-11T06:24:07.000000000",
          "2024-08-11T07:24:08.000000000",
          "2024-08-11T08:24:08.000000000",
          "2024-08-11T09:24:08.000000000",
          "2024-08-11T10:24:08.000000000",
          "2024-08-11T11:24:10.000000000",
          "2024-08-11T12:24:08.000000000",
          "2024-08-11T13:24:09.000000000",
          "2024-08-11T14:24:09.000000000",
          "2024-08-11T15:24:09.000000000",
          "2024-08-11T16:24:09.000000000",
          "2024-08-11T17:24:09.000000000",
          "2024-08-11T18:24:08.000000000",
          "2024-08-11T19:24:09.000000000",
          "2024-08-11T20:24:09.000000000",
          "2024-08-11T21:24:08.000000000",
          "2024-08-11T22:24:08.000000000",
          "2024-08-11T23:24:10.000000000",
          "2024-08-12T00:24:10.000000000",
          "2024-08-12T01:24:08.000000000",
          "2024-08-12T02:24:09.000000000",
          "2024-08-12T03:24:08.000000000",
          "2024-08-12T04:24:10.000000000",
          "2024-08-12T05:24:08.000000000",
          "2024-08-12T06:24:08.000000000",
          "2024-08-12T07:24:07.000000000",
          "2024-08-12T08:24:08.000000000",
          "2024-08-12T09:24:09.000000000",
          "2024-08-12T10:24:08.000000000",
          "2024-08-12T11:24:08.000000000",
          "2024-08-12T12:24:09.000000000",
          "2024-08-12T13:24:08.000000000",
          "2024-08-12T14:24:10.000000000",
          "2024-08-12T15:24:09.000000000",
          "2024-08-12T16:24:09.000000000",
          "2024-08-12T17:24:08.000000000",
          "2024-08-12T18:24:09.000000000",
          "2024-08-12T19:24:09.000000000",
          "2024-08-12T20:24:09.000000000",
          "2024-08-12T21:24:09.000000000",
          "2024-08-12T22:24:09.000000000",
          "2024-08-12T23:24:09.000000000",
          "2024-08-13T00:24:09.000000000",
          "2024-08-13T01:24:08.000000000",
          "2024-08-13T02:24:08.000000000",
          "2024-08-13T03:24:08.000000000",
          "2024-08-13T04:24:08.000000000",
          "2024-08-13T05:24:09.000000000",
          "2024-08-13T06:24:08.000000000",
          "2024-08-13T07:24:09.000000000",
          "2024-08-13T08:24:08.000000000",
          "2024-08-13T09:24:08.000000000",
          "2024-08-13T10:24:09.000000000",
          "2024-08-13T11:24:09.000000000",
          "2024-08-13T12:24:09.000000000",
          "2024-08-13T13:24:09.000000000",
          "2024-08-13T14:24:10.000000000",
          "2024-08-13T15:24:09.000000000",
          "2024-08-13T16:24:10.000000000",
          "2024-08-13T17:24:09.000000000",
          "2024-08-13T18:24:09.000000000",
          "2024-08-13T19:24:09.000000000",
          "2024-08-13T20:24:10.000000000",
          "2024-08-13T21:24:09.000000000",
          "2024-08-13T22:24:09.000000000",
          "2024-08-13T23:24:09.000000000",
          "2024-08-14T00:24:09.000000000",
          "2024-08-14T01:24:10.000000000",
          "2024-08-14T02:24:09.000000000",
          "2024-08-14T03:24:08.000000000",
          "2024-08-14T04:24:09.000000000",
          "2024-08-14T05:24:08.000000000",
          "2024-08-14T06:24:08.000000000",
          "2024-08-14T07:24:10.000000000",
          "2024-08-14T08:24:08.000000000",
          "2024-08-14T09:24:09.000000000",
          "2024-08-14T10:24:09.000000000",
          "2024-08-14T11:24:09.000000000",
          "2024-08-14T12:24:09.000000000",
          "2024-08-14T13:24:09.000000000",
          "2024-08-14T14:24:10.000000000",
          "2024-08-14T15:24:12.000000000",
          "2024-08-14T16:24:09.000000000",
          "2024-08-14T17:24:09.000000000",
          "2024-08-14T18:24:10.000000000",
          "2024-08-14T19:24:09.000000000",
          "2024-08-14T20:24:09.000000000",
          "2024-08-14T21:24:08.000000000",
          "2024-08-14T22:24:09.000000000",
          "2024-08-14T23:24:09.000000000",
          "2024-08-15T00:24:10.000000000",
          "2024-08-15T01:24:09.000000000",
          "2024-08-15T02:24:09.000000000",
          "2024-08-15T03:24:09.000000000",
          "2024-08-15T04:24:09.000000000",
          "2024-08-15T05:24:08.000000000",
          "2024-08-15T06:24:09.000000000",
          "2024-08-15T07:24:09.000000000",
          "2024-08-15T08:24:09.000000000",
          "2024-08-15T09:24:09.000000000",
          "2024-08-15T10:24:09.000000000",
          "2024-08-15T11:24:10.000000000",
          "2024-08-15T12:24:09.000000000",
          "2024-08-15T13:24:09.000000000",
          "2024-08-15T14:24:10.000000000",
          "2024-08-15T15:24:11.000000000",
          "2024-08-15T16:24:09.000000000",
          "2024-08-15T17:24:09.000000000",
          "2024-08-15T18:24:09.000000000",
          "2024-08-15T19:24:09.000000000",
          "2024-08-15T20:24:09.000000000",
          "2024-08-15T21:24:10.000000000",
          "2024-08-15T22:24:09.000000000",
          "2024-08-15T23:24:09.000000000",
          "2024-08-16T00:24:10.000000000",
          "2024-08-16T01:24:09.000000000",
          "2024-08-16T02:24:09.000000000",
          "2024-08-16T03:24:09.000000000",
          "2024-08-16T04:24:09.000000000",
          "2024-08-16T05:24:08.000000000",
          "2024-08-16T06:24:09.000000000",
          "2024-08-16T07:24:09.000000000",
          "2024-08-16T08:24:09.000000000",
          "2024-08-16T09:24:09.000000000",
          "2024-08-16T10:24:08.000000000",
          "2024-08-16T11:24:10.000000000",
          "2024-08-16T12:24:09.000000000",
          "2024-08-16T13:24:08.000000000",
          "2024-08-16T14:24:09.000000000",
          "2024-08-16T15:24:08.000000000",
          "2024-08-16T16:24:10.000000000",
          "2024-08-16T17:24:08.000000000",
          "2024-08-16T18:24:09.000000000",
          "2024-08-16T19:24:07.000000000",
          "2024-08-16T20:24:09.000000000",
          "2024-08-16T21:24:09.000000000",
          "2024-08-16T22:24:09.000000000",
          "2024-08-16T23:24:09.000000000",
          "2024-08-17T00:24:10.000000000",
          "2024-08-17T01:24:09.000000000",
          "2024-08-17T02:24:09.000000000",
          "2024-08-17T03:24:08.000000000",
          "2024-08-17T04:24:08.000000000",
          "2024-08-17T05:24:09.000000000",
          "2024-08-17T06:24:10.000000000",
          "2024-08-17T07:24:08.000000000",
          "2024-08-17T08:24:07.000000000",
          "2024-08-17T09:24:08.000000000",
          "2024-08-17T10:24:08.000000000",
          "2024-08-17T11:24:09.000000000",
          "2024-08-17T12:24:09.000000000",
          "2024-08-17T13:24:10.000000000",
          "2024-08-17T14:24:08.000000000",
          "2024-08-17T15:24:09.000000000",
          "2024-08-17T16:24:09.000000000",
          "2024-08-17T17:24:09.000000000",
          "2024-08-17T18:24:09.000000000",
          "2024-08-17T19:24:09.000000000",
          "2024-08-17T20:24:09.000000000",
          "2024-08-17T21:24:09.000000000",
          "2024-08-17T22:24:09.000000000",
          "2024-08-17T23:24:09.000000000",
          "2024-08-18T00:24:09.000000000",
          "2024-08-18T01:24:09.000000000",
          "2024-08-18T02:24:09.000000000",
          "2024-08-18T03:24:09.000000000",
          "2024-08-18T04:24:09.000000000",
          "2024-08-18T05:24:08.000000000",
          "2024-08-18T06:24:07.000000000",
          "2024-08-18T07:24:07.000000000",
          "2024-08-18T08:24:07.000000000",
          "2024-08-18T09:24:08.000000000",
          "2024-08-18T10:24:07.000000000",
          "2024-08-18T11:24:08.000000000",
          "2024-08-18T12:24:08.000000000",
          "2024-08-18T13:24:10.000000000",
          "2024-08-18T14:24:09.000000000",
          "2024-08-18T15:24:08.000000000",
          "2024-08-18T16:24:08.000000000",
          "2024-08-18T17:24:09.000000000",
          "2024-08-18T18:24:09.000000000",
          "2024-08-18T19:24:10.000000000",
          "2024-08-18T20:24:09.000000000",
          "2024-08-18T21:24:09.000000000",
          "2024-08-19T13:29:59.000000000",
          "2024-08-19T13:30:09.000000000",
          "2024-08-19T14:29:59.000000000",
          "2024-08-19T15:29:59.000000000",
          "2024-08-19T16:29:59.000000000",
          "2024-08-19T17:29:59.000000000",
          "2024-08-19T18:29:59.000000000",
          "2024-08-19T19:29:58.000000000",
          "2024-08-19T20:29:59.000000000",
          "2024-08-19T21:29:58.000000000",
          "2024-08-19T22:29:59.000000000",
          "2024-08-19T23:29:59.000000000",
          "2024-08-20T00:29:59.000000000",
          "2024-08-20T01:29:58.000000000",
          "2024-08-20T02:29:58.000000000",
          "2024-08-20T03:29:58.000000000",
          "2024-08-20T04:29:59.000000000",
          "2024-08-20T05:29:58.000000000",
          "2024-08-20T06:29:58.000000000",
          "2024-08-20T07:29:58.000000000",
          "2024-08-20T08:29:58.000000000",
          "2024-08-20T09:29:59.000000000",
          "2024-08-20T10:29:59.000000000",
          "2024-08-20T11:29:59.000000000",
          "2024-08-20T12:29:58.000000000",
          "2024-08-20T13:29:59.000000000",
          "2024-08-20T14:29:59.000000000",
          "2024-08-20T15:29:58.000000000",
          "2024-08-20T16:29:59.000000000",
          "2024-08-20T17:29:59.000000000",
          "2024-08-20T18:29:59.000000000",
          "2024-08-20T19:29:58.000000000",
          "2024-08-20T20:29:59.000000000",
          "2024-08-20T21:29:59.000000000",
          "2024-08-20T22:29:59.000000000",
          "2024-08-20T23:29:59.000000000",
          "2024-08-21T00:29:58.000000000",
          "2024-08-21T01:29:59.000000000",
          "2024-08-21T02:29:58.000000000",
          "2024-08-21T03:29:59.000000000",
          "2024-08-21T04:29:59.000000000",
          "2024-08-21T05:29:59.000000000",
          "2024-08-21T06:29:59.000000000",
          "2024-08-21T07:29:59.000000000",
          "2024-08-21T08:29:59.000000000",
          "2024-08-21T09:29:58.000000000",
          "2024-08-21T10:29:59.000000000",
          "2024-08-21T11:29:58.000000000",
          "2024-08-21T12:29:59.000000000",
          "2024-08-21T13:29:59.000000000",
          "2024-08-21T14:29:59.000000000",
          "2024-08-21T15:29:59.000000000",
          "2024-08-21T16:29:59.000000000",
          "2024-08-21T17:29:59.000000000",
          "2024-08-21T18:29:59.000000000",
          "2024-08-21T19:29:59.000000000",
          "2024-08-21T20:29:59.000000000",
          "2024-08-21T21:30:00.000000000",
          "2024-08-21T22:29:59.000000000",
          "2024-08-21T23:29:59.000000000",
          "2024-08-22T00:30:00.000000000",
          "2024-08-22T01:29:59.000000000",
          "2024-08-22T02:29:59.000000000",
          "2024-08-22T03:29:59.000000000",
          "2024-08-22T04:29:59.000000000",
          "2024-08-22T05:29:59.000000000",
          "2024-08-22T06:30:00.000000000",
          "2024-08-22T07:29:59.000000000",
          "2024-08-22T08:29:59.000000000",
          "2024-08-22T09:29:59.000000000",
          "2024-08-22T10:29:59.000000000",
          "2024-08-22T11:29:59.000000000",
          "2024-08-22T12:29:59.000000000",
          "2024-08-22T13:29:59.000000000",
          "2024-08-22T14:29:59.000000000",
          "2024-08-22T15:29:59.000000000",
          "2024-08-22T16:29:59.000000000",
          "2024-08-22T17:29:59.000000000",
          "2024-08-22T18:29:59.000000000",
          "2024-08-22T19:29:59.000000000",
          "2024-08-22T20:29:59.000000000",
          "2024-08-22T21:29:59.000000000",
          "2024-08-22T22:29:59.000000000",
          "2024-08-22T23:29:59.000000000",
          "2024-08-23T00:29:59.000000000",
          "2024-08-23T01:21:53.000000000",
          "2024-08-23T01:24:04.000000000",
          "2024-08-23T01:30:04.000000000",
          "2024-08-23T02:30:04.000000000",
          "2024-08-23T03:30:04.000000000",
          "2024-08-23T04:30:04.000000000",
          "2024-08-23T05:30:04.000000000",
          "2024-08-23T06:30:04.000000000",
          "2024-08-23T07:30:03.000000000",
          "2024-08-23T08:30:04.000000000",
          "2024-08-23T09:30:05.000000000",
          "2024-08-23T10:30:04.000000000",
          "2024-08-23T11:30:06.000000000",
          "2024-08-23T12:30:03.000000000",
          "2024-08-23T13:30:03.000000000",
          "2024-08-23T14:30:04.000000000",
          "2024-08-23T15:30:04.000000000",
          "2024-08-23T16:18:08.000000000",
          "2024-08-23T16:19:05.000000000",
          "2024-08-23T16:21:52.000000000",
          "2024-08-23T16:30:02.000000000",
          "2024-08-23T17:30:04.000000000",
          "2024-08-23T18:30:05.000000000",
          "2024-08-23T19:30:03.000000000",
          "2024-08-23T20:30:05.000000000",
          "2024-08-23T21:30:04.000000000",
          "2024-08-23T22:30:04.000000000",
          "2024-08-23T23:30:04.000000000",
          "2024-08-24T00:30:04.000000000",
          "2024-08-24T01:30:04.000000000",
          "2024-08-24T02:30:05.000000000",
          "2024-08-24T03:30:04.000000000",
          "2024-08-24T04:30:05.000000000",
          "2024-08-24T05:30:11.000000000",
          "2024-08-24T06:30:05.000000000",
          "2024-08-24T07:30:04.000000000",
          "2024-08-24T08:30:05.000000000",
          "2024-08-24T09:30:04.000000000",
          "2024-08-24T10:30:04.000000000",
          "2024-08-24T11:30:04.000000000",
          "2024-08-24T12:30:05.000000000",
          "2024-08-24T13:30:04.000000000",
          "2024-08-24T14:30:04.000000000",
          "2024-08-24T15:30:03.000000000",
          "2024-08-24T16:30:04.000000000",
          "2024-08-24T17:30:04.000000000",
          "2024-08-24T18:30:03.000000000",
          "2024-08-24T19:30:04.000000000",
          "2024-08-24T20:30:04.000000000",
          "2024-08-24T21:30:02.000000000",
          "2024-08-24T22:30:03.000000000",
          "2024-08-24T23:30:03.000000000",
          "2024-08-25T00:30:04.000000000",
          "2024-08-25T01:30:03.000000000",
          "2024-08-25T02:30:05.000000000",
          "2024-08-25T03:30:04.000000000",
          "2024-08-25T04:30:05.000000000",
          "2024-08-25T05:30:04.000000000",
          "2024-08-25T06:30:04.000000000",
          "2024-08-25T07:30:05.000000000",
          "2024-08-25T08:30:04.000000000",
          "2024-08-25T09:30:04.000000000",
          "2024-08-25T10:30:04.000000000",
          "2024-08-25T11:30:04.000000000",
          "2024-08-25T12:30:04.000000000",
          "2024-08-25T13:30:04.000000000",
          "2024-08-25T14:30:04.000000000",
          "2024-08-25T15:30:04.000000000",
          "2024-08-25T16:30:04.000000000",
          "2024-08-25T17:30:04.000000000",
          "2024-08-25T18:30:04.000000000",
          "2024-08-25T19:30:04.000000000",
          "2024-08-25T20:30:04.000000000",
          "2024-08-25T21:30:03.000000000",
          "2024-08-25T22:30:04.000000000",
          "2024-08-25T23:30:03.000000000",
          "2024-08-26T00:30:05.000000000",
          "2024-08-26T01:30:04.000000000",
          "2024-08-26T02:30:04.000000000",
          "2024-08-26T03:30:05.000000000",
          "2024-08-26T04:30:04.000000000",
          "2024-08-26T05:30:04.000000000",
          "2024-08-26T06:30:05.000000000",
          "2024-08-26T07:30:07.000000000",
          "2024-08-26T08:30:05.000000000",
          "2024-08-26T09:30:05.000000000",
          "2024-08-26T10:30:05.000000000",
          "2024-08-26T11:30:04.000000000",
          "2024-08-26T12:30:04.000000000",
          "2024-08-26T13:30:04.000000000",
          "2024-08-26T14:30:04.000000000",
          "2024-08-26T15:30:04.000000000",
          "2024-08-26T16:30:04.000000000",
          "2024-08-26T17:30:04.000000000",
          "2024-08-26T18:30:04.000000000",
          "2024-08-26T19:30:04.000000000",
          "2024-08-26T20:30:04.000000000",
          "2024-08-26T21:30:05.000000000",
          "2024-08-26T22:30:04.000000000",
          "2024-08-26T23:30:03.000000000",
          "2024-08-27T00:30:04.000000000",
          "2024-08-27T01:30:05.000000000",
          "2024-08-27T02:30:04.000000000",
          "2024-08-27T03:30:04.000000000",
          "2024-08-27T04:30:04.000000000",
          "2024-08-27T05:30:04.000000000",
          "2024-08-27T06:30:04.000000000",
          "2024-08-27T07:30:04.000000000",
          "2024-08-27T08:30:05.000000000",
          "2024-08-27T09:30:05.000000000",
          "2024-08-27T10:30:04.000000000",
          "2024-08-27T11:30:03.000000000",
          "2024-08-27T12:30:05.000000000",
          "2024-08-27T13:30:04.000000000",
          "2024-08-27T14:30:04.000000000",
          "2024-08-27T15:30:04.000000000",
          "2024-08-27T16:30:05.000000000",
          "2024-08-27T17:30:03.000000000",
          "2024-08-27T18:30:04.000000000",
          "2024-08-27T19:30:04.000000000",
          "2024-08-27T20:30:04.000000000",
          "2024-08-27T21:30:04.000000000",
          "2024-08-27T22:30:03.000000000",
          "2024-08-27T23:30:05.000000000",
          "2024-08-28T00:30:04.000000000",
          "2024-08-28T01:30:05.000000000",
          "2024-08-28T02:30:05.000000000",
          "2024-08-28T03:30:04.000000000",
          "2024-08-28T04:30:04.000000000",
          "2024-08-28T05:30:04.000000000",
          "2024-08-28T06:30:04.000000000",
          "2024-08-28T07:30:04.000000000",
          "2024-08-28T08:30:04.000000000",
          "2024-08-28T09:30:05.000000000",
          "2024-08-28T10:30:05.000000000",
          "2024-08-28T11:30:03.000000000",
          "2024-08-28T12:30:05.000000000",
          "2024-08-28T13:30:04.000000000",
          "2024-08-28T14:30:04.000000000",
          "2024-08-28T15:30:05.000000000",
          "2024-08-28T16:30:02.000000000",
          "2024-08-28T17:30:05.000000000",
          "2024-08-28T18:30:04.000000000",
          "2024-08-28T19:30:04.000000000",
          "2024-08-28T20:30:05.000000000",
          "2024-08-28T21:30:04.000000000",
          "2024-08-28T22:30:04.000000000",
          "2024-08-28T23:30:04.000000000",
          "2024-08-29T00:30:05.000000000",
          "2024-08-29T01:30:03.000000000",
          "2024-08-29T02:30:03.000000000",
          "2024-08-29T03:30:05.000000000",
          "2024-08-29T04:30:04.000000000",
          "2024-08-29T05:30:05.000000000",
          "2024-08-29T06:30:04.000000000",
          "2024-08-29T07:30:05.000000000",
          "2024-08-29T08:30:05.000000000",
          "2024-08-29T09:30:04.000000000",
          "2024-08-29T10:30:04.000000000",
          "2024-08-29T11:30:05.000000000",
          "2024-08-29T12:30:04.000000000",
          "2024-08-29T13:30:04.000000000",
          "2024-08-29T14:30:04.000000000",
          "2024-08-29T15:30:04.000000000",
          "2024-08-29T16:30:04.000000000",
          "2024-08-29T17:30:04.000000000",
          "2024-08-29T18:30:04.000000000",
          "2024-08-29T19:30:04.000000000",
          "2024-08-29T20:30:04.000000000",
          "2024-08-29T21:30:04.000000000",
          "2024-08-29T22:30:04.000000000",
          "2024-08-29T23:30:05.000000000",
          "2024-08-30T00:30:04.000000000",
          "2024-08-30T01:30:05.000000000",
          "2024-08-30T02:30:04.000000000",
          "2024-08-30T03:30:04.000000000",
          "2024-08-30T04:30:04.000000000",
          "2024-08-30T05:30:05.000000000",
          "2024-08-30T06:30:05.000000000",
          "2024-08-30T07:30:05.000000000",
          "2024-08-30T08:30:04.000000000",
          "2024-08-30T09:30:05.000000000",
          "2024-08-30T10:30:05.000000000",
          "2024-08-30T11:30:04.000000000",
          "2024-08-30T12:30:05.000000000",
          "2024-08-30T13:30:05.000000000",
          "2024-08-30T14:30:04.000000000",
          "2024-08-30T15:30:04.000000000",
          "2024-08-30T16:30:05.000000000",
          "2024-08-30T17:30:05.000000000",
          "2024-08-30T18:30:04.000000000",
          "2024-08-30T19:30:04.000000000",
          "2024-08-30T20:30:04.000000000",
          "2024-08-30T21:30:04.000000000",
          "2024-08-30T22:30:05.000000000",
          "2024-08-30T23:30:04.000000000",
          "2024-08-31T00:30:05.000000000",
          "2024-08-31T01:30:03.000000000",
          "2024-08-31T02:30:04.000000000",
          "2024-08-31T03:30:03.000000000",
          "2024-08-31T04:30:04.000000000",
          "2024-08-31T05:30:05.000000000",
          "2024-08-31T06:30:04.000000000",
          "2024-08-31T07:30:05.000000000",
          "2024-08-31T08:30:04.000000000",
          "2024-08-31T09:30:04.000000000",
          "2024-08-31T10:30:04.000000000",
          "2024-08-31T11:30:04.000000000",
          "2024-08-31T12:30:04.000000000",
          "2024-08-31T13:30:04.000000000",
          "2024-08-31T14:30:04.000000000",
          "2024-08-31T15:30:04.000000000",
          "2024-08-31T16:30:04.000000000",
          "2024-08-31T17:30:04.000000000",
          "2024-08-31T18:30:04.000000000",
          "2024-08-31T19:30:05.000000000",
          "2024-08-31T20:30:04.000000000",
          "2024-08-31T21:30:04.000000000",
          "2024-08-31T22:30:03.000000000",
          "2024-08-31T23:30:03.000000000",
          "2024-09-01T00:30:05.000000000",
          "2024-09-01T01:30:04.000000000",
          "2024-09-01T02:30:03.000000000",
          "2024-09-01T03:30:04.000000000",
          "2024-09-01T04:30:04.000000000",
          "2024-09-01T05:30:05.000000000",
          "2024-09-01T06:30:03.000000000",
          "2024-09-01T07:30:05.000000000",
          "2024-09-01T08:30:04.000000000",
          "2024-09-01T09:30:04.000000000",
          "2024-09-01T10:30:04.000000000",
          "2024-09-01T11:30:04.000000000",
          "2024-09-01T12:30:04.000000000",
          "2024-09-01T13:30:04.000000000",
          "2024-09-01T14:30:04.000000000",
          "2024-09-01T15:30:04.000000000",
          "2024-09-01T16:30:04.000000000",
          "2024-09-01T17:30:04.000000000",
          "2024-09-01T18:30:04.000000000",
          "2024-09-01T19:30:04.000000000",
          "2024-09-01T20:30:04.000000000",
          "2024-09-01T21:30:04.000000000",
          "2024-09-01T22:30:04.000000000",
          "2024-09-01T23:30:04.000000000",
          "2024-09-02T00:30:05.000000000",
          "2024-09-02T01:30:03.000000000",
          "2024-09-02T02:30:04.000000000",
          "2024-09-02T03:30:03.000000000",
          "2024-09-02T04:30:04.000000000",
          "2024-09-02T05:30:04.000000000",
          "2024-09-02T06:30:04.000000000",
          "2024-09-02T07:30:04.000000000",
          "2024-09-02T08:30:04.000000000",
          "2024-09-02T09:30:04.000000000",
          "2024-09-02T10:30:04.000000000",
          "2024-09-02T11:30:04.000000000",
          "2024-09-02T12:30:04.000000000",
          "2024-09-02T13:30:03.000000000"
         ],
         "y": {
          "bdata": "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",
          "dtype": "f8"
         }
        },
        {
         "line": {
          "color": "red"
         },
         "mode": "lines",
         "name": "Ask Price",
         "type": "scatter",
         "x": [
          "2024-07-09T17:43:37.000000000",
          "2024-07-09T17:54:12.000000000",
          "2024-07-10T13:28:13.000000000",
          "2024-07-11T16:29:58.000000000",
          "2024-07-12T13:29:47.000000000",
          "2024-07-12T20:30:42.000000000",
          "2024-07-13T17:53:47.000000000",
          "2024-07-14T16:20:22.000000000",
          "2024-07-15T16:38:27.000000000",
          "2024-07-16T01:11:52.000000000",
          "2024-07-16T14:41:29.000000000",
          "2024-07-17T11:52:58.000000000",
          "2024-07-18T16:21:21.000000000",
          "2024-07-19T18:08:38.000000000",
          "2024-07-20T18:41:23.000000000",
          "2024-07-21T16:06:49.000000000",
          "2024-07-22T22:27:17.000000000",
          "2024-07-23T13:09:00.000000000",
          "2024-07-24T12:24:28.000000000",
          "2024-07-25T12:04:51.000000000",
          "2024-07-26T13:38:15.000000000",
          "2024-07-27T01:19:23.000000000",
          "2024-07-29T14:33:00.000000000",
          "2024-07-30T15:02:57.000000000",
          "2024-07-31T13:25:08.000000000",
          "2024-08-01T12:32:25.000000000",
          "2024-08-04T13:31:23.000000000",
          "2024-08-05T14:32:25.000000000",
          "2024-08-06T14:30:54.000000000",
          "2024-08-07T15:37:28.000000000",
          "2024-08-08T13:50:05.000000000",
          "2024-08-08T21:58:20.000000000",
          "2024-08-08T23:22:52.000000000",
          "2024-08-08T23:25:47.000000000",
          "2024-08-08T23:28:46.000000000",
          "2024-08-08T23:31:47.000000000",
          "2024-08-08T23:34:46.000000000",
          "2024-08-08T23:37:46.000000000",
          "2024-08-08T23:40:46.000000000",
          "2024-08-08T23:43:47.000000000",
          "2024-08-08T23:46:47.000000000",
          "2024-08-08T23:49:46.000000000",
          "2024-08-08T23:52:46.000000000",
          "2024-08-08T23:55:47.000000000",
          "2024-08-08T23:58:46.000000000",
          "2024-08-09T00:01:47.000000000",
          "2024-08-09T00:04:46.000000000",
          "2024-08-09T00:07:46.000000000",
          "2024-08-09T00:10:46.000000000",
          "2024-08-09T00:13:46.000000000",
          "2024-08-09T00:16:47.000000000",
          "2024-08-09T00:19:46.000000000",
          "2024-08-09T00:22:46.000000000",
          "2024-08-09T00:24:05.000000000",
          "2024-08-09T01:24:12.000000000",
          "2024-08-09T02:24:10.000000000",
          "2024-08-09T03:24:10.000000000",
          "2024-08-09T04:24:09.000000000",
          "2024-08-09T05:24:08.000000000",
          "2024-08-09T06:24:10.000000000",
          "2024-08-09T07:24:09.000000000",
          "2024-08-09T08:24:12.000000000",
          "2024-08-09T09:24:09.000000000",
          "2024-08-09T10:24:09.000000000",
          "2024-08-09T11:24:09.000000000",
          "2024-08-09T12:24:11.000000000",
          "2024-08-09T13:24:09.000000000",
          "2024-08-09T14:24:09.000000000",
          "2024-08-09T15:24:10.000000000",
          "2024-08-09T16:24:10.000000000",
          "2024-08-09T17:24:09.000000000",
          "2024-08-09T18:24:10.000000000",
          "2024-08-09T19:24:10.000000000",
          "2024-08-09T20:24:10.000000000",
          "2024-08-09T21:24:09.000000000",
          "2024-08-09T22:24:09.000000000",
          "2024-08-09T23:24:08.000000000",
          "2024-08-10T00:24:10.000000000",
          "2024-08-10T01:24:09.000000000",
          "2024-08-10T02:24:09.000000000",
          "2024-08-10T03:24:10.000000000",
          "2024-08-10T04:24:09.000000000",
          "2024-08-10T05:24:08.000000000",
          "2024-08-10T06:24:08.000000000",
          "2024-08-10T07:24:08.000000000",
          "2024-08-10T08:24:08.000000000",
          "2024-08-10T09:24:08.000000000",
          "2024-08-10T10:24:08.000000000",
          "2024-08-10T11:24:08.000000000",
          "2024-08-10T12:24:07.000000000",
          "2024-08-10T13:24:08.000000000",
          "2024-08-10T14:24:09.000000000",
          "2024-08-10T15:24:08.000000000",
          "2024-08-10T16:24:10.000000000",
          "2024-08-10T17:24:09.000000000",
          "2024-08-10T18:24:08.000000000",
          "2024-08-10T19:24:09.000000000",
          "2024-08-10T20:24:09.000000000",
          "2024-08-10T21:24:10.000000000",
          "2024-08-10T22:24:09.000000000",
          "2024-08-10T23:24:09.000000000",
          "2024-08-11T00:24:08.000000000",
          "2024-08-11T01:24:09.000000000",
          "2024-08-11T02:24:07.000000000",
          "2024-08-11T03:24:08.000000000",
          "2024-08-11T04:24:07.000000000",
          "2024-08-11T05:24:08.000000000",
          "2024-08-11T06:24:07.000000000",
          "2024-08-11T07:24:08.000000000",
          "2024-08-11T08:24:08.000000000",
          "2024-08-11T09:24:08.000000000",
          "2024-08-11T10:24:08.000000000",
          "2024-08-11T11:24:10.000000000",
          "2024-08-11T12:24:08.000000000",
          "2024-08-11T13:24:09.000000000",
          "2024-08-11T14:24:09.000000000",
          "2024-08-11T15:24:09.000000000",
          "2024-08-11T16:24:09.000000000",
          "2024-08-11T17:24:09.000000000",
          "2024-08-11T18:24:08.000000000",
          "2024-08-11T19:24:09.000000000",
          "2024-08-11T20:24:09.000000000",
          "2024-08-11T21:24:08.000000000",
          "2024-08-11T22:24:08.000000000",
          "2024-08-11T23:24:10.000000000",
          "2024-08-12T00:24:10.000000000",
          "2024-08-12T01:24:08.000000000",
          "2024-08-12T02:24:09.000000000",
          "2024-08-12T03:24:08.000000000",
          "2024-08-12T04:24:10.000000000",
          "2024-08-12T05:24:08.000000000",
          "2024-08-12T06:24:08.000000000",
          "2024-08-12T07:24:07.000000000",
          "2024-08-12T08:24:08.000000000",
          "2024-08-12T09:24:09.000000000",
          "2024-08-12T10:24:08.000000000",
          "2024-08-12T11:24:08.000000000",
          "2024-08-12T12:24:09.000000000",
          "2024-08-12T13:24:08.000000000",
          "2024-08-12T14:24:10.000000000",
          "2024-08-12T15:24:09.000000000",
          "2024-08-12T16:24:09.000000000",
          "2024-08-12T17:24:08.000000000",
          "2024-08-12T18:24:09.000000000",
          "2024-08-12T19:24:09.000000000",
          "2024-08-12T20:24:09.000000000",
          "2024-08-12T21:24:09.000000000",
          "2024-08-12T22:24:09.000000000",
          "2024-08-12T23:24:09.000000000",
          "2024-08-13T00:24:09.000000000",
          "2024-08-13T01:24:08.000000000",
          "2024-08-13T02:24:08.000000000",
          "2024-08-13T03:24:08.000000000",
          "2024-08-13T04:24:08.000000000",
          "2024-08-13T05:24:09.000000000",
          "2024-08-13T06:24:08.000000000",
          "2024-08-13T07:24:09.000000000",
          "2024-08-13T08:24:08.000000000",
          "2024-08-13T09:24:08.000000000",
          "2024-08-13T10:24:09.000000000",
          "2024-08-13T11:24:09.000000000",
          "2024-08-13T12:24:09.000000000",
          "2024-08-13T13:24:09.000000000",
          "2024-08-13T14:24:10.000000000",
          "2024-08-13T15:24:09.000000000",
          "2024-08-13T16:24:10.000000000",
          "2024-08-13T17:24:09.000000000",
          "2024-08-13T18:24:09.000000000",
          "2024-08-13T19:24:09.000000000",
          "2024-08-13T20:24:10.000000000",
          "2024-08-13T21:24:09.000000000",
          "2024-08-13T22:24:09.000000000",
          "2024-08-13T23:24:09.000000000",
          "2024-08-14T00:24:09.000000000",
          "2024-08-14T01:24:10.000000000",
          "2024-08-14T02:24:09.000000000",
          "2024-08-14T03:24:08.000000000",
          "2024-08-14T04:24:09.000000000",
          "2024-08-14T05:24:08.000000000",
          "2024-08-14T06:24:08.000000000",
          "2024-08-14T07:24:10.000000000",
          "2024-08-14T08:24:08.000000000",
          "2024-08-14T09:24:09.000000000",
          "2024-08-14T10:24:09.000000000",
          "2024-08-14T11:24:09.000000000",
          "2024-08-14T12:24:09.000000000",
          "2024-08-14T13:24:09.000000000",
          "2024-08-14T14:24:10.000000000",
          "2024-08-14T15:24:12.000000000",
          "2024-08-14T16:24:09.000000000",
          "2024-08-14T17:24:09.000000000",
          "2024-08-14T18:24:10.000000000",
          "2024-08-14T19:24:09.000000000",
          "2024-08-14T20:24:09.000000000",
          "2024-08-14T21:24:08.000000000",
          "2024-08-14T22:24:09.000000000",
          "2024-08-14T23:24:09.000000000",
          "2024-08-15T00:24:10.000000000",
          "2024-08-15T01:24:09.000000000",
          "2024-08-15T02:24:09.000000000",
          "2024-08-15T03:24:09.000000000",
          "2024-08-15T04:24:09.000000000",
          "2024-08-15T05:24:08.000000000",
          "2024-08-15T06:24:09.000000000",
          "2024-08-15T07:24:09.000000000",
          "2024-08-15T08:24:09.000000000",
          "2024-08-15T09:24:09.000000000",
          "2024-08-15T10:24:09.000000000",
          "2024-08-15T11:24:10.000000000",
          "2024-08-15T12:24:09.000000000",
          "2024-08-15T13:24:09.000000000",
          "2024-08-15T14:24:10.000000000",
          "2024-08-15T15:24:11.000000000",
          "2024-08-15T16:24:09.000000000",
          "2024-08-15T17:24:09.000000000",
          "2024-08-15T18:24:09.000000000",
          "2024-08-15T19:24:09.000000000",
          "2024-08-15T20:24:09.000000000",
          "2024-08-15T21:24:10.000000000",
          "2024-08-15T22:24:09.000000000",
          "2024-08-15T23:24:09.000000000",
          "2024-08-16T00:24:10.000000000",
          "2024-08-16T01:24:09.000000000",
          "2024-08-16T02:24:09.000000000",
          "2024-08-16T03:24:09.000000000",
          "2024-08-16T04:24:09.000000000",
          "2024-08-16T05:24:08.000000000",
          "2024-08-16T06:24:09.000000000",
          "2024-08-16T07:24:09.000000000",
          "2024-08-16T08:24:09.000000000",
          "2024-08-16T09:24:09.000000000",
          "2024-08-16T10:24:08.000000000",
          "2024-08-16T11:24:10.000000000",
          "2024-08-16T12:24:09.000000000",
          "2024-08-16T13:24:08.000000000",
          "2024-08-16T14:24:09.000000000",
          "2024-08-16T15:24:08.000000000",
          "2024-08-16T16:24:10.000000000",
          "2024-08-16T17:24:08.000000000",
          "2024-08-16T18:24:09.000000000",
          "2024-08-16T19:24:07.000000000",
          "2024-08-16T20:24:09.000000000",
          "2024-08-16T21:24:09.000000000",
          "2024-08-16T22:24:09.000000000",
          "2024-08-16T23:24:09.000000000",
          "2024-08-17T00:24:10.000000000",
          "2024-08-17T01:24:09.000000000",
          "2024-08-17T02:24:09.000000000",
          "2024-08-17T03:24:08.000000000",
          "2024-08-17T04:24:08.000000000",
          "2024-08-17T05:24:09.000000000",
          "2024-08-17T06:24:10.000000000",
          "2024-08-17T07:24:08.000000000",
          "2024-08-17T08:24:07.000000000",
          "2024-08-17T09:24:08.000000000",
          "2024-08-17T10:24:08.000000000",
          "2024-08-17T11:24:09.000000000",
          "2024-08-17T12:24:09.000000000",
          "2024-08-17T13:24:10.000000000",
          "2024-08-17T14:24:08.000000000",
          "2024-08-17T15:24:09.000000000",
          "2024-08-17T16:24:09.000000000",
          "2024-08-17T17:24:09.000000000",
          "2024-08-17T18:24:09.000000000",
          "2024-08-17T19:24:09.000000000",
          "2024-08-17T20:24:09.000000000",
          "2024-08-17T21:24:09.000000000",
          "2024-08-17T22:24:09.000000000",
          "2024-08-17T23:24:09.000000000",
          "2024-08-18T00:24:09.000000000",
          "2024-08-18T01:24:09.000000000",
          "2024-08-18T02:24:09.000000000",
          "2024-08-18T03:24:09.000000000",
          "2024-08-18T04:24:09.000000000",
          "2024-08-18T05:24:08.000000000",
          "2024-08-18T06:24:07.000000000",
          "2024-08-18T07:24:07.000000000",
          "2024-08-18T08:24:07.000000000",
          "2024-08-18T09:24:08.000000000",
          "2024-08-18T10:24:07.000000000",
          "2024-08-18T11:24:08.000000000",
          "2024-08-18T12:24:08.000000000",
          "2024-08-18T13:24:10.000000000",
          "2024-08-18T14:24:09.000000000",
          "2024-08-18T15:24:08.000000000",
          "2024-08-18T16:24:08.000000000",
          "2024-08-18T17:24:09.000000000",
          "2024-08-18T18:24:09.000000000",
          "2024-08-18T19:24:10.000000000",
          "2024-08-18T20:24:09.000000000",
          "2024-08-18T21:24:09.000000000",
          "2024-08-19T13:29:59.000000000",
          "2024-08-19T13:30:09.000000000",
          "2024-08-19T14:29:59.000000000",
          "2024-08-19T15:29:59.000000000",
          "2024-08-19T16:29:59.000000000",
          "2024-08-19T17:29:59.000000000",
          "2024-08-19T18:29:59.000000000",
          "2024-08-19T19:29:58.000000000",
          "2024-08-19T20:29:59.000000000",
          "2024-08-19T21:29:58.000000000",
          "2024-08-19T22:29:59.000000000",
          "2024-08-19T23:29:59.000000000",
          "2024-08-20T00:29:59.000000000",
          "2024-08-20T01:29:58.000000000",
          "2024-08-20T02:29:58.000000000",
          "2024-08-20T03:29:58.000000000",
          "2024-08-20T04:29:59.000000000",
          "2024-08-20T05:29:58.000000000",
          "2024-08-20T06:29:58.000000000",
          "2024-08-20T07:29:58.000000000",
          "2024-08-20T08:29:58.000000000",
          "2024-08-20T09:29:59.000000000",
          "2024-08-20T10:29:59.000000000",
          "2024-08-20T11:29:59.000000000",
          "2024-08-20T12:29:58.000000000",
          "2024-08-20T13:29:59.000000000",
          "2024-08-20T14:29:59.000000000",
          "2024-08-20T15:29:58.000000000",
          "2024-08-20T16:29:59.000000000",
          "2024-08-20T17:29:59.000000000",
          "2024-08-20T18:29:59.000000000",
          "2024-08-20T19:29:58.000000000",
          "2024-08-20T20:29:59.000000000",
          "2024-08-20T21:29:59.000000000",
          "2024-08-20T22:29:59.000000000",
          "2024-08-20T23:29:59.000000000",
          "2024-08-21T00:29:58.000000000",
          "2024-08-21T01:29:59.000000000",
          "2024-08-21T02:29:58.000000000",
          "2024-08-21T03:29:59.000000000",
          "2024-08-21T04:29:59.000000000",
          "2024-08-21T05:29:59.000000000",
          "2024-08-21T06:29:59.000000000",
          "2024-08-21T07:29:59.000000000",
          "2024-08-21T08:29:59.000000000",
          "2024-08-21T09:29:58.000000000",
          "2024-08-21T10:29:59.000000000",
          "2024-08-21T11:29:58.000000000",
          "2024-08-21T12:29:59.000000000",
          "2024-08-21T13:29:59.000000000",
          "2024-08-21T14:29:59.000000000",
          "2024-08-21T15:29:59.000000000",
          "2024-08-21T16:29:59.000000000",
          "2024-08-21T17:29:59.000000000",
          "2024-08-21T18:29:59.000000000",
          "2024-08-21T19:29:59.000000000",
          "2024-08-21T20:29:59.000000000",
          "2024-08-21T21:30:00.000000000",
          "2024-08-21T22:29:59.000000000",
          "2024-08-21T23:29:59.000000000",
          "2024-08-22T00:30:00.000000000",
          "2024-08-22T01:29:59.000000000",
          "2024-08-22T02:29:59.000000000",
          "2024-08-22T03:29:59.000000000",
          "2024-08-22T04:29:59.000000000",
          "2024-08-22T05:29:59.000000000",
          "2024-08-22T06:30:00.000000000",
          "2024-08-22T07:29:59.000000000",
          "2024-08-22T08:29:59.000000000",
          "2024-08-22T09:29:59.000000000",
          "2024-08-22T10:29:59.000000000",
          "2024-08-22T11:29:59.000000000",
          "2024-08-22T12:29:59.000000000",
          "2024-08-22T13:29:59.000000000",
          "2024-08-22T14:29:59.000000000",
          "2024-08-22T15:29:59.000000000",
          "2024-08-22T16:29:59.000000000",
          "2024-08-22T17:29:59.000000000",
          "2024-08-22T18:29:59.000000000",
          "2024-08-22T19:29:59.000000000",
          "2024-08-22T20:29:59.000000000",
          "2024-08-22T21:29:59.000000000",
          "2024-08-22T22:29:59.000000000",
          "2024-08-22T23:29:59.000000000",
          "2024-08-23T00:29:59.000000000",
          "2024-08-23T01:21:53.000000000",
          "2024-08-23T01:24:04.000000000",
          "2024-08-23T01:30:04.000000000",
          "2024-08-23T02:30:04.000000000",
          "2024-08-23T03:30:04.000000000",
          "2024-08-23T04:30:04.000000000",
          "2024-08-23T05:30:04.000000000",
          "2024-08-23T06:30:04.000000000",
          "2024-08-23T07:30:03.000000000",
          "2024-08-23T08:30:04.000000000",
          "2024-08-23T09:30:05.000000000",
          "2024-08-23T10:30:04.000000000",
          "2024-08-23T11:30:06.000000000",
          "2024-08-23T12:30:03.000000000",
          "2024-08-23T13:30:03.000000000",
          "2024-08-23T14:30:04.000000000",
          "2024-08-23T15:30:04.000000000",
          "2024-08-23T16:18:08.000000000",
          "2024-08-23T16:19:05.000000000",
          "2024-08-23T16:21:52.000000000",
          "2024-08-23T16:30:02.000000000",
          "2024-08-23T17:30:04.000000000",
          "2024-08-23T18:30:05.000000000",
          "2024-08-23T19:30:03.000000000",
          "2024-08-23T20:30:05.000000000",
          "2024-08-23T21:30:04.000000000",
          "2024-08-23T22:30:04.000000000",
          "2024-08-23T23:30:04.000000000",
          "2024-08-24T00:30:04.000000000",
          "2024-08-24T01:30:04.000000000",
          "2024-08-24T02:30:05.000000000",
          "2024-08-24T03:30:04.000000000",
          "2024-08-24T04:30:05.000000000",
          "2024-08-24T05:30:11.000000000",
          "2024-08-24T06:30:05.000000000",
          "2024-08-24T07:30:04.000000000",
          "2024-08-24T08:30:05.000000000",
          "2024-08-24T09:30:04.000000000",
          "2024-08-24T10:30:04.000000000",
          "2024-08-24T11:30:04.000000000",
          "2024-08-24T12:30:05.000000000",
          "2024-08-24T13:30:04.000000000",
          "2024-08-24T14:30:04.000000000",
          "2024-08-24T15:30:03.000000000",
          "2024-08-24T16:30:04.000000000",
          "2024-08-24T17:30:04.000000000",
          "2024-08-24T18:30:03.000000000",
          "2024-08-24T19:30:04.000000000",
          "2024-08-24T20:30:04.000000000",
          "2024-08-24T21:30:02.000000000",
          "2024-08-24T22:30:03.000000000",
          "2024-08-24T23:30:03.000000000",
          "2024-08-25T00:30:04.000000000",
          "2024-08-25T01:30:03.000000000",
          "2024-08-25T02:30:05.000000000",
          "2024-08-25T03:30:04.000000000",
          "2024-08-25T04:30:05.000000000",
          "2024-08-25T05:30:04.000000000",
          "2024-08-25T06:30:04.000000000",
          "2024-08-25T07:30:05.000000000",
          "2024-08-25T08:30:04.000000000",
          "2024-08-25T09:30:04.000000000",
          "2024-08-25T10:30:04.000000000",
          "2024-08-25T11:30:04.000000000",
          "2024-08-25T12:30:04.000000000",
          "2024-08-25T13:30:04.000000000",
          "2024-08-25T14:30:04.000000000",
          "2024-08-25T15:30:04.000000000",
          "2024-08-25T16:30:04.000000000",
          "2024-08-25T17:30:04.000000000",
          "2024-08-25T18:30:04.000000000",
          "2024-08-25T19:30:04.000000000",
          "2024-08-25T20:30:04.000000000",
          "2024-08-25T21:30:03.000000000",
          "2024-08-25T22:30:04.000000000",
          "2024-08-25T23:30:03.000000000",
          "2024-08-26T00:30:05.000000000",
          "2024-08-26T01:30:04.000000000",
          "2024-08-26T02:30:04.000000000",
          "2024-08-26T03:30:05.000000000",
          "2024-08-26T04:30:04.000000000",
          "2024-08-26T05:30:04.000000000",
          "2024-08-26T06:30:05.000000000",
          "2024-08-26T07:30:07.000000000",
          "2024-08-26T08:30:05.000000000",
          "2024-08-26T09:30:05.000000000",
          "2024-08-26T10:30:05.000000000",
          "2024-08-26T11:30:04.000000000",
          "2024-08-26T12:30:04.000000000",
          "2024-08-26T13:30:04.000000000",
          "2024-08-26T14:30:04.000000000",
          "2024-08-26T15:30:04.000000000",
          "2024-08-26T16:30:04.000000000",
          "2024-08-26T17:30:04.000000000",
          "2024-08-26T18:30:04.000000000",
          "2024-08-26T19:30:04.000000000",
          "2024-08-26T20:30:04.000000000",
          "2024-08-26T21:30:05.000000000",
          "2024-08-26T22:30:04.000000000",
          "2024-08-26T23:30:03.000000000",
          "2024-08-27T00:30:04.000000000",
          "2024-08-27T01:30:05.000000000",
          "2024-08-27T02:30:04.000000000",
          "2024-08-27T03:30:04.000000000",
          "2024-08-27T04:30:04.000000000",
          "2024-08-27T05:30:04.000000000",
          "2024-08-27T06:30:04.000000000",
          "2024-08-27T07:30:04.000000000",
          "2024-08-27T08:30:05.000000000",
          "2024-08-27T09:30:05.000000000",
          "2024-08-27T10:30:04.000000000",
          "2024-08-27T11:30:03.000000000",
          "2024-08-27T12:30:05.000000000",
          "2024-08-27T13:30:04.000000000",
          "2024-08-27T14:30:04.000000000",
          "2024-08-27T15:30:04.000000000",
          "2024-08-27T16:30:05.000000000",
          "2024-08-27T17:30:03.000000000",
          "2024-08-27T18:30:04.000000000",
          "2024-08-27T19:30:04.000000000",
          "2024-08-27T20:30:04.000000000",
          "2024-08-27T21:30:04.000000000",
          "2024-08-27T22:30:03.000000000",
          "2024-08-27T23:30:05.000000000",
          "2024-08-28T00:30:04.000000000",
          "2024-08-28T01:30:05.000000000",
          "2024-08-28T02:30:05.000000000",
          "2024-08-28T03:30:04.000000000",
          "2024-08-28T04:30:04.000000000",
          "2024-08-28T05:30:04.000000000",
          "2024-08-28T06:30:04.000000000",
          "2024-08-28T07:30:04.000000000",
          "2024-08-28T08:30:04.000000000",
          "2024-08-28T09:30:05.000000000",
          "2024-08-28T10:30:05.000000000",
          "2024-08-28T11:30:03.000000000",
          "2024-08-28T12:30:05.000000000",
          "2024-08-28T13:30:04.000000000",
          "2024-08-28T14:30:04.000000000",
          "2024-08-28T15:30:05.000000000",
          "2024-08-28T16:30:02.000000000",
          "2024-08-28T17:30:05.000000000",
          "2024-08-28T18:30:04.000000000",
          "2024-08-28T19:30:04.000000000",
          "2024-08-28T20:30:05.000000000",
          "2024-08-28T21:30:04.000000000",
          "2024-08-28T22:30:04.000000000",
          "2024-08-28T23:30:04.000000000",
          "2024-08-29T00:30:05.000000000",
          "2024-08-29T01:30:03.000000000",
          "2024-08-29T02:30:03.000000000",
          "2024-08-29T03:30:05.000000000",
          "2024-08-29T04:30:04.000000000",
          "2024-08-29T05:30:05.000000000",
          "2024-08-29T06:30:04.000000000",
          "2024-08-29T07:30:05.000000000",
          "2024-08-29T08:30:05.000000000",
          "2024-08-29T09:30:04.000000000",
          "2024-08-29T10:30:04.000000000",
          "2024-08-29T11:30:05.000000000",
          "2024-08-29T12:30:04.000000000",
          "2024-08-29T13:30:04.000000000",
          "2024-08-29T14:30:04.000000000",
          "2024-08-29T15:30:04.000000000",
          "2024-08-29T16:30:04.000000000",
          "2024-08-29T17:30:04.000000000",
          "2024-08-29T18:30:04.000000000",
          "2024-08-29T19:30:04.000000000",
          "2024-08-29T20:30:04.000000000",
          "2024-08-29T21:30:04.000000000",
          "2024-08-29T22:30:04.000000000",
          "2024-08-29T23:30:05.000000000",
          "2024-08-30T00:30:04.000000000",
          "2024-08-30T01:30:05.000000000",
          "2024-08-30T02:30:04.000000000",
          "2024-08-30T03:30:04.000000000",
          "2024-08-30T04:30:04.000000000",
          "2024-08-30T05:30:05.000000000",
          "2024-08-30T06:30:05.000000000",
          "2024-08-30T07:30:05.000000000",
          "2024-08-30T08:30:04.000000000",
          "2024-08-30T09:30:05.000000000",
          "2024-08-30T10:30:05.000000000",
          "2024-08-30T11:30:04.000000000",
          "2024-08-30T12:30:05.000000000",
          "2024-08-30T13:30:05.000000000",
          "2024-08-30T14:30:04.000000000",
          "2024-08-30T15:30:04.000000000",
          "2024-08-30T16:30:05.000000000",
          "2024-08-30T17:30:05.000000000",
          "2024-08-30T18:30:04.000000000",
          "2024-08-30T19:30:04.000000000",
          "2024-08-30T20:30:04.000000000",
          "2024-08-30T21:30:04.000000000",
          "2024-08-30T22:30:05.000000000",
          "2024-08-30T23:30:04.000000000",
          "2024-08-31T00:30:05.000000000",
          "2024-08-31T01:30:03.000000000",
          "2024-08-31T02:30:04.000000000",
          "2024-08-31T03:30:03.000000000",
          "2024-08-31T04:30:04.000000000",
          "2024-08-31T05:30:05.000000000",
          "2024-08-31T06:30:04.000000000",
          "2024-08-31T07:30:05.000000000",
          "2024-08-31T08:30:04.000000000",
          "2024-08-31T09:30:04.000000000",
          "2024-08-31T10:30:04.000000000",
          "2024-08-31T11:30:04.000000000",
          "2024-08-31T12:30:04.000000000",
          "2024-08-31T13:30:04.000000000",
          "2024-08-31T14:30:04.000000000",
          "2024-08-31T15:30:04.000000000",
          "2024-08-31T16:30:04.000000000",
          "2024-08-31T17:30:04.000000000",
          "2024-08-31T18:30:04.000000000",
          "2024-08-31T19:30:05.000000000",
          "2024-08-31T20:30:04.000000000",
          "2024-08-31T21:30:04.000000000",
          "2024-08-31T22:30:03.000000000",
          "2024-08-31T23:30:03.000000000",
          "2024-09-01T00:30:05.000000000",
          "2024-09-01T01:30:04.000000000",
          "2024-09-01T02:30:03.000000000",
          "2024-09-01T03:30:04.000000000",
          "2024-09-01T04:30:04.000000000",
          "2024-09-01T05:30:05.000000000",
          "2024-09-01T06:30:03.000000000",
          "2024-09-01T07:30:05.000000000",
          "2024-09-01T08:30:04.000000000",
          "2024-09-01T09:30:04.000000000",
          "2024-09-01T10:30:04.000000000",
          "2024-09-01T11:30:04.000000000",
          "2024-09-01T12:30:04.000000000",
          "2024-09-01T13:30:04.000000000",
          "2024-09-01T14:30:04.000000000",
          "2024-09-01T15:30:04.000000000",
          "2024-09-01T16:30:04.000000000",
          "2024-09-01T17:30:04.000000000",
          "2024-09-01T18:30:04.000000000",
          "2024-09-01T19:30:04.000000000",
          "2024-09-01T20:30:04.000000000",
          "2024-09-01T21:30:04.000000000",
          "2024-09-01T22:30:04.000000000",
          "2024-09-01T23:30:04.000000000",
          "2024-09-02T00:30:05.000000000",
          "2024-09-02T01:30:03.000000000",
          "2024-09-02T02:30:04.000000000",
          "2024-09-02T03:30:03.000000000",
          "2024-09-02T04:30:04.000000000",
          "2024-09-02T05:30:04.000000000",
          "2024-09-02T06:30:04.000000000",
          "2024-09-02T07:30:04.000000000",
          "2024-09-02T08:30:04.000000000",
          "2024-09-02T09:30:04.000000000",
          "2024-09-02T10:30:04.000000000",
          "2024-09-02T11:30:04.000000000",
          "2024-09-02T12:30:04.000000000",
          "2024-09-02T13:30:03.000000000"
         ],
         "y": {
          "bdata": "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",
          "dtype": "f8"
         }
        }
       ],
       "layout": {
        "legend": {
         "title": {
          "text": "Type"
         }
        },
        "template": {
         "data": {
          "bar": [
           {
            "error_x": {
             "color": "#2a3f5f"
            },
            "error_y": {
             "color": "#2a3f5f"
            },
            "marker": {
             "line": {
              "color": "white",
              "width": 0.5
             },
             "pattern": {
              "fillmode": "overlay",
              "size": 10,
              "solidity": 0.2
             }
            },
            "type": "bar"
           }
          ],
          "barpolar": [
           {
            "marker": {
             "line": {
              "color": "white",
              "width": 0.5
             },
             "pattern": {
              "fillmode": "overlay",
              "size": 10,
              "solidity": 0.2
             }
            },
            "type": "barpolar"
           }
          ],
          "carpet": [
           {
            "aaxis": {
             "endlinecolor": "#2a3f5f",
             "gridcolor": "#C8D4E3",
             "linecolor": "#C8D4E3",
             "minorgridcolor": "#C8D4E3",
             "startlinecolor": "#2a3f5f"
            },
            "baxis": {
             "endlinecolor": "#2a3f5f",
             "gridcolor": "#C8D4E3",
             "linecolor": "#C8D4E3",
             "minorgridcolor": "#C8D4E3",
             "startlinecolor": "#2a3f5f"
            },
            "type": "carpet"
           }
          ],
          "choropleth": [
           {
            "colorbar": {
             "outlinewidth": 0,
             "ticks": ""
            },
            "type": "choropleth"
           }
          ],
          "contour": [
           {
            "colorbar": {
             "outlinewidth": 0,
             "ticks": ""
            },
            "colorscale": [
             [
              0,
              "#0d0887"
             ],
             [
              0.1111111111111111,
              "#46039f"
             ],
             [
              0.2222222222222222,
              "#7201a8"
             ],
             [
              0.3333333333333333,
              "#9c179e"
             ],
             [
              0.4444444444444444,
              "#bd3786"
             ],
             [
              0.5555555555555556,
              "#d8576b"
             ],
             [
              0.6666666666666666,
              "#ed7953"
             ],
             [
              0.7777777777777778,
              "#fb9f3a"
             ],
             [
              0.8888888888888888,
              "#fdca26"
             ],
             [
              1,
              "#f0f921"
             ]
            ],
            "type": "contour"
           }
          ],
          "contourcarpet": [
           {
            "colorbar": {
             "outlinewidth": 0,
             "ticks": ""
            },
            "type": "contourcarpet"
           }
          ],
          "heatmap": [
           {
            "colorbar": {
             "outlinewidth": 0,
             "ticks": ""
            },
            "colorscale": [
             [
              0,
              "#0d0887"
             ],
             [
              0.1111111111111111,
              "#46039f"
             ],
             [
              0.2222222222222222,
              "#7201a8"
             ],
             [
              0.3333333333333333,
              "#9c179e"
             ],
             [
              0.4444444444444444,
              "#bd3786"
             ],
             [
              0.5555555555555556,
              "#d8576b"
             ],
             [
              0.6666666666666666,
              "#ed7953"
             ],
             [
              0.7777777777777778,
              "#fb9f3a"
             ],
             [
              0.8888888888888888,
              "#fdca26"
             ],
             [
              1,
              "#f0f921"
             ]
            ],
            "type": "heatmap"
           }
          ],
          "histogram": [
           {
            "marker": {
             "pattern": {
              "fillmode": "overlay",
              "size": 10,
              "solidity": 0.2
             }
            },
            "type": "histogram"
           }
          ],
          "histogram2d": [
           {
            "colorbar": {
             "outlinewidth": 0,
             "ticks": ""
            },
            "colorscale": [
             [
              0,
              "#0d0887"
             ],
             [
              0.1111111111111111,
              "#46039f"
             ],
             [
              0.2222222222222222,
              "#7201a8"
             ],
             [
              0.3333333333333333,
              "#9c179e"
             ],
             [
              0.4444444444444444,
              "#bd3786"
             ],
             [
              0.5555555555555556,
              "#d8576b"
             ],
             [
              0.6666666666666666,
              "#ed7953"
             ],
             [
              0.7777777777777778,
              "#fb9f3a"
             ],
             [
              0.8888888888888888,
              "#fdca26"
             ],
             [
              1,
              "#f0f921"
             ]
            ],
            "type": "histogram2d"
           }
          ],
          "histogram2dcontour": [
           {
            "colorbar": {
             "outlinewidth": 0,
             "ticks": ""
            },
            "colorscale": [
             [
              0,
              "#0d0887"
             ],
             [
              0.1111111111111111,
              "#46039f"
             ],
             [
              0.2222222222222222,
              "#7201a8"
             ],
             [
              0.3333333333333333,
              "#9c179e"
             ],
             [
              0.4444444444444444,
              "#bd3786"
             ],
             [
              0.5555555555555556,
              "#d8576b"
             ],
             [
              0.6666666666666666,
              "#ed7953"
             ],
             [
              0.7777777777777778,
              "#fb9f3a"
             ],
             [
              0.8888888888888888,
              "#fdca26"
             ],
             [
              1,
              "#f0f921"
             ]
            ],
            "type": "histogram2dcontour"
           }
          ],
          "mesh3d": [
           {
            "colorbar": {
             "outlinewidth": 0,
             "ticks": ""
            },
            "type": "mesh3d"
           }
          ],
          "parcoords": [
           {
            "line": {
             "colorbar": {
              "outlinewidth": 0,
              "ticks": ""
             }
            },
            "type": "parcoords"
           }
          ],
          "pie": [
           {
            "automargin": true,
            "type": "pie"
           }
          ],
          "scatter": [
           {
            "fillpattern": {
             "fillmode": "overlay",
             "size": 10,
             "solidity": 0.2
            },
            "type": "scatter"
           }
          ],
          "scatter3d": [
           {
            "line": {
             "colorbar": {
              "outlinewidth": 0,
              "ticks": ""
             }
            },
            "marker": {
             "colorbar": {
              "outlinewidth": 0,
              "ticks": ""
             }
            },
            "type": "scatter3d"
           }
          ],
          "scattercarpet": [
           {
            "marker": {
             "colorbar": {
              "outlinewidth": 0,
              "ticks": ""
             }
            },
            "type": "scattercarpet"
           }
          ],
          "scattergeo": [
           {
            "marker": {
             "colorbar": {
              "outlinewidth": 0,
              "ticks": ""
             }
            },
            "type": "scattergeo"
           }
          ],
          "scattergl": [
           {
            "marker": {
             "colorbar": {
              "outlinewidth": 0,
              "ticks": ""
             }
            },
            "type": "scattergl"
           }
          ],
          "scattermap": [
           {
            "marker": {
             "colorbar": {
              "outlinewidth": 0,
              "ticks": ""
             }
            },
            "type": "scattermap"
           }
          ],
          "scattermapbox": [
           {
            "marker": {
             "colorbar": {
              "outlinewidth": 0,
              "ticks": ""
             }
            },
            "type": "scattermapbox"
           }
          ],
          "scatterpolar": [
           {
            "marker": {
             "colorbar": {
              "outlinewidth": 0,
              "ticks": ""
             }
            },
            "type": "scatterpolar"
           }
          ],
          "scatterpolargl": [
           {
            "marker": {
             "colorbar": {
              "outlinewidth": 0,
              "ticks": ""
             }
            },
            "type": "scatterpolargl"
           }
          ],
          "scatterternary": [
           {
            "marker": {
             "colorbar": {
              "outlinewidth": 0,
              "ticks": ""
             }
            },
            "type": "scatterternary"
           }
          ],
          "surface": [
           {
            "colorbar": {
             "outlinewidth": 0,
             "ticks": ""
            },
            "colorscale": [
             [
              0,
              "#0d0887"
             ],
             [
              0.1111111111111111,
              "#46039f"
             ],
             [
              0.2222222222222222,
              "#7201a8"
             ],
             [
              0.3333333333333333,
              "#9c179e"
             ],
             [
              0.4444444444444444,
              "#bd3786"
             ],
             [
              0.5555555555555556,
              "#d8576b"
             ],
             [
              0.6666666666666666,
              "#ed7953"
             ],
             [
              0.7777777777777778,
              "#fb9f3a"
             ],
             [
              0.8888888888888888,
              "#fdca26"
             ],
             [
              1,
              "#f0f921"
             ]
            ],
            "type": "surface"
           }
          ],
          "table": [
           {
            "cells": {
             "fill": {
              "color": "#EBF0F8"
             },
             "line": {
              "color": "white"
             }
            },
            "header": {
             "fill": {
              "color": "#C8D4E3"
             },
             "line": {
              "color": "white"
             }
            },
            "type": "table"
           }
          ]
         },
         "layout": {
          "annotationdefaults": {
           "arrowcolor": "#2a3f5f",
           "arrowhead": 0,
           "arrowwidth": 1
          },
          "autotypenumbers": "strict",
          "coloraxis": {
           "colorbar": {
            "outlinewidth": 0,
            "ticks": ""
           }
          },
          "colorscale": {
           "diverging": [
            [
             0,
             "#8e0152"
            ],
            [
             0.1,
             "#c51b7d"
            ],
            [
             0.2,
             "#de77ae"
            ],
            [
             0.3,
             "#f1b6da"
            ],
            [
             0.4,
             "#fde0ef"
            ],
            [
             0.5,
             "#f7f7f7"
            ],
            [
             0.6,
             "#e6f5d0"
            ],
            [
             0.7,
             "#b8e186"
            ],
            [
             0.8,
             "#7fbc41"
            ],
            [
             0.9,
             "#4d9221"
            ],
            [
             1,
             "#276419"
            ]
           ],
           "sequential": [
            [
             0,
             "#0d0887"
            ],
            [
             0.1111111111111111,
             "#46039f"
            ],
            [
             0.2222222222222222,
             "#7201a8"
            ],
            [
             0.3333333333333333,
             "#9c179e"
            ],
            [
             0.4444444444444444,
             "#bd3786"
            ],
            [
             0.5555555555555556,
             "#d8576b"
            ],
            [
             0.6666666666666666,
             "#ed7953"
            ],
            [
             0.7777777777777778,
             "#fb9f3a"
            ],
            [
             0.8888888888888888,
             "#fdca26"
            ],
            [
             1,
             "#f0f921"
            ]
           ],
           "sequentialminus": [
            [
             0,
             "#0d0887"
            ],
            [
             0.1111111111111111,
             "#46039f"
            ],
            [
             0.2222222222222222,
             "#7201a8"
            ],
            [
             0.3333333333333333,
             "#9c179e"
            ],
            [
             0.4444444444444444,
             "#bd3786"
            ],
            [
             0.5555555555555556,
             "#d8576b"
            ],
            [
             0.6666666666666666,
             "#ed7953"
            ],
            [
             0.7777777777777778,
             "#fb9f3a"
            ],
            [
             0.8888888888888888,
             "#fdca26"
            ],
            [
             1,
             "#f0f921"
            ]
           ]
          },
          "colorway": [
           "#636efa",
           "#EF553B",
           "#00cc96",
           "#ab63fa",
           "#FFA15A",
           "#19d3f3",
           "#FF6692",
           "#B6E880",
           "#FF97FF",
           "#FECB52"
          ],
          "font": {
           "color": "#2a3f5f"
          },
          "geo": {
           "bgcolor": "white",
           "lakecolor": "white",
           "landcolor": "white",
           "showlakes": true,
           "showland": true,
           "subunitcolor": "#C8D4E3"
          },
          "hoverlabel": {
           "align": "left"
          },
          "hovermode": "closest",
          "mapbox": {
           "style": "light"
          },
          "paper_bgcolor": "white",
          "plot_bgcolor": "white",
          "polar": {
           "angularaxis": {
            "gridcolor": "#EBF0F8",
            "linecolor": "#EBF0F8",
            "ticks": ""
           },
           "bgcolor": "white",
           "radialaxis": {
            "gridcolor": "#EBF0F8",
            "linecolor": "#EBF0F8",
            "ticks": ""
           }
          },
          "scene": {
           "xaxis": {
            "backgroundcolor": "white",
            "gridcolor": "#DFE8F3",
            "gridwidth": 2,
            "linecolor": "#EBF0F8",
            "showbackground": true,
            "ticks": "",
            "zerolinecolor": "#EBF0F8"
           },
           "yaxis": {
            "backgroundcolor": "white",
            "gridcolor": "#DFE8F3",
            "gridwidth": 2,
            "linecolor": "#EBF0F8",
            "showbackground": true,
            "ticks": "",
            "zerolinecolor": "#EBF0F8"
           },
           "zaxis": {
            "backgroundcolor": "white",
            "gridcolor": "#DFE8F3",
            "gridwidth": 2,
            "linecolor": "#EBF0F8",
            "showbackground": true,
            "ticks": "",
            "zerolinecolor": "#EBF0F8"
           }
          },
          "shapedefaults": {
           "line": {
            "color": "#2a3f5f"
           }
          },
          "ternary": {
           "aaxis": {
            "gridcolor": "#DFE8F3",
            "linecolor": "#A2B1C6",
            "ticks": ""
           },
           "baxis": {
            "gridcolor": "#DFE8F3",
            "linecolor": "#A2B1C6",
            "ticks": ""
           },
           "bgcolor": "white",
           "caxis": {
            "gridcolor": "#DFE8F3",
            "linecolor": "#A2B1C6",
            "ticks": ""
           }
          },
          "title": {
           "x": 0.05
          },
          "xaxis": {
           "automargin": true,
           "gridcolor": "#EBF0F8",
           "linecolor": "#EBF0F8",
           "ticks": "",
           "title": {
            "standoff": 15
           },
           "zerolinecolor": "#EBF0F8",
           "zerolinewidth": 2
          },
          "yaxis": {
           "automargin": true,
           "gridcolor": "#EBF0F8",
           "linecolor": "#EBF0F8",
           "ticks": "",
           "title": {
            "standoff": 15
           },
           "zerolinecolor": "#EBF0F8",
           "zerolinewidth": 2
          }
         }
        },
        "title": {
         "text": "Bid and Ask Prices Over Time"
        },
        "xaxis": {
         "title": {
          "text": "Timestamp"
         }
        },
        "yaxis": {
         "title": {
          "text": "Price"
         }
        }
       }
      }
     },
     "metadata": {},
     "output_type": "display_data"
    }
   ],
   "source": [
    "fig = go.Figure()\n",
    "fig.add_trace(go.Scatter(x=seconds_bid.index, y=seconds_bid.values, mode='lines', name='Bid Price', line=dict(color='blue')))\n",
    "fig.add_trace(go.Scatter(x=seconds_ask.index, y=seconds_ask.values, mode='lines', name='Ask Price', line=dict(color='red')))\n",
    "fig.update_layout(\n",
    "    title='Bid and Ask Prices Over Time',\n",
    "    xaxis_title='Timestamp',\n",
    "    yaxis_title='Price',\n",
    "    legend_title='Type',\n",
    "    template='plotly_white'\n",
    ")\n",
    "\n",
    "fig.show()"
   ]
  },
  {
   "cell_type": "code",
   "execution_count": 46,
   "metadata": {},
   "outputs": [
    {
     "data": {
      "application/vnd.plotly.v1+json": {
       "config": {
        "plotlyServerURL": "https://plot.ly"
       },
       "data": [
        {
         "line": {
          "color": "blue"
         },
         "mode": "lines",
         "name": "Bid Price",
         "type": "scatter",
         "x": [
          "2024-07-09T17:43:00.000000000",
          "2024-07-09T17:54:00.000000000",
          "2024-07-10T13:28:00.000000000",
          "2024-07-11T16:29:00.000000000",
          "2024-07-12T13:29:00.000000000",
          "2024-07-12T20:30:00.000000000",
          "2024-07-13T17:53:00.000000000",
          "2024-07-14T16:20:00.000000000",
          "2024-07-15T16:38:00.000000000",
          "2024-07-16T01:11:00.000000000",
          "2024-07-16T14:41:00.000000000",
          "2024-07-17T11:52:00.000000000",
          "2024-07-18T16:21:00.000000000",
          "2024-07-19T18:08:00.000000000",
          "2024-07-20T18:41:00.000000000",
          "2024-07-21T16:06:00.000000000",
          "2024-07-22T22:27:00.000000000",
          "2024-07-23T13:09:00.000000000",
          "2024-07-24T12:24:00.000000000",
          "2024-07-25T12:04:00.000000000",
          "2024-07-26T13:38:00.000000000",
          "2024-07-27T01:19:00.000000000",
          "2024-07-29T14:33:00.000000000",
          "2024-07-30T15:02:00.000000000",
          "2024-07-31T13:25:00.000000000",
          "2024-08-01T12:32:00.000000000",
          "2024-08-04T13:31:00.000000000",
          "2024-08-05T14:32:00.000000000",
          "2024-08-06T14:30:00.000000000",
          "2024-08-07T15:37:00.000000000",
          "2024-08-08T13:50:00.000000000",
          "2024-08-08T21:58:00.000000000",
          "2024-08-08T23:22:00.000000000",
          "2024-08-08T23:25:00.000000000",
          "2024-08-08T23:28:00.000000000",
          "2024-08-08T23:31:00.000000000",
          "2024-08-08T23:34:00.000000000",
          "2024-08-08T23:37:00.000000000",
          "2024-08-08T23:40:00.000000000",
          "2024-08-08T23:43:00.000000000",
          "2024-08-08T23:46:00.000000000",
          "2024-08-08T23:49:00.000000000",
          "2024-08-08T23:52:00.000000000",
          "2024-08-08T23:55:00.000000000",
          "2024-08-08T23:58:00.000000000",
          "2024-08-09T00:01:00.000000000",
          "2024-08-09T00:04:00.000000000",
          "2024-08-09T00:07:00.000000000",
          "2024-08-09T00:10:00.000000000",
          "2024-08-09T00:13:00.000000000",
          "2024-08-09T00:16:00.000000000",
          "2024-08-09T00:19:00.000000000",
          "2024-08-09T00:22:00.000000000",
          "2024-08-09T00:24:00.000000000",
          "2024-08-09T01:24:00.000000000",
          "2024-08-09T02:24:00.000000000",
          "2024-08-09T03:24:00.000000000",
          "2024-08-09T04:24:00.000000000",
          "2024-08-09T05:24:00.000000000",
          "2024-08-09T06:24:00.000000000",
          "2024-08-09T07:24:00.000000000",
          "2024-08-09T08:24:00.000000000",
          "2024-08-09T09:24:00.000000000",
          "2024-08-09T10:24:00.000000000",
          "2024-08-09T11:24:00.000000000",
          "2024-08-09T12:24:00.000000000",
          "2024-08-09T13:24:00.000000000",
          "2024-08-09T14:24:00.000000000",
          "2024-08-09T15:24:00.000000000",
          "2024-08-09T16:24:00.000000000",
          "2024-08-09T17:24:00.000000000",
          "2024-08-09T18:24:00.000000000",
          "2024-08-09T19:24:00.000000000",
          "2024-08-09T20:24:00.000000000",
          "2024-08-09T21:24:00.000000000",
          "2024-08-09T22:24:00.000000000",
          "2024-08-09T23:24:00.000000000",
          "2024-08-10T00:24:00.000000000",
          "2024-08-10T01:24:00.000000000",
          "2024-08-10T02:24:00.000000000",
          "2024-08-10T03:24:00.000000000",
          "2024-08-10T04:24:00.000000000",
          "2024-08-10T05:24:00.000000000",
          "2024-08-10T06:24:00.000000000",
          "2024-08-10T07:24:00.000000000",
          "2024-08-10T08:24:00.000000000",
          "2024-08-10T09:24:00.000000000",
          "2024-08-10T10:24:00.000000000",
          "2024-08-10T11:24:00.000000000",
          "2024-08-10T12:24:00.000000000",
          "2024-08-10T13:24:00.000000000",
          "2024-08-10T14:24:00.000000000",
          "2024-08-10T15:24:00.000000000",
          "2024-08-10T16:24:00.000000000",
          "2024-08-10T17:24:00.000000000",
          "2024-08-10T18:24:00.000000000",
          "2024-08-10T19:24:00.000000000",
          "2024-08-10T20:24:00.000000000",
          "2024-08-10T21:24:00.000000000",
          "2024-08-10T22:24:00.000000000",
          "2024-08-10T23:24:00.000000000",
          "2024-08-11T00:24:00.000000000",
          "2024-08-11T01:24:00.000000000",
          "2024-08-11T02:24:00.000000000",
          "2024-08-11T03:24:00.000000000",
          "2024-08-11T04:24:00.000000000",
          "2024-08-11T05:24:00.000000000",
          "2024-08-11T06:24:00.000000000",
          "2024-08-11T07:24:00.000000000",
          "2024-08-11T08:24:00.000000000",
          "2024-08-11T09:24:00.000000000",
          "2024-08-11T10:24:00.000000000",
          "2024-08-11T11:24:00.000000000",
          "2024-08-11T12:24:00.000000000",
          "2024-08-11T13:24:00.000000000",
          "2024-08-11T14:24:00.000000000",
          "2024-08-11T15:24:00.000000000",
          "2024-08-11T16:24:00.000000000",
          "2024-08-11T17:24:00.000000000",
          "2024-08-11T18:24:00.000000000",
          "2024-08-11T19:24:00.000000000",
          "2024-08-11T20:24:00.000000000",
          "2024-08-11T21:24:00.000000000",
          "2024-08-11T22:24:00.000000000",
          "2024-08-11T23:24:00.000000000",
          "2024-08-12T00:24:00.000000000",
          "2024-08-12T01:24:00.000000000",
          "2024-08-12T02:24:00.000000000",
          "2024-08-12T03:24:00.000000000",
          "2024-08-12T04:24:00.000000000",
          "2024-08-12T05:24:00.000000000",
          "2024-08-12T06:24:00.000000000",
          "2024-08-12T07:24:00.000000000",
          "2024-08-12T08:24:00.000000000",
          "2024-08-12T09:24:00.000000000",
          "2024-08-12T10:24:00.000000000",
          "2024-08-12T11:24:00.000000000",
          "2024-08-12T12:24:00.000000000",
          "2024-08-12T13:24:00.000000000",
          "2024-08-12T14:24:00.000000000",
          "2024-08-12T15:24:00.000000000",
          "2024-08-12T16:24:00.000000000",
          "2024-08-12T17:24:00.000000000",
          "2024-08-12T18:24:00.000000000",
          "2024-08-12T19:24:00.000000000",
          "2024-08-12T20:24:00.000000000",
          "2024-08-12T21:24:00.000000000",
          "2024-08-12T22:24:00.000000000",
          "2024-08-12T23:24:00.000000000",
          "2024-08-13T00:24:00.000000000",
          "2024-08-13T01:24:00.000000000",
          "2024-08-13T02:24:00.000000000",
          "2024-08-13T03:24:00.000000000",
          "2024-08-13T04:24:00.000000000",
          "2024-08-13T05:24:00.000000000",
          "2024-08-13T06:24:00.000000000",
          "2024-08-13T07:24:00.000000000",
          "2024-08-13T08:24:00.000000000",
          "2024-08-13T09:24:00.000000000",
          "2024-08-13T10:24:00.000000000",
          "2024-08-13T11:24:00.000000000",
          "2024-08-13T12:24:00.000000000",
          "2024-08-13T13:24:00.000000000",
          "2024-08-13T14:24:00.000000000",
          "2024-08-13T15:24:00.000000000",
          "2024-08-13T16:24:00.000000000",
          "2024-08-13T17:24:00.000000000",
          "2024-08-13T18:24:00.000000000",
          "2024-08-13T19:24:00.000000000",
          "2024-08-13T20:24:00.000000000",
          "2024-08-13T21:24:00.000000000",
          "2024-08-13T22:24:00.000000000",
          "2024-08-13T23:24:00.000000000",
          "2024-08-14T00:24:00.000000000",
          "2024-08-14T01:24:00.000000000",
          "2024-08-14T02:24:00.000000000",
          "2024-08-14T03:24:00.000000000",
          "2024-08-14T04:24:00.000000000",
          "2024-08-14T05:24:00.000000000",
          "2024-08-14T06:24:00.000000000",
          "2024-08-14T07:24:00.000000000",
          "2024-08-14T08:24:00.000000000",
          "2024-08-14T09:24:00.000000000",
          "2024-08-14T10:24:00.000000000",
          "2024-08-14T11:24:00.000000000",
          "2024-08-14T12:24:00.000000000",
          "2024-08-14T13:24:00.000000000",
          "2024-08-14T14:24:00.000000000",
          "2024-08-14T15:24:00.000000000",
          "2024-08-14T16:24:00.000000000",
          "2024-08-14T17:24:00.000000000",
          "2024-08-14T18:24:00.000000000",
          "2024-08-14T19:24:00.000000000",
          "2024-08-14T20:24:00.000000000",
          "2024-08-14T21:24:00.000000000",
          "2024-08-14T22:24:00.000000000",
          "2024-08-14T23:24:00.000000000",
          "2024-08-15T00:24:00.000000000",
          "2024-08-15T01:24:00.000000000",
          "2024-08-15T02:24:00.000000000",
          "2024-08-15T03:24:00.000000000",
          "2024-08-15T04:24:00.000000000",
          "2024-08-15T05:24:00.000000000",
          "2024-08-15T06:24:00.000000000",
          "2024-08-15T07:24:00.000000000",
          "2024-08-15T08:24:00.000000000",
          "2024-08-15T09:24:00.000000000",
          "2024-08-15T10:24:00.000000000",
          "2024-08-15T11:24:00.000000000",
          "2024-08-15T12:24:00.000000000",
          "2024-08-15T13:24:00.000000000",
          "2024-08-15T14:24:00.000000000",
          "2024-08-15T15:24:00.000000000",
          "2024-08-15T16:24:00.000000000",
          "2024-08-15T17:24:00.000000000",
          "2024-08-15T18:24:00.000000000",
          "2024-08-15T19:24:00.000000000",
          "2024-08-15T20:24:00.000000000",
          "2024-08-15T21:24:00.000000000",
          "2024-08-15T22:24:00.000000000",
          "2024-08-15T23:24:00.000000000",
          "2024-08-16T00:24:00.000000000",
          "2024-08-16T01:24:00.000000000",
          "2024-08-16T02:24:00.000000000",
          "2024-08-16T03:24:00.000000000",
          "2024-08-16T04:24:00.000000000",
          "2024-08-16T05:24:00.000000000",
          "2024-08-16T06:24:00.000000000",
          "2024-08-16T07:24:00.000000000",
          "2024-08-16T08:24:00.000000000",
          "2024-08-16T09:24:00.000000000",
          "2024-08-16T10:24:00.000000000",
          "2024-08-16T11:24:00.000000000",
          "2024-08-16T12:24:00.000000000",
          "2024-08-16T13:24:00.000000000",
          "2024-08-16T14:24:00.000000000",
          "2024-08-16T15:24:00.000000000",
          "2024-08-16T16:24:00.000000000",
          "2024-08-16T17:24:00.000000000",
          "2024-08-16T18:24:00.000000000",
          "2024-08-16T19:24:00.000000000",
          "2024-08-16T20:24:00.000000000",
          "2024-08-16T21:24:00.000000000",
          "2024-08-16T22:24:00.000000000",
          "2024-08-16T23:24:00.000000000",
          "2024-08-17T00:24:00.000000000",
          "2024-08-17T01:24:00.000000000",
          "2024-08-17T02:24:00.000000000",
          "2024-08-17T03:24:00.000000000",
          "2024-08-17T04:24:00.000000000",
          "2024-08-17T05:24:00.000000000",
          "2024-08-17T06:24:00.000000000",
          "2024-08-17T07:24:00.000000000",
          "2024-08-17T08:24:00.000000000",
          "2024-08-17T09:24:00.000000000",
          "2024-08-17T10:24:00.000000000",
          "2024-08-17T11:24:00.000000000",
          "2024-08-17T12:24:00.000000000",
          "2024-08-17T13:24:00.000000000",
          "2024-08-17T14:24:00.000000000",
          "2024-08-17T15:24:00.000000000",
          "2024-08-17T16:24:00.000000000",
          "2024-08-17T17:24:00.000000000",
          "2024-08-17T18:24:00.000000000",
          "2024-08-17T19:24:00.000000000",
          "2024-08-17T20:24:00.000000000",
          "2024-08-17T21:24:00.000000000",
          "2024-08-17T22:24:00.000000000",
          "2024-08-17T23:24:00.000000000",
          "2024-08-18T00:24:00.000000000",
          "2024-08-18T01:24:00.000000000",
          "2024-08-18T02:24:00.000000000",
          "2024-08-18T03:24:00.000000000",
          "2024-08-18T04:24:00.000000000",
          "2024-08-18T05:24:00.000000000",
          "2024-08-18T06:24:00.000000000",
          "2024-08-18T07:24:00.000000000",
          "2024-08-18T08:24:00.000000000",
          "2024-08-18T09:24:00.000000000",
          "2024-08-18T10:24:00.000000000",
          "2024-08-18T11:24:00.000000000",
          "2024-08-18T12:24:00.000000000",
          "2024-08-18T13:24:00.000000000",
          "2024-08-18T14:24:00.000000000",
          "2024-08-18T15:24:00.000000000",
          "2024-08-18T16:24:00.000000000",
          "2024-08-18T17:24:00.000000000",
          "2024-08-18T18:24:00.000000000",
          "2024-08-18T19:24:00.000000000",
          "2024-08-18T20:24:00.000000000",
          "2024-08-18T21:24:00.000000000",
          "2024-08-19T13:29:00.000000000",
          "2024-08-19T13:30:00.000000000",
          "2024-08-19T14:29:00.000000000",
          "2024-08-19T15:29:00.000000000",
          "2024-08-19T16:29:00.000000000",
          "2024-08-19T17:29:00.000000000",
          "2024-08-19T18:29:00.000000000",
          "2024-08-19T19:29:00.000000000",
          "2024-08-19T20:29:00.000000000",
          "2024-08-19T21:29:00.000000000",
          "2024-08-19T22:29:00.000000000",
          "2024-08-19T23:29:00.000000000",
          "2024-08-20T00:29:00.000000000",
          "2024-08-20T01:29:00.000000000",
          "2024-08-20T02:29:00.000000000",
          "2024-08-20T03:29:00.000000000",
          "2024-08-20T04:29:00.000000000",
          "2024-08-20T05:29:00.000000000",
          "2024-08-20T06:29:00.000000000",
          "2024-08-20T07:29:00.000000000",
          "2024-08-20T08:29:00.000000000",
          "2024-08-20T09:29:00.000000000",
          "2024-08-20T10:29:00.000000000",
          "2024-08-20T11:29:00.000000000",
          "2024-08-20T12:29:00.000000000",
          "2024-08-20T13:29:00.000000000",
          "2024-08-20T14:29:00.000000000",
          "2024-08-20T15:29:00.000000000",
          "2024-08-20T16:29:00.000000000",
          "2024-08-20T17:29:00.000000000",
          "2024-08-20T18:29:00.000000000",
          "2024-08-20T19:29:00.000000000",
          "2024-08-20T20:29:00.000000000",
          "2024-08-20T21:29:00.000000000",
          "2024-08-20T22:29:00.000000000",
          "2024-08-20T23:29:00.000000000",
          "2024-08-21T00:29:00.000000000",
          "2024-08-21T01:29:00.000000000",
          "2024-08-21T02:29:00.000000000",
          "2024-08-21T03:29:00.000000000",
          "2024-08-21T04:29:00.000000000",
          "2024-08-21T05:29:00.000000000",
          "2024-08-21T06:29:00.000000000",
          "2024-08-21T07:29:00.000000000",
          "2024-08-21T08:29:00.000000000",
          "2024-08-21T09:29:00.000000000",
          "2024-08-21T10:29:00.000000000",
          "2024-08-21T11:29:00.000000000",
          "2024-08-21T12:29:00.000000000",
          "2024-08-21T13:29:00.000000000",
          "2024-08-21T14:29:00.000000000",
          "2024-08-21T15:29:00.000000000",
          "2024-08-21T16:29:00.000000000",
          "2024-08-21T17:29:00.000000000",
          "2024-08-21T18:29:00.000000000",
          "2024-08-21T19:29:00.000000000",
          "2024-08-21T20:29:00.000000000",
          "2024-08-21T21:30:00.000000000",
          "2024-08-21T22:29:00.000000000",
          "2024-08-21T23:29:00.000000000",
          "2024-08-22T00:30:00.000000000",
          "2024-08-22T01:29:00.000000000",
          "2024-08-22T02:29:00.000000000",
          "2024-08-22T03:29:00.000000000",
          "2024-08-22T04:29:00.000000000",
          "2024-08-22T05:29:00.000000000",
          "2024-08-22T06:30:00.000000000",
          "2024-08-22T07:29:00.000000000",
          "2024-08-22T08:29:00.000000000",
          "2024-08-22T09:29:00.000000000",
          "2024-08-22T10:29:00.000000000",
          "2024-08-22T11:29:00.000000000",
          "2024-08-22T12:29:00.000000000",
          "2024-08-22T13:29:00.000000000",
          "2024-08-22T14:29:00.000000000",
          "2024-08-22T15:29:00.000000000",
          "2024-08-22T16:29:00.000000000",
          "2024-08-22T17:29:00.000000000",
          "2024-08-22T18:29:00.000000000",
          "2024-08-22T19:29:00.000000000",
          "2024-08-22T20:29:00.000000000",
          "2024-08-22T21:29:00.000000000",
          "2024-08-22T22:29:00.000000000",
          "2024-08-22T23:29:00.000000000",
          "2024-08-23T00:29:00.000000000",
          "2024-08-23T01:21:00.000000000",
          "2024-08-23T01:24:00.000000000",
          "2024-08-23T01:30:00.000000000",
          "2024-08-23T02:30:00.000000000",
          "2024-08-23T03:30:00.000000000",
          "2024-08-23T04:30:00.000000000",
          "2024-08-23T05:30:00.000000000",
          "2024-08-23T06:30:00.000000000",
          "2024-08-23T07:30:00.000000000",
          "2024-08-23T08:30:00.000000000",
          "2024-08-23T09:30:00.000000000",
          "2024-08-23T10:30:00.000000000",
          "2024-08-23T11:30:00.000000000",
          "2024-08-23T12:30:00.000000000",
          "2024-08-23T13:30:00.000000000",
          "2024-08-23T14:30:00.000000000",
          "2024-08-23T15:30:00.000000000",
          "2024-08-23T16:18:00.000000000",
          "2024-08-23T16:19:00.000000000",
          "2024-08-23T16:21:00.000000000",
          "2024-08-23T16:30:00.000000000",
          "2024-08-23T17:30:00.000000000",
          "2024-08-23T18:30:00.000000000",
          "2024-08-23T19:30:00.000000000",
          "2024-08-23T20:30:00.000000000",
          "2024-08-23T21:30:00.000000000",
          "2024-08-23T22:30:00.000000000",
          "2024-08-23T23:30:00.000000000",
          "2024-08-24T00:30:00.000000000",
          "2024-08-24T01:30:00.000000000",
          "2024-08-24T02:30:00.000000000",
          "2024-08-24T03:30:00.000000000",
          "2024-08-24T04:30:00.000000000",
          "2024-08-24T05:30:00.000000000",
          "2024-08-24T06:30:00.000000000",
          "2024-08-24T07:30:00.000000000",
          "2024-08-24T08:30:00.000000000",
          "2024-08-24T09:30:00.000000000",
          "2024-08-24T10:30:00.000000000",
          "2024-08-24T11:30:00.000000000",
          "2024-08-24T12:30:00.000000000",
          "2024-08-24T13:30:00.000000000",
          "2024-08-24T14:30:00.000000000",
          "2024-08-24T15:30:00.000000000",
          "2024-08-24T16:30:00.000000000",
          "2024-08-24T17:30:00.000000000",
          "2024-08-24T18:30:00.000000000",
          "2024-08-24T19:30:00.000000000",
          "2024-08-24T20:30:00.000000000",
          "2024-08-24T21:30:00.000000000",
          "2024-08-24T22:30:00.000000000",
          "2024-08-24T23:30:00.000000000",
          "2024-08-25T00:30:00.000000000",
          "2024-08-25T01:30:00.000000000",
          "2024-08-25T02:30:00.000000000",
          "2024-08-25T03:30:00.000000000",
          "2024-08-25T04:30:00.000000000",
          "2024-08-25T05:30:00.000000000",
          "2024-08-25T06:30:00.000000000",
          "2024-08-25T07:30:00.000000000",
          "2024-08-25T08:30:00.000000000",
          "2024-08-25T09:30:00.000000000",
          "2024-08-25T10:30:00.000000000",
          "2024-08-25T11:30:00.000000000",
          "2024-08-25T12:30:00.000000000",
          "2024-08-25T13:30:00.000000000",
          "2024-08-25T14:30:00.000000000",
          "2024-08-25T15:30:00.000000000",
          "2024-08-25T16:30:00.000000000",
          "2024-08-25T17:30:00.000000000",
          "2024-08-25T18:30:00.000000000",
          "2024-08-25T19:30:00.000000000",
          "2024-08-25T20:30:00.000000000",
          "2024-08-25T21:30:00.000000000",
          "2024-08-25T22:30:00.000000000",
          "2024-08-25T23:30:00.000000000",
          "2024-08-26T00:30:00.000000000",
          "2024-08-26T01:30:00.000000000",
          "2024-08-26T02:30:00.000000000",
          "2024-08-26T03:30:00.000000000",
          "2024-08-26T04:30:00.000000000",
          "2024-08-26T05:30:00.000000000",
          "2024-08-26T06:30:00.000000000",
          "2024-08-26T07:30:00.000000000",
          "2024-08-26T08:30:00.000000000",
          "2024-08-26T09:30:00.000000000",
          "2024-08-26T10:30:00.000000000",
          "2024-08-26T11:30:00.000000000",
          "2024-08-26T12:30:00.000000000",
          "2024-08-26T13:30:00.000000000",
          "2024-08-26T14:30:00.000000000",
          "2024-08-26T15:30:00.000000000",
          "2024-08-26T16:30:00.000000000",
          "2024-08-26T17:30:00.000000000",
          "2024-08-26T18:30:00.000000000",
          "2024-08-26T19:30:00.000000000",
          "2024-08-26T20:30:00.000000000",
          "2024-08-26T21:30:00.000000000",
          "2024-08-26T22:30:00.000000000",
          "2024-08-26T23:30:00.000000000",
          "2024-08-27T00:30:00.000000000",
          "2024-08-27T01:30:00.000000000",
          "2024-08-27T02:30:00.000000000",
          "2024-08-27T03:30:00.000000000",
          "2024-08-27T04:30:00.000000000",
          "2024-08-27T05:30:00.000000000",
          "2024-08-27T06:30:00.000000000",
          "2024-08-27T07:30:00.000000000",
          "2024-08-27T08:30:00.000000000",
          "2024-08-27T09:30:00.000000000",
          "2024-08-27T10:30:00.000000000",
          "2024-08-27T11:30:00.000000000",
          "2024-08-27T12:30:00.000000000",
          "2024-08-27T13:30:00.000000000",
          "2024-08-27T14:30:00.000000000",
          "2024-08-27T15:30:00.000000000",
          "2024-08-27T16:30:00.000000000",
          "2024-08-27T17:30:00.000000000",
          "2024-08-27T18:30:00.000000000",
          "2024-08-27T19:30:00.000000000",
          "2024-08-27T20:30:00.000000000",
          "2024-08-27T21:30:00.000000000",
          "2024-08-27T22:30:00.000000000",
          "2024-08-27T23:30:00.000000000",
          "2024-08-28T00:30:00.000000000",
          "2024-08-28T01:30:00.000000000",
          "2024-08-28T02:30:00.000000000",
          "2024-08-28T03:30:00.000000000",
          "2024-08-28T04:30:00.000000000",
          "2024-08-28T05:30:00.000000000",
          "2024-08-28T06:30:00.000000000",
          "2024-08-28T07:30:00.000000000",
          "2024-08-28T08:30:00.000000000",
          "2024-08-28T09:30:00.000000000",
          "2024-08-28T10:30:00.000000000",
          "2024-08-28T11:30:00.000000000",
          "2024-08-28T12:30:00.000000000",
          "2024-08-28T13:30:00.000000000",
          "2024-08-28T14:30:00.000000000",
          "2024-08-28T15:30:00.000000000",
          "2024-08-28T16:30:00.000000000",
          "2024-08-28T17:30:00.000000000",
          "2024-08-28T18:30:00.000000000",
          "2024-08-28T19:30:00.000000000",
          "2024-08-28T20:30:00.000000000",
          "2024-08-28T21:30:00.000000000",
          "2024-08-28T22:30:00.000000000",
          "2024-08-28T23:30:00.000000000",
          "2024-08-29T00:30:00.000000000",
          "2024-08-29T01:30:00.000000000",
          "2024-08-29T02:30:00.000000000",
          "2024-08-29T03:30:00.000000000",
          "2024-08-29T04:30:00.000000000",
          "2024-08-29T05:30:00.000000000",
          "2024-08-29T06:30:00.000000000",
          "2024-08-29T07:30:00.000000000",
          "2024-08-29T08:30:00.000000000",
          "2024-08-29T09:30:00.000000000",
          "2024-08-29T10:30:00.000000000",
          "2024-08-29T11:30:00.000000000",
          "2024-08-29T12:30:00.000000000",
          "2024-08-29T13:30:00.000000000",
          "2024-08-29T14:30:00.000000000",
          "2024-08-29T15:30:00.000000000",
          "2024-08-29T16:30:00.000000000",
          "2024-08-29T17:30:00.000000000",
          "2024-08-29T18:30:00.000000000",
          "2024-08-29T19:30:00.000000000",
          "2024-08-29T20:30:00.000000000",
          "2024-08-29T21:30:00.000000000",
          "2024-08-29T22:30:00.000000000",
          "2024-08-29T23:30:00.000000000",
          "2024-08-30T00:30:00.000000000",
          "2024-08-30T01:30:00.000000000",
          "2024-08-30T02:30:00.000000000",
          "2024-08-30T03:30:00.000000000",
          "2024-08-30T04:30:00.000000000",
          "2024-08-30T05:30:00.000000000",
          "2024-08-30T06:30:00.000000000",
          "2024-08-30T07:30:00.000000000",
          "2024-08-30T08:30:00.000000000",
          "2024-08-30T09:30:00.000000000",
          "2024-08-30T10:30:00.000000000",
          "2024-08-30T11:30:00.000000000",
          "2024-08-30T12:30:00.000000000",
          "2024-08-30T13:30:00.000000000",
          "2024-08-30T14:30:00.000000000",
          "2024-08-30T15:30:00.000000000",
          "2024-08-30T16:30:00.000000000",
          "2024-08-30T17:30:00.000000000",
          "2024-08-30T18:30:00.000000000",
          "2024-08-30T19:30:00.000000000",
          "2024-08-30T20:30:00.000000000",
          "2024-08-30T21:30:00.000000000",
          "2024-08-30T22:30:00.000000000",
          "2024-08-30T23:30:00.000000000",
          "2024-08-31T00:30:00.000000000",
          "2024-08-31T01:30:00.000000000",
          "2024-08-31T02:30:00.000000000",
          "2024-08-31T03:30:00.000000000",
          "2024-08-31T04:30:00.000000000",
          "2024-08-31T05:30:00.000000000",
          "2024-08-31T06:30:00.000000000",
          "2024-08-31T07:30:00.000000000",
          "2024-08-31T08:30:00.000000000",
          "2024-08-31T09:30:00.000000000",
          "2024-08-31T10:30:00.000000000",
          "2024-08-31T11:30:00.000000000",
          "2024-08-31T12:30:00.000000000",
          "2024-08-31T13:30:00.000000000",
          "2024-08-31T14:30:00.000000000",
          "2024-08-31T15:30:00.000000000",
          "2024-08-31T16:30:00.000000000",
          "2024-08-31T17:30:00.000000000",
          "2024-08-31T18:30:00.000000000",
          "2024-08-31T19:30:00.000000000",
          "2024-08-31T20:30:00.000000000",
          "2024-08-31T21:30:00.000000000",
          "2024-08-31T22:30:00.000000000",
          "2024-08-31T23:30:00.000000000",
          "2024-09-01T00:30:00.000000000",
          "2024-09-01T01:30:00.000000000",
          "2024-09-01T02:30:00.000000000",
          "2024-09-01T03:30:00.000000000",
          "2024-09-01T04:30:00.000000000",
          "2024-09-01T05:30:00.000000000",
          "2024-09-01T06:30:00.000000000",
          "2024-09-01T07:30:00.000000000",
          "2024-09-01T08:30:00.000000000",
          "2024-09-01T09:30:00.000000000",
          "2024-09-01T10:30:00.000000000",
          "2024-09-01T11:30:00.000000000",
          "2024-09-01T12:30:00.000000000",
          "2024-09-01T13:30:00.000000000",
          "2024-09-01T14:30:00.000000000",
          "2024-09-01T15:30:00.000000000",
          "2024-09-01T16:30:00.000000000",
          "2024-09-01T17:30:00.000000000",
          "2024-09-01T18:30:00.000000000",
          "2024-09-01T19:30:00.000000000",
          "2024-09-01T20:30:00.000000000",
          "2024-09-01T21:30:00.000000000",
          "2024-09-01T22:30:00.000000000",
          "2024-09-01T23:30:00.000000000",
          "2024-09-02T00:30:00.000000000",
          "2024-09-02T01:30:00.000000000",
          "2024-09-02T02:30:00.000000000",
          "2024-09-02T03:30:00.000000000",
          "2024-09-02T04:30:00.000000000",
          "2024-09-02T05:30:00.000000000",
          "2024-09-02T06:30:00.000000000",
          "2024-09-02T07:30:00.000000000",
          "2024-09-02T08:30:00.000000000",
          "2024-09-02T09:30:00.000000000",
          "2024-09-02T10:30:00.000000000",
          "2024-09-02T11:30:00.000000000",
          "2024-09-02T12:30:00.000000000",
          "2024-09-02T13:30:00.000000000"
         ],
         "y": {
          "bdata": "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",
          "dtype": "f8"
         }
        },
        {
         "line": {
          "color": "red"
         },
         "mode": "lines",
         "name": "Ask Price",
         "type": "scatter",
         "x": [
          "2024-07-09T17:43:00.000000000",
          "2024-07-09T17:54:00.000000000",
          "2024-07-10T13:28:00.000000000",
          "2024-07-11T16:29:00.000000000",
          "2024-07-12T13:29:00.000000000",
          "2024-07-12T20:30:00.000000000",
          "2024-07-13T17:53:00.000000000",
          "2024-07-14T16:20:00.000000000",
          "2024-07-15T16:38:00.000000000",
          "2024-07-16T01:11:00.000000000",
          "2024-07-16T14:41:00.000000000",
          "2024-07-17T11:52:00.000000000",
          "2024-07-18T16:21:00.000000000",
          "2024-07-19T18:08:00.000000000",
          "2024-07-20T18:41:00.000000000",
          "2024-07-21T16:06:00.000000000",
          "2024-07-22T22:27:00.000000000",
          "2024-07-23T13:09:00.000000000",
          "2024-07-24T12:24:00.000000000",
          "2024-07-25T12:04:00.000000000",
          "2024-07-26T13:38:00.000000000",
          "2024-07-27T01:19:00.000000000",
          "2024-07-29T14:33:00.000000000",
          "2024-07-30T15:02:00.000000000",
          "2024-07-31T13:25:00.000000000",
          "2024-08-01T12:32:00.000000000",
          "2024-08-04T13:31:00.000000000",
          "2024-08-05T14:32:00.000000000",
          "2024-08-06T14:30:00.000000000",
          "2024-08-07T15:37:00.000000000",
          "2024-08-08T13:50:00.000000000",
          "2024-08-08T21:58:00.000000000",
          "2024-08-08T23:22:00.000000000",
          "2024-08-08T23:25:00.000000000",
          "2024-08-08T23:28:00.000000000",
          "2024-08-08T23:31:00.000000000",
          "2024-08-08T23:34:00.000000000",
          "2024-08-08T23:37:00.000000000",
          "2024-08-08T23:40:00.000000000",
          "2024-08-08T23:43:00.000000000",
          "2024-08-08T23:46:00.000000000",
          "2024-08-08T23:49:00.000000000",
          "2024-08-08T23:52:00.000000000",
          "2024-08-08T23:55:00.000000000",
          "2024-08-08T23:58:00.000000000",
          "2024-08-09T00:01:00.000000000",
          "2024-08-09T00:04:00.000000000",
          "2024-08-09T00:07:00.000000000",
          "2024-08-09T00:10:00.000000000",
          "2024-08-09T00:13:00.000000000",
          "2024-08-09T00:16:00.000000000",
          "2024-08-09T00:19:00.000000000",
          "2024-08-09T00:22:00.000000000",
          "2024-08-09T00:24:00.000000000",
          "2024-08-09T01:24:00.000000000",
          "2024-08-09T02:24:00.000000000",
          "2024-08-09T03:24:00.000000000",
          "2024-08-09T04:24:00.000000000",
          "2024-08-09T05:24:00.000000000",
          "2024-08-09T06:24:00.000000000",
          "2024-08-09T07:24:00.000000000",
          "2024-08-09T08:24:00.000000000",
          "2024-08-09T09:24:00.000000000",
          "2024-08-09T10:24:00.000000000",
          "2024-08-09T11:24:00.000000000",
          "2024-08-09T12:24:00.000000000",
          "2024-08-09T13:24:00.000000000",
          "2024-08-09T14:24:00.000000000",
          "2024-08-09T15:24:00.000000000",
          "2024-08-09T16:24:00.000000000",
          "2024-08-09T17:24:00.000000000",
          "2024-08-09T18:24:00.000000000",
          "2024-08-09T19:24:00.000000000",
          "2024-08-09T20:24:00.000000000",
          "2024-08-09T21:24:00.000000000",
          "2024-08-09T22:24:00.000000000",
          "2024-08-09T23:24:00.000000000",
          "2024-08-10T00:24:00.000000000",
          "2024-08-10T01:24:00.000000000",
          "2024-08-10T02:24:00.000000000",
          "2024-08-10T03:24:00.000000000",
          "2024-08-10T04:24:00.000000000",
          "2024-08-10T05:24:00.000000000",
          "2024-08-10T06:24:00.000000000",
          "2024-08-10T07:24:00.000000000",
          "2024-08-10T08:24:00.000000000",
          "2024-08-10T09:24:00.000000000",
          "2024-08-10T10:24:00.000000000",
          "2024-08-10T11:24:00.000000000",
          "2024-08-10T12:24:00.000000000",
          "2024-08-10T13:24:00.000000000",
          "2024-08-10T14:24:00.000000000",
          "2024-08-10T15:24:00.000000000",
          "2024-08-10T16:24:00.000000000",
          "2024-08-10T17:24:00.000000000",
          "2024-08-10T18:24:00.000000000",
          "2024-08-10T19:24:00.000000000",
          "2024-08-10T20:24:00.000000000",
          "2024-08-10T21:24:00.000000000",
          "2024-08-10T22:24:00.000000000",
          "2024-08-10T23:24:00.000000000",
          "2024-08-11T00:24:00.000000000",
          "2024-08-11T01:24:00.000000000",
          "2024-08-11T02:24:00.000000000",
          "2024-08-11T03:24:00.000000000",
          "2024-08-11T04:24:00.000000000",
          "2024-08-11T05:24:00.000000000",
          "2024-08-11T06:24:00.000000000",
          "2024-08-11T07:24:00.000000000",
          "2024-08-11T08:24:00.000000000",
          "2024-08-11T09:24:00.000000000",
          "2024-08-11T10:24:00.000000000",
          "2024-08-11T11:24:00.000000000",
          "2024-08-11T12:24:00.000000000",
          "2024-08-11T13:24:00.000000000",
          "2024-08-11T14:24:00.000000000",
          "2024-08-11T15:24:00.000000000",
          "2024-08-11T16:24:00.000000000",
          "2024-08-11T17:24:00.000000000",
          "2024-08-11T18:24:00.000000000",
          "2024-08-11T19:24:00.000000000",
          "2024-08-11T20:24:00.000000000",
          "2024-08-11T21:24:00.000000000",
          "2024-08-11T22:24:00.000000000",
          "2024-08-11T23:24:00.000000000",
          "2024-08-12T00:24:00.000000000",
          "2024-08-12T01:24:00.000000000",
          "2024-08-12T02:24:00.000000000",
          "2024-08-12T03:24:00.000000000",
          "2024-08-12T04:24:00.000000000",
          "2024-08-12T05:24:00.000000000",
          "2024-08-12T06:24:00.000000000",
          "2024-08-12T07:24:00.000000000",
          "2024-08-12T08:24:00.000000000",
          "2024-08-12T09:24:00.000000000",
          "2024-08-12T10:24:00.000000000",
          "2024-08-12T11:24:00.000000000",
          "2024-08-12T12:24:00.000000000",
          "2024-08-12T13:24:00.000000000",
          "2024-08-12T14:24:00.000000000",
          "2024-08-12T15:24:00.000000000",
          "2024-08-12T16:24:00.000000000",
          "2024-08-12T17:24:00.000000000",
          "2024-08-12T18:24:00.000000000",
          "2024-08-12T19:24:00.000000000",
          "2024-08-12T20:24:00.000000000",
          "2024-08-12T21:24:00.000000000",
          "2024-08-12T22:24:00.000000000",
          "2024-08-12T23:24:00.000000000",
          "2024-08-13T00:24:00.000000000",
          "2024-08-13T01:24:00.000000000",
          "2024-08-13T02:24:00.000000000",
          "2024-08-13T03:24:00.000000000",
          "2024-08-13T04:24:00.000000000",
          "2024-08-13T05:24:00.000000000",
          "2024-08-13T06:24:00.000000000",
          "2024-08-13T07:24:00.000000000",
          "2024-08-13T08:24:00.000000000",
          "2024-08-13T09:24:00.000000000",
          "2024-08-13T10:24:00.000000000",
          "2024-08-13T11:24:00.000000000",
          "2024-08-13T12:24:00.000000000",
          "2024-08-13T13:24:00.000000000",
          "2024-08-13T14:24:00.000000000",
          "2024-08-13T15:24:00.000000000",
          "2024-08-13T16:24:00.000000000",
          "2024-08-13T17:24:00.000000000",
          "2024-08-13T18:24:00.000000000",
          "2024-08-13T19:24:00.000000000",
          "2024-08-13T20:24:00.000000000",
          "2024-08-13T21:24:00.000000000",
          "2024-08-13T22:24:00.000000000",
          "2024-08-13T23:24:00.000000000",
          "2024-08-14T00:24:00.000000000",
          "2024-08-14T01:24:00.000000000",
          "2024-08-14T02:24:00.000000000",
          "2024-08-14T03:24:00.000000000",
          "2024-08-14T04:24:00.000000000",
          "2024-08-14T05:24:00.000000000",
          "2024-08-14T06:24:00.000000000",
          "2024-08-14T07:24:00.000000000",
          "2024-08-14T08:24:00.000000000",
          "2024-08-14T09:24:00.000000000",
          "2024-08-14T10:24:00.000000000",
          "2024-08-14T11:24:00.000000000",
          "2024-08-14T12:24:00.000000000",
          "2024-08-14T13:24:00.000000000",
          "2024-08-14T14:24:00.000000000",
          "2024-08-14T15:24:00.000000000",
          "2024-08-14T16:24:00.000000000",
          "2024-08-14T17:24:00.000000000",
          "2024-08-14T18:24:00.000000000",
          "2024-08-14T19:24:00.000000000",
          "2024-08-14T20:24:00.000000000",
          "2024-08-14T21:24:00.000000000",
          "2024-08-14T22:24:00.000000000",
          "2024-08-14T23:24:00.000000000",
          "2024-08-15T00:24:00.000000000",
          "2024-08-15T01:24:00.000000000",
          "2024-08-15T02:24:00.000000000",
          "2024-08-15T03:24:00.000000000",
          "2024-08-15T04:24:00.000000000",
          "2024-08-15T05:24:00.000000000",
          "2024-08-15T06:24:00.000000000",
          "2024-08-15T07:24:00.000000000",
          "2024-08-15T08:24:00.000000000",
          "2024-08-15T09:24:00.000000000",
          "2024-08-15T10:24:00.000000000",
          "2024-08-15T11:24:00.000000000",
          "2024-08-15T12:24:00.000000000",
          "2024-08-15T13:24:00.000000000",
          "2024-08-15T14:24:00.000000000",
          "2024-08-15T15:24:00.000000000",
          "2024-08-15T16:24:00.000000000",
          "2024-08-15T17:24:00.000000000",
          "2024-08-15T18:24:00.000000000",
          "2024-08-15T19:24:00.000000000",
          "2024-08-15T20:24:00.000000000",
          "2024-08-15T21:24:00.000000000",
          "2024-08-15T22:24:00.000000000",
          "2024-08-15T23:24:00.000000000",
          "2024-08-16T00:24:00.000000000",
          "2024-08-16T01:24:00.000000000",
          "2024-08-16T02:24:00.000000000",
          "2024-08-16T03:24:00.000000000",
          "2024-08-16T04:24:00.000000000",
          "2024-08-16T05:24:00.000000000",
          "2024-08-16T06:24:00.000000000",
          "2024-08-16T07:24:00.000000000",
          "2024-08-16T08:24:00.000000000",
          "2024-08-16T09:24:00.000000000",
          "2024-08-16T10:24:00.000000000",
          "2024-08-16T11:24:00.000000000",
          "2024-08-16T12:24:00.000000000",
          "2024-08-16T13:24:00.000000000",
          "2024-08-16T14:24:00.000000000",
          "2024-08-16T15:24:00.000000000",
          "2024-08-16T16:24:00.000000000",
          "2024-08-16T17:24:00.000000000",
          "2024-08-16T18:24:00.000000000",
          "2024-08-16T19:24:00.000000000",
          "2024-08-16T20:24:00.000000000",
          "2024-08-16T21:24:00.000000000",
          "2024-08-16T22:24:00.000000000",
          "2024-08-16T23:24:00.000000000",
          "2024-08-17T00:24:00.000000000",
          "2024-08-17T01:24:00.000000000",
          "2024-08-17T02:24:00.000000000",
          "2024-08-17T03:24:00.000000000",
          "2024-08-17T04:24:00.000000000",
          "2024-08-17T05:24:00.000000000",
          "2024-08-17T06:24:00.000000000",
          "2024-08-17T07:24:00.000000000",
          "2024-08-17T08:24:00.000000000",
          "2024-08-17T09:24:00.000000000",
          "2024-08-17T10:24:00.000000000",
          "2024-08-17T11:24:00.000000000",
          "2024-08-17T12:24:00.000000000",
          "2024-08-17T13:24:00.000000000",
          "2024-08-17T14:24:00.000000000",
          "2024-08-17T15:24:00.000000000",
          "2024-08-17T16:24:00.000000000",
          "2024-08-17T17:24:00.000000000",
          "2024-08-17T18:24:00.000000000",
          "2024-08-17T19:24:00.000000000",
          "2024-08-17T20:24:00.000000000",
          "2024-08-17T21:24:00.000000000",
          "2024-08-17T22:24:00.000000000",
          "2024-08-17T23:24:00.000000000",
          "2024-08-18T00:24:00.000000000",
          "2024-08-18T01:24:00.000000000",
          "2024-08-18T02:24:00.000000000",
          "2024-08-18T03:24:00.000000000",
          "2024-08-18T04:24:00.000000000",
          "2024-08-18T05:24:00.000000000",
          "2024-08-18T06:24:00.000000000",
          "2024-08-18T07:24:00.000000000",
          "2024-08-18T08:24:00.000000000",
          "2024-08-18T09:24:00.000000000",
          "2024-08-18T10:24:00.000000000",
          "2024-08-18T11:24:00.000000000",
          "2024-08-18T12:24:00.000000000",
          "2024-08-18T13:24:00.000000000",
          "2024-08-18T14:24:00.000000000",
          "2024-08-18T15:24:00.000000000",
          "2024-08-18T16:24:00.000000000",
          "2024-08-18T17:24:00.000000000",
          "2024-08-18T18:24:00.000000000",
          "2024-08-18T19:24:00.000000000",
          "2024-08-18T20:24:00.000000000",
          "2024-08-18T21:24:00.000000000",
          "2024-08-19T13:29:00.000000000",
          "2024-08-19T13:30:00.000000000",
          "2024-08-19T14:29:00.000000000",
          "2024-08-19T15:29:00.000000000",
          "2024-08-19T16:29:00.000000000",
          "2024-08-19T17:29:00.000000000",
          "2024-08-19T18:29:00.000000000",
          "2024-08-19T19:29:00.000000000",
          "2024-08-19T20:29:00.000000000",
          "2024-08-19T21:29:00.000000000",
          "2024-08-19T22:29:00.000000000",
          "2024-08-19T23:29:00.000000000",
          "2024-08-20T00:29:00.000000000",
          "2024-08-20T01:29:00.000000000",
          "2024-08-20T02:29:00.000000000",
          "2024-08-20T03:29:00.000000000",
          "2024-08-20T04:29:00.000000000",
          "2024-08-20T05:29:00.000000000",
          "2024-08-20T06:29:00.000000000",
          "2024-08-20T07:29:00.000000000",
          "2024-08-20T08:29:00.000000000",
          "2024-08-20T09:29:00.000000000",
          "2024-08-20T10:29:00.000000000",
          "2024-08-20T11:29:00.000000000",
          "2024-08-20T12:29:00.000000000",
          "2024-08-20T13:29:00.000000000",
          "2024-08-20T14:29:00.000000000",
          "2024-08-20T15:29:00.000000000",
          "2024-08-20T16:29:00.000000000",
          "2024-08-20T17:29:00.000000000",
          "2024-08-20T18:29:00.000000000",
          "2024-08-20T19:29:00.000000000",
          "2024-08-20T20:29:00.000000000",
          "2024-08-20T21:29:00.000000000",
          "2024-08-20T22:29:00.000000000",
          "2024-08-20T23:29:00.000000000",
          "2024-08-21T00:29:00.000000000",
          "2024-08-21T01:29:00.000000000",
          "2024-08-21T02:29:00.000000000",
          "2024-08-21T03:29:00.000000000",
          "2024-08-21T04:29:00.000000000",
          "2024-08-21T05:29:00.000000000",
          "2024-08-21T06:29:00.000000000",
          "2024-08-21T07:29:00.000000000",
          "2024-08-21T08:29:00.000000000",
          "2024-08-21T09:29:00.000000000",
          "2024-08-21T10:29:00.000000000",
          "2024-08-21T11:29:00.000000000",
          "2024-08-21T12:29:00.000000000",
          "2024-08-21T13:29:00.000000000",
          "2024-08-21T14:29:00.000000000",
          "2024-08-21T15:29:00.000000000",
          "2024-08-21T16:29:00.000000000",
          "2024-08-21T17:29:00.000000000",
          "2024-08-21T18:29:00.000000000",
          "2024-08-21T19:29:00.000000000",
          "2024-08-21T20:29:00.000000000",
          "2024-08-21T21:30:00.000000000",
          "2024-08-21T22:29:00.000000000",
          "2024-08-21T23:29:00.000000000",
          "2024-08-22T00:30:00.000000000",
          "2024-08-22T01:29:00.000000000",
          "2024-08-22T02:29:00.000000000",
          "2024-08-22T03:29:00.000000000",
          "2024-08-22T04:29:00.000000000",
          "2024-08-22T05:29:00.000000000",
          "2024-08-22T06:30:00.000000000",
          "2024-08-22T07:29:00.000000000",
          "2024-08-22T08:29:00.000000000",
          "2024-08-22T09:29:00.000000000",
          "2024-08-22T10:29:00.000000000",
          "2024-08-22T11:29:00.000000000",
          "2024-08-22T12:29:00.000000000",
          "2024-08-22T13:29:00.000000000",
          "2024-08-22T14:29:00.000000000",
          "2024-08-22T15:29:00.000000000",
          "2024-08-22T16:29:00.000000000",
          "2024-08-22T17:29:00.000000000",
          "2024-08-22T18:29:00.000000000",
          "2024-08-22T19:29:00.000000000",
          "2024-08-22T20:29:00.000000000",
          "2024-08-22T21:29:00.000000000",
          "2024-08-22T22:29:00.000000000",
          "2024-08-22T23:29:00.000000000",
          "2024-08-23T00:29:00.000000000",
          "2024-08-23T01:21:00.000000000",
          "2024-08-23T01:24:00.000000000",
          "2024-08-23T01:30:00.000000000",
          "2024-08-23T02:30:00.000000000",
          "2024-08-23T03:30:00.000000000",
          "2024-08-23T04:30:00.000000000",
          "2024-08-23T05:30:00.000000000",
          "2024-08-23T06:30:00.000000000",
          "2024-08-23T07:30:00.000000000",
          "2024-08-23T08:30:00.000000000",
          "2024-08-23T09:30:00.000000000",
          "2024-08-23T10:30:00.000000000",
          "2024-08-23T11:30:00.000000000",
          "2024-08-23T12:30:00.000000000",
          "2024-08-23T13:30:00.000000000",
          "2024-08-23T14:30:00.000000000",
          "2024-08-23T15:30:00.000000000",
          "2024-08-23T16:18:00.000000000",
          "2024-08-23T16:19:00.000000000",
          "2024-08-23T16:21:00.000000000",
          "2024-08-23T16:30:00.000000000",
          "2024-08-23T17:30:00.000000000",
          "2024-08-23T18:30:00.000000000",
          "2024-08-23T19:30:00.000000000",
          "2024-08-23T20:30:00.000000000",
          "2024-08-23T21:30:00.000000000",
          "2024-08-23T22:30:00.000000000",
          "2024-08-23T23:30:00.000000000",
          "2024-08-24T00:30:00.000000000",
          "2024-08-24T01:30:00.000000000",
          "2024-08-24T02:30:00.000000000",
          "2024-08-24T03:30:00.000000000",
          "2024-08-24T04:30:00.000000000",
          "2024-08-24T05:30:00.000000000",
          "2024-08-24T06:30:00.000000000",
          "2024-08-24T07:30:00.000000000",
          "2024-08-24T08:30:00.000000000",
          "2024-08-24T09:30:00.000000000",
          "2024-08-24T10:30:00.000000000",
          "2024-08-24T11:30:00.000000000",
          "2024-08-24T12:30:00.000000000",
          "2024-08-24T13:30:00.000000000",
          "2024-08-24T14:30:00.000000000",
          "2024-08-24T15:30:00.000000000",
          "2024-08-24T16:30:00.000000000",
          "2024-08-24T17:30:00.000000000",
          "2024-08-24T18:30:00.000000000",
          "2024-08-24T19:30:00.000000000",
          "2024-08-24T20:30:00.000000000",
          "2024-08-24T21:30:00.000000000",
          "2024-08-24T22:30:00.000000000",
          "2024-08-24T23:30:00.000000000",
          "2024-08-25T00:30:00.000000000",
          "2024-08-25T01:30:00.000000000",
          "2024-08-25T02:30:00.000000000",
          "2024-08-25T03:30:00.000000000",
          "2024-08-25T04:30:00.000000000",
          "2024-08-25T05:30:00.000000000",
          "2024-08-25T06:30:00.000000000",
          "2024-08-25T07:30:00.000000000",
          "2024-08-25T08:30:00.000000000",
          "2024-08-25T09:30:00.000000000",
          "2024-08-25T10:30:00.000000000",
          "2024-08-25T11:30:00.000000000",
          "2024-08-25T12:30:00.000000000",
          "2024-08-25T13:30:00.000000000",
          "2024-08-25T14:30:00.000000000",
          "2024-08-25T15:30:00.000000000",
          "2024-08-25T16:30:00.000000000",
          "2024-08-25T17:30:00.000000000",
          "2024-08-25T18:30:00.000000000",
          "2024-08-25T19:30:00.000000000",
          "2024-08-25T20:30:00.000000000",
          "2024-08-25T21:30:00.000000000",
          "2024-08-25T22:30:00.000000000",
          "2024-08-25T23:30:00.000000000",
          "2024-08-26T00:30:00.000000000",
          "2024-08-26T01:30:00.000000000",
          "2024-08-26T02:30:00.000000000",
          "2024-08-26T03:30:00.000000000",
          "2024-08-26T04:30:00.000000000",
          "2024-08-26T05:30:00.000000000",
          "2024-08-26T06:30:00.000000000",
          "2024-08-26T07:30:00.000000000",
          "2024-08-26T08:30:00.000000000",
          "2024-08-26T09:30:00.000000000",
          "2024-08-26T10:30:00.000000000",
          "2024-08-26T11:30:00.000000000",
          "2024-08-26T12:30:00.000000000",
          "2024-08-26T13:30:00.000000000",
          "2024-08-26T14:30:00.000000000",
          "2024-08-26T15:30:00.000000000",
          "2024-08-26T16:30:00.000000000",
          "2024-08-26T17:30:00.000000000",
          "2024-08-26T18:30:00.000000000",
          "2024-08-26T19:30:00.000000000",
          "2024-08-26T20:30:00.000000000",
          "2024-08-26T21:30:00.000000000",
          "2024-08-26T22:30:00.000000000",
          "2024-08-26T23:30:00.000000000",
          "2024-08-27T00:30:00.000000000",
          "2024-08-27T01:30:00.000000000",
          "2024-08-27T02:30:00.000000000",
          "2024-08-27T03:30:00.000000000",
          "2024-08-27T04:30:00.000000000",
          "2024-08-27T05:30:00.000000000",
          "2024-08-27T06:30:00.000000000",
          "2024-08-27T07:30:00.000000000",
          "2024-08-27T08:30:00.000000000",
          "2024-08-27T09:30:00.000000000",
          "2024-08-27T10:30:00.000000000",
          "2024-08-27T11:30:00.000000000",
          "2024-08-27T12:30:00.000000000",
          "2024-08-27T13:30:00.000000000",
          "2024-08-27T14:30:00.000000000",
          "2024-08-27T15:30:00.000000000",
          "2024-08-27T16:30:00.000000000",
          "2024-08-27T17:30:00.000000000",
          "2024-08-27T18:30:00.000000000",
          "2024-08-27T19:30:00.000000000",
          "2024-08-27T20:30:00.000000000",
          "2024-08-27T21:30:00.000000000",
          "2024-08-27T22:30:00.000000000",
          "2024-08-27T23:30:00.000000000",
          "2024-08-28T00:30:00.000000000",
          "2024-08-28T01:30:00.000000000",
          "2024-08-28T02:30:00.000000000",
          "2024-08-28T03:30:00.000000000",
          "2024-08-28T04:30:00.000000000",
          "2024-08-28T05:30:00.000000000",
          "2024-08-28T06:30:00.000000000",
          "2024-08-28T07:30:00.000000000",
          "2024-08-28T08:30:00.000000000",
          "2024-08-28T09:30:00.000000000",
          "2024-08-28T10:30:00.000000000",
          "2024-08-28T11:30:00.000000000",
          "2024-08-28T12:30:00.000000000",
          "2024-08-28T13:30:00.000000000",
          "2024-08-28T14:30:00.000000000",
          "2024-08-28T15:30:00.000000000",
          "2024-08-28T16:30:00.000000000",
          "2024-08-28T17:30:00.000000000",
          "2024-08-28T18:30:00.000000000",
          "2024-08-28T19:30:00.000000000",
          "2024-08-28T20:30:00.000000000",
          "2024-08-28T21:30:00.000000000",
          "2024-08-28T22:30:00.000000000",
          "2024-08-28T23:30:00.000000000",
          "2024-08-29T00:30:00.000000000",
          "2024-08-29T01:30:00.000000000",
          "2024-08-29T02:30:00.000000000",
          "2024-08-29T03:30:00.000000000",
          "2024-08-29T04:30:00.000000000",
          "2024-08-29T05:30:00.000000000",
          "2024-08-29T06:30:00.000000000",
          "2024-08-29T07:30:00.000000000",
          "2024-08-29T08:30:00.000000000",
          "2024-08-29T09:30:00.000000000",
          "2024-08-29T10:30:00.000000000",
          "2024-08-29T11:30:00.000000000",
          "2024-08-29T12:30:00.000000000",
          "2024-08-29T13:30:00.000000000",
          "2024-08-29T14:30:00.000000000",
          "2024-08-29T15:30:00.000000000",
          "2024-08-29T16:30:00.000000000",
          "2024-08-29T17:30:00.000000000",
          "2024-08-29T18:30:00.000000000",
          "2024-08-29T19:30:00.000000000",
          "2024-08-29T20:30:00.000000000",
          "2024-08-29T21:30:00.000000000",
          "2024-08-29T22:30:00.000000000",
          "2024-08-29T23:30:00.000000000",
          "2024-08-30T00:30:00.000000000",
          "2024-08-30T01:30:00.000000000",
          "2024-08-30T02:30:00.000000000",
          "2024-08-30T03:30:00.000000000",
          "2024-08-30T04:30:00.000000000",
          "2024-08-30T05:30:00.000000000",
          "2024-08-30T06:30:00.000000000",
          "2024-08-30T07:30:00.000000000",
          "2024-08-30T08:30:00.000000000",
          "2024-08-30T09:30:00.000000000",
          "2024-08-30T10:30:00.000000000",
          "2024-08-30T11:30:00.000000000",
          "2024-08-30T12:30:00.000000000",
          "2024-08-30T13:30:00.000000000",
          "2024-08-30T14:30:00.000000000",
          "2024-08-30T15:30:00.000000000",
          "2024-08-30T16:30:00.000000000",
          "2024-08-30T17:30:00.000000000",
          "2024-08-30T18:30:00.000000000",
          "2024-08-30T19:30:00.000000000",
          "2024-08-30T20:30:00.000000000",
          "2024-08-30T21:30:00.000000000",
          "2024-08-30T22:30:00.000000000",
          "2024-08-30T23:30:00.000000000",
          "2024-08-31T00:30:00.000000000",
          "2024-08-31T01:30:00.000000000",
          "2024-08-31T02:30:00.000000000",
          "2024-08-31T03:30:00.000000000",
          "2024-08-31T04:30:00.000000000",
          "2024-08-31T05:30:00.000000000",
          "2024-08-31T06:30:00.000000000",
          "2024-08-31T07:30:00.000000000",
          "2024-08-31T08:30:00.000000000",
          "2024-08-31T09:30:00.000000000",
          "2024-08-31T10:30:00.000000000",
          "2024-08-31T11:30:00.000000000",
          "2024-08-31T12:30:00.000000000",
          "2024-08-31T13:30:00.000000000",
          "2024-08-31T14:30:00.000000000",
          "2024-08-31T15:30:00.000000000",
          "2024-08-31T16:30:00.000000000",
          "2024-08-31T17:30:00.000000000",
          "2024-08-31T18:30:00.000000000",
          "2024-08-31T19:30:00.000000000",
          "2024-08-31T20:30:00.000000000",
          "2024-08-31T21:30:00.000000000",
          "2024-08-31T22:30:00.000000000",
          "2024-08-31T23:30:00.000000000",
          "2024-09-01T00:30:00.000000000",
          "2024-09-01T01:30:00.000000000",
          "2024-09-01T02:30:00.000000000",
          "2024-09-01T03:30:00.000000000",
          "2024-09-01T04:30:00.000000000",
          "2024-09-01T05:30:00.000000000",
          "2024-09-01T06:30:00.000000000",
          "2024-09-01T07:30:00.000000000",
          "2024-09-01T08:30:00.000000000",
          "2024-09-01T09:30:00.000000000",
          "2024-09-01T10:30:00.000000000",
          "2024-09-01T11:30:00.000000000",
          "2024-09-01T12:30:00.000000000",
          "2024-09-01T13:30:00.000000000",
          "2024-09-01T14:30:00.000000000",
          "2024-09-01T15:30:00.000000000",
          "2024-09-01T16:30:00.000000000",
          "2024-09-01T17:30:00.000000000",
          "2024-09-01T18:30:00.000000000",
          "2024-09-01T19:30:00.000000000",
          "2024-09-01T20:30:00.000000000",
          "2024-09-01T21:30:00.000000000",
          "2024-09-01T22:30:00.000000000",
          "2024-09-01T23:30:00.000000000",
          "2024-09-02T00:30:00.000000000",
          "2024-09-02T01:30:00.000000000",
          "2024-09-02T02:30:00.000000000",
          "2024-09-02T03:30:00.000000000",
          "2024-09-02T04:30:00.000000000",
          "2024-09-02T05:30:00.000000000",
          "2024-09-02T06:30:00.000000000",
          "2024-09-02T07:30:00.000000000",
          "2024-09-02T08:30:00.000000000",
          "2024-09-02T09:30:00.000000000",
          "2024-09-02T10:30:00.000000000",
          "2024-09-02T11:30:00.000000000",
          "2024-09-02T12:30:00.000000000",
          "2024-09-02T13:30:00.000000000"
         ],
         "y": {
          "bdata": "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",
          "dtype": "f8"
         }
        }
       ],
       "layout": {
        "legend": {
         "title": {
          "text": "Type"
         }
        },
        "template": {
         "data": {
          "bar": [
           {
            "error_x": {
             "color": "#2a3f5f"
            },
            "error_y": {
             "color": "#2a3f5f"
            },
            "marker": {
             "line": {
              "color": "white",
              "width": 0.5
             },
             "pattern": {
              "fillmode": "overlay",
              "size": 10,
              "solidity": 0.2
             }
            },
            "type": "bar"
           }
          ],
          "barpolar": [
           {
            "marker": {
             "line": {
              "color": "white",
              "width": 0.5
             },
             "pattern": {
              "fillmode": "overlay",
              "size": 10,
              "solidity": 0.2
             }
            },
            "type": "barpolar"
           }
          ],
          "carpet": [
           {
            "aaxis": {
             "endlinecolor": "#2a3f5f",
             "gridcolor": "#C8D4E3",
             "linecolor": "#C8D4E3",
             "minorgridcolor": "#C8D4E3",
             "startlinecolor": "#2a3f5f"
            },
            "baxis": {
             "endlinecolor": "#2a3f5f",
             "gridcolor": "#C8D4E3",
             "linecolor": "#C8D4E3",
             "minorgridcolor": "#C8D4E3",
             "startlinecolor": "#2a3f5f"
            },
            "type": "carpet"
           }
          ],
          "choropleth": [
           {
            "colorbar": {
             "outlinewidth": 0,
             "ticks": ""
            },
            "type": "choropleth"
           }
          ],
          "contour": [
           {
            "colorbar": {
             "outlinewidth": 0,
             "ticks": ""
            },
            "colorscale": [
             [
              0,
              "#0d0887"
             ],
             [
              0.1111111111111111,
              "#46039f"
             ],
             [
              0.2222222222222222,
              "#7201a8"
             ],
             [
              0.3333333333333333,
              "#9c179e"
             ],
             [
              0.4444444444444444,
              "#bd3786"
             ],
             [
              0.5555555555555556,
              "#d8576b"
             ],
             [
              0.6666666666666666,
              "#ed7953"
             ],
             [
              0.7777777777777778,
              "#fb9f3a"
             ],
             [
              0.8888888888888888,
              "#fdca26"
             ],
             [
              1,
              "#f0f921"
             ]
            ],
            "type": "contour"
           }
          ],
          "contourcarpet": [
           {
            "colorbar": {
             "outlinewidth": 0,
             "ticks": ""
            },
            "type": "contourcarpet"
           }
          ],
          "heatmap": [
           {
            "colorbar": {
             "outlinewidth": 0,
             "ticks": ""
            },
            "colorscale": [
             [
              0,
              "#0d0887"
             ],
             [
              0.1111111111111111,
              "#46039f"
             ],
             [
              0.2222222222222222,
              "#7201a8"
             ],
             [
              0.3333333333333333,
              "#9c179e"
             ],
             [
              0.4444444444444444,
              "#bd3786"
             ],
             [
              0.5555555555555556,
              "#d8576b"
             ],
             [
              0.6666666666666666,
              "#ed7953"
             ],
             [
              0.7777777777777778,
              "#fb9f3a"
             ],
             [
              0.8888888888888888,
              "#fdca26"
             ],
             [
              1,
              "#f0f921"
             ]
            ],
            "type": "heatmap"
           }
          ],
          "histogram": [
           {
            "marker": {
             "pattern": {
              "fillmode": "overlay",
              "size": 10,
              "solidity": 0.2
             }
            },
            "type": "histogram"
           }
          ],
          "histogram2d": [
           {
            "colorbar": {
             "outlinewidth": 0,
             "ticks": ""
            },
            "colorscale": [
             [
              0,
              "#0d0887"
             ],
             [
              0.1111111111111111,
              "#46039f"
             ],
             [
              0.2222222222222222,
              "#7201a8"
             ],
             [
              0.3333333333333333,
              "#9c179e"
             ],
             [
              0.4444444444444444,
              "#bd3786"
             ],
             [
              0.5555555555555556,
              "#d8576b"
             ],
             [
              0.6666666666666666,
              "#ed7953"
             ],
             [
              0.7777777777777778,
              "#fb9f3a"
             ],
             [
              0.8888888888888888,
              "#fdca26"
             ],
             [
              1,
              "#f0f921"
             ]
            ],
            "type": "histogram2d"
           }
          ],
          "histogram2dcontour": [
           {
            "colorbar": {
             "outlinewidth": 0,
             "ticks": ""
            },
            "colorscale": [
             [
              0,
              "#0d0887"
             ],
             [
              0.1111111111111111,
              "#46039f"
             ],
             [
              0.2222222222222222,
              "#7201a8"
             ],
             [
              0.3333333333333333,
              "#9c179e"
             ],
             [
              0.4444444444444444,
              "#bd3786"
             ],
             [
              0.5555555555555556,
              "#d8576b"
             ],
             [
              0.6666666666666666,
              "#ed7953"
             ],
             [
              0.7777777777777778,
              "#fb9f3a"
             ],
             [
              0.8888888888888888,
              "#fdca26"
             ],
             [
              1,
              "#f0f921"
             ]
            ],
            "type": "histogram2dcontour"
           }
          ],
          "mesh3d": [
           {
            "colorbar": {
             "outlinewidth": 0,
             "ticks": ""
            },
            "type": "mesh3d"
           }
          ],
          "parcoords": [
           {
            "line": {
             "colorbar": {
              "outlinewidth": 0,
              "ticks": ""
             }
            },
            "type": "parcoords"
           }
          ],
          "pie": [
           {
            "automargin": true,
            "type": "pie"
           }
          ],
          "scatter": [
           {
            "fillpattern": {
             "fillmode": "overlay",
             "size": 10,
             "solidity": 0.2
            },
            "type": "scatter"
           }
          ],
          "scatter3d": [
           {
            "line": {
             "colorbar": {
              "outlinewidth": 0,
              "ticks": ""
             }
            },
            "marker": {
             "colorbar": {
              "outlinewidth": 0,
              "ticks": ""
             }
            },
            "type": "scatter3d"
           }
          ],
          "scattercarpet": [
           {
            "marker": {
             "colorbar": {
              "outlinewidth": 0,
              "ticks": ""
             }
            },
            "type": "scattercarpet"
           }
          ],
          "scattergeo": [
           {
            "marker": {
             "colorbar": {
              "outlinewidth": 0,
              "ticks": ""
             }
            },
            "type": "scattergeo"
           }
          ],
          "scattergl": [
           {
            "marker": {
             "colorbar": {
              "outlinewidth": 0,
              "ticks": ""
             }
            },
            "type": "scattergl"
           }
          ],
          "scattermap": [
           {
            "marker": {
             "colorbar": {
              "outlinewidth": 0,
              "ticks": ""
             }
            },
            "type": "scattermap"
           }
          ],
          "scattermapbox": [
           {
            "marker": {
             "colorbar": {
              "outlinewidth": 0,
              "ticks": ""
             }
            },
            "type": "scattermapbox"
           }
          ],
          "scatterpolar": [
           {
            "marker": {
             "colorbar": {
              "outlinewidth": 0,
              "ticks": ""
             }
            },
            "type": "scatterpolar"
           }
          ],
          "scatterpolargl": [
           {
            "marker": {
             "colorbar": {
              "outlinewidth": 0,
              "ticks": ""
             }
            },
            "type": "scatterpolargl"
           }
          ],
          "scatterternary": [
           {
            "marker": {
             "colorbar": {
              "outlinewidth": 0,
              "ticks": ""
             }
            },
            "type": "scatterternary"
           }
          ],
          "surface": [
           {
            "colorbar": {
             "outlinewidth": 0,
             "ticks": ""
            },
            "colorscale": [
             [
              0,
              "#0d0887"
             ],
             [
              0.1111111111111111,
              "#46039f"
             ],
             [
              0.2222222222222222,
              "#7201a8"
             ],
             [
              0.3333333333333333,
              "#9c179e"
             ],
             [
              0.4444444444444444,
              "#bd3786"
             ],
             [
              0.5555555555555556,
              "#d8576b"
             ],
             [
              0.6666666666666666,
              "#ed7953"
             ],
             [
              0.7777777777777778,
              "#fb9f3a"
             ],
             [
              0.8888888888888888,
              "#fdca26"
             ],
             [
              1,
              "#f0f921"
             ]
            ],
            "type": "surface"
           }
          ],
          "table": [
           {
            "cells": {
             "fill": {
              "color": "#EBF0F8"
             },
             "line": {
              "color": "white"
             }
            },
            "header": {
             "fill": {
              "color": "#C8D4E3"
             },
             "line": {
              "color": "white"
             }
            },
            "type": "table"
           }
          ]
         },
         "layout": {
          "annotationdefaults": {
           "arrowcolor": "#2a3f5f",
           "arrowhead": 0,
           "arrowwidth": 1
          },
          "autotypenumbers": "strict",
          "coloraxis": {
           "colorbar": {
            "outlinewidth": 0,
            "ticks": ""
           }
          },
          "colorscale": {
           "diverging": [
            [
             0,
             "#8e0152"
            ],
            [
             0.1,
             "#c51b7d"
            ],
            [
             0.2,
             "#de77ae"
            ],
            [
             0.3,
             "#f1b6da"
            ],
            [
             0.4,
             "#fde0ef"
            ],
            [
             0.5,
             "#f7f7f7"
            ],
            [
             0.6,
             "#e6f5d0"
            ],
            [
             0.7,
             "#b8e186"
            ],
            [
             0.8,
             "#7fbc41"
            ],
            [
             0.9,
             "#4d9221"
            ],
            [
             1,
             "#276419"
            ]
           ],
           "sequential": [
            [
             0,
             "#0d0887"
            ],
            [
             0.1111111111111111,
             "#46039f"
            ],
            [
             0.2222222222222222,
             "#7201a8"
            ],
            [
             0.3333333333333333,
             "#9c179e"
            ],
            [
             0.4444444444444444,
             "#bd3786"
            ],
            [
             0.5555555555555556,
             "#d8576b"
            ],
            [
             0.6666666666666666,
             "#ed7953"
            ],
            [
             0.7777777777777778,
             "#fb9f3a"
            ],
            [
             0.8888888888888888,
             "#fdca26"
            ],
            [
             1,
             "#f0f921"
            ]
           ],
           "sequentialminus": [
            [
             0,
             "#0d0887"
            ],
            [
             0.1111111111111111,
             "#46039f"
            ],
            [
             0.2222222222222222,
             "#7201a8"
            ],
            [
             0.3333333333333333,
             "#9c179e"
            ],
            [
             0.4444444444444444,
             "#bd3786"
            ],
            [
             0.5555555555555556,
             "#d8576b"
            ],
            [
             0.6666666666666666,
             "#ed7953"
            ],
            [
             0.7777777777777778,
             "#fb9f3a"
            ],
            [
             0.8888888888888888,
             "#fdca26"
            ],
            [
             1,
             "#f0f921"
            ]
           ]
          },
          "colorway": [
           "#636efa",
           "#EF553B",
           "#00cc96",
           "#ab63fa",
           "#FFA15A",
           "#19d3f3",
           "#FF6692",
           "#B6E880",
           "#FF97FF",
           "#FECB52"
          ],
          "font": {
           "color": "#2a3f5f"
          },
          "geo": {
           "bgcolor": "white",
           "lakecolor": "white",
           "landcolor": "white",
           "showlakes": true,
           "showland": true,
           "subunitcolor": "#C8D4E3"
          },
          "hoverlabel": {
           "align": "left"
          },
          "hovermode": "closest",
          "mapbox": {
           "style": "light"
          },
          "paper_bgcolor": "white",
          "plot_bgcolor": "white",
          "polar": {
           "angularaxis": {
            "gridcolor": "#EBF0F8",
            "linecolor": "#EBF0F8",
            "ticks": ""
           },
           "bgcolor": "white",
           "radialaxis": {
            "gridcolor": "#EBF0F8",
            "linecolor": "#EBF0F8",
            "ticks": ""
           }
          },
          "scene": {
           "xaxis": {
            "backgroundcolor": "white",
            "gridcolor": "#DFE8F3",
            "gridwidth": 2,
            "linecolor": "#EBF0F8",
            "showbackground": true,
            "ticks": "",
            "zerolinecolor": "#EBF0F8"
           },
           "yaxis": {
            "backgroundcolor": "white",
            "gridcolor": "#DFE8F3",
            "gridwidth": 2,
            "linecolor": "#EBF0F8",
            "showbackground": true,
            "ticks": "",
            "zerolinecolor": "#EBF0F8"
           },
           "zaxis": {
            "backgroundcolor": "white",
            "gridcolor": "#DFE8F3",
            "gridwidth": 2,
            "linecolor": "#EBF0F8",
            "showbackground": true,
            "ticks": "",
            "zerolinecolor": "#EBF0F8"
           }
          },
          "shapedefaults": {
           "line": {
            "color": "#2a3f5f"
           }
          },
          "ternary": {
           "aaxis": {
            "gridcolor": "#DFE8F3",
            "linecolor": "#A2B1C6",
            "ticks": ""
           },
           "baxis": {
            "gridcolor": "#DFE8F3",
            "linecolor": "#A2B1C6",
            "ticks": ""
           },
           "bgcolor": "white",
           "caxis": {
            "gridcolor": "#DFE8F3",
            "linecolor": "#A2B1C6",
            "ticks": ""
           }
          },
          "title": {
           "x": 0.05
          },
          "xaxis": {
           "automargin": true,
           "gridcolor": "#EBF0F8",
           "linecolor": "#EBF0F8",
           "ticks": "",
           "title": {
            "standoff": 15
           },
           "zerolinecolor": "#EBF0F8",
           "zerolinewidth": 2
          },
          "yaxis": {
           "automargin": true,
           "gridcolor": "#EBF0F8",
           "linecolor": "#EBF0F8",
           "ticks": "",
           "title": {
            "standoff": 15
           },
           "zerolinecolor": "#EBF0F8",
           "zerolinewidth": 2
          }
         }
        },
        "title": {
         "text": "Bid and Ask Prices Over Time"
        },
        "xaxis": {
         "title": {
          "text": "Timestamp"
         }
        },
        "yaxis": {
         "title": {
          "text": "Price"
         }
        }
       }
      }
     },
     "metadata": {},
     "output_type": "display_data"
    }
   ],
   "source": [
    "fig = go.Figure()\n",
    "fig.add_trace(go.Scatter(x=hourly_minute_bid.index, y=hourly_minute_bid.values, mode='lines', name='Bid Price', line=dict(color='blue')))\n",
    "fig.add_trace(go.Scatter(x=hourly_minute_ask.index, y=hourly_minute_ask.values, mode='lines', name='Ask Price', line=dict(color='red')))\n",
    "fig.update_layout(\n",
    "    title='Bid and Ask Prices Over Time',\n",
    "    xaxis_title='Timestamp',\n",
    "    yaxis_title='Price',\n",
    "    legend_title='Type',\n",
    "    template='plotly_white'\n",
    ")\n",
    "\n",
    "fig.show()"
   ]
  },
  {
   "cell_type": "code",
   "execution_count": 106,
   "metadata": {},
   "outputs": [
    {
     "data": {
      "application/vnd.plotly.v1+json": {
       "config": {
        "plotlyServerURL": "https://plot.ly"
       },
       "data": [
        {
         "line": {
          "color": "blue"
         },
         "mode": "lines",
         "name": "Buy",
         "type": "scatter",
         "x": [
          "2023-09-21T18:00:00.000000000",
          "2023-09-22T18:00:00.000000000",
          "2023-11-18T10:00:00.000000000",
          "2023-12-12T17:00:00.000000000",
          "2024-02-22T09:47:00.000000000",
          "2024-02-26T12:59:00.000000000",
          "2024-03-01T11:38:00.000000000",
          "2024-03-13T11:44:00.000000000",
          "2024-03-25T08:49:00.000000000",
          "2024-05-06T13:09:00.000000000",
          "2024-05-22T09:37:00.000000000",
          "2024-05-23T17:41:00.000000000",
          "2024-06-14T12:35:00.000000000",
          "2024-06-17T08:40:00.000000000",
          "2024-06-18T11:53:00.000000000",
          "2024-06-19T11:58:00.000000000",
          "2024-06-20T12:35:00.000000000",
          "2024-06-21T10:38:00.000000000",
          "2024-06-22T10:36:00.000000000",
          "2024-06-23T14:56:00.000000000",
          "2024-06-24T11:07:00.000000000",
          "2024-06-25T11:34:00.000000000",
          "2024-06-26T11:15:00.000000000",
          "2024-06-26T22:24:00.000000000",
          "2024-06-27T00:21:00.000000000",
          "2024-06-27T10:33:00.000000000",
          "2024-06-27T17:57:00.000000000",
          "2024-06-28T11:35:00.000000000",
          "2024-06-29T12:24:00.000000000",
          "2024-06-30T10:15:00.000000000",
          "2024-07-01T12:30:00.000000000",
          "2024-07-02T13:13:00.000000000",
          "2024-07-03T12:08:00.000000000",
          "2024-07-04T09:46:00.000000000",
          "2024-07-05T16:17:00.000000000",
          "2024-07-05T17:08:00.000000000",
          "2024-07-06T11:00:00.000000000",
          "2024-07-07T17:04:00.000000000",
          "2024-07-08T10:01:00.000000000",
          "2024-07-09T15:42:00.000000000",
          "2024-07-10T10:19:00.000000000",
          "2024-07-11T09:45:00.000000000",
          "2024-07-12T12:59:00.000000000",
          "2024-07-13T13:00:00.000000000",
          "2024-07-14T12:59:00.000000000",
          "2024-07-15T10:15:00.000000000",
          "2024-07-16T09:21:00.000000000",
          "2024-07-17T12:46:00.000000000",
          "2024-07-18T10:28:00.000000000",
          "2024-07-18T19:16:00.000000000",
          "2024-07-19T12:49:00.000000000",
          "2024-07-20T12:22:00.000000000",
          "2024-07-21T11:19:00.000000000",
          "2024-07-22T09:28:00.000000000",
          "2024-07-23T09:56:00.000000000",
          "2024-07-24T13:02:00.000000000",
          "2024-07-25T08:44:00.000000000",
          "2024-07-26T12:59:00.000000000",
          "2024-07-28T12:59:00.000000000",
          "2024-07-29T11:12:00.000000000",
          "2024-07-30T00:00:00.000000000",
          "2024-07-30T10:29:00.000000000",
          "2024-07-31T17:41:00.000000000",
          "2024-07-31T22:41:00.000000000",
          "2024-08-01T10:19:00.000000000",
          "2024-08-01T13:21:00.000000000",
          "2024-08-01T16:55:00.000000000",
          "2024-08-02T11:11:00.000000000",
          "2024-08-02T18:08:00.000000000",
          "2024-08-03T14:42:00.000000000",
          "2024-08-04T13:15:00.000000000",
          "2024-08-04T16:58:00.000000000",
          "2024-08-05T16:59:00.000000000",
          "2024-08-05T23:24:00.000000000",
          "2024-08-06T12:33:00.000000000",
          "2024-08-06T17:12:00.000000000",
          "2024-08-07T12:14:00.000000000",
          "2024-08-07T17:01:00.000000000",
          "2024-08-08T11:56:00.000000000",
          "2024-08-08T17:00:00.000000000",
          "2024-08-08T17:21:00.000000000",
          "2024-08-09T12:45:00.000000000",
          "2024-08-09T16:38:00.000000000",
          "2024-08-09T21:29:00.000000000",
          "2024-08-10T12:06:00.000000000",
          "2024-08-10T16:46:00.000000000",
          "2024-08-10T21:04:00.000000000",
          "2024-08-11T23:01:00.000000000",
          "2024-08-12T12:00:00.000000000",
          "2024-08-12T17:34:00.000000000",
          "2024-08-12T21:35:00.000000000",
          "2024-08-13T12:11:00.000000000",
          "2024-08-13T18:19:00.000000000",
          "2024-08-13T22:13:00.000000000",
          "2024-08-14T14:26:00.000000000",
          "2024-08-14T16:59:00.000000000",
          "2024-08-14T22:33:00.000000000",
          "2024-08-15T11:37:00.000000000",
          "2024-08-15T18:19:00.000000000",
          "2024-08-15T22:13:00.000000000",
          "2024-08-16T12:16:00.000000000",
          "2024-08-16T16:59:00.000000000",
          "2024-08-16T22:45:00.000000000",
          "2024-08-17T11:58:00.000000000",
          "2024-08-17T17:00:00.000000000",
          "2024-08-18T13:43:00.000000000",
          "2024-08-18T17:07:00.000000000",
          "2024-08-19T12:16:00.000000000",
          "2024-08-19T19:58:00.000000000",
          "2024-08-20T12:19:00.000000000",
          "2024-08-20T17:57:00.000000000",
          "2024-08-20T22:31:00.000000000",
          "2024-08-21T13:09:00.000000000",
          "2024-08-21T23:04:00.000000000",
          "2024-08-22T11:59:00.000000000",
          "2024-08-22T17:24:00.000000000",
          "2024-08-23T11:59:00.000000000",
          "2024-08-23T17:22:00.000000000",
          "2024-08-24T12:35:00.000000000",
          "2024-08-24T18:54:00.000000000",
          "2024-08-24T22:41:00.000000000",
          "2024-08-25T13:38:00.000000000",
          "2024-08-25T17:22:00.000000000",
          "2024-08-26T14:01:00.000000000",
          "2024-08-26T16:35:00.000000000",
          "2024-08-26T20:05:00.000000000",
          "2024-08-27T12:20:00.000000000",
          "2024-08-27T16:59:00.000000000",
          "2024-08-27T21:48:00.000000000",
          "2024-08-28T13:13:00.000000000",
          "2024-08-28T18:52:00.000000000",
          "2024-08-28T22:46:00.000000000",
          "2024-08-29T12:37:00.000000000",
          "2024-08-29T17:00:00.000000000",
          "2024-08-30T12:50:00.000000000",
          "2024-08-30T17:08:00.000000000",
          "2024-08-31T12:39:00.000000000",
          "2024-08-31T17:16:00.000000000",
          "2024-09-01T15:28:00.000000000",
          "2024-09-01T23:18:00.000000000",
          "2024-09-02T12:25:00.000000000",
          "2024-09-02T17:32:00.000000000",
          "2024-09-03T12:27:00.000000000",
          "2024-09-03T18:04:00.000000000",
          "2024-09-04T12:36:00.000000000",
          "2024-09-04T19:25:00.000000000",
          "2024-09-05T15:05:00.000000000",
          "2024-09-05T16:59:00.000000000",
          "2024-09-06T11:59:00.000000000",
          "2024-09-06T12:02:00.000000000",
          "2024-09-06T17:20:00.000000000",
          "2024-09-06T21:41:00.000000000",
          "2024-09-07T15:07:00.000000000",
          "2024-09-07T20:55:00.000000000",
          "2024-09-08T18:03:00.000000000",
          "2024-09-09T12:59:00.000000000",
          "2024-09-09T22:11:00.000000000",
          "2024-09-10T12:34:00.000000000",
          "2024-09-10T17:58:00.000000000",
          "2024-09-10T22:55:00.000000000",
          "2024-09-11T12:59:00.000000000",
          "2024-09-11T18:52:00.000000000",
          "2024-09-12T12:59:00.000000000",
          "2024-09-12T17:40:00.000000000",
          "2024-09-12T22:23:00.000000000",
          "2024-09-13T12:46:00.000000000",
          "2024-09-13T17:00:00.000000000",
          "2024-09-13T22:26:00.000000000",
          "2024-09-14T14:10:00.000000000",
          "2024-09-14T17:43:00.000000000",
          "2024-09-15T12:48:00.000000000",
          "2024-09-15T19:12:00.000000000",
          "2024-09-16T11:36:00.000000000",
          "2024-09-16T21:45:00.000000000",
          "2024-09-17T12:01:00.000000000",
          "2024-09-17T16:49:00.000000000",
          "2024-09-17T22:09:00.000000000",
          "2024-09-18T11:59:00.000000000",
          "2024-09-18T23:00:00.000000000",
          "2024-09-19T11:53:00.000000000",
          "2024-09-19T17:00:00.000000000",
          "2024-09-19T23:50:00.000000000",
          "2024-09-20T12:00:00.000000000",
          "2024-09-20T17:20:00.000000000",
          "2024-09-21T13:38:00.000000000",
          "2024-09-21T17:02:00.000000000",
          "2024-09-22T12:02:00.000000000",
          "2024-09-22T17:02:00.000000000",
          "2024-09-23T12:05:00.000000000",
          "2024-09-23T17:39:00.000000000",
          "2024-09-24T11:59:00.000000000",
          "2024-09-24T18:42:00.000000000",
          "2024-09-25T11:59:00.000000000",
          "2024-09-25T16:58:00.000000000",
          "2024-09-26T11:59:00.000000000",
          "2024-09-26T17:25:00.000000000",
          "2024-09-27T12:05:00.000000000",
          "2024-09-27T19:22:00.000000000",
          "2024-09-28T17:13:00.000000000",
          "2024-09-29T12:59:00.000000000",
          "2024-09-29T22:25:00.000000000",
          "2024-09-30T12:00:00.000000000",
          "2024-09-30T17:31:00.000000000",
          "2024-09-30T22:21:00.000000000",
          "2024-10-01T11:59:00.000000000",
          "2024-10-01T16:59:00.000000000",
          "2024-10-02T11:59:00.000000000",
          "2024-10-02T17:00:00.000000000",
          "2024-10-03T11:59:00.000000000",
          "2024-10-03T18:34:00.000000000",
          "2024-10-04T12:07:00.000000000",
          "2024-10-04T16:58:00.000000000",
          "2024-10-05T14:16:00.000000000",
          "2024-10-06T10:44:00.000000000",
          "2024-10-07T12:02:00.000000000",
          "2024-10-07T16:58:00.000000000",
          "2024-10-08T13:12:00.000000000",
          "2024-10-09T12:47:00.000000000",
          "2024-10-09T16:44:00.000000000",
          "2024-10-10T13:23:00.000000000",
          "2024-10-10T18:10:00.000000000",
          "2024-10-10T22:15:00.000000000",
          "2024-10-11T11:59:00.000000000",
          "2024-10-11T18:17:00.000000000",
          "2024-10-11T22:40:00.000000000",
          "2024-10-12T13:04:00.000000000",
          "2024-10-12T19:19:00.000000000",
          "2024-10-13T11:59:00.000000000",
          "2024-10-13T17:25:00.000000000",
          "2024-10-14T13:05:00.000000000",
          "2024-10-14T20:11:00.000000000",
          "2024-10-15T11:39:00.000000000",
          "2024-10-15T18:42:00.000000000",
          "2024-10-16T12:04:00.000000000",
          "2024-10-16T17:00:00.000000000",
          "2024-10-17T12:18:00.000000000",
          "2024-10-17T18:58:00.000000000",
          "2024-10-18T12:59:00.000000000",
          "2024-10-19T13:47:00.000000000",
          "2024-10-19T17:21:00.000000000",
          "2024-10-19T21:31:00.000000000",
          "2024-10-20T21:23:00.000000000",
          "2024-10-21T11:58:00.000000000",
          "2024-10-21T17:31:00.000000000",
          "2024-10-22T11:59:00.000000000",
          "2024-10-22T17:54:00.000000000",
          "2024-10-23T15:21:00.000000000",
          "2024-10-24T11:59:00.000000000",
          "2024-10-24T19:24:00.000000000",
          "2024-10-25T13:01:00.000000000",
          "2024-10-26T15:18:00.000000000",
          "2024-10-26T17:48:00.000000000",
          "2024-10-27T11:59:00.000000000",
          "2024-10-28T12:14:00.000000000",
          "2024-10-28T17:30:00.000000000",
          "2024-10-29T12:01:00.000000000",
          "2024-10-29T17:24:00.000000000",
          "2024-10-30T12:22:00.000000000",
          "2024-10-30T17:10:00.000000000",
          "2024-10-31T12:00:00.000000000",
          "2024-10-31T21:21:00.000000000",
          "2024-11-01T11:59:00.000000000",
          "2024-11-01T23:22:00.000000000",
          "2024-11-02T13:03:00.000000000",
          "2024-11-02T16:59:00.000000000",
          "2024-11-03T17:01:00.000000000",
          "2024-11-04T13:35:00.000000000",
          "2024-11-04T17:50:00.000000000",
          "2024-11-05T16:04:00.000000000",
          "2024-11-06T17:11:00.000000000",
          "2024-11-07T12:27:00.000000000",
          "2024-11-07T17:34:00.000000000",
          "2024-11-08T11:59:00.000000000",
          "2024-11-08T17:05:00.000000000",
          "2024-11-09T11:58:00.000000000",
          "2024-11-09T22:02:00.000000000",
          "2024-11-10T18:28:00.000000000",
          "2024-11-11T13:13:00.000000000",
          "2024-11-11T19:19:00.000000000",
          "2024-11-12T12:09:00.000000000",
          "2024-11-12T22:18:00.000000000",
          "2024-11-13T12:00:00.000000000",
          "2024-11-14T11:52:00.000000000",
          "2024-11-14T21:00:00.000000000",
          "2024-11-15T12:26:00.000000000",
          "2024-11-15T17:27:00.000000000",
          "2024-11-16T13:37:00.000000000",
          "2024-11-16T18:40:00.000000000",
          "2024-11-17T17:52:00.000000000",
          "2024-11-18T12:49:00.000000000",
          "2024-11-18T20:21:00.000000000",
          "2024-11-19T12:30:00.000000000",
          "2024-11-19T18:48:00.000000000",
          "2024-11-20T12:21:00.000000000",
          "2024-11-20T19:02:00.000000000",
          "2024-11-20T22:28:00.000000000",
          "2024-11-21T11:59:00.000000000",
          "2024-11-21T20:51:00.000000000",
          "2024-11-22T11:59:00.000000000",
          "2024-11-22T17:15:00.000000000",
          "2024-11-22T23:27:00.000000000",
          "2024-11-23T11:58:00.000000000",
          "2024-11-23T19:18:00.000000000",
          "2024-11-23T22:24:00.000000000",
          "2024-11-25T11:54:00.000000000",
          "2024-11-25T16:58:00.000000000",
          "2024-11-25T23:08:00.000000000",
          "2024-11-26T11:59:00.000000000",
          "2024-11-26T18:20:00.000000000",
          "2024-11-26T22:02:00.000000000",
          "2024-11-27T13:23:00.000000000",
          "2024-11-27T18:31:00.000000000",
          "2024-11-28T14:46:00.000000000",
          "2024-11-28T23:32:00.000000000",
          "2024-11-29T13:35:00.000000000",
          "2024-11-29T16:58:00.000000000",
          "2024-11-30T14:11:00.000000000",
          "2024-11-30T17:00:00.000000000",
          "2024-12-01T13:58:00.000000000",
          "2024-12-02T11:32:00.000000000",
          "2024-12-02T18:46:00.000000000",
          "2024-12-03T12:08:00.000000000",
          "2024-12-03T18:21:00.000000000",
          "2024-12-04T12:15:00.000000000",
          "2024-12-04T17:42:00.000000000",
          "2024-12-05T12:37:00.000000000",
          "2024-12-05T20:15:00.000000000",
          "2024-12-06T12:00:00.000000000",
          "2024-12-06T17:06:00.000000000",
          "2024-12-07T12:28:00.000000000",
          "2024-12-08T11:59:00.000000000",
          "2024-12-09T11:59:00.000000000",
          "2024-12-09T17:50:00.000000000",
          "2024-12-10T12:31:00.000000000",
          "2024-12-10T19:05:00.000000000",
          "2024-12-11T12:00:00.000000000",
          "2024-12-11T18:24:00.000000000",
          "2024-12-12T12:01:00.000000000",
          "2024-12-12T18:02:00.000000000",
          "2024-12-13T11:59:00.000000000",
          "2024-12-13T19:24:00.000000000",
          "2024-12-14T11:59:00.000000000",
          "2024-12-16T14:01:00.000000000",
          "2024-12-16T17:51:00.000000000",
          "2024-12-17T11:59:00.000000000",
          "2024-12-17T18:08:00.000000000",
          "2024-12-18T12:00:00.000000000",
          "2024-12-18T17:19:00.000000000",
          "2024-12-19T12:07:00.000000000",
          "2024-12-19T17:03:00.000000000",
          "2024-12-20T12:06:00.000000000",
          "2024-12-20T19:40:00.000000000",
          "2024-12-21T16:59:00.000000000",
          "2024-12-22T16:05:00.000000000",
          "2024-12-23T12:05:00.000000000",
          "2024-12-23T17:22:00.000000000",
          "2024-12-24T12:02:00.000000000",
          "2024-12-24T17:53:00.000000000",
          "2024-12-25T11:59:00.000000000",
          "2024-12-25T17:11:00.000000000",
          "2024-12-26T12:42:00.000000000",
          "2024-12-26T17:08:00.000000000",
          "2024-12-27T21:27:00.000000000",
          "2024-12-28T14:31:00.000000000",
          "2024-12-30T12:25:00.000000000",
          "2024-12-30T17:34:00.000000000",
          "2024-12-31T14:48:00.000000000",
          "2024-12-31T16:58:00.000000000",
          "2025-01-01T14:22:00.000000000",
          "2025-01-01T17:30:00.000000000",
          "2025-01-02T17:20:00.000000000",
          "2025-01-03T11:44:00.000000000",
          "2025-01-04T17:12:00.000000000",
          "2025-01-05T11:59:00.000000000",
          "2025-01-05T16:58:00.000000000",
          "2025-01-06T17:51:00.000000000",
          "2025-01-07T23:39:00.000000000",
          "2025-01-08T11:10:00.000000000",
          "2025-01-08T17:16:00.000000000",
          "2025-01-09T12:07:00.000000000",
          "2025-01-09T16:54:00.000000000",
          "2025-01-10T15:18:00.000000000",
          "2025-01-10T17:18:00.000000000",
          "2025-01-11T11:59:00.000000000",
          "2025-01-12T11:59:00.000000000",
          "2025-01-13T17:42:00.000000000",
          "2025-01-14T11:59:00.000000000",
          "2025-01-14T18:26:00.000000000",
          "2025-01-15T11:59:00.000000000",
          "2025-01-15T19:28:00.000000000",
          "2025-01-16T12:58:00.000000000",
          "2025-01-16T20:52:00.000000000",
          "2025-01-17T11:55:00.000000000",
          "2025-01-17T18:28:00.000000000",
          "2025-01-18T16:26:00.000000000",
          "2025-01-19T21:49:00.000000000",
          "2025-01-20T11:59:00.000000000",
          "2025-01-20T18:05:00.000000000",
          "2025-01-21T15:36:00.000000000",
          "2025-01-22T11:58:00.000000000",
          "2025-01-22T16:58:00.000000000",
          "2025-01-23T12:22:00.000000000",
          "2025-01-23T16:47:00.000000000",
          "2025-01-24T11:44:00.000000000",
          "2025-01-25T13:32:00.000000000",
          "2025-01-25T17:13:00.000000000",
          "2025-01-26T16:25:00.000000000",
          "2025-01-27T13:08:00.000000000",
          "2025-01-27T18:20:00.000000000",
          "2025-01-28T12:03:00.000000000",
          "2025-01-29T13:37:00.000000000",
          "2025-01-29T21:59:00.000000000",
          "2025-01-30T12:56:00.000000000",
          "2025-01-30T18:59:00.000000000",
          "2025-01-31T14:44:00.000000000",
          "2025-01-31T20:01:00.000000000",
          "2025-02-01T16:06:00.000000000",
          "2025-02-01T19:26:00.000000000",
          "2025-02-03T12:05:00.000000000",
          "2025-02-03T18:34:00.000000000",
          "2025-02-04T12:16:00.000000000",
          "2025-02-05T13:09:00.000000000",
          "2025-02-05T21:08:00.000000000",
          "2025-02-06T12:03:00.000000000",
          "2025-02-06T16:30:00.000000000",
          "2025-02-07T12:00:00.000000000",
          "2025-02-08T15:20:00.000000000",
          "2025-02-08T17:44:00.000000000",
          "2025-02-09T11:59:00.000000000",
          "2025-02-10T12:25:00.000000000",
          "2025-02-10T16:59:00.000000000",
          "2025-02-11T11:59:00.000000000",
          "2025-02-11T17:00:00.000000000",
          "2025-02-12T11:42:00.000000000",
          "2025-02-13T12:40:00.000000000",
          "2025-02-13T17:00:00.000000000",
          "2025-02-14T13:08:00.000000000",
          "2025-02-14T17:20:00.000000000",
          "2025-02-15T14:14:00.000000000",
          "2025-02-15T16:59:00.000000000",
          "2025-02-16T15:11:00.000000000",
          "2025-02-17T14:52:00.000000000",
          "2025-02-17T17:47:00.000000000",
          "2025-02-18T12:40:00.000000000",
          "2025-02-18T18:53:00.000000000",
          "2025-02-19T12:11:00.000000000",
          "2025-02-19T19:29:00.000000000",
          "2025-02-20T12:28:00.000000000",
          "2025-02-20T17:12:00.000000000",
          "2025-02-21T12:01:00.000000000",
          "2025-02-21T17:06:00.000000000",
          "2025-02-22T13:08:00.000000000",
          "2025-02-22T17:23:00.000000000",
          "2025-02-23T17:56:00.000000000",
          "2025-02-24T12:26:00.000000000",
          "2025-02-25T11:53:00.000000000",
          "2025-02-25T19:29:00.000000000",
          "2025-02-26T11:59:00.000000000",
          "2025-02-26T20:34:00.000000000",
          "2025-02-27T13:37:00.000000000",
          "2025-02-27T17:39:00.000000000",
          "2025-02-28T11:44:00.000000000",
          "2025-02-28T16:50:00.000000000",
          "2025-03-01T13:57:00.000000000",
          "2025-03-01T18:35:00.000000000",
          "2025-03-02T13:30:00.000000000",
          "2025-03-04T13:01:00.000000000",
          "2025-03-05T12:53:00.000000000",
          "2025-03-05T20:07:00.000000000",
          "2025-03-06T17:10:00.000000000",
          "2025-03-07T12:38:00.000000000",
          "2025-03-08T11:59:00.000000000",
          "2025-03-10T12:02:00.000000000",
          "2025-03-10T19:55:00.000000000",
          "2025-03-11T16:56:00.000000000",
          "2025-03-12T12:34:00.000000000",
          "2025-03-12T18:26:00.000000000",
          "2025-03-12T23:11:00.000000000",
          "2025-03-13T11:43:00.000000000",
          "2025-03-13T19:39:00.000000000",
          "2025-03-13T22:43:00.000000000",
          "2025-03-14T11:59:00.000000000",
          "2025-03-14T16:59:00.000000000",
          "2025-03-15T13:59:00.000000000",
          "2025-03-15T16:58:00.000000000",
          "2025-03-16T16:59:00.000000000",
          "2025-03-17T11:55:00.000000000",
          "2025-03-17T21:07:00.000000000",
          "2025-03-18T12:08:00.000000000",
          "2025-03-18T18:52:00.000000000",
          "2025-03-19T13:13:00.000000000",
          "2025-03-19T18:04:00.000000000",
          "2025-03-20T12:00:00.000000000",
          "2025-03-21T11:59:00.000000000",
          "2025-03-21T19:15:00.000000000",
          "2025-03-22T16:42:00.000000000",
          "2025-03-24T12:04:00.000000000",
          "2025-03-24T16:56:00.000000000",
          "2025-03-25T12:07:00.000000000",
          "2025-03-25T17:27:00.000000000",
          "2025-03-26T11:59:00.000000000",
          "2025-03-26T16:52:00.000000000",
          "2025-03-27T12:03:00.000000000",
          "2025-03-27T19:32:00.000000000",
          "2025-03-28T12:24:00.000000000",
          "2025-03-28T17:10:00.000000000",
          "2025-03-29T13:38:00.000000000",
          "2025-03-29T16:58:00.000000000",
          "2025-03-30T11:58:00.000000000",
          "2025-03-30T15:59:00.000000000",
          "2025-03-31T12:08:00.000000000",
          "2025-03-31T16:59:00.000000000",
          "2025-04-01T12:00:00.000000000",
          "2025-04-01T20:13:00.000000000",
          "2025-04-02T13:10:00.000000000",
          "2025-04-02T18:32:00.000000000",
          "2025-04-03T15:08:00.000000000",
          "2025-04-03T19:08:00.000000000",
          "2025-04-04T11:59:00.000000000",
          "2025-04-04T18:16:00.000000000",
          "2025-04-05T13:25:00.000000000",
          "2025-04-05T17:01:00.000000000",
          "2025-04-06T13:01:00.000000000",
          "2025-04-07T12:11:00.000000000",
          "2025-04-07T18:00:00.000000000",
          "2025-04-08T12:13:00.000000000",
          "2025-04-08T17:37:00.000000000",
          "2025-04-09T12:29:00.000000000",
          "2025-04-09T20:45:00.000000000",
          "2025-04-10T12:15:00.000000000",
          "2025-04-10T18:39:00.000000000",
          "2025-04-11T14:54:00.000000000",
          "2025-04-11T17:00:00.000000000",
          "2025-04-12T12:14:00.000000000",
          "2025-04-12T17:16:00.000000000",
          "2025-04-13T12:00:00.000000000",
          "2025-04-13T17:03:00.000000000",
          "2025-04-14T12:06:00.000000000"
         ],
         "y": {
          "bdata": "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",
          "dtype": "f8"
         }
        },
        {
         "line": {
          "color": "red"
         },
         "mode": "lines",
         "name": "Sell",
         "type": "scatter",
         "x": [
          "2023-09-21T18:00:00.000000000",
          "2023-09-22T18:00:00.000000000",
          "2023-11-18T10:00:00.000000000",
          "2023-12-12T17:00:00.000000000",
          "2024-02-22T09:47:00.000000000",
          "2024-02-26T12:59:00.000000000",
          "2024-03-01T11:38:00.000000000",
          "2024-03-13T11:44:00.000000000",
          "2024-03-25T08:49:00.000000000",
          "2024-05-06T13:09:00.000000000",
          "2024-05-22T09:37:00.000000000",
          "2024-05-23T17:41:00.000000000",
          "2024-06-14T12:35:00.000000000",
          "2024-06-17T08:40:00.000000000",
          "2024-06-18T11:53:00.000000000",
          "2024-06-19T11:58:00.000000000",
          "2024-06-20T12:35:00.000000000",
          "2024-06-21T10:38:00.000000000",
          "2024-06-22T10:36:00.000000000",
          "2024-06-23T14:56:00.000000000",
          "2024-06-24T11:07:00.000000000",
          "2024-06-25T11:34:00.000000000",
          "2024-06-26T11:15:00.000000000",
          "2024-06-26T22:24:00.000000000",
          "2024-06-27T00:21:00.000000000",
          "2024-06-27T10:33:00.000000000",
          "2024-06-27T17:57:00.000000000",
          "2024-06-28T11:35:00.000000000",
          "2024-06-29T12:24:00.000000000",
          "2024-06-30T10:15:00.000000000",
          "2024-07-01T12:30:00.000000000",
          "2024-07-02T13:13:00.000000000",
          "2024-07-03T12:08:00.000000000",
          "2024-07-04T09:46:00.000000000",
          "2024-07-05T16:17:00.000000000",
          "2024-07-05T17:08:00.000000000",
          "2024-07-06T11:00:00.000000000",
          "2024-07-07T17:04:00.000000000",
          "2024-07-08T10:01:00.000000000",
          "2024-07-09T15:42:00.000000000",
          "2024-07-10T10:19:00.000000000",
          "2024-07-11T09:45:00.000000000",
          "2024-07-12T12:59:00.000000000",
          "2024-07-13T13:00:00.000000000",
          "2024-07-14T12:59:00.000000000",
          "2024-07-15T10:15:00.000000000",
          "2024-07-16T09:21:00.000000000",
          "2024-07-17T12:46:00.000000000",
          "2024-07-18T10:28:00.000000000",
          "2024-07-18T19:16:00.000000000",
          "2024-07-19T12:49:00.000000000",
          "2024-07-20T12:22:00.000000000",
          "2024-07-21T11:19:00.000000000",
          "2024-07-22T09:28:00.000000000",
          "2024-07-23T09:56:00.000000000",
          "2024-07-24T13:02:00.000000000",
          "2024-07-25T08:44:00.000000000",
          "2024-07-26T12:59:00.000000000",
          "2024-07-28T12:59:00.000000000",
          "2024-07-29T11:12:00.000000000",
          "2024-07-30T00:00:00.000000000",
          "2024-07-30T10:29:00.000000000",
          "2024-07-31T17:41:00.000000000",
          "2024-07-31T22:41:00.000000000",
          "2024-08-01T10:19:00.000000000",
          "2024-08-01T13:21:00.000000000",
          "2024-08-01T16:55:00.000000000",
          "2024-08-02T11:11:00.000000000",
          "2024-08-02T18:08:00.000000000",
          "2024-08-03T14:42:00.000000000",
          "2024-08-04T13:15:00.000000000",
          "2024-08-04T16:58:00.000000000",
          "2024-08-05T16:59:00.000000000",
          "2024-08-05T23:24:00.000000000",
          "2024-08-06T12:33:00.000000000",
          "2024-08-06T17:12:00.000000000",
          "2024-08-07T12:14:00.000000000",
          "2024-08-07T17:01:00.000000000",
          "2024-08-08T11:56:00.000000000",
          "2024-08-08T17:00:00.000000000",
          "2024-08-08T17:21:00.000000000",
          "2024-08-09T12:45:00.000000000",
          "2024-08-09T16:38:00.000000000",
          "2024-08-09T21:29:00.000000000",
          "2024-08-10T12:06:00.000000000",
          "2024-08-10T16:46:00.000000000",
          "2024-08-10T21:04:00.000000000",
          "2024-08-11T23:01:00.000000000",
          "2024-08-12T12:00:00.000000000",
          "2024-08-12T17:34:00.000000000",
          "2024-08-12T21:35:00.000000000",
          "2024-08-13T12:11:00.000000000",
          "2024-08-13T18:19:00.000000000",
          "2024-08-13T22:13:00.000000000",
          "2024-08-14T14:26:00.000000000",
          "2024-08-14T16:59:00.000000000",
          "2024-08-14T22:33:00.000000000",
          "2024-08-15T11:37:00.000000000",
          "2024-08-15T18:19:00.000000000",
          "2024-08-15T22:13:00.000000000",
          "2024-08-16T12:16:00.000000000",
          "2024-08-16T16:59:00.000000000",
          "2024-08-16T22:45:00.000000000",
          "2024-08-17T11:58:00.000000000",
          "2024-08-17T17:00:00.000000000",
          "2024-08-18T13:43:00.000000000",
          "2024-08-18T17:07:00.000000000",
          "2024-08-19T12:16:00.000000000",
          "2024-08-19T19:58:00.000000000",
          "2024-08-20T12:19:00.000000000",
          "2024-08-20T17:57:00.000000000",
          "2024-08-20T22:31:00.000000000",
          "2024-08-21T13:09:00.000000000",
          "2024-08-21T23:04:00.000000000",
          "2024-08-22T11:59:00.000000000",
          "2024-08-22T17:24:00.000000000",
          "2024-08-23T11:59:00.000000000",
          "2024-08-23T17:22:00.000000000",
          "2024-08-24T12:35:00.000000000",
          "2024-08-24T18:54:00.000000000",
          "2024-08-24T22:41:00.000000000",
          "2024-08-25T13:38:00.000000000",
          "2024-08-25T17:22:00.000000000",
          "2024-08-26T14:01:00.000000000",
          "2024-08-26T16:35:00.000000000",
          "2024-08-26T20:05:00.000000000",
          "2024-08-27T12:20:00.000000000",
          "2024-08-27T16:59:00.000000000",
          "2024-08-27T21:48:00.000000000",
          "2024-08-28T13:13:00.000000000",
          "2024-08-28T18:52:00.000000000",
          "2024-08-28T22:46:00.000000000",
          "2024-08-29T12:37:00.000000000",
          "2024-08-29T17:00:00.000000000",
          "2024-08-30T12:50:00.000000000",
          "2024-08-30T17:08:00.000000000",
          "2024-08-31T12:39:00.000000000",
          "2024-08-31T17:16:00.000000000",
          "2024-09-01T15:28:00.000000000",
          "2024-09-01T23:18:00.000000000",
          "2024-09-02T12:25:00.000000000",
          "2024-09-02T17:32:00.000000000",
          "2024-09-03T12:27:00.000000000",
          "2024-09-03T18:04:00.000000000",
          "2024-09-04T12:36:00.000000000",
          "2024-09-04T19:25:00.000000000",
          "2024-09-05T15:05:00.000000000",
          "2024-09-05T16:59:00.000000000",
          "2024-09-06T11:59:00.000000000",
          "2024-09-06T12:02:00.000000000",
          "2024-09-06T17:20:00.000000000",
          "2024-09-06T21:41:00.000000000",
          "2024-09-07T15:07:00.000000000",
          "2024-09-07T20:55:00.000000000",
          "2024-09-08T18:03:00.000000000",
          "2024-09-09T12:59:00.000000000",
          "2024-09-09T22:11:00.000000000",
          "2024-09-10T12:34:00.000000000",
          "2024-09-10T17:58:00.000000000",
          "2024-09-10T22:55:00.000000000",
          "2024-09-11T12:59:00.000000000",
          "2024-09-11T18:52:00.000000000",
          "2024-09-12T12:59:00.000000000",
          "2024-09-12T17:40:00.000000000",
          "2024-09-12T22:23:00.000000000",
          "2024-09-13T12:46:00.000000000",
          "2024-09-13T17:00:00.000000000",
          "2024-09-13T22:26:00.000000000",
          "2024-09-14T14:10:00.000000000",
          "2024-09-14T17:43:00.000000000",
          "2024-09-15T12:48:00.000000000",
          "2024-09-15T19:12:00.000000000",
          "2024-09-16T11:36:00.000000000",
          "2024-09-16T21:45:00.000000000",
          "2024-09-17T12:01:00.000000000",
          "2024-09-17T16:49:00.000000000",
          "2024-09-17T22:09:00.000000000",
          "2024-09-18T11:59:00.000000000",
          "2024-09-18T23:00:00.000000000",
          "2024-09-19T11:53:00.000000000",
          "2024-09-19T17:00:00.000000000",
          "2024-09-19T23:50:00.000000000",
          "2024-09-20T12:00:00.000000000",
          "2024-09-20T17:20:00.000000000",
          "2024-09-21T13:38:00.000000000",
          "2024-09-21T17:02:00.000000000",
          "2024-09-22T12:02:00.000000000",
          "2024-09-22T17:02:00.000000000",
          "2024-09-23T12:05:00.000000000",
          "2024-09-23T17:39:00.000000000",
          "2024-09-24T11:59:00.000000000",
          "2024-09-24T18:42:00.000000000",
          "2024-09-25T11:59:00.000000000",
          "2024-09-25T16:58:00.000000000",
          "2024-09-26T11:59:00.000000000",
          "2024-09-26T17:25:00.000000000",
          "2024-09-27T12:05:00.000000000",
          "2024-09-27T19:22:00.000000000",
          "2024-09-28T17:13:00.000000000",
          "2024-09-29T12:59:00.000000000",
          "2024-09-29T22:25:00.000000000",
          "2024-09-30T12:00:00.000000000",
          "2024-09-30T17:31:00.000000000",
          "2024-09-30T22:21:00.000000000",
          "2024-10-01T11:59:00.000000000",
          "2024-10-01T16:59:00.000000000",
          "2024-10-02T11:59:00.000000000",
          "2024-10-02T17:00:00.000000000",
          "2024-10-03T11:59:00.000000000",
          "2024-10-03T18:34:00.000000000",
          "2024-10-04T12:07:00.000000000",
          "2024-10-04T16:58:00.000000000",
          "2024-10-05T14:16:00.000000000",
          "2024-10-06T10:44:00.000000000",
          "2024-10-07T12:02:00.000000000",
          "2024-10-07T16:58:00.000000000",
          "2024-10-08T13:12:00.000000000",
          "2024-10-09T12:47:00.000000000",
          "2024-10-09T16:44:00.000000000",
          "2024-10-10T13:23:00.000000000",
          "2024-10-10T18:10:00.000000000",
          "2024-10-10T22:15:00.000000000",
          "2024-10-11T11:59:00.000000000",
          "2024-10-11T18:17:00.000000000",
          "2024-10-11T22:40:00.000000000",
          "2024-10-12T13:04:00.000000000",
          "2024-10-12T19:19:00.000000000",
          "2024-10-13T11:59:00.000000000",
          "2024-10-13T17:25:00.000000000",
          "2024-10-14T13:05:00.000000000",
          "2024-10-14T20:11:00.000000000",
          "2024-10-15T11:39:00.000000000",
          "2024-10-15T18:42:00.000000000",
          "2024-10-16T12:04:00.000000000",
          "2024-10-16T17:00:00.000000000",
          "2024-10-17T12:18:00.000000000",
          "2024-10-17T18:58:00.000000000",
          "2024-10-18T12:59:00.000000000",
          "2024-10-19T13:47:00.000000000",
          "2024-10-19T17:21:00.000000000",
          "2024-10-19T21:31:00.000000000",
          "2024-10-20T21:23:00.000000000",
          "2024-10-21T11:58:00.000000000",
          "2024-10-21T17:31:00.000000000",
          "2024-10-22T11:59:00.000000000",
          "2024-10-22T17:54:00.000000000",
          "2024-10-23T15:21:00.000000000",
          "2024-10-24T11:59:00.000000000",
          "2024-10-24T19:24:00.000000000",
          "2024-10-25T13:01:00.000000000",
          "2024-10-26T15:18:00.000000000",
          "2024-10-26T17:48:00.000000000",
          "2024-10-27T11:59:00.000000000",
          "2024-10-28T12:14:00.000000000",
          "2024-10-28T17:30:00.000000000",
          "2024-10-29T12:01:00.000000000",
          "2024-10-29T17:24:00.000000000",
          "2024-10-30T12:22:00.000000000",
          "2024-10-30T17:10:00.000000000",
          "2024-10-31T12:00:00.000000000",
          "2024-10-31T21:21:00.000000000",
          "2024-11-01T11:59:00.000000000",
          "2024-11-01T23:22:00.000000000",
          "2024-11-02T13:03:00.000000000",
          "2024-11-02T16:59:00.000000000",
          "2024-11-03T17:01:00.000000000",
          "2024-11-04T13:35:00.000000000",
          "2024-11-04T17:50:00.000000000",
          "2024-11-05T16:04:00.000000000",
          "2024-11-06T17:11:00.000000000",
          "2024-11-07T12:27:00.000000000",
          "2024-11-07T17:34:00.000000000",
          "2024-11-08T11:59:00.000000000",
          "2024-11-08T17:05:00.000000000",
          "2024-11-09T11:58:00.000000000",
          "2024-11-09T22:02:00.000000000",
          "2024-11-10T18:28:00.000000000",
          "2024-11-11T13:13:00.000000000",
          "2024-11-11T19:19:00.000000000",
          "2024-11-12T12:09:00.000000000",
          "2024-11-12T22:18:00.000000000",
          "2024-11-13T12:00:00.000000000",
          "2024-11-14T11:52:00.000000000",
          "2024-11-14T21:00:00.000000000",
          "2024-11-15T12:26:00.000000000",
          "2024-11-15T17:27:00.000000000",
          "2024-11-16T13:37:00.000000000",
          "2024-11-16T18:40:00.000000000",
          "2024-11-17T17:52:00.000000000",
          "2024-11-18T12:49:00.000000000",
          "2024-11-18T20:21:00.000000000",
          "2024-11-19T12:30:00.000000000",
          "2024-11-19T18:48:00.000000000",
          "2024-11-20T12:21:00.000000000",
          "2024-11-20T19:02:00.000000000",
          "2024-11-20T22:28:00.000000000",
          "2024-11-21T11:59:00.000000000",
          "2024-11-21T20:51:00.000000000",
          "2024-11-22T11:59:00.000000000",
          "2024-11-22T17:15:00.000000000",
          "2024-11-22T23:27:00.000000000",
          "2024-11-23T11:58:00.000000000",
          "2024-11-23T19:18:00.000000000",
          "2024-11-23T22:24:00.000000000",
          "2024-11-25T11:54:00.000000000",
          "2024-11-25T16:58:00.000000000",
          "2024-11-25T23:08:00.000000000",
          "2024-11-26T11:59:00.000000000",
          "2024-11-26T18:20:00.000000000",
          "2024-11-26T22:02:00.000000000",
          "2024-11-27T13:23:00.000000000",
          "2024-11-27T18:31:00.000000000",
          "2024-11-28T14:46:00.000000000",
          "2024-11-28T23:32:00.000000000",
          "2024-11-29T13:35:00.000000000",
          "2024-11-29T16:58:00.000000000",
          "2024-11-30T14:11:00.000000000",
          "2024-11-30T17:00:00.000000000",
          "2024-12-01T13:58:00.000000000",
          "2024-12-02T11:32:00.000000000",
          "2024-12-02T18:46:00.000000000",
          "2024-12-03T12:08:00.000000000",
          "2024-12-03T18:21:00.000000000",
          "2024-12-04T12:15:00.000000000",
          "2024-12-04T17:42:00.000000000",
          "2024-12-05T12:37:00.000000000",
          "2024-12-05T20:15:00.000000000",
          "2024-12-06T12:00:00.000000000",
          "2024-12-06T17:06:00.000000000",
          "2024-12-07T12:28:00.000000000",
          "2024-12-08T11:59:00.000000000",
          "2024-12-09T11:59:00.000000000",
          "2024-12-09T17:50:00.000000000",
          "2024-12-10T12:31:00.000000000",
          "2024-12-10T19:05:00.000000000",
          "2024-12-11T12:00:00.000000000",
          "2024-12-11T18:24:00.000000000",
          "2024-12-12T12:01:00.000000000",
          "2024-12-12T18:02:00.000000000",
          "2024-12-13T11:59:00.000000000",
          "2024-12-13T19:24:00.000000000",
          "2024-12-14T11:59:00.000000000",
          "2024-12-16T14:01:00.000000000",
          "2024-12-16T17:51:00.000000000",
          "2024-12-17T11:59:00.000000000",
          "2024-12-17T18:08:00.000000000",
          "2024-12-18T12:00:00.000000000",
          "2024-12-18T17:19:00.000000000",
          "2024-12-19T12:07:00.000000000",
          "2024-12-19T17:03:00.000000000",
          "2024-12-20T12:06:00.000000000",
          "2024-12-20T19:40:00.000000000",
          "2024-12-21T16:59:00.000000000",
          "2024-12-22T16:05:00.000000000",
          "2024-12-23T12:05:00.000000000",
          "2024-12-23T17:22:00.000000000",
          "2024-12-24T12:02:00.000000000",
          "2024-12-24T17:53:00.000000000",
          "2024-12-25T11:59:00.000000000",
          "2024-12-25T17:11:00.000000000",
          "2024-12-26T12:42:00.000000000",
          "2024-12-26T17:08:00.000000000",
          "2024-12-27T21:27:00.000000000",
          "2024-12-28T14:31:00.000000000",
          "2024-12-30T12:25:00.000000000",
          "2024-12-30T17:34:00.000000000",
          "2024-12-31T14:48:00.000000000",
          "2024-12-31T16:58:00.000000000",
          "2025-01-01T14:22:00.000000000",
          "2025-01-01T17:30:00.000000000",
          "2025-01-02T17:20:00.000000000",
          "2025-01-03T11:44:00.000000000",
          "2025-01-04T17:12:00.000000000",
          "2025-01-05T11:59:00.000000000",
          "2025-01-05T16:58:00.000000000",
          "2025-01-06T17:51:00.000000000",
          "2025-01-07T23:39:00.000000000",
          "2025-01-08T11:10:00.000000000",
          "2025-01-08T17:16:00.000000000",
          "2025-01-09T12:07:00.000000000",
          "2025-01-09T16:54:00.000000000",
          "2025-01-10T15:18:00.000000000",
          "2025-01-10T17:18:00.000000000",
          "2025-01-11T11:59:00.000000000",
          "2025-01-12T11:59:00.000000000",
          "2025-01-13T17:42:00.000000000",
          "2025-01-14T11:59:00.000000000",
          "2025-01-14T18:26:00.000000000",
          "2025-01-15T11:59:00.000000000",
          "2025-01-15T19:28:00.000000000",
          "2025-01-16T12:58:00.000000000",
          "2025-01-16T20:52:00.000000000",
          "2025-01-17T11:55:00.000000000",
          "2025-01-17T18:28:00.000000000",
          "2025-01-18T16:26:00.000000000",
          "2025-01-19T21:49:00.000000000",
          "2025-01-20T11:59:00.000000000",
          "2025-01-20T18:05:00.000000000",
          "2025-01-21T15:36:00.000000000",
          "2025-01-22T11:58:00.000000000",
          "2025-01-22T16:58:00.000000000",
          "2025-01-23T12:22:00.000000000",
          "2025-01-23T16:47:00.000000000",
          "2025-01-24T11:44:00.000000000",
          "2025-01-25T13:32:00.000000000",
          "2025-01-25T17:13:00.000000000",
          "2025-01-26T16:25:00.000000000",
          "2025-01-27T13:08:00.000000000",
          "2025-01-27T18:20:00.000000000",
          "2025-01-28T12:03:00.000000000",
          "2025-01-29T13:37:00.000000000",
          "2025-01-29T21:59:00.000000000",
          "2025-01-30T12:56:00.000000000",
          "2025-01-30T18:59:00.000000000",
          "2025-01-31T14:44:00.000000000",
          "2025-01-31T20:01:00.000000000",
          "2025-02-01T16:06:00.000000000",
          "2025-02-01T19:26:00.000000000",
          "2025-02-03T12:05:00.000000000",
          "2025-02-03T18:34:00.000000000",
          "2025-02-04T12:16:00.000000000",
          "2025-02-05T13:09:00.000000000",
          "2025-02-05T21:08:00.000000000",
          "2025-02-06T12:03:00.000000000",
          "2025-02-06T16:30:00.000000000",
          "2025-02-07T12:00:00.000000000",
          "2025-02-08T15:20:00.000000000",
          "2025-02-08T17:44:00.000000000",
          "2025-02-09T11:59:00.000000000",
          "2025-02-10T12:25:00.000000000",
          "2025-02-10T16:59:00.000000000",
          "2025-02-11T11:59:00.000000000",
          "2025-02-11T17:00:00.000000000",
          "2025-02-12T11:42:00.000000000",
          "2025-02-13T12:40:00.000000000",
          "2025-02-13T17:00:00.000000000",
          "2025-02-14T13:08:00.000000000",
          "2025-02-14T17:20:00.000000000",
          "2025-02-15T14:14:00.000000000",
          "2025-02-15T16:59:00.000000000",
          "2025-02-16T15:11:00.000000000",
          "2025-02-17T14:52:00.000000000",
          "2025-02-17T17:47:00.000000000",
          "2025-02-18T12:40:00.000000000",
          "2025-02-18T18:53:00.000000000",
          "2025-02-19T12:11:00.000000000",
          "2025-02-19T19:29:00.000000000",
          "2025-02-20T12:28:00.000000000",
          "2025-02-20T17:12:00.000000000",
          "2025-02-21T12:01:00.000000000",
          "2025-02-21T17:06:00.000000000",
          "2025-02-22T13:08:00.000000000",
          "2025-02-22T17:23:00.000000000",
          "2025-02-23T17:56:00.000000000",
          "2025-02-24T12:26:00.000000000",
          "2025-02-25T11:53:00.000000000",
          "2025-02-25T19:29:00.000000000",
          "2025-02-26T11:59:00.000000000",
          "2025-02-26T20:34:00.000000000",
          "2025-02-27T13:37:00.000000000",
          "2025-02-27T17:39:00.000000000",
          "2025-02-28T11:44:00.000000000",
          "2025-02-28T16:50:00.000000000",
          "2025-03-01T13:57:00.000000000",
          "2025-03-01T18:35:00.000000000",
          "2025-03-02T13:30:00.000000000",
          "2025-03-04T13:01:00.000000000",
          "2025-03-05T12:53:00.000000000",
          "2025-03-05T20:07:00.000000000",
          "2025-03-06T17:10:00.000000000",
          "2025-03-07T12:38:00.000000000",
          "2025-03-08T11:59:00.000000000",
          "2025-03-10T12:02:00.000000000",
          "2025-03-10T19:55:00.000000000",
          "2025-03-11T16:56:00.000000000",
          "2025-03-12T12:34:00.000000000",
          "2025-03-12T18:26:00.000000000",
          "2025-03-12T23:11:00.000000000",
          "2025-03-13T11:43:00.000000000",
          "2025-03-13T19:39:00.000000000",
          "2025-03-13T22:43:00.000000000",
          "2025-03-14T11:59:00.000000000",
          "2025-03-14T16:59:00.000000000",
          "2025-03-15T13:59:00.000000000",
          "2025-03-15T16:58:00.000000000",
          "2025-03-16T16:59:00.000000000",
          "2025-03-17T11:55:00.000000000",
          "2025-03-17T21:07:00.000000000",
          "2025-03-18T12:08:00.000000000",
          "2025-03-18T18:52:00.000000000",
          "2025-03-19T13:13:00.000000000",
          "2025-03-19T18:04:00.000000000",
          "2025-03-20T12:00:00.000000000",
          "2025-03-21T11:59:00.000000000",
          "2025-03-21T19:15:00.000000000",
          "2025-03-22T16:42:00.000000000",
          "2025-03-24T12:04:00.000000000",
          "2025-03-24T16:56:00.000000000",
          "2025-03-25T12:07:00.000000000",
          "2025-03-25T17:27:00.000000000",
          "2025-03-26T11:59:00.000000000",
          "2025-03-26T16:52:00.000000000",
          "2025-03-27T12:03:00.000000000",
          "2025-03-27T19:32:00.000000000",
          "2025-03-28T12:24:00.000000000",
          "2025-03-28T17:10:00.000000000",
          "2025-03-29T13:38:00.000000000",
          "2025-03-29T16:58:00.000000000",
          "2025-03-30T11:58:00.000000000",
          "2025-03-30T15:59:00.000000000",
          "2025-03-31T12:08:00.000000000",
          "2025-03-31T16:59:00.000000000",
          "2025-04-01T12:00:00.000000000",
          "2025-04-01T20:13:00.000000000",
          "2025-04-02T13:10:00.000000000",
          "2025-04-02T18:32:00.000000000",
          "2025-04-03T15:08:00.000000000",
          "2025-04-03T19:08:00.000000000",
          "2025-04-04T11:59:00.000000000",
          "2025-04-04T18:16:00.000000000",
          "2025-04-05T13:25:00.000000000",
          "2025-04-05T17:01:00.000000000",
          "2025-04-06T13:01:00.000000000",
          "2025-04-07T12:11:00.000000000",
          "2025-04-07T18:00:00.000000000",
          "2025-04-08T12:13:00.000000000",
          "2025-04-08T17:37:00.000000000",
          "2025-04-09T12:29:00.000000000",
          "2025-04-09T20:45:00.000000000",
          "2025-04-10T12:15:00.000000000",
          "2025-04-10T18:39:00.000000000",
          "2025-04-11T14:54:00.000000000",
          "2025-04-11T17:00:00.000000000",
          "2025-04-12T12:14:00.000000000",
          "2025-04-12T17:16:00.000000000",
          "2025-04-13T12:00:00.000000000",
          "2025-04-13T17:03:00.000000000",
          "2025-04-14T12:06:00.000000000"
         ],
         "y": {
          "bdata": "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",
          "dtype": "f8"
         }
        },
        {
         "line": {
          "color": "pink"
         },
         "mode": "lines",
         "name": "Bid Price",
         "type": "scatter",
         "x": [
          "2024-07-09T17:43:00.000000000",
          "2024-07-09T17:54:00.000000000",
          "2024-07-10T13:28:00.000000000",
          "2024-07-11T16:29:00.000000000",
          "2024-07-12T13:29:00.000000000",
          "2024-07-12T20:30:00.000000000",
          "2024-07-13T17:53:00.000000000",
          "2024-07-14T16:20:00.000000000",
          "2024-07-15T16:38:00.000000000",
          "2024-07-16T01:11:00.000000000",
          "2024-07-16T14:41:00.000000000",
          "2024-07-17T11:52:00.000000000",
          "2024-07-18T16:21:00.000000000",
          "2024-07-19T18:08:00.000000000",
          "2024-07-20T18:41:00.000000000",
          "2024-07-21T16:06:00.000000000",
          "2024-07-22T22:27:00.000000000",
          "2024-07-23T13:09:00.000000000",
          "2024-07-24T12:24:00.000000000",
          "2024-07-25T12:04:00.000000000",
          "2024-07-26T13:38:00.000000000",
          "2024-07-27T01:19:00.000000000",
          "2024-07-29T14:33:00.000000000",
          "2024-07-30T15:02:00.000000000",
          "2024-07-31T13:25:00.000000000",
          "2024-08-01T12:32:00.000000000",
          "2024-08-04T13:31:00.000000000",
          "2024-08-05T14:32:00.000000000",
          "2024-08-06T14:30:00.000000000",
          "2024-08-07T15:37:00.000000000",
          "2024-08-08T13:50:00.000000000",
          "2024-08-08T21:58:00.000000000",
          "2024-08-08T23:22:00.000000000",
          "2024-08-08T23:25:00.000000000",
          "2024-08-08T23:28:00.000000000",
          "2024-08-08T23:31:00.000000000",
          "2024-08-08T23:34:00.000000000",
          "2024-08-08T23:37:00.000000000",
          "2024-08-08T23:40:00.000000000",
          "2024-08-08T23:43:00.000000000",
          "2024-08-08T23:46:00.000000000",
          "2024-08-08T23:49:00.000000000",
          "2024-08-08T23:52:00.000000000",
          "2024-08-08T23:55:00.000000000",
          "2024-08-08T23:58:00.000000000",
          "2024-08-09T00:01:00.000000000",
          "2024-08-09T00:04:00.000000000",
          "2024-08-09T00:07:00.000000000",
          "2024-08-09T00:10:00.000000000",
          "2024-08-09T00:13:00.000000000",
          "2024-08-09T00:16:00.000000000",
          "2024-08-09T00:19:00.000000000",
          "2024-08-09T00:22:00.000000000",
          "2024-08-09T00:24:00.000000000",
          "2024-08-09T01:24:00.000000000",
          "2024-08-09T02:24:00.000000000",
          "2024-08-09T03:24:00.000000000",
          "2024-08-09T04:24:00.000000000",
          "2024-08-09T05:24:00.000000000",
          "2024-08-09T06:24:00.000000000",
          "2024-08-09T07:24:00.000000000",
          "2024-08-09T08:24:00.000000000",
          "2024-08-09T09:24:00.000000000",
          "2024-08-09T10:24:00.000000000",
          "2024-08-09T11:24:00.000000000",
          "2024-08-09T12:24:00.000000000",
          "2024-08-09T13:24:00.000000000",
          "2024-08-09T14:24:00.000000000",
          "2024-08-09T15:24:00.000000000",
          "2024-08-09T16:24:00.000000000",
          "2024-08-09T17:24:00.000000000",
          "2024-08-09T18:24:00.000000000",
          "2024-08-09T19:24:00.000000000",
          "2024-08-09T20:24:00.000000000",
          "2024-08-09T21:24:00.000000000",
          "2024-08-09T22:24:00.000000000",
          "2024-08-09T23:24:00.000000000",
          "2024-08-10T00:24:00.000000000",
          "2024-08-10T01:24:00.000000000",
          "2024-08-10T02:24:00.000000000",
          "2024-08-10T03:24:00.000000000",
          "2024-08-10T04:24:00.000000000",
          "2024-08-10T05:24:00.000000000",
          "2024-08-10T06:24:00.000000000",
          "2024-08-10T07:24:00.000000000",
          "2024-08-10T08:24:00.000000000",
          "2024-08-10T09:24:00.000000000",
          "2024-08-10T10:24:00.000000000",
          "2024-08-10T11:24:00.000000000",
          "2024-08-10T12:24:00.000000000",
          "2024-08-10T13:24:00.000000000",
          "2024-08-10T14:24:00.000000000",
          "2024-08-10T15:24:00.000000000",
          "2024-08-10T16:24:00.000000000",
          "2024-08-10T17:24:00.000000000",
          "2024-08-10T18:24:00.000000000",
          "2024-08-10T19:24:00.000000000",
          "2024-08-10T20:24:00.000000000",
          "2024-08-10T21:24:00.000000000",
          "2024-08-10T22:24:00.000000000",
          "2024-08-10T23:24:00.000000000",
          "2024-08-11T00:24:00.000000000",
          "2024-08-11T01:24:00.000000000",
          "2024-08-11T02:24:00.000000000",
          "2024-08-11T03:24:00.000000000",
          "2024-08-11T04:24:00.000000000",
          "2024-08-11T05:24:00.000000000",
          "2024-08-11T06:24:00.000000000",
          "2024-08-11T07:24:00.000000000",
          "2024-08-11T08:24:00.000000000",
          "2024-08-11T09:24:00.000000000",
          "2024-08-11T10:24:00.000000000",
          "2024-08-11T11:24:00.000000000",
          "2024-08-11T12:24:00.000000000",
          "2024-08-11T13:24:00.000000000",
          "2024-08-11T14:24:00.000000000",
          "2024-08-11T15:24:00.000000000",
          "2024-08-11T16:24:00.000000000",
          "2024-08-11T17:24:00.000000000",
          "2024-08-11T18:24:00.000000000",
          "2024-08-11T19:24:00.000000000",
          "2024-08-11T20:24:00.000000000",
          "2024-08-11T21:24:00.000000000",
          "2024-08-11T22:24:00.000000000",
          "2024-08-11T23:24:00.000000000",
          "2024-08-12T00:24:00.000000000",
          "2024-08-12T01:24:00.000000000",
          "2024-08-12T02:24:00.000000000",
          "2024-08-12T03:24:00.000000000",
          "2024-08-12T04:24:00.000000000",
          "2024-08-12T05:24:00.000000000",
          "2024-08-12T06:24:00.000000000",
          "2024-08-12T07:24:00.000000000",
          "2024-08-12T08:24:00.000000000",
          "2024-08-12T09:24:00.000000000",
          "2024-08-12T10:24:00.000000000",
          "2024-08-12T11:24:00.000000000",
          "2024-08-12T12:24:00.000000000",
          "2024-08-12T13:24:00.000000000",
          "2024-08-12T14:24:00.000000000",
          "2024-08-12T15:24:00.000000000",
          "2024-08-12T16:24:00.000000000",
          "2024-08-12T17:24:00.000000000",
          "2024-08-12T18:24:00.000000000",
          "2024-08-12T19:24:00.000000000",
          "2024-08-12T20:24:00.000000000",
          "2024-08-12T21:24:00.000000000",
          "2024-08-12T22:24:00.000000000",
          "2024-08-12T23:24:00.000000000",
          "2024-08-13T00:24:00.000000000",
          "2024-08-13T01:24:00.000000000",
          "2024-08-13T02:24:00.000000000",
          "2024-08-13T03:24:00.000000000",
          "2024-08-13T04:24:00.000000000",
          "2024-08-13T05:24:00.000000000",
          "2024-08-13T06:24:00.000000000",
          "2024-08-13T07:24:00.000000000",
          "2024-08-13T08:24:00.000000000",
          "2024-08-13T09:24:00.000000000",
          "2024-08-13T10:24:00.000000000",
          "2024-08-13T11:24:00.000000000",
          "2024-08-13T12:24:00.000000000",
          "2024-08-13T13:24:00.000000000",
          "2024-08-13T14:24:00.000000000",
          "2024-08-13T15:24:00.000000000",
          "2024-08-13T16:24:00.000000000",
          "2024-08-13T17:24:00.000000000",
          "2024-08-13T18:24:00.000000000",
          "2024-08-13T19:24:00.000000000",
          "2024-08-13T20:24:00.000000000",
          "2024-08-13T21:24:00.000000000",
          "2024-08-13T22:24:00.000000000",
          "2024-08-13T23:24:00.000000000",
          "2024-08-14T00:24:00.000000000",
          "2024-08-14T01:24:00.000000000",
          "2024-08-14T02:24:00.000000000",
          "2024-08-14T03:24:00.000000000",
          "2024-08-14T04:24:00.000000000",
          "2024-08-14T05:24:00.000000000",
          "2024-08-14T06:24:00.000000000",
          "2024-08-14T07:24:00.000000000",
          "2024-08-14T08:24:00.000000000",
          "2024-08-14T09:24:00.000000000",
          "2024-08-14T10:24:00.000000000",
          "2024-08-14T11:24:00.000000000",
          "2024-08-14T12:24:00.000000000",
          "2024-08-14T13:24:00.000000000",
          "2024-08-14T14:24:00.000000000",
          "2024-08-14T15:24:00.000000000",
          "2024-08-14T16:24:00.000000000",
          "2024-08-14T17:24:00.000000000",
          "2024-08-14T18:24:00.000000000",
          "2024-08-14T19:24:00.000000000",
          "2024-08-14T20:24:00.000000000",
          "2024-08-14T21:24:00.000000000",
          "2024-08-14T22:24:00.000000000",
          "2024-08-14T23:24:00.000000000",
          "2024-08-15T00:24:00.000000000",
          "2024-08-15T01:24:00.000000000",
          "2024-08-15T02:24:00.000000000",
          "2024-08-15T03:24:00.000000000",
          "2024-08-15T04:24:00.000000000",
          "2024-08-15T05:24:00.000000000",
          "2024-08-15T06:24:00.000000000",
          "2024-08-15T07:24:00.000000000",
          "2024-08-15T08:24:00.000000000",
          "2024-08-15T09:24:00.000000000",
          "2024-08-15T10:24:00.000000000",
          "2024-08-15T11:24:00.000000000",
          "2024-08-15T12:24:00.000000000",
          "2024-08-15T13:24:00.000000000",
          "2024-08-15T14:24:00.000000000",
          "2024-08-15T15:24:00.000000000",
          "2024-08-15T16:24:00.000000000",
          "2024-08-15T17:24:00.000000000",
          "2024-08-15T18:24:00.000000000",
          "2024-08-15T19:24:00.000000000",
          "2024-08-15T20:24:00.000000000",
          "2024-08-15T21:24:00.000000000",
          "2024-08-15T22:24:00.000000000",
          "2024-08-15T23:24:00.000000000",
          "2024-08-16T00:24:00.000000000",
          "2024-08-16T01:24:00.000000000",
          "2024-08-16T02:24:00.000000000",
          "2024-08-16T03:24:00.000000000",
          "2024-08-16T04:24:00.000000000",
          "2024-08-16T05:24:00.000000000",
          "2024-08-16T06:24:00.000000000",
          "2024-08-16T07:24:00.000000000",
          "2024-08-16T08:24:00.000000000",
          "2024-08-16T09:24:00.000000000",
          "2024-08-16T10:24:00.000000000",
          "2024-08-16T11:24:00.000000000",
          "2024-08-16T12:24:00.000000000",
          "2024-08-16T13:24:00.000000000",
          "2024-08-16T14:24:00.000000000",
          "2024-08-16T15:24:00.000000000",
          "2024-08-16T16:24:00.000000000",
          "2024-08-16T17:24:00.000000000",
          "2024-08-16T18:24:00.000000000",
          "2024-08-16T19:24:00.000000000",
          "2024-08-16T20:24:00.000000000",
          "2024-08-16T21:24:00.000000000",
          "2024-08-16T22:24:00.000000000",
          "2024-08-16T23:24:00.000000000",
          "2024-08-17T00:24:00.000000000",
          "2024-08-17T01:24:00.000000000",
          "2024-08-17T02:24:00.000000000",
          "2024-08-17T03:24:00.000000000",
          "2024-08-17T04:24:00.000000000",
          "2024-08-17T05:24:00.000000000",
          "2024-08-17T06:24:00.000000000",
          "2024-08-17T07:24:00.000000000",
          "2024-08-17T08:24:00.000000000",
          "2024-08-17T09:24:00.000000000",
          "2024-08-17T10:24:00.000000000",
          "2024-08-17T11:24:00.000000000",
          "2024-08-17T12:24:00.000000000",
          "2024-08-17T13:24:00.000000000",
          "2024-08-17T14:24:00.000000000",
          "2024-08-17T15:24:00.000000000",
          "2024-08-17T16:24:00.000000000",
          "2024-08-17T17:24:00.000000000",
          "2024-08-17T18:24:00.000000000",
          "2024-08-17T19:24:00.000000000",
          "2024-08-17T20:24:00.000000000",
          "2024-08-17T21:24:00.000000000",
          "2024-08-17T22:24:00.000000000",
          "2024-08-17T23:24:00.000000000",
          "2024-08-18T00:24:00.000000000",
          "2024-08-18T01:24:00.000000000",
          "2024-08-18T02:24:00.000000000",
          "2024-08-18T03:24:00.000000000",
          "2024-08-18T04:24:00.000000000",
          "2024-08-18T05:24:00.000000000",
          "2024-08-18T06:24:00.000000000",
          "2024-08-18T07:24:00.000000000",
          "2024-08-18T08:24:00.000000000",
          "2024-08-18T09:24:00.000000000",
          "2024-08-18T10:24:00.000000000",
          "2024-08-18T11:24:00.000000000",
          "2024-08-18T12:24:00.000000000",
          "2024-08-18T13:24:00.000000000",
          "2024-08-18T14:24:00.000000000",
          "2024-08-18T15:24:00.000000000",
          "2024-08-18T16:24:00.000000000",
          "2024-08-18T17:24:00.000000000",
          "2024-08-18T18:24:00.000000000",
          "2024-08-18T19:24:00.000000000",
          "2024-08-18T20:24:00.000000000",
          "2024-08-18T21:24:00.000000000",
          "2024-08-19T13:29:00.000000000",
          "2024-08-19T13:30:00.000000000",
          "2024-08-19T14:29:00.000000000",
          "2024-08-19T15:29:00.000000000",
          "2024-08-19T16:29:00.000000000",
          "2024-08-19T17:29:00.000000000",
          "2024-08-19T18:29:00.000000000",
          "2024-08-19T19:29:00.000000000",
          "2024-08-19T20:29:00.000000000",
          "2024-08-19T21:29:00.000000000",
          "2024-08-19T22:29:00.000000000",
          "2024-08-19T23:29:00.000000000",
          "2024-08-20T00:29:00.000000000",
          "2024-08-20T01:29:00.000000000",
          "2024-08-20T02:29:00.000000000",
          "2024-08-20T03:29:00.000000000",
          "2024-08-20T04:29:00.000000000",
          "2024-08-20T05:29:00.000000000",
          "2024-08-20T06:29:00.000000000",
          "2024-08-20T07:29:00.000000000",
          "2024-08-20T08:29:00.000000000",
          "2024-08-20T09:29:00.000000000",
          "2024-08-20T10:29:00.000000000",
          "2024-08-20T11:29:00.000000000",
          "2024-08-20T12:29:00.000000000",
          "2024-08-20T13:29:00.000000000",
          "2024-08-20T14:29:00.000000000",
          "2024-08-20T15:29:00.000000000",
          "2024-08-20T16:29:00.000000000",
          "2024-08-20T17:29:00.000000000",
          "2024-08-20T18:29:00.000000000",
          "2024-08-20T19:29:00.000000000",
          "2024-08-20T20:29:00.000000000",
          "2024-08-20T21:29:00.000000000",
          "2024-08-20T22:29:00.000000000",
          "2024-08-20T23:29:00.000000000",
          "2024-08-21T00:29:00.000000000",
          "2024-08-21T01:29:00.000000000",
          "2024-08-21T02:29:00.000000000",
          "2024-08-21T03:29:00.000000000",
          "2024-08-21T04:29:00.000000000",
          "2024-08-21T05:29:00.000000000",
          "2024-08-21T06:29:00.000000000",
          "2024-08-21T07:29:00.000000000",
          "2024-08-21T08:29:00.000000000",
          "2024-08-21T09:29:00.000000000",
          "2024-08-21T10:29:00.000000000",
          "2024-08-21T11:29:00.000000000",
          "2024-08-21T12:29:00.000000000",
          "2024-08-21T13:29:00.000000000",
          "2024-08-21T14:29:00.000000000",
          "2024-08-21T15:29:00.000000000",
          "2024-08-21T16:29:00.000000000",
          "2024-08-21T17:29:00.000000000",
          "2024-08-21T18:29:00.000000000",
          "2024-08-21T19:29:00.000000000",
          "2024-08-21T20:29:00.000000000",
          "2024-08-21T21:30:00.000000000",
          "2024-08-21T22:29:00.000000000",
          "2024-08-21T23:29:00.000000000",
          "2024-08-22T00:30:00.000000000",
          "2024-08-22T01:29:00.000000000",
          "2024-08-22T02:29:00.000000000",
          "2024-08-22T03:29:00.000000000",
          "2024-08-22T04:29:00.000000000",
          "2024-08-22T05:29:00.000000000",
          "2024-08-22T06:30:00.000000000",
          "2024-08-22T07:29:00.000000000",
          "2024-08-22T08:29:00.000000000",
          "2024-08-22T09:29:00.000000000",
          "2024-08-22T10:29:00.000000000",
          "2024-08-22T11:29:00.000000000",
          "2024-08-22T12:29:00.000000000",
          "2024-08-22T13:29:00.000000000",
          "2024-08-22T14:29:00.000000000",
          "2024-08-22T15:29:00.000000000",
          "2024-08-22T16:29:00.000000000",
          "2024-08-22T17:29:00.000000000",
          "2024-08-22T18:29:00.000000000",
          "2024-08-22T19:29:00.000000000",
          "2024-08-22T20:29:00.000000000",
          "2024-08-22T21:29:00.000000000",
          "2024-08-22T22:29:00.000000000",
          "2024-08-22T23:29:00.000000000",
          "2024-08-23T00:29:00.000000000",
          "2024-08-23T01:21:00.000000000",
          "2024-08-23T01:24:00.000000000",
          "2024-08-23T01:30:00.000000000",
          "2024-08-23T02:30:00.000000000",
          "2024-08-23T03:30:00.000000000",
          "2024-08-23T04:30:00.000000000",
          "2024-08-23T05:30:00.000000000",
          "2024-08-23T06:30:00.000000000",
          "2024-08-23T07:30:00.000000000",
          "2024-08-23T08:30:00.000000000",
          "2024-08-23T09:30:00.000000000",
          "2024-08-23T10:30:00.000000000",
          "2024-08-23T11:30:00.000000000",
          "2024-08-23T12:30:00.000000000",
          "2024-08-23T13:30:00.000000000",
          "2024-08-23T14:30:00.000000000",
          "2024-08-23T15:30:00.000000000",
          "2024-08-23T16:18:00.000000000",
          "2024-08-23T16:19:00.000000000",
          "2024-08-23T16:21:00.000000000",
          "2024-08-23T16:30:00.000000000",
          "2024-08-23T17:30:00.000000000",
          "2024-08-23T18:30:00.000000000",
          "2024-08-23T19:30:00.000000000",
          "2024-08-23T20:30:00.000000000",
          "2024-08-23T21:30:00.000000000",
          "2024-08-23T22:30:00.000000000",
          "2024-08-23T23:30:00.000000000",
          "2024-08-24T00:30:00.000000000",
          "2024-08-24T01:30:00.000000000",
          "2024-08-24T02:30:00.000000000",
          "2024-08-24T03:30:00.000000000",
          "2024-08-24T04:30:00.000000000",
          "2024-08-24T05:30:00.000000000",
          "2024-08-24T06:30:00.000000000",
          "2024-08-24T07:30:00.000000000",
          "2024-08-24T08:30:00.000000000",
          "2024-08-24T09:30:00.000000000",
          "2024-08-24T10:30:00.000000000",
          "2024-08-24T11:30:00.000000000",
          "2024-08-24T12:30:00.000000000",
          "2024-08-24T13:30:00.000000000",
          "2024-08-24T14:30:00.000000000",
          "2024-08-24T15:30:00.000000000",
          "2024-08-24T16:30:00.000000000",
          "2024-08-24T17:30:00.000000000",
          "2024-08-24T18:30:00.000000000",
          "2024-08-24T19:30:00.000000000",
          "2024-08-24T20:30:00.000000000",
          "2024-08-24T21:30:00.000000000",
          "2024-08-24T22:30:00.000000000",
          "2024-08-24T23:30:00.000000000",
          "2024-08-25T00:30:00.000000000",
          "2024-08-25T01:30:00.000000000",
          "2024-08-25T02:30:00.000000000",
          "2024-08-25T03:30:00.000000000",
          "2024-08-25T04:30:00.000000000",
          "2024-08-25T05:30:00.000000000",
          "2024-08-25T06:30:00.000000000",
          "2024-08-25T07:30:00.000000000",
          "2024-08-25T08:30:00.000000000",
          "2024-08-25T09:30:00.000000000",
          "2024-08-25T10:30:00.000000000",
          "2024-08-25T11:30:00.000000000",
          "2024-08-25T12:30:00.000000000",
          "2024-08-25T13:30:00.000000000",
          "2024-08-25T14:30:00.000000000",
          "2024-08-25T15:30:00.000000000",
          "2024-08-25T16:30:00.000000000",
          "2024-08-25T17:30:00.000000000",
          "2024-08-25T18:30:00.000000000",
          "2024-08-25T19:30:00.000000000",
          "2024-08-25T20:30:00.000000000",
          "2024-08-25T21:30:00.000000000",
          "2024-08-25T22:30:00.000000000",
          "2024-08-25T23:30:00.000000000",
          "2024-08-26T00:30:00.000000000",
          "2024-08-26T01:30:00.000000000",
          "2024-08-26T02:30:00.000000000",
          "2024-08-26T03:30:00.000000000",
          "2024-08-26T04:30:00.000000000",
          "2024-08-26T05:30:00.000000000",
          "2024-08-26T06:30:00.000000000",
          "2024-08-26T07:30:00.000000000",
          "2024-08-26T08:30:00.000000000",
          "2024-08-26T09:30:00.000000000",
          "2024-08-26T10:30:00.000000000",
          "2024-08-26T11:30:00.000000000",
          "2024-08-26T12:30:00.000000000",
          "2024-08-26T13:30:00.000000000",
          "2024-08-26T14:30:00.000000000",
          "2024-08-26T15:30:00.000000000",
          "2024-08-26T16:30:00.000000000",
          "2024-08-26T17:30:00.000000000",
          "2024-08-26T18:30:00.000000000",
          "2024-08-26T19:30:00.000000000",
          "2024-08-26T20:30:00.000000000",
          "2024-08-26T21:30:00.000000000",
          "2024-08-26T22:30:00.000000000",
          "2024-08-26T23:30:00.000000000",
          "2024-08-27T00:30:00.000000000",
          "2024-08-27T01:30:00.000000000",
          "2024-08-27T02:30:00.000000000",
          "2024-08-27T03:30:00.000000000",
          "2024-08-27T04:30:00.000000000",
          "2024-08-27T05:30:00.000000000",
          "2024-08-27T06:30:00.000000000",
          "2024-08-27T07:30:00.000000000",
          "2024-08-27T08:30:00.000000000",
          "2024-08-27T09:30:00.000000000",
          "2024-08-27T10:30:00.000000000",
          "2024-08-27T11:30:00.000000000",
          "2024-08-27T12:30:00.000000000",
          "2024-08-27T13:30:00.000000000",
          "2024-08-27T14:30:00.000000000",
          "2024-08-27T15:30:00.000000000",
          "2024-08-27T16:30:00.000000000",
          "2024-08-27T17:30:00.000000000",
          "2024-08-27T18:30:00.000000000",
          "2024-08-27T19:30:00.000000000",
          "2024-08-27T20:30:00.000000000",
          "2024-08-27T21:30:00.000000000",
          "2024-08-27T22:30:00.000000000",
          "2024-08-27T23:30:00.000000000",
          "2024-08-28T00:30:00.000000000",
          "2024-08-28T01:30:00.000000000",
          "2024-08-28T02:30:00.000000000",
          "2024-08-28T03:30:00.000000000",
          "2024-08-28T04:30:00.000000000",
          "2024-08-28T05:30:00.000000000",
          "2024-08-28T06:30:00.000000000",
          "2024-08-28T07:30:00.000000000",
          "2024-08-28T08:30:00.000000000",
          "2024-08-28T09:30:00.000000000",
          "2024-08-28T10:30:00.000000000",
          "2024-08-28T11:30:00.000000000",
          "2024-08-28T12:30:00.000000000",
          "2024-08-28T13:30:00.000000000",
          "2024-08-28T14:30:00.000000000",
          "2024-08-28T15:30:00.000000000",
          "2024-08-28T16:30:00.000000000",
          "2024-08-28T17:30:00.000000000",
          "2024-08-28T18:30:00.000000000",
          "2024-08-28T19:30:00.000000000",
          "2024-08-28T20:30:00.000000000",
          "2024-08-28T21:30:00.000000000",
          "2024-08-28T22:30:00.000000000",
          "2024-08-28T23:30:00.000000000",
          "2024-08-29T00:30:00.000000000",
          "2024-08-29T01:30:00.000000000",
          "2024-08-29T02:30:00.000000000",
          "2024-08-29T03:30:00.000000000",
          "2024-08-29T04:30:00.000000000",
          "2024-08-29T05:30:00.000000000",
          "2024-08-29T06:30:00.000000000",
          "2024-08-29T07:30:00.000000000",
          "2024-08-29T08:30:00.000000000",
          "2024-08-29T09:30:00.000000000",
          "2024-08-29T10:30:00.000000000",
          "2024-08-29T11:30:00.000000000",
          "2024-08-29T12:30:00.000000000",
          "2024-08-29T13:30:00.000000000",
          "2024-08-29T14:30:00.000000000",
          "2024-08-29T15:30:00.000000000",
          "2024-08-29T16:30:00.000000000",
          "2024-08-29T17:30:00.000000000",
          "2024-08-29T18:30:00.000000000",
          "2024-08-29T19:30:00.000000000",
          "2024-08-29T20:30:00.000000000",
          "2024-08-29T21:30:00.000000000",
          "2024-08-29T22:30:00.000000000",
          "2024-08-29T23:30:00.000000000",
          "2024-08-30T00:30:00.000000000",
          "2024-08-30T01:30:00.000000000",
          "2024-08-30T02:30:00.000000000",
          "2024-08-30T03:30:00.000000000",
          "2024-08-30T04:30:00.000000000",
          "2024-08-30T05:30:00.000000000",
          "2024-08-30T06:30:00.000000000",
          "2024-08-30T07:30:00.000000000",
          "2024-08-30T08:30:00.000000000",
          "2024-08-30T09:30:00.000000000",
          "2024-08-30T10:30:00.000000000",
          "2024-08-30T11:30:00.000000000",
          "2024-08-30T12:30:00.000000000",
          "2024-08-30T13:30:00.000000000",
          "2024-08-30T14:30:00.000000000",
          "2024-08-30T15:30:00.000000000",
          "2024-08-30T16:30:00.000000000",
          "2024-08-30T17:30:00.000000000",
          "2024-08-30T18:30:00.000000000",
          "2024-08-30T19:30:00.000000000",
          "2024-08-30T20:30:00.000000000",
          "2024-08-30T21:30:00.000000000",
          "2024-08-30T22:30:00.000000000",
          "2024-08-30T23:30:00.000000000",
          "2024-08-31T00:30:00.000000000",
          "2024-08-31T01:30:00.000000000",
          "2024-08-31T02:30:00.000000000",
          "2024-08-31T03:30:00.000000000",
          "2024-08-31T04:30:00.000000000",
          "2024-08-31T05:30:00.000000000",
          "2024-08-31T06:30:00.000000000",
          "2024-08-31T07:30:00.000000000",
          "2024-08-31T08:30:00.000000000",
          "2024-08-31T09:30:00.000000000",
          "2024-08-31T10:30:00.000000000",
          "2024-08-31T11:30:00.000000000",
          "2024-08-31T12:30:00.000000000",
          "2024-08-31T13:30:00.000000000",
          "2024-08-31T14:30:00.000000000",
          "2024-08-31T15:30:00.000000000",
          "2024-08-31T16:30:00.000000000",
          "2024-08-31T17:30:00.000000000",
          "2024-08-31T18:30:00.000000000",
          "2024-08-31T19:30:00.000000000",
          "2024-08-31T20:30:00.000000000",
          "2024-08-31T21:30:00.000000000",
          "2024-08-31T22:30:00.000000000",
          "2024-08-31T23:30:00.000000000",
          "2024-09-01T00:30:00.000000000",
          "2024-09-01T01:30:00.000000000",
          "2024-09-01T02:30:00.000000000",
          "2024-09-01T03:30:00.000000000",
          "2024-09-01T04:30:00.000000000",
          "2024-09-01T05:30:00.000000000",
          "2024-09-01T06:30:00.000000000",
          "2024-09-01T07:30:00.000000000",
          "2024-09-01T08:30:00.000000000",
          "2024-09-01T09:30:00.000000000",
          "2024-09-01T10:30:00.000000000",
          "2024-09-01T11:30:00.000000000",
          "2024-09-01T12:30:00.000000000",
          "2024-09-01T13:30:00.000000000",
          "2024-09-01T14:30:00.000000000",
          "2024-09-01T15:30:00.000000000",
          "2024-09-01T16:30:00.000000000",
          "2024-09-01T17:30:00.000000000",
          "2024-09-01T18:30:00.000000000",
          "2024-09-01T19:30:00.000000000",
          "2024-09-01T20:30:00.000000000",
          "2024-09-01T21:30:00.000000000",
          "2024-09-01T22:30:00.000000000",
          "2024-09-01T23:30:00.000000000",
          "2024-09-02T00:30:00.000000000",
          "2024-09-02T01:30:00.000000000",
          "2024-09-02T02:30:00.000000000",
          "2024-09-02T03:30:00.000000000",
          "2024-09-02T04:30:00.000000000",
          "2024-09-02T05:30:00.000000000",
          "2024-09-02T06:30:00.000000000",
          "2024-09-02T07:30:00.000000000",
          "2024-09-02T08:30:00.000000000",
          "2024-09-02T09:30:00.000000000",
          "2024-09-02T10:30:00.000000000",
          "2024-09-02T11:30:00.000000000",
          "2024-09-02T12:30:00.000000000",
          "2024-09-02T13:30:00.000000000"
         ],
         "y": {
          "bdata": "7Z48LNSaIUBPQBNhw5MhQKSWIkgHYCFAetOb3vRmIUBrDFFUC5QhQPiiB5y/ECJAokW28/2EIUBCgyE0GKIhQLQ927M9WyFAERoMocGQIUDKwogbe6chQHpD0a12hCFAkxgEVg6tIUBMX3jAr/8hQKwChm12yiFAuB6F61HoIUCmeccpOhIiQHoPDG846CFAPZdA1jA6IkCXyfwvY5YiQDndAxyL8CJA+FPjpZsEI0CCThvotAEjQMELq5/pSCNATUzfxPSNJEBc1UXgqIolQDchexOytyRABFYOLbJdJUDKkOBr2VUkQHxuiVO/pyNAHF57T5EuJED1KlSvQvUiQC1vjGCi/yJAWDm0yHbOIkB1kxgEVs4iQHWTGARWziJAdZMYBFbOIkDnYnQuRuciQFg5tMh2ziJAWDm0yHbOIkCsHFpkO88iQDMzMzMz4yJA5iybf8a0IkBnZG5G5uYiQDEIrBxa5CJATmIQWDnkIkAor6G8hrIiQCivobyGsiJAeHEeOoaXIkDk27jLcrEiQHhxHjqGlyJAYwF3+iOWIkCVhD5ksq8iQOg3Lu0TmCJAOm2g0wa6IUALvdALvdAhQM3ewuwtTCFAto1V21g1IUDhwTxR/wYhQAtgMBtn7CBAKg0599kFIUBr15ivG90gQJUdpi63vyBA1do15uvGIECel+N5OR4hQMhQ2WHqkiFAWYEw0o6VIUCe53me5/khQAccJEc0jSFAjpduEoOQIUD4iq/4iq8hQGKOTC9b2SFAflCaqNTxIUCxg83bByUiQH4G5mdg/iFAWot5UXdMIkBiEW3y4h0iQOJZ0UjANyJAWeCVBV4ZIkDsUbgeheshQLKd76fG2yFAVVVVVVWVIUASHRjRgREhQNFeQnsJ7SBA3B9kqOwwIUDcH2So7DAhQI/C9ShcDyFAj7xCt5V4IUA3iUFg5ZAhQB+F61G4ziFANfGsaCTgIUDGSzeJQUAiQLKd76fGOyJAEG9X3TskIkCnDXTaQCciQL6fGi/dRCJA6pqu6ZouIkAeiduRuB0iQAwCK4cWCSJAL90kBoEFIkBlh6nL7c8hQC7tExh97CFAdafaDUG0IUBnnTK5VdEhQATRnWo3hCFAZoFXFnhlIUDm/FnOn2UhQOUFVV5QZSFA5RdLfrFkIUCKZJxIxokhQHompGdCeiFAj8L1KFxfIUDOATVom84hQPqQyb46KSJAllhEm7x4IkACLbGINnkiQP31u06uWiJAX5RBJfN8IkD5G5C/AXkiQDcLTWo+gCJA7+XzXj6PIkAPeXwZUKAiQL+fGi/dpCJApsGpXuCuIkBA7jUXkqYiQPGfmCPTiyJAokW28/1kIkD7FqRvQXoiQCPtWIEwUiJA2kYAS2U6IkDwiSO9VvAhQBAyVHaYGiJAVjFpFZPWIUAUrkfherwhQBSuR+F6vCFAM+jN+GE2IkDlEzRq/wUiQJ7vp8ZLVyJAFggj7VgBIkA3JWtTsjYiQHsUrkfh+iFA8RiP8RgPIkCpMoZFLcQhQJ4c/QSD4yFAiOF5GJ4HIkCTtC1J2xIiQA7qoA7qICJAbef7qfFSIkAk0tinuWEiQKl1Qg/cqCJAZOy1y490IkAYS36x5H8iQAWJw2vvKSJANl66SQwSIkA7ViCMtOMhQOi0gU4b6CFAq6qqqqrqIUCrqqqqquohQHozfphtBCJAgNb2gjcbIkC7RfXteGgiQDS1VwUMmyJAVP15kol1IkC28kqYg3wiQPYoXI/CdSJA/ch8PPYyIkCiph9q+kEiQDEIrBxa9CFAqm/HQwkhIkCrC/UZITciQD/NDd81eSJAKJlYhzBtIkDZa5cf6X4iQEquzovLoiJAJ5Ro4BaBIkCl4uzDZ1giQJb8YskvFiJAK7S5lX8PIkDuDzJUdvghQO4PMlR2+CFA7g8yVHb4IUCm0pBzn90hQGYjVddg3yFAK2lUW64SIkA730+Nlz4iQFO1KlWrUiJAlrCb30LAIkC1gU4b6MQiQK1p3nGKziJAxC194QG/IkBWibzvItYiQJkEmqfuuiJAzppnNAHOIkA/Qisp47kiQLYV+8vuySJA5gTLyIOoIkBaZDvfT80iQLbKhiOmvSJARhlUMs+fIkDsCpB7zYUiQH1lGpzqhSJAQ4ts5/tJIkDR3JlqdjMiQFTF4x2kOyJAVMXjHaQ7IkBUxeMdpDsiQFTF4x2kOyJA2tzKvwc0IkCAAP4H4H8iQMwT9W+EsiJAeGWBVxZ4IkAutANpkqAiQHIHKHeAciJAcgcod4ByIkAvK6Hqz5MiQOiKOD8OoCJAhNW0jjenIkC7mDWGKKoiQJ3bcBZPsyJA05ve9Ka3IkDGkl8s+cUiQKnvbNR3tiJA8O/v7+/vIkD2KFyPwsUiQJGKHAs7tyJA22aMS6SWIkCd++wCYpMiQMl8PPYyriJAeM7vqxqwIkDoeZ7neZ4iQHe/tNNdsiJAjczNyNyMIkCNzM3I3IwiQLkDlDtAuSJAdor3LKWzIkBdpV8fELoiQMcIJvo72SJAvU0szDfNIkBM1dtJW6siQCmjt2WtjiJAq6qqqqrCIkDJxDqEaa0iQCGJNPZpriJAbxKDwMqhIkBlnj+Eh74iQDCW/GLJzyJA5kyzGYDmIkADcf/cwxwjQMHpwngCVSNAuR6F61H4IkAhsHJoke0iQFrFpFVM2iJANvqyEqr+IkCfYVeA3OsiQMmco91K6yJAY9IqJq3iIkDQXBqRihwjQO/u7u7uHiNAY31orA8NI0A2lYac++wiQNY07zhFByNA+8vuycMCI0BseHqlLAMjQAE0Z5rNACNAeL9FUzUcI0AcuZEbuREjQC8/0v2FzyJA1LI0LUtTIkCwbylmYX0iQPDKAq8skCJAo1yZlDB8IkCvChi22akiQFSkqyBxeCJAKg0599kFIkAU9W+EMrohQCEhISEhISJAhetRuB4FIkBR6oMdtxAiQCRV12BfLiJAEhISEhISIkDAN68mnjUiQLWBThvoNCJATWo+gJ1xIkC8ZEOHGIMiQCyTEob/dSJAjZuFJjVfIkCXN0Yw0V8iQIcJyGiYgCJAi2MqegVzIkAEWmIRbXIiQGGeqH8jlCJAwvUoXI8CJkDC9ShcjwImQAAAAAAAACZA9ihcj8L1JUApXI/C9eglQHh3d3d39yVAmpmZmZn5JUA+CtejcP0mQIXrUbgeBSdAhetRuB6FJkCbxCCwcmgmQBhLfrHkVyZA61G4HoVrJkAYS36x5FcmQPyp8dJNYiZAkML1KFxPJkDGSzeJQWAmQFyPwvUoXCZAXI/C9ShcJkBcj8L1KFwmQAc6baDTRiZAXI/C9ShcJkC4HoXrUXgmQLgehetReCZATDeJQWBlJkDC9Shcj4ImQLbz/dR4aSZA61G4HoVrJkDrUbgehWsmQBhLfrHkVyZAG+i0gU5bJkBWDi2ynW8mQKabxCCwciZAi2zn+6lxJkCLbOf7qXEmQN3d3d3dXSZA3d3d3d1dJkDd3d3d3V0mQN3d3d3dXSZABoGVQ4tsJkDRItv5fmomQEw3iUFgZSZATDeJQWBlJkD8qfHSTWImQFO4HoXrUSZA/Knx0k1iJkAfhetRuH4mQEw3iUFgZSZALPnFkl+sJkB/seQXS/4lQLgehetR+CVAAAAAAAAAJkAaL90kBgEmQPYoXI/C9SVA9ihcj8L1JUB7FK5H4folQLgehetR+CVArkfhehQOJkAAAAAAAAAmQML1KFyPgiZAAAAAAAAAJkD1KFyPwvUlQJqZmZmZ+SVAcT0K16PwJUBxPQrXo/AlQHE9Ctej8CVAcT0K16PwJUBxPQrXo/AlQHE9Ctej8CVA7FG4HoXrJUBxPQrXo/AlQDQzMzMz8yVArkfhehTuJUDsUbgeheslQOxRuB6F6yVAcT0K16PwJUD2KFyPwvUlQPnFkl8s+SVA+cWSXyz5JUA+CtejcP0lQBSuR+F69CVAcD0K16PwJUCbxCCwcuglQJqZmZmZ2SVACtejcD3KJUB+M/AhpC0iQPNA5gfvLSJAwh9ya5wKIkBPCfKUIE8iQKXnNy7tUyJAYQu2YAtGIkD8gwyVHUYiQNop3rOUTiJAwxja55lTIkBbhJrHclMiQHxR5dayWCJAKRt9WQlVIkDm9gcZKlsiQDfMUu/qVyJAkiOaRoefIkCYs2z+GZMiQL10kxgEjiJAmJLQh0yWIkBXY1Hsg6AiQGZmZmZmjiJA43iXaS6HIkA6GJ+D8bkjQM3MzMzMzCNAz4pGAr6ZI0DKoUW2870jQMxy8cDunyNAIPzldc6OI0A3IXsTsrcjQFyPwvUorCNAyXa+nxqvI0BvV907JKojQDvVbgiieyNAro4JHsxTI0BMXW5/kCEjQExdbn+QISNAlecSyBpGI0CV5xLIGkYjQHeCOJmkWiNAlecSyBpGI0BcBjZL/3kjQIBazWKXwSNAgk4b6LSBI0DglOcSyJojQPnXiH+N2CNAryzwygLPI0CtaCTgm9cjQC7V2VKdzSNAlsF/Yo7MI0CI+ePbuIsjQL3/LiNmlSNAyXa+nxqfI0D5I9krV4wjQMP1KFyPgiNAIIy0YwWCI0Bre8GbTZAjQJm63P4ggyNAeAKV8o02I0Aepi63P0gjQATYGTcLzSJABNgZNwvNIkB56SYxCKwiQNbgOQJF2yJArfpcbcX+IkAadgXIvWYjQP1kWgCDWSNABJ020GmDI0DU60i9jlQjQLvc/iBDZSNAYRyddcpkI0AoTVTqOKsjQAtNaj6AnSNAFK1L0bqUI0CF61G4HoUjQM+D1gG3iSNAonYlaleiI0Aj5LYAD7sjQHunoGb52CNAi238tNjGI0AncAIncMIjQDQEEM2dqSNADLO3MHuLI0Cpt4x6y6gjQOpri4MFZSNAc9cS8kFPI0Bz1xLyQU8jQBaUdHz6WiNAw3gClfKNI0A8LsPjMrwjQMztDzJUtiNAEgu40x+xI0B7yUgNEH4jQGMtDORoiSNAGLzZBBWbI0BJ9soVw5cjQML1KFyPoiNACtanYH2KI0Cw6nCIb5EjQFc7gvDUmyNAvO2p4vGOI0DTJ33SJ30jQAXEptKQcyNABcSm0pBzI0A18axoJIAjQKRwPQrXXyNA6Yh9x2ZbI0DpiH3HZlsjQDLAnGXzTyNAnTbQaQMtI0BsCfmgZzMjQGwJ+aBnMyNAUUmdgCZCI0By7rMLiG0jQAxEvkDkiyNAjcPQOAyNI0BQB3VQB3UjQBx3WS4emCNA0UUXXXTRI0Dzxggm+rsjQDzsYPP2wSNAb3PsNsfOI0BKJtYhTOsjQHQYs+/dCiRAknasQBipI0BdPLD7l5IjQEXtStSuxCNARexOxO7EI0ClIec+u4AjQOF6FK5HYSNAtrwxgokeI0CTAeYsmz8jQJMB5iybPyNABiUdn742I0C4HoXrURgjQLgehetRGCNAWfKLJb8YI0AUrkfheqAjQIXrUbgexSNAvp8aL93EI0BqwMh309gjQLICYaQdqyNAuZRLuZTLI0BkDaP9prwjQDDFH8leuSNAcvQTDI6tI0CLWoj545sjQGNM3DT1kiNAmU40X8icI0DCFmzBFowjQPTQMbw4jyNAlD7pkz6JI0DcVfcOiaojQAAAAAAAgCNAFK5H4Xp4I0ADryzwyoIjQEuC04XxhCNAS4LThfGEI0BLgtOF8YQjQEuC04XxhCNAKIF/EvinI0CuR+F6FLIjQC+D3owf5iNAHVpkO9/PI0BK2J6E7ckjQOtRuB6F6yNAjr1TULP8I0AK16NwPdojQAz/61uK2SNA1AY6baDTI0CUPumTPukjQPYoXI/C9SNAhAZDaDDkI0CZ4ME8Uf8jQMeJZJxI5iNAc2R62crgI0Cd31c1YOQjQFYdDvEtoiNAZmZmZmZ2I0ARTPR3snojQKrx0k1ikCNAWcNovylPI0BZw2i/KU8jQGg6Yt+xWSNANpWGnPtsI0ByC6U+2LEjQPcHGSo7jCNATJMB5iybI0AUOIETOMEjQLhZaFLzwSNAUDA4tpaeI0AyORuTs7EjQGviWdFIoCNAhUmYhEmYI0D/pST0IZMjQPUUuBkcziNA27M927O9I0BeQ3kN5bUjQKNwPQrXoyNAvQzNy9C8I0AREREREZEjQOwfU4a5rCNAzczMzMyMI0BSuB6F66UjQGbd2bs8hCNA7Xw/NV46I0B24JwRpT0jQHlYqDXNOyNA5z67gNh0I0BSuB6F63EjQH2j7WPRcyNAAAAAAABoI0AraVRbrpIjQECtZrHLoCNAAAAAAACwI0CF61G4HoUjQI7WaI3WqCNA9Gb8MNuII0CnXjJSA4QjQFK4HoXrkSNAcMYPs42AI0AHaZAGaZAjQGXsiIRxdCNAgk4b6LSBI0CwtXkg84MjQNU12JcrgSNADQIrhxZZI0BMc/DC6mcjQKHWNO84RSNAodY07zhFI0BjmgwwZ1kjQJjbH2SobCNADfUiqR18I0CkKRVnH34jQI0M1shgjSNAnqyWN0awI0BvV907JKojQKtUrUrVqiNA6o9YwJ1+I0DbC95sgoojQBERERERcSNA6w1Ft9qRI0BwEXXtXn0jQNejcD0KdyNA3yLq2r16I0BUbyi61Y4jQHpnwEFyhCNAw/UoXI+CI0Dfxl2Wi0cjQIXrUbgeQSNAF2zBFmxBI0BR7+MtzUEjQN7onv8KQSNAU4wa/jZFI0BTjBr+NkUjQE9WyxsjWCNA8oslv1hyI0BmZmZmZoYjQOm0gU4baCNA397e3t6eI0A=",
          "dtype": "f8"
         }
        },
        {
         "line": {
          "color": "orange"
         },
         "mode": "lines",
         "name": "Ask Price",
         "type": "scatter",
         "x": [
          "2024-07-09T17:43:00.000000000",
          "2024-07-09T17:54:00.000000000",
          "2024-07-10T13:28:00.000000000",
          "2024-07-11T16:29:00.000000000",
          "2024-07-12T13:29:00.000000000",
          "2024-07-12T20:30:00.000000000",
          "2024-07-13T17:53:00.000000000",
          "2024-07-14T16:20:00.000000000",
          "2024-07-15T16:38:00.000000000",
          "2024-07-16T01:11:00.000000000",
          "2024-07-16T14:41:00.000000000",
          "2024-07-17T11:52:00.000000000",
          "2024-07-18T16:21:00.000000000",
          "2024-07-19T18:08:00.000000000",
          "2024-07-20T18:41:00.000000000",
          "2024-07-21T16:06:00.000000000",
          "2024-07-22T22:27:00.000000000",
          "2024-07-23T13:09:00.000000000",
          "2024-07-24T12:24:00.000000000",
          "2024-07-25T12:04:00.000000000",
          "2024-07-26T13:38:00.000000000",
          "2024-07-27T01:19:00.000000000",
          "2024-07-29T14:33:00.000000000",
          "2024-07-30T15:02:00.000000000",
          "2024-07-31T13:25:00.000000000",
          "2024-08-01T12:32:00.000000000",
          "2024-08-04T13:31:00.000000000",
          "2024-08-05T14:32:00.000000000",
          "2024-08-06T14:30:00.000000000",
          "2024-08-07T15:37:00.000000000",
          "2024-08-08T13:50:00.000000000",
          "2024-08-08T21:58:00.000000000",
          "2024-08-08T23:22:00.000000000",
          "2024-08-08T23:25:00.000000000",
          "2024-08-08T23:28:00.000000000",
          "2024-08-08T23:31:00.000000000",
          "2024-08-08T23:34:00.000000000",
          "2024-08-08T23:37:00.000000000",
          "2024-08-08T23:40:00.000000000",
          "2024-08-08T23:43:00.000000000",
          "2024-08-08T23:46:00.000000000",
          "2024-08-08T23:49:00.000000000",
          "2024-08-08T23:52:00.000000000",
          "2024-08-08T23:55:00.000000000",
          "2024-08-08T23:58:00.000000000",
          "2024-08-09T00:01:00.000000000",
          "2024-08-09T00:04:00.000000000",
          "2024-08-09T00:07:00.000000000",
          "2024-08-09T00:10:00.000000000",
          "2024-08-09T00:13:00.000000000",
          "2024-08-09T00:16:00.000000000",
          "2024-08-09T00:19:00.000000000",
          "2024-08-09T00:22:00.000000000",
          "2024-08-09T00:24:00.000000000",
          "2024-08-09T01:24:00.000000000",
          "2024-08-09T02:24:00.000000000",
          "2024-08-09T03:24:00.000000000",
          "2024-08-09T04:24:00.000000000",
          "2024-08-09T05:24:00.000000000",
          "2024-08-09T06:24:00.000000000",
          "2024-08-09T07:24:00.000000000",
          "2024-08-09T08:24:00.000000000",
          "2024-08-09T09:24:00.000000000",
          "2024-08-09T10:24:00.000000000",
          "2024-08-09T11:24:00.000000000",
          "2024-08-09T12:24:00.000000000",
          "2024-08-09T13:24:00.000000000",
          "2024-08-09T14:24:00.000000000",
          "2024-08-09T15:24:00.000000000",
          "2024-08-09T16:24:00.000000000",
          "2024-08-09T17:24:00.000000000",
          "2024-08-09T18:24:00.000000000",
          "2024-08-09T19:24:00.000000000",
          "2024-08-09T20:24:00.000000000",
          "2024-08-09T21:24:00.000000000",
          "2024-08-09T22:24:00.000000000",
          "2024-08-09T23:24:00.000000000",
          "2024-08-10T00:24:00.000000000",
          "2024-08-10T01:24:00.000000000",
          "2024-08-10T02:24:00.000000000",
          "2024-08-10T03:24:00.000000000",
          "2024-08-10T04:24:00.000000000",
          "2024-08-10T05:24:00.000000000",
          "2024-08-10T06:24:00.000000000",
          "2024-08-10T07:24:00.000000000",
          "2024-08-10T08:24:00.000000000",
          "2024-08-10T09:24:00.000000000",
          "2024-08-10T10:24:00.000000000",
          "2024-08-10T11:24:00.000000000",
          "2024-08-10T12:24:00.000000000",
          "2024-08-10T13:24:00.000000000",
          "2024-08-10T14:24:00.000000000",
          "2024-08-10T15:24:00.000000000",
          "2024-08-10T16:24:00.000000000",
          "2024-08-10T17:24:00.000000000",
          "2024-08-10T18:24:00.000000000",
          "2024-08-10T19:24:00.000000000",
          "2024-08-10T20:24:00.000000000",
          "2024-08-10T21:24:00.000000000",
          "2024-08-10T22:24:00.000000000",
          "2024-08-10T23:24:00.000000000",
          "2024-08-11T00:24:00.000000000",
          "2024-08-11T01:24:00.000000000",
          "2024-08-11T02:24:00.000000000",
          "2024-08-11T03:24:00.000000000",
          "2024-08-11T04:24:00.000000000",
          "2024-08-11T05:24:00.000000000",
          "2024-08-11T06:24:00.000000000",
          "2024-08-11T07:24:00.000000000",
          "2024-08-11T08:24:00.000000000",
          "2024-08-11T09:24:00.000000000",
          "2024-08-11T10:24:00.000000000",
          "2024-08-11T11:24:00.000000000",
          "2024-08-11T12:24:00.000000000",
          "2024-08-11T13:24:00.000000000",
          "2024-08-11T14:24:00.000000000",
          "2024-08-11T15:24:00.000000000",
          "2024-08-11T16:24:00.000000000",
          "2024-08-11T17:24:00.000000000",
          "2024-08-11T18:24:00.000000000",
          "2024-08-11T19:24:00.000000000",
          "2024-08-11T20:24:00.000000000",
          "2024-08-11T21:24:00.000000000",
          "2024-08-11T22:24:00.000000000",
          "2024-08-11T23:24:00.000000000",
          "2024-08-12T00:24:00.000000000",
          "2024-08-12T01:24:00.000000000",
          "2024-08-12T02:24:00.000000000",
          "2024-08-12T03:24:00.000000000",
          "2024-08-12T04:24:00.000000000",
          "2024-08-12T05:24:00.000000000",
          "2024-08-12T06:24:00.000000000",
          "2024-08-12T07:24:00.000000000",
          "2024-08-12T08:24:00.000000000",
          "2024-08-12T09:24:00.000000000",
          "2024-08-12T10:24:00.000000000",
          "2024-08-12T11:24:00.000000000",
          "2024-08-12T12:24:00.000000000",
          "2024-08-12T13:24:00.000000000",
          "2024-08-12T14:24:00.000000000",
          "2024-08-12T15:24:00.000000000",
          "2024-08-12T16:24:00.000000000",
          "2024-08-12T17:24:00.000000000",
          "2024-08-12T18:24:00.000000000",
          "2024-08-12T19:24:00.000000000",
          "2024-08-12T20:24:00.000000000",
          "2024-08-12T21:24:00.000000000",
          "2024-08-12T22:24:00.000000000",
          "2024-08-12T23:24:00.000000000",
          "2024-08-13T00:24:00.000000000",
          "2024-08-13T01:24:00.000000000",
          "2024-08-13T02:24:00.000000000",
          "2024-08-13T03:24:00.000000000",
          "2024-08-13T04:24:00.000000000",
          "2024-08-13T05:24:00.000000000",
          "2024-08-13T06:24:00.000000000",
          "2024-08-13T07:24:00.000000000",
          "2024-08-13T08:24:00.000000000",
          "2024-08-13T09:24:00.000000000",
          "2024-08-13T10:24:00.000000000",
          "2024-08-13T11:24:00.000000000",
          "2024-08-13T12:24:00.000000000",
          "2024-08-13T13:24:00.000000000",
          "2024-08-13T14:24:00.000000000",
          "2024-08-13T15:24:00.000000000",
          "2024-08-13T16:24:00.000000000",
          "2024-08-13T17:24:00.000000000",
          "2024-08-13T18:24:00.000000000",
          "2024-08-13T19:24:00.000000000",
          "2024-08-13T20:24:00.000000000",
          "2024-08-13T21:24:00.000000000",
          "2024-08-13T22:24:00.000000000",
          "2024-08-13T23:24:00.000000000",
          "2024-08-14T00:24:00.000000000",
          "2024-08-14T01:24:00.000000000",
          "2024-08-14T02:24:00.000000000",
          "2024-08-14T03:24:00.000000000",
          "2024-08-14T04:24:00.000000000",
          "2024-08-14T05:24:00.000000000",
          "2024-08-14T06:24:00.000000000",
          "2024-08-14T07:24:00.000000000",
          "2024-08-14T08:24:00.000000000",
          "2024-08-14T09:24:00.000000000",
          "2024-08-14T10:24:00.000000000",
          "2024-08-14T11:24:00.000000000",
          "2024-08-14T12:24:00.000000000",
          "2024-08-14T13:24:00.000000000",
          "2024-08-14T14:24:00.000000000",
          "2024-08-14T15:24:00.000000000",
          "2024-08-14T16:24:00.000000000",
          "2024-08-14T17:24:00.000000000",
          "2024-08-14T18:24:00.000000000",
          "2024-08-14T19:24:00.000000000",
          "2024-08-14T20:24:00.000000000",
          "2024-08-14T21:24:00.000000000",
          "2024-08-14T22:24:00.000000000",
          "2024-08-14T23:24:00.000000000",
          "2024-08-15T00:24:00.000000000",
          "2024-08-15T01:24:00.000000000",
          "2024-08-15T02:24:00.000000000",
          "2024-08-15T03:24:00.000000000",
          "2024-08-15T04:24:00.000000000",
          "2024-08-15T05:24:00.000000000",
          "2024-08-15T06:24:00.000000000",
          "2024-08-15T07:24:00.000000000",
          "2024-08-15T08:24:00.000000000",
          "2024-08-15T09:24:00.000000000",
          "2024-08-15T10:24:00.000000000",
          "2024-08-15T11:24:00.000000000",
          "2024-08-15T12:24:00.000000000",
          "2024-08-15T13:24:00.000000000",
          "2024-08-15T14:24:00.000000000",
          "2024-08-15T15:24:00.000000000",
          "2024-08-15T16:24:00.000000000",
          "2024-08-15T17:24:00.000000000",
          "2024-08-15T18:24:00.000000000",
          "2024-08-15T19:24:00.000000000",
          "2024-08-15T20:24:00.000000000",
          "2024-08-15T21:24:00.000000000",
          "2024-08-15T22:24:00.000000000",
          "2024-08-15T23:24:00.000000000",
          "2024-08-16T00:24:00.000000000",
          "2024-08-16T01:24:00.000000000",
          "2024-08-16T02:24:00.000000000",
          "2024-08-16T03:24:00.000000000",
          "2024-08-16T04:24:00.000000000",
          "2024-08-16T05:24:00.000000000",
          "2024-08-16T06:24:00.000000000",
          "2024-08-16T07:24:00.000000000",
          "2024-08-16T08:24:00.000000000",
          "2024-08-16T09:24:00.000000000",
          "2024-08-16T10:24:00.000000000",
          "2024-08-16T11:24:00.000000000",
          "2024-08-16T12:24:00.000000000",
          "2024-08-16T13:24:00.000000000",
          "2024-08-16T14:24:00.000000000",
          "2024-08-16T15:24:00.000000000",
          "2024-08-16T16:24:00.000000000",
          "2024-08-16T17:24:00.000000000",
          "2024-08-16T18:24:00.000000000",
          "2024-08-16T19:24:00.000000000",
          "2024-08-16T20:24:00.000000000",
          "2024-08-16T21:24:00.000000000",
          "2024-08-16T22:24:00.000000000",
          "2024-08-16T23:24:00.000000000",
          "2024-08-17T00:24:00.000000000",
          "2024-08-17T01:24:00.000000000",
          "2024-08-17T02:24:00.000000000",
          "2024-08-17T03:24:00.000000000",
          "2024-08-17T04:24:00.000000000",
          "2024-08-17T05:24:00.000000000",
          "2024-08-17T06:24:00.000000000",
          "2024-08-17T07:24:00.000000000",
          "2024-08-17T08:24:00.000000000",
          "2024-08-17T09:24:00.000000000",
          "2024-08-17T10:24:00.000000000",
          "2024-08-17T11:24:00.000000000",
          "2024-08-17T12:24:00.000000000",
          "2024-08-17T13:24:00.000000000",
          "2024-08-17T14:24:00.000000000",
          "2024-08-17T15:24:00.000000000",
          "2024-08-17T16:24:00.000000000",
          "2024-08-17T17:24:00.000000000",
          "2024-08-17T18:24:00.000000000",
          "2024-08-17T19:24:00.000000000",
          "2024-08-17T20:24:00.000000000",
          "2024-08-17T21:24:00.000000000",
          "2024-08-17T22:24:00.000000000",
          "2024-08-17T23:24:00.000000000",
          "2024-08-18T00:24:00.000000000",
          "2024-08-18T01:24:00.000000000",
          "2024-08-18T02:24:00.000000000",
          "2024-08-18T03:24:00.000000000",
          "2024-08-18T04:24:00.000000000",
          "2024-08-18T05:24:00.000000000",
          "2024-08-18T06:24:00.000000000",
          "2024-08-18T07:24:00.000000000",
          "2024-08-18T08:24:00.000000000",
          "2024-08-18T09:24:00.000000000",
          "2024-08-18T10:24:00.000000000",
          "2024-08-18T11:24:00.000000000",
          "2024-08-18T12:24:00.000000000",
          "2024-08-18T13:24:00.000000000",
          "2024-08-18T14:24:00.000000000",
          "2024-08-18T15:24:00.000000000",
          "2024-08-18T16:24:00.000000000",
          "2024-08-18T17:24:00.000000000",
          "2024-08-18T18:24:00.000000000",
          "2024-08-18T19:24:00.000000000",
          "2024-08-18T20:24:00.000000000",
          "2024-08-18T21:24:00.000000000",
          "2024-08-19T13:29:00.000000000",
          "2024-08-19T13:30:00.000000000",
          "2024-08-19T14:29:00.000000000",
          "2024-08-19T15:29:00.000000000",
          "2024-08-19T16:29:00.000000000",
          "2024-08-19T17:29:00.000000000",
          "2024-08-19T18:29:00.000000000",
          "2024-08-19T19:29:00.000000000",
          "2024-08-19T20:29:00.000000000",
          "2024-08-19T21:29:00.000000000",
          "2024-08-19T22:29:00.000000000",
          "2024-08-19T23:29:00.000000000",
          "2024-08-20T00:29:00.000000000",
          "2024-08-20T01:29:00.000000000",
          "2024-08-20T02:29:00.000000000",
          "2024-08-20T03:29:00.000000000",
          "2024-08-20T04:29:00.000000000",
          "2024-08-20T05:29:00.000000000",
          "2024-08-20T06:29:00.000000000",
          "2024-08-20T07:29:00.000000000",
          "2024-08-20T08:29:00.000000000",
          "2024-08-20T09:29:00.000000000",
          "2024-08-20T10:29:00.000000000",
          "2024-08-20T11:29:00.000000000",
          "2024-08-20T12:29:00.000000000",
          "2024-08-20T13:29:00.000000000",
          "2024-08-20T14:29:00.000000000",
          "2024-08-20T15:29:00.000000000",
          "2024-08-20T16:29:00.000000000",
          "2024-08-20T17:29:00.000000000",
          "2024-08-20T18:29:00.000000000",
          "2024-08-20T19:29:00.000000000",
          "2024-08-20T20:29:00.000000000",
          "2024-08-20T21:29:00.000000000",
          "2024-08-20T22:29:00.000000000",
          "2024-08-20T23:29:00.000000000",
          "2024-08-21T00:29:00.000000000",
          "2024-08-21T01:29:00.000000000",
          "2024-08-21T02:29:00.000000000",
          "2024-08-21T03:29:00.000000000",
          "2024-08-21T04:29:00.000000000",
          "2024-08-21T05:29:00.000000000",
          "2024-08-21T06:29:00.000000000",
          "2024-08-21T07:29:00.000000000",
          "2024-08-21T08:29:00.000000000",
          "2024-08-21T09:29:00.000000000",
          "2024-08-21T10:29:00.000000000",
          "2024-08-21T11:29:00.000000000",
          "2024-08-21T12:29:00.000000000",
          "2024-08-21T13:29:00.000000000",
          "2024-08-21T14:29:00.000000000",
          "2024-08-21T15:29:00.000000000",
          "2024-08-21T16:29:00.000000000",
          "2024-08-21T17:29:00.000000000",
          "2024-08-21T18:29:00.000000000",
          "2024-08-21T19:29:00.000000000",
          "2024-08-21T20:29:00.000000000",
          "2024-08-21T21:30:00.000000000",
          "2024-08-21T22:29:00.000000000",
          "2024-08-21T23:29:00.000000000",
          "2024-08-22T00:30:00.000000000",
          "2024-08-22T01:29:00.000000000",
          "2024-08-22T02:29:00.000000000",
          "2024-08-22T03:29:00.000000000",
          "2024-08-22T04:29:00.000000000",
          "2024-08-22T05:29:00.000000000",
          "2024-08-22T06:30:00.000000000",
          "2024-08-22T07:29:00.000000000",
          "2024-08-22T08:29:00.000000000",
          "2024-08-22T09:29:00.000000000",
          "2024-08-22T10:29:00.000000000",
          "2024-08-22T11:29:00.000000000",
          "2024-08-22T12:29:00.000000000",
          "2024-08-22T13:29:00.000000000",
          "2024-08-22T14:29:00.000000000",
          "2024-08-22T15:29:00.000000000",
          "2024-08-22T16:29:00.000000000",
          "2024-08-22T17:29:00.000000000",
          "2024-08-22T18:29:00.000000000",
          "2024-08-22T19:29:00.000000000",
          "2024-08-22T20:29:00.000000000",
          "2024-08-22T21:29:00.000000000",
          "2024-08-22T22:29:00.000000000",
          "2024-08-22T23:29:00.000000000",
          "2024-08-23T00:29:00.000000000",
          "2024-08-23T01:21:00.000000000",
          "2024-08-23T01:24:00.000000000",
          "2024-08-23T01:30:00.000000000",
          "2024-08-23T02:30:00.000000000",
          "2024-08-23T03:30:00.000000000",
          "2024-08-23T04:30:00.000000000",
          "2024-08-23T05:30:00.000000000",
          "2024-08-23T06:30:00.000000000",
          "2024-08-23T07:30:00.000000000",
          "2024-08-23T08:30:00.000000000",
          "2024-08-23T09:30:00.000000000",
          "2024-08-23T10:30:00.000000000",
          "2024-08-23T11:30:00.000000000",
          "2024-08-23T12:30:00.000000000",
          "2024-08-23T13:30:00.000000000",
          "2024-08-23T14:30:00.000000000",
          "2024-08-23T15:30:00.000000000",
          "2024-08-23T16:18:00.000000000",
          "2024-08-23T16:19:00.000000000",
          "2024-08-23T16:21:00.000000000",
          "2024-08-23T16:30:00.000000000",
          "2024-08-23T17:30:00.000000000",
          "2024-08-23T18:30:00.000000000",
          "2024-08-23T19:30:00.000000000",
          "2024-08-23T20:30:00.000000000",
          "2024-08-23T21:30:00.000000000",
          "2024-08-23T22:30:00.000000000",
          "2024-08-23T23:30:00.000000000",
          "2024-08-24T00:30:00.000000000",
          "2024-08-24T01:30:00.000000000",
          "2024-08-24T02:30:00.000000000",
          "2024-08-24T03:30:00.000000000",
          "2024-08-24T04:30:00.000000000",
          "2024-08-24T05:30:00.000000000",
          "2024-08-24T06:30:00.000000000",
          "2024-08-24T07:30:00.000000000",
          "2024-08-24T08:30:00.000000000",
          "2024-08-24T09:30:00.000000000",
          "2024-08-24T10:30:00.000000000",
          "2024-08-24T11:30:00.000000000",
          "2024-08-24T12:30:00.000000000",
          "2024-08-24T13:30:00.000000000",
          "2024-08-24T14:30:00.000000000",
          "2024-08-24T15:30:00.000000000",
          "2024-08-24T16:30:00.000000000",
          "2024-08-24T17:30:00.000000000",
          "2024-08-24T18:30:00.000000000",
          "2024-08-24T19:30:00.000000000",
          "2024-08-24T20:30:00.000000000",
          "2024-08-24T21:30:00.000000000",
          "2024-08-24T22:30:00.000000000",
          "2024-08-24T23:30:00.000000000",
          "2024-08-25T00:30:00.000000000",
          "2024-08-25T01:30:00.000000000",
          "2024-08-25T02:30:00.000000000",
          "2024-08-25T03:30:00.000000000",
          "2024-08-25T04:30:00.000000000",
          "2024-08-25T05:30:00.000000000",
          "2024-08-25T06:30:00.000000000",
          "2024-08-25T07:30:00.000000000",
          "2024-08-25T08:30:00.000000000",
          "2024-08-25T09:30:00.000000000",
          "2024-08-25T10:30:00.000000000",
          "2024-08-25T11:30:00.000000000",
          "2024-08-25T12:30:00.000000000",
          "2024-08-25T13:30:00.000000000",
          "2024-08-25T14:30:00.000000000",
          "2024-08-25T15:30:00.000000000",
          "2024-08-25T16:30:00.000000000",
          "2024-08-25T17:30:00.000000000",
          "2024-08-25T18:30:00.000000000",
          "2024-08-25T19:30:00.000000000",
          "2024-08-25T20:30:00.000000000",
          "2024-08-25T21:30:00.000000000",
          "2024-08-25T22:30:00.000000000",
          "2024-08-25T23:30:00.000000000",
          "2024-08-26T00:30:00.000000000",
          "2024-08-26T01:30:00.000000000",
          "2024-08-26T02:30:00.000000000",
          "2024-08-26T03:30:00.000000000",
          "2024-08-26T04:30:00.000000000",
          "2024-08-26T05:30:00.000000000",
          "2024-08-26T06:30:00.000000000",
          "2024-08-26T07:30:00.000000000",
          "2024-08-26T08:30:00.000000000",
          "2024-08-26T09:30:00.000000000",
          "2024-08-26T10:30:00.000000000",
          "2024-08-26T11:30:00.000000000",
          "2024-08-26T12:30:00.000000000",
          "2024-08-26T13:30:00.000000000",
          "2024-08-26T14:30:00.000000000",
          "2024-08-26T15:30:00.000000000",
          "2024-08-26T16:30:00.000000000",
          "2024-08-26T17:30:00.000000000",
          "2024-08-26T18:30:00.000000000",
          "2024-08-26T19:30:00.000000000",
          "2024-08-26T20:30:00.000000000",
          "2024-08-26T21:30:00.000000000",
          "2024-08-26T22:30:00.000000000",
          "2024-08-26T23:30:00.000000000",
          "2024-08-27T00:30:00.000000000",
          "2024-08-27T01:30:00.000000000",
          "2024-08-27T02:30:00.000000000",
          "2024-08-27T03:30:00.000000000",
          "2024-08-27T04:30:00.000000000",
          "2024-08-27T05:30:00.000000000",
          "2024-08-27T06:30:00.000000000",
          "2024-08-27T07:30:00.000000000",
          "2024-08-27T08:30:00.000000000",
          "2024-08-27T09:30:00.000000000",
          "2024-08-27T10:30:00.000000000",
          "2024-08-27T11:30:00.000000000",
          "2024-08-27T12:30:00.000000000",
          "2024-08-27T13:30:00.000000000",
          "2024-08-27T14:30:00.000000000",
          "2024-08-27T15:30:00.000000000",
          "2024-08-27T16:30:00.000000000",
          "2024-08-27T17:30:00.000000000",
          "2024-08-27T18:30:00.000000000",
          "2024-08-27T19:30:00.000000000",
          "2024-08-27T20:30:00.000000000",
          "2024-08-27T21:30:00.000000000",
          "2024-08-27T22:30:00.000000000",
          "2024-08-27T23:30:00.000000000",
          "2024-08-28T00:30:00.000000000",
          "2024-08-28T01:30:00.000000000",
          "2024-08-28T02:30:00.000000000",
          "2024-08-28T03:30:00.000000000",
          "2024-08-28T04:30:00.000000000",
          "2024-08-28T05:30:00.000000000",
          "2024-08-28T06:30:00.000000000",
          "2024-08-28T07:30:00.000000000",
          "2024-08-28T08:30:00.000000000",
          "2024-08-28T09:30:00.000000000",
          "2024-08-28T10:30:00.000000000",
          "2024-08-28T11:30:00.000000000",
          "2024-08-28T12:30:00.000000000",
          "2024-08-28T13:30:00.000000000",
          "2024-08-28T14:30:00.000000000",
          "2024-08-28T15:30:00.000000000",
          "2024-08-28T16:30:00.000000000",
          "2024-08-28T17:30:00.000000000",
          "2024-08-28T18:30:00.000000000",
          "2024-08-28T19:30:00.000000000",
          "2024-08-28T20:30:00.000000000",
          "2024-08-28T21:30:00.000000000",
          "2024-08-28T22:30:00.000000000",
          "2024-08-28T23:30:00.000000000",
          "2024-08-29T00:30:00.000000000",
          "2024-08-29T01:30:00.000000000",
          "2024-08-29T02:30:00.000000000",
          "2024-08-29T03:30:00.000000000",
          "2024-08-29T04:30:00.000000000",
          "2024-08-29T05:30:00.000000000",
          "2024-08-29T06:30:00.000000000",
          "2024-08-29T07:30:00.000000000",
          "2024-08-29T08:30:00.000000000",
          "2024-08-29T09:30:00.000000000",
          "2024-08-29T10:30:00.000000000",
          "2024-08-29T11:30:00.000000000",
          "2024-08-29T12:30:00.000000000",
          "2024-08-29T13:30:00.000000000",
          "2024-08-29T14:30:00.000000000",
          "2024-08-29T15:30:00.000000000",
          "2024-08-29T16:30:00.000000000",
          "2024-08-29T17:30:00.000000000",
          "2024-08-29T18:30:00.000000000",
          "2024-08-29T19:30:00.000000000",
          "2024-08-29T20:30:00.000000000",
          "2024-08-29T21:30:00.000000000",
          "2024-08-29T22:30:00.000000000",
          "2024-08-29T23:30:00.000000000",
          "2024-08-30T00:30:00.000000000",
          "2024-08-30T01:30:00.000000000",
          "2024-08-30T02:30:00.000000000",
          "2024-08-30T03:30:00.000000000",
          "2024-08-30T04:30:00.000000000",
          "2024-08-30T05:30:00.000000000",
          "2024-08-30T06:30:00.000000000",
          "2024-08-30T07:30:00.000000000",
          "2024-08-30T08:30:00.000000000",
          "2024-08-30T09:30:00.000000000",
          "2024-08-30T10:30:00.000000000",
          "2024-08-30T11:30:00.000000000",
          "2024-08-30T12:30:00.000000000",
          "2024-08-30T13:30:00.000000000",
          "2024-08-30T14:30:00.000000000",
          "2024-08-30T15:30:00.000000000",
          "2024-08-30T16:30:00.000000000",
          "2024-08-30T17:30:00.000000000",
          "2024-08-30T18:30:00.000000000",
          "2024-08-30T19:30:00.000000000",
          "2024-08-30T20:30:00.000000000",
          "2024-08-30T21:30:00.000000000",
          "2024-08-30T22:30:00.000000000",
          "2024-08-30T23:30:00.000000000",
          "2024-08-31T00:30:00.000000000",
          "2024-08-31T01:30:00.000000000",
          "2024-08-31T02:30:00.000000000",
          "2024-08-31T03:30:00.000000000",
          "2024-08-31T04:30:00.000000000",
          "2024-08-31T05:30:00.000000000",
          "2024-08-31T06:30:00.000000000",
          "2024-08-31T07:30:00.000000000",
          "2024-08-31T08:30:00.000000000",
          "2024-08-31T09:30:00.000000000",
          "2024-08-31T10:30:00.000000000",
          "2024-08-31T11:30:00.000000000",
          "2024-08-31T12:30:00.000000000",
          "2024-08-31T13:30:00.000000000",
          "2024-08-31T14:30:00.000000000",
          "2024-08-31T15:30:00.000000000",
          "2024-08-31T16:30:00.000000000",
          "2024-08-31T17:30:00.000000000",
          "2024-08-31T18:30:00.000000000",
          "2024-08-31T19:30:00.000000000",
          "2024-08-31T20:30:00.000000000",
          "2024-08-31T21:30:00.000000000",
          "2024-08-31T22:30:00.000000000",
          "2024-08-31T23:30:00.000000000",
          "2024-09-01T00:30:00.000000000",
          "2024-09-01T01:30:00.000000000",
          "2024-09-01T02:30:00.000000000",
          "2024-09-01T03:30:00.000000000",
          "2024-09-01T04:30:00.000000000",
          "2024-09-01T05:30:00.000000000",
          "2024-09-01T06:30:00.000000000",
          "2024-09-01T07:30:00.000000000",
          "2024-09-01T08:30:00.000000000",
          "2024-09-01T09:30:00.000000000",
          "2024-09-01T10:30:00.000000000",
          "2024-09-01T11:30:00.000000000",
          "2024-09-01T12:30:00.000000000",
          "2024-09-01T13:30:00.000000000",
          "2024-09-01T14:30:00.000000000",
          "2024-09-01T15:30:00.000000000",
          "2024-09-01T16:30:00.000000000",
          "2024-09-01T17:30:00.000000000",
          "2024-09-01T18:30:00.000000000",
          "2024-09-01T19:30:00.000000000",
          "2024-09-01T20:30:00.000000000",
          "2024-09-01T21:30:00.000000000",
          "2024-09-01T22:30:00.000000000",
          "2024-09-01T23:30:00.000000000",
          "2024-09-02T00:30:00.000000000",
          "2024-09-02T01:30:00.000000000",
          "2024-09-02T02:30:00.000000000",
          "2024-09-02T03:30:00.000000000",
          "2024-09-02T04:30:00.000000000",
          "2024-09-02T05:30:00.000000000",
          "2024-09-02T06:30:00.000000000",
          "2024-09-02T07:30:00.000000000",
          "2024-09-02T08:30:00.000000000",
          "2024-09-02T09:30:00.000000000",
          "2024-09-02T10:30:00.000000000",
          "2024-09-02T11:30:00.000000000",
          "2024-09-02T12:30:00.000000000",
          "2024-09-02T13:30:00.000000000"
         ],
         "y": {
          "bdata": "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",
          "dtype": "f8"
         }
        }
       ],
       "layout": {
        "legend": {
         "title": {
          "text": "Type"
         }
        },
        "template": {
         "data": {
          "bar": [
           {
            "error_x": {
             "color": "#2a3f5f"
            },
            "error_y": {
             "color": "#2a3f5f"
            },
            "marker": {
             "line": {
              "color": "white",
              "width": 0.5
             },
             "pattern": {
              "fillmode": "overlay",
              "size": 10,
              "solidity": 0.2
             }
            },
            "type": "bar"
           }
          ],
          "barpolar": [
           {
            "marker": {
             "line": {
              "color": "white",
              "width": 0.5
             },
             "pattern": {
              "fillmode": "overlay",
              "size": 10,
              "solidity": 0.2
             }
            },
            "type": "barpolar"
           }
          ],
          "carpet": [
           {
            "aaxis": {
             "endlinecolor": "#2a3f5f",
             "gridcolor": "#C8D4E3",
             "linecolor": "#C8D4E3",
             "minorgridcolor": "#C8D4E3",
             "startlinecolor": "#2a3f5f"
            },
            "baxis": {
             "endlinecolor": "#2a3f5f",
             "gridcolor": "#C8D4E3",
             "linecolor": "#C8D4E3",
             "minorgridcolor": "#C8D4E3",
             "startlinecolor": "#2a3f5f"
            },
            "type": "carpet"
           }
          ],
          "choropleth": [
           {
            "colorbar": {
             "outlinewidth": 0,
             "ticks": ""
            },
            "type": "choropleth"
           }
          ],
          "contour": [
           {
            "colorbar": {
             "outlinewidth": 0,
             "ticks": ""
            },
            "colorscale": [
             [
              0,
              "#0d0887"
             ],
             [
              0.1111111111111111,
              "#46039f"
             ],
             [
              0.2222222222222222,
              "#7201a8"
             ],
             [
              0.3333333333333333,
              "#9c179e"
             ],
             [
              0.4444444444444444,
              "#bd3786"
             ],
             [
              0.5555555555555556,
              "#d8576b"
             ],
             [
              0.6666666666666666,
              "#ed7953"
             ],
             [
              0.7777777777777778,
              "#fb9f3a"
             ],
             [
              0.8888888888888888,
              "#fdca26"
             ],
             [
              1,
              "#f0f921"
             ]
            ],
            "type": "contour"
           }
          ],
          "contourcarpet": [
           {
            "colorbar": {
             "outlinewidth": 0,
             "ticks": ""
            },
            "type": "contourcarpet"
           }
          ],
          "heatmap": [
           {
            "colorbar": {
             "outlinewidth": 0,
             "ticks": ""
            },
            "colorscale": [
             [
              0,
              "#0d0887"
             ],
             [
              0.1111111111111111,
              "#46039f"
             ],
             [
              0.2222222222222222,
              "#7201a8"
             ],
             [
              0.3333333333333333,
              "#9c179e"
             ],
             [
              0.4444444444444444,
              "#bd3786"
             ],
             [
              0.5555555555555556,
              "#d8576b"
             ],
             [
              0.6666666666666666,
              "#ed7953"
             ],
             [
              0.7777777777777778,
              "#fb9f3a"
             ],
             [
              0.8888888888888888,
              "#fdca26"
             ],
             [
              1,
              "#f0f921"
             ]
            ],
            "type": "heatmap"
           }
          ],
          "histogram": [
           {
            "marker": {
             "pattern": {
              "fillmode": "overlay",
              "size": 10,
              "solidity": 0.2
             }
            },
            "type": "histogram"
           }
          ],
          "histogram2d": [
           {
            "colorbar": {
             "outlinewidth": 0,
             "ticks": ""
            },
            "colorscale": [
             [
              0,
              "#0d0887"
             ],
             [
              0.1111111111111111,
              "#46039f"
             ],
             [
              0.2222222222222222,
              "#7201a8"
             ],
             [
              0.3333333333333333,
              "#9c179e"
             ],
             [
              0.4444444444444444,
              "#bd3786"
             ],
             [
              0.5555555555555556,
              "#d8576b"
             ],
             [
              0.6666666666666666,
              "#ed7953"
             ],
             [
              0.7777777777777778,
              "#fb9f3a"
             ],
             [
              0.8888888888888888,
              "#fdca26"
             ],
             [
              1,
              "#f0f921"
             ]
            ],
            "type": "histogram2d"
           }
          ],
          "histogram2dcontour": [
           {
            "colorbar": {
             "outlinewidth": 0,
             "ticks": ""
            },
            "colorscale": [
             [
              0,
              "#0d0887"
             ],
             [
              0.1111111111111111,
              "#46039f"
             ],
             [
              0.2222222222222222,
              "#7201a8"
             ],
             [
              0.3333333333333333,
              "#9c179e"
             ],
             [
              0.4444444444444444,
              "#bd3786"
             ],
             [
              0.5555555555555556,
              "#d8576b"
             ],
             [
              0.6666666666666666,
              "#ed7953"
             ],
             [
              0.7777777777777778,
              "#fb9f3a"
             ],
             [
              0.8888888888888888,
              "#fdca26"
             ],
             [
              1,
              "#f0f921"
             ]
            ],
            "type": "histogram2dcontour"
           }
          ],
          "mesh3d": [
           {
            "colorbar": {
             "outlinewidth": 0,
             "ticks": ""
            },
            "type": "mesh3d"
           }
          ],
          "parcoords": [
           {
            "line": {
             "colorbar": {
              "outlinewidth": 0,
              "ticks": ""
             }
            },
            "type": "parcoords"
           }
          ],
          "pie": [
           {
            "automargin": true,
            "type": "pie"
           }
          ],
          "scatter": [
           {
            "fillpattern": {
             "fillmode": "overlay",
             "size": 10,
             "solidity": 0.2
            },
            "type": "scatter"
           }
          ],
          "scatter3d": [
           {
            "line": {
             "colorbar": {
              "outlinewidth": 0,
              "ticks": ""
             }
            },
            "marker": {
             "colorbar": {
              "outlinewidth": 0,
              "ticks": ""
             }
            },
            "type": "scatter3d"
           }
          ],
          "scattercarpet": [
           {
            "marker": {
             "colorbar": {
              "outlinewidth": 0,
              "ticks": ""
             }
            },
            "type": "scattercarpet"
           }
          ],
          "scattergeo": [
           {
            "marker": {
             "colorbar": {
              "outlinewidth": 0,
              "ticks": ""
             }
            },
            "type": "scattergeo"
           }
          ],
          "scattergl": [
           {
            "marker": {
             "colorbar": {
              "outlinewidth": 0,
              "ticks": ""
             }
            },
            "type": "scattergl"
           }
          ],
          "scattermap": [
           {
            "marker": {
             "colorbar": {
              "outlinewidth": 0,
              "ticks": ""
             }
            },
            "type": "scattermap"
           }
          ],
          "scattermapbox": [
           {
            "marker": {
             "colorbar": {
              "outlinewidth": 0,
              "ticks": ""
             }
            },
            "type": "scattermapbox"
           }
          ],
          "scatterpolar": [
           {
            "marker": {
             "colorbar": {
              "outlinewidth": 0,
              "ticks": ""
             }
            },
            "type": "scatterpolar"
           }
          ],
          "scatterpolargl": [
           {
            "marker": {
             "colorbar": {
              "outlinewidth": 0,
              "ticks": ""
             }
            },
            "type": "scatterpolargl"
           }
          ],
          "scatterternary": [
           {
            "marker": {
             "colorbar": {
              "outlinewidth": 0,
              "ticks": ""
             }
            },
            "type": "scatterternary"
           }
          ],
          "surface": [
           {
            "colorbar": {
             "outlinewidth": 0,
             "ticks": ""
            },
            "colorscale": [
             [
              0,
              "#0d0887"
             ],
             [
              0.1111111111111111,
              "#46039f"
             ],
             [
              0.2222222222222222,
              "#7201a8"
             ],
             [
              0.3333333333333333,
              "#9c179e"
             ],
             [
              0.4444444444444444,
              "#bd3786"
             ],
             [
              0.5555555555555556,
              "#d8576b"
             ],
             [
              0.6666666666666666,
              "#ed7953"
             ],
             [
              0.7777777777777778,
              "#fb9f3a"
             ],
             [
              0.8888888888888888,
              "#fdca26"
             ],
             [
              1,
              "#f0f921"
             ]
            ],
            "type": "surface"
           }
          ],
          "table": [
           {
            "cells": {
             "fill": {
              "color": "#EBF0F8"
             },
             "line": {
              "color": "white"
             }
            },
            "header": {
             "fill": {
              "color": "#C8D4E3"
             },
             "line": {
              "color": "white"
             }
            },
            "type": "table"
           }
          ]
         },
         "layout": {
          "annotationdefaults": {
           "arrowcolor": "#2a3f5f",
           "arrowhead": 0,
           "arrowwidth": 1
          },
          "autotypenumbers": "strict",
          "coloraxis": {
           "colorbar": {
            "outlinewidth": 0,
            "ticks": ""
           }
          },
          "colorscale": {
           "diverging": [
            [
             0,
             "#8e0152"
            ],
            [
             0.1,
             "#c51b7d"
            ],
            [
             0.2,
             "#de77ae"
            ],
            [
             0.3,
             "#f1b6da"
            ],
            [
             0.4,
             "#fde0ef"
            ],
            [
             0.5,
             "#f7f7f7"
            ],
            [
             0.6,
             "#e6f5d0"
            ],
            [
             0.7,
             "#b8e186"
            ],
            [
             0.8,
             "#7fbc41"
            ],
            [
             0.9,
             "#4d9221"
            ],
            [
             1,
             "#276419"
            ]
           ],
           "sequential": [
            [
             0,
             "#0d0887"
            ],
            [
             0.1111111111111111,
             "#46039f"
            ],
            [
             0.2222222222222222,
             "#7201a8"
            ],
            [
             0.3333333333333333,
             "#9c179e"
            ],
            [
             0.4444444444444444,
             "#bd3786"
            ],
            [
             0.5555555555555556,
             "#d8576b"
            ],
            [
             0.6666666666666666,
             "#ed7953"
            ],
            [
             0.7777777777777778,
             "#fb9f3a"
            ],
            [
             0.8888888888888888,
             "#fdca26"
            ],
            [
             1,
             "#f0f921"
            ]
           ],
           "sequentialminus": [
            [
             0,
             "#0d0887"
            ],
            [
             0.1111111111111111,
             "#46039f"
            ],
            [
             0.2222222222222222,
             "#7201a8"
            ],
            [
             0.3333333333333333,
             "#9c179e"
            ],
            [
             0.4444444444444444,
             "#bd3786"
            ],
            [
             0.5555555555555556,
             "#d8576b"
            ],
            [
             0.6666666666666666,
             "#ed7953"
            ],
            [
             0.7777777777777778,
             "#fb9f3a"
            ],
            [
             0.8888888888888888,
             "#fdca26"
            ],
            [
             1,
             "#f0f921"
            ]
           ]
          },
          "colorway": [
           "#636efa",
           "#EF553B",
           "#00cc96",
           "#ab63fa",
           "#FFA15A",
           "#19d3f3",
           "#FF6692",
           "#B6E880",
           "#FF97FF",
           "#FECB52"
          ],
          "font": {
           "color": "#2a3f5f"
          },
          "geo": {
           "bgcolor": "white",
           "lakecolor": "white",
           "landcolor": "white",
           "showlakes": true,
           "showland": true,
           "subunitcolor": "#C8D4E3"
          },
          "hoverlabel": {
           "align": "left"
          },
          "hovermode": "closest",
          "mapbox": {
           "style": "light"
          },
          "paper_bgcolor": "white",
          "plot_bgcolor": "white",
          "polar": {
           "angularaxis": {
            "gridcolor": "#EBF0F8",
            "linecolor": "#EBF0F8",
            "ticks": ""
           },
           "bgcolor": "white",
           "radialaxis": {
            "gridcolor": "#EBF0F8",
            "linecolor": "#EBF0F8",
            "ticks": ""
           }
          },
          "scene": {
           "xaxis": {
            "backgroundcolor": "white",
            "gridcolor": "#DFE8F3",
            "gridwidth": 2,
            "linecolor": "#EBF0F8",
            "showbackground": true,
            "ticks": "",
            "zerolinecolor": "#EBF0F8"
           },
           "yaxis": {
            "backgroundcolor": "white",
            "gridcolor": "#DFE8F3",
            "gridwidth": 2,
            "linecolor": "#EBF0F8",
            "showbackground": true,
            "ticks": "",
            "zerolinecolor": "#EBF0F8"
           },
           "zaxis": {
            "backgroundcolor": "white",
            "gridcolor": "#DFE8F3",
            "gridwidth": 2,
            "linecolor": "#EBF0F8",
            "showbackground": true,
            "ticks": "",
            "zerolinecolor": "#EBF0F8"
           }
          },
          "shapedefaults": {
           "line": {
            "color": "#2a3f5f"
           }
          },
          "ternary": {
           "aaxis": {
            "gridcolor": "#DFE8F3",
            "linecolor": "#A2B1C6",
            "ticks": ""
           },
           "baxis": {
            "gridcolor": "#DFE8F3",
            "linecolor": "#A2B1C6",
            "ticks": ""
           },
           "bgcolor": "white",
           "caxis": {
            "gridcolor": "#DFE8F3",
            "linecolor": "#A2B1C6",
            "ticks": ""
           }
          },
          "title": {
           "x": 0.05
          },
          "xaxis": {
           "automargin": true,
           "gridcolor": "#EBF0F8",
           "linecolor": "#EBF0F8",
           "ticks": "",
           "title": {
            "standoff": 15
           },
           "zerolinecolor": "#EBF0F8",
           "zerolinewidth": 2
          },
          "yaxis": {
           "automargin": true,
           "gridcolor": "#EBF0F8",
           "linecolor": "#EBF0F8",
           "ticks": "",
           "title": {
            "standoff": 15
           },
           "zerolinecolor": "#EBF0F8",
           "zerolinewidth": 2
          }
         }
        },
        "title": {
         "text": "BOB/USDT"
        },
        "xaxis": {
         "title": {
          "text": "Timestamp"
         }
        },
        "yaxis": {
         "title": {
          "text": "Price"
         }
        }
       }
      }
     },
     "metadata": {},
     "output_type": "display_data"
    }
   ],
   "source": [
    "fig = go.Figure()\n",
    "fig.add_trace(go.Scatter(x=dolarbo.index, y=dolarbo['compra'], mode='lines', name='Buy', line=dict(color='blue')))\n",
    "fig.add_trace(go.Scatter(x=dolarbo.index, y=dolarbo['venta'], mode='lines', name='Sell', line=dict(color='red')))\n",
    "fig.add_trace(go.Scatter(x=hourly_minute_bid.index, y=hourly_minute_bid.values, mode='lines', name='Bid Price', line=dict(color='pink')))\n",
    "fig.add_trace(go.Scatter(x=hourly_minute_ask.index, y=hourly_minute_ask.values, mode='lines', name='Ask Price', line=dict(color='orange')))\n",
    "fig.update_layout(\n",
    "    title='BOB/USDT',\n",
    "    xaxis_title='Timestamp',\n",
    "    yaxis_title='Price',\n",
    "    legend_title='Type',\n",
    "    template='plotly_white'\n",
    ")\n",
    "\n",
    "fig.show()"
   ]
  },
  {
   "cell_type": "code",
   "execution_count": 20,
   "metadata": {},
   "outputs": [
    {
     "data": {
      "text/plain": [
       "timestamp\n",
       "2024-07-31     9.783415\n",
       "2024-08-31    10.668275\n",
       "2024-09-30    10.453263\n",
       "Freq: M, Name: price, dtype: float64"
      ]
     },
     "execution_count": 20,
     "metadata": {},
     "output_type": "execute_result"
    }
   ],
   "source": [
    "# Resample the DataFrame\n",
    "resampled_df = kaggle_df['price'].resample('M').mean()\n",
    "resampled_df"
   ]
  },
  {
   "cell_type": "code",
   "execution_count": null,
   "metadata": {},
   "outputs": [],
   "source": []
  },
  {
   "cell_type": "code",
   "execution_count": null,
   "metadata": {},
   "outputs": [],
   "source": []
  },
  {
   "cell_type": "code",
   "execution_count": null,
   "metadata": {},
   "outputs": [],
   "source": []
  },
  {
   "cell_type": "code",
   "execution_count": null,
   "metadata": {},
   "outputs": [],
   "source": []
  }
 ],
 "metadata": {
  "kernelspec": {
   "display_name": "Python 3",
   "language": "python",
   "name": "python3"
  },
  "language_info": {
   "codemirror_mode": {
    "name": "ipython",
    "version": 3
   },
   "file_extension": ".py",
   "mimetype": "text/x-python",
   "name": "python",
   "nbconvert_exporter": "python",
   "pygments_lexer": "ipython3",
   "version": "3.10.4"
  }
 },
 "nbformat": 4,
 "nbformat_minor": 2
}
